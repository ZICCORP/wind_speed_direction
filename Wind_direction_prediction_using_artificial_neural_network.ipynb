{
 "cells": [
  {
   "cell_type": "markdown",
   "id": "2869aab5",
   "metadata": {},
   "source": [
    "### import os for  operating system operations e.g., creating a folder"
   ]
  },
  {
   "cell_type": "code",
   "execution_count": 1,
   "id": "14b84b90",
   "metadata": {},
   "outputs": [],
   "source": [
    "import os"
   ]
  },
  {
   "cell_type": "markdown",
   "id": "a1387a94",
   "metadata": {},
   "source": [
    "### Tensorflow and keras are two packages for creating neural network models."
   ]
  },
  {
   "cell_type": "code",
   "execution_count": 2,
   "id": "142f9f44",
   "metadata": {},
   "outputs": [],
   "source": [
    "\n",
    "import tensorflow as tf\n",
    "from tensorflow import keras"
   ]
  },
  {
   "cell_type": "markdown",
   "id": "037b0c53",
   "metadata": {},
   "source": [
    "### For splitting our dataset into training and test set"
   ]
  },
  {
   "cell_type": "code",
   "execution_count": 3,
   "id": "fc71c4a0",
   "metadata": {},
   "outputs": [],
   "source": [
    "\n",
    "from sklearn.model_selection import train_test_split"
   ]
  },
  {
   "cell_type": "markdown",
   "id": "98d22649",
   "metadata": {},
   "source": [
    "### print tensorflow (TF) version. Make sure you have at least tensorflow 2.1.0"
   ]
  },
  {
   "cell_type": "code",
   "execution_count": 4,
   "id": "ec10543e",
   "metadata": {},
   "outputs": [
    {
     "name": "stdout",
     "output_type": "stream",
     "text": [
      "Tensorflow version: 2.5.0\n"
     ]
    }
   ],
   "source": [
    "\n",
    "print(f\"Tensorflow version: {tf.version.VERSION}\")"
   ]
  },
  {
   "cell_type": "code",
   "execution_count": 5,
   "id": "d31ecb4c",
   "metadata": {},
   "outputs": [],
   "source": [
    "import pathlib # for processing a path e.g c:\\documents\\files\\testset.csv\n",
    "import matplotlib.pyplot as plt # for plotting data and creating different charts.\n",
    "import numpy as np # for math and arrays\n",
    "import pandas as pd # data frame for the data.\n",
    "import seaborn as sns # plotting."
   ]
  },
  {
   "cell_type": "markdown",
   "id": "158856ce",
   "metadata": {},
   "source": [
    "### Read dataset"
   ]
  },
  {
   "cell_type": "code",
   "execution_count": 6,
   "id": "5237014e",
   "metadata": {},
   "outputs": [],
   "source": [
    "\n",
    "dataset = pd.read_csv('dataset.csv')"
   ]
  },
  {
   "cell_type": "markdown",
   "id": "0ef50c1b",
   "metadata": {},
   "source": [
    "### display dataset"
   ]
  },
  {
   "cell_type": "code",
   "execution_count": 7,
   "id": "912f8f08",
   "metadata": {
    "scrolled": true
   },
   "outputs": [
    {
     "data": {
      "text/html": [
       "<div>\n",
       "<style scoped>\n",
       "    .dataframe tbody tr th:only-of-type {\n",
       "        vertical-align: middle;\n",
       "    }\n",
       "\n",
       "    .dataframe tbody tr th {\n",
       "        vertical-align: top;\n",
       "    }\n",
       "\n",
       "    .dataframe thead th {\n",
       "        text-align: right;\n",
       "    }\n",
       "</style>\n",
       "<table border=\"1\" class=\"dataframe\">\n",
       "  <thead>\n",
       "    <tr style=\"text-align: right;\">\n",
       "      <th></th>\n",
       "      <th>DATE</th>\n",
       "      <th>MAXIMUM-TEMPERATURE</th>\n",
       "      <th>MINIMUM-TEMPERATURE</th>\n",
       "      <th>WIND-DIRECTION</th>\n",
       "      <th>WIND-SPEED</th>\n",
       "      <th>WIND-RUN</th>\n",
       "      <th>RELATIVE-HUMIDITY</th>\n",
       "      <th>AIR-PRESSURE</th>\n",
       "    </tr>\n",
       "  </thead>\n",
       "  <tbody>\n",
       "    <tr>\n",
       "      <th>0</th>\n",
       "      <td>JAN-16'</td>\n",
       "      <td>33.4</td>\n",
       "      <td>17.7</td>\n",
       "      <td>160</td>\n",
       "      <td>1.9</td>\n",
       "      <td>47.2</td>\n",
       "      <td>25</td>\n",
       "      <td>1005.6</td>\n",
       "    </tr>\n",
       "    <tr>\n",
       "      <th>1</th>\n",
       "      <td>FEB-16'</td>\n",
       "      <td>37.0</td>\n",
       "      <td>20.8</td>\n",
       "      <td>220</td>\n",
       "      <td>1.4</td>\n",
       "      <td>50.3</td>\n",
       "      <td>26</td>\n",
       "      <td>1005.0</td>\n",
       "    </tr>\n",
       "    <tr>\n",
       "      <th>2</th>\n",
       "      <td>MAR-16'</td>\n",
       "      <td>41.0</td>\n",
       "      <td>26.1</td>\n",
       "      <td>250</td>\n",
       "      <td>1.1</td>\n",
       "      <td>63.9</td>\n",
       "      <td>28</td>\n",
       "      <td>1003.1</td>\n",
       "    </tr>\n",
       "    <tr>\n",
       "      <th>3</th>\n",
       "      <td>APR-16'</td>\n",
       "      <td>40.7</td>\n",
       "      <td>29.0</td>\n",
       "      <td>270</td>\n",
       "      <td>2.7</td>\n",
       "      <td>32.1</td>\n",
       "      <td>52</td>\n",
       "      <td>1003.4</td>\n",
       "    </tr>\n",
       "    <tr>\n",
       "      <th>4</th>\n",
       "      <td>MAY-16'</td>\n",
       "      <td>36.7</td>\n",
       "      <td>26.8</td>\n",
       "      <td>210</td>\n",
       "      <td>2.6</td>\n",
       "      <td>66.2</td>\n",
       "      <td>75</td>\n",
       "      <td>1005.4</td>\n",
       "    </tr>\n",
       "  </tbody>\n",
       "</table>\n",
       "</div>"
      ],
      "text/plain": [
       "      DATE  MAXIMUM-TEMPERATURE  MINIMUM-TEMPERATURE  WIND-DIRECTION  \\\n",
       "0  JAN-16'                 33.4                 17.7             160   \n",
       "1  FEB-16'                 37.0                 20.8             220   \n",
       "2  MAR-16'                 41.0                 26.1             250   \n",
       "3  APR-16'                 40.7                 29.0             270   \n",
       "4  MAY-16'                 36.7                 26.8             210   \n",
       "\n",
       "   WIND-SPEED  WIND-RUN  RELATIVE-HUMIDITY  AIR-PRESSURE  \n",
       "0         1.9      47.2                 25        1005.6  \n",
       "1         1.4      50.3                 26        1005.0  \n",
       "2         1.1      63.9                 28        1003.1  \n",
       "3         2.7      32.1                 52        1003.4  \n",
       "4         2.6      66.2                 75        1005.4  "
      ]
     },
     "execution_count": 7,
     "metadata": {},
     "output_type": "execute_result"
    }
   ],
   "source": [
    "true_values = dataset['WIND-DIRECTION']\n",
    "dataset.head()"
   ]
  },
  {
   "cell_type": "markdown",
   "id": "653dc3f5",
   "metadata": {},
   "source": [
    "### dataset characteristics"
   ]
  },
  {
   "cell_type": "code",
   "execution_count": 8,
   "id": "9259209e",
   "metadata": {
    "scrolled": true
   },
   "outputs": [
    {
     "data": {
      "text/html": [
       "<div>\n",
       "<style scoped>\n",
       "    .dataframe tbody tr th:only-of-type {\n",
       "        vertical-align: middle;\n",
       "    }\n",
       "\n",
       "    .dataframe tbody tr th {\n",
       "        vertical-align: top;\n",
       "    }\n",
       "\n",
       "    .dataframe thead th {\n",
       "        text-align: right;\n",
       "    }\n",
       "</style>\n",
       "<table border=\"1\" class=\"dataframe\">\n",
       "  <thead>\n",
       "    <tr style=\"text-align: right;\">\n",
       "      <th></th>\n",
       "      <th>MAXIMUM-TEMPERATURE</th>\n",
       "      <th>MINIMUM-TEMPERATURE</th>\n",
       "      <th>WIND-DIRECTION</th>\n",
       "      <th>WIND-SPEED</th>\n",
       "      <th>WIND-RUN</th>\n",
       "      <th>RELATIVE-HUMIDITY</th>\n",
       "      <th>AIR-PRESSURE</th>\n",
       "    </tr>\n",
       "  </thead>\n",
       "  <tbody>\n",
       "    <tr>\n",
       "      <th>count</th>\n",
       "      <td>66.000000</td>\n",
       "      <td>66.000000</td>\n",
       "      <td>66.000000</td>\n",
       "      <td>66.000000</td>\n",
       "      <td>66.000000</td>\n",
       "      <td>66.000000</td>\n",
       "      <td>66.000000</td>\n",
       "    </tr>\n",
       "    <tr>\n",
       "      <th>mean</th>\n",
       "      <td>34.803030</td>\n",
       "      <td>23.318182</td>\n",
       "      <td>185.454545</td>\n",
       "      <td>2.121212</td>\n",
       "      <td>48.207576</td>\n",
       "      <td>51.257576</td>\n",
       "      <td>1006.287879</td>\n",
       "    </tr>\n",
       "    <tr>\n",
       "      <th>std</th>\n",
       "      <td>3.308449</td>\n",
       "      <td>3.230523</td>\n",
       "      <td>56.546287</td>\n",
       "      <td>0.793728</td>\n",
       "      <td>16.390328</td>\n",
       "      <td>22.489184</td>\n",
       "      <td>2.018111</td>\n",
       "    </tr>\n",
       "    <tr>\n",
       "      <th>min</th>\n",
       "      <td>28.500000</td>\n",
       "      <td>13.900000</td>\n",
       "      <td>60.000000</td>\n",
       "      <td>0.800000</td>\n",
       "      <td>18.900000</td>\n",
       "      <td>11.000000</td>\n",
       "      <td>1002.300000</td>\n",
       "    </tr>\n",
       "    <tr>\n",
       "      <th>25%</th>\n",
       "      <td>31.800000</td>\n",
       "      <td>20.875000</td>\n",
       "      <td>150.000000</td>\n",
       "      <td>1.525000</td>\n",
       "      <td>33.300000</td>\n",
       "      <td>29.250000</td>\n",
       "      <td>1005.325000</td>\n",
       "    </tr>\n",
       "    <tr>\n",
       "      <th>50%</th>\n",
       "      <td>34.350000</td>\n",
       "      <td>24.000000</td>\n",
       "      <td>190.000000</td>\n",
       "      <td>2.000000</td>\n",
       "      <td>47.600000</td>\n",
       "      <td>53.500000</td>\n",
       "      <td>1006.550000</td>\n",
       "    </tr>\n",
       "    <tr>\n",
       "      <th>75%</th>\n",
       "      <td>36.975000</td>\n",
       "      <td>25.300000</td>\n",
       "      <td>240.000000</td>\n",
       "      <td>2.600000</td>\n",
       "      <td>61.350000</td>\n",
       "      <td>71.750000</td>\n",
       "      <td>1007.975000</td>\n",
       "    </tr>\n",
       "    <tr>\n",
       "      <th>max</th>\n",
       "      <td>41.100000</td>\n",
       "      <td>29.400000</td>\n",
       "      <td>270.000000</td>\n",
       "      <td>4.600000</td>\n",
       "      <td>98.300000</td>\n",
       "      <td>82.000000</td>\n",
       "      <td>1010.000000</td>\n",
       "    </tr>\n",
       "  </tbody>\n",
       "</table>\n",
       "</div>"
      ],
      "text/plain": [
       "       MAXIMUM-TEMPERATURE  MINIMUM-TEMPERATURE  WIND-DIRECTION  WIND-SPEED  \\\n",
       "count            66.000000            66.000000       66.000000   66.000000   \n",
       "mean             34.803030            23.318182      185.454545    2.121212   \n",
       "std               3.308449             3.230523       56.546287    0.793728   \n",
       "min              28.500000            13.900000       60.000000    0.800000   \n",
       "25%              31.800000            20.875000      150.000000    1.525000   \n",
       "50%              34.350000            24.000000      190.000000    2.000000   \n",
       "75%              36.975000            25.300000      240.000000    2.600000   \n",
       "max              41.100000            29.400000      270.000000    4.600000   \n",
       "\n",
       "        WIND-RUN  RELATIVE-HUMIDITY  AIR-PRESSURE  \n",
       "count  66.000000          66.000000     66.000000  \n",
       "mean   48.207576          51.257576   1006.287879  \n",
       "std    16.390328          22.489184      2.018111  \n",
       "min    18.900000          11.000000   1002.300000  \n",
       "25%    33.300000          29.250000   1005.325000  \n",
       "50%    47.600000          53.500000   1006.550000  \n",
       "75%    61.350000          71.750000   1007.975000  \n",
       "max    98.300000          82.000000   1010.000000  "
      ]
     },
     "execution_count": 8,
     "metadata": {},
     "output_type": "execute_result"
    }
   ],
   "source": [
    "\n",
    "dataset.describe()"
   ]
  },
  {
   "cell_type": "markdown",
   "id": "08ce4100",
   "metadata": {},
   "source": [
    "### Check for null and NaN values"
   ]
  },
  {
   "cell_type": "code",
   "execution_count": 9,
   "id": "24bba101",
   "metadata": {},
   "outputs": [
    {
     "data": {
      "text/plain": [
       "DATE                   0\n",
       "MAXIMUM-TEMPERATURE    0\n",
       "MINIMUM-TEMPERATURE    0\n",
       "WIND-DIRECTION         0\n",
       "WIND-SPEED             0\n",
       "WIND-RUN               0\n",
       "RELATIVE-HUMIDITY      0\n",
       "AIR-PRESSURE           0\n",
       "dtype: int64"
      ]
     },
     "execution_count": 9,
     "metadata": {},
     "output_type": "execute_result"
    }
   ],
   "source": [
    "\n",
    "dataset.isna().sum()"
   ]
  },
  {
   "cell_type": "markdown",
   "id": "27a01151",
   "metadata": {},
   "source": [
    "### copy dataset"
   ]
  },
  {
   "cell_type": "code",
   "execution_count": 10,
   "id": "54259a0e",
   "metadata": {},
   "outputs": [],
   "source": [
    "\n",
    "df = dataset[:]"
   ]
  },
  {
   "cell_type": "markdown",
   "id": "6de953ce",
   "metadata": {},
   "source": [
    "### remove the date column"
   ]
  },
  {
   "cell_type": "code",
   "execution_count": 11,
   "id": "f8fb6f78",
   "metadata": {},
   "outputs": [],
   "source": [
    "\n",
    "del df['DATE']"
   ]
  },
  {
   "cell_type": "code",
   "execution_count": 12,
   "id": "c34b6014",
   "metadata": {},
   "outputs": [
    {
     "data": {
      "text/html": [
       "<div>\n",
       "<style scoped>\n",
       "    .dataframe tbody tr th:only-of-type {\n",
       "        vertical-align: middle;\n",
       "    }\n",
       "\n",
       "    .dataframe tbody tr th {\n",
       "        vertical-align: top;\n",
       "    }\n",
       "\n",
       "    .dataframe thead th {\n",
       "        text-align: right;\n",
       "    }\n",
       "</style>\n",
       "<table border=\"1\" class=\"dataframe\">\n",
       "  <thead>\n",
       "    <tr style=\"text-align: right;\">\n",
       "      <th></th>\n",
       "      <th>MAXIMUM-TEMPERATURE</th>\n",
       "      <th>MINIMUM-TEMPERATURE</th>\n",
       "      <th>WIND-DIRECTION</th>\n",
       "      <th>WIND-SPEED</th>\n",
       "      <th>WIND-RUN</th>\n",
       "      <th>RELATIVE-HUMIDITY</th>\n",
       "      <th>AIR-PRESSURE</th>\n",
       "    </tr>\n",
       "  </thead>\n",
       "  <tbody>\n",
       "    <tr>\n",
       "      <th>0</th>\n",
       "      <td>33.4</td>\n",
       "      <td>17.7</td>\n",
       "      <td>160</td>\n",
       "      <td>1.9</td>\n",
       "      <td>47.2</td>\n",
       "      <td>25</td>\n",
       "      <td>1005.6</td>\n",
       "    </tr>\n",
       "    <tr>\n",
       "      <th>1</th>\n",
       "      <td>37.0</td>\n",
       "      <td>20.8</td>\n",
       "      <td>220</td>\n",
       "      <td>1.4</td>\n",
       "      <td>50.3</td>\n",
       "      <td>26</td>\n",
       "      <td>1005.0</td>\n",
       "    </tr>\n",
       "    <tr>\n",
       "      <th>2</th>\n",
       "      <td>41.0</td>\n",
       "      <td>26.1</td>\n",
       "      <td>250</td>\n",
       "      <td>1.1</td>\n",
       "      <td>63.9</td>\n",
       "      <td>28</td>\n",
       "      <td>1003.1</td>\n",
       "    </tr>\n",
       "    <tr>\n",
       "      <th>3</th>\n",
       "      <td>40.7</td>\n",
       "      <td>29.0</td>\n",
       "      <td>270</td>\n",
       "      <td>2.7</td>\n",
       "      <td>32.1</td>\n",
       "      <td>52</td>\n",
       "      <td>1003.4</td>\n",
       "    </tr>\n",
       "    <tr>\n",
       "      <th>4</th>\n",
       "      <td>36.7</td>\n",
       "      <td>26.8</td>\n",
       "      <td>210</td>\n",
       "      <td>2.6</td>\n",
       "      <td>66.2</td>\n",
       "      <td>75</td>\n",
       "      <td>1005.4</td>\n",
       "    </tr>\n",
       "    <tr>\n",
       "      <th>...</th>\n",
       "      <td>...</td>\n",
       "      <td>...</td>\n",
       "      <td>...</td>\n",
       "      <td>...</td>\n",
       "      <td>...</td>\n",
       "      <td>...</td>\n",
       "      <td>...</td>\n",
       "    </tr>\n",
       "    <tr>\n",
       "      <th>61</th>\n",
       "      <td>36.0</td>\n",
       "      <td>22.4</td>\n",
       "      <td>170</td>\n",
       "      <td>3.4</td>\n",
       "      <td>63.7</td>\n",
       "      <td>26</td>\n",
       "      <td>1006.9</td>\n",
       "    </tr>\n",
       "    <tr>\n",
       "      <th>62</th>\n",
       "      <td>39.7</td>\n",
       "      <td>26.1</td>\n",
       "      <td>220</td>\n",
       "      <td>2.1</td>\n",
       "      <td>73.7</td>\n",
       "      <td>35</td>\n",
       "      <td>1005.6</td>\n",
       "    </tr>\n",
       "    <tr>\n",
       "      <th>63</th>\n",
       "      <td>39.7</td>\n",
       "      <td>28.8</td>\n",
       "      <td>200</td>\n",
       "      <td>4.6</td>\n",
       "      <td>84.2</td>\n",
       "      <td>65</td>\n",
       "      <td>1002.6</td>\n",
       "    </tr>\n",
       "    <tr>\n",
       "      <th>64</th>\n",
       "      <td>35.6</td>\n",
       "      <td>25.3</td>\n",
       "      <td>130</td>\n",
       "      <td>2.6</td>\n",
       "      <td>98.3</td>\n",
       "      <td>75</td>\n",
       "      <td>1005.4</td>\n",
       "    </tr>\n",
       "    <tr>\n",
       "      <th>65</th>\n",
       "      <td>32.8</td>\n",
       "      <td>23.8</td>\n",
       "      <td>160</td>\n",
       "      <td>3.6</td>\n",
       "      <td>18.9</td>\n",
       "      <td>77</td>\n",
       "      <td>1007.6</td>\n",
       "    </tr>\n",
       "  </tbody>\n",
       "</table>\n",
       "<p>66 rows × 7 columns</p>\n",
       "</div>"
      ],
      "text/plain": [
       "    MAXIMUM-TEMPERATURE  MINIMUM-TEMPERATURE  WIND-DIRECTION  WIND-SPEED  \\\n",
       "0                  33.4                 17.7             160         1.9   \n",
       "1                  37.0                 20.8             220         1.4   \n",
       "2                  41.0                 26.1             250         1.1   \n",
       "3                  40.7                 29.0             270         2.7   \n",
       "4                  36.7                 26.8             210         2.6   \n",
       "..                  ...                  ...             ...         ...   \n",
       "61                 36.0                 22.4             170         3.4   \n",
       "62                 39.7                 26.1             220         2.1   \n",
       "63                 39.7                 28.8             200         4.6   \n",
       "64                 35.6                 25.3             130         2.6   \n",
       "65                 32.8                 23.8             160         3.6   \n",
       "\n",
       "    WIND-RUN  RELATIVE-HUMIDITY  AIR-PRESSURE  \n",
       "0       47.2                 25        1005.6  \n",
       "1       50.3                 26        1005.0  \n",
       "2       63.9                 28        1003.1  \n",
       "3       32.1                 52        1003.4  \n",
       "4       66.2                 75        1005.4  \n",
       "..       ...                ...           ...  \n",
       "61      63.7                 26        1006.9  \n",
       "62      73.7                 35        1005.6  \n",
       "63      84.2                 65        1002.6  \n",
       "64      98.3                 75        1005.4  \n",
       "65      18.9                 77        1007.6  \n",
       "\n",
       "[66 rows x 7 columns]"
      ]
     },
     "execution_count": 12,
     "metadata": {},
     "output_type": "execute_result"
    }
   ],
   "source": [
    "df"
   ]
  },
  {
   "cell_type": "code",
   "execution_count": 13,
   "id": "40a1385f",
   "metadata": {},
   "outputs": [
    {
     "name": "stdout",
     "output_type": "stream",
     "text": [
      "Number of rows/example and columns in the dataset: (66, 7)\n"
     ]
    }
   ],
   "source": [
    "print(f'Number of rows/example and columns in the dataset: {df.shape}')"
   ]
  },
  {
   "cell_type": "markdown",
   "id": "d39cd5d8",
   "metadata": {},
   "source": [
    "### Summary of information on the dataset."
   ]
  },
  {
   "cell_type": "code",
   "execution_count": 14,
   "id": "c577548b",
   "metadata": {},
   "outputs": [
    {
     "name": "stdout",
     "output_type": "stream",
     "text": [
      "<class 'pandas.core.frame.DataFrame'>\n",
      "RangeIndex: 66 entries, 0 to 65\n",
      "Data columns (total 7 columns):\n",
      " #   Column               Non-Null Count  Dtype  \n",
      "---  ------               --------------  -----  \n",
      " 0   MAXIMUM-TEMPERATURE  66 non-null     float64\n",
      " 1   MINIMUM-TEMPERATURE  66 non-null     float64\n",
      " 2   WIND-DIRECTION       66 non-null     int64  \n",
      " 3   WIND-SPEED           66 non-null     float64\n",
      " 4   WIND-RUN             66 non-null     float64\n",
      " 5   RELATIVE-HUMIDITY    66 non-null     int64  \n",
      " 6   AIR-PRESSURE         66 non-null     float64\n",
      "dtypes: float64(5), int64(2)\n",
      "memory usage: 3.7 KB\n"
     ]
    }
   ],
   "source": [
    "\n",
    "df.info()"
   ]
  },
  {
   "cell_type": "markdown",
   "id": "11194c45",
   "metadata": {},
   "source": [
    "### Split the data into train/test splits"
   ]
  },
  {
   "cell_type": "markdown",
   "id": "339fc7fa",
   "metadata": {},
   "source": [
    "#### Split the data into 60% train and 40% test (later will divide the test to test and validate)"
   ]
  },
  {
   "cell_type": "code",
   "execution_count": 15,
   "id": "46825662",
   "metadata": {},
   "outputs": [
    {
     "name": "stdout",
     "output_type": "stream",
     "text": [
      "(39, 7)\n",
      "(27, 7)\n"
     ]
    }
   ],
   "source": [
    "\n",
    "train_dataset, temp_test_dataset = train_test_split(df, test_size=0.4)\n",
    "\n",
    "print( train_dataset.shape)\n",
    "print( temp_test_dataset.shape)"
   ]
  },
  {
   "cell_type": "markdown",
   "id": "c4de9fc9",
   "metadata": {},
   "source": [
    "### Split the test_dataset dataframe to 50% test and 50% validation."
   ]
  },
  {
   "cell_type": "code",
   "execution_count": 16,
   "id": "1da13eb0",
   "metadata": {},
   "outputs": [
    {
     "name": "stdout",
     "output_type": "stream",
     "text": [
      "(13, 7)\n",
      "(14, 7)\n"
     ]
    }
   ],
   "source": [
    "\n",
    "test_dataset, valid_dataset = train_test_split(temp_test_dataset, test_size=0.5)\n",
    "print(test_dataset.shape)\n",
    "print(valid_dataset.shape)"
   ]
  },
  {
   "cell_type": "code",
   "execution_count": 17,
   "id": "7c5a2b6d",
   "metadata": {},
   "outputs": [
    {
     "name": "stdout",
     "output_type": "stream",
     "text": [
      "Display the datatype of the test_dataset: <class 'pandas.core.frame.DataFrame'>\n",
      "Train dataset      : (39, 7)\n",
      "Test dataset       : (13, 7)\n",
      "Validation dataset : (14, 7)\n"
     ]
    }
   ],
   "source": [
    "print(f\"Display the datatype of the test_dataset: {type(test_dataset)}\")\n",
    "print(f\"Train dataset      : {train_dataset.shape}\")\n",
    "print(f\"Test dataset       : {test_dataset.shape}\")\n",
    "print(f\"Validation dataset : {valid_dataset.shape}\")"
   ]
  },
  {
   "cell_type": "markdown",
   "id": "7ea98bc3",
   "metadata": {},
   "source": [
    "## Plot the relationship between each two variables to spot anything incorrect."
   ]
  },
  {
   "cell_type": "code",
   "execution_count": 18,
   "id": "08975b87",
   "metadata": {},
   "outputs": [
    {
     "data": {
      "text/plain": [
       "<seaborn.axisgrid.PairGrid at 0x2d7f5ff1a90>"
      ]
     },
     "execution_count": 18,
     "metadata": {},
     "output_type": "execute_result"
    },
    {
     "data": {
      "image/png": "[encoded data removed]",
      "text/plain": [
       "<Figure size 1080x1080 with 42 Axes>"
      ]
     },
     "metadata": {
      "needs_background": "light"
     },
     "output_type": "display_data"
    }
   ],
   "source": [
    "\n",
    "train_stats = train_dataset.describe()\n",
    "train_stats.pop(\"WIND-DIRECTION\")\n",
    "sns.pairplot(train_stats[train_stats.columns], diag_kind=\"kde\") # or diag_kind='reg'"
   ]
  },
  {
   "cell_type": "markdown",
   "id": "d2403de2",
   "metadata": {},
   "source": [
    "### Statistics on the train dataset to make sure it in a good shape"
   ]
  },
  {
   "cell_type": "code",
   "execution_count": 19,
   "id": "4fd48f24",
   "metadata": {},
   "outputs": [
    {
     "data": {
      "text/plain": [
       "count     39.000000\n",
       "mean     188.974359\n",
       "std       56.419242\n",
       "min       80.000000\n",
       "25%      150.000000\n",
       "50%      190.000000\n",
       "75%      240.000000\n",
       "max      270.000000\n",
       "Name: WIND-DIRECTION, dtype: float64"
      ]
     },
     "execution_count": 19,
     "metadata": {},
     "output_type": "execute_result"
    }
   ],
   "source": [
    "\n",
    "train_stats = train_dataset.describe()\n",
    "wind_direction=train_stats.pop(\"WIND-DIRECTION\")\n",
    "train_stats = train_stats.transpose()\n",
    "#train_stats\n",
    "wind_direction"
   ]
  },
  {
   "cell_type": "markdown",
   "id": "96bdbcc9",
   "metadata": {},
   "source": [
    "## The label is \"WIND-DIRECTION\""
   ]
  },
  {
   "cell_type": "code",
   "execution_count": 20,
   "id": "172a0253",
   "metadata": {},
   "outputs": [],
   "source": [
    "train_labels = train_dataset.pop('WIND-DIRECTION')\n",
    "test_labels = test_dataset.pop('WIND-DIRECTION')\n",
    "valid_labels = valid_dataset.pop('WIND-DIRECTION')"
   ]
  },
  {
   "cell_type": "markdown",
   "id": "8f526c2f",
   "metadata": {},
   "source": [
    "## Data Normalization/Scaling"
   ]
  },
  {
   "cell_type": "markdown",
   "id": "4b90d77e",
   "metadata": {},
   "source": [
    "## Subtract the mean of the training data and divide by the standard deviation"
   ]
  },
  {
   "cell_type": "markdown",
   "id": "d1f7c8cc",
   "metadata": {},
   "source": [
    "### define a function to normalize the data set."
   ]
  },
  {
   "cell_type": "code",
   "execution_count": 21,
   "id": "5c2999c8",
   "metadata": {},
   "outputs": [],
   "source": [
    "\n",
    "def norm(x):\n",
    "    return (x - train_stats['mean'] / train_stats['std'])\n",
    "normed_train_data = norm(train_dataset)\n",
    "normed_test_data = norm(test_dataset)\n",
    "normed_valid_dataset = norm(valid_dataset)"
   ]
  },
  {
   "cell_type": "code",
   "execution_count": 22,
   "id": "99197d5f",
   "metadata": {},
   "outputs": [
    {
     "name": "stdout",
     "output_type": "stream",
     "text": [
      "Train/Test/Validate splits: \n",
      "Train       : (39, 6) \n",
      "Test        : (13, 6) \n",
      "Validate    : (14, 6) \n",
      "Train/Test/Validate labels: \n",
      "Train Labels : (39,)\n",
      "Test Labels  : (13,)\n",
      "Test Labels  : (14,)\n"
     ]
    }
   ],
   "source": [
    "print(f'Train/Test/Validate splits: ')\n",
    "print(f'Train       : {normed_train_data.shape} ')\n",
    "print(f'Test        : {normed_test_data.shape} ')\n",
    "print(f'Validate    : {normed_valid_dataset.shape} ')\n",
    "\n",
    "print(f'Train/Test/Validate labels: ')\n",
    "print(f'Train Labels : {train_labels.shape}')\n",
    "print(f'Test Labels  : {test_labels.shape}')\n",
    "print(f'Test Labels  : {valid_labels.shape}')"
   ]
  },
  {
   "cell_type": "markdown",
   "id": "4ac918f4",
   "metadata": {},
   "source": [
    "## show a sample of the data after normalized"
   ]
  },
  {
   "cell_type": "code",
   "execution_count": 23,
   "id": "6762edde",
   "metadata": {},
   "outputs": [
    {
     "data": {
      "text/html": [
       "<div>\n",
       "<style scoped>\n",
       "    .dataframe tbody tr th:only-of-type {\n",
       "        vertical-align: middle;\n",
       "    }\n",
       "\n",
       "    .dataframe tbody tr th {\n",
       "        vertical-align: top;\n",
       "    }\n",
       "\n",
       "    .dataframe thead th {\n",
       "        text-align: right;\n",
       "    }\n",
       "</style>\n",
       "<table border=\"1\" class=\"dataframe\">\n",
       "  <thead>\n",
       "    <tr style=\"text-align: right;\">\n",
       "      <th></th>\n",
       "      <th>MAXIMUM-TEMPERATURE</th>\n",
       "      <th>MINIMUM-TEMPERATURE</th>\n",
       "      <th>WIND-SPEED</th>\n",
       "      <th>WIND-RUN</th>\n",
       "      <th>RELATIVE-HUMIDITY</th>\n",
       "      <th>AIR-PRESSURE</th>\n",
       "    </tr>\n",
       "  </thead>\n",
       "  <tbody>\n",
       "    <tr>\n",
       "      <th>37</th>\n",
       "      <td>21.360332</td>\n",
       "      <td>15.221</td>\n",
       "      <td>0.428292</td>\n",
       "      <td>33.103607</td>\n",
       "      <td>8.835129</td>\n",
       "      <td>520.278275</td>\n",
       "    </tr>\n",
       "    <tr>\n",
       "      <th>33</th>\n",
       "      <td>24.960332</td>\n",
       "      <td>17.621</td>\n",
       "      <td>-1.271708</td>\n",
       "      <td>34.903607</td>\n",
       "      <td>67.835129</td>\n",
       "      <td>521.178275</td>\n",
       "    </tr>\n",
       "    <tr>\n",
       "      <th>65</th>\n",
       "      <td>22.560332</td>\n",
       "      <td>16.621</td>\n",
       "      <td>0.828292</td>\n",
       "      <td>15.703607</td>\n",
       "      <td>74.835129</td>\n",
       "      <td>522.278275</td>\n",
       "    </tr>\n",
       "    <tr>\n",
       "      <th>47</th>\n",
       "      <td>19.760332</td>\n",
       "      <td>6.721</td>\n",
       "      <td>0.228292</td>\n",
       "      <td>59.703607</td>\n",
       "      <td>15.835129</td>\n",
       "      <td>521.578275</td>\n",
       "    </tr>\n",
       "    <tr>\n",
       "      <th>30</th>\n",
       "      <td>22.260332</td>\n",
       "      <td>16.921</td>\n",
       "      <td>-0.971708</td>\n",
       "      <td>24.103607</td>\n",
       "      <td>74.835129</td>\n",
       "      <td>524.378275</td>\n",
       "    </tr>\n",
       "    <tr>\n",
       "      <th>25</th>\n",
       "      <td>28.860332</td>\n",
       "      <td>17.021</td>\n",
       "      <td>0.228292</td>\n",
       "      <td>32.403607</td>\n",
       "      <td>18.835129</td>\n",
       "      <td>518.778275</td>\n",
       "    </tr>\n",
       "    <tr>\n",
       "      <th>54</th>\n",
       "      <td>21.260332</td>\n",
       "      <td>17.021</td>\n",
       "      <td>-0.871708</td>\n",
       "      <td>43.203607</td>\n",
       "      <td>76.835129</td>\n",
       "      <td>524.678275</td>\n",
       "    </tr>\n",
       "    <tr>\n",
       "      <th>17</th>\n",
       "      <td>22.860332</td>\n",
       "      <td>17.921</td>\n",
       "      <td>-0.171708</td>\n",
       "      <td>63.103607</td>\n",
       "      <td>68.835129</td>\n",
       "      <td>521.378275</td>\n",
       "    </tr>\n",
       "    <tr>\n",
       "      <th>15</th>\n",
       "      <td>29.760332</td>\n",
       "      <td>21.321</td>\n",
       "      <td>-0.271708</td>\n",
       "      <td>65.603607</td>\n",
       "      <td>45.835129</td>\n",
       "      <td>517.378275</td>\n",
       "    </tr>\n",
       "    <tr>\n",
       "      <th>1</th>\n",
       "      <td>26.760332</td>\n",
       "      <td>13.621</td>\n",
       "      <td>-1.371708</td>\n",
       "      <td>47.103607</td>\n",
       "      <td>23.835129</td>\n",
       "      <td>519.678275</td>\n",
       "    </tr>\n",
       "  </tbody>\n",
       "</table>\n",
       "</div>"
      ],
      "text/plain": [
       "    MAXIMUM-TEMPERATURE  MINIMUM-TEMPERATURE  WIND-SPEED   WIND-RUN  \\\n",
       "37            21.360332               15.221    0.428292  33.103607   \n",
       "33            24.960332               17.621   -1.271708  34.903607   \n",
       "65            22.560332               16.621    0.828292  15.703607   \n",
       "47            19.760332                6.721    0.228292  59.703607   \n",
       "30            22.260332               16.921   -0.971708  24.103607   \n",
       "25            28.860332               17.021    0.228292  32.403607   \n",
       "54            21.260332               17.021   -0.871708  43.203607   \n",
       "17            22.860332               17.921   -0.171708  63.103607   \n",
       "15            29.760332               21.321   -0.271708  65.603607   \n",
       "1             26.760332               13.621   -1.371708  47.103607   \n",
       "\n",
       "    RELATIVE-HUMIDITY  AIR-PRESSURE  \n",
       "37           8.835129    520.278275  \n",
       "33          67.835129    521.178275  \n",
       "65          74.835129    522.278275  \n",
       "47          15.835129    521.578275  \n",
       "30          74.835129    524.378275  \n",
       "25          18.835129    518.778275  \n",
       "54          76.835129    524.678275  \n",
       "17          68.835129    521.378275  \n",
       "15          45.835129    517.378275  \n",
       "1           23.835129    519.678275  "
      ]
     },
     "execution_count": 23,
     "metadata": {},
     "output_type": "execute_result"
    }
   ],
   "source": [
    "\n",
    "normed_train_data.head(10)"
   ]
  },
  {
   "cell_type": "markdown",
   "id": "1c04c32b",
   "metadata": {},
   "source": [
    "## Build a Neural Network Model"
   ]
  },
  {
   "cell_type": "markdown",
   "id": "79302009",
   "metadata": {},
   "source": [
    "### We declared a function for creating a model."
   ]
  },
  {
   "cell_type": "code",
   "execution_count": 24,
   "id": "3674e846",
   "metadata": {},
   "outputs": [],
   "source": [
    "\n",
    "\n",
    "def model1_single_layer_perceptron():\n",
    "    model = keras.Sequential([\n",
    "       keras.layers.Dense(1,input_shape=(6,)) \n",
    "    ])\n",
    "    model.compile(\n",
    "    optimizer='adam',\n",
    "    loss='mse',\n",
    "    metrics=['mae','mse','mape'])\n",
    "    \n",
    "    return model\n",
    "    \n",
    "        "
   ]
  },
  {
   "cell_type": "code",
   "execution_count": 25,
   "id": "f93294ab",
   "metadata": {},
   "outputs": [
    {
     "name": "stdout",
     "output_type": "stream",
     "text": [
      "Here is a summary of this model: \n",
      "Model: \"sequential\"\n",
      "_________________________________________________________________\n",
      "Layer (type)                 Output Shape              Param #   \n",
      "=================================================================\n",
      "dense (Dense)                (None, 1)                 7         \n",
      "=================================================================\n",
      "Total params: 7\n",
      "Trainable params: 7\n",
      "Non-trainable params: 0\n",
      "_________________________________________________________________\n"
     ]
    }
   ],
   "source": [
    "model1 = model1_single_layer_perceptron()\n",
    "print('Here is a summary of this model: ')\n",
    "model1.summary()"
   ]
  },
  {
   "cell_type": "markdown",
   "id": "a6a74daa",
   "metadata": {},
   "source": [
    "## import NN and other components."
   ]
  },
  {
   "cell_type": "code",
   "execution_count": 26,
   "id": "885e59da",
   "metadata": {},
   "outputs": [],
   "source": [
    "\n",
    "from tensorflow.keras.models import Sequential\n",
    "from tensorflow.keras.layers import Activation,Dense,BatchNormalization,Dropout\n",
    "from tensorflow.keras import optimizers"
   ]
  },
  {
   "cell_type": "code",
   "execution_count": 27,
   "id": "784ae5b1",
   "metadata": {},
   "outputs": [],
   "source": [
    "def model2_multilayer_perceptron_with_one_hidden_layer():\n",
    "      model = Sequential()\n",
    "     # The model so far is empty. It can be constructed by adding layers and compilation.\n",
    "     # This Keras model with a single hidden layers.\n",
    "        \n",
    "     # Input Layer with 10 Neurons\n",
    "      model.add(Dense(10, input_shape =(normed_train_data.shape[1],)))\n",
    " \n",
    "      model.add(Dense(35, Activation('relu'))) # Hidden layer 1\n",
    "\n",
    "      model.add(Dense(1))  # Output layer => output dimension = 1\n",
    "    \n",
    "      learning_rate = 0.001\n",
    "    \n",
    "      optimizer = optimizers.RMSprop(learning_rate)\n",
    "  \n",
    "      model.compile(loss='mse',optimizer=optimizer, metrics=['mae','mse','mape']) \n",
    "      return model\n"
   ]
  },
  {
   "cell_type": "code",
   "execution_count": 28,
   "id": "f5f0ff51",
   "metadata": {},
   "outputs": [
    {
     "name": "stdout",
     "output_type": "stream",
     "text": [
      "Here is a summary of this model: \n",
      "Model: \"sequential_1\"\n",
      "_________________________________________________________________\n",
      "Layer (type)                 Output Shape              Param #   \n",
      "=================================================================\n",
      "dense_1 (Dense)              (None, 10)                70        \n",
      "_________________________________________________________________\n",
      "dense_2 (Dense)              (None, 35)                385       \n",
      "_________________________________________________________________\n",
      "dense_3 (Dense)              (None, 1)                 36        \n",
      "=================================================================\n",
      "Total params: 491\n",
      "Trainable params: 491\n",
      "Non-trainable params: 0\n",
      "_________________________________________________________________\n"
     ]
    }
   ],
   "source": [
    "model2 = model2_multilayer_perceptron_with_one_hidden_layer()\n",
    "print('Here is a summary of this model: ')\n",
    "model2.summary()"
   ]
  },
  {
   "cell_type": "code",
   "execution_count": 29,
   "id": "560d7b5d",
   "metadata": {},
   "outputs": [],
   "source": [
    "def model3_multilayer_perceptron_with_two_hidden_layer():\n",
    "      model = Sequential()\n",
    "     # The model so far is empty. It can be constructed by adding layers and compilation.\n",
    "     # This Keras model with a single hidden layers.\n",
    "        \n",
    "     # Input Layer with 32 Neurons\n",
    "      model.add(Dense(32, input_shape =(normed_train_data.shape[1],)))\n",
    " \n",
    "      model.add(Dense(32, Activation('relu'))) # Hidden layer 1\n",
    "    \n",
    "      model.add(Dense(64, Activation('relu'))) # Hidden layer 2\n",
    "    \n",
    "      model.add(Dense(1))  # Output layer => output dimension = 1\n",
    "    \n",
    "      learning_rate = 0.001\n",
    "    \n",
    "      optimizer = optimizers.RMSprop(learning_rate)\n",
    "  \n",
    "      model.compile(loss='mse',optimizer=optimizer, metrics=['mae','mse','mape']) \n",
    "      return model"
   ]
  },
  {
   "cell_type": "code",
   "execution_count": 30,
   "id": "36a6f1d8",
   "metadata": {},
   "outputs": [
    {
     "name": "stdout",
     "output_type": "stream",
     "text": [
      "Here is a summary of this model: \n",
      "Model: \"sequential_2\"\n",
      "_________________________________________________________________\n",
      "Layer (type)                 Output Shape              Param #   \n",
      "=================================================================\n",
      "dense_4 (Dense)              (None, 32)                224       \n",
      "_________________________________________________________________\n",
      "dense_5 (Dense)              (None, 32)                1056      \n",
      "_________________________________________________________________\n",
      "dense_6 (Dense)              (None, 64)                2112      \n",
      "_________________________________________________________________\n",
      "dense_7 (Dense)              (None, 1)                 65        \n",
      "=================================================================\n",
      "Total params: 3,457\n",
      "Trainable params: 3,457\n",
      "Non-trainable params: 0\n",
      "_________________________________________________________________\n"
     ]
    }
   ],
   "source": [
    "model3 = model3_multilayer_perceptron_with_two_hidden_layer()\n",
    "print('Here is a summary of this model: ')\n",
    "\n",
    "\n",
    "model3.summary()\n"
   ]
  },
  {
   "cell_type": "markdown",
   "id": "a6ecc293",
   "metadata": {},
   "source": [
    "## Test the model before training (this will use the initial weights)"
   ]
  },
  {
   "cell_type": "code",
   "execution_count": 31,
   "id": "01d8c3d4",
   "metadata": {},
   "outputs": [],
   "source": [
    "\n",
    "example_batch = normed_train_data[:10] # take the first 10 data points from the training data.\n",
    "example_result = model1.predict(example_batch) # Here we are using the single layer perceptron model\n",
    "\n"
   ]
  },
  {
   "cell_type": "markdown",
   "id": "0fa05e94",
   "metadata": {},
   "source": [
    "## Compare the predicted values with the actual values "
   ]
  },
  {
   "cell_type": "code",
   "execution_count": 32,
   "id": "c8fde2aa",
   "metadata": {},
   "outputs": [
    {
     "name": "stdout",
     "output_type": "stream",
     "text": [
      "Predicted Values\n",
      "[[-431.21246]\n",
      " [-407.99573]\n",
      " [-411.91214]\n",
      " [-422.295  ]\n",
      " [-411.0852 ]\n",
      " [-425.2476 ]\n",
      " [-406.1749 ]\n",
      " [-401.76495]\n",
      " [-405.90738]\n",
      " [-419.83597]]\n",
      "\n",
      "Actual Values\n",
      "160\n",
      "220\n",
      "250\n",
      "270\n",
      "210\n",
      "260\n",
      "250\n",
      "240\n",
      "250\n",
      "260\n"
     ]
    }
   ],
   "source": [
    "print('Predicted Values')\n",
    "print(example_result[:10])\n",
    "print()\n",
    "print('Actual Values')\n",
    "print(true_values[:10].to_string(index=False))"
   ]
  },
  {
   "cell_type": "markdown",
   "id": "4331538e",
   "metadata": {},
   "source": [
    "## Save checkpoints during training"
   ]
  },
  {
   "cell_type": "code",
   "execution_count": 33,
   "id": "b2909665",
   "metadata": {},
   "outputs": [],
   "source": [
    "# checkpoint_path\n",
    "checkpoint_path = r\".\\models\\wind_direction_prediction.ckpt\"\n",
    "\n",
    "#create a callback that saves the model's weight\n",
    "ckpt_callback = tf.keras.callbacks.ModelCheckpoint(filepath=checkpoint_path,monitor='val_loss',\n",
    "                                                 save_best_only=True,verbose=0,)"
   ]
  },
  {
   "cell_type": "markdown",
   "id": "987f0289",
   "metadata": {},
   "source": [
    "## Training the model we built above."
   ]
  },
  {
   "cell_type": "markdown",
   "id": "3cb75756",
   "metadata": {},
   "source": [
    "### Training the single layer perceptron"
   ]
  },
  {
   "cell_type": "code",
   "execution_count": 34,
   "id": "9ed9cb5e",
   "metadata": {},
   "outputs": [],
   "source": [
    "# Tensorflow utils packages.\n",
    "import tensorflow_docs as tfdocs\n",
    "import tensorflow_docs.plots\n",
    "import tensorflow_docs.modeling"
   ]
  },
  {
   "cell_type": "code",
   "execution_count": 35,
   "id": "50ef6746",
   "metadata": {},
   "outputs": [
    {
     "name": "stdout",
     "output_type": "stream",
     "text": [
      "Here is a summary of this model: \n",
      "Model: \"sequential_3\"\n",
      "_________________________________________________________________\n",
      "Layer (type)                 Output Shape              Param #   \n",
      "=================================================================\n",
      "dense_8 (Dense)              (None, 1)                 7         \n",
      "=================================================================\n",
      "Total params: 7\n",
      "Trainable params: 7\n",
      "Non-trainable params: 0\n",
      "_________________________________________________________________\n",
      "\n",
      "Epoch: 0, loss:7829.3940,  mae:77.2378,  mape:33.0897,  mse:7829.3940,  val_loss:5696.4248,  val_mae:63.3902,  val_mape:31.6046,  val_mse:5696.4248,  \n",
      ".INFO:tensorflow:Assets written to: .\\models\\wind_direction_prediction.ckpt\\assets\n",
      ".INFO:tensorflow:Assets written to: .\\models\\wind_direction_prediction.ckpt\\assets\n",
      ".INFO:tensorflow:Assets written to: .\\models\\wind_direction_prediction.ckpt\\assets\n",
      ".INFO:tensorflow:Assets written to: .\\models\\wind_direction_prediction.ckpt\\assets\n",
      ".INFO:tensorflow:Assets written to: .\\models\\wind_direction_prediction.ckpt\\assets\n",
      ".INFO:tensorflow:Assets written to: .\\models\\wind_direction_prediction.ckpt\\assets\n",
      ".INFO:tensorflow:Assets written to: .\\models\\wind_direction_prediction.ckpt\\assets\n",
      ".INFO:tensorflow:Assets written to: .\\models\\wind_direction_prediction.ckpt\\assets\n",
      ".INFO:tensorflow:Assets written to: .\\models\\wind_direction_prediction.ckpt\\assets\n",
      ".INFO:tensorflow:Assets written to: .\\models\\wind_direction_prediction.ckpt\\assets\n",
      ".INFO:tensorflow:Assets written to: .\\models\\wind_direction_prediction.ckpt\\assets\n",
      ".INFO:tensorflow:Assets written to: .\\models\\wind_direction_prediction.ckpt\\assets\n",
      ".INFO:tensorflow:Assets written to: .\\models\\wind_direction_prediction.ckpt\\assets\n",
      ".INFO:tensorflow:Assets written to: .\\models\\wind_direction_prediction.ckpt\\assets\n",
      ".INFO:tensorflow:Assets written to: .\\models\\wind_direction_prediction.ckpt\\assets\n",
      ".INFO:tensorflow:Assets written to: .\\models\\wind_direction_prediction.ckpt\\assets\n",
      ".INFO:tensorflow:Assets written to: .\\models\\wind_direction_prediction.ckpt\\assets\n",
      ".INFO:tensorflow:Assets written to: .\\models\\wind_direction_prediction.ckpt\\assets\n",
      ".INFO:tensorflow:Assets written to: .\\models\\wind_direction_prediction.ckpt\\assets\n",
      ".INFO:tensorflow:Assets written to: .\\models\\wind_direction_prediction.ckpt\\assets\n",
      ".INFO:tensorflow:Assets written to: .\\models\\wind_direction_prediction.ckpt\\assets\n",
      ".INFO:tensorflow:Assets written to: .\\models\\wind_direction_prediction.ckpt\\assets\n",
      ".INFO:tensorflow:Assets written to: .\\models\\wind_direction_prediction.ckpt\\assets\n",
      ".INFO:tensorflow:Assets written to: .\\models\\wind_direction_prediction.ckpt\\assets\n",
      ".INFO:tensorflow:Assets written to: .\\models\\wind_direction_prediction.ckpt\\assets\n",
      ".INFO:tensorflow:Assets written to: .\\models\\wind_direction_prediction.ckpt\\assets\n",
      ".INFO:tensorflow:Assets written to: .\\models\\wind_direction_prediction.ckpt\\assets\n",
      ".INFO:tensorflow:Assets written to: .\\models\\wind_direction_prediction.ckpt\\assets\n",
      ".INFO:tensorflow:Assets written to: .\\models\\wind_direction_prediction.ckpt\\assets\n",
      ".INFO:tensorflow:Assets written to: .\\models\\wind_direction_prediction.ckpt\\assets\n",
      ".INFO:tensorflow:Assets written to: .\\models\\wind_direction_prediction.ckpt\\assets\n",
      ".INFO:tensorflow:Assets written to: .\\models\\wind_direction_prediction.ckpt\\assets\n",
      ".INFO:tensorflow:Assets written to: .\\models\\wind_direction_prediction.ckpt\\assets\n",
      ".INFO:tensorflow:Assets written to: .\\models\\wind_direction_prediction.ckpt\\assets\n",
      ".INFO:tensorflow:Assets written to: .\\models\\wind_direction_prediction.ckpt\\assets\n",
      ".INFO:tensorflow:Assets written to: .\\models\\wind_direction_prediction.ckpt\\assets\n",
      ".INFO:tensorflow:Assets written to: .\\models\\wind_direction_prediction.ckpt\\assets\n",
      ".INFO:tensorflow:Assets written to: .\\models\\wind_direction_prediction.ckpt\\assets\n",
      ".INFO:tensorflow:Assets written to: .\\models\\wind_direction_prediction.ckpt\\assets\n",
      ".INFO:tensorflow:Assets written to: .\\models\\wind_direction_prediction.ckpt\\assets\n",
      ".INFO:tensorflow:Assets written to: .\\models\\wind_direction_prediction.ckpt\\assets\n",
      ".INFO:tensorflow:Assets written to: .\\models\\wind_direction_prediction.ckpt\\assets\n",
      ".INFO:tensorflow:Assets written to: .\\models\\wind_direction_prediction.ckpt\\assets\n",
      ".INFO:tensorflow:Assets written to: .\\models\\wind_direction_prediction.ckpt\\assets\n",
      ".INFO:tensorflow:Assets written to: .\\models\\wind_direction_prediction.ckpt\\assets\n",
      ".INFO:tensorflow:Assets written to: .\\models\\wind_direction_prediction.ckpt\\assets\n",
      ".INFO:tensorflow:Assets written to: .\\models\\wind_direction_prediction.ckpt\\assets\n",
      ".INFO:tensorflow:Assets written to: .\\models\\wind_direction_prediction.ckpt\\assets\n",
      ".INFO:tensorflow:Assets written to: .\\models\\wind_direction_prediction.ckpt\\assets\n",
      ".INFO:tensorflow:Assets written to: .\\models\\wind_direction_prediction.ckpt\\assets\n",
      ".INFO:tensorflow:Assets written to: .\\models\\wind_direction_prediction.ckpt\\assets\n",
      ".INFO:tensorflow:Assets written to: .\\models\\wind_direction_prediction.ckpt\\assets\n",
      ".INFO:tensorflow:Assets written to: .\\models\\wind_direction_prediction.ckpt\\assets\n",
      ".INFO:tensorflow:Assets written to: .\\models\\wind_direction_prediction.ckpt\\assets\n",
      ".INFO:tensorflow:Assets written to: .\\models\\wind_direction_prediction.ckpt\\assets\n",
      ".INFO:tensorflow:Assets written to: .\\models\\wind_direction_prediction.ckpt\\assets\n",
      ".INFO:tensorflow:Assets written to: .\\models\\wind_direction_prediction.ckpt\\assets\n",
      ".INFO:tensorflow:Assets written to: .\\models\\wind_direction_prediction.ckpt\\assets\n",
      ".INFO:tensorflow:Assets written to: .\\models\\wind_direction_prediction.ckpt\\assets\n",
      ".INFO:tensorflow:Assets written to: .\\models\\wind_direction_prediction.ckpt\\assets\n",
      ".INFO:tensorflow:Assets written to: .\\models\\wind_direction_prediction.ckpt\\assets\n",
      ".INFO:tensorflow:Assets written to: .\\models\\wind_direction_prediction.ckpt\\assets\n",
      ".INFO:tensorflow:Assets written to: .\\models\\wind_direction_prediction.ckpt\\assets\n",
      ".INFO:tensorflow:Assets written to: .\\models\\wind_direction_prediction.ckpt\\assets\n",
      ".INFO:tensorflow:Assets written to: .\\models\\wind_direction_prediction.ckpt\\assets\n",
      ".INFO:tensorflow:Assets written to: .\\models\\wind_direction_prediction.ckpt\\assets\n",
      ".INFO:tensorflow:Assets written to: .\\models\\wind_direction_prediction.ckpt\\assets\n",
      ".INFO:tensorflow:Assets written to: .\\models\\wind_direction_prediction.ckpt\\assets\n",
      ".INFO:tensorflow:Assets written to: .\\models\\wind_direction_prediction.ckpt\\assets\n",
      ".INFO:tensorflow:Assets written to: .\\models\\wind_direction_prediction.ckpt\\assets\n",
      ".INFO:tensorflow:Assets written to: .\\models\\wind_direction_prediction.ckpt\\assets\n",
      ".INFO:tensorflow:Assets written to: .\\models\\wind_direction_prediction.ckpt\\assets\n",
      ".INFO:tensorflow:Assets written to: .\\models\\wind_direction_prediction.ckpt\\assets\n",
      ".INFO:tensorflow:Assets written to: .\\models\\wind_direction_prediction.ckpt\\assets\n",
      ".INFO:tensorflow:Assets written to: .\\models\\wind_direction_prediction.ckpt\\assets\n",
      ".INFO:tensorflow:Assets written to: .\\models\\wind_direction_prediction.ckpt\\assets\n",
      ".INFO:tensorflow:Assets written to: .\\models\\wind_direction_prediction.ckpt\\assets\n",
      ".INFO:tensorflow:Assets written to: .\\models\\wind_direction_prediction.ckpt\\assets\n",
      ".INFO:tensorflow:Assets written to: .\\models\\wind_direction_prediction.ckpt\\assets\n",
      ".INFO:tensorflow:Assets written to: .\\models\\wind_direction_prediction.ckpt\\assets\n",
      ".INFO:tensorflow:Assets written to: .\\models\\wind_direction_prediction.ckpt\\assets\n",
      ".INFO:tensorflow:Assets written to: .\\models\\wind_direction_prediction.ckpt\\assets\n",
      ".INFO:tensorflow:Assets written to: .\\models\\wind_direction_prediction.ckpt\\assets\n",
      ".INFO:tensorflow:Assets written to: .\\models\\wind_direction_prediction.ckpt\\assets\n",
      ".INFO:tensorflow:Assets written to: .\\models\\wind_direction_prediction.ckpt\\assets\n",
      ".INFO:tensorflow:Assets written to: .\\models\\wind_direction_prediction.ckpt\\assets\n",
      ".INFO:tensorflow:Assets written to: .\\models\\wind_direction_prediction.ckpt\\assets\n",
      ".INFO:tensorflow:Assets written to: .\\models\\wind_direction_prediction.ckpt\\assets\n",
      ".INFO:tensorflow:Assets written to: .\\models\\wind_direction_prediction.ckpt\\assets\n",
      ".INFO:tensorflow:Assets written to: .\\models\\wind_direction_prediction.ckpt\\assets\n",
      ".INFO:tensorflow:Assets written to: .\\models\\wind_direction_prediction.ckpt\\assets\n"
     ]
    },
    {
     "name": "stdout",
     "output_type": "stream",
     "text": [
      ".INFO:tensorflow:Assets written to: .\\models\\wind_direction_prediction.ckpt\\assets\n",
      ".INFO:tensorflow:Assets written to: .\\models\\wind_direction_prediction.ckpt\\assets\n",
      ".INFO:tensorflow:Assets written to: .\\models\\wind_direction_prediction.ckpt\\assets\n",
      ".INFO:tensorflow:Assets written to: .\\models\\wind_direction_prediction.ckpt\\assets\n",
      ".INFO:tensorflow:Assets written to: .\\models\\wind_direction_prediction.ckpt\\assets\n",
      ".INFO:tensorflow:Assets written to: .\\models\\wind_direction_prediction.ckpt\\assets\n",
      ".INFO:tensorflow:Assets written to: .\\models\\wind_direction_prediction.ckpt\\assets\n",
      ".INFO:tensorflow:Assets written to: .\\models\\wind_direction_prediction.ckpt\\assets\n",
      ".INFO:tensorflow:Assets written to: .\\models\\wind_direction_prediction.ckpt\\assets\n",
      "\n",
      "Epoch: 100, loss:1993.5548,  mae:39.8509,  mape:20.7118,  mse:1993.5548,  val_loss:2997.7222,  val_mae:49.5760,  val_mape:32.3512,  val_mse:2997.7222,  \n",
      ".INFO:tensorflow:Assets written to: .\\models\\wind_direction_prediction.ckpt\\assets\n",
      ".INFO:tensorflow:Assets written to: .\\models\\wind_direction_prediction.ckpt\\assets\n",
      ".INFO:tensorflow:Assets written to: .\\models\\wind_direction_prediction.ckpt\\assets\n",
      ".INFO:tensorflow:Assets written to: .\\models\\wind_direction_prediction.ckpt\\assets\n",
      ".INFO:tensorflow:Assets written to: .\\models\\wind_direction_prediction.ckpt\\assets\n",
      ".INFO:tensorflow:Assets written to: .\\models\\wind_direction_prediction.ckpt\\assets\n",
      ".INFO:tensorflow:Assets written to: .\\models\\wind_direction_prediction.ckpt\\assets\n",
      ".INFO:tensorflow:Assets written to: .\\models\\wind_direction_prediction.ckpt\\assets\n",
      ".INFO:tensorflow:Assets written to: .\\models\\wind_direction_prediction.ckpt\\assets\n",
      ".INFO:tensorflow:Assets written to: .\\models\\wind_direction_prediction.ckpt\\assets\n",
      ".INFO:tensorflow:Assets written to: .\\models\\wind_direction_prediction.ckpt\\assets\n",
      ".INFO:tensorflow:Assets written to: .\\models\\wind_direction_prediction.ckpt\\assets\n",
      ".INFO:tensorflow:Assets written to: .\\models\\wind_direction_prediction.ckpt\\assets\n",
      ".INFO:tensorflow:Assets written to: .\\models\\wind_direction_prediction.ckpt\\assets\n",
      ".INFO:tensorflow:Assets written to: .\\models\\wind_direction_prediction.ckpt\\assets\n",
      ".INFO:tensorflow:Assets written to: .\\models\\wind_direction_prediction.ckpt\\assets\n",
      ".INFO:tensorflow:Assets written to: .\\models\\wind_direction_prediction.ckpt\\assets\n",
      ".INFO:tensorflow:Assets written to: .\\models\\wind_direction_prediction.ckpt\\assets\n",
      ".INFO:tensorflow:Assets written to: .\\models\\wind_direction_prediction.ckpt\\assets\n",
      ".INFO:tensorflow:Assets written to: .\\models\\wind_direction_prediction.ckpt\\assets\n",
      ".INFO:tensorflow:Assets written to: .\\models\\wind_direction_prediction.ckpt\\assets\n",
      ".INFO:tensorflow:Assets written to: .\\models\\wind_direction_prediction.ckpt\\assets\n",
      ".INFO:tensorflow:Assets written to: .\\models\\wind_direction_prediction.ckpt\\assets\n",
      ".INFO:tensorflow:Assets written to: .\\models\\wind_direction_prediction.ckpt\\assets\n",
      ".INFO:tensorflow:Assets written to: .\\models\\wind_direction_prediction.ckpt\\assets\n",
      "...........................................................................\n",
      "Epoch: 200, loss:2042.0024,  mae:38.7234,  mape:28.9898,  mse:2042.0024,  val_loss:3015.9768,  val_mae:46.9779,  val_mape:33.3340,  val_mse:3015.9768,  \n",
      "....................................................................................................\n",
      "Epoch: 300, loss:4179.6216,  mae:60.5617,  mape:25.5970,  mse:4179.6216,  val_loss:3052.9888,  val_mae:47.1436,  val_mape:33.8481,  val_mse:3052.9888,  \n",
      "....................................................................................................\n",
      "Epoch: 400, loss:1862.7748,  mae:38.4823,  mape:25.0385,  mse:1862.7748,  val_loss:3053.4966,  val_mae:47.1073,  val_mape:33.8306,  val_mse:3053.4966,  \n",
      "....................................................................................................Wall time: 3min 21s\n"
     ]
    }
   ],
   "source": [
    "%%time\n",
    "\n",
    "EPOCHS = 500\n",
    "batch_size = 6\n",
    "\n",
    "model1 = model1_single_layer_perceptron()\n",
    "print('Here is a summary of this model: ')\n",
    "model1.summary()\n",
    "\n",
    "with tf.device('/CPU:0'):\n",
    "    history = model1.fit(\n",
    "        normed_train_data,\n",
    "        train_labels,\n",
    "        batch_size = batch_size,\n",
    "        epochs=EPOCHS,\n",
    "        verbose=0,\n",
    "        shuffle=True,\n",
    "        steps_per_epoch= 1,\n",
    "        validation_data = (normed_valid_dataset, valid_labels),\n",
    "        callbacks=[tfdocs.modeling.EpochDots(), ckpt_callback],\n",
    "    )\n"
   ]
  },
  {
   "cell_type": "code",
   "execution_count": 36,
   "id": "9e63d87a",
   "metadata": {},
   "outputs": [
    {
     "name": "stdout",
     "output_type": "stream",
     "text": [
      "Summary of the results after each epoch: \n"
     ]
    },
    {
     "data": {
      "text/html": [
       "<div>\n",
       "<style scoped>\n",
       "    .dataframe tbody tr th:only-of-type {\n",
       "        vertical-align: middle;\n",
       "    }\n",
       "\n",
       "    .dataframe tbody tr th {\n",
       "        vertical-align: top;\n",
       "    }\n",
       "\n",
       "    .dataframe thead th {\n",
       "        text-align: right;\n",
       "    }\n",
       "</style>\n",
       "<table border=\"1\" class=\"dataframe\">\n",
       "  <thead>\n",
       "    <tr style=\"text-align: right;\">\n",
       "      <th></th>\n",
       "      <th>loss</th>\n",
       "      <th>mae</th>\n",
       "      <th>mse</th>\n",
       "      <th>mape</th>\n",
       "      <th>val_loss</th>\n",
       "      <th>val_mae</th>\n",
       "      <th>val_mse</th>\n",
       "      <th>val_mape</th>\n",
       "      <th>epoch</th>\n",
       "    </tr>\n",
       "  </thead>\n",
       "  <tbody>\n",
       "    <tr>\n",
       "      <th>495</th>\n",
       "      <td>3055.131592</td>\n",
       "      <td>33.279636</td>\n",
       "      <td>3055.131592</td>\n",
       "      <td>33.128780</td>\n",
       "      <td>3055.363281</td>\n",
       "      <td>47.081177</td>\n",
       "      <td>3055.363281</td>\n",
       "      <td>33.831196</td>\n",
       "      <td>495</td>\n",
       "    </tr>\n",
       "    <tr>\n",
       "      <th>496</th>\n",
       "      <td>2441.244873</td>\n",
       "      <td>39.670151</td>\n",
       "      <td>2441.244873</td>\n",
       "      <td>16.555191</td>\n",
       "      <td>3056.739746</td>\n",
       "      <td>47.090206</td>\n",
       "      <td>3056.739746</td>\n",
       "      <td>33.849277</td>\n",
       "      <td>496</td>\n",
       "    </tr>\n",
       "    <tr>\n",
       "      <th>497</th>\n",
       "      <td>2924.665039</td>\n",
       "      <td>51.790211</td>\n",
       "      <td>2924.665039</td>\n",
       "      <td>29.329798</td>\n",
       "      <td>3058.008301</td>\n",
       "      <td>47.098415</td>\n",
       "      <td>3058.008301</td>\n",
       "      <td>33.865845</td>\n",
       "      <td>497</td>\n",
       "    </tr>\n",
       "    <tr>\n",
       "      <th>498</th>\n",
       "      <td>3465.989502</td>\n",
       "      <td>41.934109</td>\n",
       "      <td>3465.989502</td>\n",
       "      <td>36.809448</td>\n",
       "      <td>3058.408447</td>\n",
       "      <td>47.101009</td>\n",
       "      <td>3058.408447</td>\n",
       "      <td>33.871059</td>\n",
       "      <td>498</td>\n",
       "    </tr>\n",
       "    <tr>\n",
       "      <th>499</th>\n",
       "      <td>1112.488647</td>\n",
       "      <td>24.369936</td>\n",
       "      <td>1112.488647</td>\n",
       "      <td>14.262626</td>\n",
       "      <td>3059.210938</td>\n",
       "      <td>47.106251</td>\n",
       "      <td>3059.210938</td>\n",
       "      <td>33.881466</td>\n",
       "      <td>499</td>\n",
       "    </tr>\n",
       "  </tbody>\n",
       "</table>\n",
       "</div>"
      ],
      "text/plain": [
       "            loss        mae          mse       mape     val_loss    val_mae  \\\n",
       "495  3055.131592  33.279636  3055.131592  33.128780  3055.363281  47.081177   \n",
       "496  2441.244873  39.670151  2441.244873  16.555191  3056.739746  47.090206   \n",
       "497  2924.665039  51.790211  2924.665039  29.329798  3058.008301  47.098415   \n",
       "498  3465.989502  41.934109  3465.989502  36.809448  3058.408447  47.101009   \n",
       "499  1112.488647  24.369936  1112.488647  14.262626  3059.210938  47.106251   \n",
       "\n",
       "         val_mse   val_mape  epoch  \n",
       "495  3055.363281  33.831196    495  \n",
       "496  3056.739746  33.849277    496  \n",
       "497  3058.008301  33.865845    497  \n",
       "498  3058.408447  33.871059    498  \n",
       "499  3059.210938  33.881466    499  "
      ]
     },
     "execution_count": 36,
     "metadata": {},
     "output_type": "execute_result"
    }
   ],
   "source": [
    "print('Summary of the results after each epoch: ')\n",
    "hist = pd.DataFrame(history.history)\n",
    "hist['epoch'] = history.epoch\n",
    "hist.tail()"
   ]
  },
  {
   "cell_type": "code",
   "execution_count": 37,
   "id": "376e3b8c",
   "metadata": {},
   "outputs": [],
   "source": [
    "# Test the model after training\n",
    "example_batch = normed_train_data[:10]\n",
    "example_result = model1.predict(example_batch)"
   ]
  },
  {
   "cell_type": "markdown",
   "id": "fdcc71cd",
   "metadata": {},
   "source": [
    "## Compare the predicted values with the actual values"
   ]
  },
  {
   "cell_type": "code",
   "execution_count": 38,
   "id": "43f76c34",
   "metadata": {},
   "outputs": [
    {
     "name": "stdout",
     "output_type": "stream",
     "text": [
      "Predicted Values\n",
      "[[154.09743]\n",
      " [204.2334 ]\n",
      " [204.69467]\n",
      " [162.82823]\n",
      " [207.2855 ]\n",
      " [166.95998]\n",
      " [209.90067]\n",
      " [205.20609]\n",
      " [191.2232 ]\n",
      " [172.84729]]\n",
      "\n",
      "Actual Values\n",
      "160\n",
      "220\n",
      "250\n",
      "270\n",
      "210\n",
      "260\n",
      "250\n",
      "240\n",
      "250\n",
      "260\n"
     ]
    }
   ],
   "source": [
    "print('Predicted Values')\n",
    "print(example_result[:10])\n",
    "print()\n",
    "print('Actual Values')\n",
    "print(true_values[:10].to_string(index=False))"
   ]
  },
  {
   "cell_type": "code",
   "execution_count": 39,
   "id": "6203d88d",
   "metadata": {},
   "outputs": [
    {
     "name": "stdout",
     "output_type": "stream",
     "text": [
      "The ground truth: \n"
     ]
    },
    {
     "data": {
      "text/plain": [
       "37    100\n",
       "33    240\n",
       "65    160\n",
       "47    100\n",
       "30    200\n",
       "25    150\n",
       "54    220\n",
       "17    190\n",
       "15    160\n",
       "1     220\n",
       "Name: WIND-DIRECTION, dtype: int64"
      ]
     },
     "execution_count": 39,
     "metadata": {},
     "output_type": "execute_result"
    }
   ],
   "source": [
    "print('The ground truth: ')\n",
    "train_labels[:10]"
   ]
  },
  {
   "cell_type": "markdown",
   "id": "c13293b9",
   "metadata": {},
   "source": [
    "## See how the training went by plotting the loss/mse across epochs"
   ]
  },
  {
   "cell_type": "code",
   "execution_count": 40,
   "id": "96a3953d",
   "metadata": {},
   "outputs": [
    {
     "data": {
      "text/plain": [
       "Text(0, 0.5, 'MAE [wind-speed]')"
      ]
     },
     "execution_count": 40,
     "metadata": {},
     "output_type": "execute_result"
    },
    {
     "data": {
      "image/png": "[encoded data removed]",
      "text/plain": [
       "<Figure size 432x288 with 1 Axes>"
      ]
     },
     "metadata": {
      "needs_background": "light"
     },
     "output_type": "display_data"
    }
   ],
   "source": [
    "plotter = tfdocs.plots.HistoryPlotter(smoothing_std=2)\n",
    "\n",
    "plotter.plot({'Basic': history}, metric = 'mae')\n",
    "plt.ylim([0,300])\n",
    "plt.ylabel('MAE [wind-speed]')"
   ]
  },
  {
   "cell_type": "code",
   "execution_count": 41,
   "id": "c975532b",
   "metadata": {},
   "outputs": [
    {
     "data": {
      "text/plain": [
       "Text(0, 0.5, 'MSE [wind-speed]')"
      ]
     },
     "execution_count": 41,
     "metadata": {},
     "output_type": "execute_result"
    },
    {
     "data": {
      "image/png": "[encoded data removed]",
      "text/plain": [
       "<Figure size 432x288 with 1 Axes>"
      ]
     },
     "metadata": {
      "needs_background": "light"
     },
     "output_type": "display_data"
    }
   ],
   "source": [
    "plotter.plot({'Basic': history}, metric = 'mse')\n",
    "plt.ylim([0,85000])\n",
    "plt.ylabel('MSE [wind-speed]')"
   ]
  },
  {
   "cell_type": "code",
   "execution_count": 42,
   "id": "b7560f2e",
   "metadata": {},
   "outputs": [
    {
     "name": "stdout",
     "output_type": "stream",
     "text": [
      "Error Rate on Train Split: \n",
      "2/2 - 0s - loss: 2392.6855 - mae: 41.3643 - mse: 2392.6855 - mape: 26.6798\n",
      "Train set Mean Abs Error : 41.36\n",
      "Train set Mean Square Error : 2392.69\n"
     ]
    }
   ],
   "source": [
    "print('Error Rate on Train Split: ')\n",
    "loss, mae, mse, mape = model1.evaluate(normed_train_data, train_labels, verbose=2)\n",
    "\n",
    "print('Train set Mean Abs Error : {:5.2f}'.format(mae))\n",
    "print('Train set Mean Square Error : {:5.2f}'.format(mse))"
   ]
  },
  {
   "cell_type": "code",
   "execution_count": 43,
   "id": "71c865c3",
   "metadata": {},
   "outputs": [
    {
     "name": "stdout",
     "output_type": "stream",
     "text": [
      "Error Rate on Evaluation  Split: \n",
      "1/1 - 0s - loss: 3059.2109 - mae: 47.1063 - mse: 3059.2109 - mape: 33.8815\n",
      "Validation set Mean Abs Error : 47.11\n",
      "Validation set Mean Square Error : 3059.21\n"
     ]
    }
   ],
   "source": [
    "print('Error Rate on Evaluation  Split: ')\n",
    "loss, mae, mse, mape = model1.evaluate(normed_valid_dataset, valid_labels, verbose=2)\n",
    "\n",
    "print('Validation set Mean Abs Error : {:5.2f}'.format(mae))\n",
    "print('Validation set Mean Square Error : {:5.2f}'.format(mse))"
   ]
  },
  {
   "cell_type": "code",
   "execution_count": 44,
   "id": "a0b77e8c",
   "metadata": {},
   "outputs": [
    {
     "name": "stdout",
     "output_type": "stream",
     "text": [
      "Error Rate on Test  Split: \n",
      "1/1 - 0s - loss: 2872.4341 - mae: 38.1623 - mse: 2872.4341 - mape: 32.8095\n",
      "Testing set Mean Abs Error : 38.16\n",
      "Testing set Mean Square Error : 2872.43\n"
     ]
    }
   ],
   "source": [
    "print('Error Rate on Test  Split: ')\n",
    "loss, mae, mse, mape = model1.evaluate(normed_test_data, test_labels, verbose=2)\n",
    "\n",
    "print('Testing set Mean Abs Error : {:5.2f}'.format(mae))\n",
    "print('Testing set Mean Square Error : {:5.2f}'.format(mse))"
   ]
  },
  {
   "cell_type": "code",
   "execution_count": 45,
   "id": "872dc9cd",
   "metadata": {},
   "outputs": [
    {
     "data": {
      "image/png": "[encoded data removed]",
      "text/plain": [
       "<Figure size 432x288 with 1 Axes>"
      ]
     },
     "metadata": {
      "needs_background": "light"
     },
     "output_type": "display_data"
    }
   ],
   "source": [
    "train_predictions = model1.predict(normed_train_data).flatten()\n",
    "\n",
    "a = plt.axes(aspect='equal')\n",
    "plt.scatter(train_labels, train_predictions)\n",
    "plt.xlabel('True Values [wind-direction]')\n",
    "plt.ylabel('Predictions [wind-direction]')\n",
    "lims = [0, 350]\n",
    "plt.xlim(lims)\n",
    "plt.ylim(lims)\n",
    "_ = plt.plot(lims, lims)"
   ]
  },
  {
   "cell_type": "code",
   "execution_count": 46,
   "id": "18662011",
   "metadata": {},
   "outputs": [
    {
     "data": {
      "image/png": "[encoded data removed]",
      "text/plain": [
       "<Figure size 432x288 with 1 Axes>"
      ]
     },
     "metadata": {
      "needs_background": "light"
     },
     "output_type": "display_data"
    }
   ],
   "source": [
    "test_predictions = model1.predict(normed_test_data).flatten()\n",
    "\n",
    "a = plt.axes(aspect='equal')\n",
    "plt.scatter(test_labels, test_predictions)\n",
    "plt.xlabel('True Values [wind-speed]')\n",
    "plt.ylabel('Predictions [wind-speed]')\n",
    "lims = [0, 350]\n",
    "plt.xlim(lims)\n",
    "plt.ylim(lims)\n",
    "_ = plt.plot(lims, lims)"
   ]
  },
  {
   "cell_type": "code",
   "execution_count": 47,
   "id": "9dd51853",
   "metadata": {},
   "outputs": [
    {
     "data": {
      "image/png": "[encoded data removed]",
      "text/plain": [
       "<Figure size 432x288 with 1 Axes>"
      ]
     },
     "metadata": {
      "needs_background": "light"
     },
     "output_type": "display_data"
    }
   ],
   "source": [
    "# error distribution.\n",
    "error = test_predictions - test_labels\n",
    "plt.hist(error, bins = 25)\n",
    "plt.xlabel(\"Prediction Error [medv]\")\n",
    "_ = plt.ylabel(\"count\")"
   ]
  },
  {
   "cell_type": "markdown",
   "id": "7e3e2341",
   "metadata": {},
   "source": [
    "## One hidden layer analysis"
   ]
  },
  {
   "cell_type": "code",
   "execution_count": 48,
   "id": "89283015",
   "metadata": {},
   "outputs": [],
   "source": [
    "# checkpoint_path\n",
    "checkpoint_path = r\".\\models\\wind_direction_prediction2.ckpt\"\n",
    "\n",
    "#create a callback that saves the model's weight\n",
    "ckpt_callback = tf.keras.callbacks.ModelCheckpoint(filepath=checkpoint_path,monitor='val_loss',\n",
    "                                                 save_best_only=True,verbose=0,)"
   ]
  },
  {
   "cell_type": "code",
   "execution_count": 49,
   "id": "bd3213a6",
   "metadata": {},
   "outputs": [
    {
     "name": "stdout",
     "output_type": "stream",
     "text": [
      "Here is a summary of this model: \n",
      "Model: \"sequential_4\"\n",
      "_________________________________________________________________\n",
      "Layer (type)                 Output Shape              Param #   \n",
      "=================================================================\n",
      "dense_9 (Dense)              (None, 10)                70        \n",
      "_________________________________________________________________\n",
      "dense_10 (Dense)             (None, 35)                385       \n",
      "_________________________________________________________________\n",
      "dense_11 (Dense)             (None, 1)                 36        \n",
      "=================================================================\n",
      "Total params: 491\n",
      "Trainable params: 491\n",
      "Non-trainable params: 0\n",
      "_________________________________________________________________\n",
      "\n",
      "Epoch: 0, loss:83144.2266,  mae:284.1523,  mape:128.8401,  mse:83144.2266,  val_loss:46638.9883,  val_mae:208.2187,  val_mape:118.7829,  val_mse:46638.9883,  \n",
      "."
     ]
    },
    {
     "name": "stderr",
     "output_type": "stream",
     "text": [
      "WARNING:absl:Found untraced functions such as activation_3_layer_call_fn, activation_3_layer_call_and_return_conditional_losses, activation_3_layer_call_fn, activation_3_layer_call_and_return_conditional_losses, activation_3_layer_call_and_return_conditional_losses while saving (showing 5 of 5). These functions will not be directly callable after loading.\n"
     ]
    },
    {
     "name": "stdout",
     "output_type": "stream",
     "text": [
      "INFO:tensorflow:Assets written to: .\\models\\wind_direction_prediction2.ckpt\\assets\n"
     ]
    },
    {
     "name": "stderr",
     "output_type": "stream",
     "text": [
      "INFO:tensorflow:Assets written to: .\\models\\wind_direction_prediction2.ckpt\\assets\n"
     ]
    },
    {
     "name": "stdout",
     "output_type": "stream",
     "text": [
      "."
     ]
    },
    {
     "name": "stderr",
     "output_type": "stream",
     "text": [
      "WARNING:absl:Found untraced functions such as activation_3_layer_call_fn, activation_3_layer_call_and_return_conditional_losses, activation_3_layer_call_fn, activation_3_layer_call_and_return_conditional_losses, activation_3_layer_call_and_return_conditional_losses while saving (showing 5 of 5). These functions will not be directly callable after loading.\n"
     ]
    },
    {
     "name": "stdout",
     "output_type": "stream",
     "text": [
      "INFO:tensorflow:Assets written to: .\\models\\wind_direction_prediction2.ckpt\\assets\n"
     ]
    },
    {
     "name": "stderr",
     "output_type": "stream",
     "text": [
      "INFO:tensorflow:Assets written to: .\\models\\wind_direction_prediction2.ckpt\\assets\n"
     ]
    },
    {
     "name": "stdout",
     "output_type": "stream",
     "text": [
      "."
     ]
    },
    {
     "name": "stderr",
     "output_type": "stream",
     "text": [
      "WARNING:absl:Found untraced functions such as activation_3_layer_call_fn, activation_3_layer_call_and_return_conditional_losses, activation_3_layer_call_fn, activation_3_layer_call_and_return_conditional_losses, activation_3_layer_call_and_return_conditional_losses while saving (showing 5 of 5). These functions will not be directly callable after loading.\n"
     ]
    },
    {
     "name": "stdout",
     "output_type": "stream",
     "text": [
      "INFO:tensorflow:Assets written to: .\\models\\wind_direction_prediction2.ckpt\\assets\n"
     ]
    },
    {
     "name": "stderr",
     "output_type": "stream",
     "text": [
      "INFO:tensorflow:Assets written to: .\\models\\wind_direction_prediction2.ckpt\\assets\n"
     ]
    },
    {
     "name": "stdout",
     "output_type": "stream",
     "text": [
      "."
     ]
    },
    {
     "name": "stderr",
     "output_type": "stream",
     "text": [
      "WARNING:absl:Found untraced functions such as activation_3_layer_call_fn, activation_3_layer_call_and_return_conditional_losses, activation_3_layer_call_fn, activation_3_layer_call_and_return_conditional_losses, activation_3_layer_call_and_return_conditional_losses while saving (showing 5 of 5). These functions will not be directly callable after loading.\n"
     ]
    },
    {
     "name": "stdout",
     "output_type": "stream",
     "text": [
      "INFO:tensorflow:Assets written to: .\\models\\wind_direction_prediction2.ckpt\\assets\n"
     ]
    },
    {
     "name": "stderr",
     "output_type": "stream",
     "text": [
      "INFO:tensorflow:Assets written to: .\\models\\wind_direction_prediction2.ckpt\\assets\n"
     ]
    },
    {
     "name": "stdout",
     "output_type": "stream",
     "text": [
      "."
     ]
    },
    {
     "name": "stderr",
     "output_type": "stream",
     "text": [
      "WARNING:absl:Found untraced functions such as activation_3_layer_call_fn, activation_3_layer_call_and_return_conditional_losses, activation_3_layer_call_fn, activation_3_layer_call_and_return_conditional_losses, activation_3_layer_call_and_return_conditional_losses while saving (showing 5 of 5). These functions will not be directly callable after loading.\n"
     ]
    },
    {
     "name": "stdout",
     "output_type": "stream",
     "text": [
      "INFO:tensorflow:Assets written to: .\\models\\wind_direction_prediction2.ckpt\\assets\n"
     ]
    },
    {
     "name": "stderr",
     "output_type": "stream",
     "text": [
      "INFO:tensorflow:Assets written to: .\\models\\wind_direction_prediction2.ckpt\\assets\n"
     ]
    },
    {
     "name": "stdout",
     "output_type": "stream",
     "text": [
      "."
     ]
    },
    {
     "name": "stderr",
     "output_type": "stream",
     "text": [
      "WARNING:absl:Found untraced functions such as activation_3_layer_call_fn, activation_3_layer_call_and_return_conditional_losses, activation_3_layer_call_fn, activation_3_layer_call_and_return_conditional_losses, activation_3_layer_call_and_return_conditional_losses while saving (showing 5 of 5). These functions will not be directly callable after loading.\n"
     ]
    },
    {
     "name": "stdout",
     "output_type": "stream",
     "text": [
      "INFO:tensorflow:Assets written to: .\\models\\wind_direction_prediction2.ckpt\\assets\n"
     ]
    },
    {
     "name": "stderr",
     "output_type": "stream",
     "text": [
      "INFO:tensorflow:Assets written to: .\\models\\wind_direction_prediction2.ckpt\\assets\n"
     ]
    },
    {
     "name": "stdout",
     "output_type": "stream",
     "text": [
      "."
     ]
    },
    {
     "name": "stderr",
     "output_type": "stream",
     "text": [
      "WARNING:absl:Found untraced functions such as activation_3_layer_call_fn, activation_3_layer_call_and_return_conditional_losses, activation_3_layer_call_fn, activation_3_layer_call_and_return_conditional_losses, activation_3_layer_call_and_return_conditional_losses while saving (showing 5 of 5). These functions will not be directly callable after loading.\n"
     ]
    },
    {
     "name": "stdout",
     "output_type": "stream",
     "text": [
      "INFO:tensorflow:Assets written to: .\\models\\wind_direction_prediction2.ckpt\\assets\n"
     ]
    },
    {
     "name": "stderr",
     "output_type": "stream",
     "text": [
      "INFO:tensorflow:Assets written to: .\\models\\wind_direction_prediction2.ckpt\\assets\n"
     ]
    },
    {
     "name": "stdout",
     "output_type": "stream",
     "text": [
      "."
     ]
    },
    {
     "name": "stderr",
     "output_type": "stream",
     "text": [
      "WARNING:absl:Found untraced functions such as activation_3_layer_call_fn, activation_3_layer_call_and_return_conditional_losses, activation_3_layer_call_fn, activation_3_layer_call_and_return_conditional_losses, activation_3_layer_call_and_return_conditional_losses while saving (showing 5 of 5). These functions will not be directly callable after loading.\n"
     ]
    },
    {
     "name": "stdout",
     "output_type": "stream",
     "text": [
      "INFO:tensorflow:Assets written to: .\\models\\wind_direction_prediction2.ckpt\\assets\n"
     ]
    },
    {
     "name": "stderr",
     "output_type": "stream",
     "text": [
      "INFO:tensorflow:Assets written to: .\\models\\wind_direction_prediction2.ckpt\\assets\n"
     ]
    },
    {
     "name": "stdout",
     "output_type": "stream",
     "text": [
      "."
     ]
    },
    {
     "name": "stderr",
     "output_type": "stream",
     "text": [
      "WARNING:absl:Found untraced functions such as activation_3_layer_call_fn, activation_3_layer_call_and_return_conditional_losses, activation_3_layer_call_fn, activation_3_layer_call_and_return_conditional_losses, activation_3_layer_call_and_return_conditional_losses while saving (showing 5 of 5). These functions will not be directly callable after loading.\n"
     ]
    },
    {
     "name": "stdout",
     "output_type": "stream",
     "text": [
      "INFO:tensorflow:Assets written to: .\\models\\wind_direction_prediction2.ckpt\\assets\n"
     ]
    },
    {
     "name": "stderr",
     "output_type": "stream",
     "text": [
      "INFO:tensorflow:Assets written to: .\\models\\wind_direction_prediction2.ckpt\\assets\n"
     ]
    },
    {
     "name": "stdout",
     "output_type": "stream",
     "text": [
      "."
     ]
    },
    {
     "name": "stderr",
     "output_type": "stream",
     "text": [
      "WARNING:absl:Found untraced functions such as activation_3_layer_call_fn, activation_3_layer_call_and_return_conditional_losses, activation_3_layer_call_fn, activation_3_layer_call_and_return_conditional_losses, activation_3_layer_call_and_return_conditional_losses while saving (showing 5 of 5). These functions will not be directly callable after loading.\n"
     ]
    },
    {
     "name": "stdout",
     "output_type": "stream",
     "text": [
      "INFO:tensorflow:Assets written to: .\\models\\wind_direction_prediction2.ckpt\\assets\n"
     ]
    },
    {
     "name": "stderr",
     "output_type": "stream",
     "text": [
      "INFO:tensorflow:Assets written to: .\\models\\wind_direction_prediction2.ckpt\\assets\n"
     ]
    },
    {
     "name": "stdout",
     "output_type": "stream",
     "text": [
      "."
     ]
    },
    {
     "name": "stderr",
     "output_type": "stream",
     "text": [
      "WARNING:absl:Found untraced functions such as activation_3_layer_call_fn, activation_3_layer_call_and_return_conditional_losses, activation_3_layer_call_fn, activation_3_layer_call_and_return_conditional_losses, activation_3_layer_call_and_return_conditional_losses while saving (showing 5 of 5). These functions will not be directly callable after loading.\n"
     ]
    },
    {
     "name": "stdout",
     "output_type": "stream",
     "text": [
      "INFO:tensorflow:Assets written to: .\\models\\wind_direction_prediction2.ckpt\\assets\n"
     ]
    },
    {
     "name": "stderr",
     "output_type": "stream",
     "text": [
      "INFO:tensorflow:Assets written to: .\\models\\wind_direction_prediction2.ckpt\\assets\n"
     ]
    },
    {
     "name": "stdout",
     "output_type": "stream",
     "text": [
      "."
     ]
    },
    {
     "name": "stderr",
     "output_type": "stream",
     "text": [
      "WARNING:absl:Found untraced functions such as activation_3_layer_call_fn, activation_3_layer_call_and_return_conditional_losses, activation_3_layer_call_fn, activation_3_layer_call_and_return_conditional_losses, activation_3_layer_call_and_return_conditional_losses while saving (showing 5 of 5). These functions will not be directly callable after loading.\n"
     ]
    },
    {
     "name": "stdout",
     "output_type": "stream",
     "text": [
      "INFO:tensorflow:Assets written to: .\\models\\wind_direction_prediction2.ckpt\\assets\n"
     ]
    },
    {
     "name": "stderr",
     "output_type": "stream",
     "text": [
      "INFO:tensorflow:Assets written to: .\\models\\wind_direction_prediction2.ckpt\\assets\n"
     ]
    },
    {
     "name": "stdout",
     "output_type": "stream",
     "text": [
      "."
     ]
    },
    {
     "name": "stderr",
     "output_type": "stream",
     "text": [
      "WARNING:absl:Found untraced functions such as activation_3_layer_call_fn, activation_3_layer_call_and_return_conditional_losses, activation_3_layer_call_fn, activation_3_layer_call_and_return_conditional_losses, activation_3_layer_call_and_return_conditional_losses while saving (showing 5 of 5). These functions will not be directly callable after loading.\n"
     ]
    },
    {
     "name": "stdout",
     "output_type": "stream",
     "text": [
      "INFO:tensorflow:Assets written to: .\\models\\wind_direction_prediction2.ckpt\\assets\n"
     ]
    },
    {
     "name": "stderr",
     "output_type": "stream",
     "text": [
      "INFO:tensorflow:Assets written to: .\\models\\wind_direction_prediction2.ckpt\\assets\n"
     ]
    },
    {
     "name": "stdout",
     "output_type": "stream",
     "text": [
      "."
     ]
    },
    {
     "name": "stderr",
     "output_type": "stream",
     "text": [
      "WARNING:absl:Found untraced functions such as activation_3_layer_call_fn, activation_3_layer_call_and_return_conditional_losses, activation_3_layer_call_fn, activation_3_layer_call_and_return_conditional_losses, activation_3_layer_call_and_return_conditional_losses while saving (showing 5 of 5). These functions will not be directly callable after loading.\n"
     ]
    },
    {
     "name": "stdout",
     "output_type": "stream",
     "text": [
      "INFO:tensorflow:Assets written to: .\\models\\wind_direction_prediction2.ckpt\\assets\n"
     ]
    },
    {
     "name": "stderr",
     "output_type": "stream",
     "text": [
      "INFO:tensorflow:Assets written to: .\\models\\wind_direction_prediction2.ckpt\\assets\n"
     ]
    },
    {
     "name": "stdout",
     "output_type": "stream",
     "text": [
      "."
     ]
    },
    {
     "name": "stderr",
     "output_type": "stream",
     "text": [
      "WARNING:absl:Found untraced functions such as activation_3_layer_call_fn, activation_3_layer_call_and_return_conditional_losses, activation_3_layer_call_fn, activation_3_layer_call_and_return_conditional_losses, activation_3_layer_call_and_return_conditional_losses while saving (showing 5 of 5). These functions will not be directly callable after loading.\n"
     ]
    },
    {
     "name": "stdout",
     "output_type": "stream",
     "text": [
      "INFO:tensorflow:Assets written to: .\\models\\wind_direction_prediction2.ckpt\\assets\n"
     ]
    },
    {
     "name": "stderr",
     "output_type": "stream",
     "text": [
      "INFO:tensorflow:Assets written to: .\\models\\wind_direction_prediction2.ckpt\\assets\n"
     ]
    },
    {
     "name": "stdout",
     "output_type": "stream",
     "text": [
      "."
     ]
    },
    {
     "name": "stderr",
     "output_type": "stream",
     "text": [
      "WARNING:absl:Found untraced functions such as activation_3_layer_call_fn, activation_3_layer_call_and_return_conditional_losses, activation_3_layer_call_fn, activation_3_layer_call_and_return_conditional_losses, activation_3_layer_call_and_return_conditional_losses while saving (showing 5 of 5). These functions will not be directly callable after loading.\n"
     ]
    },
    {
     "name": "stdout",
     "output_type": "stream",
     "text": [
      "INFO:tensorflow:Assets written to: .\\models\\wind_direction_prediction2.ckpt\\assets\n"
     ]
    },
    {
     "name": "stderr",
     "output_type": "stream",
     "text": [
      "INFO:tensorflow:Assets written to: .\\models\\wind_direction_prediction2.ckpt\\assets\n"
     ]
    },
    {
     "name": "stdout",
     "output_type": "stream",
     "text": [
      "."
     ]
    },
    {
     "name": "stderr",
     "output_type": "stream",
     "text": [
      "WARNING:absl:Found untraced functions such as activation_3_layer_call_fn, activation_3_layer_call_and_return_conditional_losses, activation_3_layer_call_fn, activation_3_layer_call_and_return_conditional_losses, activation_3_layer_call_and_return_conditional_losses while saving (showing 5 of 5). These functions will not be directly callable after loading.\n"
     ]
    },
    {
     "name": "stdout",
     "output_type": "stream",
     "text": [
      "INFO:tensorflow:Assets written to: .\\models\\wind_direction_prediction2.ckpt\\assets\n"
     ]
    },
    {
     "name": "stderr",
     "output_type": "stream",
     "text": [
      "INFO:tensorflow:Assets written to: .\\models\\wind_direction_prediction2.ckpt\\assets\n"
     ]
    },
    {
     "name": "stdout",
     "output_type": "stream",
     "text": [
      "."
     ]
    },
    {
     "name": "stderr",
     "output_type": "stream",
     "text": [
      "WARNING:absl:Found untraced functions such as activation_3_layer_call_fn, activation_3_layer_call_and_return_conditional_losses, activation_3_layer_call_fn, activation_3_layer_call_and_return_conditional_losses, activation_3_layer_call_and_return_conditional_losses while saving (showing 5 of 5). These functions will not be directly callable after loading.\n"
     ]
    },
    {
     "name": "stdout",
     "output_type": "stream",
     "text": [
      "INFO:tensorflow:Assets written to: .\\models\\wind_direction_prediction2.ckpt\\assets\n"
     ]
    },
    {
     "name": "stderr",
     "output_type": "stream",
     "text": [
      "INFO:tensorflow:Assets written to: .\\models\\wind_direction_prediction2.ckpt\\assets\n"
     ]
    },
    {
     "name": "stdout",
     "output_type": "stream",
     "text": [
      "."
     ]
    },
    {
     "name": "stderr",
     "output_type": "stream",
     "text": [
      "WARNING:absl:Found untraced functions such as activation_3_layer_call_fn, activation_3_layer_call_and_return_conditional_losses, activation_3_layer_call_fn, activation_3_layer_call_and_return_conditional_losses, activation_3_layer_call_and_return_conditional_losses while saving (showing 5 of 5). These functions will not be directly callable after loading.\n"
     ]
    },
    {
     "name": "stdout",
     "output_type": "stream",
     "text": [
      "INFO:tensorflow:Assets written to: .\\models\\wind_direction_prediction2.ckpt\\assets\n"
     ]
    },
    {
     "name": "stderr",
     "output_type": "stream",
     "text": [
      "INFO:tensorflow:Assets written to: .\\models\\wind_direction_prediction2.ckpt\\assets\n"
     ]
    },
    {
     "name": "stdout",
     "output_type": "stream",
     "text": [
      "."
     ]
    },
    {
     "name": "stderr",
     "output_type": "stream",
     "text": [
      "WARNING:absl:Found untraced functions such as activation_3_layer_call_fn, activation_3_layer_call_and_return_conditional_losses, activation_3_layer_call_fn, activation_3_layer_call_and_return_conditional_losses, activation_3_layer_call_and_return_conditional_losses while saving (showing 5 of 5). These functions will not be directly callable after loading.\n"
     ]
    },
    {
     "name": "stdout",
     "output_type": "stream",
     "text": [
      "INFO:tensorflow:Assets written to: .\\models\\wind_direction_prediction2.ckpt\\assets\n"
     ]
    },
    {
     "name": "stderr",
     "output_type": "stream",
     "text": [
      "INFO:tensorflow:Assets written to: .\\models\\wind_direction_prediction2.ckpt\\assets\n"
     ]
    },
    {
     "name": "stdout",
     "output_type": "stream",
     "text": [
      "."
     ]
    },
    {
     "name": "stderr",
     "output_type": "stream",
     "text": [
      "WARNING:absl:Found untraced functions such as activation_3_layer_call_fn, activation_3_layer_call_and_return_conditional_losses, activation_3_layer_call_fn, activation_3_layer_call_and_return_conditional_losses, activation_3_layer_call_and_return_conditional_losses while saving (showing 5 of 5). These functions will not be directly callable after loading.\n"
     ]
    },
    {
     "name": "stdout",
     "output_type": "stream",
     "text": [
      "INFO:tensorflow:Assets written to: .\\models\\wind_direction_prediction2.ckpt\\assets\n"
     ]
    },
    {
     "name": "stderr",
     "output_type": "stream",
     "text": [
      "INFO:tensorflow:Assets written to: .\\models\\wind_direction_prediction2.ckpt\\assets\n"
     ]
    },
    {
     "name": "stdout",
     "output_type": "stream",
     "text": [
      "."
     ]
    },
    {
     "name": "stderr",
     "output_type": "stream",
     "text": [
      "WARNING:absl:Found untraced functions such as activation_3_layer_call_fn, activation_3_layer_call_and_return_conditional_losses, activation_3_layer_call_fn, activation_3_layer_call_and_return_conditional_losses, activation_3_layer_call_and_return_conditional_losses while saving (showing 5 of 5). These functions will not be directly callable after loading.\n"
     ]
    },
    {
     "name": "stdout",
     "output_type": "stream",
     "text": [
      "INFO:tensorflow:Assets written to: .\\models\\wind_direction_prediction2.ckpt\\assets\n"
     ]
    },
    {
     "name": "stderr",
     "output_type": "stream",
     "text": [
      "INFO:tensorflow:Assets written to: .\\models\\wind_direction_prediction2.ckpt\\assets\n"
     ]
    },
    {
     "name": "stdout",
     "output_type": "stream",
     "text": [
      "."
     ]
    },
    {
     "name": "stderr",
     "output_type": "stream",
     "text": [
      "WARNING:absl:Found untraced functions such as activation_3_layer_call_fn, activation_3_layer_call_and_return_conditional_losses, activation_3_layer_call_fn, activation_3_layer_call_and_return_conditional_losses, activation_3_layer_call_and_return_conditional_losses while saving (showing 5 of 5). These functions will not be directly callable after loading.\n"
     ]
    },
    {
     "name": "stdout",
     "output_type": "stream",
     "text": [
      "INFO:tensorflow:Assets written to: .\\models\\wind_direction_prediction2.ckpt\\assets\n"
     ]
    },
    {
     "name": "stderr",
     "output_type": "stream",
     "text": [
      "INFO:tensorflow:Assets written to: .\\models\\wind_direction_prediction2.ckpt\\assets\n"
     ]
    },
    {
     "name": "stdout",
     "output_type": "stream",
     "text": [
      "."
     ]
    },
    {
     "name": "stderr",
     "output_type": "stream",
     "text": [
      "WARNING:absl:Found untraced functions such as activation_3_layer_call_fn, activation_3_layer_call_and_return_conditional_losses, activation_3_layer_call_fn, activation_3_layer_call_and_return_conditional_losses, activation_3_layer_call_and_return_conditional_losses while saving (showing 5 of 5). These functions will not be directly callable after loading.\n"
     ]
    },
    {
     "name": "stdout",
     "output_type": "stream",
     "text": [
      "INFO:tensorflow:Assets written to: .\\models\\wind_direction_prediction2.ckpt\\assets\n"
     ]
    },
    {
     "name": "stderr",
     "output_type": "stream",
     "text": [
      "INFO:tensorflow:Assets written to: .\\models\\wind_direction_prediction2.ckpt\\assets\n"
     ]
    },
    {
     "name": "stdout",
     "output_type": "stream",
     "text": [
      "."
     ]
    },
    {
     "name": "stderr",
     "output_type": "stream",
     "text": [
      "WARNING:absl:Found untraced functions such as activation_3_layer_call_fn, activation_3_layer_call_and_return_conditional_losses, activation_3_layer_call_fn, activation_3_layer_call_and_return_conditional_losses, activation_3_layer_call_and_return_conditional_losses while saving (showing 5 of 5). These functions will not be directly callable after loading.\n"
     ]
    },
    {
     "name": "stdout",
     "output_type": "stream",
     "text": [
      "INFO:tensorflow:Assets written to: .\\models\\wind_direction_prediction2.ckpt\\assets\n"
     ]
    },
    {
     "name": "stderr",
     "output_type": "stream",
     "text": [
      "INFO:tensorflow:Assets written to: .\\models\\wind_direction_prediction2.ckpt\\assets\n"
     ]
    },
    {
     "name": "stdout",
     "output_type": "stream",
     "text": [
      "."
     ]
    },
    {
     "name": "stderr",
     "output_type": "stream",
     "text": [
      "WARNING:absl:Found untraced functions such as activation_3_layer_call_fn, activation_3_layer_call_and_return_conditional_losses, activation_3_layer_call_fn, activation_3_layer_call_and_return_conditional_losses, activation_3_layer_call_and_return_conditional_losses while saving (showing 5 of 5). These functions will not be directly callable after loading.\n"
     ]
    },
    {
     "name": "stdout",
     "output_type": "stream",
     "text": [
      "INFO:tensorflow:Assets written to: .\\models\\wind_direction_prediction2.ckpt\\assets\n"
     ]
    },
    {
     "name": "stderr",
     "output_type": "stream",
     "text": [
      "INFO:tensorflow:Assets written to: .\\models\\wind_direction_prediction2.ckpt\\assets\n"
     ]
    },
    {
     "name": "stdout",
     "output_type": "stream",
     "text": [
      "."
     ]
    },
    {
     "name": "stderr",
     "output_type": "stream",
     "text": [
      "WARNING:absl:Found untraced functions such as activation_3_layer_call_fn, activation_3_layer_call_and_return_conditional_losses, activation_3_layer_call_fn, activation_3_layer_call_and_return_conditional_losses, activation_3_layer_call_and_return_conditional_losses while saving (showing 5 of 5). These functions will not be directly callable after loading.\n"
     ]
    },
    {
     "name": "stdout",
     "output_type": "stream",
     "text": [
      "INFO:tensorflow:Assets written to: .\\models\\wind_direction_prediction2.ckpt\\assets\n"
     ]
    },
    {
     "name": "stderr",
     "output_type": "stream",
     "text": [
      "INFO:tensorflow:Assets written to: .\\models\\wind_direction_prediction2.ckpt\\assets\n"
     ]
    },
    {
     "name": "stdout",
     "output_type": "stream",
     "text": [
      "....."
     ]
    },
    {
     "name": "stderr",
     "output_type": "stream",
     "text": [
      "WARNING:absl:Found untraced functions such as activation_3_layer_call_fn, activation_3_layer_call_and_return_conditional_losses, activation_3_layer_call_fn, activation_3_layer_call_and_return_conditional_losses, activation_3_layer_call_and_return_conditional_losses while saving (showing 5 of 5). These functions will not be directly callable after loading.\n"
     ]
    },
    {
     "name": "stdout",
     "output_type": "stream",
     "text": [
      "INFO:tensorflow:Assets written to: .\\models\\wind_direction_prediction2.ckpt\\assets\n"
     ]
    },
    {
     "name": "stderr",
     "output_type": "stream",
     "text": [
      "INFO:tensorflow:Assets written to: .\\models\\wind_direction_prediction2.ckpt\\assets\n"
     ]
    },
    {
     "name": "stdout",
     "output_type": "stream",
     "text": [
      "."
     ]
    },
    {
     "name": "stderr",
     "output_type": "stream",
     "text": [
      "WARNING:absl:Found untraced functions such as activation_3_layer_call_fn, activation_3_layer_call_and_return_conditional_losses, activation_3_layer_call_fn, activation_3_layer_call_and_return_conditional_losses, activation_3_layer_call_and_return_conditional_losses while saving (showing 5 of 5). These functions will not be directly callable after loading.\n"
     ]
    },
    {
     "name": "stdout",
     "output_type": "stream",
     "text": [
      "INFO:tensorflow:Assets written to: .\\models\\wind_direction_prediction2.ckpt\\assets\n"
     ]
    },
    {
     "name": "stderr",
     "output_type": "stream",
     "text": [
      "INFO:tensorflow:Assets written to: .\\models\\wind_direction_prediction2.ckpt\\assets\n"
     ]
    },
    {
     "name": "stdout",
     "output_type": "stream",
     "text": [
      "........"
     ]
    },
    {
     "name": "stderr",
     "output_type": "stream",
     "text": [
      "WARNING:absl:Found untraced functions such as activation_3_layer_call_fn, activation_3_layer_call_and_return_conditional_losses, activation_3_layer_call_fn, activation_3_layer_call_and_return_conditional_losses, activation_3_layer_call_and_return_conditional_losses while saving (showing 5 of 5). These functions will not be directly callable after loading.\n"
     ]
    },
    {
     "name": "stdout",
     "output_type": "stream",
     "text": [
      "INFO:tensorflow:Assets written to: .\\models\\wind_direction_prediction2.ckpt\\assets\n"
     ]
    },
    {
     "name": "stderr",
     "output_type": "stream",
     "text": [
      "INFO:tensorflow:Assets written to: .\\models\\wind_direction_prediction2.ckpt\\assets\n"
     ]
    },
    {
     "name": "stdout",
     "output_type": "stream",
     "text": [
      ".."
     ]
    },
    {
     "name": "stderr",
     "output_type": "stream",
     "text": [
      "WARNING:absl:Found untraced functions such as activation_3_layer_call_fn, activation_3_layer_call_and_return_conditional_losses, activation_3_layer_call_fn, activation_3_layer_call_and_return_conditional_losses, activation_3_layer_call_and_return_conditional_losses while saving (showing 5 of 5). These functions will not be directly callable after loading.\n"
     ]
    },
    {
     "name": "stdout",
     "output_type": "stream",
     "text": [
      "INFO:tensorflow:Assets written to: .\\models\\wind_direction_prediction2.ckpt\\assets\n"
     ]
    },
    {
     "name": "stderr",
     "output_type": "stream",
     "text": [
      "INFO:tensorflow:Assets written to: .\\models\\wind_direction_prediction2.ckpt\\assets\n"
     ]
    },
    {
     "name": "stdout",
     "output_type": "stream",
     "text": [
      "."
     ]
    },
    {
     "name": "stderr",
     "output_type": "stream",
     "text": [
      "WARNING:absl:Found untraced functions such as activation_3_layer_call_fn, activation_3_layer_call_and_return_conditional_losses, activation_3_layer_call_fn, activation_3_layer_call_and_return_conditional_losses, activation_3_layer_call_and_return_conditional_losses while saving (showing 5 of 5). These functions will not be directly callable after loading.\n"
     ]
    },
    {
     "name": "stdout",
     "output_type": "stream",
     "text": [
      "INFO:tensorflow:Assets written to: .\\models\\wind_direction_prediction2.ckpt\\assets\n"
     ]
    },
    {
     "name": "stderr",
     "output_type": "stream",
     "text": [
      "INFO:tensorflow:Assets written to: .\\models\\wind_direction_prediction2.ckpt\\assets\n"
     ]
    },
    {
     "name": "stdout",
     "output_type": "stream",
     "text": [
      ".........................."
     ]
    },
    {
     "name": "stderr",
     "output_type": "stream",
     "text": [
      "WARNING:absl:Found untraced functions such as activation_3_layer_call_fn, activation_3_layer_call_and_return_conditional_losses, activation_3_layer_call_fn, activation_3_layer_call_and_return_conditional_losses, activation_3_layer_call_and_return_conditional_losses while saving (showing 5 of 5). These functions will not be directly callable after loading.\n"
     ]
    },
    {
     "name": "stdout",
     "output_type": "stream",
     "text": [
      "INFO:tensorflow:Assets written to: .\\models\\wind_direction_prediction2.ckpt\\assets\n"
     ]
    },
    {
     "name": "stderr",
     "output_type": "stream",
     "text": [
      "INFO:tensorflow:Assets written to: .\\models\\wind_direction_prediction2.ckpt\\assets\n"
     ]
    },
    {
     "name": "stdout",
     "output_type": "stream",
     "text": [
      "........"
     ]
    },
    {
     "name": "stderr",
     "output_type": "stream",
     "text": [
      "WARNING:absl:Found untraced functions such as activation_3_layer_call_fn, activation_3_layer_call_and_return_conditional_losses, activation_3_layer_call_fn, activation_3_layer_call_and_return_conditional_losses, activation_3_layer_call_and_return_conditional_losses while saving (showing 5 of 5). These functions will not be directly callable after loading.\n"
     ]
    },
    {
     "name": "stdout",
     "output_type": "stream",
     "text": [
      "INFO:tensorflow:Assets written to: .\\models\\wind_direction_prediction2.ckpt\\assets\n"
     ]
    },
    {
     "name": "stderr",
     "output_type": "stream",
     "text": [
      "INFO:tensorflow:Assets written to: .\\models\\wind_direction_prediction2.ckpt\\assets\n"
     ]
    },
    {
     "name": "stdout",
     "output_type": "stream",
     "text": [
      ".."
     ]
    },
    {
     "name": "stderr",
     "output_type": "stream",
     "text": [
      "WARNING:absl:Found untraced functions such as activation_3_layer_call_fn, activation_3_layer_call_and_return_conditional_losses, activation_3_layer_call_fn, activation_3_layer_call_and_return_conditional_losses, activation_3_layer_call_and_return_conditional_losses while saving (showing 5 of 5). These functions will not be directly callable after loading.\n"
     ]
    },
    {
     "name": "stdout",
     "output_type": "stream",
     "text": [
      "INFO:tensorflow:Assets written to: .\\models\\wind_direction_prediction2.ckpt\\assets\n"
     ]
    },
    {
     "name": "stderr",
     "output_type": "stream",
     "text": [
      "INFO:tensorflow:Assets written to: .\\models\\wind_direction_prediction2.ckpt\\assets\n"
     ]
    },
    {
     "name": "stdout",
     "output_type": "stream",
     "text": [
      "..."
     ]
    },
    {
     "name": "stderr",
     "output_type": "stream",
     "text": [
      "WARNING:absl:Found untraced functions such as activation_3_layer_call_fn, activation_3_layer_call_and_return_conditional_losses, activation_3_layer_call_fn, activation_3_layer_call_and_return_conditional_losses, activation_3_layer_call_and_return_conditional_losses while saving (showing 5 of 5). These functions will not be directly callable after loading.\n"
     ]
    },
    {
     "name": "stdout",
     "output_type": "stream",
     "text": [
      "INFO:tensorflow:Assets written to: .\\models\\wind_direction_prediction2.ckpt\\assets\n"
     ]
    },
    {
     "name": "stderr",
     "output_type": "stream",
     "text": [
      "INFO:tensorflow:Assets written to: .\\models\\wind_direction_prediction2.ckpt\\assets\n"
     ]
    },
    {
     "name": "stdout",
     "output_type": "stream",
     "text": [
      ".............."
     ]
    },
    {
     "name": "stderr",
     "output_type": "stream",
     "text": [
      "WARNING:absl:Found untraced functions such as activation_3_layer_call_fn, activation_3_layer_call_and_return_conditional_losses, activation_3_layer_call_fn, activation_3_layer_call_and_return_conditional_losses, activation_3_layer_call_and_return_conditional_losses while saving (showing 5 of 5). These functions will not be directly callable after loading.\n"
     ]
    },
    {
     "name": "stdout",
     "output_type": "stream",
     "text": [
      "INFO:tensorflow:Assets written to: .\\models\\wind_direction_prediction2.ckpt\\assets\n"
     ]
    },
    {
     "name": "stderr",
     "output_type": "stream",
     "text": [
      "INFO:tensorflow:Assets written to: .\\models\\wind_direction_prediction2.ckpt\\assets\n"
     ]
    },
    {
     "name": "stdout",
     "output_type": "stream",
     "text": [
      "...\n",
      "Epoch: 100, loss:3786.2424,  mae:57.0256,  mape:39.2594,  mse:3786.2424,  val_loss:3332.9331,  val_mae:50.0050,  val_mape:37.1688,  val_mse:3332.9331,  \n",
      "...."
     ]
    },
    {
     "name": "stderr",
     "output_type": "stream",
     "text": [
      "WARNING:absl:Found untraced functions such as activation_3_layer_call_fn, activation_3_layer_call_and_return_conditional_losses, activation_3_layer_call_fn, activation_3_layer_call_and_return_conditional_losses, activation_3_layer_call_and_return_conditional_losses while saving (showing 5 of 5). These functions will not be directly callable after loading.\n"
     ]
    },
    {
     "name": "stdout",
     "output_type": "stream",
     "text": [
      "INFO:tensorflow:Assets written to: .\\models\\wind_direction_prediction2.ckpt\\assets\n"
     ]
    },
    {
     "name": "stderr",
     "output_type": "stream",
     "text": [
      "INFO:tensorflow:Assets written to: .\\models\\wind_direction_prediction2.ckpt\\assets\n"
     ]
    },
    {
     "name": "stdout",
     "output_type": "stream",
     "text": [
      "...."
     ]
    },
    {
     "name": "stderr",
     "output_type": "stream",
     "text": [
      "WARNING:absl:Found untraced functions such as activation_3_layer_call_fn, activation_3_layer_call_and_return_conditional_losses, activation_3_layer_call_fn, activation_3_layer_call_and_return_conditional_losses, activation_3_layer_call_and_return_conditional_losses while saving (showing 5 of 5). These functions will not be directly callable after loading.\n"
     ]
    },
    {
     "name": "stdout",
     "output_type": "stream",
     "text": [
      "INFO:tensorflow:Assets written to: .\\models\\wind_direction_prediction2.ckpt\\assets\n"
     ]
    },
    {
     "name": "stderr",
     "output_type": "stream",
     "text": [
      "INFO:tensorflow:Assets written to: .\\models\\wind_direction_prediction2.ckpt\\assets\n"
     ]
    },
    {
     "name": "stdout",
     "output_type": "stream",
     "text": [
      ".."
     ]
    },
    {
     "name": "stderr",
     "output_type": "stream",
     "text": [
      "WARNING:absl:Found untraced functions such as activation_3_layer_call_fn, activation_3_layer_call_and_return_conditional_losses, activation_3_layer_call_fn, activation_3_layer_call_and_return_conditional_losses, activation_3_layer_call_and_return_conditional_losses while saving (showing 5 of 5). These functions will not be directly callable after loading.\n"
     ]
    },
    {
     "name": "stdout",
     "output_type": "stream",
     "text": [
      "INFO:tensorflow:Assets written to: .\\models\\wind_direction_prediction2.ckpt\\assets\n"
     ]
    },
    {
     "name": "stderr",
     "output_type": "stream",
     "text": [
      "INFO:tensorflow:Assets written to: .\\models\\wind_direction_prediction2.ckpt\\assets\n"
     ]
    },
    {
     "name": "stdout",
     "output_type": "stream",
     "text": [
      "..."
     ]
    },
    {
     "name": "stderr",
     "output_type": "stream",
     "text": [
      "WARNING:absl:Found untraced functions such as activation_3_layer_call_fn, activation_3_layer_call_and_return_conditional_losses, activation_3_layer_call_fn, activation_3_layer_call_and_return_conditional_losses, activation_3_layer_call_and_return_conditional_losses while saving (showing 5 of 5). These functions will not be directly callable after loading.\n"
     ]
    },
    {
     "name": "stdout",
     "output_type": "stream",
     "text": [
      "INFO:tensorflow:Assets written to: .\\models\\wind_direction_prediction2.ckpt\\assets\n"
     ]
    },
    {
     "name": "stderr",
     "output_type": "stream",
     "text": [
      "INFO:tensorflow:Assets written to: .\\models\\wind_direction_prediction2.ckpt\\assets\n"
     ]
    },
    {
     "name": "stdout",
     "output_type": "stream",
     "text": [
      "....."
     ]
    },
    {
     "name": "stderr",
     "output_type": "stream",
     "text": [
      "WARNING:absl:Found untraced functions such as activation_3_layer_call_fn, activation_3_layer_call_and_return_conditional_losses, activation_3_layer_call_fn, activation_3_layer_call_and_return_conditional_losses, activation_3_layer_call_and_return_conditional_losses while saving (showing 5 of 5). These functions will not be directly callable after loading.\n"
     ]
    },
    {
     "name": "stdout",
     "output_type": "stream",
     "text": [
      "INFO:tensorflow:Assets written to: .\\models\\wind_direction_prediction2.ckpt\\assets\n"
     ]
    },
    {
     "name": "stderr",
     "output_type": "stream",
     "text": [
      "INFO:tensorflow:Assets written to: .\\models\\wind_direction_prediction2.ckpt\\assets\n"
     ]
    },
    {
     "name": "stdout",
     "output_type": "stream",
     "text": [
      "..."
     ]
    },
    {
     "name": "stderr",
     "output_type": "stream",
     "text": [
      "WARNING:absl:Found untraced functions such as activation_3_layer_call_fn, activation_3_layer_call_and_return_conditional_losses, activation_3_layer_call_fn, activation_3_layer_call_and_return_conditional_losses, activation_3_layer_call_and_return_conditional_losses while saving (showing 5 of 5). These functions will not be directly callable after loading.\n"
     ]
    },
    {
     "name": "stdout",
     "output_type": "stream",
     "text": [
      "INFO:tensorflow:Assets written to: .\\models\\wind_direction_prediction2.ckpt\\assets\n"
     ]
    },
    {
     "name": "stderr",
     "output_type": "stream",
     "text": [
      "INFO:tensorflow:Assets written to: .\\models\\wind_direction_prediction2.ckpt\\assets\n"
     ]
    },
    {
     "name": "stdout",
     "output_type": "stream",
     "text": [
      "........."
     ]
    },
    {
     "name": "stderr",
     "output_type": "stream",
     "text": [
      "WARNING:absl:Found untraced functions such as activation_3_layer_call_fn, activation_3_layer_call_and_return_conditional_losses, activation_3_layer_call_fn, activation_3_layer_call_and_return_conditional_losses, activation_3_layer_call_and_return_conditional_losses while saving (showing 5 of 5). These functions will not be directly callable after loading.\n"
     ]
    },
    {
     "name": "stdout",
     "output_type": "stream",
     "text": [
      "INFO:tensorflow:Assets written to: .\\models\\wind_direction_prediction2.ckpt\\assets\n"
     ]
    },
    {
     "name": "stderr",
     "output_type": "stream",
     "text": [
      "INFO:tensorflow:Assets written to: .\\models\\wind_direction_prediction2.ckpt\\assets\n"
     ]
    },
    {
     "name": "stdout",
     "output_type": "stream",
     "text": [
      ".."
     ]
    },
    {
     "name": "stderr",
     "output_type": "stream",
     "text": [
      "WARNING:absl:Found untraced functions such as activation_3_layer_call_fn, activation_3_layer_call_and_return_conditional_losses, activation_3_layer_call_fn, activation_3_layer_call_and_return_conditional_losses, activation_3_layer_call_and_return_conditional_losses while saving (showing 5 of 5). These functions will not be directly callable after loading.\n"
     ]
    },
    {
     "name": "stdout",
     "output_type": "stream",
     "text": [
      "INFO:tensorflow:Assets written to: .\\models\\wind_direction_prediction2.ckpt\\assets\n"
     ]
    },
    {
     "name": "stderr",
     "output_type": "stream",
     "text": [
      "INFO:tensorflow:Assets written to: .\\models\\wind_direction_prediction2.ckpt\\assets\n"
     ]
    },
    {
     "name": "stdout",
     "output_type": "stream",
     "text": [
      "...."
     ]
    },
    {
     "name": "stderr",
     "output_type": "stream",
     "text": [
      "WARNING:absl:Found untraced functions such as activation_3_layer_call_fn, activation_3_layer_call_and_return_conditional_losses, activation_3_layer_call_fn, activation_3_layer_call_and_return_conditional_losses, activation_3_layer_call_and_return_conditional_losses while saving (showing 5 of 5). These functions will not be directly callable after loading.\n"
     ]
    },
    {
     "name": "stdout",
     "output_type": "stream",
     "text": [
      "INFO:tensorflow:Assets written to: .\\models\\wind_direction_prediction2.ckpt\\assets\n"
     ]
    },
    {
     "name": "stderr",
     "output_type": "stream",
     "text": [
      "INFO:tensorflow:Assets written to: .\\models\\wind_direction_prediction2.ckpt\\assets\n"
     ]
    },
    {
     "name": "stdout",
     "output_type": "stream",
     "text": [
      ".................."
     ]
    },
    {
     "name": "stderr",
     "output_type": "stream",
     "text": [
      "WARNING:absl:Found untraced functions such as activation_3_layer_call_fn, activation_3_layer_call_and_return_conditional_losses, activation_3_layer_call_fn, activation_3_layer_call_and_return_conditional_losses, activation_3_layer_call_and_return_conditional_losses while saving (showing 5 of 5). These functions will not be directly callable after loading.\n"
     ]
    },
    {
     "name": "stdout",
     "output_type": "stream",
     "text": [
      "INFO:tensorflow:Assets written to: .\\models\\wind_direction_prediction2.ckpt\\assets\n"
     ]
    },
    {
     "name": "stderr",
     "output_type": "stream",
     "text": [
      "INFO:tensorflow:Assets written to: .\\models\\wind_direction_prediction2.ckpt\\assets\n"
     ]
    },
    {
     "name": "stdout",
     "output_type": "stream",
     "text": [
      "."
     ]
    },
    {
     "name": "stderr",
     "output_type": "stream",
     "text": [
      "WARNING:absl:Found untraced functions such as activation_3_layer_call_fn, activation_3_layer_call_and_return_conditional_losses, activation_3_layer_call_fn, activation_3_layer_call_and_return_conditional_losses, activation_3_layer_call_and_return_conditional_losses while saving (showing 5 of 5). These functions will not be directly callable after loading.\n"
     ]
    },
    {
     "name": "stdout",
     "output_type": "stream",
     "text": [
      "INFO:tensorflow:Assets written to: .\\models\\wind_direction_prediction2.ckpt\\assets\n"
     ]
    },
    {
     "name": "stderr",
     "output_type": "stream",
     "text": [
      "INFO:tensorflow:Assets written to: .\\models\\wind_direction_prediction2.ckpt\\assets\n"
     ]
    },
    {
     "name": "stdout",
     "output_type": "stream",
     "text": [
      "....."
     ]
    },
    {
     "name": "stderr",
     "output_type": "stream",
     "text": [
      "WARNING:absl:Found untraced functions such as activation_3_layer_call_fn, activation_3_layer_call_and_return_conditional_losses, activation_3_layer_call_fn, activation_3_layer_call_and_return_conditional_losses, activation_3_layer_call_and_return_conditional_losses while saving (showing 5 of 5). These functions will not be directly callable after loading.\n"
     ]
    },
    {
     "name": "stdout",
     "output_type": "stream",
     "text": [
      "INFO:tensorflow:Assets written to: .\\models\\wind_direction_prediction2.ckpt\\assets\n"
     ]
    },
    {
     "name": "stderr",
     "output_type": "stream",
     "text": [
      "INFO:tensorflow:Assets written to: .\\models\\wind_direction_prediction2.ckpt\\assets\n"
     ]
    },
    {
     "name": "stdout",
     "output_type": "stream",
     "text": [
      "............"
     ]
    },
    {
     "name": "stderr",
     "output_type": "stream",
     "text": [
      "WARNING:absl:Found untraced functions such as activation_3_layer_call_fn, activation_3_layer_call_and_return_conditional_losses, activation_3_layer_call_fn, activation_3_layer_call_and_return_conditional_losses, activation_3_layer_call_and_return_conditional_losses while saving (showing 5 of 5). These functions will not be directly callable after loading.\n"
     ]
    },
    {
     "name": "stdout",
     "output_type": "stream",
     "text": [
      "INFO:tensorflow:Assets written to: .\\models\\wind_direction_prediction2.ckpt\\assets\n"
     ]
    },
    {
     "name": "stderr",
     "output_type": "stream",
     "text": [
      "INFO:tensorflow:Assets written to: .\\models\\wind_direction_prediction2.ckpt\\assets\n"
     ]
    },
    {
     "name": "stdout",
     "output_type": "stream",
     "text": [
      "........."
     ]
    },
    {
     "name": "stderr",
     "output_type": "stream",
     "text": [
      "WARNING:absl:Found untraced functions such as activation_3_layer_call_fn, activation_3_layer_call_and_return_conditional_losses, activation_3_layer_call_fn, activation_3_layer_call_and_return_conditional_losses, activation_3_layer_call_and_return_conditional_losses while saving (showing 5 of 5). These functions will not be directly callable after loading.\n"
     ]
    },
    {
     "name": "stdout",
     "output_type": "stream",
     "text": [
      "INFO:tensorflow:Assets written to: .\\models\\wind_direction_prediction2.ckpt\\assets\n"
     ]
    },
    {
     "name": "stderr",
     "output_type": "stream",
     "text": [
      "INFO:tensorflow:Assets written to: .\\models\\wind_direction_prediction2.ckpt\\assets\n"
     ]
    },
    {
     "name": "stdout",
     "output_type": "stream",
     "text": [
      "..........."
     ]
    },
    {
     "name": "stderr",
     "output_type": "stream",
     "text": [
      "WARNING:absl:Found untraced functions such as activation_3_layer_call_fn, activation_3_layer_call_and_return_conditional_losses, activation_3_layer_call_fn, activation_3_layer_call_and_return_conditional_losses, activation_3_layer_call_and_return_conditional_losses while saving (showing 5 of 5). These functions will not be directly callable after loading.\n"
     ]
    },
    {
     "name": "stdout",
     "output_type": "stream",
     "text": [
      "INFO:tensorflow:Assets written to: .\\models\\wind_direction_prediction2.ckpt\\assets\n"
     ]
    },
    {
     "name": "stderr",
     "output_type": "stream",
     "text": [
      "INFO:tensorflow:Assets written to: .\\models\\wind_direction_prediction2.ckpt\\assets\n"
     ]
    },
    {
     "name": "stdout",
     "output_type": "stream",
     "text": [
      "..."
     ]
    },
    {
     "name": "stderr",
     "output_type": "stream",
     "text": [
      "WARNING:absl:Found untraced functions such as activation_3_layer_call_fn, activation_3_layer_call_and_return_conditional_losses, activation_3_layer_call_fn, activation_3_layer_call_and_return_conditional_losses, activation_3_layer_call_and_return_conditional_losses while saving (showing 5 of 5). These functions will not be directly callable after loading.\n"
     ]
    },
    {
     "name": "stdout",
     "output_type": "stream",
     "text": [
      "INFO:tensorflow:Assets written to: .\\models\\wind_direction_prediction2.ckpt\\assets\n"
     ]
    },
    {
     "name": "stderr",
     "output_type": "stream",
     "text": [
      "INFO:tensorflow:Assets written to: .\\models\\wind_direction_prediction2.ckpt\\assets\n"
     ]
    },
    {
     "name": "stdout",
     "output_type": "stream",
     "text": [
      "."
     ]
    },
    {
     "name": "stderr",
     "output_type": "stream",
     "text": [
      "WARNING:absl:Found untraced functions such as activation_3_layer_call_fn, activation_3_layer_call_and_return_conditional_losses, activation_3_layer_call_fn, activation_3_layer_call_and_return_conditional_losses, activation_3_layer_call_and_return_conditional_losses while saving (showing 5 of 5). These functions will not be directly callable after loading.\n"
     ]
    },
    {
     "name": "stdout",
     "output_type": "stream",
     "text": [
      "INFO:tensorflow:Assets written to: .\\models\\wind_direction_prediction2.ckpt\\assets\n"
     ]
    },
    {
     "name": "stderr",
     "output_type": "stream",
     "text": [
      "INFO:tensorflow:Assets written to: .\\models\\wind_direction_prediction2.ckpt\\assets\n"
     ]
    },
    {
     "name": "stdout",
     "output_type": "stream",
     "text": [
      "."
     ]
    },
    {
     "name": "stderr",
     "output_type": "stream",
     "text": [
      "WARNING:absl:Found untraced functions such as activation_3_layer_call_fn, activation_3_layer_call_and_return_conditional_losses, activation_3_layer_call_fn, activation_3_layer_call_and_return_conditional_losses, activation_3_layer_call_and_return_conditional_losses while saving (showing 5 of 5). These functions will not be directly callable after loading.\n"
     ]
    },
    {
     "name": "stdout",
     "output_type": "stream",
     "text": [
      "INFO:tensorflow:Assets written to: .\\models\\wind_direction_prediction2.ckpt\\assets\n"
     ]
    },
    {
     "name": "stderr",
     "output_type": "stream",
     "text": [
      "INFO:tensorflow:Assets written to: .\\models\\wind_direction_prediction2.ckpt\\assets\n"
     ]
    },
    {
     "name": "stdout",
     "output_type": "stream",
     "text": [
      "...\n",
      "Epoch: 200, loss:5066.9546,  mae:60.3384,  mape:51.7157,  mse:5066.9546,  val_loss:3025.3918,  val_mae:48.9949,  val_mape:33.9490,  val_mse:3025.3918,  \n",
      ".."
     ]
    },
    {
     "name": "stderr",
     "output_type": "stream",
     "text": [
      "WARNING:absl:Found untraced functions such as activation_3_layer_call_fn, activation_3_layer_call_and_return_conditional_losses, activation_3_layer_call_fn, activation_3_layer_call_and_return_conditional_losses, activation_3_layer_call_and_return_conditional_losses while saving (showing 5 of 5). These functions will not be directly callable after loading.\n"
     ]
    },
    {
     "name": "stdout",
     "output_type": "stream",
     "text": [
      "INFO:tensorflow:Assets written to: .\\models\\wind_direction_prediction2.ckpt\\assets\n"
     ]
    },
    {
     "name": "stderr",
     "output_type": "stream",
     "text": [
      "INFO:tensorflow:Assets written to: .\\models\\wind_direction_prediction2.ckpt\\assets\n"
     ]
    },
    {
     "name": "stdout",
     "output_type": "stream",
     "text": [
      "......"
     ]
    },
    {
     "name": "stderr",
     "output_type": "stream",
     "text": [
      "WARNING:absl:Found untraced functions such as activation_3_layer_call_fn, activation_3_layer_call_and_return_conditional_losses, activation_3_layer_call_fn, activation_3_layer_call_and_return_conditional_losses, activation_3_layer_call_and_return_conditional_losses while saving (showing 5 of 5). These functions will not be directly callable after loading.\n"
     ]
    },
    {
     "name": "stdout",
     "output_type": "stream",
     "text": [
      "INFO:tensorflow:Assets written to: .\\models\\wind_direction_prediction2.ckpt\\assets\n"
     ]
    },
    {
     "name": "stderr",
     "output_type": "stream",
     "text": [
      "INFO:tensorflow:Assets written to: .\\models\\wind_direction_prediction2.ckpt\\assets\n"
     ]
    },
    {
     "name": "stdout",
     "output_type": "stream",
     "text": [
      "......"
     ]
    },
    {
     "name": "stderr",
     "output_type": "stream",
     "text": [
      "WARNING:absl:Found untraced functions such as activation_3_layer_call_fn, activation_3_layer_call_and_return_conditional_losses, activation_3_layer_call_fn, activation_3_layer_call_and_return_conditional_losses, activation_3_layer_call_and_return_conditional_losses while saving (showing 5 of 5). These functions will not be directly callable after loading.\n"
     ]
    },
    {
     "name": "stdout",
     "output_type": "stream",
     "text": [
      "INFO:tensorflow:Assets written to: .\\models\\wind_direction_prediction2.ckpt\\assets\n"
     ]
    },
    {
     "name": "stderr",
     "output_type": "stream",
     "text": [
      "INFO:tensorflow:Assets written to: .\\models\\wind_direction_prediction2.ckpt\\assets\n"
     ]
    },
    {
     "name": "stdout",
     "output_type": "stream",
     "text": [
      "....."
     ]
    },
    {
     "name": "stderr",
     "output_type": "stream",
     "text": [
      "WARNING:absl:Found untraced functions such as activation_3_layer_call_fn, activation_3_layer_call_and_return_conditional_losses, activation_3_layer_call_fn, activation_3_layer_call_and_return_conditional_losses, activation_3_layer_call_and_return_conditional_losses while saving (showing 5 of 5). These functions will not be directly callable after loading.\n"
     ]
    },
    {
     "name": "stdout",
     "output_type": "stream",
     "text": [
      "INFO:tensorflow:Assets written to: .\\models\\wind_direction_prediction2.ckpt\\assets\n"
     ]
    },
    {
     "name": "stderr",
     "output_type": "stream",
     "text": [
      "INFO:tensorflow:Assets written to: .\\models\\wind_direction_prediction2.ckpt\\assets\n"
     ]
    },
    {
     "name": "stdout",
     "output_type": "stream",
     "text": [
      "........."
     ]
    },
    {
     "name": "stderr",
     "output_type": "stream",
     "text": [
      "WARNING:absl:Found untraced functions such as activation_3_layer_call_fn, activation_3_layer_call_and_return_conditional_losses, activation_3_layer_call_fn, activation_3_layer_call_and_return_conditional_losses, activation_3_layer_call_and_return_conditional_losses while saving (showing 5 of 5). These functions will not be directly callable after loading.\n"
     ]
    },
    {
     "name": "stdout",
     "output_type": "stream",
     "text": [
      "INFO:tensorflow:Assets written to: .\\models\\wind_direction_prediction2.ckpt\\assets\n"
     ]
    },
    {
     "name": "stderr",
     "output_type": "stream",
     "text": [
      "INFO:tensorflow:Assets written to: .\\models\\wind_direction_prediction2.ckpt\\assets\n"
     ]
    },
    {
     "name": "stdout",
     "output_type": "stream",
     "text": [
      "..."
     ]
    },
    {
     "name": "stderr",
     "output_type": "stream",
     "text": [
      "WARNING:absl:Found untraced functions such as activation_3_layer_call_fn, activation_3_layer_call_and_return_conditional_losses, activation_3_layer_call_fn, activation_3_layer_call_and_return_conditional_losses, activation_3_layer_call_and_return_conditional_losses while saving (showing 5 of 5). These functions will not be directly callable after loading.\n"
     ]
    },
    {
     "name": "stdout",
     "output_type": "stream",
     "text": [
      "INFO:tensorflow:Assets written to: .\\models\\wind_direction_prediction2.ckpt\\assets\n"
     ]
    },
    {
     "name": "stderr",
     "output_type": "stream",
     "text": [
      "INFO:tensorflow:Assets written to: .\\models\\wind_direction_prediction2.ckpt\\assets\n"
     ]
    },
    {
     "name": "stdout",
     "output_type": "stream",
     "text": [
      "."
     ]
    },
    {
     "name": "stderr",
     "output_type": "stream",
     "text": [
      "WARNING:absl:Found untraced functions such as activation_3_layer_call_fn, activation_3_layer_call_and_return_conditional_losses, activation_3_layer_call_fn, activation_3_layer_call_and_return_conditional_losses, activation_3_layer_call_and_return_conditional_losses while saving (showing 5 of 5). These functions will not be directly callable after loading.\n"
     ]
    },
    {
     "name": "stdout",
     "output_type": "stream",
     "text": [
      "INFO:tensorflow:Assets written to: .\\models\\wind_direction_prediction2.ckpt\\assets\n"
     ]
    },
    {
     "name": "stderr",
     "output_type": "stream",
     "text": [
      "INFO:tensorflow:Assets written to: .\\models\\wind_direction_prediction2.ckpt\\assets\n"
     ]
    },
    {
     "name": "stdout",
     "output_type": "stream",
     "text": [
      "..........."
     ]
    },
    {
     "name": "stderr",
     "output_type": "stream",
     "text": [
      "WARNING:absl:Found untraced functions such as activation_3_layer_call_fn, activation_3_layer_call_and_return_conditional_losses, activation_3_layer_call_fn, activation_3_layer_call_and_return_conditional_losses, activation_3_layer_call_and_return_conditional_losses while saving (showing 5 of 5). These functions will not be directly callable after loading.\n"
     ]
    },
    {
     "name": "stdout",
     "output_type": "stream",
     "text": [
      "INFO:tensorflow:Assets written to: .\\models\\wind_direction_prediction2.ckpt\\assets\n"
     ]
    },
    {
     "name": "stderr",
     "output_type": "stream",
     "text": [
      "INFO:tensorflow:Assets written to: .\\models\\wind_direction_prediction2.ckpt\\assets\n"
     ]
    },
    {
     "name": "stdout",
     "output_type": "stream",
     "text": [
      "........"
     ]
    },
    {
     "name": "stderr",
     "output_type": "stream",
     "text": [
      "WARNING:absl:Found untraced functions such as activation_3_layer_call_fn, activation_3_layer_call_and_return_conditional_losses, activation_3_layer_call_fn, activation_3_layer_call_and_return_conditional_losses, activation_3_layer_call_and_return_conditional_losses while saving (showing 5 of 5). These functions will not be directly callable after loading.\n"
     ]
    },
    {
     "name": "stdout",
     "output_type": "stream",
     "text": [
      "INFO:tensorflow:Assets written to: .\\models\\wind_direction_prediction2.ckpt\\assets\n"
     ]
    },
    {
     "name": "stderr",
     "output_type": "stream",
     "text": [
      "INFO:tensorflow:Assets written to: .\\models\\wind_direction_prediction2.ckpt\\assets\n"
     ]
    },
    {
     "name": "stdout",
     "output_type": "stream",
     "text": [
      "........."
     ]
    },
    {
     "name": "stderr",
     "output_type": "stream",
     "text": [
      "WARNING:absl:Found untraced functions such as activation_3_layer_call_fn, activation_3_layer_call_and_return_conditional_losses, activation_3_layer_call_fn, activation_3_layer_call_and_return_conditional_losses, activation_3_layer_call_and_return_conditional_losses while saving (showing 5 of 5). These functions will not be directly callable after loading.\n"
     ]
    },
    {
     "name": "stdout",
     "output_type": "stream",
     "text": [
      "INFO:tensorflow:Assets written to: .\\models\\wind_direction_prediction2.ckpt\\assets\n"
     ]
    },
    {
     "name": "stderr",
     "output_type": "stream",
     "text": [
      "INFO:tensorflow:Assets written to: .\\models\\wind_direction_prediction2.ckpt\\assets\n"
     ]
    },
    {
     "name": "stdout",
     "output_type": "stream",
     "text": [
      "......."
     ]
    },
    {
     "name": "stderr",
     "output_type": "stream",
     "text": [
      "WARNING:absl:Found untraced functions such as activation_3_layer_call_fn, activation_3_layer_call_and_return_conditional_losses, activation_3_layer_call_fn, activation_3_layer_call_and_return_conditional_losses, activation_3_layer_call_and_return_conditional_losses while saving (showing 5 of 5). These functions will not be directly callable after loading.\n"
     ]
    },
    {
     "name": "stdout",
     "output_type": "stream",
     "text": [
      "INFO:tensorflow:Assets written to: .\\models\\wind_direction_prediction2.ckpt\\assets\n"
     ]
    },
    {
     "name": "stderr",
     "output_type": "stream",
     "text": [
      "INFO:tensorflow:Assets written to: .\\models\\wind_direction_prediction2.ckpt\\assets\n"
     ]
    },
    {
     "name": "stdout",
     "output_type": "stream",
     "text": [
      "."
     ]
    },
    {
     "name": "stderr",
     "output_type": "stream",
     "text": [
      "WARNING:absl:Found untraced functions such as activation_3_layer_call_fn, activation_3_layer_call_and_return_conditional_losses, activation_3_layer_call_fn, activation_3_layer_call_and_return_conditional_losses, activation_3_layer_call_and_return_conditional_losses while saving (showing 5 of 5). These functions will not be directly callable after loading.\n"
     ]
    },
    {
     "name": "stdout",
     "output_type": "stream",
     "text": [
      "INFO:tensorflow:Assets written to: .\\models\\wind_direction_prediction2.ckpt\\assets\n"
     ]
    },
    {
     "name": "stderr",
     "output_type": "stream",
     "text": [
      "INFO:tensorflow:Assets written to: .\\models\\wind_direction_prediction2.ckpt\\assets\n"
     ]
    },
    {
     "name": "stdout",
     "output_type": "stream",
     "text": [
      "........"
     ]
    },
    {
     "name": "stderr",
     "output_type": "stream",
     "text": [
      "WARNING:absl:Found untraced functions such as activation_3_layer_call_fn, activation_3_layer_call_and_return_conditional_losses, activation_3_layer_call_fn, activation_3_layer_call_and_return_conditional_losses, activation_3_layer_call_and_return_conditional_losses while saving (showing 5 of 5). These functions will not be directly callable after loading.\n"
     ]
    },
    {
     "name": "stdout",
     "output_type": "stream",
     "text": [
      "INFO:tensorflow:Assets written to: .\\models\\wind_direction_prediction2.ckpt\\assets\n"
     ]
    },
    {
     "name": "stderr",
     "output_type": "stream",
     "text": [
      "INFO:tensorflow:Assets written to: .\\models\\wind_direction_prediction2.ckpt\\assets\n"
     ]
    },
    {
     "name": "stdout",
     "output_type": "stream",
     "text": [
      "."
     ]
    },
    {
     "name": "stderr",
     "output_type": "stream",
     "text": [
      "WARNING:absl:Found untraced functions such as activation_3_layer_call_fn, activation_3_layer_call_and_return_conditional_losses, activation_3_layer_call_fn, activation_3_layer_call_and_return_conditional_losses, activation_3_layer_call_and_return_conditional_losses while saving (showing 5 of 5). These functions will not be directly callable after loading.\n"
     ]
    },
    {
     "name": "stdout",
     "output_type": "stream",
     "text": [
      "INFO:tensorflow:Assets written to: .\\models\\wind_direction_prediction2.ckpt\\assets\n"
     ]
    },
    {
     "name": "stderr",
     "output_type": "stream",
     "text": [
      "INFO:tensorflow:Assets written to: .\\models\\wind_direction_prediction2.ckpt\\assets\n"
     ]
    },
    {
     "name": "stdout",
     "output_type": "stream",
     "text": [
      "...."
     ]
    },
    {
     "name": "stderr",
     "output_type": "stream",
     "text": [
      "WARNING:absl:Found untraced functions such as activation_3_layer_call_fn, activation_3_layer_call_and_return_conditional_losses, activation_3_layer_call_fn, activation_3_layer_call_and_return_conditional_losses, activation_3_layer_call_and_return_conditional_losses while saving (showing 5 of 5). These functions will not be directly callable after loading.\n"
     ]
    },
    {
     "name": "stdout",
     "output_type": "stream",
     "text": [
      "INFO:tensorflow:Assets written to: .\\models\\wind_direction_prediction2.ckpt\\assets\n"
     ]
    },
    {
     "name": "stderr",
     "output_type": "stream",
     "text": [
      "INFO:tensorflow:Assets written to: .\\models\\wind_direction_prediction2.ckpt\\assets\n"
     ]
    },
    {
     "name": "stdout",
     "output_type": "stream",
     "text": [
      "...................\n",
      "Epoch: 300, loss:1271.5970,  mae:30.6756,  mape:15.7573,  mse:1271.5970,  val_loss:3075.4258,  val_mae:47.5667,  val_mape:34.7140,  val_mse:3075.4258,  \n",
      "........"
     ]
    },
    {
     "name": "stderr",
     "output_type": "stream",
     "text": [
      "WARNING:absl:Found untraced functions such as activation_3_layer_call_fn, activation_3_layer_call_and_return_conditional_losses, activation_3_layer_call_fn, activation_3_layer_call_and_return_conditional_losses, activation_3_layer_call_and_return_conditional_losses while saving (showing 5 of 5). These functions will not be directly callable after loading.\n"
     ]
    },
    {
     "name": "stdout",
     "output_type": "stream",
     "text": [
      "INFO:tensorflow:Assets written to: .\\models\\wind_direction_prediction2.ckpt\\assets\n"
     ]
    },
    {
     "name": "stderr",
     "output_type": "stream",
     "text": [
      "INFO:tensorflow:Assets written to: .\\models\\wind_direction_prediction2.ckpt\\assets\n"
     ]
    },
    {
     "name": "stdout",
     "output_type": "stream",
     "text": [
      "........."
     ]
    },
    {
     "name": "stderr",
     "output_type": "stream",
     "text": [
      "WARNING:absl:Found untraced functions such as activation_3_layer_call_fn, activation_3_layer_call_and_return_conditional_losses, activation_3_layer_call_fn, activation_3_layer_call_and_return_conditional_losses, activation_3_layer_call_and_return_conditional_losses while saving (showing 5 of 5). These functions will not be directly callable after loading.\n"
     ]
    },
    {
     "name": "stdout",
     "output_type": "stream",
     "text": [
      "INFO:tensorflow:Assets written to: .\\models\\wind_direction_prediction2.ckpt\\assets\n"
     ]
    },
    {
     "name": "stderr",
     "output_type": "stream",
     "text": [
      "INFO:tensorflow:Assets written to: .\\models\\wind_direction_prediction2.ckpt\\assets\n"
     ]
    },
    {
     "name": "stdout",
     "output_type": "stream",
     "text": [
      "."
     ]
    },
    {
     "name": "stderr",
     "output_type": "stream",
     "text": [
      "WARNING:absl:Found untraced functions such as activation_3_layer_call_fn, activation_3_layer_call_and_return_conditional_losses, activation_3_layer_call_fn, activation_3_layer_call_and_return_conditional_losses, activation_3_layer_call_and_return_conditional_losses while saving (showing 5 of 5). These functions will not be directly callable after loading.\n"
     ]
    },
    {
     "name": "stdout",
     "output_type": "stream",
     "text": [
      "INFO:tensorflow:Assets written to: .\\models\\wind_direction_prediction2.ckpt\\assets\n"
     ]
    },
    {
     "name": "stderr",
     "output_type": "stream",
     "text": [
      "INFO:tensorflow:Assets written to: .\\models\\wind_direction_prediction2.ckpt\\assets\n"
     ]
    },
    {
     "name": "stdout",
     "output_type": "stream",
     "text": [
      "........."
     ]
    },
    {
     "name": "stderr",
     "output_type": "stream",
     "text": [
      "WARNING:absl:Found untraced functions such as activation_3_layer_call_fn, activation_3_layer_call_and_return_conditional_losses, activation_3_layer_call_fn, activation_3_layer_call_and_return_conditional_losses, activation_3_layer_call_and_return_conditional_losses while saving (showing 5 of 5). These functions will not be directly callable after loading.\n"
     ]
    },
    {
     "name": "stdout",
     "output_type": "stream",
     "text": [
      "INFO:tensorflow:Assets written to: .\\models\\wind_direction_prediction2.ckpt\\assets\n"
     ]
    },
    {
     "name": "stderr",
     "output_type": "stream",
     "text": [
      "INFO:tensorflow:Assets written to: .\\models\\wind_direction_prediction2.ckpt\\assets\n"
     ]
    },
    {
     "name": "stdout",
     "output_type": "stream",
     "text": [
      ".."
     ]
    },
    {
     "name": "stderr",
     "output_type": "stream",
     "text": [
      "WARNING:absl:Found untraced functions such as activation_3_layer_call_fn, activation_3_layer_call_and_return_conditional_losses, activation_3_layer_call_fn, activation_3_layer_call_and_return_conditional_losses, activation_3_layer_call_and_return_conditional_losses while saving (showing 5 of 5). These functions will not be directly callable after loading.\n"
     ]
    },
    {
     "name": "stdout",
     "output_type": "stream",
     "text": [
      "INFO:tensorflow:Assets written to: .\\models\\wind_direction_prediction2.ckpt\\assets\n"
     ]
    },
    {
     "name": "stderr",
     "output_type": "stream",
     "text": [
      "INFO:tensorflow:Assets written to: .\\models\\wind_direction_prediction2.ckpt\\assets\n"
     ]
    },
    {
     "name": "stdout",
     "output_type": "stream",
     "text": [
      "....."
     ]
    },
    {
     "name": "stderr",
     "output_type": "stream",
     "text": [
      "WARNING:absl:Found untraced functions such as activation_3_layer_call_fn, activation_3_layer_call_and_return_conditional_losses, activation_3_layer_call_fn, activation_3_layer_call_and_return_conditional_losses, activation_3_layer_call_and_return_conditional_losses while saving (showing 5 of 5). These functions will not be directly callable after loading.\n"
     ]
    },
    {
     "name": "stdout",
     "output_type": "stream",
     "text": [
      "INFO:tensorflow:Assets written to: .\\models\\wind_direction_prediction2.ckpt\\assets\n"
     ]
    },
    {
     "name": "stderr",
     "output_type": "stream",
     "text": [
      "INFO:tensorflow:Assets written to: .\\models\\wind_direction_prediction2.ckpt\\assets\n"
     ]
    },
    {
     "name": "stdout",
     "output_type": "stream",
     "text": [
      ".................................."
     ]
    },
    {
     "name": "stderr",
     "output_type": "stream",
     "text": [
      "WARNING:absl:Found untraced functions such as activation_3_layer_call_fn, activation_3_layer_call_and_return_conditional_losses, activation_3_layer_call_fn, activation_3_layer_call_and_return_conditional_losses, activation_3_layer_call_and_return_conditional_losses while saving (showing 5 of 5). These functions will not be directly callable after loading.\n"
     ]
    },
    {
     "name": "stdout",
     "output_type": "stream",
     "text": [
      "INFO:tensorflow:Assets written to: .\\models\\wind_direction_prediction2.ckpt\\assets\n"
     ]
    },
    {
     "name": "stderr",
     "output_type": "stream",
     "text": [
      "INFO:tensorflow:Assets written to: .\\models\\wind_direction_prediction2.ckpt\\assets\n"
     ]
    },
    {
     "name": "stdout",
     "output_type": "stream",
     "text": [
      "................................\n",
      "Epoch: 400, loss:2085.5422,  mae:43.3256,  mape:24.4479,  mse:2085.5422,  val_loss:3188.7271,  val_mae:47.3964,  val_mape:35.5149,  val_mse:3188.7271,  \n",
      "...."
     ]
    },
    {
     "name": "stderr",
     "output_type": "stream",
     "text": [
      "WARNING:absl:Found untraced functions such as activation_3_layer_call_fn, activation_3_layer_call_and_return_conditional_losses, activation_3_layer_call_fn, activation_3_layer_call_and_return_conditional_losses, activation_3_layer_call_and_return_conditional_losses while saving (showing 5 of 5). These functions will not be directly callable after loading.\n"
     ]
    },
    {
     "name": "stdout",
     "output_type": "stream",
     "text": [
      "INFO:tensorflow:Assets written to: .\\models\\wind_direction_prediction2.ckpt\\assets\n"
     ]
    },
    {
     "name": "stderr",
     "output_type": "stream",
     "text": [
      "INFO:tensorflow:Assets written to: .\\models\\wind_direction_prediction2.ckpt\\assets\n"
     ]
    },
    {
     "name": "stdout",
     "output_type": "stream",
     "text": [
      "...."
     ]
    },
    {
     "name": "stderr",
     "output_type": "stream",
     "text": [
      "WARNING:absl:Found untraced functions such as activation_3_layer_call_fn, activation_3_layer_call_and_return_conditional_losses, activation_3_layer_call_fn, activation_3_layer_call_and_return_conditional_losses, activation_3_layer_call_and_return_conditional_losses while saving (showing 5 of 5). These functions will not be directly callable after loading.\n"
     ]
    },
    {
     "name": "stdout",
     "output_type": "stream",
     "text": [
      "INFO:tensorflow:Assets written to: .\\models\\wind_direction_prediction2.ckpt\\assets\n"
     ]
    },
    {
     "name": "stderr",
     "output_type": "stream",
     "text": [
      "INFO:tensorflow:Assets written to: .\\models\\wind_direction_prediction2.ckpt\\assets\n"
     ]
    },
    {
     "name": "stdout",
     "output_type": "stream",
     "text": [
      "....."
     ]
    },
    {
     "name": "stderr",
     "output_type": "stream",
     "text": [
      "WARNING:absl:Found untraced functions such as activation_3_layer_call_fn, activation_3_layer_call_and_return_conditional_losses, activation_3_layer_call_fn, activation_3_layer_call_and_return_conditional_losses, activation_3_layer_call_and_return_conditional_losses while saving (showing 5 of 5). These functions will not be directly callable after loading.\n"
     ]
    },
    {
     "name": "stdout",
     "output_type": "stream",
     "text": [
      "INFO:tensorflow:Assets written to: .\\models\\wind_direction_prediction2.ckpt\\assets\n"
     ]
    },
    {
     "name": "stderr",
     "output_type": "stream",
     "text": [
      "INFO:tensorflow:Assets written to: .\\models\\wind_direction_prediction2.ckpt\\assets\n"
     ]
    },
    {
     "name": "stdout",
     "output_type": "stream",
     "text": [
      "......"
     ]
    },
    {
     "name": "stderr",
     "output_type": "stream",
     "text": [
      "WARNING:absl:Found untraced functions such as activation_3_layer_call_fn, activation_3_layer_call_and_return_conditional_losses, activation_3_layer_call_fn, activation_3_layer_call_and_return_conditional_losses, activation_3_layer_call_and_return_conditional_losses while saving (showing 5 of 5). These functions will not be directly callable after loading.\n"
     ]
    },
    {
     "name": "stdout",
     "output_type": "stream",
     "text": [
      "INFO:tensorflow:Assets written to: .\\models\\wind_direction_prediction2.ckpt\\assets\n"
     ]
    },
    {
     "name": "stderr",
     "output_type": "stream",
     "text": [
      "INFO:tensorflow:Assets written to: .\\models\\wind_direction_prediction2.ckpt\\assets\n"
     ]
    },
    {
     "name": "stdout",
     "output_type": "stream",
     "text": [
      "..."
     ]
    },
    {
     "name": "stderr",
     "output_type": "stream",
     "text": [
      "WARNING:absl:Found untraced functions such as activation_3_layer_call_fn, activation_3_layer_call_and_return_conditional_losses, activation_3_layer_call_fn, activation_3_layer_call_and_return_conditional_losses, activation_3_layer_call_and_return_conditional_losses while saving (showing 5 of 5). These functions will not be directly callable after loading.\n"
     ]
    },
    {
     "name": "stdout",
     "output_type": "stream",
     "text": [
      "INFO:tensorflow:Assets written to: .\\models\\wind_direction_prediction2.ckpt\\assets\n"
     ]
    },
    {
     "name": "stderr",
     "output_type": "stream",
     "text": [
      "INFO:tensorflow:Assets written to: .\\models\\wind_direction_prediction2.ckpt\\assets\n"
     ]
    },
    {
     "name": "stdout",
     "output_type": "stream",
     "text": [
      "............................................................"
     ]
    },
    {
     "name": "stderr",
     "output_type": "stream",
     "text": [
      "WARNING:absl:Found untraced functions such as activation_3_layer_call_fn, activation_3_layer_call_and_return_conditional_losses, activation_3_layer_call_fn, activation_3_layer_call_and_return_conditional_losses, activation_3_layer_call_and_return_conditional_losses while saving (showing 5 of 5). These functions will not be directly callable after loading.\n"
     ]
    },
    {
     "name": "stdout",
     "output_type": "stream",
     "text": [
      "INFO:tensorflow:Assets written to: .\\models\\wind_direction_prediction2.ckpt\\assets\n"
     ]
    },
    {
     "name": "stderr",
     "output_type": "stream",
     "text": [
      "INFO:tensorflow:Assets written to: .\\models\\wind_direction_prediction2.ckpt\\assets\n"
     ]
    },
    {
     "name": "stdout",
     "output_type": "stream",
     "text": [
      "......"
     ]
    },
    {
     "name": "stderr",
     "output_type": "stream",
     "text": [
      "WARNING:absl:Found untraced functions such as activation_3_layer_call_fn, activation_3_layer_call_and_return_conditional_losses, activation_3_layer_call_fn, activation_3_layer_call_and_return_conditional_losses, activation_3_layer_call_and_return_conditional_losses while saving (showing 5 of 5). These functions will not be directly callable after loading.\n"
     ]
    },
    {
     "name": "stdout",
     "output_type": "stream",
     "text": [
      "INFO:tensorflow:Assets written to: .\\models\\wind_direction_prediction2.ckpt\\assets\n"
     ]
    },
    {
     "name": "stderr",
     "output_type": "stream",
     "text": [
      "INFO:tensorflow:Assets written to: .\\models\\wind_direction_prediction2.ckpt\\assets\n"
     ]
    },
    {
     "name": "stdout",
     "output_type": "stream",
     "text": [
      "............Wall time: 2min 58s\n"
     ]
    }
   ],
   "source": [
    "%%time\n",
    "\n",
    "EPOCHS = 500\n",
    "batch_size = 6\n",
    "\n",
    "model2 = model2_multilayer_perceptron_with_one_hidden_layer()\n",
    "print('Here is a summary of this model: ')\n",
    "model2.summary()\n",
    "\n",
    "with tf.device('/CPU:0'):\n",
    "    history = model2.fit(\n",
    "        normed_train_data,\n",
    "        train_labels,\n",
    "        batch_size = batch_size,\n",
    "        epochs=EPOCHS,\n",
    "        verbose=0,\n",
    "        shuffle=True,\n",
    "        steps_per_epoch= 1,\n",
    "        validation_data = (normed_valid_dataset, valid_labels),\n",
    "        callbacks=[tfdocs.modeling.EpochDots(), ckpt_callback],\n",
    "    )\n"
   ]
  },
  {
   "cell_type": "code",
   "execution_count": 50,
   "id": "607358d9",
   "metadata": {},
   "outputs": [
    {
     "name": "stdout",
     "output_type": "stream",
     "text": [
      "Summary of the results after each epoch: \n"
     ]
    },
    {
     "data": {
      "text/html": [
       "<div>\n",
       "<style scoped>\n",
       "    .dataframe tbody tr th:only-of-type {\n",
       "        vertical-align: middle;\n",
       "    }\n",
       "\n",
       "    .dataframe tbody tr th {\n",
       "        vertical-align: top;\n",
       "    }\n",
       "\n",
       "    .dataframe thead th {\n",
       "        text-align: right;\n",
       "    }\n",
       "</style>\n",
       "<table border=\"1\" class=\"dataframe\">\n",
       "  <thead>\n",
       "    <tr style=\"text-align: right;\">\n",
       "      <th></th>\n",
       "      <th>loss</th>\n",
       "      <th>mae</th>\n",
       "      <th>mse</th>\n",
       "      <th>mape</th>\n",
       "      <th>val_loss</th>\n",
       "      <th>val_mae</th>\n",
       "      <th>val_mse</th>\n",
       "      <th>val_mape</th>\n",
       "      <th>epoch</th>\n",
       "    </tr>\n",
       "  </thead>\n",
       "  <tbody>\n",
       "    <tr>\n",
       "      <th>495</th>\n",
       "      <td>5189.010254</td>\n",
       "      <td>56.844833</td>\n",
       "      <td>5189.010254</td>\n",
       "      <td>52.421143</td>\n",
       "      <td>2962.164062</td>\n",
       "      <td>45.910931</td>\n",
       "      <td>2962.164062</td>\n",
       "      <td>33.200645</td>\n",
       "      <td>495</td>\n",
       "    </tr>\n",
       "    <tr>\n",
       "      <th>496</th>\n",
       "      <td>1693.516602</td>\n",
       "      <td>41.137951</td>\n",
       "      <td>1693.516602</td>\n",
       "      <td>19.623528</td>\n",
       "      <td>3051.803955</td>\n",
       "      <td>46.382542</td>\n",
       "      <td>3051.803955</td>\n",
       "      <td>34.168354</td>\n",
       "      <td>496</td>\n",
       "    </tr>\n",
       "    <tr>\n",
       "      <th>497</th>\n",
       "      <td>1313.349243</td>\n",
       "      <td>32.749420</td>\n",
       "      <td>1313.349243</td>\n",
       "      <td>14.897629</td>\n",
       "      <td>3221.423096</td>\n",
       "      <td>47.073429</td>\n",
       "      <td>3221.423096</td>\n",
       "      <td>35.578651</td>\n",
       "      <td>497</td>\n",
       "    </tr>\n",
       "    <tr>\n",
       "      <th>498</th>\n",
       "      <td>2173.678955</td>\n",
       "      <td>38.855537</td>\n",
       "      <td>2173.678955</td>\n",
       "      <td>22.059931</td>\n",
       "      <td>3218.374512</td>\n",
       "      <td>47.103569</td>\n",
       "      <td>3218.374512</td>\n",
       "      <td>35.591755</td>\n",
       "      <td>498</td>\n",
       "    </tr>\n",
       "    <tr>\n",
       "      <th>499</th>\n",
       "      <td>4129.306641</td>\n",
       "      <td>63.058838</td>\n",
       "      <td>4129.306641</td>\n",
       "      <td>50.137894</td>\n",
       "      <td>2880.533691</td>\n",
       "      <td>45.988132</td>\n",
       "      <td>2880.533691</td>\n",
       "      <td>31.947954</td>\n",
       "      <td>499</td>\n",
       "    </tr>\n",
       "  </tbody>\n",
       "</table>\n",
       "</div>"
      ],
      "text/plain": [
       "            loss        mae          mse       mape     val_loss    val_mae  \\\n",
       "495  5189.010254  56.844833  5189.010254  52.421143  2962.164062  45.910931   \n",
       "496  1693.516602  41.137951  1693.516602  19.623528  3051.803955  46.382542   \n",
       "497  1313.349243  32.749420  1313.349243  14.897629  3221.423096  47.073429   \n",
       "498  2173.678955  38.855537  2173.678955  22.059931  3218.374512  47.103569   \n",
       "499  4129.306641  63.058838  4129.306641  50.137894  2880.533691  45.988132   \n",
       "\n",
       "         val_mse   val_mape  epoch  \n",
       "495  2962.164062  33.200645    495  \n",
       "496  3051.803955  34.168354    496  \n",
       "497  3221.423096  35.578651    497  \n",
       "498  3218.374512  35.591755    498  \n",
       "499  2880.533691  31.947954    499  "
      ]
     },
     "execution_count": 50,
     "metadata": {},
     "output_type": "execute_result"
    }
   ],
   "source": [
    "print('Summary of the results after each epoch: ')\n",
    "hist = pd.DataFrame(history.history)\n",
    "hist['epoch'] = history.epoch\n",
    "hist.tail()"
   ]
  },
  {
   "cell_type": "code",
   "execution_count": 51,
   "id": "d2b7b4bf",
   "metadata": {},
   "outputs": [],
   "source": [
    "# Test the model after training\n",
    "example_batch = normed_train_data[:10]\n",
    "example_result = model2.predict(example_batch)"
   ]
  },
  {
   "cell_type": "markdown",
   "id": "79c80ab9",
   "metadata": {},
   "source": [
    "## Compare the predicted values with the actual values"
   ]
  },
  {
   "cell_type": "code",
   "execution_count": 52,
   "id": "1f6a10a5",
   "metadata": {},
   "outputs": [
    {
     "name": "stdout",
     "output_type": "stream",
     "text": [
      "Predicted Values\n",
      "[[151.57736]\n",
      " [198.86478]\n",
      " [198.64685]\n",
      " [151.9455 ]\n",
      " [202.62688]\n",
      " [159.78146]\n",
      " [206.43442]\n",
      " [201.25061]\n",
      " [186.3875 ]\n",
      " [163.70085]]\n",
      "\n",
      "Actual Values\n",
      "160\n",
      "220\n",
      "250\n",
      "270\n",
      "210\n",
      "260\n",
      "250\n",
      "240\n",
      "250\n",
      "260\n"
     ]
    }
   ],
   "source": [
    "print('Predicted Values')\n",
    "print(example_result[:10])\n",
    "print()\n",
    "print('Actual Values')\n",
    "print(true_values[:10].to_string(index=False))"
   ]
  },
  {
   "cell_type": "code",
   "execution_count": 53,
   "id": "0bd009bb",
   "metadata": {},
   "outputs": [
    {
     "name": "stdout",
     "output_type": "stream",
     "text": [
      "Summary of the results after each epoch: \n"
     ]
    },
    {
     "data": {
      "text/html": [
       "<div>\n",
       "<style scoped>\n",
       "    .dataframe tbody tr th:only-of-type {\n",
       "        vertical-align: middle;\n",
       "    }\n",
       "\n",
       "    .dataframe tbody tr th {\n",
       "        vertical-align: top;\n",
       "    }\n",
       "\n",
       "    .dataframe thead th {\n",
       "        text-align: right;\n",
       "    }\n",
       "</style>\n",
       "<table border=\"1\" class=\"dataframe\">\n",
       "  <thead>\n",
       "    <tr style=\"text-align: right;\">\n",
       "      <th></th>\n",
       "      <th>loss</th>\n",
       "      <th>mae</th>\n",
       "      <th>mse</th>\n",
       "      <th>mape</th>\n",
       "      <th>val_loss</th>\n",
       "      <th>val_mae</th>\n",
       "      <th>val_mse</th>\n",
       "      <th>val_mape</th>\n",
       "      <th>epoch</th>\n",
       "    </tr>\n",
       "  </thead>\n",
       "  <tbody>\n",
       "    <tr>\n",
       "      <th>495</th>\n",
       "      <td>5189.010254</td>\n",
       "      <td>56.844833</td>\n",
       "      <td>5189.010254</td>\n",
       "      <td>52.421143</td>\n",
       "      <td>2962.164062</td>\n",
       "      <td>45.910931</td>\n",
       "      <td>2962.164062</td>\n",
       "      <td>33.200645</td>\n",
       "      <td>495</td>\n",
       "    </tr>\n",
       "    <tr>\n",
       "      <th>496</th>\n",
       "      <td>1693.516602</td>\n",
       "      <td>41.137951</td>\n",
       "      <td>1693.516602</td>\n",
       "      <td>19.623528</td>\n",
       "      <td>3051.803955</td>\n",
       "      <td>46.382542</td>\n",
       "      <td>3051.803955</td>\n",
       "      <td>34.168354</td>\n",
       "      <td>496</td>\n",
       "    </tr>\n",
       "    <tr>\n",
       "      <th>497</th>\n",
       "      <td>1313.349243</td>\n",
       "      <td>32.749420</td>\n",
       "      <td>1313.349243</td>\n",
       "      <td>14.897629</td>\n",
       "      <td>3221.423096</td>\n",
       "      <td>47.073429</td>\n",
       "      <td>3221.423096</td>\n",
       "      <td>35.578651</td>\n",
       "      <td>497</td>\n",
       "    </tr>\n",
       "    <tr>\n",
       "      <th>498</th>\n",
       "      <td>2173.678955</td>\n",
       "      <td>38.855537</td>\n",
       "      <td>2173.678955</td>\n",
       "      <td>22.059931</td>\n",
       "      <td>3218.374512</td>\n",
       "      <td>47.103569</td>\n",
       "      <td>3218.374512</td>\n",
       "      <td>35.591755</td>\n",
       "      <td>498</td>\n",
       "    </tr>\n",
       "    <tr>\n",
       "      <th>499</th>\n",
       "      <td>4129.306641</td>\n",
       "      <td>63.058838</td>\n",
       "      <td>4129.306641</td>\n",
       "      <td>50.137894</td>\n",
       "      <td>2880.533691</td>\n",
       "      <td>45.988132</td>\n",
       "      <td>2880.533691</td>\n",
       "      <td>31.947954</td>\n",
       "      <td>499</td>\n",
       "    </tr>\n",
       "  </tbody>\n",
       "</table>\n",
       "</div>"
      ],
      "text/plain": [
       "            loss        mae          mse       mape     val_loss    val_mae  \\\n",
       "495  5189.010254  56.844833  5189.010254  52.421143  2962.164062  45.910931   \n",
       "496  1693.516602  41.137951  1693.516602  19.623528  3051.803955  46.382542   \n",
       "497  1313.349243  32.749420  1313.349243  14.897629  3221.423096  47.073429   \n",
       "498  2173.678955  38.855537  2173.678955  22.059931  3218.374512  47.103569   \n",
       "499  4129.306641  63.058838  4129.306641  50.137894  2880.533691  45.988132   \n",
       "\n",
       "         val_mse   val_mape  epoch  \n",
       "495  2962.164062  33.200645    495  \n",
       "496  3051.803955  34.168354    496  \n",
       "497  3221.423096  35.578651    497  \n",
       "498  3218.374512  35.591755    498  \n",
       "499  2880.533691  31.947954    499  "
      ]
     },
     "execution_count": 53,
     "metadata": {},
     "output_type": "execute_result"
    }
   ],
   "source": [
    "print('Summary of the results after each epoch: ')\n",
    "hist = pd.DataFrame(history.history)\n",
    "hist['epoch'] = history.epoch\n",
    "hist.tail()"
   ]
  },
  {
   "cell_type": "markdown",
   "id": "067242de",
   "metadata": {},
   "source": [
    "## See how the training went by plotting the loss/mse across epochs"
   ]
  },
  {
   "cell_type": "code",
   "execution_count": 54,
   "id": "a54a2743",
   "metadata": {},
   "outputs": [
    {
     "data": {
      "text/plain": [
       "Text(0, 0.5, 'MAE [wind-direction]')"
      ]
     },
     "execution_count": 54,
     "metadata": {},
     "output_type": "execute_result"
    },
    {
     "data": {
      "image/png": "[encoded data removed]",
      "text/plain": [
       "<Figure size 432x288 with 1 Axes>"
      ]
     },
     "metadata": {
      "needs_background": "light"
     },
     "output_type": "display_data"
    }
   ],
   "source": [
    "plotter = tfdocs.plots.HistoryPlotter(smoothing_std=2)\n",
    "\n",
    "plotter.plot({'Basic': history}, metric = 'mae')\n",
    "plt.ylim([0,150])\n",
    "plt.ylabel('MAE [wind-direction]')"
   ]
  },
  {
   "cell_type": "code",
   "execution_count": 55,
   "id": "e1b3bd07",
   "metadata": {},
   "outputs": [
    {
     "data": {
      "text/plain": [
       "Text(0, 0.5, 'MSE [wind-direction]')"
      ]
     },
     "execution_count": 55,
     "metadata": {},
     "output_type": "execute_result"
    },
    {
     "data": {
      "image/png": "[encoded data removed]",
      "text/plain": [
       "<Figure size 432x288 with 1 Axes>"
      ]
     },
     "metadata": {
      "needs_background": "light"
     },
     "output_type": "display_data"
    }
   ],
   "source": [
    "plotter.plot({'Basic': history}, metric = 'mse')\n",
    "plt.ylim([0,5000])\n",
    "plt.ylabel('MSE [wind-direction]')"
   ]
  },
  {
   "cell_type": "code",
   "execution_count": 56,
   "id": "707da959",
   "metadata": {},
   "outputs": [
    {
     "name": "stdout",
     "output_type": "stream",
     "text": [
      "Error Rate on Train Split: \n",
      "2/2 - 0s - loss: 2366.5186 - mae: 40.8960 - mse: 2366.5186 - mape: 25.4260\n",
      "Train set Mean Abs Error : 40.90\n",
      "Train set Mean Square Error : 2366.52\n"
     ]
    }
   ],
   "source": [
    "print('Error Rate on Train Split: ')\n",
    "loss, mae, mse, mape = model2.evaluate(normed_train_data, train_labels, verbose=2)\n",
    "\n",
    "print('Train set Mean Abs Error : {:5.2f}'.format(mae))\n",
    "print('Train set Mean Square Error : {:5.2f}'.format(mse))"
   ]
  },
  {
   "cell_type": "code",
   "execution_count": 57,
   "id": "e1a2efb7",
   "metadata": {},
   "outputs": [
    {
     "name": "stdout",
     "output_type": "stream",
     "text": [
      "Error Rate on Evaluation  Split: \n",
      "1/1 - 0s - loss: 2880.5337 - mae: 45.9881 - mse: 2880.5337 - mape: 31.9480\n",
      "Validation set Mean Abs Error : 45.99\n",
      "Validation set Mean Square Error : 2880.53\n"
     ]
    }
   ],
   "source": [
    "print('Error Rate on Evaluation  Split: ')\n",
    "loss, mae, mse, mape = model2.evaluate(normed_valid_dataset, valid_labels, verbose=2)\n",
    "\n",
    "print('Validation set Mean Abs Error : {:5.2f}'.format(mae))\n",
    "print('Validation set Mean Square Error : {:5.2f}'.format(mse))"
   ]
  },
  {
   "cell_type": "code",
   "execution_count": 58,
   "id": "61494ba9",
   "metadata": {},
   "outputs": [
    {
     "name": "stdout",
     "output_type": "stream",
     "text": [
      "Error Rate on Test  Split: \n",
      "1/1 - 0s - loss: 2784.1597 - mae: 37.3954 - mse: 2784.1597 - mape: 31.3647\n",
      "Testing set Mean Abs Error : 37.40\n",
      "Testing set Mean Square Error : 2784.16\n"
     ]
    }
   ],
   "source": [
    "print('Error Rate on Test  Split: ')\n",
    "loss, mae, mse, mape = model2.evaluate(normed_test_data, test_labels, verbose=2)\n",
    "\n",
    "print('Testing set Mean Abs Error : {:5.2f}'.format(mae))\n",
    "print('Testing set Mean Square Error : {:5.2f}'.format(mse))"
   ]
  },
  {
   "cell_type": "code",
   "execution_count": 59,
   "id": "29352c0b",
   "metadata": {},
   "outputs": [
    {
     "data": {
      "image/png": "[encoded data removed]",
      "text/plain": [
       "<Figure size 432x288 with 1 Axes>"
      ]
     },
     "metadata": {
      "needs_background": "light"
     },
     "output_type": "display_data"
    }
   ],
   "source": [
    "train_predictions = model2.predict(normed_train_data).flatten()\n",
    "\n",
    "a = plt.axes(aspect='equal')\n",
    "plt.scatter(train_labels, train_predictions)\n",
    "plt.xlabel('True Values [wind-direction]')\n",
    "plt.ylabel('Predictions [wind-direction]')\n",
    "lims = [0, 350]\n",
    "plt.xlim(lims)\n",
    "plt.ylim(lims)\n",
    "_ = plt.plot(lims, lims)"
   ]
  },
  {
   "cell_type": "code",
   "execution_count": 60,
   "id": "44db45da",
   "metadata": {},
   "outputs": [
    {
     "data": {
      "image/png": "[encoded data removed]",
      "text/plain": [
       "<Figure size 432x288 with 1 Axes>"
      ]
     },
     "metadata": {
      "needs_background": "light"
     },
     "output_type": "display_data"
    }
   ],
   "source": [
    "test_predictions = model2.predict(normed_test_data).flatten()\n",
    "\n",
    "a = plt.axes(aspect='equal')\n",
    "plt.scatter(test_labels, test_predictions)\n",
    "plt.xlabel('True Values [wind-direction]')\n",
    "plt.ylabel('Predictions [wind-direction]')\n",
    "lims = [0, 350]\n",
    "plt.xlim(lims)\n",
    "plt.ylim(lims)\n",
    "_ = plt.plot(lims, lims)"
   ]
  },
  {
   "cell_type": "code",
   "execution_count": 61,
   "id": "6f5063bc",
   "metadata": {},
   "outputs": [
    {
     "data": {
      "image/png": "[encoded data removed]",
      "text/plain": [
       "<Figure size 432x288 with 1 Axes>"
      ]
     },
     "metadata": {
      "needs_background": "light"
     },
     "output_type": "display_data"
    }
   ],
   "source": [
    "# error distribution.\n",
    "error = test_predictions - test_labels\n",
    "plt.hist(error, bins = 25)\n",
    "plt.xlabel(\"Prediction Error [wind direction]\")\n",
    "_ = plt.ylabel(\"count\")"
   ]
  },
  {
   "cell_type": "markdown",
   "id": "a20b3b7c",
   "metadata": {},
   "source": [
    "## Two hidden layer analysis"
   ]
  },
  {
   "cell_type": "code",
   "execution_count": 62,
   "id": "f16bd7b3",
   "metadata": {},
   "outputs": [],
   "source": [
    "# checkpoint_path\n",
    "checkpoint_path = r\".\\models\\wind_direction_prediction3.ckpt\"\n",
    "\n",
    "#create a callback that saves the model's weight\n",
    "ckpt_callback = tf.keras.callbacks.ModelCheckpoint(filepath=checkpoint_path,monitor='val_loss',\n",
    "                                                 save_best_only=True,verbose=0,)"
   ]
  },
  {
   "cell_type": "code",
   "execution_count": 63,
   "id": "78a319a5",
   "metadata": {
    "scrolled": false
   },
   "outputs": [
    {
     "name": "stdout",
     "output_type": "stream",
     "text": [
      "Here is a summary of this model: \n",
      "Model: \"sequential_5\"\n",
      "_________________________________________________________________\n",
      "Layer (type)                 Output Shape              Param #   \n",
      "=================================================================\n",
      "dense_12 (Dense)             (None, 32)                224       \n",
      "_________________________________________________________________\n",
      "dense_13 (Dense)             (None, 32)                1056      \n",
      "_________________________________________________________________\n",
      "dense_14 (Dense)             (None, 64)                2112      \n",
      "_________________________________________________________________\n",
      "dense_15 (Dense)             (None, 1)                 65        \n",
      "=================================================================\n",
      "Total params: 3,457\n",
      "Trainable params: 3,457\n",
      "Non-trainable params: 0\n",
      "_________________________________________________________________\n",
      "\n",
      "Epoch: 0, loss:56863.8125,  mae:235.1340,  mape:108.0672,  mse:56863.8125,  val_loss:26713.2129,  val_mae:153.1612,  val_mape:84.0361,  val_mse:26713.2129,  \n",
      "."
     ]
    },
    {
     "name": "stderr",
     "output_type": "stream",
     "text": [
      "WARNING:absl:Found untraced functions such as activation_4_layer_call_fn, activation_4_layer_call_and_return_conditional_losses, activation_5_layer_call_fn, activation_5_layer_call_and_return_conditional_losses, activation_4_layer_call_fn while saving (showing 5 of 10). These functions will not be directly callable after loading.\n"
     ]
    },
    {
     "name": "stdout",
     "output_type": "stream",
     "text": [
      "INFO:tensorflow:Assets written to: .\\models\\wind_direction_prediction3.ckpt\\assets\n"
     ]
    },
    {
     "name": "stderr",
     "output_type": "stream",
     "text": [
      "INFO:tensorflow:Assets written to: .\\models\\wind_direction_prediction3.ckpt\\assets\n"
     ]
    },
    {
     "name": "stdout",
     "output_type": "stream",
     "text": [
      "."
     ]
    },
    {
     "name": "stderr",
     "output_type": "stream",
     "text": [
      "WARNING:absl:Found untraced functions such as activation_4_layer_call_fn, activation_4_layer_call_and_return_conditional_losses, activation_5_layer_call_fn, activation_5_layer_call_and_return_conditional_losses, activation_4_layer_call_fn while saving (showing 5 of 10). These functions will not be directly callable after loading.\n"
     ]
    },
    {
     "name": "stdout",
     "output_type": "stream",
     "text": [
      "INFO:tensorflow:Assets written to: .\\models\\wind_direction_prediction3.ckpt\\assets\n"
     ]
    },
    {
     "name": "stderr",
     "output_type": "stream",
     "text": [
      "INFO:tensorflow:Assets written to: .\\models\\wind_direction_prediction3.ckpt\\assets\n"
     ]
    },
    {
     "name": "stdout",
     "output_type": "stream",
     "text": [
      "."
     ]
    },
    {
     "name": "stderr",
     "output_type": "stream",
     "text": [
      "WARNING:absl:Found untraced functions such as activation_4_layer_call_fn, activation_4_layer_call_and_return_conditional_losses, activation_5_layer_call_fn, activation_5_layer_call_and_return_conditional_losses, activation_4_layer_call_fn while saving (showing 5 of 10). These functions will not be directly callable after loading.\n"
     ]
    },
    {
     "name": "stdout",
     "output_type": "stream",
     "text": [
      "INFO:tensorflow:Assets written to: .\\models\\wind_direction_prediction3.ckpt\\assets\n"
     ]
    },
    {
     "name": "stderr",
     "output_type": "stream",
     "text": [
      "INFO:tensorflow:Assets written to: .\\models\\wind_direction_prediction3.ckpt\\assets\n"
     ]
    },
    {
     "name": "stdout",
     "output_type": "stream",
     "text": [
      "."
     ]
    },
    {
     "name": "stderr",
     "output_type": "stream",
     "text": [
      "WARNING:absl:Found untraced functions such as activation_4_layer_call_fn, activation_4_layer_call_and_return_conditional_losses, activation_5_layer_call_fn, activation_5_layer_call_and_return_conditional_losses, activation_4_layer_call_fn while saving (showing 5 of 10). These functions will not be directly callable after loading.\n"
     ]
    },
    {
     "name": "stdout",
     "output_type": "stream",
     "text": [
      "INFO:tensorflow:Assets written to: .\\models\\wind_direction_prediction3.ckpt\\assets\n"
     ]
    },
    {
     "name": "stderr",
     "output_type": "stream",
     "text": [
      "INFO:tensorflow:Assets written to: .\\models\\wind_direction_prediction3.ckpt\\assets\n"
     ]
    },
    {
     "name": "stdout",
     "output_type": "stream",
     "text": [
      "."
     ]
    },
    {
     "name": "stderr",
     "output_type": "stream",
     "text": [
      "WARNING:absl:Found untraced functions such as activation_4_layer_call_fn, activation_4_layer_call_and_return_conditional_losses, activation_5_layer_call_fn, activation_5_layer_call_and_return_conditional_losses, activation_4_layer_call_fn while saving (showing 5 of 10). These functions will not be directly callable after loading.\n"
     ]
    },
    {
     "name": "stdout",
     "output_type": "stream",
     "text": [
      "INFO:tensorflow:Assets written to: .\\models\\wind_direction_prediction3.ckpt\\assets\n"
     ]
    },
    {
     "name": "stderr",
     "output_type": "stream",
     "text": [
      "INFO:tensorflow:Assets written to: .\\models\\wind_direction_prediction3.ckpt\\assets\n"
     ]
    },
    {
     "name": "stdout",
     "output_type": "stream",
     "text": [
      "."
     ]
    },
    {
     "name": "stderr",
     "output_type": "stream",
     "text": [
      "WARNING:absl:Found untraced functions such as activation_4_layer_call_fn, activation_4_layer_call_and_return_conditional_losses, activation_5_layer_call_fn, activation_5_layer_call_and_return_conditional_losses, activation_4_layer_call_fn while saving (showing 5 of 10). These functions will not be directly callable after loading.\n"
     ]
    },
    {
     "name": "stdout",
     "output_type": "stream",
     "text": [
      "INFO:tensorflow:Assets written to: .\\models\\wind_direction_prediction3.ckpt\\assets\n"
     ]
    },
    {
     "name": "stderr",
     "output_type": "stream",
     "text": [
      "INFO:tensorflow:Assets written to: .\\models\\wind_direction_prediction3.ckpt\\assets\n"
     ]
    },
    {
     "name": "stdout",
     "output_type": "stream",
     "text": [
      "."
     ]
    },
    {
     "name": "stderr",
     "output_type": "stream",
     "text": [
      "WARNING:absl:Found untraced functions such as activation_4_layer_call_fn, activation_4_layer_call_and_return_conditional_losses, activation_5_layer_call_fn, activation_5_layer_call_and_return_conditional_losses, activation_4_layer_call_fn while saving (showing 5 of 10). These functions will not be directly callable after loading.\n"
     ]
    },
    {
     "name": "stdout",
     "output_type": "stream",
     "text": [
      "INFO:tensorflow:Assets written to: .\\models\\wind_direction_prediction3.ckpt\\assets\n"
     ]
    },
    {
     "name": "stderr",
     "output_type": "stream",
     "text": [
      "INFO:tensorflow:Assets written to: .\\models\\wind_direction_prediction3.ckpt\\assets\n"
     ]
    },
    {
     "name": "stdout",
     "output_type": "stream",
     "text": [
      "."
     ]
    },
    {
     "name": "stderr",
     "output_type": "stream",
     "text": [
      "WARNING:absl:Found untraced functions such as activation_4_layer_call_fn, activation_4_layer_call_and_return_conditional_losses, activation_5_layer_call_fn, activation_5_layer_call_and_return_conditional_losses, activation_4_layer_call_fn while saving (showing 5 of 10). These functions will not be directly callable after loading.\n"
     ]
    },
    {
     "name": "stdout",
     "output_type": "stream",
     "text": [
      "INFO:tensorflow:Assets written to: .\\models\\wind_direction_prediction3.ckpt\\assets\n"
     ]
    },
    {
     "name": "stderr",
     "output_type": "stream",
     "text": [
      "INFO:tensorflow:Assets written to: .\\models\\wind_direction_prediction3.ckpt\\assets\n"
     ]
    },
    {
     "name": "stdout",
     "output_type": "stream",
     "text": [
      "."
     ]
    },
    {
     "name": "stderr",
     "output_type": "stream",
     "text": [
      "WARNING:absl:Found untraced functions such as activation_4_layer_call_fn, activation_4_layer_call_and_return_conditional_losses, activation_5_layer_call_fn, activation_5_layer_call_and_return_conditional_losses, activation_4_layer_call_fn while saving (showing 5 of 10). These functions will not be directly callable after loading.\n"
     ]
    },
    {
     "name": "stdout",
     "output_type": "stream",
     "text": [
      "INFO:tensorflow:Assets written to: .\\models\\wind_direction_prediction3.ckpt\\assets\n"
     ]
    },
    {
     "name": "stderr",
     "output_type": "stream",
     "text": [
      "INFO:tensorflow:Assets written to: .\\models\\wind_direction_prediction3.ckpt\\assets\n"
     ]
    },
    {
     "name": "stdout",
     "output_type": "stream",
     "text": [
      "."
     ]
    },
    {
     "name": "stderr",
     "output_type": "stream",
     "text": [
      "WARNING:absl:Found untraced functions such as activation_4_layer_call_fn, activation_4_layer_call_and_return_conditional_losses, activation_5_layer_call_fn, activation_5_layer_call_and_return_conditional_losses, activation_4_layer_call_fn while saving (showing 5 of 10). These functions will not be directly callable after loading.\n"
     ]
    },
    {
     "name": "stdout",
     "output_type": "stream",
     "text": [
      "INFO:tensorflow:Assets written to: .\\models\\wind_direction_prediction3.ckpt\\assets\n"
     ]
    },
    {
     "name": "stderr",
     "output_type": "stream",
     "text": [
      "INFO:tensorflow:Assets written to: .\\models\\wind_direction_prediction3.ckpt\\assets\n"
     ]
    },
    {
     "name": "stdout",
     "output_type": "stream",
     "text": [
      "."
     ]
    },
    {
     "name": "stderr",
     "output_type": "stream",
     "text": [
      "WARNING:absl:Found untraced functions such as activation_4_layer_call_fn, activation_4_layer_call_and_return_conditional_losses, activation_5_layer_call_fn, activation_5_layer_call_and_return_conditional_losses, activation_4_layer_call_fn while saving (showing 5 of 10). These functions will not be directly callable after loading.\n"
     ]
    },
    {
     "name": "stdout",
     "output_type": "stream",
     "text": [
      "INFO:tensorflow:Assets written to: .\\models\\wind_direction_prediction3.ckpt\\assets\n"
     ]
    },
    {
     "name": "stderr",
     "output_type": "stream",
     "text": [
      "INFO:tensorflow:Assets written to: .\\models\\wind_direction_prediction3.ckpt\\assets\n"
     ]
    },
    {
     "name": "stdout",
     "output_type": "stream",
     "text": [
      ".."
     ]
    },
    {
     "name": "stderr",
     "output_type": "stream",
     "text": [
      "WARNING:absl:Found untraced functions such as activation_4_layer_call_fn, activation_4_layer_call_and_return_conditional_losses, activation_5_layer_call_fn, activation_5_layer_call_and_return_conditional_losses, activation_4_layer_call_fn while saving (showing 5 of 10). These functions will not be directly callable after loading.\n"
     ]
    },
    {
     "name": "stdout",
     "output_type": "stream",
     "text": [
      "INFO:tensorflow:Assets written to: .\\models\\wind_direction_prediction3.ckpt\\assets\n"
     ]
    },
    {
     "name": "stderr",
     "output_type": "stream",
     "text": [
      "INFO:tensorflow:Assets written to: .\\models\\wind_direction_prediction3.ckpt\\assets\n"
     ]
    },
    {
     "name": "stdout",
     "output_type": "stream",
     "text": [
      "..."
     ]
    },
    {
     "name": "stderr",
     "output_type": "stream",
     "text": [
      "WARNING:absl:Found untraced functions such as activation_4_layer_call_fn, activation_4_layer_call_and_return_conditional_losses, activation_5_layer_call_fn, activation_5_layer_call_and_return_conditional_losses, activation_4_layer_call_fn while saving (showing 5 of 10). These functions will not be directly callable after loading.\n"
     ]
    },
    {
     "name": "stdout",
     "output_type": "stream",
     "text": [
      "INFO:tensorflow:Assets written to: .\\models\\wind_direction_prediction3.ckpt\\assets\n"
     ]
    },
    {
     "name": "stderr",
     "output_type": "stream",
     "text": [
      "INFO:tensorflow:Assets written to: .\\models\\wind_direction_prediction3.ckpt\\assets\n"
     ]
    },
    {
     "name": "stdout",
     "output_type": "stream",
     "text": [
      "......"
     ]
    },
    {
     "name": "stderr",
     "output_type": "stream",
     "text": [
      "WARNING:absl:Found untraced functions such as activation_4_layer_call_fn, activation_4_layer_call_and_return_conditional_losses, activation_5_layer_call_fn, activation_5_layer_call_and_return_conditional_losses, activation_4_layer_call_fn while saving (showing 5 of 10). These functions will not be directly callable after loading.\n"
     ]
    },
    {
     "name": "stdout",
     "output_type": "stream",
     "text": [
      "INFO:tensorflow:Assets written to: .\\models\\wind_direction_prediction3.ckpt\\assets\n"
     ]
    },
    {
     "name": "stderr",
     "output_type": "stream",
     "text": [
      "INFO:tensorflow:Assets written to: .\\models\\wind_direction_prediction3.ckpt\\assets\n"
     ]
    },
    {
     "name": "stdout",
     "output_type": "stream",
     "text": [
      "..........."
     ]
    },
    {
     "name": "stderr",
     "output_type": "stream",
     "text": [
      "WARNING:absl:Found untraced functions such as activation_4_layer_call_fn, activation_4_layer_call_and_return_conditional_losses, activation_5_layer_call_fn, activation_5_layer_call_and_return_conditional_losses, activation_4_layer_call_fn while saving (showing 5 of 10). These functions will not be directly callable after loading.\n"
     ]
    },
    {
     "name": "stdout",
     "output_type": "stream",
     "text": [
      "INFO:tensorflow:Assets written to: .\\models\\wind_direction_prediction3.ckpt\\assets\n"
     ]
    },
    {
     "name": "stderr",
     "output_type": "stream",
     "text": [
      "INFO:tensorflow:Assets written to: .\\models\\wind_direction_prediction3.ckpt\\assets\n"
     ]
    },
    {
     "name": "stdout",
     "output_type": "stream",
     "text": [
      "......"
     ]
    },
    {
     "name": "stderr",
     "output_type": "stream",
     "text": [
      "WARNING:absl:Found untraced functions such as activation_4_layer_call_fn, activation_4_layer_call_and_return_conditional_losses, activation_5_layer_call_fn, activation_5_layer_call_and_return_conditional_losses, activation_4_layer_call_fn while saving (showing 5 of 10). These functions will not be directly callable after loading.\n"
     ]
    },
    {
     "name": "stdout",
     "output_type": "stream",
     "text": [
      "INFO:tensorflow:Assets written to: .\\models\\wind_direction_prediction3.ckpt\\assets\n"
     ]
    },
    {
     "name": "stderr",
     "output_type": "stream",
     "text": [
      "INFO:tensorflow:Assets written to: .\\models\\wind_direction_prediction3.ckpt\\assets\n"
     ]
    },
    {
     "name": "stdout",
     "output_type": "stream",
     "text": [
      "..............."
     ]
    },
    {
     "name": "stderr",
     "output_type": "stream",
     "text": [
      "WARNING:absl:Found untraced functions such as activation_4_layer_call_fn, activation_4_layer_call_and_return_conditional_losses, activation_5_layer_call_fn, activation_5_layer_call_and_return_conditional_losses, activation_4_layer_call_fn while saving (showing 5 of 10). These functions will not be directly callable after loading.\n"
     ]
    },
    {
     "name": "stdout",
     "output_type": "stream",
     "text": [
      "INFO:tensorflow:Assets written to: .\\models\\wind_direction_prediction3.ckpt\\assets\n"
     ]
    },
    {
     "name": "stderr",
     "output_type": "stream",
     "text": [
      "INFO:tensorflow:Assets written to: .\\models\\wind_direction_prediction3.ckpt\\assets\n"
     ]
    },
    {
     "name": "stdout",
     "output_type": "stream",
     "text": [
      "...."
     ]
    },
    {
     "name": "stderr",
     "output_type": "stream",
     "text": [
      "WARNING:absl:Found untraced functions such as activation_4_layer_call_fn, activation_4_layer_call_and_return_conditional_losses, activation_5_layer_call_fn, activation_5_layer_call_and_return_conditional_losses, activation_4_layer_call_fn while saving (showing 5 of 10). These functions will not be directly callable after loading.\n"
     ]
    },
    {
     "name": "stdout",
     "output_type": "stream",
     "text": [
      "INFO:tensorflow:Assets written to: .\\models\\wind_direction_prediction3.ckpt\\assets\n"
     ]
    },
    {
     "name": "stderr",
     "output_type": "stream",
     "text": [
      "INFO:tensorflow:Assets written to: .\\models\\wind_direction_prediction3.ckpt\\assets\n"
     ]
    },
    {
     "name": "stdout",
     "output_type": "stream",
     "text": [
      ".."
     ]
    },
    {
     "name": "stderr",
     "output_type": "stream",
     "text": [
      "WARNING:absl:Found untraced functions such as activation_4_layer_call_fn, activation_4_layer_call_and_return_conditional_losses, activation_5_layer_call_fn, activation_5_layer_call_and_return_conditional_losses, activation_4_layer_call_fn while saving (showing 5 of 10). These functions will not be directly callable after loading.\n"
     ]
    },
    {
     "name": "stdout",
     "output_type": "stream",
     "text": [
      "INFO:tensorflow:Assets written to: .\\models\\wind_direction_prediction3.ckpt\\assets\n"
     ]
    },
    {
     "name": "stderr",
     "output_type": "stream",
     "text": [
      "INFO:tensorflow:Assets written to: .\\models\\wind_direction_prediction3.ckpt\\assets\n"
     ]
    },
    {
     "name": "stdout",
     "output_type": "stream",
     "text": [
      "...."
     ]
    },
    {
     "name": "stderr",
     "output_type": "stream",
     "text": [
      "WARNING:absl:Found untraced functions such as activation_4_layer_call_fn, activation_4_layer_call_and_return_conditional_losses, activation_5_layer_call_fn, activation_5_layer_call_and_return_conditional_losses, activation_4_layer_call_fn while saving (showing 5 of 10). These functions will not be directly callable after loading.\n"
     ]
    },
    {
     "name": "stdout",
     "output_type": "stream",
     "text": [
      "INFO:tensorflow:Assets written to: .\\models\\wind_direction_prediction3.ckpt\\assets\n"
     ]
    },
    {
     "name": "stderr",
     "output_type": "stream",
     "text": [
      "INFO:tensorflow:Assets written to: .\\models\\wind_direction_prediction3.ckpt\\assets\n"
     ]
    },
    {
     "name": "stdout",
     "output_type": "stream",
     "text": [
      "........"
     ]
    },
    {
     "name": "stderr",
     "output_type": "stream",
     "text": [
      "WARNING:absl:Found untraced functions such as activation_4_layer_call_fn, activation_4_layer_call_and_return_conditional_losses, activation_5_layer_call_fn, activation_5_layer_call_and_return_conditional_losses, activation_4_layer_call_fn while saving (showing 5 of 10). These functions will not be directly callable after loading.\n"
     ]
    },
    {
     "name": "stdout",
     "output_type": "stream",
     "text": [
      "INFO:tensorflow:Assets written to: .\\models\\wind_direction_prediction3.ckpt\\assets\n"
     ]
    },
    {
     "name": "stderr",
     "output_type": "stream",
     "text": [
      "INFO:tensorflow:Assets written to: .\\models\\wind_direction_prediction3.ckpt\\assets\n"
     ]
    },
    {
     "name": "stdout",
     "output_type": "stream",
     "text": [
      "......."
     ]
    },
    {
     "name": "stderr",
     "output_type": "stream",
     "text": [
      "WARNING:absl:Found untraced functions such as activation_4_layer_call_fn, activation_4_layer_call_and_return_conditional_losses, activation_5_layer_call_fn, activation_5_layer_call_and_return_conditional_losses, activation_4_layer_call_fn while saving (showing 5 of 10). These functions will not be directly callable after loading.\n"
     ]
    },
    {
     "name": "stdout",
     "output_type": "stream",
     "text": [
      "INFO:tensorflow:Assets written to: .\\models\\wind_direction_prediction3.ckpt\\assets\n"
     ]
    },
    {
     "name": "stderr",
     "output_type": "stream",
     "text": [
      "INFO:tensorflow:Assets written to: .\\models\\wind_direction_prediction3.ckpt\\assets\n"
     ]
    },
    {
     "name": "stdout",
     "output_type": "stream",
     "text": [
      "."
     ]
    },
    {
     "name": "stderr",
     "output_type": "stream",
     "text": [
      "WARNING:absl:Found untraced functions such as activation_4_layer_call_fn, activation_4_layer_call_and_return_conditional_losses, activation_5_layer_call_fn, activation_5_layer_call_and_return_conditional_losses, activation_4_layer_call_fn while saving (showing 5 of 10). These functions will not be directly callable after loading.\n"
     ]
    },
    {
     "name": "stdout",
     "output_type": "stream",
     "text": [
      "INFO:tensorflow:Assets written to: .\\models\\wind_direction_prediction3.ckpt\\assets\n"
     ]
    },
    {
     "name": "stderr",
     "output_type": "stream",
     "text": [
      "INFO:tensorflow:Assets written to: .\\models\\wind_direction_prediction3.ckpt\\assets\n"
     ]
    },
    {
     "name": "stdout",
     "output_type": "stream",
     "text": [
      "...................."
     ]
    },
    {
     "name": "stderr",
     "output_type": "stream",
     "text": [
      "WARNING:absl:Found untraced functions such as activation_4_layer_call_fn, activation_4_layer_call_and_return_conditional_losses, activation_5_layer_call_fn, activation_5_layer_call_and_return_conditional_losses, activation_4_layer_call_fn while saving (showing 5 of 10). These functions will not be directly callable after loading.\n"
     ]
    },
    {
     "name": "stdout",
     "output_type": "stream",
     "text": [
      "INFO:tensorflow:Assets written to: .\\models\\wind_direction_prediction3.ckpt\\assets\n"
     ]
    },
    {
     "name": "stderr",
     "output_type": "stream",
     "text": [
      "INFO:tensorflow:Assets written to: .\\models\\wind_direction_prediction3.ckpt\\assets\n"
     ]
    },
    {
     "name": "stdout",
     "output_type": "stream",
     "text": [
      "\n",
      "Epoch: 100, loss:4150.1880,  mae:54.0495,  mape:41.8412,  mse:4150.1880,  val_loss:2913.9146,  val_mae:46.9666,  val_mape:32.6517,  val_mse:2913.9146,  \n",
      "."
     ]
    },
    {
     "name": "stderr",
     "output_type": "stream",
     "text": [
      "WARNING:absl:Found untraced functions such as activation_4_layer_call_fn, activation_4_layer_call_and_return_conditional_losses, activation_5_layer_call_fn, activation_5_layer_call_and_return_conditional_losses, activation_4_layer_call_fn while saving (showing 5 of 10). These functions will not be directly callable after loading.\n"
     ]
    },
    {
     "name": "stdout",
     "output_type": "stream",
     "text": [
      "INFO:tensorflow:Assets written to: .\\models\\wind_direction_prediction3.ckpt\\assets\n"
     ]
    },
    {
     "name": "stderr",
     "output_type": "stream",
     "text": [
      "INFO:tensorflow:Assets written to: .\\models\\wind_direction_prediction3.ckpt\\assets\n"
     ]
    },
    {
     "name": "stdout",
     "output_type": "stream",
     "text": [
      "............."
     ]
    },
    {
     "name": "stderr",
     "output_type": "stream",
     "text": [
      "WARNING:absl:Found untraced functions such as activation_4_layer_call_fn, activation_4_layer_call_and_return_conditional_losses, activation_5_layer_call_fn, activation_5_layer_call_and_return_conditional_losses, activation_4_layer_call_fn while saving (showing 5 of 10). These functions will not be directly callable after loading.\n"
     ]
    },
    {
     "name": "stdout",
     "output_type": "stream",
     "text": [
      "INFO:tensorflow:Assets written to: .\\models\\wind_direction_prediction3.ckpt\\assets\n"
     ]
    },
    {
     "name": "stderr",
     "output_type": "stream",
     "text": [
      "INFO:tensorflow:Assets written to: .\\models\\wind_direction_prediction3.ckpt\\assets\n"
     ]
    },
    {
     "name": "stdout",
     "output_type": "stream",
     "text": [
      "....................."
     ]
    },
    {
     "name": "stderr",
     "output_type": "stream",
     "text": [
      "WARNING:absl:Found untraced functions such as activation_4_layer_call_fn, activation_4_layer_call_and_return_conditional_losses, activation_5_layer_call_fn, activation_5_layer_call_and_return_conditional_losses, activation_4_layer_call_fn while saving (showing 5 of 10). These functions will not be directly callable after loading.\n"
     ]
    },
    {
     "name": "stdout",
     "output_type": "stream",
     "text": [
      "INFO:tensorflow:Assets written to: .\\models\\wind_direction_prediction3.ckpt\\assets\n"
     ]
    },
    {
     "name": "stderr",
     "output_type": "stream",
     "text": [
      "INFO:tensorflow:Assets written to: .\\models\\wind_direction_prediction3.ckpt\\assets\n"
     ]
    },
    {
     "name": "stdout",
     "output_type": "stream",
     "text": [
      "......"
     ]
    },
    {
     "name": "stderr",
     "output_type": "stream",
     "text": [
      "WARNING:absl:Found untraced functions such as activation_4_layer_call_fn, activation_4_layer_call_and_return_conditional_losses, activation_5_layer_call_fn, activation_5_layer_call_and_return_conditional_losses, activation_4_layer_call_fn while saving (showing 5 of 10). These functions will not be directly callable after loading.\n"
     ]
    },
    {
     "name": "stdout",
     "output_type": "stream",
     "text": [
      "INFO:tensorflow:Assets written to: .\\models\\wind_direction_prediction3.ckpt\\assets\n"
     ]
    },
    {
     "name": "stderr",
     "output_type": "stream",
     "text": [
      "INFO:tensorflow:Assets written to: .\\models\\wind_direction_prediction3.ckpt\\assets\n"
     ]
    },
    {
     "name": "stdout",
     "output_type": "stream",
     "text": [
      ".."
     ]
    },
    {
     "name": "stderr",
     "output_type": "stream",
     "text": [
      "WARNING:absl:Found untraced functions such as activation_4_layer_call_fn, activation_4_layer_call_and_return_conditional_losses, activation_5_layer_call_fn, activation_5_layer_call_and_return_conditional_losses, activation_4_layer_call_fn while saving (showing 5 of 10). These functions will not be directly callable after loading.\n"
     ]
    },
    {
     "name": "stdout",
     "output_type": "stream",
     "text": [
      "INFO:tensorflow:Assets written to: .\\models\\wind_direction_prediction3.ckpt\\assets\n"
     ]
    },
    {
     "name": "stderr",
     "output_type": "stream",
     "text": [
      "INFO:tensorflow:Assets written to: .\\models\\wind_direction_prediction3.ckpt\\assets\n"
     ]
    },
    {
     "name": "stdout",
     "output_type": "stream",
     "text": [
      ".."
     ]
    },
    {
     "name": "stderr",
     "output_type": "stream",
     "text": [
      "WARNING:absl:Found untraced functions such as activation_4_layer_call_fn, activation_4_layer_call_and_return_conditional_losses, activation_5_layer_call_fn, activation_5_layer_call_and_return_conditional_losses, activation_4_layer_call_fn while saving (showing 5 of 10). These functions will not be directly callable after loading.\n"
     ]
    },
    {
     "name": "stdout",
     "output_type": "stream",
     "text": [
      "INFO:tensorflow:Assets written to: .\\models\\wind_direction_prediction3.ckpt\\assets\n"
     ]
    },
    {
     "name": "stderr",
     "output_type": "stream",
     "text": [
      "INFO:tensorflow:Assets written to: .\\models\\wind_direction_prediction3.ckpt\\assets\n"
     ]
    },
    {
     "name": "stdout",
     "output_type": "stream",
     "text": [
      "....."
     ]
    },
    {
     "name": "stderr",
     "output_type": "stream",
     "text": [
      "WARNING:absl:Found untraced functions such as activation_4_layer_call_fn, activation_4_layer_call_and_return_conditional_losses, activation_5_layer_call_fn, activation_5_layer_call_and_return_conditional_losses, activation_4_layer_call_fn while saving (showing 5 of 10). These functions will not be directly callable after loading.\n"
     ]
    },
    {
     "name": "stdout",
     "output_type": "stream",
     "text": [
      "INFO:tensorflow:Assets written to: .\\models\\wind_direction_prediction3.ckpt\\assets\n"
     ]
    },
    {
     "name": "stderr",
     "output_type": "stream",
     "text": [
      "INFO:tensorflow:Assets written to: .\\models\\wind_direction_prediction3.ckpt\\assets\n"
     ]
    },
    {
     "name": "stdout",
     "output_type": "stream",
     "text": [
      "..............................."
     ]
    },
    {
     "name": "stderr",
     "output_type": "stream",
     "text": [
      "WARNING:absl:Found untraced functions such as activation_4_layer_call_fn, activation_4_layer_call_and_return_conditional_losses, activation_5_layer_call_fn, activation_5_layer_call_and_return_conditional_losses, activation_4_layer_call_fn while saving (showing 5 of 10). These functions will not be directly callable after loading.\n"
     ]
    },
    {
     "name": "stdout",
     "output_type": "stream",
     "text": [
      "INFO:tensorflow:Assets written to: .\\models\\wind_direction_prediction3.ckpt\\assets\n"
     ]
    },
    {
     "name": "stderr",
     "output_type": "stream",
     "text": [
      "INFO:tensorflow:Assets written to: .\\models\\wind_direction_prediction3.ckpt\\assets\n"
     ]
    },
    {
     "name": "stdout",
     "output_type": "stream",
     "text": [
      "........."
     ]
    },
    {
     "name": "stderr",
     "output_type": "stream",
     "text": [
      "WARNING:absl:Found untraced functions such as activation_4_layer_call_fn, activation_4_layer_call_and_return_conditional_losses, activation_5_layer_call_fn, activation_5_layer_call_and_return_conditional_losses, activation_4_layer_call_fn while saving (showing 5 of 10). These functions will not be directly callable after loading.\n"
     ]
    },
    {
     "name": "stdout",
     "output_type": "stream",
     "text": [
      "INFO:tensorflow:Assets written to: .\\models\\wind_direction_prediction3.ckpt\\assets\n"
     ]
    },
    {
     "name": "stderr",
     "output_type": "stream",
     "text": [
      "INFO:tensorflow:Assets written to: .\\models\\wind_direction_prediction3.ckpt\\assets\n"
     ]
    },
    {
     "name": "stdout",
     "output_type": "stream",
     "text": [
      ".."
     ]
    },
    {
     "name": "stderr",
     "output_type": "stream",
     "text": [
      "WARNING:absl:Found untraced functions such as activation_4_layer_call_fn, activation_4_layer_call_and_return_conditional_losses, activation_5_layer_call_fn, activation_5_layer_call_and_return_conditional_losses, activation_4_layer_call_fn while saving (showing 5 of 10). These functions will not be directly callable after loading.\n"
     ]
    },
    {
     "name": "stdout",
     "output_type": "stream",
     "text": [
      "INFO:tensorflow:Assets written to: .\\models\\wind_direction_prediction3.ckpt\\assets\n"
     ]
    },
    {
     "name": "stderr",
     "output_type": "stream",
     "text": [
      "INFO:tensorflow:Assets written to: .\\models\\wind_direction_prediction3.ckpt\\assets\n"
     ]
    },
    {
     "name": "stdout",
     "output_type": "stream",
     "text": [
      "."
     ]
    },
    {
     "name": "stderr",
     "output_type": "stream",
     "text": [
      "WARNING:absl:Found untraced functions such as activation_4_layer_call_fn, activation_4_layer_call_and_return_conditional_losses, activation_5_layer_call_fn, activation_5_layer_call_and_return_conditional_losses, activation_4_layer_call_fn while saving (showing 5 of 10). These functions will not be directly callable after loading.\n"
     ]
    },
    {
     "name": "stdout",
     "output_type": "stream",
     "text": [
      "INFO:tensorflow:Assets written to: .\\models\\wind_direction_prediction3.ckpt\\assets\n"
     ]
    },
    {
     "name": "stderr",
     "output_type": "stream",
     "text": [
      "INFO:tensorflow:Assets written to: .\\models\\wind_direction_prediction3.ckpt\\assets\n"
     ]
    },
    {
     "name": "stdout",
     "output_type": "stream",
     "text": [
      ".......\n",
      "Epoch: 200, loss:1042.4415,  mae:25.0740,  mape:11.3477,  mse:1042.4415,  val_loss:3100.1072,  val_mae:47.0362,  val_mape:35.1227,  val_mse:3100.1072,  \n",
      ".........."
     ]
    },
    {
     "name": "stderr",
     "output_type": "stream",
     "text": [
      "WARNING:absl:Found untraced functions such as activation_4_layer_call_fn, activation_4_layer_call_and_return_conditional_losses, activation_5_layer_call_fn, activation_5_layer_call_and_return_conditional_losses, activation_4_layer_call_fn while saving (showing 5 of 10). These functions will not be directly callable after loading.\n"
     ]
    },
    {
     "name": "stdout",
     "output_type": "stream",
     "text": [
      "INFO:tensorflow:Assets written to: .\\models\\wind_direction_prediction3.ckpt\\assets\n"
     ]
    },
    {
     "name": "stderr",
     "output_type": "stream",
     "text": [
      "INFO:tensorflow:Assets written to: .\\models\\wind_direction_prediction3.ckpt\\assets\n"
     ]
    },
    {
     "name": "stdout",
     "output_type": "stream",
     "text": [
      "."
     ]
    },
    {
     "name": "stderr",
     "output_type": "stream",
     "text": [
      "WARNING:absl:Found untraced functions such as activation_4_layer_call_fn, activation_4_layer_call_and_return_conditional_losses, activation_5_layer_call_fn, activation_5_layer_call_and_return_conditional_losses, activation_4_layer_call_fn while saving (showing 5 of 10). These functions will not be directly callable after loading.\n"
     ]
    },
    {
     "name": "stdout",
     "output_type": "stream",
     "text": [
      "INFO:tensorflow:Assets written to: .\\models\\wind_direction_prediction3.ckpt\\assets\n"
     ]
    },
    {
     "name": "stderr",
     "output_type": "stream",
     "text": [
      "INFO:tensorflow:Assets written to: .\\models\\wind_direction_prediction3.ckpt\\assets\n"
     ]
    },
    {
     "name": "stdout",
     "output_type": "stream",
     "text": [
      "........................."
     ]
    },
    {
     "name": "stderr",
     "output_type": "stream",
     "text": [
      "WARNING:absl:Found untraced functions such as activation_4_layer_call_fn, activation_4_layer_call_and_return_conditional_losses, activation_5_layer_call_fn, activation_5_layer_call_and_return_conditional_losses, activation_4_layer_call_fn while saving (showing 5 of 10). These functions will not be directly callable after loading.\n"
     ]
    },
    {
     "name": "stdout",
     "output_type": "stream",
     "text": [
      "INFO:tensorflow:Assets written to: .\\models\\wind_direction_prediction3.ckpt\\assets\n"
     ]
    },
    {
     "name": "stderr",
     "output_type": "stream",
     "text": [
      "INFO:tensorflow:Assets written to: .\\models\\wind_direction_prediction3.ckpt\\assets\n"
     ]
    },
    {
     "name": "stdout",
     "output_type": "stream",
     "text": [
      ".........."
     ]
    },
    {
     "name": "stderr",
     "output_type": "stream",
     "text": [
      "WARNING:absl:Found untraced functions such as activation_4_layer_call_fn, activation_4_layer_call_and_return_conditional_losses, activation_5_layer_call_fn, activation_5_layer_call_and_return_conditional_losses, activation_4_layer_call_fn while saving (showing 5 of 10). These functions will not be directly callable after loading.\n"
     ]
    },
    {
     "name": "stdout",
     "output_type": "stream",
     "text": [
      "INFO:tensorflow:Assets written to: .\\models\\wind_direction_prediction3.ckpt\\assets\n"
     ]
    },
    {
     "name": "stderr",
     "output_type": "stream",
     "text": [
      "INFO:tensorflow:Assets written to: .\\models\\wind_direction_prediction3.ckpt\\assets\n"
     ]
    },
    {
     "name": "stdout",
     "output_type": "stream",
     "text": [
      ".................."
     ]
    },
    {
     "name": "stderr",
     "output_type": "stream",
     "text": [
      "WARNING:absl:Found untraced functions such as activation_4_layer_call_fn, activation_4_layer_call_and_return_conditional_losses, activation_5_layer_call_fn, activation_5_layer_call_and_return_conditional_losses, activation_4_layer_call_fn while saving (showing 5 of 10). These functions will not be directly callable after loading.\n"
     ]
    },
    {
     "name": "stdout",
     "output_type": "stream",
     "text": [
      "INFO:tensorflow:Assets written to: .\\models\\wind_direction_prediction3.ckpt\\assets\n"
     ]
    },
    {
     "name": "stderr",
     "output_type": "stream",
     "text": [
      "INFO:tensorflow:Assets written to: .\\models\\wind_direction_prediction3.ckpt\\assets\n"
     ]
    },
    {
     "name": "stdout",
     "output_type": "stream",
     "text": [
      "...."
     ]
    },
    {
     "name": "stderr",
     "output_type": "stream",
     "text": [
      "WARNING:absl:Found untraced functions such as activation_4_layer_call_fn, activation_4_layer_call_and_return_conditional_losses, activation_5_layer_call_fn, activation_5_layer_call_and_return_conditional_losses, activation_4_layer_call_fn while saving (showing 5 of 10). These functions will not be directly callable after loading.\n"
     ]
    },
    {
     "name": "stdout",
     "output_type": "stream",
     "text": [
      "INFO:tensorflow:Assets written to: .\\models\\wind_direction_prediction3.ckpt\\assets\n"
     ]
    },
    {
     "name": "stderr",
     "output_type": "stream",
     "text": [
      "INFO:tensorflow:Assets written to: .\\models\\wind_direction_prediction3.ckpt\\assets\n"
     ]
    },
    {
     "name": "stdout",
     "output_type": "stream",
     "text": [
      "............."
     ]
    },
    {
     "name": "stderr",
     "output_type": "stream",
     "text": [
      "WARNING:absl:Found untraced functions such as activation_4_layer_call_fn, activation_4_layer_call_and_return_conditional_losses, activation_5_layer_call_fn, activation_5_layer_call_and_return_conditional_losses, activation_4_layer_call_fn while saving (showing 5 of 10). These functions will not be directly callable after loading.\n"
     ]
    },
    {
     "name": "stdout",
     "output_type": "stream",
     "text": [
      "INFO:tensorflow:Assets written to: .\\models\\wind_direction_prediction3.ckpt\\assets\n"
     ]
    },
    {
     "name": "stderr",
     "output_type": "stream",
     "text": [
      "INFO:tensorflow:Assets written to: .\\models\\wind_direction_prediction3.ckpt\\assets\n"
     ]
    },
    {
     "name": "stdout",
     "output_type": "stream",
     "text": [
      "...................\n",
      "Epoch: 300, loss:1959.7407,  mae:40.4270,  mape:28.8533,  mse:1959.7407,  val_loss:2833.0017,  val_mae:45.6061,  val_mape:31.2606,  val_mse:2833.0017,  \n",
      "......."
     ]
    },
    {
     "name": "stderr",
     "output_type": "stream",
     "text": [
      "WARNING:absl:Found untraced functions such as activation_4_layer_call_fn, activation_4_layer_call_and_return_conditional_losses, activation_5_layer_call_fn, activation_5_layer_call_and_return_conditional_losses, activation_4_layer_call_fn while saving (showing 5 of 10). These functions will not be directly callable after loading.\n"
     ]
    },
    {
     "name": "stdout",
     "output_type": "stream",
     "text": [
      "INFO:tensorflow:Assets written to: .\\models\\wind_direction_prediction3.ckpt\\assets\n"
     ]
    },
    {
     "name": "stderr",
     "output_type": "stream",
     "text": [
      "INFO:tensorflow:Assets written to: .\\models\\wind_direction_prediction3.ckpt\\assets\n"
     ]
    },
    {
     "name": "stdout",
     "output_type": "stream",
     "text": [
      "........"
     ]
    },
    {
     "name": "stderr",
     "output_type": "stream",
     "text": [
      "WARNING:absl:Found untraced functions such as activation_4_layer_call_fn, activation_4_layer_call_and_return_conditional_losses, activation_5_layer_call_fn, activation_5_layer_call_and_return_conditional_losses, activation_4_layer_call_fn while saving (showing 5 of 10). These functions will not be directly callable after loading.\n"
     ]
    },
    {
     "name": "stdout",
     "output_type": "stream",
     "text": [
      "INFO:tensorflow:Assets written to: .\\models\\wind_direction_prediction3.ckpt\\assets\n"
     ]
    },
    {
     "name": "stderr",
     "output_type": "stream",
     "text": [
      "INFO:tensorflow:Assets written to: .\\models\\wind_direction_prediction3.ckpt\\assets\n"
     ]
    },
    {
     "name": "stdout",
     "output_type": "stream",
     "text": [
      "........................................."
     ]
    },
    {
     "name": "stderr",
     "output_type": "stream",
     "text": [
      "WARNING:absl:Found untraced functions such as activation_4_layer_call_fn, activation_4_layer_call_and_return_conditional_losses, activation_5_layer_call_fn, activation_5_layer_call_and_return_conditional_losses, activation_4_layer_call_fn while saving (showing 5 of 10). These functions will not be directly callable after loading.\n"
     ]
    },
    {
     "name": "stdout",
     "output_type": "stream",
     "text": [
      "INFO:tensorflow:Assets written to: .\\models\\wind_direction_prediction3.ckpt\\assets\n"
     ]
    },
    {
     "name": "stderr",
     "output_type": "stream",
     "text": [
      "INFO:tensorflow:Assets written to: .\\models\\wind_direction_prediction3.ckpt\\assets\n"
     ]
    },
    {
     "name": "stdout",
     "output_type": "stream",
     "text": [
      ".................................."
     ]
    },
    {
     "name": "stderr",
     "output_type": "stream",
     "text": [
      "WARNING:absl:Found untraced functions such as activation_4_layer_call_fn, activation_4_layer_call_and_return_conditional_losses, activation_5_layer_call_fn, activation_5_layer_call_and_return_conditional_losses, activation_4_layer_call_fn while saving (showing 5 of 10). These functions will not be directly callable after loading.\n"
     ]
    },
    {
     "name": "stdout",
     "output_type": "stream",
     "text": [
      "INFO:tensorflow:Assets written to: .\\models\\wind_direction_prediction3.ckpt\\assets\n"
     ]
    },
    {
     "name": "stderr",
     "output_type": "stream",
     "text": [
      "INFO:tensorflow:Assets written to: .\\models\\wind_direction_prediction3.ckpt\\assets\n"
     ]
    },
    {
     "name": "stdout",
     "output_type": "stream",
     "text": [
      "..........\n",
      "Epoch: 400, loss:3188.0076,  mae:55.5555,  mape:22.1154,  mse:3188.0076,  val_loss:4348.5649,  val_mae:50.8714,  val_mape:41.1384,  val_mse:4348.5649,  \n",
      "..."
     ]
    },
    {
     "name": "stderr",
     "output_type": "stream",
     "text": [
      "WARNING:absl:Found untraced functions such as activation_4_layer_call_fn, activation_4_layer_call_and_return_conditional_losses, activation_5_layer_call_fn, activation_5_layer_call_and_return_conditional_losses, activation_4_layer_call_fn while saving (showing 5 of 10). These functions will not be directly callable after loading.\n"
     ]
    },
    {
     "name": "stdout",
     "output_type": "stream",
     "text": [
      "INFO:tensorflow:Assets written to: .\\models\\wind_direction_prediction3.ckpt\\assets\n"
     ]
    },
    {
     "name": "stderr",
     "output_type": "stream",
     "text": [
      "INFO:tensorflow:Assets written to: .\\models\\wind_direction_prediction3.ckpt\\assets\n"
     ]
    },
    {
     "name": "stdout",
     "output_type": "stream",
     "text": [
      "."
     ]
    },
    {
     "name": "stderr",
     "output_type": "stream",
     "text": [
      "WARNING:absl:Found untraced functions such as activation_4_layer_call_fn, activation_4_layer_call_and_return_conditional_losses, activation_5_layer_call_fn, activation_5_layer_call_and_return_conditional_losses, activation_4_layer_call_fn while saving (showing 5 of 10). These functions will not be directly callable after loading.\n"
     ]
    },
    {
     "name": "stdout",
     "output_type": "stream",
     "text": [
      "INFO:tensorflow:Assets written to: .\\models\\wind_direction_prediction3.ckpt\\assets\n"
     ]
    },
    {
     "name": "stderr",
     "output_type": "stream",
     "text": [
      "INFO:tensorflow:Assets written to: .\\models\\wind_direction_prediction3.ckpt\\assets\n"
     ]
    },
    {
     "name": "stdout",
     "output_type": "stream",
     "text": [
      "................................................"
     ]
    },
    {
     "name": "stderr",
     "output_type": "stream",
     "text": [
      "WARNING:absl:Found untraced functions such as activation_4_layer_call_fn, activation_4_layer_call_and_return_conditional_losses, activation_5_layer_call_fn, activation_5_layer_call_and_return_conditional_losses, activation_4_layer_call_fn while saving (showing 5 of 10). These functions will not be directly callable after loading.\n"
     ]
    },
    {
     "name": "stdout",
     "output_type": "stream",
     "text": [
      "INFO:tensorflow:Assets written to: .\\models\\wind_direction_prediction3.ckpt\\assets\n"
     ]
    },
    {
     "name": "stderr",
     "output_type": "stream",
     "text": [
      "INFO:tensorflow:Assets written to: .\\models\\wind_direction_prediction3.ckpt\\assets\n"
     ]
    },
    {
     "name": "stdout",
     "output_type": "stream",
     "text": [
      "......."
     ]
    },
    {
     "name": "stderr",
     "output_type": "stream",
     "text": [
      "WARNING:absl:Found untraced functions such as activation_4_layer_call_fn, activation_4_layer_call_and_return_conditional_losses, activation_5_layer_call_fn, activation_5_layer_call_and_return_conditional_losses, activation_4_layer_call_fn while saving (showing 5 of 10). These functions will not be directly callable after loading.\n"
     ]
    },
    {
     "name": "stdout",
     "output_type": "stream",
     "text": [
      "INFO:tensorflow:Assets written to: .\\models\\wind_direction_prediction3.ckpt\\assets\n"
     ]
    },
    {
     "name": "stderr",
     "output_type": "stream",
     "text": [
      "INFO:tensorflow:Assets written to: .\\models\\wind_direction_prediction3.ckpt\\assets\n"
     ]
    },
    {
     "name": "stdout",
     "output_type": "stream",
     "text": [
      "....."
     ]
    },
    {
     "name": "stderr",
     "output_type": "stream",
     "text": [
      "WARNING:absl:Found untraced functions such as activation_4_layer_call_fn, activation_4_layer_call_and_return_conditional_losses, activation_5_layer_call_fn, activation_5_layer_call_and_return_conditional_losses, activation_4_layer_call_fn while saving (showing 5 of 10). These functions will not be directly callable after loading.\n"
     ]
    },
    {
     "name": "stdout",
     "output_type": "stream",
     "text": [
      "INFO:tensorflow:Assets written to: .\\models\\wind_direction_prediction3.ckpt\\assets\n"
     ]
    },
    {
     "name": "stderr",
     "output_type": "stream",
     "text": [
      "INFO:tensorflow:Assets written to: .\\models\\wind_direction_prediction3.ckpt\\assets\n"
     ]
    },
    {
     "name": "stdout",
     "output_type": "stream",
     "text": [
      ".............."
     ]
    },
    {
     "name": "stderr",
     "output_type": "stream",
     "text": [
      "WARNING:absl:Found untraced functions such as activation_4_layer_call_fn, activation_4_layer_call_and_return_conditional_losses, activation_5_layer_call_fn, activation_5_layer_call_and_return_conditional_losses, activation_4_layer_call_fn while saving (showing 5 of 10). These functions will not be directly callable after loading.\n"
     ]
    },
    {
     "name": "stdout",
     "output_type": "stream",
     "text": [
      "INFO:tensorflow:Assets written to: .\\models\\wind_direction_prediction3.ckpt\\assets\n"
     ]
    },
    {
     "name": "stderr",
     "output_type": "stream",
     "text": [
      "INFO:tensorflow:Assets written to: .\\models\\wind_direction_prediction3.ckpt\\assets\n"
     ]
    },
    {
     "name": "stdout",
     "output_type": "stream",
     "text": [
      "..."
     ]
    },
    {
     "name": "stderr",
     "output_type": "stream",
     "text": [
      "WARNING:absl:Found untraced functions such as activation_4_layer_call_fn, activation_4_layer_call_and_return_conditional_losses, activation_5_layer_call_fn, activation_5_layer_call_and_return_conditional_losses, activation_4_layer_call_fn while saving (showing 5 of 10). These functions will not be directly callable after loading.\n"
     ]
    },
    {
     "name": "stdout",
     "output_type": "stream",
     "text": [
      "INFO:tensorflow:Assets written to: .\\models\\wind_direction_prediction3.ckpt\\assets\n"
     ]
    },
    {
     "name": "stderr",
     "output_type": "stream",
     "text": [
      "INFO:tensorflow:Assets written to: .\\models\\wind_direction_prediction3.ckpt\\assets\n"
     ]
    },
    {
     "name": "stdout",
     "output_type": "stream",
     "text": [
      "...................Wall time: 2min 15s\n"
     ]
    }
   ],
   "source": [
    "%%time\n",
    "\n",
    "EPOCHS = 500\n",
    "batch_size = 6\n",
    "\n",
    "model3 = model3_multilayer_perceptron_with_two_hidden_layer()\n",
    "print('Here is a summary of this model: ')\n",
    "model3.summary()\n",
    "\n",
    "with tf.device('/CPU:0'):\n",
    "    history = model3.fit(\n",
    "        normed_train_data,\n",
    "        train_labels,\n",
    "        batch_size = batch_size,\n",
    "        epochs=EPOCHS,\n",
    "        verbose=0,\n",
    "        shuffle=True,\n",
    "        steps_per_epoch= 1,\n",
    "        validation_data = (normed_valid_dataset, valid_labels),\n",
    "        callbacks=[tfdocs.modeling.EpochDots(), ckpt_callback],\n",
    "    )\n"
   ]
  },
  {
   "cell_type": "code",
   "execution_count": 64,
   "id": "622ae6dc",
   "metadata": {},
   "outputs": [
    {
     "name": "stdout",
     "output_type": "stream",
     "text": [
      "Summary of the results after each epoch: \n"
     ]
    },
    {
     "data": {
      "text/html": [
       "<div>\n",
       "<style scoped>\n",
       "    .dataframe tbody tr th:only-of-type {\n",
       "        vertical-align: middle;\n",
       "    }\n",
       "\n",
       "    .dataframe tbody tr th {\n",
       "        vertical-align: top;\n",
       "    }\n",
       "\n",
       "    .dataframe thead th {\n",
       "        text-align: right;\n",
       "    }\n",
       "</style>\n",
       "<table border=\"1\" class=\"dataframe\">\n",
       "  <thead>\n",
       "    <tr style=\"text-align: right;\">\n",
       "      <th></th>\n",
       "      <th>loss</th>\n",
       "      <th>mae</th>\n",
       "      <th>mse</th>\n",
       "      <th>mape</th>\n",
       "      <th>val_loss</th>\n",
       "      <th>val_mae</th>\n",
       "      <th>val_mse</th>\n",
       "      <th>val_mape</th>\n",
       "      <th>epoch</th>\n",
       "    </tr>\n",
       "  </thead>\n",
       "  <tbody>\n",
       "    <tr>\n",
       "      <th>495</th>\n",
       "      <td>1422.761597</td>\n",
       "      <td>30.531464</td>\n",
       "      <td>1422.761597</td>\n",
       "      <td>17.134829</td>\n",
       "      <td>2636.565918</td>\n",
       "      <td>42.884003</td>\n",
       "      <td>2636.565918</td>\n",
       "      <td>30.033497</td>\n",
       "      <td>495</td>\n",
       "    </tr>\n",
       "    <tr>\n",
       "      <th>496</th>\n",
       "      <td>3339.515381</td>\n",
       "      <td>51.852814</td>\n",
       "      <td>3339.515381</td>\n",
       "      <td>34.749710</td>\n",
       "      <td>2610.085205</td>\n",
       "      <td>45.003475</td>\n",
       "      <td>2610.085205</td>\n",
       "      <td>28.329380</td>\n",
       "      <td>496</td>\n",
       "    </tr>\n",
       "    <tr>\n",
       "      <th>497</th>\n",
       "      <td>1989.674927</td>\n",
       "      <td>34.642796</td>\n",
       "      <td>1989.674927</td>\n",
       "      <td>18.422640</td>\n",
       "      <td>2630.580811</td>\n",
       "      <td>42.809185</td>\n",
       "      <td>2630.580811</td>\n",
       "      <td>30.364763</td>\n",
       "      <td>497</td>\n",
       "    </tr>\n",
       "    <tr>\n",
       "      <th>498</th>\n",
       "      <td>1699.682251</td>\n",
       "      <td>34.947372</td>\n",
       "      <td>1699.682251</td>\n",
       "      <td>15.916348</td>\n",
       "      <td>3405.953369</td>\n",
       "      <td>45.207249</td>\n",
       "      <td>3405.953369</td>\n",
       "      <td>35.377598</td>\n",
       "      <td>498</td>\n",
       "    </tr>\n",
       "    <tr>\n",
       "      <th>499</th>\n",
       "      <td>1946.929199</td>\n",
       "      <td>41.235920</td>\n",
       "      <td>1946.929199</td>\n",
       "      <td>30.707998</td>\n",
       "      <td>2531.897217</td>\n",
       "      <td>43.973289</td>\n",
       "      <td>2531.897217</td>\n",
       "      <td>28.639391</td>\n",
       "      <td>499</td>\n",
       "    </tr>\n",
       "  </tbody>\n",
       "</table>\n",
       "</div>"
      ],
      "text/plain": [
       "            loss        mae          mse       mape     val_loss    val_mae  \\\n",
       "495  1422.761597  30.531464  1422.761597  17.134829  2636.565918  42.884003   \n",
       "496  3339.515381  51.852814  3339.515381  34.749710  2610.085205  45.003475   \n",
       "497  1989.674927  34.642796  1989.674927  18.422640  2630.580811  42.809185   \n",
       "498  1699.682251  34.947372  1699.682251  15.916348  3405.953369  45.207249   \n",
       "499  1946.929199  41.235920  1946.929199  30.707998  2531.897217  43.973289   \n",
       "\n",
       "         val_mse   val_mape  epoch  \n",
       "495  2636.565918  30.033497    495  \n",
       "496  2610.085205  28.329380    496  \n",
       "497  2630.580811  30.364763    497  \n",
       "498  3405.953369  35.377598    498  \n",
       "499  2531.897217  28.639391    499  "
      ]
     },
     "execution_count": 64,
     "metadata": {},
     "output_type": "execute_result"
    }
   ],
   "source": [
    "print('Summary of the results after each epoch: ')\n",
    "hist = pd.DataFrame(history.history)\n",
    "hist['epoch'] = history.epoch\n",
    "hist.tail()"
   ]
  },
  {
   "cell_type": "code",
   "execution_count": 65,
   "id": "452560e7",
   "metadata": {},
   "outputs": [],
   "source": [
    "# Test the model after training\n",
    "example_batch = normed_train_data[:10]\n",
    "example_result = model3.predict(example_batch)\n"
   ]
  },
  {
   "cell_type": "markdown",
   "id": "abda4b95",
   "metadata": {},
   "source": [
    "## Compare the Actual Values with the predicted values"
   ]
  },
  {
   "cell_type": "code",
   "execution_count": 66,
   "id": "4102c688",
   "metadata": {},
   "outputs": [
    {
     "name": "stdout",
     "output_type": "stream",
     "text": [
      "Predicted Values\n",
      "[[ 98.129974]\n",
      " [194.18788 ]\n",
      " [183.00458 ]\n",
      " [126.530945]\n",
      " [190.0343  ]\n",
      " [124.07463 ]\n",
      " [203.37396 ]\n",
      " [204.49083 ]\n",
      " [199.06133 ]\n",
      " [142.6946  ]]\n",
      "\n",
      "Actual Values\n",
      "160\n",
      "220\n",
      "250\n",
      "270\n",
      "210\n",
      "260\n",
      "250\n",
      "240\n",
      "250\n",
      "260\n"
     ]
    }
   ],
   "source": [
    "print('Predicted Values')\n",
    "print(example_result[:10])\n",
    "print()\n",
    "print('Actual Values')\n",
    "print(true_values[:10].to_string(index=False))"
   ]
  },
  {
   "cell_type": "markdown",
   "id": "ea887bdc",
   "metadata": {},
   "source": [
    "## See how the training went by plotting the loss/mse across epochs"
   ]
  },
  {
   "cell_type": "code",
   "execution_count": 67,
   "id": "b36a9b25",
   "metadata": {},
   "outputs": [
    {
     "data": {
      "text/plain": [
       "Text(0, 0.5, 'MAE [wind-direction]')"
      ]
     },
     "execution_count": 67,
     "metadata": {},
     "output_type": "execute_result"
    },
    {
     "data": {
      "image/png": "[encoded data removed]",
      "text/plain": [
       "<Figure size 432x288 with 1 Axes>"
      ]
     },
     "metadata": {
      "needs_background": "light"
     },
     "output_type": "display_data"
    }
   ],
   "source": [
    "plotter = tfdocs.plots.HistoryPlotter(smoothing_std=2)\n",
    "\n",
    "plotter.plot({'Basic': history}, metric = 'mae')\n",
    "plt.ylim([0,200])\n",
    "plt.ylabel('MAE [wind-direction]')"
   ]
  },
  {
   "cell_type": "code",
   "execution_count": 68,
   "id": "911a87b4",
   "metadata": {},
   "outputs": [
    {
     "data": {
      "text/plain": [
       "Text(0, 0.5, 'MSE [wind-direction]')"
      ]
     },
     "execution_count": 68,
     "metadata": {},
     "output_type": "execute_result"
    },
    {
     "data": {
      "image/png": "[encoded data removed]",
      "text/plain": [
       "<Figure size 432x288 with 1 Axes>"
      ]
     },
     "metadata": {
      "needs_background": "light"
     },
     "output_type": "display_data"
    }
   ],
   "source": [
    "plotter.plot({'Basic': history}, metric = 'mse')\n",
    "plt.ylim([0,5000])\n",
    "plt.ylabel('MSE [wind-direction]')"
   ]
  },
  {
   "cell_type": "code",
   "execution_count": 69,
   "id": "081f9491",
   "metadata": {},
   "outputs": [
    {
     "name": "stdout",
     "output_type": "stream",
     "text": [
      "Error Rate on Train Split: \n",
      "2/2 - 0s - loss: 2252.3230 - mae: 39.2949 - mse: 2252.3230 - mape: 22.2462\n",
      "Train set Mean Abs Error : 39.29\n",
      "Train set Mean Square Error : 2252.32\n"
     ]
    }
   ],
   "source": [
    "print('Error Rate on Train Split: ')\n",
    "loss, mae, mse, mape = model3.evaluate(normed_train_data, train_labels, verbose=2)\n",
    "\n",
    "print('Train set Mean Abs Error : {:5.2f}'.format(mae))\n",
    "print('Train set Mean Square Error : {:5.2f}'.format(mse))"
   ]
  },
  {
   "cell_type": "code",
   "execution_count": 70,
   "id": "19e5a40d",
   "metadata": {},
   "outputs": [
    {
     "name": "stdout",
     "output_type": "stream",
     "text": [
      "Error Rate on Evaluation  Split: \n",
      "1/1 - 0s - loss: 2531.8972 - mae: 43.9733 - mse: 2531.8972 - mape: 28.6394\n",
      "Validation set Mean Abs Error : 43.97\n",
      "Validation set Mean Square Error : 2531.90\n"
     ]
    }
   ],
   "source": [
    "print('Error Rate on Evaluation  Split: ')\n",
    "loss, mae, mse, mape = model3.evaluate(normed_valid_dataset, valid_labels, verbose=2)\n",
    "\n",
    "print('Validation set Mean Abs Error : {:5.2f}'.format(mae))\n",
    "print('Validation set Mean Square Error : {:5.2f}'.format(mse))"
   ]
  },
  {
   "cell_type": "code",
   "execution_count": 71,
   "id": "ad95ed6a",
   "metadata": {},
   "outputs": [
    {
     "name": "stdout",
     "output_type": "stream",
     "text": [
      "Error Rate on Test  Split: \n",
      "1/1 - 0s - loss: 3099.9648 - mae: 44.9624 - mse: 3099.9648 - mape: 34.7622\n",
      "Testing set Mean Abs Error : 44.96\n",
      "Testing set Mean Square Error : 3099.96\n"
     ]
    }
   ],
   "source": [
    "print('Error Rate on Test  Split: ')\n",
    "loss, mae, mse, mape = model3.evaluate(normed_test_data, test_labels, verbose=2)\n",
    "\n",
    "print('Testing set Mean Abs Error : {:5.2f}'.format(mae))\n",
    "print('Testing set Mean Square Error : {:5.2f}'.format(mse))"
   ]
  },
  {
   "cell_type": "code",
   "execution_count": 72,
   "id": "7daa6539",
   "metadata": {},
   "outputs": [
    {
     "data": {
      "image/png": "[encoded data removed]",
      "text/plain": [
       "<Figure size 432x288 with 1 Axes>"
      ]
     },
     "metadata": {
      "needs_background": "light"
     },
     "output_type": "display_data"
    }
   ],
   "source": [
    "train_predictions = model3.predict(normed_train_data).flatten()\n",
    "\n",
    "a = plt.axes(aspect='equal')\n",
    "plt.scatter(train_labels, train_predictions)\n",
    "plt.xlabel('True Values [wind-direction]')\n",
    "plt.ylabel('Predictions [wind-direction]')\n",
    "lims = [0, 350]\n",
    "plt.xlim(lims)\n",
    "plt.ylim(lims)\n",
    "_ = plt.plot(lims, lims)"
   ]
  },
  {
   "cell_type": "code",
   "execution_count": 73,
   "id": "3d05ba44",
   "metadata": {},
   "outputs": [
    {
     "data": {
      "image/png": "[encoded data removed]",
      "text/plain": [
       "<Figure size 432x288 with 1 Axes>"
      ]
     },
     "metadata": {
      "needs_background": "light"
     },
     "output_type": "display_data"
    }
   ],
   "source": [
    "test_predictions = model3.predict(normed_test_data).flatten()\n",
    "\n",
    "a = plt.axes(aspect='equal')\n",
    "plt.scatter(test_labels, test_predictions)\n",
    "plt.xlabel('True Values [wind-direction]')\n",
    "plt.ylabel('Predictions [wind-direction]')\n",
    "lims = [0, 350]\n",
    "plt.xlim(lims)\n",
    "plt.ylim(lims)\n",
    "_ = plt.plot(lims, lims)"
   ]
  },
  {
   "cell_type": "code",
   "execution_count": 74,
   "id": "2fbdc2ab",
   "metadata": {},
   "outputs": [
    {
     "data": {
      "image/png": "[encoded data removed]",
      "text/plain": [
       "<Figure size 432x288 with 1 Axes>"
      ]
     },
     "metadata": {
      "needs_background": "light"
     },
     "output_type": "display_data"
    }
   ],
   "source": [
    "# error distribution.\n",
    "error = test_predictions - test_labels\n",
    "plt.hist(error, bins = 25)\n",
    "plt.xlabel(\"Prediction Error [wind-speed]\")\n",
    "_ = plt.ylabel(\"count\")"
   ]
  },
  {
   "cell_type": "code",
   "execution_count": null,
   "id": "cd32d25d",
   "metadata": {},
   "outputs": [],
   "source": []
  }
 ],
 "metadata": {
  "kernelspec": {
   "display_name": "Python 3 (ipykernel)",
   "language": "python",
   "name": "python3"
  },
  "language_info": {
   "codemirror_mode": {
    "name": "ipython",
    "version": 3
   },
   "file_extension": ".py",
   "mimetype": "text/x-python",
   "name": "python",
   "nbconvert_exporter": "python",
   "pygments_lexer": "ipython3",
   "version": "3.9.6"
  }
 },
 "nbformat": 4,
 "nbformat_minor": 5
}

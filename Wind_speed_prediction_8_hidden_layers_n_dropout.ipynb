{
 "cells": [
  {
   "cell_type": "markdown",
   "id": "2869aab5",
   "metadata": {},
   "source": [
    "### import os for  operating system operations e.g., creating a folder"
   ]
  },
  {
   "cell_type": "code",
   "execution_count": 64,
   "id": "14b84b90",
   "metadata": {},
   "outputs": [],
   "source": [
    "import os"
   ]
  },
  {
   "cell_type": "markdown",
   "id": "a1387a94",
   "metadata": {},
   "source": [
    "### Tensorflow and keras are two packages for creating neural network models."
   ]
  },
  {
   "cell_type": "code",
   "execution_count": 65,
   "id": "142f9f44",
   "metadata": {},
   "outputs": [],
   "source": [
    "\n",
    "import tensorflow as tf\n",
    "from tensorflow import keras"
   ]
  },
  {
   "cell_type": "markdown",
   "id": "037b0c53",
   "metadata": {},
   "source": [
    "### For splitting our dataset into training and test set"
   ]
  },
  {
   "cell_type": "code",
   "execution_count": 66,
   "id": "fc71c4a0",
   "metadata": {},
   "outputs": [],
   "source": [
    "\n",
    "from sklearn.model_selection import train_test_split"
   ]
  },
  {
   "cell_type": "markdown",
   "id": "98d22649",
   "metadata": {},
   "source": [
    "### print tensorflow (TF) version. Make sure you have at least tensorflow 2.1.0"
   ]
  },
  {
   "cell_type": "code",
   "execution_count": 67,
   "id": "ec10543e",
   "metadata": {},
   "outputs": [
    {
     "name": "stdout",
     "output_type": "stream",
     "text": [
      "Tensorflow version: 2.6.0\n"
     ]
    }
   ],
   "source": [
    "\n",
    "print(f\"Tensorflow version: {tf.version.VERSION}\")"
   ]
  },
  {
   "cell_type": "code",
   "execution_count": 68,
   "id": "d31ecb4c",
   "metadata": {},
   "outputs": [],
   "source": [
    "import pathlib # for processing a path e.g c:\\documents\\files\\testset.csv\n",
    "import matplotlib.pyplot as plt # for plotting data and creating different charts.\n",
    "import numpy as np # for math and arrays\n",
    "import pandas as pd # data frame for the data.\n",
    "import seaborn as sns # plotting."
   ]
  },
  {
   "cell_type": "markdown",
   "id": "158856ce",
   "metadata": {},
   "source": [
    "### Read dataset"
   ]
  },
  {
   "cell_type": "code",
   "execution_count": 69,
   "id": "5237014e",
   "metadata": {},
   "outputs": [],
   "source": [
    "\n",
    "dataset = pd.read_csv('dataset2.csv')"
   ]
  },
  {
   "cell_type": "markdown",
   "id": "0ef50c1b",
   "metadata": {},
   "source": [
    "### display dataset"
   ]
  },
  {
   "cell_type": "code",
   "execution_count": 70,
   "id": "912f8f08",
   "metadata": {
    "scrolled": true
   },
   "outputs": [
    {
     "data": {
      "text/html": [
       "<div>\n",
       "<style scoped>\n",
       "    .dataframe tbody tr th:only-of-type {\n",
       "        vertical-align: middle;\n",
       "    }\n",
       "\n",
       "    .dataframe tbody tr th {\n",
       "        vertical-align: top;\n",
       "    }\n",
       "\n",
       "    .dataframe thead th {\n",
       "        text-align: right;\n",
       "    }\n",
       "</style>\n",
       "<table border=\"1\" class=\"dataframe\">\n",
       "  <thead>\n",
       "    <tr style=\"text-align: right;\">\n",
       "      <th></th>\n",
       "      <th>DATE</th>\n",
       "      <th>MAXIMUM-TEMPERATURE</th>\n",
       "      <th>MINIMUM-TEMPERATURE</th>\n",
       "      <th>WIND-DIRECTION</th>\n",
       "      <th>WIND-SPEED</th>\n",
       "      <th>WIND-RUN</th>\n",
       "      <th>RELATIVE-HUMIDITY</th>\n",
       "      <th>AIR-PRESSURE</th>\n",
       "    </tr>\n",
       "  </thead>\n",
       "  <tbody>\n",
       "    <tr>\n",
       "      <th>0</th>\n",
       "      <td>Jan-95</td>\n",
       "      <td>33.3</td>\n",
       "      <td>16.4</td>\n",
       "      <td>73</td>\n",
       "      <td>2.0</td>\n",
       "      <td>NaN</td>\n",
       "      <td>27</td>\n",
       "      <td>1014.5</td>\n",
       "    </tr>\n",
       "    <tr>\n",
       "      <th>1</th>\n",
       "      <td>Feb-95</td>\n",
       "      <td>35.9</td>\n",
       "      <td>18.6</td>\n",
       "      <td>123</td>\n",
       "      <td>3.0</td>\n",
       "      <td>NaN</td>\n",
       "      <td>23</td>\n",
       "      <td>1013.7</td>\n",
       "    </tr>\n",
       "    <tr>\n",
       "      <th>2</th>\n",
       "      <td>Mar-95</td>\n",
       "      <td>40.5</td>\n",
       "      <td>25.0</td>\n",
       "      <td>191</td>\n",
       "      <td>3.0</td>\n",
       "      <td>NaN</td>\n",
       "      <td>32</td>\n",
       "      <td>1009.1</td>\n",
       "    </tr>\n",
       "    <tr>\n",
       "      <th>3</th>\n",
       "      <td>Apr-95</td>\n",
       "      <td>40.1</td>\n",
       "      <td>27.2</td>\n",
       "      <td>196</td>\n",
       "      <td>4.0</td>\n",
       "      <td>NaN</td>\n",
       "      <td>43</td>\n",
       "      <td>1010.5</td>\n",
       "    </tr>\n",
       "    <tr>\n",
       "      <th>4</th>\n",
       "      <td>May-95</td>\n",
       "      <td>36.8</td>\n",
       "      <td>25.7</td>\n",
       "      <td>155</td>\n",
       "      <td>3.0</td>\n",
       "      <td>NaN</td>\n",
       "      <td>61</td>\n",
       "      <td>1010.3</td>\n",
       "    </tr>\n",
       "    <tr>\n",
       "      <th>...</th>\n",
       "      <td>...</td>\n",
       "      <td>...</td>\n",
       "      <td>...</td>\n",
       "      <td>...</td>\n",
       "      <td>...</td>\n",
       "      <td>...</td>\n",
       "      <td>...</td>\n",
       "      <td>...</td>\n",
       "    </tr>\n",
       "    <tr>\n",
       "      <th>303</th>\n",
       "      <td>NaN</td>\n",
       "      <td>40.7</td>\n",
       "      <td>29.4</td>\n",
       "      <td>270</td>\n",
       "      <td>1.5</td>\n",
       "      <td>47.4</td>\n",
       "      <td>48</td>\n",
       "      <td>1003.3</td>\n",
       "    </tr>\n",
       "    <tr>\n",
       "      <th>304</th>\n",
       "      <td>NaN</td>\n",
       "      <td>37.7</td>\n",
       "      <td>27.2</td>\n",
       "      <td>240</td>\n",
       "      <td>2.1</td>\n",
       "      <td>52.8</td>\n",
       "      <td>61</td>\n",
       "      <td>1005.7</td>\n",
       "    </tr>\n",
       "    <tr>\n",
       "      <th>305</th>\n",
       "      <td>NaN</td>\n",
       "      <td>33.8</td>\n",
       "      <td>25.4</td>\n",
       "      <td>230</td>\n",
       "      <td>1.9</td>\n",
       "      <td>52.1</td>\n",
       "      <td>72</td>\n",
       "      <td>1008.3</td>\n",
       "    </tr>\n",
       "    <tr>\n",
       "      <th>306</th>\n",
       "      <td>NaN</td>\n",
       "      <td>31.5</td>\n",
       "      <td>24.2</td>\n",
       "      <td>220</td>\n",
       "      <td>1.9</td>\n",
       "      <td>46.4</td>\n",
       "      <td>79</td>\n",
       "      <td>1010.0</td>\n",
       "    </tr>\n",
       "    <tr>\n",
       "      <th>307</th>\n",
       "      <td>NaN</td>\n",
       "      <td>31.8</td>\n",
       "      <td>24.4</td>\n",
       "      <td>270</td>\n",
       "      <td>1.6</td>\n",
       "      <td>42.4</td>\n",
       "      <td>76</td>\n",
       "      <td>1009.6</td>\n",
       "    </tr>\n",
       "  </tbody>\n",
       "</table>\n",
       "<p>308 rows × 8 columns</p>\n",
       "</div>"
      ],
      "text/plain": [
       "       DATE  MAXIMUM-TEMPERATURE  MINIMUM-TEMPERATURE  WIND-DIRECTION  \\\n",
       "0    Jan-95                 33.3                 16.4              73   \n",
       "1    Feb-95                 35.9                 18.6             123   \n",
       "2    Mar-95                 40.5                 25.0             191   \n",
       "3    Apr-95                 40.1                 27.2             196   \n",
       "4    May-95                 36.8                 25.7             155   \n",
       "..      ...                  ...                  ...             ...   \n",
       "303     NaN                 40.7                 29.4             270   \n",
       "304     NaN                 37.7                 27.2             240   \n",
       "305     NaN                 33.8                 25.4             230   \n",
       "306     NaN                 31.5                 24.2             220   \n",
       "307     NaN                 31.8                 24.4             270   \n",
       "\n",
       "     WIND-SPEED  WIND-RUN  RELATIVE-HUMIDITY  AIR-PRESSURE  \n",
       "0           2.0       NaN                 27        1014.5  \n",
       "1           3.0       NaN                 23        1013.7  \n",
       "2           3.0       NaN                 32        1009.1  \n",
       "3           4.0       NaN                 43        1010.5  \n",
       "4           3.0       NaN                 61        1010.3  \n",
       "..          ...       ...                ...           ...  \n",
       "303         1.5      47.4                 48        1003.3  \n",
       "304         2.1      52.8                 61        1005.7  \n",
       "305         1.9      52.1                 72        1008.3  \n",
       "306         1.9      46.4                 79        1010.0  \n",
       "307         1.6      42.4                 76        1009.6  \n",
       "\n",
       "[308 rows x 8 columns]"
      ]
     },
     "execution_count": 70,
     "metadata": {},
     "output_type": "execute_result"
    }
   ],
   "source": [
    "true_values = dataset['WIND-SPEED']\n",
    "dataset.head(-10)"
   ]
  },
  {
   "cell_type": "markdown",
   "id": "653dc3f5",
   "metadata": {},
   "source": [
    "### dataset characteristics"
   ]
  },
  {
   "cell_type": "code",
   "execution_count": 71,
   "id": "9259209e",
   "metadata": {
    "scrolled": true
   },
   "outputs": [
    {
     "data": {
      "text/html": [
       "<div>\n",
       "<style scoped>\n",
       "    .dataframe tbody tr th:only-of-type {\n",
       "        vertical-align: middle;\n",
       "    }\n",
       "\n",
       "    .dataframe tbody tr th {\n",
       "        vertical-align: top;\n",
       "    }\n",
       "\n",
       "    .dataframe thead th {\n",
       "        text-align: right;\n",
       "    }\n",
       "</style>\n",
       "<table border=\"1\" class=\"dataframe\">\n",
       "  <thead>\n",
       "    <tr style=\"text-align: right;\">\n",
       "      <th></th>\n",
       "      <th>MAXIMUM-TEMPERATURE</th>\n",
       "      <th>MINIMUM-TEMPERATURE</th>\n",
       "      <th>WIND-DIRECTION</th>\n",
       "      <th>WIND-SPEED</th>\n",
       "      <th>WIND-RUN</th>\n",
       "      <th>RELATIVE-HUMIDITY</th>\n",
       "      <th>AIR-PRESSURE</th>\n",
       "    </tr>\n",
       "  </thead>\n",
       "  <tbody>\n",
       "    <tr>\n",
       "      <th>count</th>\n",
       "      <td>318.000000</td>\n",
       "      <td>318.000000</td>\n",
       "      <td>318.000000</td>\n",
       "      <td>318.000000</td>\n",
       "      <td>66.000000</td>\n",
       "      <td>318.000000</td>\n",
       "      <td>318.000000</td>\n",
       "    </tr>\n",
       "    <tr>\n",
       "      <th>mean</th>\n",
       "      <td>35.168868</td>\n",
       "      <td>23.039937</td>\n",
       "      <td>165.679245</td>\n",
       "      <td>3.449686</td>\n",
       "      <td>48.207576</td>\n",
       "      <td>53.556604</td>\n",
       "      <td>1011.990566</td>\n",
       "    </tr>\n",
       "    <tr>\n",
       "      <th>std</th>\n",
       "      <td>3.219431</td>\n",
       "      <td>3.183020</td>\n",
       "      <td>54.287681</td>\n",
       "      <td>1.456645</td>\n",
       "      <td>16.390328</td>\n",
       "      <td>21.502584</td>\n",
       "      <td>3.587883</td>\n",
       "    </tr>\n",
       "    <tr>\n",
       "      <th>min</th>\n",
       "      <td>28.500000</td>\n",
       "      <td>13.900000</td>\n",
       "      <td>58.000000</td>\n",
       "      <td>0.000000</td>\n",
       "      <td>18.900000</td>\n",
       "      <td>11.000000</td>\n",
       "      <td>1002.300000</td>\n",
       "    </tr>\n",
       "    <tr>\n",
       "      <th>25%</th>\n",
       "      <td>32.200000</td>\n",
       "      <td>21.000000</td>\n",
       "      <td>120.000000</td>\n",
       "      <td>2.225000</td>\n",
       "      <td>33.300000</td>\n",
       "      <td>32.000000</td>\n",
       "      <td>1010.400000</td>\n",
       "    </tr>\n",
       "    <tr>\n",
       "      <th>50%</th>\n",
       "      <td>35.000000</td>\n",
       "      <td>23.600000</td>\n",
       "      <td>163.500000</td>\n",
       "      <td>3.000000</td>\n",
       "      <td>47.600000</td>\n",
       "      <td>54.000000</td>\n",
       "      <td>1013.200000</td>\n",
       "    </tr>\n",
       "    <tr>\n",
       "      <th>75%</th>\n",
       "      <td>37.300000</td>\n",
       "      <td>25.000000</td>\n",
       "      <td>204.750000</td>\n",
       "      <td>4.000000</td>\n",
       "      <td>61.350000</td>\n",
       "      <td>75.000000</td>\n",
       "      <td>1014.300000</td>\n",
       "    </tr>\n",
       "    <tr>\n",
       "      <th>max</th>\n",
       "      <td>41.900000</td>\n",
       "      <td>29.400000</td>\n",
       "      <td>307.000000</td>\n",
       "      <td>12.000000</td>\n",
       "      <td>98.300000</td>\n",
       "      <td>85.000000</td>\n",
       "      <td>1036.000000</td>\n",
       "    </tr>\n",
       "  </tbody>\n",
       "</table>\n",
       "</div>"
      ],
      "text/plain": [
       "       MAXIMUM-TEMPERATURE  MINIMUM-TEMPERATURE  WIND-DIRECTION  WIND-SPEED  \\\n",
       "count           318.000000           318.000000      318.000000  318.000000   \n",
       "mean             35.168868            23.039937      165.679245    3.449686   \n",
       "std               3.219431             3.183020       54.287681    1.456645   \n",
       "min              28.500000            13.900000       58.000000    0.000000   \n",
       "25%              32.200000            21.000000      120.000000    2.225000   \n",
       "50%              35.000000            23.600000      163.500000    3.000000   \n",
       "75%              37.300000            25.000000      204.750000    4.000000   \n",
       "max              41.900000            29.400000      307.000000   12.000000   \n",
       "\n",
       "        WIND-RUN  RELATIVE-HUMIDITY  AIR-PRESSURE  \n",
       "count  66.000000         318.000000    318.000000  \n",
       "mean   48.207576          53.556604   1011.990566  \n",
       "std    16.390328          21.502584      3.587883  \n",
       "min    18.900000          11.000000   1002.300000  \n",
       "25%    33.300000          32.000000   1010.400000  \n",
       "50%    47.600000          54.000000   1013.200000  \n",
       "75%    61.350000          75.000000   1014.300000  \n",
       "max    98.300000          85.000000   1036.000000  "
      ]
     },
     "execution_count": 71,
     "metadata": {},
     "output_type": "execute_result"
    }
   ],
   "source": [
    "\n",
    "dataset.describe()"
   ]
  },
  {
   "cell_type": "markdown",
   "id": "08ce4100",
   "metadata": {},
   "source": [
    "### Check for null and NaN values"
   ]
  },
  {
   "cell_type": "code",
   "execution_count": 72,
   "id": "24bba101",
   "metadata": {},
   "outputs": [
    {
     "data": {
      "text/plain": [
       "DATE                   113\n",
       "MAXIMUM-TEMPERATURE      0\n",
       "MINIMUM-TEMPERATURE      0\n",
       "WIND-DIRECTION           0\n",
       "WIND-SPEED               0\n",
       "WIND-RUN               252\n",
       "RELATIVE-HUMIDITY        0\n",
       "AIR-PRESSURE             0\n",
       "dtype: int64"
      ]
     },
     "execution_count": 72,
     "metadata": {},
     "output_type": "execute_result"
    }
   ],
   "source": [
    "\n",
    "dataset.isna().sum()"
   ]
  },
  {
   "cell_type": "code",
   "execution_count": 73,
   "id": "081c2667",
   "metadata": {},
   "outputs": [],
   "source": [
    "median =dataset['WIND-RUN'].median()\n",
    "median\n",
    "dataset[\"WIND-RUN\"].fillna(median, inplace=True)"
   ]
  },
  {
   "cell_type": "markdown",
   "id": "27a01151",
   "metadata": {},
   "source": [
    "### copy dataset"
   ]
  },
  {
   "cell_type": "code",
   "execution_count": 74,
   "id": "9e6fb94d",
   "metadata": {},
   "outputs": [
    {
     "data": {
      "text/html": [
       "<div>\n",
       "<style scoped>\n",
       "    .dataframe tbody tr th:only-of-type {\n",
       "        vertical-align: middle;\n",
       "    }\n",
       "\n",
       "    .dataframe tbody tr th {\n",
       "        vertical-align: top;\n",
       "    }\n",
       "\n",
       "    .dataframe thead th {\n",
       "        text-align: right;\n",
       "    }\n",
       "</style>\n",
       "<table border=\"1\" class=\"dataframe\">\n",
       "  <thead>\n",
       "    <tr style=\"text-align: right;\">\n",
       "      <th></th>\n",
       "      <th>DATE</th>\n",
       "      <th>MAXIMUM-TEMPERATURE</th>\n",
       "      <th>MINIMUM-TEMPERATURE</th>\n",
       "      <th>WIND-DIRECTION</th>\n",
       "      <th>WIND-SPEED</th>\n",
       "      <th>WIND-RUN</th>\n",
       "      <th>RELATIVE-HUMIDITY</th>\n",
       "      <th>AIR-PRESSURE</th>\n",
       "    </tr>\n",
       "  </thead>\n",
       "  <tbody>\n",
       "    <tr>\n",
       "      <th>0</th>\n",
       "      <td>Jan-95</td>\n",
       "      <td>33.3</td>\n",
       "      <td>16.4</td>\n",
       "      <td>73</td>\n",
       "      <td>2.0</td>\n",
       "      <td>47.6</td>\n",
       "      <td>27</td>\n",
       "      <td>1014.5</td>\n",
       "    </tr>\n",
       "    <tr>\n",
       "      <th>1</th>\n",
       "      <td>Feb-95</td>\n",
       "      <td>35.9</td>\n",
       "      <td>18.6</td>\n",
       "      <td>123</td>\n",
       "      <td>3.0</td>\n",
       "      <td>47.6</td>\n",
       "      <td>23</td>\n",
       "      <td>1013.7</td>\n",
       "    </tr>\n",
       "    <tr>\n",
       "      <th>2</th>\n",
       "      <td>Mar-95</td>\n",
       "      <td>40.5</td>\n",
       "      <td>25.0</td>\n",
       "      <td>191</td>\n",
       "      <td>3.0</td>\n",
       "      <td>47.6</td>\n",
       "      <td>32</td>\n",
       "      <td>1009.1</td>\n",
       "    </tr>\n",
       "    <tr>\n",
       "      <th>3</th>\n",
       "      <td>Apr-95</td>\n",
       "      <td>40.1</td>\n",
       "      <td>27.2</td>\n",
       "      <td>196</td>\n",
       "      <td>4.0</td>\n",
       "      <td>47.6</td>\n",
       "      <td>43</td>\n",
       "      <td>1010.5</td>\n",
       "    </tr>\n",
       "    <tr>\n",
       "      <th>4</th>\n",
       "      <td>May-95</td>\n",
       "      <td>36.8</td>\n",
       "      <td>25.7</td>\n",
       "      <td>155</td>\n",
       "      <td>3.0</td>\n",
       "      <td>47.6</td>\n",
       "      <td>61</td>\n",
       "      <td>1010.3</td>\n",
       "    </tr>\n",
       "    <tr>\n",
       "      <th>...</th>\n",
       "      <td>...</td>\n",
       "      <td>...</td>\n",
       "      <td>...</td>\n",
       "      <td>...</td>\n",
       "      <td>...</td>\n",
       "      <td>...</td>\n",
       "      <td>...</td>\n",
       "      <td>...</td>\n",
       "    </tr>\n",
       "    <tr>\n",
       "      <th>303</th>\n",
       "      <td>NaN</td>\n",
       "      <td>40.7</td>\n",
       "      <td>29.4</td>\n",
       "      <td>270</td>\n",
       "      <td>1.5</td>\n",
       "      <td>47.4</td>\n",
       "      <td>48</td>\n",
       "      <td>1003.3</td>\n",
       "    </tr>\n",
       "    <tr>\n",
       "      <th>304</th>\n",
       "      <td>NaN</td>\n",
       "      <td>37.7</td>\n",
       "      <td>27.2</td>\n",
       "      <td>240</td>\n",
       "      <td>2.1</td>\n",
       "      <td>52.8</td>\n",
       "      <td>61</td>\n",
       "      <td>1005.7</td>\n",
       "    </tr>\n",
       "    <tr>\n",
       "      <th>305</th>\n",
       "      <td>NaN</td>\n",
       "      <td>33.8</td>\n",
       "      <td>25.4</td>\n",
       "      <td>230</td>\n",
       "      <td>1.9</td>\n",
       "      <td>52.1</td>\n",
       "      <td>72</td>\n",
       "      <td>1008.3</td>\n",
       "    </tr>\n",
       "    <tr>\n",
       "      <th>306</th>\n",
       "      <td>NaN</td>\n",
       "      <td>31.5</td>\n",
       "      <td>24.2</td>\n",
       "      <td>220</td>\n",
       "      <td>1.9</td>\n",
       "      <td>46.4</td>\n",
       "      <td>79</td>\n",
       "      <td>1010.0</td>\n",
       "    </tr>\n",
       "    <tr>\n",
       "      <th>307</th>\n",
       "      <td>NaN</td>\n",
       "      <td>31.8</td>\n",
       "      <td>24.4</td>\n",
       "      <td>270</td>\n",
       "      <td>1.6</td>\n",
       "      <td>42.4</td>\n",
       "      <td>76</td>\n",
       "      <td>1009.6</td>\n",
       "    </tr>\n",
       "  </tbody>\n",
       "</table>\n",
       "<p>308 rows × 8 columns</p>\n",
       "</div>"
      ],
      "text/plain": [
       "       DATE  MAXIMUM-TEMPERATURE  MINIMUM-TEMPERATURE  WIND-DIRECTION  \\\n",
       "0    Jan-95                 33.3                 16.4              73   \n",
       "1    Feb-95                 35.9                 18.6             123   \n",
       "2    Mar-95                 40.5                 25.0             191   \n",
       "3    Apr-95                 40.1                 27.2             196   \n",
       "4    May-95                 36.8                 25.7             155   \n",
       "..      ...                  ...                  ...             ...   \n",
       "303     NaN                 40.7                 29.4             270   \n",
       "304     NaN                 37.7                 27.2             240   \n",
       "305     NaN                 33.8                 25.4             230   \n",
       "306     NaN                 31.5                 24.2             220   \n",
       "307     NaN                 31.8                 24.4             270   \n",
       "\n",
       "     WIND-SPEED  WIND-RUN  RELATIVE-HUMIDITY  AIR-PRESSURE  \n",
       "0           2.0      47.6                 27        1014.5  \n",
       "1           3.0      47.6                 23        1013.7  \n",
       "2           3.0      47.6                 32        1009.1  \n",
       "3           4.0      47.6                 43        1010.5  \n",
       "4           3.0      47.6                 61        1010.3  \n",
       "..          ...       ...                ...           ...  \n",
       "303         1.5      47.4                 48        1003.3  \n",
       "304         2.1      52.8                 61        1005.7  \n",
       "305         1.9      52.1                 72        1008.3  \n",
       "306         1.9      46.4                 79        1010.0  \n",
       "307         1.6      42.4                 76        1009.6  \n",
       "\n",
       "[308 rows x 8 columns]"
      ]
     },
     "execution_count": 74,
     "metadata": {},
     "output_type": "execute_result"
    }
   ],
   "source": [
    "dataset.head(-10)"
   ]
  },
  {
   "cell_type": "code",
   "execution_count": 75,
   "id": "54259a0e",
   "metadata": {},
   "outputs": [],
   "source": [
    "\n",
    "df = dataset[:]"
   ]
  },
  {
   "cell_type": "markdown",
   "id": "6de953ce",
   "metadata": {},
   "source": [
    "### remove the date column"
   ]
  },
  {
   "cell_type": "code",
   "execution_count": 76,
   "id": "f8fb6f78",
   "metadata": {},
   "outputs": [],
   "source": [
    "\n",
    "del df['DATE']"
   ]
  },
  {
   "cell_type": "code",
   "execution_count": 77,
   "id": "c34b6014",
   "metadata": {},
   "outputs": [
    {
     "data": {
      "text/html": [
       "<div>\n",
       "<style scoped>\n",
       "    .dataframe tbody tr th:only-of-type {\n",
       "        vertical-align: middle;\n",
       "    }\n",
       "\n",
       "    .dataframe tbody tr th {\n",
       "        vertical-align: top;\n",
       "    }\n",
       "\n",
       "    .dataframe thead th {\n",
       "        text-align: right;\n",
       "    }\n",
       "</style>\n",
       "<table border=\"1\" class=\"dataframe\">\n",
       "  <thead>\n",
       "    <tr style=\"text-align: right;\">\n",
       "      <th></th>\n",
       "      <th>MAXIMUM-TEMPERATURE</th>\n",
       "      <th>MINIMUM-TEMPERATURE</th>\n",
       "      <th>WIND-DIRECTION</th>\n",
       "      <th>WIND-SPEED</th>\n",
       "      <th>WIND-RUN</th>\n",
       "      <th>RELATIVE-HUMIDITY</th>\n",
       "      <th>AIR-PRESSURE</th>\n",
       "    </tr>\n",
       "  </thead>\n",
       "  <tbody>\n",
       "    <tr>\n",
       "      <th>0</th>\n",
       "      <td>33.3</td>\n",
       "      <td>16.4</td>\n",
       "      <td>73</td>\n",
       "      <td>2.0</td>\n",
       "      <td>47.6</td>\n",
       "      <td>27</td>\n",
       "      <td>1014.5</td>\n",
       "    </tr>\n",
       "    <tr>\n",
       "      <th>1</th>\n",
       "      <td>35.9</td>\n",
       "      <td>18.6</td>\n",
       "      <td>123</td>\n",
       "      <td>3.0</td>\n",
       "      <td>47.6</td>\n",
       "      <td>23</td>\n",
       "      <td>1013.7</td>\n",
       "    </tr>\n",
       "    <tr>\n",
       "      <th>2</th>\n",
       "      <td>40.5</td>\n",
       "      <td>25.0</td>\n",
       "      <td>191</td>\n",
       "      <td>3.0</td>\n",
       "      <td>47.6</td>\n",
       "      <td>32</td>\n",
       "      <td>1009.1</td>\n",
       "    </tr>\n",
       "    <tr>\n",
       "      <th>3</th>\n",
       "      <td>40.1</td>\n",
       "      <td>27.2</td>\n",
       "      <td>196</td>\n",
       "      <td>4.0</td>\n",
       "      <td>47.6</td>\n",
       "      <td>43</td>\n",
       "      <td>1010.5</td>\n",
       "    </tr>\n",
       "    <tr>\n",
       "      <th>4</th>\n",
       "      <td>36.8</td>\n",
       "      <td>25.7</td>\n",
       "      <td>155</td>\n",
       "      <td>3.0</td>\n",
       "      <td>47.6</td>\n",
       "      <td>61</td>\n",
       "      <td>1010.3</td>\n",
       "    </tr>\n",
       "    <tr>\n",
       "      <th>...</th>\n",
       "      <td>...</td>\n",
       "      <td>...</td>\n",
       "      <td>...</td>\n",
       "      <td>...</td>\n",
       "      <td>...</td>\n",
       "      <td>...</td>\n",
       "      <td>...</td>\n",
       "    </tr>\n",
       "    <tr>\n",
       "      <th>313</th>\n",
       "      <td>36.0</td>\n",
       "      <td>22.4</td>\n",
       "      <td>170</td>\n",
       "      <td>3.4</td>\n",
       "      <td>63.7</td>\n",
       "      <td>26</td>\n",
       "      <td>1006.9</td>\n",
       "    </tr>\n",
       "    <tr>\n",
       "      <th>314</th>\n",
       "      <td>39.7</td>\n",
       "      <td>26.1</td>\n",
       "      <td>220</td>\n",
       "      <td>2.1</td>\n",
       "      <td>73.7</td>\n",
       "      <td>35</td>\n",
       "      <td>1005.6</td>\n",
       "    </tr>\n",
       "    <tr>\n",
       "      <th>315</th>\n",
       "      <td>39.7</td>\n",
       "      <td>28.8</td>\n",
       "      <td>200</td>\n",
       "      <td>4.6</td>\n",
       "      <td>84.2</td>\n",
       "      <td>65</td>\n",
       "      <td>1002.6</td>\n",
       "    </tr>\n",
       "    <tr>\n",
       "      <th>316</th>\n",
       "      <td>35.6</td>\n",
       "      <td>25.3</td>\n",
       "      <td>130</td>\n",
       "      <td>2.6</td>\n",
       "      <td>98.3</td>\n",
       "      <td>75</td>\n",
       "      <td>1005.4</td>\n",
       "    </tr>\n",
       "    <tr>\n",
       "      <th>317</th>\n",
       "      <td>32.8</td>\n",
       "      <td>23.8</td>\n",
       "      <td>160</td>\n",
       "      <td>3.6</td>\n",
       "      <td>18.9</td>\n",
       "      <td>77</td>\n",
       "      <td>1007.6</td>\n",
       "    </tr>\n",
       "  </tbody>\n",
       "</table>\n",
       "<p>318 rows × 7 columns</p>\n",
       "</div>"
      ],
      "text/plain": [
       "     MAXIMUM-TEMPERATURE  MINIMUM-TEMPERATURE  WIND-DIRECTION  WIND-SPEED  \\\n",
       "0                   33.3                 16.4              73         2.0   \n",
       "1                   35.9                 18.6             123         3.0   \n",
       "2                   40.5                 25.0             191         3.0   \n",
       "3                   40.1                 27.2             196         4.0   \n",
       "4                   36.8                 25.7             155         3.0   \n",
       "..                   ...                  ...             ...         ...   \n",
       "313                 36.0                 22.4             170         3.4   \n",
       "314                 39.7                 26.1             220         2.1   \n",
       "315                 39.7                 28.8             200         4.6   \n",
       "316                 35.6                 25.3             130         2.6   \n",
       "317                 32.8                 23.8             160         3.6   \n",
       "\n",
       "     WIND-RUN  RELATIVE-HUMIDITY  AIR-PRESSURE  \n",
       "0        47.6                 27        1014.5  \n",
       "1        47.6                 23        1013.7  \n",
       "2        47.6                 32        1009.1  \n",
       "3        47.6                 43        1010.5  \n",
       "4        47.6                 61        1010.3  \n",
       "..        ...                ...           ...  \n",
       "313      63.7                 26        1006.9  \n",
       "314      73.7                 35        1005.6  \n",
       "315      84.2                 65        1002.6  \n",
       "316      98.3                 75        1005.4  \n",
       "317      18.9                 77        1007.6  \n",
       "\n",
       "[318 rows x 7 columns]"
      ]
     },
     "execution_count": 77,
     "metadata": {},
     "output_type": "execute_result"
    }
   ],
   "source": [
    "df"
   ]
  },
  {
   "cell_type": "code",
   "execution_count": 78,
   "id": "40a1385f",
   "metadata": {},
   "outputs": [
    {
     "name": "stdout",
     "output_type": "stream",
     "text": [
      "Number of rows/example and columns in the dataset: (318, 7)\n"
     ]
    }
   ],
   "source": [
    "print(f'Number of rows/example and columns in the dataset: {df.shape}')"
   ]
  },
  {
   "cell_type": "markdown",
   "id": "d39cd5d8",
   "metadata": {},
   "source": [
    "### Summary of information on the dataset."
   ]
  },
  {
   "cell_type": "code",
   "execution_count": 79,
   "id": "c577548b",
   "metadata": {},
   "outputs": [
    {
     "name": "stdout",
     "output_type": "stream",
     "text": [
      "<class 'pandas.core.frame.DataFrame'>\n",
      "RangeIndex: 318 entries, 0 to 317\n",
      "Data columns (total 7 columns):\n",
      " #   Column               Non-Null Count  Dtype  \n",
      "---  ------               --------------  -----  \n",
      " 0   MAXIMUM-TEMPERATURE  318 non-null    float64\n",
      " 1   MINIMUM-TEMPERATURE  318 non-null    float64\n",
      " 2   WIND-DIRECTION       318 non-null    int64  \n",
      " 3   WIND-SPEED           318 non-null    float64\n",
      " 4   WIND-RUN             318 non-null    float64\n",
      " 5   RELATIVE-HUMIDITY    318 non-null    int64  \n",
      " 6   AIR-PRESSURE         318 non-null    float64\n",
      "dtypes: float64(5), int64(2)\n",
      "memory usage: 17.5 KB\n"
     ]
    }
   ],
   "source": [
    "\n",
    "df.info()"
   ]
  },
  {
   "cell_type": "markdown",
   "id": "11194c45",
   "metadata": {},
   "source": [
    "### Split the data into train/test splits"
   ]
  },
  {
   "cell_type": "markdown",
   "id": "339fc7fa",
   "metadata": {},
   "source": [
    "#### Split the data into 60% train and 40% test (later will divide the test to test and validate)"
   ]
  },
  {
   "cell_type": "code",
   "execution_count": 80,
   "id": "46825662",
   "metadata": {},
   "outputs": [
    {
     "name": "stdout",
     "output_type": "stream",
     "text": [
      "(190, 7)\n",
      "(128, 7)\n"
     ]
    }
   ],
   "source": [
    "\n",
    "train_dataset, temp_test_dataset = train_test_split(df, test_size=0.4)\n",
    "\n",
    "print( train_dataset.shape)\n",
    "print( temp_test_dataset.shape)"
   ]
  },
  {
   "cell_type": "markdown",
   "id": "c4de9fc9",
   "metadata": {},
   "source": [
    "### Split the test_dataset dataframe to 50% test and 50% validation."
   ]
  },
  {
   "cell_type": "code",
   "execution_count": 81,
   "id": "1da13eb0",
   "metadata": {},
   "outputs": [
    {
     "name": "stdout",
     "output_type": "stream",
     "text": [
      "(64, 7)\n",
      "(64, 7)\n"
     ]
    }
   ],
   "source": [
    "\n",
    "test_dataset, valid_dataset = train_test_split(temp_test_dataset, test_size=0.5)\n",
    "print(test_dataset.shape)\n",
    "print(valid_dataset.shape)"
   ]
  },
  {
   "cell_type": "code",
   "execution_count": 82,
   "id": "7c5a2b6d",
   "metadata": {},
   "outputs": [
    {
     "name": "stdout",
     "output_type": "stream",
     "text": [
      "Display the datatype of the test_dataset: <class 'pandas.core.frame.DataFrame'>\n",
      "Train dataset      : (190, 7)\n",
      "Test dataset       : (64, 7)\n",
      "Validation dataset : (64, 7)\n"
     ]
    }
   ],
   "source": [
    "print(f\"Display the datatype of the test_dataset: {type(test_dataset)}\")\n",
    "print(f\"Train dataset      : {train_dataset.shape}\")\n",
    "print(f\"Test dataset       : {test_dataset.shape}\")\n",
    "print(f\"Validation dataset : {valid_dataset.shape}\")"
   ]
  },
  {
   "cell_type": "markdown",
   "id": "7ea98bc3",
   "metadata": {},
   "source": [
    "## Plot the relationship between each two variables to spot anything incorrect."
   ]
  },
  {
   "cell_type": "code",
   "execution_count": 83,
   "id": "08975b87",
   "metadata": {},
   "outputs": [
    {
     "data": {
      "text/plain": [
       "<seaborn.axisgrid.PairGrid at 0x252da9597c0>"
      ]
     },
     "execution_count": 83,
     "metadata": {},
     "output_type": "execute_result"
    },
    {
     "data": {
      "image/png": "[encoded data removed]",
      "text/plain": [
       "<Figure size 1080x1080 with 42 Axes>"
      ]
     },
     "metadata": {
      "needs_background": "light"
     },
     "output_type": "display_data"
    }
   ],
   "source": [
    "\n",
    "train_stats = train_dataset.describe()\n",
    "train_stats.pop(\"WIND-SPEED\")\n",
    "sns.pairplot(train_stats[train_stats.columns], diag_kind=\"kde\") # or diag_kind='reg'"
   ]
  },
  {
   "cell_type": "markdown",
   "id": "d2403de2",
   "metadata": {},
   "source": [
    "### Statistics on the train dataset to make sure it in a good shape"
   ]
  },
  {
   "cell_type": "code",
   "execution_count": 84,
   "id": "4fd48f24",
   "metadata": {},
   "outputs": [
    {
     "data": {
      "text/plain": [
       "count    190.000000\n",
       "mean       3.442632\n",
       "std        1.411901\n",
       "min        0.800000\n",
       "25%        2.000000\n",
       "50%        3.000000\n",
       "75%        4.000000\n",
       "max        8.000000\n",
       "Name: WIND-SPEED, dtype: float64"
      ]
     },
     "execution_count": 84,
     "metadata": {},
     "output_type": "execute_result"
    }
   ],
   "source": [
    "\n",
    "train_stats = train_dataset.describe()\n",
    "wind_speed=train_stats.pop(\"WIND-SPEED\")\n",
    "train_stats = train_stats.transpose()\n",
    "#train_stats\n",
    "wind_speed"
   ]
  },
  {
   "cell_type": "markdown",
   "id": "96bdbcc9",
   "metadata": {},
   "source": [
    "## The label is \"WIND-SPEED\""
   ]
  },
  {
   "cell_type": "code",
   "execution_count": 85,
   "id": "172a0253",
   "metadata": {},
   "outputs": [],
   "source": [
    "train_labels = train_dataset.pop('WIND-SPEED')\n",
    "test_labels = test_dataset.pop('WIND-SPEED')\n",
    "valid_labels = valid_dataset.pop('WIND-SPEED')"
   ]
  },
  {
   "cell_type": "markdown",
   "id": "8f526c2f",
   "metadata": {},
   "source": [
    "## Data Normalization/Scaling"
   ]
  },
  {
   "cell_type": "markdown",
   "id": "d1f7c8cc",
   "metadata": {},
   "source": [
    "### define a function to normalize the data set."
   ]
  },
  {
   "cell_type": "code",
   "execution_count": 86,
   "id": "5c2999c8",
   "metadata": {},
   "outputs": [
    {
     "name": "stderr",
     "output_type": "stream",
     "text": [
      "c:\\users\\hp\\appdata\\local\\programs\\python\\python39\\lib\\site-packages\\pandas\\core\\frame.py:3607: SettingWithCopyWarning: \n",
      "A value is trying to be set on a copy of a slice from a DataFrame.\n",
      "Try using .loc[row_indexer,col_indexer] = value instead\n",
      "\n",
      "See the caveats in the documentation: https://pandas.pydata.org/pandas-docs/stable/user_guide/indexing.html#returning-a-view-versus-a-copy\n",
      "  self._set_item(key, value)\n",
      "c:\\users\\hp\\appdata\\local\\programs\\python\\python39\\lib\\site-packages\\pandas\\core\\frame.py:3607: SettingWithCopyWarning: \n",
      "A value is trying to be set on a copy of a slice from a DataFrame.\n",
      "Try using .loc[row_indexer,col_indexer] = value instead\n",
      "\n",
      "See the caveats in the documentation: https://pandas.pydata.org/pandas-docs/stable/user_guide/indexing.html#returning-a-view-versus-a-copy\n",
      "  self._set_item(key, value)\n",
      "c:\\users\\hp\\appdata\\local\\programs\\python\\python39\\lib\\site-packages\\pandas\\core\\frame.py:3607: SettingWithCopyWarning: \n",
      "A value is trying to be set on a copy of a slice from a DataFrame.\n",
      "Try using .loc[row_indexer,col_indexer] = value instead\n",
      "\n",
      "See the caveats in the documentation: https://pandas.pydata.org/pandas-docs/stable/user_guide/indexing.html#returning-a-view-versus-a-copy\n",
      "  self._set_item(key, value)\n"
     ]
    }
   ],
   "source": [
    "\n",
    "\n",
    "from sklearn.preprocessing import MinMaxScaler\n",
    "\n",
    "def norm(x):\n",
    "    cols_to_scale= ['MAXIMUM-TEMPERATURE','MINIMUM-TEMPERATURE','WIND-DIRECTION','RELATIVE-HUMIDITY','WIND-RUN','AIR-PRESSURE']\n",
    "    scaler = MinMaxScaler()\n",
    "    x[cols_to_scale] = scaler.fit_transform(x[cols_to_scale])\n",
    "    return x\n",
    "\n",
    "normed_train_data = norm(train_dataset)\n",
    "normed_test_data = norm(test_dataset)\n",
    "normed_valid_dataset = norm(valid_dataset)"
   ]
  },
  {
   "cell_type": "code",
   "execution_count": 87,
   "id": "99197d5f",
   "metadata": {},
   "outputs": [
    {
     "name": "stdout",
     "output_type": "stream",
     "text": [
      "Train/Test/Validate splits: \n",
      "Train       : (190, 6) \n",
      "Test        : (64, 6) \n",
      "Validate    : (64, 6) \n",
      "Train/Test/Validate labels: \n",
      "Train Labels : (190,)\n",
      "Test Labels  : (64,)\n",
      "Test Labels  : (64,)\n"
     ]
    }
   ],
   "source": [
    "print(f'Train/Test/Validate splits: ')\n",
    "print(f'Train       : {normed_train_data.shape} ')\n",
    "print(f'Test        : {normed_test_data.shape} ')\n",
    "print(f'Validate    : {normed_valid_dataset.shape} ')\n",
    "\n",
    "print(f'Train/Test/Validate labels: ')\n",
    "print(f'Train Labels : {train_labels.shape}')\n",
    "print(f'Test Labels  : {test_labels.shape}')\n",
    "print(f'Test Labels  : {valid_labels.shape}')"
   ]
  },
  {
   "cell_type": "markdown",
   "id": "4ac918f4",
   "metadata": {},
   "source": [
    "## show a sample of the data after normalized"
   ]
  },
  {
   "cell_type": "code",
   "execution_count": 88,
   "id": "6762edde",
   "metadata": {},
   "outputs": [
    {
     "data": {
      "text/html": [
       "<div>\n",
       "<style scoped>\n",
       "    .dataframe tbody tr th:only-of-type {\n",
       "        vertical-align: middle;\n",
       "    }\n",
       "\n",
       "    .dataframe tbody tr th {\n",
       "        vertical-align: top;\n",
       "    }\n",
       "\n",
       "    .dataframe thead th {\n",
       "        text-align: right;\n",
       "    }\n",
       "</style>\n",
       "<table border=\"1\" class=\"dataframe\">\n",
       "  <thead>\n",
       "    <tr style=\"text-align: right;\">\n",
       "      <th></th>\n",
       "      <th>MAXIMUM-TEMPERATURE</th>\n",
       "      <th>MINIMUM-TEMPERATURE</th>\n",
       "      <th>WIND-DIRECTION</th>\n",
       "      <th>WIND-RUN</th>\n",
       "      <th>RELATIVE-HUMIDITY</th>\n",
       "      <th>AIR-PRESSURE</th>\n",
       "    </tr>\n",
       "  </thead>\n",
       "  <tbody>\n",
       "    <tr>\n",
       "      <th>162</th>\n",
       "      <td>0.261194</td>\n",
       "      <td>0.662162</td>\n",
       "      <td>0.546185</td>\n",
       "      <td>0.523723</td>\n",
       "      <td>0.675676</td>\n",
       "      <td>0.382789</td>\n",
       "    </tr>\n",
       "    <tr>\n",
       "      <th>126</th>\n",
       "      <td>0.261194</td>\n",
       "      <td>0.628378</td>\n",
       "      <td>0.582329</td>\n",
       "      <td>0.523723</td>\n",
       "      <td>0.972973</td>\n",
       "      <td>0.370920</td>\n",
       "    </tr>\n",
       "    <tr>\n",
       "      <th>181</th>\n",
       "      <td>0.835821</td>\n",
       "      <td>0.547297</td>\n",
       "      <td>0.120482</td>\n",
       "      <td>0.523723</td>\n",
       "      <td>0.135135</td>\n",
       "      <td>0.329377</td>\n",
       "    </tr>\n",
       "    <tr>\n",
       "      <th>163</th>\n",
       "      <td>0.186567</td>\n",
       "      <td>0.655405</td>\n",
       "      <td>0.080321</td>\n",
       "      <td>0.523723</td>\n",
       "      <td>0.797297</td>\n",
       "      <td>0.350148</td>\n",
       "    </tr>\n",
       "    <tr>\n",
       "      <th>202</th>\n",
       "      <td>0.597015</td>\n",
       "      <td>0.229730</td>\n",
       "      <td>0.204819</td>\n",
       "      <td>0.523723</td>\n",
       "      <td>0.297297</td>\n",
       "      <td>0.341246</td>\n",
       "    </tr>\n",
       "    <tr>\n",
       "      <th>155</th>\n",
       "      <td>0.522388</td>\n",
       "      <td>0.189189</td>\n",
       "      <td>0.088353</td>\n",
       "      <td>0.523723</td>\n",
       "      <td>0.324324</td>\n",
       "      <td>0.356083</td>\n",
       "    </tr>\n",
       "    <tr>\n",
       "      <th>64</th>\n",
       "      <td>0.664179</td>\n",
       "      <td>0.783784</td>\n",
       "      <td>0.389558</td>\n",
       "      <td>0.523723</td>\n",
       "      <td>0.675676</td>\n",
       "      <td>0.275964</td>\n",
       "    </tr>\n",
       "    <tr>\n",
       "      <th>195</th>\n",
       "      <td>0.895522</td>\n",
       "      <td>0.878378</td>\n",
       "      <td>0.542169</td>\n",
       "      <td>0.523723</td>\n",
       "      <td>0.337838</td>\n",
       "      <td>0.237389</td>\n",
       "    </tr>\n",
       "    <tr>\n",
       "      <th>46</th>\n",
       "      <td>0.611940</td>\n",
       "      <td>0.371622</td>\n",
       "      <td>0.453815</td>\n",
       "      <td>0.523723</td>\n",
       "      <td>0.581081</td>\n",
       "      <td>0.302671</td>\n",
       "    </tr>\n",
       "    <tr>\n",
       "      <th>207</th>\n",
       "      <td>0.902985</td>\n",
       "      <td>0.939189</td>\n",
       "      <td>0.493976</td>\n",
       "      <td>0.523723</td>\n",
       "      <td>0.445946</td>\n",
       "      <td>0.296736</td>\n",
       "    </tr>\n",
       "  </tbody>\n",
       "</table>\n",
       "</div>"
      ],
      "text/plain": [
       "     MAXIMUM-TEMPERATURE  MINIMUM-TEMPERATURE  WIND-DIRECTION  WIND-RUN  \\\n",
       "162             0.261194             0.662162        0.546185  0.523723   \n",
       "126             0.261194             0.628378        0.582329  0.523723   \n",
       "181             0.835821             0.547297        0.120482  0.523723   \n",
       "163             0.186567             0.655405        0.080321  0.523723   \n",
       "202             0.597015             0.229730        0.204819  0.523723   \n",
       "155             0.522388             0.189189        0.088353  0.523723   \n",
       "64              0.664179             0.783784        0.389558  0.523723   \n",
       "195             0.895522             0.878378        0.542169  0.523723   \n",
       "46              0.611940             0.371622        0.453815  0.523723   \n",
       "207             0.902985             0.939189        0.493976  0.523723   \n",
       "\n",
       "     RELATIVE-HUMIDITY  AIR-PRESSURE  \n",
       "162           0.675676      0.382789  \n",
       "126           0.972973      0.370920  \n",
       "181           0.135135      0.329377  \n",
       "163           0.797297      0.350148  \n",
       "202           0.297297      0.341246  \n",
       "155           0.324324      0.356083  \n",
       "64            0.675676      0.275964  \n",
       "195           0.337838      0.237389  \n",
       "46            0.581081      0.302671  \n",
       "207           0.445946      0.296736  "
      ]
     },
     "execution_count": 88,
     "metadata": {},
     "output_type": "execute_result"
    }
   ],
   "source": [
    "\n",
    "normed_train_data.head(10)"
   ]
  },
  {
   "cell_type": "markdown",
   "id": "1c04c32b",
   "metadata": {},
   "source": [
    "## Build a Neural Network Model"
   ]
  },
  {
   "cell_type": "markdown",
   "id": "79302009",
   "metadata": {},
   "source": [
    "### We declared a function for creating a model."
   ]
  },
  {
   "cell_type": "markdown",
   "id": "a6a74daa",
   "metadata": {},
   "source": [
    "## import NN and other components."
   ]
  },
  {
   "cell_type": "code",
   "execution_count": 89,
   "id": "885e59da",
   "metadata": {},
   "outputs": [],
   "source": [
    "\n",
    "from tensorflow.keras.models import Sequential\n",
    "from tensorflow.keras.layers import Activation,Dense,BatchNormalization,Dropout\n",
    "from tensorflow.keras import optimizers"
   ]
  },
  {
   "cell_type": "code",
   "execution_count": 90,
   "id": "560d7b5d",
   "metadata": {},
   "outputs": [],
   "source": [
    "def model_multilayer_perceptron_with_eight_hidden_layer():\n",
    "      model = Sequential()\n",
    "     # The model so far is empty. It can be constructed by adding layers and compilation.\n",
    "     # This Keras model with a single hidden layers.\n",
    "        \n",
    "     # Input Layer with 32 Neurons\n",
    "      model.add(Dense(32, input_shape =(normed_train_data.shape[1],)))\n",
    " \n",
    "      model.add(Dense(32, Activation('relu'))) # Hidden layer 1\n",
    "      model.add(Dropout(0.5))\n",
    "      model.add(Dense(64, Activation('relu'))) # Hidden layer 2\n",
    "      model.add(Dropout(0.5))\n",
    "      model.add(Dense(72, Activation('relu'))) # Hidden layer 3\n",
    "      model.add(Dropout(0.5))\n",
    "      model.add(Dense(80, Activation('relu'))) # Hidden layer 4\n",
    "      \n",
    "      model.add(Dense(32, Activation('relu'))) # Hidden layer 5\n",
    "      model.add(Dense(64, Activation('relu'))) # Hidden layer 6\n",
    "      model.add(Dense(72, Activation('relu'))) # Hidden layer 7\n",
    "      model.add(Dense(80, Activation('relu'))) # Hidden layer 8\n",
    "     \n",
    "      model.add(Dense(1))  # Output layer => output dimension = 1\n",
    "    \n",
    "      learning_rate = 0.001\n",
    "    \n",
    "      optimizer = optimizers.RMSprop(learning_rate)\n",
    "  \n",
    "      model.compile(loss='mse',optimizer=optimizer, metrics=['mae','mse','mape']) \n",
    "      return model"
   ]
  },
  {
   "cell_type": "code",
   "execution_count": 91,
   "id": "36a6f1d8",
   "metadata": {},
   "outputs": [
    {
     "name": "stdout",
     "output_type": "stream",
     "text": [
      "Here is a summary of this model: \n",
      "Model: \"sequential_2\"\n",
      "_________________________________________________________________\n",
      "Layer (type)                 Output Shape              Param #   \n",
      "=================================================================\n",
      "dense_20 (Dense)             (None, 32)                224       \n",
      "_________________________________________________________________\n",
      "dense_21 (Dense)             (None, 32)                1056      \n",
      "_________________________________________________________________\n",
      "dropout_8 (Dropout)          (None, 32)                0         \n",
      "_________________________________________________________________\n",
      "dense_22 (Dense)             (None, 64)                2112      \n",
      "_________________________________________________________________\n",
      "dropout_9 (Dropout)          (None, 64)                0         \n",
      "_________________________________________________________________\n",
      "dense_23 (Dense)             (None, 72)                4680      \n",
      "_________________________________________________________________\n",
      "dropout_10 (Dropout)         (None, 72)                0         \n",
      "_________________________________________________________________\n",
      "dense_24 (Dense)             (None, 80)                5840      \n",
      "_________________________________________________________________\n",
      "dense_25 (Dense)             (None, 32)                2592      \n",
      "_________________________________________________________________\n",
      "dense_26 (Dense)             (None, 64)                2112      \n",
      "_________________________________________________________________\n",
      "dense_27 (Dense)             (None, 72)                4680      \n",
      "_________________________________________________________________\n",
      "dense_28 (Dense)             (None, 80)                5840      \n",
      "_________________________________________________________________\n",
      "dense_29 (Dense)             (None, 1)                 81        \n",
      "=================================================================\n",
      "Total params: 29,217\n",
      "Trainable params: 29,217\n",
      "Non-trainable params: 0\n",
      "_________________________________________________________________\n"
     ]
    }
   ],
   "source": [
    "model = model_multilayer_perceptron_with_eight_hidden_layer()\n",
    "print('Here is a summary of this model: ')\n",
    "\n",
    "\n",
    "model.summary()\n"
   ]
  },
  {
   "cell_type": "markdown",
   "id": "987f0289",
   "metadata": {},
   "source": [
    "## Training the model we built above."
   ]
  },
  {
   "cell_type": "code",
   "execution_count": 92,
   "id": "9ed9cb5e",
   "metadata": {},
   "outputs": [],
   "source": [
    "# Tensorflow utils packages.\n",
    "import tensorflow_docs as tfdocs\n",
    "import tensorflow_docs.plots\n",
    "import tensorflow_docs.modeling"
   ]
  },
  {
   "cell_type": "code",
   "execution_count": 93,
   "id": "89283015",
   "metadata": {},
   "outputs": [],
   "source": [
    "# checkpoint_path\n",
    "checkpoint_path = r\".\\models\\wind_speed_prediction_8_layers_n_dropout.ckpt\"\n",
    "\n",
    "#create a callback that saves the model's weight\n",
    "ckpt_callback = tf.keras.callbacks.ModelCheckpoint(filepath=checkpoint_path,monitor='val_loss',\n",
    "                                                 save_best_only=True,verbose=0,)"
   ]
  },
  {
   "cell_type": "code",
   "execution_count": 94,
   "id": "bd3213a6",
   "metadata": {},
   "outputs": [
    {
     "name": "stdout",
     "output_type": "stream",
     "text": [
      "Here is a summary of this model: \n",
      "Model: \"sequential_3\"\n",
      "_________________________________________________________________\n",
      "Layer (type)                 Output Shape              Param #   \n",
      "=================================================================\n",
      "dense_30 (Dense)             (None, 32)                224       \n",
      "_________________________________________________________________\n",
      "dense_31 (Dense)             (None, 32)                1056      \n",
      "_________________________________________________________________\n",
      "dropout_11 (Dropout)         (None, 32)                0         \n",
      "_________________________________________________________________\n",
      "dense_32 (Dense)             (None, 64)                2112      \n",
      "_________________________________________________________________\n",
      "dropout_12 (Dropout)         (None, 64)                0         \n",
      "_________________________________________________________________\n",
      "dense_33 (Dense)             (None, 72)                4680      \n",
      "_________________________________________________________________\n",
      "dropout_13 (Dropout)         (None, 72)                0         \n",
      "_________________________________________________________________\n",
      "dense_34 (Dense)             (None, 80)                5840      \n",
      "_________________________________________________________________\n",
      "dense_35 (Dense)             (None, 32)                2592      \n",
      "_________________________________________________________________\n",
      "dense_36 (Dense)             (None, 64)                2112      \n",
      "_________________________________________________________________\n",
      "dense_37 (Dense)             (None, 72)                4680      \n",
      "_________________________________________________________________\n",
      "dense_38 (Dense)             (None, 80)                5840      \n",
      "_________________________________________________________________\n",
      "dense_39 (Dense)             (None, 1)                 81        \n",
      "=================================================================\n",
      "Total params: 29,217\n",
      "Trainable params: 29,217\n",
      "Non-trainable params: 0\n",
      "_________________________________________________________________\n",
      "\n",
      "Epoch: 0, loss:12.4477,  mae:3.4500,  mape:100.4807,  mse:12.4477,  val_loss:13.5737,  val_mae:3.4445,  val_mape:97.4619,  val_mse:13.5737,  \n",
      "."
     ]
    },
    {
     "name": "stderr",
     "output_type": "stream",
     "text": [
      "WARNING:absl:Found untraced functions such as activation_24_layer_call_and_return_conditional_losses, activation_24_layer_call_fn, activation_25_layer_call_and_return_conditional_losses, activation_25_layer_call_fn, activation_26_layer_call_and_return_conditional_losses while saving (showing 5 of 40). These functions will not be directly callable after loading.\n"
     ]
    },
    {
     "name": "stdout",
     "output_type": "stream",
     "text": [
      "INFO:tensorflow:Assets written to: .\\models\\wind_speed_prediction_8_layers_n_dropout.ckpt\\assets\n"
     ]
    },
    {
     "name": "stderr",
     "output_type": "stream",
     "text": [
      "INFO:tensorflow:Assets written to: .\\models\\wind_speed_prediction_8_layers_n_dropout.ckpt\\assets\n"
     ]
    },
    {
     "name": "stdout",
     "output_type": "stream",
     "text": [
      "."
     ]
    },
    {
     "name": "stderr",
     "output_type": "stream",
     "text": [
      "WARNING:absl:Found untraced functions such as activation_24_layer_call_and_return_conditional_losses, activation_24_layer_call_fn, activation_25_layer_call_and_return_conditional_losses, activation_25_layer_call_fn, activation_26_layer_call_and_return_conditional_losses while saving (showing 5 of 40). These functions will not be directly callable after loading.\n"
     ]
    },
    {
     "name": "stdout",
     "output_type": "stream",
     "text": [
      "INFO:tensorflow:Assets written to: .\\models\\wind_speed_prediction_8_layers_n_dropout.ckpt\\assets\n"
     ]
    },
    {
     "name": "stderr",
     "output_type": "stream",
     "text": [
      "INFO:tensorflow:Assets written to: .\\models\\wind_speed_prediction_8_layers_n_dropout.ckpt\\assets\n"
     ]
    },
    {
     "name": "stdout",
     "output_type": "stream",
     "text": [
      "."
     ]
    },
    {
     "name": "stderr",
     "output_type": "stream",
     "text": [
      "WARNING:absl:Found untraced functions such as activation_24_layer_call_and_return_conditional_losses, activation_24_layer_call_fn, activation_25_layer_call_and_return_conditional_losses, activation_25_layer_call_fn, activation_26_layer_call_and_return_conditional_losses while saving (showing 5 of 40). These functions will not be directly callable after loading.\n"
     ]
    },
    {
     "name": "stdout",
     "output_type": "stream",
     "text": [
      "INFO:tensorflow:Assets written to: .\\models\\wind_speed_prediction_8_layers_n_dropout.ckpt\\assets\n"
     ]
    },
    {
     "name": "stderr",
     "output_type": "stream",
     "text": [
      "INFO:tensorflow:Assets written to: .\\models\\wind_speed_prediction_8_layers_n_dropout.ckpt\\assets\n"
     ]
    },
    {
     "name": "stdout",
     "output_type": "stream",
     "text": [
      "."
     ]
    },
    {
     "name": "stderr",
     "output_type": "stream",
     "text": [
      "WARNING:absl:Found untraced functions such as activation_24_layer_call_and_return_conditional_losses, activation_24_layer_call_fn, activation_25_layer_call_and_return_conditional_losses, activation_25_layer_call_fn, activation_26_layer_call_and_return_conditional_losses while saving (showing 5 of 40). These functions will not be directly callable after loading.\n"
     ]
    },
    {
     "name": "stdout",
     "output_type": "stream",
     "text": [
      "INFO:tensorflow:Assets written to: .\\models\\wind_speed_prediction_8_layers_n_dropout.ckpt\\assets\n"
     ]
    },
    {
     "name": "stderr",
     "output_type": "stream",
     "text": [
      "INFO:tensorflow:Assets written to: .\\models\\wind_speed_prediction_8_layers_n_dropout.ckpt\\assets\n"
     ]
    },
    {
     "name": "stdout",
     "output_type": "stream",
     "text": [
      "."
     ]
    },
    {
     "name": "stderr",
     "output_type": "stream",
     "text": [
      "WARNING:absl:Found untraced functions such as activation_24_layer_call_and_return_conditional_losses, activation_24_layer_call_fn, activation_25_layer_call_and_return_conditional_losses, activation_25_layer_call_fn, activation_26_layer_call_and_return_conditional_losses while saving (showing 5 of 40). These functions will not be directly callable after loading.\n"
     ]
    },
    {
     "name": "stdout",
     "output_type": "stream",
     "text": [
      "INFO:tensorflow:Assets written to: .\\models\\wind_speed_prediction_8_layers_n_dropout.ckpt\\assets\n"
     ]
    },
    {
     "name": "stderr",
     "output_type": "stream",
     "text": [
      "INFO:tensorflow:Assets written to: .\\models\\wind_speed_prediction_8_layers_n_dropout.ckpt\\assets\n"
     ]
    },
    {
     "name": "stdout",
     "output_type": "stream",
     "text": [
      "."
     ]
    },
    {
     "name": "stderr",
     "output_type": "stream",
     "text": [
      "WARNING:absl:Found untraced functions such as activation_24_layer_call_and_return_conditional_losses, activation_24_layer_call_fn, activation_25_layer_call_and_return_conditional_losses, activation_25_layer_call_fn, activation_26_layer_call_and_return_conditional_losses while saving (showing 5 of 40). These functions will not be directly callable after loading.\n"
     ]
    },
    {
     "name": "stdout",
     "output_type": "stream",
     "text": [
      "INFO:tensorflow:Assets written to: .\\models\\wind_speed_prediction_8_layers_n_dropout.ckpt\\assets\n"
     ]
    },
    {
     "name": "stderr",
     "output_type": "stream",
     "text": [
      "INFO:tensorflow:Assets written to: .\\models\\wind_speed_prediction_8_layers_n_dropout.ckpt\\assets\n"
     ]
    },
    {
     "name": "stdout",
     "output_type": "stream",
     "text": [
      "."
     ]
    },
    {
     "name": "stderr",
     "output_type": "stream",
     "text": [
      "WARNING:absl:Found untraced functions such as activation_24_layer_call_and_return_conditional_losses, activation_24_layer_call_fn, activation_25_layer_call_and_return_conditional_losses, activation_25_layer_call_fn, activation_26_layer_call_and_return_conditional_losses while saving (showing 5 of 40). These functions will not be directly callable after loading.\n"
     ]
    },
    {
     "name": "stdout",
     "output_type": "stream",
     "text": [
      "INFO:tensorflow:Assets written to: .\\models\\wind_speed_prediction_8_layers_n_dropout.ckpt\\assets\n"
     ]
    },
    {
     "name": "stderr",
     "output_type": "stream",
     "text": [
      "INFO:tensorflow:Assets written to: .\\models\\wind_speed_prediction_8_layers_n_dropout.ckpt\\assets\n"
     ]
    },
    {
     "name": "stdout",
     "output_type": "stream",
     "text": [
      "."
     ]
    },
    {
     "name": "stderr",
     "output_type": "stream",
     "text": [
      "WARNING:absl:Found untraced functions such as activation_24_layer_call_and_return_conditional_losses, activation_24_layer_call_fn, activation_25_layer_call_and_return_conditional_losses, activation_25_layer_call_fn, activation_26_layer_call_and_return_conditional_losses while saving (showing 5 of 40). These functions will not be directly callable after loading.\n"
     ]
    },
    {
     "name": "stdout",
     "output_type": "stream",
     "text": [
      "INFO:tensorflow:Assets written to: .\\models\\wind_speed_prediction_8_layers_n_dropout.ckpt\\assets\n"
     ]
    },
    {
     "name": "stderr",
     "output_type": "stream",
     "text": [
      "INFO:tensorflow:Assets written to: .\\models\\wind_speed_prediction_8_layers_n_dropout.ckpt\\assets\n"
     ]
    },
    {
     "name": "stdout",
     "output_type": "stream",
     "text": [
      ".."
     ]
    },
    {
     "name": "stderr",
     "output_type": "stream",
     "text": [
      "WARNING:absl:Found untraced functions such as activation_24_layer_call_and_return_conditional_losses, activation_24_layer_call_fn, activation_25_layer_call_and_return_conditional_losses, activation_25_layer_call_fn, activation_26_layer_call_and_return_conditional_losses while saving (showing 5 of 40). These functions will not be directly callable after loading.\n"
     ]
    },
    {
     "name": "stdout",
     "output_type": "stream",
     "text": [
      "INFO:tensorflow:Assets written to: .\\models\\wind_speed_prediction_8_layers_n_dropout.ckpt\\assets\n"
     ]
    },
    {
     "name": "stderr",
     "output_type": "stream",
     "text": [
      "INFO:tensorflow:Assets written to: .\\models\\wind_speed_prediction_8_layers_n_dropout.ckpt\\assets\n"
     ]
    },
    {
     "name": "stdout",
     "output_type": "stream",
     "text": [
      "..."
     ]
    },
    {
     "name": "stderr",
     "output_type": "stream",
     "text": [
      "WARNING:absl:Found untraced functions such as activation_24_layer_call_and_return_conditional_losses, activation_24_layer_call_fn, activation_25_layer_call_and_return_conditional_losses, activation_25_layer_call_fn, activation_26_layer_call_and_return_conditional_losses while saving (showing 5 of 40). These functions will not be directly callable after loading.\n"
     ]
    },
    {
     "name": "stdout",
     "output_type": "stream",
     "text": [
      "INFO:tensorflow:Assets written to: .\\models\\wind_speed_prediction_8_layers_n_dropout.ckpt\\assets\n"
     ]
    },
    {
     "name": "stderr",
     "output_type": "stream",
     "text": [
      "INFO:tensorflow:Assets written to: .\\models\\wind_speed_prediction_8_layers_n_dropout.ckpt\\assets\n"
     ]
    },
    {
     "name": "stdout",
     "output_type": "stream",
     "text": [
      "."
     ]
    },
    {
     "name": "stderr",
     "output_type": "stream",
     "text": [
      "WARNING:absl:Found untraced functions such as activation_24_layer_call_and_return_conditional_losses, activation_24_layer_call_fn, activation_25_layer_call_and_return_conditional_losses, activation_25_layer_call_fn, activation_26_layer_call_and_return_conditional_losses while saving (showing 5 of 40). These functions will not be directly callable after loading.\n"
     ]
    },
    {
     "name": "stdout",
     "output_type": "stream",
     "text": [
      "INFO:tensorflow:Assets written to: .\\models\\wind_speed_prediction_8_layers_n_dropout.ckpt\\assets\n"
     ]
    },
    {
     "name": "stderr",
     "output_type": "stream",
     "text": [
      "INFO:tensorflow:Assets written to: .\\models\\wind_speed_prediction_8_layers_n_dropout.ckpt\\assets\n"
     ]
    },
    {
     "name": "stdout",
     "output_type": "stream",
     "text": [
      ".."
     ]
    },
    {
     "name": "stderr",
     "output_type": "stream",
     "text": [
      "WARNING:absl:Found untraced functions such as activation_24_layer_call_and_return_conditional_losses, activation_24_layer_call_fn, activation_25_layer_call_and_return_conditional_losses, activation_25_layer_call_fn, activation_26_layer_call_and_return_conditional_losses while saving (showing 5 of 40). These functions will not be directly callable after loading.\n"
     ]
    },
    {
     "name": "stdout",
     "output_type": "stream",
     "text": [
      "INFO:tensorflow:Assets written to: .\\models\\wind_speed_prediction_8_layers_n_dropout.ckpt\\assets\n"
     ]
    },
    {
     "name": "stderr",
     "output_type": "stream",
     "text": [
      "INFO:tensorflow:Assets written to: .\\models\\wind_speed_prediction_8_layers_n_dropout.ckpt\\assets\n"
     ]
    },
    {
     "name": "stdout",
     "output_type": "stream",
     "text": [
      ".."
     ]
    },
    {
     "name": "stderr",
     "output_type": "stream",
     "text": [
      "WARNING:absl:Found untraced functions such as activation_24_layer_call_and_return_conditional_losses, activation_24_layer_call_fn, activation_25_layer_call_and_return_conditional_losses, activation_25_layer_call_fn, activation_26_layer_call_and_return_conditional_losses while saving (showing 5 of 40). These functions will not be directly callable after loading.\n"
     ]
    },
    {
     "name": "stdout",
     "output_type": "stream",
     "text": [
      "INFO:tensorflow:Assets written to: .\\models\\wind_speed_prediction_8_layers_n_dropout.ckpt\\assets\n"
     ]
    },
    {
     "name": "stderr",
     "output_type": "stream",
     "text": [
      "INFO:tensorflow:Assets written to: .\\models\\wind_speed_prediction_8_layers_n_dropout.ckpt\\assets\n"
     ]
    },
    {
     "name": "stdout",
     "output_type": "stream",
     "text": [
      "."
     ]
    },
    {
     "name": "stderr",
     "output_type": "stream",
     "text": [
      "WARNING:absl:Found untraced functions such as activation_24_layer_call_and_return_conditional_losses, activation_24_layer_call_fn, activation_25_layer_call_and_return_conditional_losses, activation_25_layer_call_fn, activation_26_layer_call_and_return_conditional_losses while saving (showing 5 of 40). These functions will not be directly callable after loading.\n"
     ]
    },
    {
     "name": "stdout",
     "output_type": "stream",
     "text": [
      "INFO:tensorflow:Assets written to: .\\models\\wind_speed_prediction_8_layers_n_dropout.ckpt\\assets\n"
     ]
    },
    {
     "name": "stderr",
     "output_type": "stream",
     "text": [
      "INFO:tensorflow:Assets written to: .\\models\\wind_speed_prediction_8_layers_n_dropout.ckpt\\assets\n"
     ]
    },
    {
     "name": "stdout",
     "output_type": "stream",
     "text": [
      "............."
     ]
    },
    {
     "name": "stderr",
     "output_type": "stream",
     "text": [
      "WARNING:absl:Found untraced functions such as activation_24_layer_call_and_return_conditional_losses, activation_24_layer_call_fn, activation_25_layer_call_and_return_conditional_losses, activation_25_layer_call_fn, activation_26_layer_call_and_return_conditional_losses while saving (showing 5 of 40). These functions will not be directly callable after loading.\n"
     ]
    },
    {
     "name": "stdout",
     "output_type": "stream",
     "text": [
      "INFO:tensorflow:Assets written to: .\\models\\wind_speed_prediction_8_layers_n_dropout.ckpt\\assets\n"
     ]
    },
    {
     "name": "stderr",
     "output_type": "stream",
     "text": [
      "INFO:tensorflow:Assets written to: .\\models\\wind_speed_prediction_8_layers_n_dropout.ckpt\\assets\n"
     ]
    },
    {
     "name": "stdout",
     "output_type": "stream",
     "text": [
      "............................................................."
     ]
    },
    {
     "name": "stderr",
     "output_type": "stream",
     "text": [
      "WARNING:absl:Found untraced functions such as activation_24_layer_call_and_return_conditional_losses, activation_24_layer_call_fn, activation_25_layer_call_and_return_conditional_losses, activation_25_layer_call_fn, activation_26_layer_call_and_return_conditional_losses while saving (showing 5 of 40). These functions will not be directly callable after loading.\n"
     ]
    },
    {
     "name": "stdout",
     "output_type": "stream",
     "text": [
      "INFO:tensorflow:Assets written to: .\\models\\wind_speed_prediction_8_layers_n_dropout.ckpt\\assets\n"
     ]
    },
    {
     "name": "stderr",
     "output_type": "stream",
     "text": [
      "INFO:tensorflow:Assets written to: .\\models\\wind_speed_prediction_8_layers_n_dropout.ckpt\\assets\n"
     ]
    },
    {
     "name": "stdout",
     "output_type": "stream",
     "text": [
      "..."
     ]
    },
    {
     "name": "stderr",
     "output_type": "stream",
     "text": [
      "WARNING:absl:Found untraced functions such as activation_24_layer_call_and_return_conditional_losses, activation_24_layer_call_fn, activation_25_layer_call_and_return_conditional_losses, activation_25_layer_call_fn, activation_26_layer_call_and_return_conditional_losses while saving (showing 5 of 40). These functions will not be directly callable after loading.\n"
     ]
    },
    {
     "name": "stdout",
     "output_type": "stream",
     "text": [
      "INFO:tensorflow:Assets written to: .\\models\\wind_speed_prediction_8_layers_n_dropout.ckpt\\assets\n"
     ]
    },
    {
     "name": "stderr",
     "output_type": "stream",
     "text": [
      "INFO:tensorflow:Assets written to: .\\models\\wind_speed_prediction_8_layers_n_dropout.ckpt\\assets\n"
     ]
    },
    {
     "name": "stdout",
     "output_type": "stream",
     "text": [
      "....\n",
      "Epoch: 100, loss:2.6286,  mae:1.1749,  mape:34.4491,  mse:2.6286,  val_loss:3.2743,  val_mae:1.4803,  val_mape:38.8076,  val_mse:3.2743,  \n",
      "..............."
     ]
    },
    {
     "name": "stderr",
     "output_type": "stream",
     "text": [
      "WARNING:absl:Found untraced functions such as activation_24_layer_call_and_return_conditional_losses, activation_24_layer_call_fn, activation_25_layer_call_and_return_conditional_losses, activation_25_layer_call_fn, activation_26_layer_call_and_return_conditional_losses while saving (showing 5 of 40). These functions will not be directly callable after loading.\n"
     ]
    },
    {
     "name": "stdout",
     "output_type": "stream",
     "text": [
      "INFO:tensorflow:Assets written to: .\\models\\wind_speed_prediction_8_layers_n_dropout.ckpt\\assets\n"
     ]
    },
    {
     "name": "stderr",
     "output_type": "stream",
     "text": [
      "INFO:tensorflow:Assets written to: .\\models\\wind_speed_prediction_8_layers_n_dropout.ckpt\\assets\n"
     ]
    },
    {
     "name": "stdout",
     "output_type": "stream",
     "text": [
      "............................................................."
     ]
    },
    {
     "name": "stderr",
     "output_type": "stream",
     "text": [
      "WARNING:absl:Found untraced functions such as activation_24_layer_call_and_return_conditional_losses, activation_24_layer_call_fn, activation_25_layer_call_and_return_conditional_losses, activation_25_layer_call_fn, activation_26_layer_call_and_return_conditional_losses while saving (showing 5 of 40). These functions will not be directly callable after loading.\n"
     ]
    },
    {
     "name": "stdout",
     "output_type": "stream",
     "text": [
      "INFO:tensorflow:Assets written to: .\\models\\wind_speed_prediction_8_layers_n_dropout.ckpt\\assets\n"
     ]
    },
    {
     "name": "stderr",
     "output_type": "stream",
     "text": [
      "INFO:tensorflow:Assets written to: .\\models\\wind_speed_prediction_8_layers_n_dropout.ckpt\\assets\n"
     ]
    },
    {
     "name": "stdout",
     "output_type": "stream",
     "text": [
      "........................\n",
      "Epoch: 200, loss:1.0061,  mae:0.7951,  mape:20.9186,  mse:1.0061,  val_loss:2.2239,  val_mae:1.2089,  val_mape:35.9850,  val_mse:2.2239,  \n",
      "......................"
     ]
    },
    {
     "name": "stderr",
     "output_type": "stream",
     "text": [
      "WARNING:absl:Found untraced functions such as activation_24_layer_call_and_return_conditional_losses, activation_24_layer_call_fn, activation_25_layer_call_and_return_conditional_losses, activation_25_layer_call_fn, activation_26_layer_call_and_return_conditional_losses while saving (showing 5 of 40). These functions will not be directly callable after loading.\n"
     ]
    },
    {
     "name": "stdout",
     "output_type": "stream",
     "text": [
      "INFO:tensorflow:Assets written to: .\\models\\wind_speed_prediction_8_layers_n_dropout.ckpt\\assets\n"
     ]
    },
    {
     "name": "stderr",
     "output_type": "stream",
     "text": [
      "INFO:tensorflow:Assets written to: .\\models\\wind_speed_prediction_8_layers_n_dropout.ckpt\\assets\n"
     ]
    },
    {
     "name": "stdout",
     "output_type": "stream",
     "text": [
      "...................."
     ]
    },
    {
     "name": "stderr",
     "output_type": "stream",
     "text": [
      "WARNING:absl:Found untraced functions such as activation_24_layer_call_and_return_conditional_losses, activation_24_layer_call_fn, activation_25_layer_call_and_return_conditional_losses, activation_25_layer_call_fn, activation_26_layer_call_and_return_conditional_losses while saving (showing 5 of 40). These functions will not be directly callable after loading.\n"
     ]
    },
    {
     "name": "stdout",
     "output_type": "stream",
     "text": [
      "INFO:tensorflow:Assets written to: .\\models\\wind_speed_prediction_8_layers_n_dropout.ckpt\\assets\n"
     ]
    },
    {
     "name": "stderr",
     "output_type": "stream",
     "text": [
      "INFO:tensorflow:Assets written to: .\\models\\wind_speed_prediction_8_layers_n_dropout.ckpt\\assets\n"
     ]
    },
    {
     "name": "stdout",
     "output_type": "stream",
     "text": [
      "...."
     ]
    },
    {
     "name": "stderr",
     "output_type": "stream",
     "text": [
      "WARNING:absl:Found untraced functions such as activation_24_layer_call_and_return_conditional_losses, activation_24_layer_call_fn, activation_25_layer_call_and_return_conditional_losses, activation_25_layer_call_fn, activation_26_layer_call_and_return_conditional_losses while saving (showing 5 of 40). These functions will not be directly callable after loading.\n"
     ]
    },
    {
     "name": "stdout",
     "output_type": "stream",
     "text": [
      "INFO:tensorflow:Assets written to: .\\models\\wind_speed_prediction_8_layers_n_dropout.ckpt\\assets\n"
     ]
    },
    {
     "name": "stderr",
     "output_type": "stream",
     "text": [
      "INFO:tensorflow:Assets written to: .\\models\\wind_speed_prediction_8_layers_n_dropout.ckpt\\assets\n"
     ]
    },
    {
     "name": "stdout",
     "output_type": "stream",
     "text": [
      "......................................................\n",
      "Epoch: 300, loss:2.5520,  mae:1.3484,  mape:93.5879,  mse:2.5520,  val_loss:2.3613,  val_mae:1.2391,  val_mape:36.3279,  val_mse:2.3613,  \n",
      "............................................................."
     ]
    },
    {
     "name": "stderr",
     "output_type": "stream",
     "text": [
      "WARNING:absl:Found untraced functions such as activation_24_layer_call_and_return_conditional_losses, activation_24_layer_call_fn, activation_25_layer_call_and_return_conditional_losses, activation_25_layer_call_fn, activation_26_layer_call_and_return_conditional_losses while saving (showing 5 of 40). These functions will not be directly callable after loading.\n"
     ]
    },
    {
     "name": "stdout",
     "output_type": "stream",
     "text": [
      "INFO:tensorflow:Assets written to: .\\models\\wind_speed_prediction_8_layers_n_dropout.ckpt\\assets\n"
     ]
    },
    {
     "name": "stderr",
     "output_type": "stream",
     "text": [
      "INFO:tensorflow:Assets written to: .\\models\\wind_speed_prediction_8_layers_n_dropout.ckpt\\assets\n"
     ]
    },
    {
     "name": "stdout",
     "output_type": "stream",
     "text": [
      "....................................."
     ]
    },
    {
     "name": "stderr",
     "output_type": "stream",
     "text": [
      "WARNING:absl:Found untraced functions such as activation_24_layer_call_and_return_conditional_losses, activation_24_layer_call_fn, activation_25_layer_call_and_return_conditional_losses, activation_25_layer_call_fn, activation_26_layer_call_and_return_conditional_losses while saving (showing 5 of 40). These functions will not be directly callable after loading.\n"
     ]
    },
    {
     "name": "stdout",
     "output_type": "stream",
     "text": [
      "INFO:tensorflow:Assets written to: .\\models\\wind_speed_prediction_8_layers_n_dropout.ckpt\\assets\n"
     ]
    },
    {
     "name": "stderr",
     "output_type": "stream",
     "text": [
      "INFO:tensorflow:Assets written to: .\\models\\wind_speed_prediction_8_layers_n_dropout.ckpt\\assets\n"
     ]
    },
    {
     "name": "stdout",
     "output_type": "stream",
     "text": [
      "..\n",
      "Epoch: 400, loss:1.9956,  mae:1.2206,  mape:24.5766,  mse:1.9956,  val_loss:1.4534,  val_mae:0.9891,  val_mape:37.8070,  val_mse:1.4534,  \n",
      "."
     ]
    },
    {
     "name": "stderr",
     "output_type": "stream",
     "text": [
      "WARNING:absl:Found untraced functions such as activation_24_layer_call_and_return_conditional_losses, activation_24_layer_call_fn, activation_25_layer_call_and_return_conditional_losses, activation_25_layer_call_fn, activation_26_layer_call_and_return_conditional_losses while saving (showing 5 of 40). These functions will not be directly callable after loading.\n"
     ]
    },
    {
     "name": "stdout",
     "output_type": "stream",
     "text": [
      "INFO:tensorflow:Assets written to: .\\models\\wind_speed_prediction_8_layers_n_dropout.ckpt\\assets\n"
     ]
    },
    {
     "name": "stderr",
     "output_type": "stream",
     "text": [
      "INFO:tensorflow:Assets written to: .\\models\\wind_speed_prediction_8_layers_n_dropout.ckpt\\assets\n"
     ]
    },
    {
     "name": "stdout",
     "output_type": "stream",
     "text": [
      "...................................................................................................\n",
      "Epoch: 500, loss:0.6957,  mae:0.7140,  mape:31.1152,  mse:0.6957,  val_loss:2.2843,  val_mae:1.2164,  val_mape:35.8943,  val_mse:2.2843,  \n",
      "......................................................"
     ]
    },
    {
     "name": "stderr",
     "output_type": "stream",
     "text": [
      "WARNING:absl:Found untraced functions such as activation_24_layer_call_and_return_conditional_losses, activation_24_layer_call_fn, activation_25_layer_call_and_return_conditional_losses, activation_25_layer_call_fn, activation_26_layer_call_and_return_conditional_losses while saving (showing 5 of 40). These functions will not be directly callable after loading.\n"
     ]
    },
    {
     "name": "stdout",
     "output_type": "stream",
     "text": [
      "INFO:tensorflow:Assets written to: .\\models\\wind_speed_prediction_8_layers_n_dropout.ckpt\\assets\n"
     ]
    },
    {
     "name": "stderr",
     "output_type": "stream",
     "text": [
      "INFO:tensorflow:Assets written to: .\\models\\wind_speed_prediction_8_layers_n_dropout.ckpt\\assets\n"
     ]
    },
    {
     "name": "stdout",
     "output_type": "stream",
     "text": [
      "..............................................\n",
      "Epoch: 600, loss:0.9671,  mae:0.8304,  mape:23.9348,  mse:0.9671,  val_loss:1.5063,  val_mae:1.0000,  val_mape:36.3302,  val_mse:1.5063,  \n",
      "......................................................................"
     ]
    },
    {
     "name": "stderr",
     "output_type": "stream",
     "text": [
      "WARNING:absl:Found untraced functions such as activation_24_layer_call_and_return_conditional_losses, activation_24_layer_call_fn, activation_25_layer_call_and_return_conditional_losses, activation_25_layer_call_fn, activation_26_layer_call_and_return_conditional_losses while saving (showing 5 of 40). These functions will not be directly callable after loading.\n"
     ]
    },
    {
     "name": "stdout",
     "output_type": "stream",
     "text": [
      "INFO:tensorflow:Assets written to: .\\models\\wind_speed_prediction_8_layers_n_dropout.ckpt\\assets\n"
     ]
    },
    {
     "name": "stderr",
     "output_type": "stream",
     "text": [
      "INFO:tensorflow:Assets written to: .\\models\\wind_speed_prediction_8_layers_n_dropout.ckpt\\assets\n"
     ]
    },
    {
     "name": "stdout",
     "output_type": "stream",
     "text": [
      "."
     ]
    },
    {
     "name": "stderr",
     "output_type": "stream",
     "text": [
      "WARNING:absl:Found untraced functions such as activation_24_layer_call_and_return_conditional_losses, activation_24_layer_call_fn, activation_25_layer_call_and_return_conditional_losses, activation_25_layer_call_fn, activation_26_layer_call_and_return_conditional_losses while saving (showing 5 of 40). These functions will not be directly callable after loading.\n"
     ]
    },
    {
     "name": "stdout",
     "output_type": "stream",
     "text": [
      "INFO:tensorflow:Assets written to: .\\models\\wind_speed_prediction_8_layers_n_dropout.ckpt\\assets\n"
     ]
    },
    {
     "name": "stderr",
     "output_type": "stream",
     "text": [
      "INFO:tensorflow:Assets written to: .\\models\\wind_speed_prediction_8_layers_n_dropout.ckpt\\assets\n"
     ]
    },
    {
     "name": "stdout",
     "output_type": "stream",
     "text": [
      ".............................\n",
      "Epoch: 700, loss:2.1697,  mae:1.3220,  mape:36.6603,  mse:2.1697,  val_loss:1.4465,  val_mae:0.9741,  val_mape:35.1826,  val_mse:1.4465,  \n",
      "....................."
     ]
    },
    {
     "name": "stderr",
     "output_type": "stream",
     "text": [
      "WARNING:absl:Found untraced functions such as activation_24_layer_call_and_return_conditional_losses, activation_24_layer_call_fn, activation_25_layer_call_and_return_conditional_losses, activation_25_layer_call_fn, activation_26_layer_call_and_return_conditional_losses while saving (showing 5 of 40). These functions will not be directly callable after loading.\n"
     ]
    },
    {
     "name": "stdout",
     "output_type": "stream",
     "text": [
      "INFO:tensorflow:Assets written to: .\\models\\wind_speed_prediction_8_layers_n_dropout.ckpt\\assets\n"
     ]
    },
    {
     "name": "stderr",
     "output_type": "stream",
     "text": [
      "INFO:tensorflow:Assets written to: .\\models\\wind_speed_prediction_8_layers_n_dropout.ckpt\\assets\n"
     ]
    },
    {
     "name": "stdout",
     "output_type": "stream",
     "text": [
      "...............................................................................\n",
      "Epoch: 800, loss:1.8176,  mae:1.1799,  mape:68.3938,  mse:1.8176,  val_loss:1.5838,  val_mae:0.9911,  val_mape:33.4740,  val_mse:1.5838,  \n",
      ".............................................................................................."
     ]
    },
    {
     "name": "stderr",
     "output_type": "stream",
     "text": [
      "WARNING:absl:Found untraced functions such as activation_24_layer_call_and_return_conditional_losses, activation_24_layer_call_fn, activation_25_layer_call_and_return_conditional_losses, activation_25_layer_call_fn, activation_26_layer_call_and_return_conditional_losses while saving (showing 5 of 40). These functions will not be directly callable after loading.\n"
     ]
    },
    {
     "name": "stdout",
     "output_type": "stream",
     "text": [
      "INFO:tensorflow:Assets written to: .\\models\\wind_speed_prediction_8_layers_n_dropout.ckpt\\assets\n"
     ]
    },
    {
     "name": "stderr",
     "output_type": "stream",
     "text": [
      "INFO:tensorflow:Assets written to: .\\models\\wind_speed_prediction_8_layers_n_dropout.ckpt\\assets\n"
     ]
    },
    {
     "name": "stdout",
     "output_type": "stream",
     "text": [
      "......"
     ]
    },
    {
     "name": "stderr",
     "output_type": "stream",
     "text": [
      "WARNING:absl:Found untraced functions such as activation_24_layer_call_and_return_conditional_losses, activation_24_layer_call_fn, activation_25_layer_call_and_return_conditional_losses, activation_25_layer_call_fn, activation_26_layer_call_and_return_conditional_losses while saving (showing 5 of 40). These functions will not be directly callable after loading.\n"
     ]
    },
    {
     "name": "stdout",
     "output_type": "stream",
     "text": [
      "INFO:tensorflow:Assets written to: .\\models\\wind_speed_prediction_8_layers_n_dropout.ckpt\\assets\n"
     ]
    },
    {
     "name": "stderr",
     "output_type": "stream",
     "text": [
      "INFO:tensorflow:Assets written to: .\\models\\wind_speed_prediction_8_layers_n_dropout.ckpt\\assets\n"
     ]
    },
    {
     "name": "stdout",
     "output_type": "stream",
     "text": [
      "\n",
      "Epoch: 900, loss:1.5157,  mae:1.0112,  mape:32.6954,  mse:1.5157,  val_loss:1.3160,  val_mae:0.9363,  val_mape:35.6200,  val_mse:1.3160,  \n",
      ".................................................................."
     ]
    },
    {
     "name": "stderr",
     "output_type": "stream",
     "text": [
      "WARNING:absl:Found untraced functions such as activation_24_layer_call_and_return_conditional_losses, activation_24_layer_call_fn, activation_25_layer_call_and_return_conditional_losses, activation_25_layer_call_fn, activation_26_layer_call_and_return_conditional_losses while saving (showing 5 of 40). These functions will not be directly callable after loading.\n"
     ]
    },
    {
     "name": "stdout",
     "output_type": "stream",
     "text": [
      "INFO:tensorflow:Assets written to: .\\models\\wind_speed_prediction_8_layers_n_dropout.ckpt\\assets\n"
     ]
    },
    {
     "name": "stderr",
     "output_type": "stream",
     "text": [
      "INFO:tensorflow:Assets written to: .\\models\\wind_speed_prediction_8_layers_n_dropout.ckpt\\assets\n"
     ]
    },
    {
     "name": "stdout",
     "output_type": "stream",
     "text": [
      "..................................Wall time: 2min 49s\n"
     ]
    }
   ],
   "source": [
    "%%time\n",
    "\n",
    "EPOCHS = 1000\n",
    "batch_size = 6\n",
    "\n",
    "model = model_multilayer_perceptron_with_eight_hidden_layer()\n",
    "print('Here is a summary of this model: ')\n",
    "model.summary()\n",
    "\n",
    "with tf.device('/CPU:0'):\n",
    "    history = model.fit(\n",
    "        normed_train_data,\n",
    "        train_labels,\n",
    "        batch_size = batch_size,\n",
    "        epochs=EPOCHS,\n",
    "        verbose=0,\n",
    "        shuffle=True,\n",
    "        steps_per_epoch= 1,\n",
    "        validation_data = (normed_valid_dataset, valid_labels),\n",
    "        callbacks=[tfdocs.modeling.EpochDots(), ckpt_callback],\n",
    "    )\n"
   ]
  },
  {
   "cell_type": "code",
   "execution_count": 95,
   "id": "607358d9",
   "metadata": {},
   "outputs": [
    {
     "name": "stdout",
     "output_type": "stream",
     "text": [
      "Summary of the results after each epoch: \n"
     ]
    },
    {
     "data": {
      "text/html": [
       "<div>\n",
       "<style scoped>\n",
       "    .dataframe tbody tr th:only-of-type {\n",
       "        vertical-align: middle;\n",
       "    }\n",
       "\n",
       "    .dataframe tbody tr th {\n",
       "        vertical-align: top;\n",
       "    }\n",
       "\n",
       "    .dataframe thead th {\n",
       "        text-align: right;\n",
       "    }\n",
       "</style>\n",
       "<table border=\"1\" class=\"dataframe\">\n",
       "  <thead>\n",
       "    <tr style=\"text-align: right;\">\n",
       "      <th></th>\n",
       "      <th>loss</th>\n",
       "      <th>mae</th>\n",
       "      <th>mse</th>\n",
       "      <th>mape</th>\n",
       "      <th>val_loss</th>\n",
       "      <th>val_mae</th>\n",
       "      <th>val_mse</th>\n",
       "      <th>val_mape</th>\n",
       "      <th>epoch</th>\n",
       "    </tr>\n",
       "  </thead>\n",
       "  <tbody>\n",
       "    <tr>\n",
       "      <th>995</th>\n",
       "      <td>1.964195</td>\n",
       "      <td>1.183922</td>\n",
       "      <td>1.964195</td>\n",
       "      <td>30.178183</td>\n",
       "      <td>1.281756</td>\n",
       "      <td>0.924246</td>\n",
       "      <td>1.281756</td>\n",
       "      <td>35.109280</td>\n",
       "      <td>995</td>\n",
       "    </tr>\n",
       "    <tr>\n",
       "      <th>996</th>\n",
       "      <td>0.128980</td>\n",
       "      <td>0.313193</td>\n",
       "      <td>0.128980</td>\n",
       "      <td>9.345394</td>\n",
       "      <td>1.287495</td>\n",
       "      <td>0.924905</td>\n",
       "      <td>1.287495</td>\n",
       "      <td>34.872921</td>\n",
       "      <td>996</td>\n",
       "    </tr>\n",
       "    <tr>\n",
       "      <th>997</th>\n",
       "      <td>1.439079</td>\n",
       "      <td>1.037244</td>\n",
       "      <td>1.439079</td>\n",
       "      <td>36.890102</td>\n",
       "      <td>1.399257</td>\n",
       "      <td>0.944940</td>\n",
       "      <td>1.399257</td>\n",
       "      <td>33.166531</td>\n",
       "      <td>997</td>\n",
       "    </tr>\n",
       "    <tr>\n",
       "      <th>998</th>\n",
       "      <td>0.574049</td>\n",
       "      <td>0.561623</td>\n",
       "      <td>0.574049</td>\n",
       "      <td>18.172689</td>\n",
       "      <td>1.394685</td>\n",
       "      <td>0.942692</td>\n",
       "      <td>1.394685</td>\n",
       "      <td>33.084515</td>\n",
       "      <td>998</td>\n",
       "    </tr>\n",
       "    <tr>\n",
       "      <th>999</th>\n",
       "      <td>1.688857</td>\n",
       "      <td>1.033146</td>\n",
       "      <td>1.688857</td>\n",
       "      <td>57.016521</td>\n",
       "      <td>1.353739</td>\n",
       "      <td>0.933421</td>\n",
       "      <td>1.353739</td>\n",
       "      <td>33.246052</td>\n",
       "      <td>999</td>\n",
       "    </tr>\n",
       "  </tbody>\n",
       "</table>\n",
       "</div>"
      ],
      "text/plain": [
       "         loss       mae       mse       mape  val_loss   val_mae   val_mse  \\\n",
       "995  1.964195  1.183922  1.964195  30.178183  1.281756  0.924246  1.281756   \n",
       "996  0.128980  0.313193  0.128980   9.345394  1.287495  0.924905  1.287495   \n",
       "997  1.439079  1.037244  1.439079  36.890102  1.399257  0.944940  1.399257   \n",
       "998  0.574049  0.561623  0.574049  18.172689  1.394685  0.942692  1.394685   \n",
       "999  1.688857  1.033146  1.688857  57.016521  1.353739  0.933421  1.353739   \n",
       "\n",
       "      val_mape  epoch  \n",
       "995  35.109280    995  \n",
       "996  34.872921    996  \n",
       "997  33.166531    997  \n",
       "998  33.084515    998  \n",
       "999  33.246052    999  "
      ]
     },
     "execution_count": 95,
     "metadata": {},
     "output_type": "execute_result"
    }
   ],
   "source": [
    "print('Summary of the results after each epoch: ')\n",
    "hist = pd.DataFrame(history.history)\n",
    "hist['epoch'] = history.epoch\n",
    "hist.tail()"
   ]
  },
  {
   "cell_type": "code",
   "execution_count": 96,
   "id": "d2b7b4bf",
   "metadata": {},
   "outputs": [],
   "source": [
    "# Test the model after training\n",
    "example_result_test= model.predict(normed_test_data)"
   ]
  },
  {
   "cell_type": "markdown",
   "id": "79c80ab9",
   "metadata": {},
   "source": [
    "## Compare the predicted values with the actual values"
   ]
  },
  {
   "cell_type": "code",
   "execution_count": 97,
   "id": "1f6a10a5",
   "metadata": {},
   "outputs": [
    {
     "name": "stdout",
     "output_type": "stream",
     "text": [
      "Predicted Values\n",
      "[[2.80611  ]\n",
      " [3.207864 ]\n",
      " [3.2135363]\n",
      " [3.0967894]\n",
      " [3.1651287]\n",
      " [2.8842602]\n",
      " [3.4892356]\n",
      " [3.239999 ]\n",
      " [3.2230263]\n",
      " [3.1724954]]\n",
      "\n",
      "Actual Values\n",
      "2.2\n",
      "3.0\n",
      "1.3\n",
      "3.0\n",
      "3.0\n",
      "1.1\n",
      "3.0\n",
      "3.0\n",
      "2.0\n",
      "3.0\n"
     ]
    }
   ],
   "source": [
    "print('Predicted Values')\n",
    "print(example_result_test[:10])\n",
    "print()\n",
    "print('Actual Values')\n",
    "print(test_labels[:10].to_string(index=False))"
   ]
  },
  {
   "cell_type": "code",
   "execution_count": 98,
   "id": "0bd009bb",
   "metadata": {},
   "outputs": [
    {
     "name": "stdout",
     "output_type": "stream",
     "text": [
      "Summary of the results after each epoch: \n"
     ]
    },
    {
     "data": {
      "text/html": [
       "<div>\n",
       "<style scoped>\n",
       "    .dataframe tbody tr th:only-of-type {\n",
       "        vertical-align: middle;\n",
       "    }\n",
       "\n",
       "    .dataframe tbody tr th {\n",
       "        vertical-align: top;\n",
       "    }\n",
       "\n",
       "    .dataframe thead th {\n",
       "        text-align: right;\n",
       "    }\n",
       "</style>\n",
       "<table border=\"1\" class=\"dataframe\">\n",
       "  <thead>\n",
       "    <tr style=\"text-align: right;\">\n",
       "      <th></th>\n",
       "      <th>loss</th>\n",
       "      <th>mae</th>\n",
       "      <th>mse</th>\n",
       "      <th>mape</th>\n",
       "      <th>val_loss</th>\n",
       "      <th>val_mae</th>\n",
       "      <th>val_mse</th>\n",
       "      <th>val_mape</th>\n",
       "      <th>epoch</th>\n",
       "    </tr>\n",
       "  </thead>\n",
       "  <tbody>\n",
       "    <tr>\n",
       "      <th>995</th>\n",
       "      <td>1.964195</td>\n",
       "      <td>1.183922</td>\n",
       "      <td>1.964195</td>\n",
       "      <td>30.178183</td>\n",
       "      <td>1.281756</td>\n",
       "      <td>0.924246</td>\n",
       "      <td>1.281756</td>\n",
       "      <td>35.109280</td>\n",
       "      <td>995</td>\n",
       "    </tr>\n",
       "    <tr>\n",
       "      <th>996</th>\n",
       "      <td>0.128980</td>\n",
       "      <td>0.313193</td>\n",
       "      <td>0.128980</td>\n",
       "      <td>9.345394</td>\n",
       "      <td>1.287495</td>\n",
       "      <td>0.924905</td>\n",
       "      <td>1.287495</td>\n",
       "      <td>34.872921</td>\n",
       "      <td>996</td>\n",
       "    </tr>\n",
       "    <tr>\n",
       "      <th>997</th>\n",
       "      <td>1.439079</td>\n",
       "      <td>1.037244</td>\n",
       "      <td>1.439079</td>\n",
       "      <td>36.890102</td>\n",
       "      <td>1.399257</td>\n",
       "      <td>0.944940</td>\n",
       "      <td>1.399257</td>\n",
       "      <td>33.166531</td>\n",
       "      <td>997</td>\n",
       "    </tr>\n",
       "    <tr>\n",
       "      <th>998</th>\n",
       "      <td>0.574049</td>\n",
       "      <td>0.561623</td>\n",
       "      <td>0.574049</td>\n",
       "      <td>18.172689</td>\n",
       "      <td>1.394685</td>\n",
       "      <td>0.942692</td>\n",
       "      <td>1.394685</td>\n",
       "      <td>33.084515</td>\n",
       "      <td>998</td>\n",
       "    </tr>\n",
       "    <tr>\n",
       "      <th>999</th>\n",
       "      <td>1.688857</td>\n",
       "      <td>1.033146</td>\n",
       "      <td>1.688857</td>\n",
       "      <td>57.016521</td>\n",
       "      <td>1.353739</td>\n",
       "      <td>0.933421</td>\n",
       "      <td>1.353739</td>\n",
       "      <td>33.246052</td>\n",
       "      <td>999</td>\n",
       "    </tr>\n",
       "  </tbody>\n",
       "</table>\n",
       "</div>"
      ],
      "text/plain": [
       "         loss       mae       mse       mape  val_loss   val_mae   val_mse  \\\n",
       "995  1.964195  1.183922  1.964195  30.178183  1.281756  0.924246  1.281756   \n",
       "996  0.128980  0.313193  0.128980   9.345394  1.287495  0.924905  1.287495   \n",
       "997  1.439079  1.037244  1.439079  36.890102  1.399257  0.944940  1.399257   \n",
       "998  0.574049  0.561623  0.574049  18.172689  1.394685  0.942692  1.394685   \n",
       "999  1.688857  1.033146  1.688857  57.016521  1.353739  0.933421  1.353739   \n",
       "\n",
       "      val_mape  epoch  \n",
       "995  35.109280    995  \n",
       "996  34.872921    996  \n",
       "997  33.166531    997  \n",
       "998  33.084515    998  \n",
       "999  33.246052    999  "
      ]
     },
     "execution_count": 98,
     "metadata": {},
     "output_type": "execute_result"
    }
   ],
   "source": [
    "print('Summary of the results after each epoch: ')\n",
    "hist = pd.DataFrame(history.history)\n",
    "hist['epoch'] = history.epoch\n",
    "hist.tail()"
   ]
  },
  {
   "cell_type": "markdown",
   "id": "067242de",
   "metadata": {},
   "source": [
    "## See how the training went by plotting the loss/mse across epochs"
   ]
  },
  {
   "cell_type": "code",
   "execution_count": 99,
   "id": "a54a2743",
   "metadata": {},
   "outputs": [
    {
     "data": {
      "text/plain": [
       "Text(0, 0.5, 'MAE [wind-speed]')"
      ]
     },
     "execution_count": 99,
     "metadata": {},
     "output_type": "execute_result"
    },
    {
     "data": {
      "image/png": "[encoded data removed]",
      "text/plain": [
       "<Figure size 432x288 with 1 Axes>"
      ]
     },
     "metadata": {
      "needs_background": "light"
     },
     "output_type": "display_data"
    }
   ],
   "source": [
    "plotter = tfdocs.plots.HistoryPlotter(smoothing_std=2)\n",
    "\n",
    "plotter.plot({'Basic': history}, metric = 'mae')\n",
    "plt.ylim([0,5])\n",
    "plt.ylabel('MAE [wind-speed]')"
   ]
  },
  {
   "cell_type": "code",
   "execution_count": 100,
   "id": "e1b3bd07",
   "metadata": {},
   "outputs": [
    {
     "data": {
      "text/plain": [
       "Text(0, 0.5, 'MSE [wind-speed]')"
      ]
     },
     "execution_count": 100,
     "metadata": {},
     "output_type": "execute_result"
    },
    {
     "data": {
      "image/png": "[encoded data removed]",
      "text/plain": [
       "<Figure size 432x288 with 1 Axes>"
      ]
     },
     "metadata": {
      "needs_background": "light"
     },
     "output_type": "display_data"
    }
   ],
   "source": [
    "plotter.plot({'Basic': history}, metric = 'mse')\n",
    "plt.ylim([0,5])\n",
    "plt.ylabel('MSE [wind-speed]')"
   ]
  },
  {
   "cell_type": "code",
   "execution_count": 101,
   "id": "707da959",
   "metadata": {},
   "outputs": [
    {
     "name": "stdout",
     "output_type": "stream",
     "text": [
      "Error Rate on Train Split: \n",
      "6/6 - 0s - loss: 2.0378 - mae: 1.1230 - mse: 2.0378 - mape: 36.3214\n",
      "Train set Mean Abs Error :  1.12\n",
      "Train set Mean Square Error :  2.04\n"
     ]
    }
   ],
   "source": [
    "print('Error Rate on Train Split: ')\n",
    "loss, mae, mse, mape = model.evaluate(normed_train_data, train_labels, verbose=2)\n",
    "\n",
    "print('Train set Mean Abs Error : {:5.2f}'.format(mae))\n",
    "print('Train set Mean Square Error : {:5.2f}'.format(mse))"
   ]
  },
  {
   "cell_type": "code",
   "execution_count": 102,
   "id": "e1a2efb7",
   "metadata": {},
   "outputs": [
    {
     "name": "stdout",
     "output_type": "stream",
     "text": [
      "Error Rate on Evaluation  Split: \n",
      "2/2 - 0s - loss: 1.3537 - mae: 0.9334 - mse: 1.3537 - mape: 33.2461\n",
      "Validation set Mean Abs Error :  0.93\n",
      "Validation set Mean Square Error :  1.35\n"
     ]
    }
   ],
   "source": [
    "print('Error Rate on Evaluation  Split: ')\n",
    "loss, mae, mse, mape = model.evaluate(normed_valid_dataset, valid_labels, verbose=2)\n",
    "\n",
    "print('Validation set Mean Abs Error : {:5.2f}'.format(mae))\n",
    "print('Validation set Mean Square Error : {:5.2f}'.format(mse))"
   ]
  },
  {
   "cell_type": "code",
   "execution_count": 103,
   "id": "61494ba9",
   "metadata": {},
   "outputs": [
    {
     "name": "stdout",
     "output_type": "stream",
     "text": [
      "Error Rate on Test  Split: \n",
      "2/2 - 0s - loss: 2.6146 - mae: 1.0825 - mse: 2.6146 - mape: 54818148.0000\n",
      "Testing set Mean Abs Error :  1.08\n",
      "Testing set Mean Square Error :  2.61\n"
     ]
    }
   ],
   "source": [
    "print('Error Rate on Test  Split: ')\n",
    "loss, mae, mse, mape = model.evaluate(normed_test_data, test_labels, verbose=2)\n",
    "\n",
    "print('Testing set Mean Abs Error : {:5.2f}'.format(mae))\n",
    "print('Testing set Mean Square Error : {:5.2f}'.format(mse))"
   ]
  },
  {
   "cell_type": "code",
   "execution_count": 104,
   "id": "29352c0b",
   "metadata": {},
   "outputs": [
    {
     "data": {
      "image/png": "[encoded data removed]",
      "text/plain": [
       "<Figure size 432x288 with 1 Axes>"
      ]
     },
     "metadata": {
      "needs_background": "light"
     },
     "output_type": "display_data"
    }
   ],
   "source": [
    "train_predictions = model.predict(normed_train_data).flatten()\n",
    "\n",
    "a = plt.axes(aspect='equal')\n",
    "plt.scatter(train_labels, train_predictions)\n",
    "plt.xlabel('True Values [wind-speed]')\n",
    "plt.ylabel('Predictions [wind-speed]')\n",
    "lims = [0, 5]\n",
    "plt.xlim(lims)\n",
    "plt.ylim(lims)\n",
    "_ = plt.plot(lims, lims)"
   ]
  },
  {
   "cell_type": "code",
   "execution_count": 105,
   "id": "44db45da",
   "metadata": {},
   "outputs": [
    {
     "data": {
      "image/png": "[encoded data removed]",
      "text/plain": [
       "<Figure size 432x288 with 1 Axes>"
      ]
     },
     "metadata": {
      "needs_background": "light"
     },
     "output_type": "display_data"
    }
   ],
   "source": [
    "test_predictions = model.predict(normed_test_data).flatten()\n",
    "\n",
    "a = plt.axes(aspect='equal')\n",
    "plt.scatter(test_labels, test_predictions)\n",
    "plt.xlabel('True Values [wind-speed]')\n",
    "plt.ylabel('Predictions [wind-speed]')\n",
    "lims = [0, 5]\n",
    "plt.xlim(lims)\n",
    "plt.ylim(lims)\n",
    "_ = plt.plot(lims, lims)"
   ]
  },
  {
   "cell_type": "code",
   "execution_count": 106,
   "id": "6f5063bc",
   "metadata": {},
   "outputs": [
    {
     "data": {
      "image/png": "[encoded data removed]",
      "text/plain": [
       "<Figure size 432x288 with 1 Axes>"
      ]
     },
     "metadata": {
      "needs_background": "light"
     },
     "output_type": "display_data"
    }
   ],
   "source": [
    "# error distribution.\n",
    "error = test_predictions - test_labels\n",
    "plt.hist(error, bins = 25)\n",
    "plt.xlabel(\"Prediction Error [medv]\")\n",
    "_ = plt.ylabel(\"count\")"
   ]
  },
  {
   "cell_type": "code",
   "execution_count": null,
   "id": "864e8209",
   "metadata": {},
   "outputs": [],
   "source": []
  }
 ],
 "metadata": {
  "kernelspec": {
   "display_name": "Python 3 (ipykernel)",
   "language": "python",
   "name": "python3"
  },
  "language_info": {
   "codemirror_mode": {
    "name": "ipython",
    "version": 3
   },
   "file_extension": ".py",
   "mimetype": "text/x-python",
   "name": "python",
   "nbconvert_exporter": "python",
   "pygments_lexer": "ipython3",
   "version": "3.9.6"
  }
 },
 "nbformat": 4,
 "nbformat_minor": 5
}

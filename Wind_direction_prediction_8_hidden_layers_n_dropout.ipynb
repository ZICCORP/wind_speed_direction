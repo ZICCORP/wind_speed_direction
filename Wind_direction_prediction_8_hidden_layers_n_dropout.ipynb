{
 "cells": [
  {
   "cell_type": "markdown",
   "id": "2869aab5",
   "metadata": {},
   "source": [
    "### import os for  operating system operations e.g., creating a folder"
   ]
  },
  {
   "cell_type": "code",
   "execution_count": 1,
   "id": "14b84b90",
   "metadata": {},
   "outputs": [],
   "source": [
    "import os"
   ]
  },
  {
   "cell_type": "markdown",
   "id": "a1387a94",
   "metadata": {},
   "source": [
    "### Tensorflow and keras are two packages for creating neural network models."
   ]
  },
  {
   "cell_type": "code",
   "execution_count": 2,
   "id": "142f9f44",
   "metadata": {},
   "outputs": [],
   "source": [
    "\n",
    "import tensorflow as tf\n",
    "from tensorflow import keras"
   ]
  },
  {
   "cell_type": "markdown",
   "id": "037b0c53",
   "metadata": {},
   "source": [
    "### For splitting our dataset into training and test set"
   ]
  },
  {
   "cell_type": "code",
   "execution_count": 3,
   "id": "fc71c4a0",
   "metadata": {},
   "outputs": [],
   "source": [
    "\n",
    "from sklearn.model_selection import train_test_split"
   ]
  },
  {
   "cell_type": "markdown",
   "id": "98d22649",
   "metadata": {},
   "source": [
    "### print tensorflow (TF) version. Make sure you have at least tensorflow 2.1.0"
   ]
  },
  {
   "cell_type": "code",
   "execution_count": 4,
   "id": "ec10543e",
   "metadata": {},
   "outputs": [
    {
     "name": "stdout",
     "output_type": "stream",
     "text": [
      "Tensorflow version: 2.6.0\n"
     ]
    }
   ],
   "source": [
    "\n",
    "print(f\"Tensorflow version: {tf.version.VERSION}\")"
   ]
  },
  {
   "cell_type": "code",
   "execution_count": 5,
   "id": "d31ecb4c",
   "metadata": {},
   "outputs": [],
   "source": [
    "import pathlib # for processing a path e.g c:\\documents\\files\\testset.csv\n",
    "import matplotlib.pyplot as plt # for plotting data and creating different charts.\n",
    "import numpy as np # for math and arrays\n",
    "import pandas as pd # data frame for the data.\n",
    "import seaborn as sns # plotting."
   ]
  },
  {
   "cell_type": "markdown",
   "id": "158856ce",
   "metadata": {},
   "source": [
    "### Read dataset"
   ]
  },
  {
   "cell_type": "code",
   "execution_count": 6,
   "id": "5237014e",
   "metadata": {},
   "outputs": [],
   "source": [
    "\n",
    "dataset = pd.read_csv('dataset2.csv')"
   ]
  },
  {
   "cell_type": "markdown",
   "id": "0ef50c1b",
   "metadata": {},
   "source": [
    "### display dataset"
   ]
  },
  {
   "cell_type": "code",
   "execution_count": 7,
   "id": "912f8f08",
   "metadata": {
    "scrolled": true
   },
   "outputs": [
    {
     "data": {
      "text/html": [
       "<div>\n",
       "<style scoped>\n",
       "    .dataframe tbody tr th:only-of-type {\n",
       "        vertical-align: middle;\n",
       "    }\n",
       "\n",
       "    .dataframe tbody tr th {\n",
       "        vertical-align: top;\n",
       "    }\n",
       "\n",
       "    .dataframe thead th {\n",
       "        text-align: right;\n",
       "    }\n",
       "</style>\n",
       "<table border=\"1\" class=\"dataframe\">\n",
       "  <thead>\n",
       "    <tr style=\"text-align: right;\">\n",
       "      <th></th>\n",
       "      <th>DATE</th>\n",
       "      <th>MAXIMUM-TEMPERATURE</th>\n",
       "      <th>MINIMUM-TEMPERATURE</th>\n",
       "      <th>WIND-DIRECTION</th>\n",
       "      <th>WIND-SPEED</th>\n",
       "      <th>WIND-RUN</th>\n",
       "      <th>RELATIVE-HUMIDITY</th>\n",
       "      <th>AIR-PRESSURE</th>\n",
       "    </tr>\n",
       "  </thead>\n",
       "  <tbody>\n",
       "    <tr>\n",
       "      <th>0</th>\n",
       "      <td>Jan-95</td>\n",
       "      <td>33.3</td>\n",
       "      <td>16.4</td>\n",
       "      <td>73</td>\n",
       "      <td>2.0</td>\n",
       "      <td>NaN</td>\n",
       "      <td>27</td>\n",
       "      <td>1014.5</td>\n",
       "    </tr>\n",
       "    <tr>\n",
       "      <th>1</th>\n",
       "      <td>Feb-95</td>\n",
       "      <td>35.9</td>\n",
       "      <td>18.6</td>\n",
       "      <td>123</td>\n",
       "      <td>3.0</td>\n",
       "      <td>NaN</td>\n",
       "      <td>23</td>\n",
       "      <td>1013.7</td>\n",
       "    </tr>\n",
       "    <tr>\n",
       "      <th>2</th>\n",
       "      <td>Mar-95</td>\n",
       "      <td>40.5</td>\n",
       "      <td>25.0</td>\n",
       "      <td>191</td>\n",
       "      <td>3.0</td>\n",
       "      <td>NaN</td>\n",
       "      <td>32</td>\n",
       "      <td>1009.1</td>\n",
       "    </tr>\n",
       "    <tr>\n",
       "      <th>3</th>\n",
       "      <td>Apr-95</td>\n",
       "      <td>40.1</td>\n",
       "      <td>27.2</td>\n",
       "      <td>196</td>\n",
       "      <td>4.0</td>\n",
       "      <td>NaN</td>\n",
       "      <td>43</td>\n",
       "      <td>1010.5</td>\n",
       "    </tr>\n",
       "    <tr>\n",
       "      <th>4</th>\n",
       "      <td>May-95</td>\n",
       "      <td>36.8</td>\n",
       "      <td>25.7</td>\n",
       "      <td>155</td>\n",
       "      <td>3.0</td>\n",
       "      <td>NaN</td>\n",
       "      <td>61</td>\n",
       "      <td>1010.3</td>\n",
       "    </tr>\n",
       "    <tr>\n",
       "      <th>...</th>\n",
       "      <td>...</td>\n",
       "      <td>...</td>\n",
       "      <td>...</td>\n",
       "      <td>...</td>\n",
       "      <td>...</td>\n",
       "      <td>...</td>\n",
       "      <td>...</td>\n",
       "      <td>...</td>\n",
       "    </tr>\n",
       "    <tr>\n",
       "      <th>303</th>\n",
       "      <td>NaN</td>\n",
       "      <td>40.7</td>\n",
       "      <td>29.4</td>\n",
       "      <td>270</td>\n",
       "      <td>1.5</td>\n",
       "      <td>47.4</td>\n",
       "      <td>48</td>\n",
       "      <td>1003.3</td>\n",
       "    </tr>\n",
       "    <tr>\n",
       "      <th>304</th>\n",
       "      <td>NaN</td>\n",
       "      <td>37.7</td>\n",
       "      <td>27.2</td>\n",
       "      <td>240</td>\n",
       "      <td>2.1</td>\n",
       "      <td>52.8</td>\n",
       "      <td>61</td>\n",
       "      <td>1005.7</td>\n",
       "    </tr>\n",
       "    <tr>\n",
       "      <th>305</th>\n",
       "      <td>NaN</td>\n",
       "      <td>33.8</td>\n",
       "      <td>25.4</td>\n",
       "      <td>230</td>\n",
       "      <td>1.9</td>\n",
       "      <td>52.1</td>\n",
       "      <td>72</td>\n",
       "      <td>1008.3</td>\n",
       "    </tr>\n",
       "    <tr>\n",
       "      <th>306</th>\n",
       "      <td>NaN</td>\n",
       "      <td>31.5</td>\n",
       "      <td>24.2</td>\n",
       "      <td>220</td>\n",
       "      <td>1.9</td>\n",
       "      <td>46.4</td>\n",
       "      <td>79</td>\n",
       "      <td>1010.0</td>\n",
       "    </tr>\n",
       "    <tr>\n",
       "      <th>307</th>\n",
       "      <td>NaN</td>\n",
       "      <td>31.8</td>\n",
       "      <td>24.4</td>\n",
       "      <td>270</td>\n",
       "      <td>1.6</td>\n",
       "      <td>42.4</td>\n",
       "      <td>76</td>\n",
       "      <td>1009.6</td>\n",
       "    </tr>\n",
       "  </tbody>\n",
       "</table>\n",
       "<p>308 rows × 8 columns</p>\n",
       "</div>"
      ],
      "text/plain": [
       "       DATE  MAXIMUM-TEMPERATURE  MINIMUM-TEMPERATURE  WIND-DIRECTION  \\\n",
       "0    Jan-95                 33.3                 16.4              73   \n",
       "1    Feb-95                 35.9                 18.6             123   \n",
       "2    Mar-95                 40.5                 25.0             191   \n",
       "3    Apr-95                 40.1                 27.2             196   \n",
       "4    May-95                 36.8                 25.7             155   \n",
       "..      ...                  ...                  ...             ...   \n",
       "303     NaN                 40.7                 29.4             270   \n",
       "304     NaN                 37.7                 27.2             240   \n",
       "305     NaN                 33.8                 25.4             230   \n",
       "306     NaN                 31.5                 24.2             220   \n",
       "307     NaN                 31.8                 24.4             270   \n",
       "\n",
       "     WIND-SPEED  WIND-RUN  RELATIVE-HUMIDITY  AIR-PRESSURE  \n",
       "0           2.0       NaN                 27        1014.5  \n",
       "1           3.0       NaN                 23        1013.7  \n",
       "2           3.0       NaN                 32        1009.1  \n",
       "3           4.0       NaN                 43        1010.5  \n",
       "4           3.0       NaN                 61        1010.3  \n",
       "..          ...       ...                ...           ...  \n",
       "303         1.5      47.4                 48        1003.3  \n",
       "304         2.1      52.8                 61        1005.7  \n",
       "305         1.9      52.1                 72        1008.3  \n",
       "306         1.9      46.4                 79        1010.0  \n",
       "307         1.6      42.4                 76        1009.6  \n",
       "\n",
       "[308 rows x 8 columns]"
      ]
     },
     "execution_count": 7,
     "metadata": {},
     "output_type": "execute_result"
    }
   ],
   "source": [
    "true_values = dataset['WIND-DIRECTION']\n",
    "dataset.head(-10)"
   ]
  },
  {
   "cell_type": "markdown",
   "id": "653dc3f5",
   "metadata": {},
   "source": [
    "### dataset characteristics"
   ]
  },
  {
   "cell_type": "code",
   "execution_count": 8,
   "id": "9259209e",
   "metadata": {
    "scrolled": true
   },
   "outputs": [
    {
     "data": {
      "text/html": [
       "<div>\n",
       "<style scoped>\n",
       "    .dataframe tbody tr th:only-of-type {\n",
       "        vertical-align: middle;\n",
       "    }\n",
       "\n",
       "    .dataframe tbody tr th {\n",
       "        vertical-align: top;\n",
       "    }\n",
       "\n",
       "    .dataframe thead th {\n",
       "        text-align: right;\n",
       "    }\n",
       "</style>\n",
       "<table border=\"1\" class=\"dataframe\">\n",
       "  <thead>\n",
       "    <tr style=\"text-align: right;\">\n",
       "      <th></th>\n",
       "      <th>MAXIMUM-TEMPERATURE</th>\n",
       "      <th>MINIMUM-TEMPERATURE</th>\n",
       "      <th>WIND-DIRECTION</th>\n",
       "      <th>WIND-SPEED</th>\n",
       "      <th>WIND-RUN</th>\n",
       "      <th>RELATIVE-HUMIDITY</th>\n",
       "      <th>AIR-PRESSURE</th>\n",
       "    </tr>\n",
       "  </thead>\n",
       "  <tbody>\n",
       "    <tr>\n",
       "      <th>count</th>\n",
       "      <td>318.000000</td>\n",
       "      <td>318.000000</td>\n",
       "      <td>318.000000</td>\n",
       "      <td>318.000000</td>\n",
       "      <td>66.000000</td>\n",
       "      <td>318.000000</td>\n",
       "      <td>318.000000</td>\n",
       "    </tr>\n",
       "    <tr>\n",
       "      <th>mean</th>\n",
       "      <td>35.168868</td>\n",
       "      <td>23.039937</td>\n",
       "      <td>165.679245</td>\n",
       "      <td>3.449686</td>\n",
       "      <td>48.207576</td>\n",
       "      <td>53.556604</td>\n",
       "      <td>1011.990566</td>\n",
       "    </tr>\n",
       "    <tr>\n",
       "      <th>std</th>\n",
       "      <td>3.219431</td>\n",
       "      <td>3.183020</td>\n",
       "      <td>54.287681</td>\n",
       "      <td>1.456645</td>\n",
       "      <td>16.390328</td>\n",
       "      <td>21.502584</td>\n",
       "      <td>3.587883</td>\n",
       "    </tr>\n",
       "    <tr>\n",
       "      <th>min</th>\n",
       "      <td>28.500000</td>\n",
       "      <td>13.900000</td>\n",
       "      <td>58.000000</td>\n",
       "      <td>0.000000</td>\n",
       "      <td>18.900000</td>\n",
       "      <td>11.000000</td>\n",
       "      <td>1002.300000</td>\n",
       "    </tr>\n",
       "    <tr>\n",
       "      <th>25%</th>\n",
       "      <td>32.200000</td>\n",
       "      <td>21.000000</td>\n",
       "      <td>120.000000</td>\n",
       "      <td>2.225000</td>\n",
       "      <td>33.300000</td>\n",
       "      <td>32.000000</td>\n",
       "      <td>1010.400000</td>\n",
       "    </tr>\n",
       "    <tr>\n",
       "      <th>50%</th>\n",
       "      <td>35.000000</td>\n",
       "      <td>23.600000</td>\n",
       "      <td>163.500000</td>\n",
       "      <td>3.000000</td>\n",
       "      <td>47.600000</td>\n",
       "      <td>54.000000</td>\n",
       "      <td>1013.200000</td>\n",
       "    </tr>\n",
       "    <tr>\n",
       "      <th>75%</th>\n",
       "      <td>37.300000</td>\n",
       "      <td>25.000000</td>\n",
       "      <td>204.750000</td>\n",
       "      <td>4.000000</td>\n",
       "      <td>61.350000</td>\n",
       "      <td>75.000000</td>\n",
       "      <td>1014.300000</td>\n",
       "    </tr>\n",
       "    <tr>\n",
       "      <th>max</th>\n",
       "      <td>41.900000</td>\n",
       "      <td>29.400000</td>\n",
       "      <td>307.000000</td>\n",
       "      <td>12.000000</td>\n",
       "      <td>98.300000</td>\n",
       "      <td>85.000000</td>\n",
       "      <td>1036.000000</td>\n",
       "    </tr>\n",
       "  </tbody>\n",
       "</table>\n",
       "</div>"
      ],
      "text/plain": [
       "       MAXIMUM-TEMPERATURE  MINIMUM-TEMPERATURE  WIND-DIRECTION  WIND-SPEED  \\\n",
       "count           318.000000           318.000000      318.000000  318.000000   \n",
       "mean             35.168868            23.039937      165.679245    3.449686   \n",
       "std               3.219431             3.183020       54.287681    1.456645   \n",
       "min              28.500000            13.900000       58.000000    0.000000   \n",
       "25%              32.200000            21.000000      120.000000    2.225000   \n",
       "50%              35.000000            23.600000      163.500000    3.000000   \n",
       "75%              37.300000            25.000000      204.750000    4.000000   \n",
       "max              41.900000            29.400000      307.000000   12.000000   \n",
       "\n",
       "        WIND-RUN  RELATIVE-HUMIDITY  AIR-PRESSURE  \n",
       "count  66.000000         318.000000    318.000000  \n",
       "mean   48.207576          53.556604   1011.990566  \n",
       "std    16.390328          21.502584      3.587883  \n",
       "min    18.900000          11.000000   1002.300000  \n",
       "25%    33.300000          32.000000   1010.400000  \n",
       "50%    47.600000          54.000000   1013.200000  \n",
       "75%    61.350000          75.000000   1014.300000  \n",
       "max    98.300000          85.000000   1036.000000  "
      ]
     },
     "execution_count": 8,
     "metadata": {},
     "output_type": "execute_result"
    }
   ],
   "source": [
    "\n",
    "dataset.describe()"
   ]
  },
  {
   "cell_type": "markdown",
   "id": "08ce4100",
   "metadata": {},
   "source": [
    "### Check for null and NaN values"
   ]
  },
  {
   "cell_type": "code",
   "execution_count": 9,
   "id": "24bba101",
   "metadata": {},
   "outputs": [
    {
     "data": {
      "text/plain": [
       "DATE                   113\n",
       "MAXIMUM-TEMPERATURE      0\n",
       "MINIMUM-TEMPERATURE      0\n",
       "WIND-DIRECTION           0\n",
       "WIND-SPEED               0\n",
       "WIND-RUN               252\n",
       "RELATIVE-HUMIDITY        0\n",
       "AIR-PRESSURE             0\n",
       "dtype: int64"
      ]
     },
     "execution_count": 9,
     "metadata": {},
     "output_type": "execute_result"
    }
   ],
   "source": [
    "\n",
    "dataset.isna().sum()"
   ]
  },
  {
   "cell_type": "code",
   "execution_count": 10,
   "id": "081c2667",
   "metadata": {},
   "outputs": [],
   "source": [
    "median =dataset['WIND-RUN'].median()\n",
    "median\n",
    "dataset[\"WIND-RUN\"].fillna(median, inplace=True)"
   ]
  },
  {
   "cell_type": "markdown",
   "id": "27a01151",
   "metadata": {},
   "source": [
    "### copy dataset"
   ]
  },
  {
   "cell_type": "code",
   "execution_count": 11,
   "id": "9e6fb94d",
   "metadata": {},
   "outputs": [
    {
     "data": {
      "text/html": [
       "<div>\n",
       "<style scoped>\n",
       "    .dataframe tbody tr th:only-of-type {\n",
       "        vertical-align: middle;\n",
       "    }\n",
       "\n",
       "    .dataframe tbody tr th {\n",
       "        vertical-align: top;\n",
       "    }\n",
       "\n",
       "    .dataframe thead th {\n",
       "        text-align: right;\n",
       "    }\n",
       "</style>\n",
       "<table border=\"1\" class=\"dataframe\">\n",
       "  <thead>\n",
       "    <tr style=\"text-align: right;\">\n",
       "      <th></th>\n",
       "      <th>DATE</th>\n",
       "      <th>MAXIMUM-TEMPERATURE</th>\n",
       "      <th>MINIMUM-TEMPERATURE</th>\n",
       "      <th>WIND-DIRECTION</th>\n",
       "      <th>WIND-SPEED</th>\n",
       "      <th>WIND-RUN</th>\n",
       "      <th>RELATIVE-HUMIDITY</th>\n",
       "      <th>AIR-PRESSURE</th>\n",
       "    </tr>\n",
       "  </thead>\n",
       "  <tbody>\n",
       "    <tr>\n",
       "      <th>0</th>\n",
       "      <td>Jan-95</td>\n",
       "      <td>33.3</td>\n",
       "      <td>16.4</td>\n",
       "      <td>73</td>\n",
       "      <td>2.0</td>\n",
       "      <td>47.6</td>\n",
       "      <td>27</td>\n",
       "      <td>1014.5</td>\n",
       "    </tr>\n",
       "    <tr>\n",
       "      <th>1</th>\n",
       "      <td>Feb-95</td>\n",
       "      <td>35.9</td>\n",
       "      <td>18.6</td>\n",
       "      <td>123</td>\n",
       "      <td>3.0</td>\n",
       "      <td>47.6</td>\n",
       "      <td>23</td>\n",
       "      <td>1013.7</td>\n",
       "    </tr>\n",
       "    <tr>\n",
       "      <th>2</th>\n",
       "      <td>Mar-95</td>\n",
       "      <td>40.5</td>\n",
       "      <td>25.0</td>\n",
       "      <td>191</td>\n",
       "      <td>3.0</td>\n",
       "      <td>47.6</td>\n",
       "      <td>32</td>\n",
       "      <td>1009.1</td>\n",
       "    </tr>\n",
       "    <tr>\n",
       "      <th>3</th>\n",
       "      <td>Apr-95</td>\n",
       "      <td>40.1</td>\n",
       "      <td>27.2</td>\n",
       "      <td>196</td>\n",
       "      <td>4.0</td>\n",
       "      <td>47.6</td>\n",
       "      <td>43</td>\n",
       "      <td>1010.5</td>\n",
       "    </tr>\n",
       "    <tr>\n",
       "      <th>4</th>\n",
       "      <td>May-95</td>\n",
       "      <td>36.8</td>\n",
       "      <td>25.7</td>\n",
       "      <td>155</td>\n",
       "      <td>3.0</td>\n",
       "      <td>47.6</td>\n",
       "      <td>61</td>\n",
       "      <td>1010.3</td>\n",
       "    </tr>\n",
       "    <tr>\n",
       "      <th>...</th>\n",
       "      <td>...</td>\n",
       "      <td>...</td>\n",
       "      <td>...</td>\n",
       "      <td>...</td>\n",
       "      <td>...</td>\n",
       "      <td>...</td>\n",
       "      <td>...</td>\n",
       "      <td>...</td>\n",
       "    </tr>\n",
       "    <tr>\n",
       "      <th>303</th>\n",
       "      <td>NaN</td>\n",
       "      <td>40.7</td>\n",
       "      <td>29.4</td>\n",
       "      <td>270</td>\n",
       "      <td>1.5</td>\n",
       "      <td>47.4</td>\n",
       "      <td>48</td>\n",
       "      <td>1003.3</td>\n",
       "    </tr>\n",
       "    <tr>\n",
       "      <th>304</th>\n",
       "      <td>NaN</td>\n",
       "      <td>37.7</td>\n",
       "      <td>27.2</td>\n",
       "      <td>240</td>\n",
       "      <td>2.1</td>\n",
       "      <td>52.8</td>\n",
       "      <td>61</td>\n",
       "      <td>1005.7</td>\n",
       "    </tr>\n",
       "    <tr>\n",
       "      <th>305</th>\n",
       "      <td>NaN</td>\n",
       "      <td>33.8</td>\n",
       "      <td>25.4</td>\n",
       "      <td>230</td>\n",
       "      <td>1.9</td>\n",
       "      <td>52.1</td>\n",
       "      <td>72</td>\n",
       "      <td>1008.3</td>\n",
       "    </tr>\n",
       "    <tr>\n",
       "      <th>306</th>\n",
       "      <td>NaN</td>\n",
       "      <td>31.5</td>\n",
       "      <td>24.2</td>\n",
       "      <td>220</td>\n",
       "      <td>1.9</td>\n",
       "      <td>46.4</td>\n",
       "      <td>79</td>\n",
       "      <td>1010.0</td>\n",
       "    </tr>\n",
       "    <tr>\n",
       "      <th>307</th>\n",
       "      <td>NaN</td>\n",
       "      <td>31.8</td>\n",
       "      <td>24.4</td>\n",
       "      <td>270</td>\n",
       "      <td>1.6</td>\n",
       "      <td>42.4</td>\n",
       "      <td>76</td>\n",
       "      <td>1009.6</td>\n",
       "    </tr>\n",
       "  </tbody>\n",
       "</table>\n",
       "<p>308 rows × 8 columns</p>\n",
       "</div>"
      ],
      "text/plain": [
       "       DATE  MAXIMUM-TEMPERATURE  MINIMUM-TEMPERATURE  WIND-DIRECTION  \\\n",
       "0    Jan-95                 33.3                 16.4              73   \n",
       "1    Feb-95                 35.9                 18.6             123   \n",
       "2    Mar-95                 40.5                 25.0             191   \n",
       "3    Apr-95                 40.1                 27.2             196   \n",
       "4    May-95                 36.8                 25.7             155   \n",
       "..      ...                  ...                  ...             ...   \n",
       "303     NaN                 40.7                 29.4             270   \n",
       "304     NaN                 37.7                 27.2             240   \n",
       "305     NaN                 33.8                 25.4             230   \n",
       "306     NaN                 31.5                 24.2             220   \n",
       "307     NaN                 31.8                 24.4             270   \n",
       "\n",
       "     WIND-SPEED  WIND-RUN  RELATIVE-HUMIDITY  AIR-PRESSURE  \n",
       "0           2.0      47.6                 27        1014.5  \n",
       "1           3.0      47.6                 23        1013.7  \n",
       "2           3.0      47.6                 32        1009.1  \n",
       "3           4.0      47.6                 43        1010.5  \n",
       "4           3.0      47.6                 61        1010.3  \n",
       "..          ...       ...                ...           ...  \n",
       "303         1.5      47.4                 48        1003.3  \n",
       "304         2.1      52.8                 61        1005.7  \n",
       "305         1.9      52.1                 72        1008.3  \n",
       "306         1.9      46.4                 79        1010.0  \n",
       "307         1.6      42.4                 76        1009.6  \n",
       "\n",
       "[308 rows x 8 columns]"
      ]
     },
     "execution_count": 11,
     "metadata": {},
     "output_type": "execute_result"
    }
   ],
   "source": [
    "dataset.head(-10)"
   ]
  },
  {
   "cell_type": "code",
   "execution_count": 12,
   "id": "54259a0e",
   "metadata": {},
   "outputs": [],
   "source": [
    "\n",
    "df = dataset[:]"
   ]
  },
  {
   "cell_type": "markdown",
   "id": "6de953ce",
   "metadata": {},
   "source": [
    "### remove the date column"
   ]
  },
  {
   "cell_type": "code",
   "execution_count": 13,
   "id": "f8fb6f78",
   "metadata": {},
   "outputs": [],
   "source": [
    "\n",
    "del df['DATE']"
   ]
  },
  {
   "cell_type": "code",
   "execution_count": 14,
   "id": "c34b6014",
   "metadata": {},
   "outputs": [
    {
     "data": {
      "text/html": [
       "<div>\n",
       "<style scoped>\n",
       "    .dataframe tbody tr th:only-of-type {\n",
       "        vertical-align: middle;\n",
       "    }\n",
       "\n",
       "    .dataframe tbody tr th {\n",
       "        vertical-align: top;\n",
       "    }\n",
       "\n",
       "    .dataframe thead th {\n",
       "        text-align: right;\n",
       "    }\n",
       "</style>\n",
       "<table border=\"1\" class=\"dataframe\">\n",
       "  <thead>\n",
       "    <tr style=\"text-align: right;\">\n",
       "      <th></th>\n",
       "      <th>MAXIMUM-TEMPERATURE</th>\n",
       "      <th>MINIMUM-TEMPERATURE</th>\n",
       "      <th>WIND-DIRECTION</th>\n",
       "      <th>WIND-SPEED</th>\n",
       "      <th>WIND-RUN</th>\n",
       "      <th>RELATIVE-HUMIDITY</th>\n",
       "      <th>AIR-PRESSURE</th>\n",
       "    </tr>\n",
       "  </thead>\n",
       "  <tbody>\n",
       "    <tr>\n",
       "      <th>0</th>\n",
       "      <td>33.3</td>\n",
       "      <td>16.4</td>\n",
       "      <td>73</td>\n",
       "      <td>2.0</td>\n",
       "      <td>47.6</td>\n",
       "      <td>27</td>\n",
       "      <td>1014.5</td>\n",
       "    </tr>\n",
       "    <tr>\n",
       "      <th>1</th>\n",
       "      <td>35.9</td>\n",
       "      <td>18.6</td>\n",
       "      <td>123</td>\n",
       "      <td>3.0</td>\n",
       "      <td>47.6</td>\n",
       "      <td>23</td>\n",
       "      <td>1013.7</td>\n",
       "    </tr>\n",
       "    <tr>\n",
       "      <th>2</th>\n",
       "      <td>40.5</td>\n",
       "      <td>25.0</td>\n",
       "      <td>191</td>\n",
       "      <td>3.0</td>\n",
       "      <td>47.6</td>\n",
       "      <td>32</td>\n",
       "      <td>1009.1</td>\n",
       "    </tr>\n",
       "    <tr>\n",
       "      <th>3</th>\n",
       "      <td>40.1</td>\n",
       "      <td>27.2</td>\n",
       "      <td>196</td>\n",
       "      <td>4.0</td>\n",
       "      <td>47.6</td>\n",
       "      <td>43</td>\n",
       "      <td>1010.5</td>\n",
       "    </tr>\n",
       "    <tr>\n",
       "      <th>4</th>\n",
       "      <td>36.8</td>\n",
       "      <td>25.7</td>\n",
       "      <td>155</td>\n",
       "      <td>3.0</td>\n",
       "      <td>47.6</td>\n",
       "      <td>61</td>\n",
       "      <td>1010.3</td>\n",
       "    </tr>\n",
       "    <tr>\n",
       "      <th>...</th>\n",
       "      <td>...</td>\n",
       "      <td>...</td>\n",
       "      <td>...</td>\n",
       "      <td>...</td>\n",
       "      <td>...</td>\n",
       "      <td>...</td>\n",
       "      <td>...</td>\n",
       "    </tr>\n",
       "    <tr>\n",
       "      <th>313</th>\n",
       "      <td>36.0</td>\n",
       "      <td>22.4</td>\n",
       "      <td>170</td>\n",
       "      <td>3.4</td>\n",
       "      <td>63.7</td>\n",
       "      <td>26</td>\n",
       "      <td>1006.9</td>\n",
       "    </tr>\n",
       "    <tr>\n",
       "      <th>314</th>\n",
       "      <td>39.7</td>\n",
       "      <td>26.1</td>\n",
       "      <td>220</td>\n",
       "      <td>2.1</td>\n",
       "      <td>73.7</td>\n",
       "      <td>35</td>\n",
       "      <td>1005.6</td>\n",
       "    </tr>\n",
       "    <tr>\n",
       "      <th>315</th>\n",
       "      <td>39.7</td>\n",
       "      <td>28.8</td>\n",
       "      <td>200</td>\n",
       "      <td>4.6</td>\n",
       "      <td>84.2</td>\n",
       "      <td>65</td>\n",
       "      <td>1002.6</td>\n",
       "    </tr>\n",
       "    <tr>\n",
       "      <th>316</th>\n",
       "      <td>35.6</td>\n",
       "      <td>25.3</td>\n",
       "      <td>130</td>\n",
       "      <td>2.6</td>\n",
       "      <td>98.3</td>\n",
       "      <td>75</td>\n",
       "      <td>1005.4</td>\n",
       "    </tr>\n",
       "    <tr>\n",
       "      <th>317</th>\n",
       "      <td>32.8</td>\n",
       "      <td>23.8</td>\n",
       "      <td>160</td>\n",
       "      <td>3.6</td>\n",
       "      <td>18.9</td>\n",
       "      <td>77</td>\n",
       "      <td>1007.6</td>\n",
       "    </tr>\n",
       "  </tbody>\n",
       "</table>\n",
       "<p>318 rows × 7 columns</p>\n",
       "</div>"
      ],
      "text/plain": [
       "     MAXIMUM-TEMPERATURE  MINIMUM-TEMPERATURE  WIND-DIRECTION  WIND-SPEED  \\\n",
       "0                   33.3                 16.4              73         2.0   \n",
       "1                   35.9                 18.6             123         3.0   \n",
       "2                   40.5                 25.0             191         3.0   \n",
       "3                   40.1                 27.2             196         4.0   \n",
       "4                   36.8                 25.7             155         3.0   \n",
       "..                   ...                  ...             ...         ...   \n",
       "313                 36.0                 22.4             170         3.4   \n",
       "314                 39.7                 26.1             220         2.1   \n",
       "315                 39.7                 28.8             200         4.6   \n",
       "316                 35.6                 25.3             130         2.6   \n",
       "317                 32.8                 23.8             160         3.6   \n",
       "\n",
       "     WIND-RUN  RELATIVE-HUMIDITY  AIR-PRESSURE  \n",
       "0        47.6                 27        1014.5  \n",
       "1        47.6                 23        1013.7  \n",
       "2        47.6                 32        1009.1  \n",
       "3        47.6                 43        1010.5  \n",
       "4        47.6                 61        1010.3  \n",
       "..        ...                ...           ...  \n",
       "313      63.7                 26        1006.9  \n",
       "314      73.7                 35        1005.6  \n",
       "315      84.2                 65        1002.6  \n",
       "316      98.3                 75        1005.4  \n",
       "317      18.9                 77        1007.6  \n",
       "\n",
       "[318 rows x 7 columns]"
      ]
     },
     "execution_count": 14,
     "metadata": {},
     "output_type": "execute_result"
    }
   ],
   "source": [
    "df"
   ]
  },
  {
   "cell_type": "code",
   "execution_count": 15,
   "id": "40a1385f",
   "metadata": {},
   "outputs": [
    {
     "name": "stdout",
     "output_type": "stream",
     "text": [
      "Number of rows/example and columns in the dataset: (318, 7)\n"
     ]
    }
   ],
   "source": [
    "print(f'Number of rows/example and columns in the dataset: {df.shape}')"
   ]
  },
  {
   "cell_type": "markdown",
   "id": "d39cd5d8",
   "metadata": {},
   "source": [
    "### Summary of information on the dataset."
   ]
  },
  {
   "cell_type": "code",
   "execution_count": 16,
   "id": "c577548b",
   "metadata": {},
   "outputs": [
    {
     "name": "stdout",
     "output_type": "stream",
     "text": [
      "<class 'pandas.core.frame.DataFrame'>\n",
      "RangeIndex: 318 entries, 0 to 317\n",
      "Data columns (total 7 columns):\n",
      " #   Column               Non-Null Count  Dtype  \n",
      "---  ------               --------------  -----  \n",
      " 0   MAXIMUM-TEMPERATURE  318 non-null    float64\n",
      " 1   MINIMUM-TEMPERATURE  318 non-null    float64\n",
      " 2   WIND-DIRECTION       318 non-null    int64  \n",
      " 3   WIND-SPEED           318 non-null    float64\n",
      " 4   WIND-RUN             318 non-null    float64\n",
      " 5   RELATIVE-HUMIDITY    318 non-null    int64  \n",
      " 6   AIR-PRESSURE         318 non-null    float64\n",
      "dtypes: float64(5), int64(2)\n",
      "memory usage: 17.5 KB\n"
     ]
    }
   ],
   "source": [
    "\n",
    "df.info()"
   ]
  },
  {
   "cell_type": "markdown",
   "id": "11194c45",
   "metadata": {},
   "source": [
    "### Split the data into train/test splits"
   ]
  },
  {
   "cell_type": "markdown",
   "id": "339fc7fa",
   "metadata": {},
   "source": [
    "#### Split the data into 60% train and 40% test (later will divide the test to test and validate)"
   ]
  },
  {
   "cell_type": "code",
   "execution_count": 17,
   "id": "46825662",
   "metadata": {},
   "outputs": [
    {
     "name": "stdout",
     "output_type": "stream",
     "text": [
      "(190, 7)\n",
      "(128, 7)\n"
     ]
    }
   ],
   "source": [
    "\n",
    "train_dataset, temp_test_dataset = train_test_split(df, test_size=0.4)\n",
    "\n",
    "print( train_dataset.shape)\n",
    "print( temp_test_dataset.shape)"
   ]
  },
  {
   "cell_type": "markdown",
   "id": "c4de9fc9",
   "metadata": {},
   "source": [
    "### Split the test_dataset dataframe to 50% test and 50% validation."
   ]
  },
  {
   "cell_type": "code",
   "execution_count": 18,
   "id": "1da13eb0",
   "metadata": {},
   "outputs": [
    {
     "name": "stdout",
     "output_type": "stream",
     "text": [
      "(64, 7)\n",
      "(64, 7)\n"
     ]
    }
   ],
   "source": [
    "\n",
    "test_dataset, valid_dataset = train_test_split(temp_test_dataset, test_size=0.5)\n",
    "print(test_dataset.shape)\n",
    "print(valid_dataset.shape)"
   ]
  },
  {
   "cell_type": "code",
   "execution_count": 19,
   "id": "7c5a2b6d",
   "metadata": {},
   "outputs": [
    {
     "name": "stdout",
     "output_type": "stream",
     "text": [
      "Display the datatype of the test_dataset: <class 'pandas.core.frame.DataFrame'>\n",
      "Train dataset      : (190, 7)\n",
      "Test dataset       : (64, 7)\n",
      "Validation dataset : (64, 7)\n"
     ]
    }
   ],
   "source": [
    "print(f\"Display the datatype of the test_dataset: {type(test_dataset)}\")\n",
    "print(f\"Train dataset      : {train_dataset.shape}\")\n",
    "print(f\"Test dataset       : {test_dataset.shape}\")\n",
    "print(f\"Validation dataset : {valid_dataset.shape}\")"
   ]
  },
  {
   "cell_type": "markdown",
   "id": "7ea98bc3",
   "metadata": {},
   "source": [
    "## Plot the relationship between each two variables to spot anything incorrect."
   ]
  },
  {
   "cell_type": "code",
   "execution_count": 20,
   "id": "08975b87",
   "metadata": {},
   "outputs": [
    {
     "data": {
      "text/plain": [
       "<seaborn.axisgrid.PairGrid at 0x13e40043340>"
      ]
     },
     "execution_count": 20,
     "metadata": {},
     "output_type": "execute_result"
    },
    {
     "data": {
      "image/png": "[encoded data removed]",
      "text/plain": [
       "<Figure size 1080x1080 with 42 Axes>"
      ]
     },
     "metadata": {
      "needs_background": "light"
     },
     "output_type": "display_data"
    }
   ],
   "source": [
    "\n",
    "train_stats = train_dataset.describe()\n",
    "train_stats.pop(\"WIND-DIRECTION\")\n",
    "sns.pairplot(train_stats[train_stats.columns], diag_kind=\"kde\") # or diag_kind='reg'"
   ]
  },
  {
   "cell_type": "markdown",
   "id": "d2403de2",
   "metadata": {},
   "source": [
    "### Statistics on the train dataset to make sure it in a good shape"
   ]
  },
  {
   "cell_type": "code",
   "execution_count": 21,
   "id": "4fd48f24",
   "metadata": {},
   "outputs": [
    {
     "data": {
      "text/plain": [
       "count    190.000000\n",
       "mean     164.957895\n",
       "std       56.195881\n",
       "min       58.000000\n",
       "25%      120.000000\n",
       "50%      161.500000\n",
       "75%      207.750000\n",
       "max      307.000000\n",
       "Name: WIND-DIRECTION, dtype: float64"
      ]
     },
     "execution_count": 21,
     "metadata": {},
     "output_type": "execute_result"
    }
   ],
   "source": [
    "\n",
    "train_stats = train_dataset.describe()\n",
    "wind_direction=train_stats.pop(\"WIND-DIRECTION\")\n",
    "train_stats = train_stats.transpose()\n",
    "#train_stats\n",
    "wind_direction"
   ]
  },
  {
   "cell_type": "markdown",
   "id": "96bdbcc9",
   "metadata": {},
   "source": [
    "## The label is \"WIND-DIRECTION\""
   ]
  },
  {
   "cell_type": "code",
   "execution_count": 22,
   "id": "172a0253",
   "metadata": {},
   "outputs": [],
   "source": [
    "train_labels = train_dataset.pop('WIND-DIRECTION')\n",
    "test_labels = test_dataset.pop('WIND-DIRECTION')\n",
    "valid_labels = valid_dataset.pop('WIND-DIRECTION')"
   ]
  },
  {
   "cell_type": "markdown",
   "id": "8f526c2f",
   "metadata": {},
   "source": [
    "## Data Normalization/Scaling"
   ]
  },
  {
   "cell_type": "markdown",
   "id": "d1f7c8cc",
   "metadata": {},
   "source": [
    "### define a function to normalize the data set."
   ]
  },
  {
   "cell_type": "code",
   "execution_count": 23,
   "id": "5c2999c8",
   "metadata": {},
   "outputs": [
    {
     "name": "stderr",
     "output_type": "stream",
     "text": [
      "c:\\users\\hp\\appdata\\local\\programs\\python\\python39\\lib\\site-packages\\pandas\\core\\frame.py:3607: SettingWithCopyWarning: \n",
      "A value is trying to be set on a copy of a slice from a DataFrame.\n",
      "Try using .loc[row_indexer,col_indexer] = value instead\n",
      "\n",
      "See the caveats in the documentation: https://pandas.pydata.org/pandas-docs/stable/user_guide/indexing.html#returning-a-view-versus-a-copy\n",
      "  self._set_item(key, value)\n",
      "c:\\users\\hp\\appdata\\local\\programs\\python\\python39\\lib\\site-packages\\pandas\\core\\frame.py:3607: SettingWithCopyWarning: \n",
      "A value is trying to be set on a copy of a slice from a DataFrame.\n",
      "Try using .loc[row_indexer,col_indexer] = value instead\n",
      "\n",
      "See the caveats in the documentation: https://pandas.pydata.org/pandas-docs/stable/user_guide/indexing.html#returning-a-view-versus-a-copy\n",
      "  self._set_item(key, value)\n",
      "c:\\users\\hp\\appdata\\local\\programs\\python\\python39\\lib\\site-packages\\pandas\\core\\frame.py:3607: SettingWithCopyWarning: \n",
      "A value is trying to be set on a copy of a slice from a DataFrame.\n",
      "Try using .loc[row_indexer,col_indexer] = value instead\n",
      "\n",
      "See the caveats in the documentation: https://pandas.pydata.org/pandas-docs/stable/user_guide/indexing.html#returning-a-view-versus-a-copy\n",
      "  self._set_item(key, value)\n"
     ]
    }
   ],
   "source": [
    "\n",
    "\n",
    "from sklearn.preprocessing import MinMaxScaler\n",
    "\n",
    "def norm(x):\n",
    "    cols_to_scale= ['MAXIMUM-TEMPERATURE','MINIMUM-TEMPERATURE','WIND-SPEED','RELATIVE-HUMIDITY','WIND-RUN','AIR-PRESSURE']\n",
    "    scaler = MinMaxScaler()\n",
    "    x[cols_to_scale] = scaler.fit_transform(x[cols_to_scale])\n",
    "    return x\n",
    "\n",
    "normed_train_data = norm(train_dataset)\n",
    "normed_test_data = norm(test_dataset)\n",
    "normed_valid_dataset = norm(valid_dataset)"
   ]
  },
  {
   "cell_type": "code",
   "execution_count": 24,
   "id": "99197d5f",
   "metadata": {},
   "outputs": [
    {
     "name": "stdout",
     "output_type": "stream",
     "text": [
      "Train/Test/Validate splits: \n",
      "Train       : (190, 6) \n",
      "Test        : (64, 6) \n",
      "Validate    : (64, 6) \n",
      "Train/Test/Validate labels: \n",
      "Train Labels : (190,)\n",
      "Test Labels  : (64,)\n",
      "Test Labels  : (64,)\n"
     ]
    }
   ],
   "source": [
    "print(f'Train/Test/Validate splits: ')\n",
    "print(f'Train       : {normed_train_data.shape} ')\n",
    "print(f'Test        : {normed_test_data.shape} ')\n",
    "print(f'Validate    : {normed_valid_dataset.shape} ')\n",
    "\n",
    "print(f'Train/Test/Validate labels: ')\n",
    "print(f'Train Labels : {train_labels.shape}')\n",
    "print(f'Test Labels  : {test_labels.shape}')\n",
    "print(f'Test Labels  : {valid_labels.shape}')"
   ]
  },
  {
   "cell_type": "markdown",
   "id": "4ac918f4",
   "metadata": {},
   "source": [
    "## show a sample of the data after normalized"
   ]
  },
  {
   "cell_type": "code",
   "execution_count": 25,
   "id": "6762edde",
   "metadata": {},
   "outputs": [
    {
     "data": {
      "text/html": [
       "<div>\n",
       "<style scoped>\n",
       "    .dataframe tbody tr th:only-of-type {\n",
       "        vertical-align: middle;\n",
       "    }\n",
       "\n",
       "    .dataframe tbody tr th {\n",
       "        vertical-align: top;\n",
       "    }\n",
       "\n",
       "    .dataframe thead th {\n",
       "        text-align: right;\n",
       "    }\n",
       "</style>\n",
       "<table border=\"1\" class=\"dataframe\">\n",
       "  <thead>\n",
       "    <tr style=\"text-align: right;\">\n",
       "      <th></th>\n",
       "      <th>MAXIMUM-TEMPERATURE</th>\n",
       "      <th>MINIMUM-TEMPERATURE</th>\n",
       "      <th>WIND-SPEED</th>\n",
       "      <th>WIND-RUN</th>\n",
       "      <th>RELATIVE-HUMIDITY</th>\n",
       "      <th>AIR-PRESSURE</th>\n",
       "    </tr>\n",
       "  </thead>\n",
       "  <tbody>\n",
       "    <tr>\n",
       "      <th>271</th>\n",
       "      <td>0.203008</td>\n",
       "      <td>0.658065</td>\n",
       "      <td>0.183333</td>\n",
       "      <td>0.402525</td>\n",
       "      <td>0.945946</td>\n",
       "      <td>0.189911</td>\n",
       "    </tr>\n",
       "    <tr>\n",
       "      <th>38</th>\n",
       "      <td>0.789474</td>\n",
       "      <td>0.690323</td>\n",
       "      <td>0.333333</td>\n",
       "      <td>0.288920</td>\n",
       "      <td>0.148649</td>\n",
       "      <td>0.296736</td>\n",
       "    </tr>\n",
       "    <tr>\n",
       "      <th>284</th>\n",
       "      <td>0.225564</td>\n",
       "      <td>0.664516</td>\n",
       "      <td>0.191667</td>\n",
       "      <td>0.479663</td>\n",
       "      <td>0.905405</td>\n",
       "      <td>0.169139</td>\n",
       "    </tr>\n",
       "    <tr>\n",
       "      <th>136</th>\n",
       "      <td>0.624060</td>\n",
       "      <td>0.709677</td>\n",
       "      <td>0.333333</td>\n",
       "      <td>0.288920</td>\n",
       "      <td>0.756757</td>\n",
       "      <td>0.311573</td>\n",
       "    </tr>\n",
       "    <tr>\n",
       "      <th>151</th>\n",
       "      <td>0.187970</td>\n",
       "      <td>0.625806</td>\n",
       "      <td>0.166667</td>\n",
       "      <td>0.288920</td>\n",
       "      <td>1.000000</td>\n",
       "      <td>0.356083</td>\n",
       "    </tr>\n",
       "    <tr>\n",
       "      <th>176</th>\n",
       "      <td>0.255639</td>\n",
       "      <td>0.645161</td>\n",
       "      <td>0.333333</td>\n",
       "      <td>0.288920</td>\n",
       "      <td>0.959459</td>\n",
       "      <td>0.382789</td>\n",
       "    </tr>\n",
       "    <tr>\n",
       "      <th>108</th>\n",
       "      <td>0.451128</td>\n",
       "      <td>0.316129</td>\n",
       "      <td>0.250000</td>\n",
       "      <td>0.288920</td>\n",
       "      <td>0.283784</td>\n",
       "      <td>0.314540</td>\n",
       "    </tr>\n",
       "    <tr>\n",
       "      <th>283</th>\n",
       "      <td>0.203008</td>\n",
       "      <td>0.658065</td>\n",
       "      <td>0.150000</td>\n",
       "      <td>0.051893</td>\n",
       "      <td>0.945946</td>\n",
       "      <td>0.172107</td>\n",
       "    </tr>\n",
       "    <tr>\n",
       "      <th>244</th>\n",
       "      <td>0.819549</td>\n",
       "      <td>0.741935</td>\n",
       "      <td>0.416667</td>\n",
       "      <td>0.288920</td>\n",
       "      <td>0.729730</td>\n",
       "      <td>0.302671</td>\n",
       "    </tr>\n",
       "    <tr>\n",
       "      <th>310</th>\n",
       "      <td>0.669173</td>\n",
       "      <td>0.496774</td>\n",
       "      <td>0.100000</td>\n",
       "      <td>0.077139</td>\n",
       "      <td>0.283784</td>\n",
       "      <td>0.139466</td>\n",
       "    </tr>\n",
       "  </tbody>\n",
       "</table>\n",
       "</div>"
      ],
      "text/plain": [
       "     MAXIMUM-TEMPERATURE  MINIMUM-TEMPERATURE  WIND-SPEED  WIND-RUN  \\\n",
       "271             0.203008             0.658065    0.183333  0.402525   \n",
       "38              0.789474             0.690323    0.333333  0.288920   \n",
       "284             0.225564             0.664516    0.191667  0.479663   \n",
       "136             0.624060             0.709677    0.333333  0.288920   \n",
       "151             0.187970             0.625806    0.166667  0.288920   \n",
       "176             0.255639             0.645161    0.333333  0.288920   \n",
       "108             0.451128             0.316129    0.250000  0.288920   \n",
       "283             0.203008             0.658065    0.150000  0.051893   \n",
       "244             0.819549             0.741935    0.416667  0.288920   \n",
       "310             0.669173             0.496774    0.100000  0.077139   \n",
       "\n",
       "     RELATIVE-HUMIDITY  AIR-PRESSURE  \n",
       "271           0.945946      0.189911  \n",
       "38            0.148649      0.296736  \n",
       "284           0.905405      0.169139  \n",
       "136           0.756757      0.311573  \n",
       "151           1.000000      0.356083  \n",
       "176           0.959459      0.382789  \n",
       "108           0.283784      0.314540  \n",
       "283           0.945946      0.172107  \n",
       "244           0.729730      0.302671  \n",
       "310           0.283784      0.139466  "
      ]
     },
     "execution_count": 25,
     "metadata": {},
     "output_type": "execute_result"
    }
   ],
   "source": [
    "\n",
    "normed_train_data.head(10)"
   ]
  },
  {
   "cell_type": "markdown",
   "id": "1c04c32b",
   "metadata": {},
   "source": [
    "## Build a Neural Network Model"
   ]
  },
  {
   "cell_type": "markdown",
   "id": "79302009",
   "metadata": {},
   "source": [
    "### We declared a function for creating a model."
   ]
  },
  {
   "cell_type": "markdown",
   "id": "a6a74daa",
   "metadata": {},
   "source": [
    "## import NN and other components."
   ]
  },
  {
   "cell_type": "code",
   "execution_count": 26,
   "id": "885e59da",
   "metadata": {},
   "outputs": [],
   "source": [
    "\n",
    "from tensorflow.keras.models import Sequential\n",
    "from tensorflow.keras.layers import Activation,Dense,BatchNormalization,Dropout\n",
    "from tensorflow.keras import optimizers"
   ]
  },
  {
   "cell_type": "code",
   "execution_count": 27,
   "id": "560d7b5d",
   "metadata": {},
   "outputs": [],
   "source": [
    "def model_multilayer_perceptron_with_eight_hidden_layer():\n",
    "      model = Sequential()\n",
    "     # The model so far is empty. It can be constructed by adding layers and compilation.\n",
    "     # This Keras model with a single hidden layers.\n",
    "        \n",
    "     # Input Layer with 32 Neurons\n",
    "      model.add(Dense(32, input_shape =(normed_train_data.shape[1],)))\n",
    " \n",
    "      model.add(Dense(32, Activation('relu'))) # Hidden layer 1\n",
    "      model.add(Dropout(0.5))\n",
    "      model.add(Dense(64, Activation('relu'))) # Hidden layer 2\n",
    "      model.add(Dropout(0.5))\n",
    "      model.add(Dense(72, Activation('relu'))) # Hidden layer 3\n",
    "      model.add(Dropout(0.5))\n",
    "      model.add(Dense(80, Activation('relu'))) # Hidden layer 4\n",
    "      model.add(Dropout(0.5))\n",
    "      model.add(Dense(32, Activation('relu'))) # Hidden layer 5\n",
    "      model.add(Dense(64, Activation('relu'))) # Hidden layer 6\n",
    "      model.add(Dense(72, Activation('relu'))) # Hidden layer 7\n",
    "      model.add(Dense(80, Activation('relu'))) # Hidden layer 8\n",
    "     \n",
    "      model.add(Dense(1))  # Output layer => output dimension = 1\n",
    "    \n",
    "      learning_rate = 0.001\n",
    "    \n",
    "      optimizer = optimizers.RMSprop(learning_rate)\n",
    "  \n",
    "      model.compile(loss='mse',optimizer=optimizer, metrics=['mae','mse','mape']) \n",
    "      return model"
   ]
  },
  {
   "cell_type": "code",
   "execution_count": 28,
   "id": "36a6f1d8",
   "metadata": {},
   "outputs": [
    {
     "name": "stdout",
     "output_type": "stream",
     "text": [
      "Here is a summary of this model: \n",
      "Model: \"sequential\"\n",
      "_________________________________________________________________\n",
      "Layer (type)                 Output Shape              Param #   \n",
      "=================================================================\n",
      "dense (Dense)                (None, 32)                224       \n",
      "_________________________________________________________________\n",
      "dense_1 (Dense)              (None, 32)                1056      \n",
      "_________________________________________________________________\n",
      "dropout (Dropout)            (None, 32)                0         \n",
      "_________________________________________________________________\n",
      "dense_2 (Dense)              (None, 64)                2112      \n",
      "_________________________________________________________________\n",
      "dropout_1 (Dropout)          (None, 64)                0         \n",
      "_________________________________________________________________\n",
      "dense_3 (Dense)              (None, 72)                4680      \n",
      "_________________________________________________________________\n",
      "dropout_2 (Dropout)          (None, 72)                0         \n",
      "_________________________________________________________________\n",
      "dense_4 (Dense)              (None, 80)                5840      \n",
      "_________________________________________________________________\n",
      "dropout_3 (Dropout)          (None, 80)                0         \n",
      "_________________________________________________________________\n",
      "dense_5 (Dense)              (None, 32)                2592      \n",
      "_________________________________________________________________\n",
      "dense_6 (Dense)              (None, 64)                2112      \n",
      "_________________________________________________________________\n",
      "dense_7 (Dense)              (None, 72)                4680      \n",
      "_________________________________________________________________\n",
      "dense_8 (Dense)              (None, 80)                5840      \n",
      "_________________________________________________________________\n",
      "dense_9 (Dense)              (None, 1)                 81        \n",
      "=================================================================\n",
      "Total params: 29,217\n",
      "Trainable params: 29,217\n",
      "Non-trainable params: 0\n",
      "_________________________________________________________________\n"
     ]
    }
   ],
   "source": [
    "model = model_multilayer_perceptron_with_eight_hidden_layer()\n",
    "print('Here is a summary of this model: ')\n",
    "\n",
    "\n",
    "model.summary()\n"
   ]
  },
  {
   "cell_type": "markdown",
   "id": "987f0289",
   "metadata": {},
   "source": [
    "## Training the model we built above."
   ]
  },
  {
   "cell_type": "code",
   "execution_count": 29,
   "id": "9ed9cb5e",
   "metadata": {},
   "outputs": [],
   "source": [
    "# Tensorflow utils packages.\n",
    "import tensorflow_docs as tfdocs\n",
    "import tensorflow_docs.plots\n",
    "import tensorflow_docs.modeling"
   ]
  },
  {
   "cell_type": "code",
   "execution_count": 30,
   "id": "89283015",
   "metadata": {},
   "outputs": [],
   "source": [
    "# checkpoint_path\n",
    "checkpoint_path = r\".\\models\\wind_direction_prediction_8_layers_n_dropout.ckpt\"\n",
    "\n",
    "#create a callback that saves the model's weight\n",
    "ckpt_callback = tf.keras.callbacks.ModelCheckpoint(filepath=checkpoint_path,monitor='val_loss',\n",
    "                                                 save_best_only=True,verbose=0,)"
   ]
  },
  {
   "cell_type": "code",
   "execution_count": 31,
   "id": "bd3213a6",
   "metadata": {},
   "outputs": [
    {
     "name": "stdout",
     "output_type": "stream",
     "text": [
      "Here is a summary of this model: \n",
      "Model: \"sequential_1\"\n",
      "_________________________________________________________________\n",
      "Layer (type)                 Output Shape              Param #   \n",
      "=================================================================\n",
      "dense_10 (Dense)             (None, 32)                224       \n",
      "_________________________________________________________________\n",
      "dense_11 (Dense)             (None, 32)                1056      \n",
      "_________________________________________________________________\n",
      "dropout_4 (Dropout)          (None, 32)                0         \n",
      "_________________________________________________________________\n",
      "dense_12 (Dense)             (None, 64)                2112      \n",
      "_________________________________________________________________\n",
      "dropout_5 (Dropout)          (None, 64)                0         \n",
      "_________________________________________________________________\n",
      "dense_13 (Dense)             (None, 72)                4680      \n",
      "_________________________________________________________________\n",
      "dropout_6 (Dropout)          (None, 72)                0         \n",
      "_________________________________________________________________\n",
      "dense_14 (Dense)             (None, 80)                5840      \n",
      "_________________________________________________________________\n",
      "dropout_7 (Dropout)          (None, 80)                0         \n",
      "_________________________________________________________________\n",
      "dense_15 (Dense)             (None, 32)                2592      \n",
      "_________________________________________________________________\n",
      "dense_16 (Dense)             (None, 64)                2112      \n",
      "_________________________________________________________________\n",
      "dense_17 (Dense)             (None, 72)                4680      \n",
      "_________________________________________________________________\n",
      "dense_18 (Dense)             (None, 80)                5840      \n",
      "_________________________________________________________________\n",
      "dense_19 (Dense)             (None, 1)                 81        \n",
      "=================================================================\n",
      "Total params: 29,217\n",
      "Trainable params: 29,217\n",
      "Non-trainable params: 0\n",
      "_________________________________________________________________\n",
      "\n",
      "Epoch: 0, loss:43319.5352,  mae:205.0345,  mape:100.0165,  mse:43319.5352,  val_loss:32926.8477,  val_mae:173.6880,  val_mape:99.9704,  val_mse:32926.8477,  \n",
      "."
     ]
    },
    {
     "name": "stderr",
     "output_type": "stream",
     "text": [
      "WARNING:absl:Found untraced functions such as activation_8_layer_call_fn, activation_8_layer_call_and_return_conditional_losses, activation_9_layer_call_fn, activation_9_layer_call_and_return_conditional_losses, activation_10_layer_call_fn while saving (showing 5 of 40). These functions will not be directly callable after loading.\n"
     ]
    },
    {
     "name": "stdout",
     "output_type": "stream",
     "text": [
      "INFO:tensorflow:Assets written to: .\\models\\wind_direction_prediction_8_layers_n_dropout.ckpt\\assets\n"
     ]
    },
    {
     "name": "stderr",
     "output_type": "stream",
     "text": [
      "INFO:tensorflow:Assets written to: .\\models\\wind_direction_prediction_8_layers_n_dropout.ckpt\\assets\n"
     ]
    },
    {
     "name": "stdout",
     "output_type": "stream",
     "text": [
      "."
     ]
    },
    {
     "name": "stderr",
     "output_type": "stream",
     "text": [
      "WARNING:absl:Found untraced functions such as activation_8_layer_call_fn, activation_8_layer_call_and_return_conditional_losses, activation_9_layer_call_fn, activation_9_layer_call_and_return_conditional_losses, activation_10_layer_call_fn while saving (showing 5 of 40). These functions will not be directly callable after loading.\n"
     ]
    },
    {
     "name": "stdout",
     "output_type": "stream",
     "text": [
      "INFO:tensorflow:Assets written to: .\\models\\wind_direction_prediction_8_layers_n_dropout.ckpt\\assets\n"
     ]
    },
    {
     "name": "stderr",
     "output_type": "stream",
     "text": [
      "INFO:tensorflow:Assets written to: .\\models\\wind_direction_prediction_8_layers_n_dropout.ckpt\\assets\n"
     ]
    },
    {
     "name": "stdout",
     "output_type": "stream",
     "text": [
      "."
     ]
    },
    {
     "name": "stderr",
     "output_type": "stream",
     "text": [
      "WARNING:absl:Found untraced functions such as activation_8_layer_call_fn, activation_8_layer_call_and_return_conditional_losses, activation_9_layer_call_fn, activation_9_layer_call_and_return_conditional_losses, activation_10_layer_call_fn while saving (showing 5 of 40). These functions will not be directly callable after loading.\n"
     ]
    },
    {
     "name": "stdout",
     "output_type": "stream",
     "text": [
      "INFO:tensorflow:Assets written to: .\\models\\wind_direction_prediction_8_layers_n_dropout.ckpt\\assets\n"
     ]
    },
    {
     "name": "stderr",
     "output_type": "stream",
     "text": [
      "INFO:tensorflow:Assets written to: .\\models\\wind_direction_prediction_8_layers_n_dropout.ckpt\\assets\n"
     ]
    },
    {
     "name": "stdout",
     "output_type": "stream",
     "text": [
      "."
     ]
    },
    {
     "name": "stderr",
     "output_type": "stream",
     "text": [
      "WARNING:absl:Found untraced functions such as activation_8_layer_call_fn, activation_8_layer_call_and_return_conditional_losses, activation_9_layer_call_fn, activation_9_layer_call_and_return_conditional_losses, activation_10_layer_call_fn while saving (showing 5 of 40). These functions will not be directly callable after loading.\n"
     ]
    },
    {
     "name": "stdout",
     "output_type": "stream",
     "text": [
      "INFO:tensorflow:Assets written to: .\\models\\wind_direction_prediction_8_layers_n_dropout.ckpt\\assets\n"
     ]
    },
    {
     "name": "stderr",
     "output_type": "stream",
     "text": [
      "INFO:tensorflow:Assets written to: .\\models\\wind_direction_prediction_8_layers_n_dropout.ckpt\\assets\n"
     ]
    },
    {
     "name": "stdout",
     "output_type": "stream",
     "text": [
      "."
     ]
    },
    {
     "name": "stderr",
     "output_type": "stream",
     "text": [
      "WARNING:absl:Found untraced functions such as activation_8_layer_call_fn, activation_8_layer_call_and_return_conditional_losses, activation_9_layer_call_fn, activation_9_layer_call_and_return_conditional_losses, activation_10_layer_call_fn while saving (showing 5 of 40). These functions will not be directly callable after loading.\n"
     ]
    },
    {
     "name": "stdout",
     "output_type": "stream",
     "text": [
      "INFO:tensorflow:Assets written to: .\\models\\wind_direction_prediction_8_layers_n_dropout.ckpt\\assets\n"
     ]
    },
    {
     "name": "stderr",
     "output_type": "stream",
     "text": [
      "INFO:tensorflow:Assets written to: .\\models\\wind_direction_prediction_8_layers_n_dropout.ckpt\\assets\n"
     ]
    },
    {
     "name": "stdout",
     "output_type": "stream",
     "text": [
      "."
     ]
    },
    {
     "name": "stderr",
     "output_type": "stream",
     "text": [
      "WARNING:absl:Found untraced functions such as activation_8_layer_call_fn, activation_8_layer_call_and_return_conditional_losses, activation_9_layer_call_fn, activation_9_layer_call_and_return_conditional_losses, activation_10_layer_call_fn while saving (showing 5 of 40). These functions will not be directly callable after loading.\n"
     ]
    },
    {
     "name": "stdout",
     "output_type": "stream",
     "text": [
      "INFO:tensorflow:Assets written to: .\\models\\wind_direction_prediction_8_layers_n_dropout.ckpt\\assets\n"
     ]
    },
    {
     "name": "stderr",
     "output_type": "stream",
     "text": [
      "INFO:tensorflow:Assets written to: .\\models\\wind_direction_prediction_8_layers_n_dropout.ckpt\\assets\n"
     ]
    },
    {
     "name": "stdout",
     "output_type": "stream",
     "text": [
      "."
     ]
    },
    {
     "name": "stderr",
     "output_type": "stream",
     "text": [
      "WARNING:absl:Found untraced functions such as activation_8_layer_call_fn, activation_8_layer_call_and_return_conditional_losses, activation_9_layer_call_fn, activation_9_layer_call_and_return_conditional_losses, activation_10_layer_call_fn while saving (showing 5 of 40). These functions will not be directly callable after loading.\n"
     ]
    },
    {
     "name": "stdout",
     "output_type": "stream",
     "text": [
      "INFO:tensorflow:Assets written to: .\\models\\wind_direction_prediction_8_layers_n_dropout.ckpt\\assets\n"
     ]
    },
    {
     "name": "stderr",
     "output_type": "stream",
     "text": [
      "INFO:tensorflow:Assets written to: .\\models\\wind_direction_prediction_8_layers_n_dropout.ckpt\\assets\n"
     ]
    },
    {
     "name": "stdout",
     "output_type": "stream",
     "text": [
      "."
     ]
    },
    {
     "name": "stderr",
     "output_type": "stream",
     "text": [
      "WARNING:absl:Found untraced functions such as activation_8_layer_call_fn, activation_8_layer_call_and_return_conditional_losses, activation_9_layer_call_fn, activation_9_layer_call_and_return_conditional_losses, activation_10_layer_call_fn while saving (showing 5 of 40). These functions will not be directly callable after loading.\n"
     ]
    },
    {
     "name": "stdout",
     "output_type": "stream",
     "text": [
      "INFO:tensorflow:Assets written to: .\\models\\wind_direction_prediction_8_layers_n_dropout.ckpt\\assets\n"
     ]
    },
    {
     "name": "stderr",
     "output_type": "stream",
     "text": [
      "INFO:tensorflow:Assets written to: .\\models\\wind_direction_prediction_8_layers_n_dropout.ckpt\\assets\n"
     ]
    },
    {
     "name": "stdout",
     "output_type": "stream",
     "text": [
      "."
     ]
    },
    {
     "name": "stderr",
     "output_type": "stream",
     "text": [
      "WARNING:absl:Found untraced functions such as activation_8_layer_call_fn, activation_8_layer_call_and_return_conditional_losses, activation_9_layer_call_fn, activation_9_layer_call_and_return_conditional_losses, activation_10_layer_call_fn while saving (showing 5 of 40). These functions will not be directly callable after loading.\n"
     ]
    },
    {
     "name": "stdout",
     "output_type": "stream",
     "text": [
      "INFO:tensorflow:Assets written to: .\\models\\wind_direction_prediction_8_layers_n_dropout.ckpt\\assets\n"
     ]
    },
    {
     "name": "stderr",
     "output_type": "stream",
     "text": [
      "INFO:tensorflow:Assets written to: .\\models\\wind_direction_prediction_8_layers_n_dropout.ckpt\\assets\n"
     ]
    },
    {
     "name": "stdout",
     "output_type": "stream",
     "text": [
      "."
     ]
    },
    {
     "name": "stderr",
     "output_type": "stream",
     "text": [
      "WARNING:absl:Found untraced functions such as activation_8_layer_call_fn, activation_8_layer_call_and_return_conditional_losses, activation_9_layer_call_fn, activation_9_layer_call_and_return_conditional_losses, activation_10_layer_call_fn while saving (showing 5 of 40). These functions will not be directly callable after loading.\n"
     ]
    },
    {
     "name": "stdout",
     "output_type": "stream",
     "text": [
      "INFO:tensorflow:Assets written to: .\\models\\wind_direction_prediction_8_layers_n_dropout.ckpt\\assets\n"
     ]
    },
    {
     "name": "stderr",
     "output_type": "stream",
     "text": [
      "INFO:tensorflow:Assets written to: .\\models\\wind_direction_prediction_8_layers_n_dropout.ckpt\\assets\n"
     ]
    },
    {
     "name": "stdout",
     "output_type": "stream",
     "text": [
      "."
     ]
    },
    {
     "name": "stderr",
     "output_type": "stream",
     "text": [
      "WARNING:absl:Found untraced functions such as activation_8_layer_call_fn, activation_8_layer_call_and_return_conditional_losses, activation_9_layer_call_fn, activation_9_layer_call_and_return_conditional_losses, activation_10_layer_call_fn while saving (showing 5 of 40). These functions will not be directly callable after loading.\n"
     ]
    },
    {
     "name": "stdout",
     "output_type": "stream",
     "text": [
      "INFO:tensorflow:Assets written to: .\\models\\wind_direction_prediction_8_layers_n_dropout.ckpt\\assets\n"
     ]
    },
    {
     "name": "stderr",
     "output_type": "stream",
     "text": [
      "INFO:tensorflow:Assets written to: .\\models\\wind_direction_prediction_8_layers_n_dropout.ckpt\\assets\n"
     ]
    },
    {
     "name": "stdout",
     "output_type": "stream",
     "text": [
      "."
     ]
    },
    {
     "name": "stderr",
     "output_type": "stream",
     "text": [
      "WARNING:absl:Found untraced functions such as activation_8_layer_call_fn, activation_8_layer_call_and_return_conditional_losses, activation_9_layer_call_fn, activation_9_layer_call_and_return_conditional_losses, activation_10_layer_call_fn while saving (showing 5 of 40). These functions will not be directly callable after loading.\n"
     ]
    },
    {
     "name": "stdout",
     "output_type": "stream",
     "text": [
      "INFO:tensorflow:Assets written to: .\\models\\wind_direction_prediction_8_layers_n_dropout.ckpt\\assets\n"
     ]
    },
    {
     "name": "stderr",
     "output_type": "stream",
     "text": [
      "INFO:tensorflow:Assets written to: .\\models\\wind_direction_prediction_8_layers_n_dropout.ckpt\\assets\n"
     ]
    },
    {
     "name": "stdout",
     "output_type": "stream",
     "text": [
      "."
     ]
    },
    {
     "name": "stderr",
     "output_type": "stream",
     "text": [
      "WARNING:absl:Found untraced functions such as activation_8_layer_call_fn, activation_8_layer_call_and_return_conditional_losses, activation_9_layer_call_fn, activation_9_layer_call_and_return_conditional_losses, activation_10_layer_call_fn while saving (showing 5 of 40). These functions will not be directly callable after loading.\n"
     ]
    },
    {
     "name": "stdout",
     "output_type": "stream",
     "text": [
      "INFO:tensorflow:Assets written to: .\\models\\wind_direction_prediction_8_layers_n_dropout.ckpt\\assets\n"
     ]
    },
    {
     "name": "stderr",
     "output_type": "stream",
     "text": [
      "INFO:tensorflow:Assets written to: .\\models\\wind_direction_prediction_8_layers_n_dropout.ckpt\\assets\n"
     ]
    },
    {
     "name": "stdout",
     "output_type": "stream",
     "text": [
      "."
     ]
    },
    {
     "name": "stderr",
     "output_type": "stream",
     "text": [
      "WARNING:absl:Found untraced functions such as activation_8_layer_call_fn, activation_8_layer_call_and_return_conditional_losses, activation_9_layer_call_fn, activation_9_layer_call_and_return_conditional_losses, activation_10_layer_call_fn while saving (showing 5 of 40). These functions will not be directly callable after loading.\n"
     ]
    },
    {
     "name": "stdout",
     "output_type": "stream",
     "text": [
      "INFO:tensorflow:Assets written to: .\\models\\wind_direction_prediction_8_layers_n_dropout.ckpt\\assets\n"
     ]
    },
    {
     "name": "stderr",
     "output_type": "stream",
     "text": [
      "INFO:tensorflow:Assets written to: .\\models\\wind_direction_prediction_8_layers_n_dropout.ckpt\\assets\n"
     ]
    },
    {
     "name": "stdout",
     "output_type": "stream",
     "text": [
      "."
     ]
    },
    {
     "name": "stderr",
     "output_type": "stream",
     "text": [
      "WARNING:absl:Found untraced functions such as activation_8_layer_call_fn, activation_8_layer_call_and_return_conditional_losses, activation_9_layer_call_fn, activation_9_layer_call_and_return_conditional_losses, activation_10_layer_call_fn while saving (showing 5 of 40). These functions will not be directly callable after loading.\n"
     ]
    },
    {
     "name": "stdout",
     "output_type": "stream",
     "text": [
      "INFO:tensorflow:Assets written to: .\\models\\wind_direction_prediction_8_layers_n_dropout.ckpt\\assets\n"
     ]
    },
    {
     "name": "stderr",
     "output_type": "stream",
     "text": [
      "INFO:tensorflow:Assets written to: .\\models\\wind_direction_prediction_8_layers_n_dropout.ckpt\\assets\n"
     ]
    },
    {
     "name": "stdout",
     "output_type": "stream",
     "text": [
      "."
     ]
    },
    {
     "name": "stderr",
     "output_type": "stream",
     "text": [
      "WARNING:absl:Found untraced functions such as activation_8_layer_call_fn, activation_8_layer_call_and_return_conditional_losses, activation_9_layer_call_fn, activation_9_layer_call_and_return_conditional_losses, activation_10_layer_call_fn while saving (showing 5 of 40). These functions will not be directly callable after loading.\n"
     ]
    },
    {
     "name": "stdout",
     "output_type": "stream",
     "text": [
      "INFO:tensorflow:Assets written to: .\\models\\wind_direction_prediction_8_layers_n_dropout.ckpt\\assets\n"
     ]
    },
    {
     "name": "stderr",
     "output_type": "stream",
     "text": [
      "INFO:tensorflow:Assets written to: .\\models\\wind_direction_prediction_8_layers_n_dropout.ckpt\\assets\n"
     ]
    },
    {
     "name": "stdout",
     "output_type": "stream",
     "text": [
      "."
     ]
    },
    {
     "name": "stderr",
     "output_type": "stream",
     "text": [
      "WARNING:absl:Found untraced functions such as activation_8_layer_call_fn, activation_8_layer_call_and_return_conditional_losses, activation_9_layer_call_fn, activation_9_layer_call_and_return_conditional_losses, activation_10_layer_call_fn while saving (showing 5 of 40). These functions will not be directly callable after loading.\n"
     ]
    },
    {
     "name": "stdout",
     "output_type": "stream",
     "text": [
      "INFO:tensorflow:Assets written to: .\\models\\wind_direction_prediction_8_layers_n_dropout.ckpt\\assets\n"
     ]
    },
    {
     "name": "stderr",
     "output_type": "stream",
     "text": [
      "INFO:tensorflow:Assets written to: .\\models\\wind_direction_prediction_8_layers_n_dropout.ckpt\\assets\n"
     ]
    },
    {
     "name": "stdout",
     "output_type": "stream",
     "text": [
      "."
     ]
    },
    {
     "name": "stderr",
     "output_type": "stream",
     "text": [
      "WARNING:absl:Found untraced functions such as activation_8_layer_call_fn, activation_8_layer_call_and_return_conditional_losses, activation_9_layer_call_fn, activation_9_layer_call_and_return_conditional_losses, activation_10_layer_call_fn while saving (showing 5 of 40). These functions will not be directly callable after loading.\n"
     ]
    },
    {
     "name": "stdout",
     "output_type": "stream",
     "text": [
      "INFO:tensorflow:Assets written to: .\\models\\wind_direction_prediction_8_layers_n_dropout.ckpt\\assets\n"
     ]
    },
    {
     "name": "stderr",
     "output_type": "stream",
     "text": [
      "INFO:tensorflow:Assets written to: .\\models\\wind_direction_prediction_8_layers_n_dropout.ckpt\\assets\n"
     ]
    },
    {
     "name": "stdout",
     "output_type": "stream",
     "text": [
      "."
     ]
    },
    {
     "name": "stderr",
     "output_type": "stream",
     "text": [
      "WARNING:absl:Found untraced functions such as activation_8_layer_call_fn, activation_8_layer_call_and_return_conditional_losses, activation_9_layer_call_fn, activation_9_layer_call_and_return_conditional_losses, activation_10_layer_call_fn while saving (showing 5 of 40). These functions will not be directly callable after loading.\n"
     ]
    },
    {
     "name": "stdout",
     "output_type": "stream",
     "text": [
      "INFO:tensorflow:Assets written to: .\\models\\wind_direction_prediction_8_layers_n_dropout.ckpt\\assets\n"
     ]
    },
    {
     "name": "stderr",
     "output_type": "stream",
     "text": [
      "INFO:tensorflow:Assets written to: .\\models\\wind_direction_prediction_8_layers_n_dropout.ckpt\\assets\n"
     ]
    },
    {
     "name": "stdout",
     "output_type": "stream",
     "text": [
      "."
     ]
    },
    {
     "name": "stderr",
     "output_type": "stream",
     "text": [
      "WARNING:absl:Found untraced functions such as activation_8_layer_call_fn, activation_8_layer_call_and_return_conditional_losses, activation_9_layer_call_fn, activation_9_layer_call_and_return_conditional_losses, activation_10_layer_call_fn while saving (showing 5 of 40). These functions will not be directly callable after loading.\n"
     ]
    },
    {
     "name": "stdout",
     "output_type": "stream",
     "text": [
      "INFO:tensorflow:Assets written to: .\\models\\wind_direction_prediction_8_layers_n_dropout.ckpt\\assets\n"
     ]
    },
    {
     "name": "stderr",
     "output_type": "stream",
     "text": [
      "INFO:tensorflow:Assets written to: .\\models\\wind_direction_prediction_8_layers_n_dropout.ckpt\\assets\n"
     ]
    },
    {
     "name": "stdout",
     "output_type": "stream",
     "text": [
      "."
     ]
    },
    {
     "name": "stderr",
     "output_type": "stream",
     "text": [
      "WARNING:absl:Found untraced functions such as activation_8_layer_call_fn, activation_8_layer_call_and_return_conditional_losses, activation_9_layer_call_fn, activation_9_layer_call_and_return_conditional_losses, activation_10_layer_call_fn while saving (showing 5 of 40). These functions will not be directly callable after loading.\n"
     ]
    },
    {
     "name": "stdout",
     "output_type": "stream",
     "text": [
      "INFO:tensorflow:Assets written to: .\\models\\wind_direction_prediction_8_layers_n_dropout.ckpt\\assets\n"
     ]
    },
    {
     "name": "stderr",
     "output_type": "stream",
     "text": [
      "INFO:tensorflow:Assets written to: .\\models\\wind_direction_prediction_8_layers_n_dropout.ckpt\\assets\n"
     ]
    },
    {
     "name": "stdout",
     "output_type": "stream",
     "text": [
      "."
     ]
    },
    {
     "name": "stderr",
     "output_type": "stream",
     "text": [
      "WARNING:absl:Found untraced functions such as activation_8_layer_call_fn, activation_8_layer_call_and_return_conditional_losses, activation_9_layer_call_fn, activation_9_layer_call_and_return_conditional_losses, activation_10_layer_call_fn while saving (showing 5 of 40). These functions will not be directly callable after loading.\n"
     ]
    },
    {
     "name": "stdout",
     "output_type": "stream",
     "text": [
      "INFO:tensorflow:Assets written to: .\\models\\wind_direction_prediction_8_layers_n_dropout.ckpt\\assets\n"
     ]
    },
    {
     "name": "stderr",
     "output_type": "stream",
     "text": [
      "INFO:tensorflow:Assets written to: .\\models\\wind_direction_prediction_8_layers_n_dropout.ckpt\\assets\n"
     ]
    },
    {
     "name": "stdout",
     "output_type": "stream",
     "text": [
      "."
     ]
    },
    {
     "name": "stderr",
     "output_type": "stream",
     "text": [
      "WARNING:absl:Found untraced functions such as activation_8_layer_call_fn, activation_8_layer_call_and_return_conditional_losses, activation_9_layer_call_fn, activation_9_layer_call_and_return_conditional_losses, activation_10_layer_call_fn while saving (showing 5 of 40). These functions will not be directly callable after loading.\n"
     ]
    },
    {
     "name": "stdout",
     "output_type": "stream",
     "text": [
      "INFO:tensorflow:Assets written to: .\\models\\wind_direction_prediction_8_layers_n_dropout.ckpt\\assets\n"
     ]
    },
    {
     "name": "stderr",
     "output_type": "stream",
     "text": [
      "INFO:tensorflow:Assets written to: .\\models\\wind_direction_prediction_8_layers_n_dropout.ckpt\\assets\n"
     ]
    },
    {
     "name": "stdout",
     "output_type": "stream",
     "text": [
      "."
     ]
    },
    {
     "name": "stderr",
     "output_type": "stream",
     "text": [
      "WARNING:absl:Found untraced functions such as activation_8_layer_call_fn, activation_8_layer_call_and_return_conditional_losses, activation_9_layer_call_fn, activation_9_layer_call_and_return_conditional_losses, activation_10_layer_call_fn while saving (showing 5 of 40). These functions will not be directly callable after loading.\n"
     ]
    },
    {
     "name": "stdout",
     "output_type": "stream",
     "text": [
      "INFO:tensorflow:Assets written to: .\\models\\wind_direction_prediction_8_layers_n_dropout.ckpt\\assets\n"
     ]
    },
    {
     "name": "stderr",
     "output_type": "stream",
     "text": [
      "INFO:tensorflow:Assets written to: .\\models\\wind_direction_prediction_8_layers_n_dropout.ckpt\\assets\n"
     ]
    },
    {
     "name": "stdout",
     "output_type": "stream",
     "text": [
      "."
     ]
    },
    {
     "name": "stderr",
     "output_type": "stream",
     "text": [
      "WARNING:absl:Found untraced functions such as activation_8_layer_call_fn, activation_8_layer_call_and_return_conditional_losses, activation_9_layer_call_fn, activation_9_layer_call_and_return_conditional_losses, activation_10_layer_call_fn while saving (showing 5 of 40). These functions will not be directly callable after loading.\n"
     ]
    },
    {
     "name": "stdout",
     "output_type": "stream",
     "text": [
      "INFO:tensorflow:Assets written to: .\\models\\wind_direction_prediction_8_layers_n_dropout.ckpt\\assets\n"
     ]
    },
    {
     "name": "stderr",
     "output_type": "stream",
     "text": [
      "INFO:tensorflow:Assets written to: .\\models\\wind_direction_prediction_8_layers_n_dropout.ckpt\\assets\n"
     ]
    },
    {
     "name": "stdout",
     "output_type": "stream",
     "text": [
      "......"
     ]
    },
    {
     "name": "stderr",
     "output_type": "stream",
     "text": [
      "WARNING:absl:Found untraced functions such as activation_8_layer_call_fn, activation_8_layer_call_and_return_conditional_losses, activation_9_layer_call_fn, activation_9_layer_call_and_return_conditional_losses, activation_10_layer_call_fn while saving (showing 5 of 40). These functions will not be directly callable after loading.\n"
     ]
    },
    {
     "name": "stdout",
     "output_type": "stream",
     "text": [
      "INFO:tensorflow:Assets written to: .\\models\\wind_direction_prediction_8_layers_n_dropout.ckpt\\assets\n"
     ]
    },
    {
     "name": "stderr",
     "output_type": "stream",
     "text": [
      "INFO:tensorflow:Assets written to: .\\models\\wind_direction_prediction_8_layers_n_dropout.ckpt\\assets\n"
     ]
    },
    {
     "name": "stdout",
     "output_type": "stream",
     "text": [
      "...."
     ]
    },
    {
     "name": "stderr",
     "output_type": "stream",
     "text": [
      "WARNING:absl:Found untraced functions such as activation_8_layer_call_fn, activation_8_layer_call_and_return_conditional_losses, activation_9_layer_call_fn, activation_9_layer_call_and_return_conditional_losses, activation_10_layer_call_fn while saving (showing 5 of 40). These functions will not be directly callable after loading.\n"
     ]
    },
    {
     "name": "stdout",
     "output_type": "stream",
     "text": [
      "INFO:tensorflow:Assets written to: .\\models\\wind_direction_prediction_8_layers_n_dropout.ckpt\\assets\n"
     ]
    },
    {
     "name": "stderr",
     "output_type": "stream",
     "text": [
      "INFO:tensorflow:Assets written to: .\\models\\wind_direction_prediction_8_layers_n_dropout.ckpt\\assets\n"
     ]
    },
    {
     "name": "stdout",
     "output_type": "stream",
     "text": [
      "......"
     ]
    },
    {
     "name": "stderr",
     "output_type": "stream",
     "text": [
      "WARNING:absl:Found untraced functions such as activation_8_layer_call_fn, activation_8_layer_call_and_return_conditional_losses, activation_9_layer_call_fn, activation_9_layer_call_and_return_conditional_losses, activation_10_layer_call_fn while saving (showing 5 of 40). These functions will not be directly callable after loading.\n"
     ]
    },
    {
     "name": "stdout",
     "output_type": "stream",
     "text": [
      "INFO:tensorflow:Assets written to: .\\models\\wind_direction_prediction_8_layers_n_dropout.ckpt\\assets\n"
     ]
    },
    {
     "name": "stderr",
     "output_type": "stream",
     "text": [
      "INFO:tensorflow:Assets written to: .\\models\\wind_direction_prediction_8_layers_n_dropout.ckpt\\assets\n"
     ]
    },
    {
     "name": "stdout",
     "output_type": "stream",
     "text": [
      "..."
     ]
    },
    {
     "name": "stderr",
     "output_type": "stream",
     "text": [
      "WARNING:absl:Found untraced functions such as activation_8_layer_call_fn, activation_8_layer_call_and_return_conditional_losses, activation_9_layer_call_fn, activation_9_layer_call_and_return_conditional_losses, activation_10_layer_call_fn while saving (showing 5 of 40). These functions will not be directly callable after loading.\n"
     ]
    },
    {
     "name": "stdout",
     "output_type": "stream",
     "text": [
      "INFO:tensorflow:Assets written to: .\\models\\wind_direction_prediction_8_layers_n_dropout.ckpt\\assets\n"
     ]
    },
    {
     "name": "stderr",
     "output_type": "stream",
     "text": [
      "INFO:tensorflow:Assets written to: .\\models\\wind_direction_prediction_8_layers_n_dropout.ckpt\\assets\n"
     ]
    },
    {
     "name": "stdout",
     "output_type": "stream",
     "text": [
      "..."
     ]
    },
    {
     "name": "stderr",
     "output_type": "stream",
     "text": [
      "WARNING:absl:Found untraced functions such as activation_8_layer_call_fn, activation_8_layer_call_and_return_conditional_losses, activation_9_layer_call_fn, activation_9_layer_call_and_return_conditional_losses, activation_10_layer_call_fn while saving (showing 5 of 40). These functions will not be directly callable after loading.\n"
     ]
    },
    {
     "name": "stdout",
     "output_type": "stream",
     "text": [
      "INFO:tensorflow:Assets written to: .\\models\\wind_direction_prediction_8_layers_n_dropout.ckpt\\assets\n"
     ]
    },
    {
     "name": "stderr",
     "output_type": "stream",
     "text": [
      "INFO:tensorflow:Assets written to: .\\models\\wind_direction_prediction_8_layers_n_dropout.ckpt\\assets\n"
     ]
    },
    {
     "name": "stdout",
     "output_type": "stream",
     "text": [
      "............................."
     ]
    },
    {
     "name": "stderr",
     "output_type": "stream",
     "text": [
      "WARNING:absl:Found untraced functions such as activation_8_layer_call_fn, activation_8_layer_call_and_return_conditional_losses, activation_9_layer_call_fn, activation_9_layer_call_and_return_conditional_losses, activation_10_layer_call_fn while saving (showing 5 of 40). These functions will not be directly callable after loading.\n"
     ]
    },
    {
     "name": "stdout",
     "output_type": "stream",
     "text": [
      "INFO:tensorflow:Assets written to: .\\models\\wind_direction_prediction_8_layers_n_dropout.ckpt\\assets\n"
     ]
    },
    {
     "name": "stderr",
     "output_type": "stream",
     "text": [
      "INFO:tensorflow:Assets written to: .\\models\\wind_direction_prediction_8_layers_n_dropout.ckpt\\assets\n"
     ]
    },
    {
     "name": "stdout",
     "output_type": "stream",
     "text": [
      ".."
     ]
    },
    {
     "name": "stderr",
     "output_type": "stream",
     "text": [
      "WARNING:absl:Found untraced functions such as activation_8_layer_call_fn, activation_8_layer_call_and_return_conditional_losses, activation_9_layer_call_fn, activation_9_layer_call_and_return_conditional_losses, activation_10_layer_call_fn while saving (showing 5 of 40). These functions will not be directly callable after loading.\n"
     ]
    },
    {
     "name": "stdout",
     "output_type": "stream",
     "text": [
      "INFO:tensorflow:Assets written to: .\\models\\wind_direction_prediction_8_layers_n_dropout.ckpt\\assets\n"
     ]
    },
    {
     "name": "stderr",
     "output_type": "stream",
     "text": [
      "INFO:tensorflow:Assets written to: .\\models\\wind_direction_prediction_8_layers_n_dropout.ckpt\\assets\n"
     ]
    },
    {
     "name": "stdout",
     "output_type": "stream",
     "text": [
      "......"
     ]
    },
    {
     "name": "stderr",
     "output_type": "stream",
     "text": [
      "WARNING:absl:Found untraced functions such as activation_8_layer_call_fn, activation_8_layer_call_and_return_conditional_losses, activation_9_layer_call_fn, activation_9_layer_call_and_return_conditional_losses, activation_10_layer_call_fn while saving (showing 5 of 40). These functions will not be directly callable after loading.\n"
     ]
    },
    {
     "name": "stdout",
     "output_type": "stream",
     "text": [
      "INFO:tensorflow:Assets written to: .\\models\\wind_direction_prediction_8_layers_n_dropout.ckpt\\assets\n"
     ]
    },
    {
     "name": "stderr",
     "output_type": "stream",
     "text": [
      "INFO:tensorflow:Assets written to: .\\models\\wind_direction_prediction_8_layers_n_dropout.ckpt\\assets\n"
     ]
    },
    {
     "name": "stdout",
     "output_type": "stream",
     "text": [
      "................\n",
      "Epoch: 100, loss:7338.1890,  mae:72.5167,  mape:57.4583,  mse:7338.1890,  val_loss:2789.1011,  val_mae:43.3634,  val_mape:26.1926,  val_mse:2789.1011,  \n",
      "....................................................."
     ]
    },
    {
     "name": "stderr",
     "output_type": "stream",
     "text": [
      "WARNING:absl:Found untraced functions such as activation_8_layer_call_fn, activation_8_layer_call_and_return_conditional_losses, activation_9_layer_call_fn, activation_9_layer_call_and_return_conditional_losses, activation_10_layer_call_fn while saving (showing 5 of 40). These functions will not be directly callable after loading.\n"
     ]
    },
    {
     "name": "stdout",
     "output_type": "stream",
     "text": [
      "INFO:tensorflow:Assets written to: .\\models\\wind_direction_prediction_8_layers_n_dropout.ckpt\\assets\n"
     ]
    },
    {
     "name": "stderr",
     "output_type": "stream",
     "text": [
      "INFO:tensorflow:Assets written to: .\\models\\wind_direction_prediction_8_layers_n_dropout.ckpt\\assets\n"
     ]
    },
    {
     "name": "stdout",
     "output_type": "stream",
     "text": [
      "...."
     ]
    },
    {
     "name": "stderr",
     "output_type": "stream",
     "text": [
      "WARNING:absl:Found untraced functions such as activation_8_layer_call_fn, activation_8_layer_call_and_return_conditional_losses, activation_9_layer_call_fn, activation_9_layer_call_and_return_conditional_losses, activation_10_layer_call_fn while saving (showing 5 of 40). These functions will not be directly callable after loading.\n"
     ]
    },
    {
     "name": "stdout",
     "output_type": "stream",
     "text": [
      "INFO:tensorflow:Assets written to: .\\models\\wind_direction_prediction_8_layers_n_dropout.ckpt\\assets\n"
     ]
    },
    {
     "name": "stderr",
     "output_type": "stream",
     "text": [
      "INFO:tensorflow:Assets written to: .\\models\\wind_direction_prediction_8_layers_n_dropout.ckpt\\assets\n"
     ]
    },
    {
     "name": "stdout",
     "output_type": "stream",
     "text": [
      "...........................................\n",
      "Epoch: 200, loss:926.1874,  mae:22.2888,  mape:15.6058,  mse:926.1874,  val_loss:2816.1973,  val_mae:43.6862,  val_mape:25.8645,  val_mse:2816.1973,  \n",
      "..............."
     ]
    },
    {
     "name": "stderr",
     "output_type": "stream",
     "text": [
      "WARNING:absl:Found untraced functions such as activation_8_layer_call_fn, activation_8_layer_call_and_return_conditional_losses, activation_9_layer_call_fn, activation_9_layer_call_and_return_conditional_losses, activation_10_layer_call_fn while saving (showing 5 of 40). These functions will not be directly callable after loading.\n"
     ]
    },
    {
     "name": "stdout",
     "output_type": "stream",
     "text": [
      "INFO:tensorflow:Assets written to: .\\models\\wind_direction_prediction_8_layers_n_dropout.ckpt\\assets\n"
     ]
    },
    {
     "name": "stderr",
     "output_type": "stream",
     "text": [
      "INFO:tensorflow:Assets written to: .\\models\\wind_direction_prediction_8_layers_n_dropout.ckpt\\assets\n"
     ]
    },
    {
     "name": "stdout",
     "output_type": "stream",
     "text": [
      ".."
     ]
    },
    {
     "name": "stderr",
     "output_type": "stream",
     "text": [
      "WARNING:absl:Found untraced functions such as activation_8_layer_call_fn, activation_8_layer_call_and_return_conditional_losses, activation_9_layer_call_fn, activation_9_layer_call_and_return_conditional_losses, activation_10_layer_call_fn while saving (showing 5 of 40). These functions will not be directly callable after loading.\n"
     ]
    },
    {
     "name": "stdout",
     "output_type": "stream",
     "text": [
      "INFO:tensorflow:Assets written to: .\\models\\wind_direction_prediction_8_layers_n_dropout.ckpt\\assets\n"
     ]
    },
    {
     "name": "stderr",
     "output_type": "stream",
     "text": [
      "INFO:tensorflow:Assets written to: .\\models\\wind_direction_prediction_8_layers_n_dropout.ckpt\\assets\n"
     ]
    },
    {
     "name": "stdout",
     "output_type": "stream",
     "text": [
      "........................."
     ]
    },
    {
     "name": "stderr",
     "output_type": "stream",
     "text": [
      "WARNING:absl:Found untraced functions such as activation_8_layer_call_fn, activation_8_layer_call_and_return_conditional_losses, activation_9_layer_call_fn, activation_9_layer_call_and_return_conditional_losses, activation_10_layer_call_fn while saving (showing 5 of 40). These functions will not be directly callable after loading.\n"
     ]
    },
    {
     "name": "stdout",
     "output_type": "stream",
     "text": [
      "INFO:tensorflow:Assets written to: .\\models\\wind_direction_prediction_8_layers_n_dropout.ckpt\\assets\n"
     ]
    },
    {
     "name": "stderr",
     "output_type": "stream",
     "text": [
      "INFO:tensorflow:Assets written to: .\\models\\wind_direction_prediction_8_layers_n_dropout.ckpt\\assets\n"
     ]
    },
    {
     "name": "stdout",
     "output_type": "stream",
     "text": [
      "..........................................................\n",
      "Epoch: 300, loss:6820.3306,  mae:68.2624,  mape:37.4535,  mse:6820.3306,  val_loss:3455.5103,  val_mae:47.6435,  val_mape:26.0708,  val_mse:3455.5103,  \n",
      "....................................................................................................\n",
      "Epoch: 400, loss:2263.4475,  mae:43.3808,  mape:29.9522,  mse:2263.4475,  val_loss:4663.3359,  val_mae:56.2967,  val_mape:29.4732,  val_mse:4663.3359,  \n",
      "....................................................................................................\n",
      "Epoch: 500, loss:1558.4399,  mae:34.4819,  mape:25.1224,  mse:1558.4399,  val_loss:6094.2495,  val_mae:65.4652,  val_mape:33.7958,  val_mse:6094.2495,  \n",
      "....................................................................................................\n",
      "Epoch: 600, loss:2746.9980,  mae:42.3723,  mape:26.4492,  mse:2746.9980,  val_loss:5704.4692,  val_mae:63.0154,  val_mape:32.4125,  val_mse:5704.4692,  \n",
      "....................................................................................................\n",
      "Epoch: 700, loss:4057.1018,  mae:58.3827,  mape:57.6368,  mse:4057.1018,  val_loss:6482.5811,  val_mae:67.4002,  val_mape:34.4166,  val_mse:6482.5811,  \n",
      "....................................................................................................\n",
      "Epoch: 800, loss:848.8303,  mae:27.7510,  mape:15.0630,  mse:848.8303,  val_loss:4156.2222,  val_mae:52.7972,  val_mape:27.5604,  val_mse:4156.2222,  \n",
      "....................................................................................................\n",
      "Epoch: 900, loss:4746.4014,  mae:50.8699,  mape:26.5985,  mse:4746.4014,  val_loss:3821.0693,  val_mae:49.8762,  val_mape:26.0964,  val_mse:3821.0693,  \n",
      "..."
     ]
    },
    {
     "name": "stderr",
     "output_type": "stream",
     "text": [
      "WARNING:absl:Found untraced functions such as activation_8_layer_call_fn, activation_8_layer_call_and_return_conditional_losses, activation_9_layer_call_fn, activation_9_layer_call_and_return_conditional_losses, activation_10_layer_call_fn while saving (showing 5 of 40). These functions will not be directly callable after loading.\n"
     ]
    },
    {
     "name": "stdout",
     "output_type": "stream",
     "text": [
      "INFO:tensorflow:Assets written to: .\\models\\wind_direction_prediction_8_layers_n_dropout.ckpt\\assets\n"
     ]
    },
    {
     "name": "stderr",
     "output_type": "stream",
     "text": [
      "INFO:tensorflow:Assets written to: .\\models\\wind_direction_prediction_8_layers_n_dropout.ckpt\\assets\n"
     ]
    },
    {
     "name": "stdout",
     "output_type": "stream",
     "text": [
      ".................................................................................................Wall time: 3min 54s\n"
     ]
    }
   ],
   "source": [
    "%%time\n",
    "\n",
    "EPOCHS = 1000\n",
    "batch_size = 6\n",
    "\n",
    "model = model_multilayer_perceptron_with_eight_hidden_layer()\n",
    "print('Here is a summary of this model: ')\n",
    "model.summary()\n",
    "\n",
    "with tf.device('/CPU:0'):\n",
    "    history = model.fit(\n",
    "        normed_train_data,\n",
    "        train_labels,\n",
    "        batch_size = batch_size,\n",
    "        epochs=EPOCHS,\n",
    "        verbose=0,\n",
    "        shuffle=True,\n",
    "        steps_per_epoch= 1,\n",
    "        validation_data = (normed_valid_dataset, valid_labels),\n",
    "        callbacks=[tfdocs.modeling.EpochDots(), ckpt_callback],\n",
    "    )\n"
   ]
  },
  {
   "cell_type": "code",
   "execution_count": 32,
   "id": "607358d9",
   "metadata": {},
   "outputs": [
    {
     "name": "stdout",
     "output_type": "stream",
     "text": [
      "Summary of the results after each epoch: \n"
     ]
    },
    {
     "data": {
      "text/html": [
       "<div>\n",
       "<style scoped>\n",
       "    .dataframe tbody tr th:only-of-type {\n",
       "        vertical-align: middle;\n",
       "    }\n",
       "\n",
       "    .dataframe tbody tr th {\n",
       "        vertical-align: top;\n",
       "    }\n",
       "\n",
       "    .dataframe thead th {\n",
       "        text-align: right;\n",
       "    }\n",
       "</style>\n",
       "<table border=\"1\" class=\"dataframe\">\n",
       "  <thead>\n",
       "    <tr style=\"text-align: right;\">\n",
       "      <th></th>\n",
       "      <th>loss</th>\n",
       "      <th>mae</th>\n",
       "      <th>mse</th>\n",
       "      <th>mape</th>\n",
       "      <th>val_loss</th>\n",
       "      <th>val_mae</th>\n",
       "      <th>val_mse</th>\n",
       "      <th>val_mape</th>\n",
       "      <th>epoch</th>\n",
       "    </tr>\n",
       "  </thead>\n",
       "  <tbody>\n",
       "    <tr>\n",
       "      <th>995</th>\n",
       "      <td>1897.374146</td>\n",
       "      <td>34.866032</td>\n",
       "      <td>1897.374146</td>\n",
       "      <td>16.087820</td>\n",
       "      <td>3996.914551</td>\n",
       "      <td>51.047733</td>\n",
       "      <td>3996.914551</td>\n",
       "      <td>26.578081</td>\n",
       "      <td>995</td>\n",
       "    </tr>\n",
       "    <tr>\n",
       "      <th>996</th>\n",
       "      <td>3168.444580</td>\n",
       "      <td>52.500111</td>\n",
       "      <td>3168.444580</td>\n",
       "      <td>39.231762</td>\n",
       "      <td>5180.752441</td>\n",
       "      <td>59.019737</td>\n",
       "      <td>5180.752441</td>\n",
       "      <td>30.140190</td>\n",
       "      <td>996</td>\n",
       "    </tr>\n",
       "    <tr>\n",
       "      <th>997</th>\n",
       "      <td>2486.975830</td>\n",
       "      <td>44.618351</td>\n",
       "      <td>2486.975830</td>\n",
       "      <td>30.389664</td>\n",
       "      <td>4557.929688</td>\n",
       "      <td>54.880627</td>\n",
       "      <td>4557.929688</td>\n",
       "      <td>28.222656</td>\n",
       "      <td>997</td>\n",
       "    </tr>\n",
       "    <tr>\n",
       "      <th>998</th>\n",
       "      <td>4148.158691</td>\n",
       "      <td>52.135845</td>\n",
       "      <td>4148.158691</td>\n",
       "      <td>56.596607</td>\n",
       "      <td>7386.813965</td>\n",
       "      <td>72.497200</td>\n",
       "      <td>7386.813965</td>\n",
       "      <td>36.998089</td>\n",
       "      <td>998</td>\n",
       "    </tr>\n",
       "    <tr>\n",
       "      <th>999</th>\n",
       "      <td>5191.742676</td>\n",
       "      <td>60.508881</td>\n",
       "      <td>5191.742676</td>\n",
       "      <td>30.929245</td>\n",
       "      <td>5287.146973</td>\n",
       "      <td>59.653759</td>\n",
       "      <td>5287.146973</td>\n",
       "      <td>30.433969</td>\n",
       "      <td>999</td>\n",
       "    </tr>\n",
       "  </tbody>\n",
       "</table>\n",
       "</div>"
      ],
      "text/plain": [
       "            loss        mae          mse       mape     val_loss    val_mae  \\\n",
       "995  1897.374146  34.866032  1897.374146  16.087820  3996.914551  51.047733   \n",
       "996  3168.444580  52.500111  3168.444580  39.231762  5180.752441  59.019737   \n",
       "997  2486.975830  44.618351  2486.975830  30.389664  4557.929688  54.880627   \n",
       "998  4148.158691  52.135845  4148.158691  56.596607  7386.813965  72.497200   \n",
       "999  5191.742676  60.508881  5191.742676  30.929245  5287.146973  59.653759   \n",
       "\n",
       "         val_mse   val_mape  epoch  \n",
       "995  3996.914551  26.578081    995  \n",
       "996  5180.752441  30.140190    996  \n",
       "997  4557.929688  28.222656    997  \n",
       "998  7386.813965  36.998089    998  \n",
       "999  5287.146973  30.433969    999  "
      ]
     },
     "execution_count": 32,
     "metadata": {},
     "output_type": "execute_result"
    }
   ],
   "source": [
    "print('Summary of the results after each epoch: ')\n",
    "hist = pd.DataFrame(history.history)\n",
    "hist['epoch'] = history.epoch\n",
    "hist.tail()"
   ]
  },
  {
   "cell_type": "code",
   "execution_count": 33,
   "id": "d2b7b4bf",
   "metadata": {},
   "outputs": [],
   "source": [
    "# Test the model after training\n",
    "example_result_test= model.predict(normed_test_data)"
   ]
  },
  {
   "cell_type": "code",
   "execution_count": 34,
   "id": "dc93eb57",
   "metadata": {},
   "outputs": [],
   "source": [
    "\n",
    "example_result_train= model.predict(normed_train_data)"
   ]
  },
  {
   "cell_type": "markdown",
   "id": "79c80ab9",
   "metadata": {},
   "source": [
    "## Compare the predicted values with the actual values"
   ]
  },
  {
   "cell_type": "code",
   "execution_count": 35,
   "id": "1f6a10a5",
   "metadata": {},
   "outputs": [
    {
     "name": "stdout",
     "output_type": "stream",
     "text": [
      "Predicted Values\n",
      "[[119.20597 ]\n",
      " [111.580574]\n",
      " [ 99.78113 ]\n",
      " [ 99.59281 ]\n",
      " [123.60221 ]\n",
      " [101.97406 ]\n",
      " [ 99.73579 ]\n",
      " [104.72843 ]\n",
      " [114.92361 ]\n",
      " [104.296776]]\n",
      "\n",
      "Actual Values\n",
      "146\n",
      "190\n",
      "101\n",
      "123\n",
      "234\n",
      "119\n",
      " 72\n",
      "170\n",
      "170\n",
      "100\n"
     ]
    }
   ],
   "source": [
    "print('Predicted Values')\n",
    "print(example_result_test[:10])\n",
    "print()\n",
    "print('Actual Values')\n",
    "print(test_labels[:10].to_string(index=False))"
   ]
  },
  {
   "cell_type": "code",
   "execution_count": 36,
   "id": "0bd009bb",
   "metadata": {},
   "outputs": [
    {
     "name": "stdout",
     "output_type": "stream",
     "text": [
      "Summary of the results after each epoch: \n"
     ]
    },
    {
     "data": {
      "text/html": [
       "<div>\n",
       "<style scoped>\n",
       "    .dataframe tbody tr th:only-of-type {\n",
       "        vertical-align: middle;\n",
       "    }\n",
       "\n",
       "    .dataframe tbody tr th {\n",
       "        vertical-align: top;\n",
       "    }\n",
       "\n",
       "    .dataframe thead th {\n",
       "        text-align: right;\n",
       "    }\n",
       "</style>\n",
       "<table border=\"1\" class=\"dataframe\">\n",
       "  <thead>\n",
       "    <tr style=\"text-align: right;\">\n",
       "      <th></th>\n",
       "      <th>loss</th>\n",
       "      <th>mae</th>\n",
       "      <th>mse</th>\n",
       "      <th>mape</th>\n",
       "      <th>val_loss</th>\n",
       "      <th>val_mae</th>\n",
       "      <th>val_mse</th>\n",
       "      <th>val_mape</th>\n",
       "      <th>epoch</th>\n",
       "    </tr>\n",
       "  </thead>\n",
       "  <tbody>\n",
       "    <tr>\n",
       "      <th>995</th>\n",
       "      <td>1897.374146</td>\n",
       "      <td>34.866032</td>\n",
       "      <td>1897.374146</td>\n",
       "      <td>16.087820</td>\n",
       "      <td>3996.914551</td>\n",
       "      <td>51.047733</td>\n",
       "      <td>3996.914551</td>\n",
       "      <td>26.578081</td>\n",
       "      <td>995</td>\n",
       "    </tr>\n",
       "    <tr>\n",
       "      <th>996</th>\n",
       "      <td>3168.444580</td>\n",
       "      <td>52.500111</td>\n",
       "      <td>3168.444580</td>\n",
       "      <td>39.231762</td>\n",
       "      <td>5180.752441</td>\n",
       "      <td>59.019737</td>\n",
       "      <td>5180.752441</td>\n",
       "      <td>30.140190</td>\n",
       "      <td>996</td>\n",
       "    </tr>\n",
       "    <tr>\n",
       "      <th>997</th>\n",
       "      <td>2486.975830</td>\n",
       "      <td>44.618351</td>\n",
       "      <td>2486.975830</td>\n",
       "      <td>30.389664</td>\n",
       "      <td>4557.929688</td>\n",
       "      <td>54.880627</td>\n",
       "      <td>4557.929688</td>\n",
       "      <td>28.222656</td>\n",
       "      <td>997</td>\n",
       "    </tr>\n",
       "    <tr>\n",
       "      <th>998</th>\n",
       "      <td>4148.158691</td>\n",
       "      <td>52.135845</td>\n",
       "      <td>4148.158691</td>\n",
       "      <td>56.596607</td>\n",
       "      <td>7386.813965</td>\n",
       "      <td>72.497200</td>\n",
       "      <td>7386.813965</td>\n",
       "      <td>36.998089</td>\n",
       "      <td>998</td>\n",
       "    </tr>\n",
       "    <tr>\n",
       "      <th>999</th>\n",
       "      <td>5191.742676</td>\n",
       "      <td>60.508881</td>\n",
       "      <td>5191.742676</td>\n",
       "      <td>30.929245</td>\n",
       "      <td>5287.146973</td>\n",
       "      <td>59.653759</td>\n",
       "      <td>5287.146973</td>\n",
       "      <td>30.433969</td>\n",
       "      <td>999</td>\n",
       "    </tr>\n",
       "  </tbody>\n",
       "</table>\n",
       "</div>"
      ],
      "text/plain": [
       "            loss        mae          mse       mape     val_loss    val_mae  \\\n",
       "995  1897.374146  34.866032  1897.374146  16.087820  3996.914551  51.047733   \n",
       "996  3168.444580  52.500111  3168.444580  39.231762  5180.752441  59.019737   \n",
       "997  2486.975830  44.618351  2486.975830  30.389664  4557.929688  54.880627   \n",
       "998  4148.158691  52.135845  4148.158691  56.596607  7386.813965  72.497200   \n",
       "999  5191.742676  60.508881  5191.742676  30.929245  5287.146973  59.653759   \n",
       "\n",
       "         val_mse   val_mape  epoch  \n",
       "995  3996.914551  26.578081    995  \n",
       "996  5180.752441  30.140190    996  \n",
       "997  4557.929688  28.222656    997  \n",
       "998  7386.813965  36.998089    998  \n",
       "999  5287.146973  30.433969    999  "
      ]
     },
     "execution_count": 36,
     "metadata": {},
     "output_type": "execute_result"
    }
   ],
   "source": [
    "print('Summary of the results after each epoch: ')\n",
    "hist = pd.DataFrame(history.history)\n",
    "hist['epoch'] = history.epoch\n",
    "hist.tail()"
   ]
  },
  {
   "cell_type": "markdown",
   "id": "067242de",
   "metadata": {},
   "source": [
    "## See how the training went by plotting the loss/mse across epochs"
   ]
  },
  {
   "cell_type": "code",
   "execution_count": 37,
   "id": "a54a2743",
   "metadata": {},
   "outputs": [
    {
     "data": {
      "text/plain": [
       "Text(0, 0.5, 'MAE [wind-direction]')"
      ]
     },
     "execution_count": 37,
     "metadata": {},
     "output_type": "execute_result"
    },
    {
     "data": {
      "image/png": "[encoded data removed]",
      "text/plain": [
       "<Figure size 432x288 with 1 Axes>"
      ]
     },
     "metadata": {
      "needs_background": "light"
     },
     "output_type": "display_data"
    }
   ],
   "source": [
    "plotter = tfdocs.plots.HistoryPlotter(smoothing_std=2)\n",
    "\n",
    "plotter.plot({'Basic': history}, metric = 'mae')\n",
    "plt.ylim([0,150])\n",
    "plt.ylabel('MAE [wind-direction]')"
   ]
  },
  {
   "cell_type": "code",
   "execution_count": 38,
   "id": "e1b3bd07",
   "metadata": {},
   "outputs": [
    {
     "data": {
      "text/plain": [
       "Text(0, 0.5, 'MSE [wind-direction]')"
      ]
     },
     "execution_count": 38,
     "metadata": {},
     "output_type": "execute_result"
    },
    {
     "data": {
      "image/png": "[encoded data removed]",
      "text/plain": [
       "<Figure size 432x288 with 1 Axes>"
      ]
     },
     "metadata": {
      "needs_background": "light"
     },
     "output_type": "display_data"
    }
   ],
   "source": [
    "plotter.plot({'Basic': history}, metric = 'mse')\n",
    "plt.ylim([0,5000])\n",
    "plt.ylabel('MSE [wind-direction]')"
   ]
  },
  {
   "cell_type": "code",
   "execution_count": 39,
   "id": "707da959",
   "metadata": {},
   "outputs": [
    {
     "name": "stdout",
     "output_type": "stream",
     "text": [
      "Error Rate on Train Split: \n",
      "6/6 - 0s - loss: 4012.9207 - mae: 50.8493 - mse: 4012.9207 - mape: 28.3983\n",
      "Train set Mean Abs Error : 50.85\n",
      "Train set Mean Square Error : 4012.92\n"
     ]
    }
   ],
   "source": [
    "print('Error Rate on Train Split: ')\n",
    "loss, mae, mse, mape = model.evaluate(normed_train_data, train_labels, verbose=2)\n",
    "\n",
    "print('Train set Mean Abs Error : {:5.2f}'.format(mae))\n",
    "print('Train set Mean Square Error : {:5.2f}'.format(mse))"
   ]
  },
  {
   "cell_type": "code",
   "execution_count": 40,
   "id": "e1a2efb7",
   "metadata": {},
   "outputs": [
    {
     "name": "stdout",
     "output_type": "stream",
     "text": [
      "Error Rate on Evaluation  Split: \n",
      "2/2 - 0s - loss: 5287.1465 - mae: 59.6538 - mse: 5287.1465 - mape: 30.4340\n",
      "Validation set Mean Abs Error : 59.65\n",
      "Validation set Mean Square Error : 5287.15\n"
     ]
    }
   ],
   "source": [
    "print('Error Rate on Evaluation  Split: ')\n",
    "loss, mae, mse, mape = model.evaluate(normed_valid_dataset, valid_labels, verbose=2)\n",
    "\n",
    "print('Validation set Mean Abs Error : {:5.2f}'.format(mae))\n",
    "print('Validation set Mean Square Error : {:5.2f}'.format(mse))"
   ]
  },
  {
   "cell_type": "code",
   "execution_count": 41,
   "id": "61494ba9",
   "metadata": {},
   "outputs": [
    {
     "name": "stdout",
     "output_type": "stream",
     "text": [
      "Error Rate on Test  Split: \n",
      "2/2 - 0s - loss: 4314.4121 - mae: 55.2008 - mse: 4314.4121 - mape: 32.1625\n",
      "Testing set Mean Abs Error : 55.20\n",
      "Testing set Mean Square Error : 4314.41\n"
     ]
    }
   ],
   "source": [
    "print('Error Rate on Test  Split: ')\n",
    "loss, mae, mse, mape = model.evaluate(normed_test_data, test_labels, verbose=2)\n",
    "\n",
    "print('Testing set Mean Abs Error : {:5.2f}'.format(mae))\n",
    "print('Testing set Mean Square Error : {:5.2f}'.format(mse))"
   ]
  },
  {
   "cell_type": "code",
   "execution_count": 42,
   "id": "29352c0b",
   "metadata": {},
   "outputs": [
    {
     "data": {
      "image/png": "[encoded data removed]",
      "text/plain": [
       "<Figure size 432x288 with 1 Axes>"
      ]
     },
     "metadata": {
      "needs_background": "light"
     },
     "output_type": "display_data"
    }
   ],
   "source": [
    "train_predictions = model.predict(normed_train_data).flatten()\n",
    "\n",
    "a = plt.axes(aspect='equal')\n",
    "plt.scatter(train_labels, train_predictions)\n",
    "plt.xlabel('True Values [wind-direction]')\n",
    "plt.ylabel('Predictions [wind-direction]')\n",
    "lims = [0, 350]\n",
    "plt.xlim(lims)\n",
    "plt.ylim(lims)\n",
    "_ = plt.plot(lims, lims)"
   ]
  },
  {
   "cell_type": "code",
   "execution_count": 43,
   "id": "44db45da",
   "metadata": {},
   "outputs": [
    {
     "data": {
      "image/png": "[encoded data removed]",
      "text/plain": [
       "<Figure size 432x288 with 1 Axes>"
      ]
     },
     "metadata": {
      "needs_background": "light"
     },
     "output_type": "display_data"
    }
   ],
   "source": [
    "test_predictions = model.predict(normed_test_data).flatten()\n",
    "\n",
    "a = plt.axes(aspect='equal')\n",
    "plt.scatter(test_labels, test_predictions)\n",
    "plt.xlabel('True Values [wind-direction]')\n",
    "plt.ylabel('Predictions [wind-direction]')\n",
    "lims = [0, 350]\n",
    "plt.xlim(lims)\n",
    "plt.ylim(lims)\n",
    "_ = plt.plot(lims, lims)"
   ]
  },
  {
   "cell_type": "code",
   "execution_count": 44,
   "id": "6f5063bc",
   "metadata": {},
   "outputs": [
    {
     "data": {
      "image/png": "[encoded data removed]",
      "text/plain": [
       "<Figure size 432x288 with 1 Axes>"
      ]
     },
     "metadata": {
      "needs_background": "light"
     },
     "output_type": "display_data"
    }
   ],
   "source": [
    "# error distribution.\n",
    "error = test_predictions - test_labels\n",
    "plt.hist(error, bins = 25)\n",
    "plt.xlabel(\"Prediction Error [medv]\")\n",
    "_ = plt.ylabel(\"count\")"
   ]
  },
  {
   "cell_type": "code",
   "execution_count": null,
   "id": "972d0f1c",
   "metadata": {},
   "outputs": [],
   "source": []
  }
 ],
 "metadata": {
  "kernelspec": {
   "display_name": "Python 3 (ipykernel)",
   "language": "python",
   "name": "python3"
  },
  "language_info": {
   "codemirror_mode": {
    "name": "ipython",
    "version": 3
   },
   "file_extension": ".py",
   "mimetype": "text/x-python",
   "name": "python",
   "nbconvert_exporter": "python",
   "pygments_lexer": "ipython3",
   "version": "3.9.6"
  }
 },
 "nbformat": 4,
 "nbformat_minor": 5
}

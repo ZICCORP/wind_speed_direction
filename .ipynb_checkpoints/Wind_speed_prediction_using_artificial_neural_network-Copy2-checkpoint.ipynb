{
 "cells": [
  {
   "cell_type": "markdown",
   "id": "2869aab5",
   "metadata": {},
   "source": [
    "### import os for  operating system operations e.g., creating a folder"
   ]
  },
  {
   "cell_type": "code",
   "execution_count": 1,
   "id": "14b84b90",
   "metadata": {},
   "outputs": [],
   "source": [
    "import os"
   ]
  },
  {
   "cell_type": "markdown",
   "id": "a1387a94",
   "metadata": {},
   "source": [
    "### Tensorflow and keras are two packages for creating neural network models."
   ]
  },
  {
   "cell_type": "code",
   "execution_count": 2,
   "id": "142f9f44",
   "metadata": {},
   "outputs": [],
   "source": [
    "\n",
    "import tensorflow as tf\n",
    "from tensorflow import keras"
   ]
  },
  {
   "cell_type": "markdown",
   "id": "037b0c53",
   "metadata": {},
   "source": [
    "### For splitting our dataset into training and test set"
   ]
  },
  {
   "cell_type": "code",
   "execution_count": 3,
   "id": "fc71c4a0",
   "metadata": {},
   "outputs": [],
   "source": [
    "\n",
    "from sklearn.model_selection import train_test_split"
   ]
  },
  {
   "cell_type": "markdown",
   "id": "98d22649",
   "metadata": {},
   "source": [
    "### print tensorflow (TF) version. Make sure you have at least tensorflow 2.1.0"
   ]
  },
  {
   "cell_type": "code",
   "execution_count": 4,
   "id": "ec10543e",
   "metadata": {},
   "outputs": [
    {
     "name": "stdout",
     "output_type": "stream",
     "text": [
      "Tensorflow version: 2.6.0\n"
     ]
    }
   ],
   "source": [
    "\n",
    "print(f\"Tensorflow version: {tf.version.VERSION}\")"
   ]
  },
  {
   "cell_type": "code",
   "execution_count": 5,
   "id": "d31ecb4c",
   "metadata": {},
   "outputs": [],
   "source": [
    "import pathlib # for processing a path e.g c:\\documents\\files\\testset.csv\n",
    "import matplotlib.pyplot as plt # for plotting data and creating different charts.\n",
    "import numpy as np # for math and arrays\n",
    "import pandas as pd # data frame for the data.\n",
    "import seaborn as sns # plotting."
   ]
  },
  {
   "cell_type": "markdown",
   "id": "158856ce",
   "metadata": {},
   "source": [
    "### Read dataset"
   ]
  },
  {
   "cell_type": "code",
   "execution_count": 6,
   "id": "5237014e",
   "metadata": {},
   "outputs": [],
   "source": [
    "\n",
    "dataset = pd.read_csv('dataset2.csv')"
   ]
  },
  {
   "cell_type": "markdown",
   "id": "0ef50c1b",
   "metadata": {},
   "source": [
    "### display dataset"
   ]
  },
  {
   "cell_type": "code",
   "execution_count": 7,
   "id": "912f8f08",
   "metadata": {
    "scrolled": true
   },
   "outputs": [
    {
     "data": {
      "text/html": [
       "<div>\n",
       "<style scoped>\n",
       "    .dataframe tbody tr th:only-of-type {\n",
       "        vertical-align: middle;\n",
       "    }\n",
       "\n",
       "    .dataframe tbody tr th {\n",
       "        vertical-align: top;\n",
       "    }\n",
       "\n",
       "    .dataframe thead th {\n",
       "        text-align: right;\n",
       "    }\n",
       "</style>\n",
       "<table border=\"1\" class=\"dataframe\">\n",
       "  <thead>\n",
       "    <tr style=\"text-align: right;\">\n",
       "      <th></th>\n",
       "      <th>DATE</th>\n",
       "      <th>MAXIMUM-TEMPERATURE</th>\n",
       "      <th>MINIMUM-TEMPERATURE</th>\n",
       "      <th>WIND-DIRECTION</th>\n",
       "      <th>WIND-SPEED</th>\n",
       "      <th>WIND-RUN</th>\n",
       "      <th>RELATIVE-HUMIDITY</th>\n",
       "      <th>AIR-PRESSURE</th>\n",
       "    </tr>\n",
       "  </thead>\n",
       "  <tbody>\n",
       "    <tr>\n",
       "      <th>0</th>\n",
       "      <td>Jan-95</td>\n",
       "      <td>33.3</td>\n",
       "      <td>16.4</td>\n",
       "      <td>73</td>\n",
       "      <td>2.0</td>\n",
       "      <td>NaN</td>\n",
       "      <td>27</td>\n",
       "      <td>1014.5</td>\n",
       "    </tr>\n",
       "    <tr>\n",
       "      <th>1</th>\n",
       "      <td>Feb-95</td>\n",
       "      <td>35.9</td>\n",
       "      <td>18.6</td>\n",
       "      <td>123</td>\n",
       "      <td>3.0</td>\n",
       "      <td>NaN</td>\n",
       "      <td>23</td>\n",
       "      <td>1013.7</td>\n",
       "    </tr>\n",
       "    <tr>\n",
       "      <th>2</th>\n",
       "      <td>Mar-95</td>\n",
       "      <td>40.5</td>\n",
       "      <td>25.0</td>\n",
       "      <td>191</td>\n",
       "      <td>3.0</td>\n",
       "      <td>NaN</td>\n",
       "      <td>32</td>\n",
       "      <td>1009.1</td>\n",
       "    </tr>\n",
       "    <tr>\n",
       "      <th>3</th>\n",
       "      <td>Apr-95</td>\n",
       "      <td>40.1</td>\n",
       "      <td>27.2</td>\n",
       "      <td>196</td>\n",
       "      <td>4.0</td>\n",
       "      <td>NaN</td>\n",
       "      <td>43</td>\n",
       "      <td>1010.5</td>\n",
       "    </tr>\n",
       "    <tr>\n",
       "      <th>4</th>\n",
       "      <td>May-95</td>\n",
       "      <td>36.8</td>\n",
       "      <td>25.7</td>\n",
       "      <td>155</td>\n",
       "      <td>3.0</td>\n",
       "      <td>NaN</td>\n",
       "      <td>61</td>\n",
       "      <td>1010.3</td>\n",
       "    </tr>\n",
       "    <tr>\n",
       "      <th>...</th>\n",
       "      <td>...</td>\n",
       "      <td>...</td>\n",
       "      <td>...</td>\n",
       "      <td>...</td>\n",
       "      <td>...</td>\n",
       "      <td>...</td>\n",
       "      <td>...</td>\n",
       "      <td>...</td>\n",
       "    </tr>\n",
       "    <tr>\n",
       "      <th>303</th>\n",
       "      <td>NaN</td>\n",
       "      <td>40.7</td>\n",
       "      <td>29.4</td>\n",
       "      <td>270</td>\n",
       "      <td>1.5</td>\n",
       "      <td>47.4</td>\n",
       "      <td>48</td>\n",
       "      <td>1003.3</td>\n",
       "    </tr>\n",
       "    <tr>\n",
       "      <th>304</th>\n",
       "      <td>NaN</td>\n",
       "      <td>37.7</td>\n",
       "      <td>27.2</td>\n",
       "      <td>240</td>\n",
       "      <td>2.1</td>\n",
       "      <td>52.8</td>\n",
       "      <td>61</td>\n",
       "      <td>1005.7</td>\n",
       "    </tr>\n",
       "    <tr>\n",
       "      <th>305</th>\n",
       "      <td>NaN</td>\n",
       "      <td>33.8</td>\n",
       "      <td>25.4</td>\n",
       "      <td>230</td>\n",
       "      <td>1.9</td>\n",
       "      <td>52.1</td>\n",
       "      <td>72</td>\n",
       "      <td>1008.3</td>\n",
       "    </tr>\n",
       "    <tr>\n",
       "      <th>306</th>\n",
       "      <td>NaN</td>\n",
       "      <td>31.5</td>\n",
       "      <td>24.2</td>\n",
       "      <td>220</td>\n",
       "      <td>1.9</td>\n",
       "      <td>46.4</td>\n",
       "      <td>79</td>\n",
       "      <td>1010.0</td>\n",
       "    </tr>\n",
       "    <tr>\n",
       "      <th>307</th>\n",
       "      <td>NaN</td>\n",
       "      <td>31.8</td>\n",
       "      <td>24.4</td>\n",
       "      <td>270</td>\n",
       "      <td>1.6</td>\n",
       "      <td>42.4</td>\n",
       "      <td>76</td>\n",
       "      <td>1009.6</td>\n",
       "    </tr>\n",
       "  </tbody>\n",
       "</table>\n",
       "<p>308 rows × 8 columns</p>\n",
       "</div>"
      ],
      "text/plain": [
       "       DATE  MAXIMUM-TEMPERATURE  MINIMUM-TEMPERATURE  WIND-DIRECTION  \\\n",
       "0    Jan-95                 33.3                 16.4              73   \n",
       "1    Feb-95                 35.9                 18.6             123   \n",
       "2    Mar-95                 40.5                 25.0             191   \n",
       "3    Apr-95                 40.1                 27.2             196   \n",
       "4    May-95                 36.8                 25.7             155   \n",
       "..      ...                  ...                  ...             ...   \n",
       "303     NaN                 40.7                 29.4             270   \n",
       "304     NaN                 37.7                 27.2             240   \n",
       "305     NaN                 33.8                 25.4             230   \n",
       "306     NaN                 31.5                 24.2             220   \n",
       "307     NaN                 31.8                 24.4             270   \n",
       "\n",
       "     WIND-SPEED  WIND-RUN  RELATIVE-HUMIDITY  AIR-PRESSURE  \n",
       "0           2.0       NaN                 27        1014.5  \n",
       "1           3.0       NaN                 23        1013.7  \n",
       "2           3.0       NaN                 32        1009.1  \n",
       "3           4.0       NaN                 43        1010.5  \n",
       "4           3.0       NaN                 61        1010.3  \n",
       "..          ...       ...                ...           ...  \n",
       "303         1.5      47.4                 48        1003.3  \n",
       "304         2.1      52.8                 61        1005.7  \n",
       "305         1.9      52.1                 72        1008.3  \n",
       "306         1.9      46.4                 79        1010.0  \n",
       "307         1.6      42.4                 76        1009.6  \n",
       "\n",
       "[308 rows x 8 columns]"
      ]
     },
     "execution_count": 7,
     "metadata": {},
     "output_type": "execute_result"
    }
   ],
   "source": [
    "true_values = dataset['WIND-DIRECTION']\n",
    "dataset.head(-10)"
   ]
  },
  {
   "cell_type": "markdown",
   "id": "653dc3f5",
   "metadata": {},
   "source": [
    "### dataset characteristics"
   ]
  },
  {
   "cell_type": "code",
   "execution_count": 8,
   "id": "9259209e",
   "metadata": {
    "scrolled": true
   },
   "outputs": [
    {
     "data": {
      "text/html": [
       "<div>\n",
       "<style scoped>\n",
       "    .dataframe tbody tr th:only-of-type {\n",
       "        vertical-align: middle;\n",
       "    }\n",
       "\n",
       "    .dataframe tbody tr th {\n",
       "        vertical-align: top;\n",
       "    }\n",
       "\n",
       "    .dataframe thead th {\n",
       "        text-align: right;\n",
       "    }\n",
       "</style>\n",
       "<table border=\"1\" class=\"dataframe\">\n",
       "  <thead>\n",
       "    <tr style=\"text-align: right;\">\n",
       "      <th></th>\n",
       "      <th>MAXIMUM-TEMPERATURE</th>\n",
       "      <th>MINIMUM-TEMPERATURE</th>\n",
       "      <th>WIND-DIRECTION</th>\n",
       "      <th>WIND-SPEED</th>\n",
       "      <th>WIND-RUN</th>\n",
       "      <th>RELATIVE-HUMIDITY</th>\n",
       "      <th>AIR-PRESSURE</th>\n",
       "    </tr>\n",
       "  </thead>\n",
       "  <tbody>\n",
       "    <tr>\n",
       "      <th>count</th>\n",
       "      <td>318.000000</td>\n",
       "      <td>318.000000</td>\n",
       "      <td>318.000000</td>\n",
       "      <td>318.000000</td>\n",
       "      <td>66.000000</td>\n",
       "      <td>318.000000</td>\n",
       "      <td>318.000000</td>\n",
       "    </tr>\n",
       "    <tr>\n",
       "      <th>mean</th>\n",
       "      <td>35.168868</td>\n",
       "      <td>23.039937</td>\n",
       "      <td>165.679245</td>\n",
       "      <td>3.449686</td>\n",
       "      <td>48.207576</td>\n",
       "      <td>53.556604</td>\n",
       "      <td>1011.990566</td>\n",
       "    </tr>\n",
       "    <tr>\n",
       "      <th>std</th>\n",
       "      <td>3.219431</td>\n",
       "      <td>3.183020</td>\n",
       "      <td>54.287681</td>\n",
       "      <td>1.456645</td>\n",
       "      <td>16.390328</td>\n",
       "      <td>21.502584</td>\n",
       "      <td>3.587883</td>\n",
       "    </tr>\n",
       "    <tr>\n",
       "      <th>min</th>\n",
       "      <td>28.500000</td>\n",
       "      <td>13.900000</td>\n",
       "      <td>58.000000</td>\n",
       "      <td>0.000000</td>\n",
       "      <td>18.900000</td>\n",
       "      <td>11.000000</td>\n",
       "      <td>1002.300000</td>\n",
       "    </tr>\n",
       "    <tr>\n",
       "      <th>25%</th>\n",
       "      <td>32.200000</td>\n",
       "      <td>21.000000</td>\n",
       "      <td>120.000000</td>\n",
       "      <td>2.225000</td>\n",
       "      <td>33.300000</td>\n",
       "      <td>32.000000</td>\n",
       "      <td>1010.400000</td>\n",
       "    </tr>\n",
       "    <tr>\n",
       "      <th>50%</th>\n",
       "      <td>35.000000</td>\n",
       "      <td>23.600000</td>\n",
       "      <td>163.500000</td>\n",
       "      <td>3.000000</td>\n",
       "      <td>47.600000</td>\n",
       "      <td>54.000000</td>\n",
       "      <td>1013.200000</td>\n",
       "    </tr>\n",
       "    <tr>\n",
       "      <th>75%</th>\n",
       "      <td>37.300000</td>\n",
       "      <td>25.000000</td>\n",
       "      <td>204.750000</td>\n",
       "      <td>4.000000</td>\n",
       "      <td>61.350000</td>\n",
       "      <td>75.000000</td>\n",
       "      <td>1014.300000</td>\n",
       "    </tr>\n",
       "    <tr>\n",
       "      <th>max</th>\n",
       "      <td>41.900000</td>\n",
       "      <td>29.400000</td>\n",
       "      <td>307.000000</td>\n",
       "      <td>12.000000</td>\n",
       "      <td>98.300000</td>\n",
       "      <td>85.000000</td>\n",
       "      <td>1036.000000</td>\n",
       "    </tr>\n",
       "  </tbody>\n",
       "</table>\n",
       "</div>"
      ],
      "text/plain": [
       "       MAXIMUM-TEMPERATURE  MINIMUM-TEMPERATURE  WIND-DIRECTION  WIND-SPEED  \\\n",
       "count           318.000000           318.000000      318.000000  318.000000   \n",
       "mean             35.168868            23.039937      165.679245    3.449686   \n",
       "std               3.219431             3.183020       54.287681    1.456645   \n",
       "min              28.500000            13.900000       58.000000    0.000000   \n",
       "25%              32.200000            21.000000      120.000000    2.225000   \n",
       "50%              35.000000            23.600000      163.500000    3.000000   \n",
       "75%              37.300000            25.000000      204.750000    4.000000   \n",
       "max              41.900000            29.400000      307.000000   12.000000   \n",
       "\n",
       "        WIND-RUN  RELATIVE-HUMIDITY  AIR-PRESSURE  \n",
       "count  66.000000         318.000000    318.000000  \n",
       "mean   48.207576          53.556604   1011.990566  \n",
       "std    16.390328          21.502584      3.587883  \n",
       "min    18.900000          11.000000   1002.300000  \n",
       "25%    33.300000          32.000000   1010.400000  \n",
       "50%    47.600000          54.000000   1013.200000  \n",
       "75%    61.350000          75.000000   1014.300000  \n",
       "max    98.300000          85.000000   1036.000000  "
      ]
     },
     "execution_count": 8,
     "metadata": {},
     "output_type": "execute_result"
    }
   ],
   "source": [
    "\n",
    "dataset.describe()"
   ]
  },
  {
   "cell_type": "markdown",
   "id": "08ce4100",
   "metadata": {},
   "source": [
    "### Check for null and NaN values"
   ]
  },
  {
   "cell_type": "code",
   "execution_count": 9,
   "id": "24bba101",
   "metadata": {},
   "outputs": [
    {
     "data": {
      "text/plain": [
       "DATE                   113\n",
       "MAXIMUM-TEMPERATURE      0\n",
       "MINIMUM-TEMPERATURE      0\n",
       "WIND-DIRECTION           0\n",
       "WIND-SPEED               0\n",
       "WIND-RUN               252\n",
       "RELATIVE-HUMIDITY        0\n",
       "AIR-PRESSURE             0\n",
       "dtype: int64"
      ]
     },
     "execution_count": 9,
     "metadata": {},
     "output_type": "execute_result"
    }
   ],
   "source": [
    "\n",
    "dataset.isna().sum()"
   ]
  },
  {
   "cell_type": "code",
   "execution_count": 10,
   "id": "081c2667",
   "metadata": {},
   "outputs": [],
   "source": [
    "median =dataset['WIND-RUN'].median()\n",
    "median\n",
    "dataset[\"WIND-RUN\"].fillna(median, inplace=True)"
   ]
  },
  {
   "cell_type": "markdown",
   "id": "27a01151",
   "metadata": {},
   "source": [
    "### copy dataset"
   ]
  },
  {
   "cell_type": "code",
   "execution_count": 11,
   "id": "9e6fb94d",
   "metadata": {},
   "outputs": [
    {
     "data": {
      "text/html": [
       "<div>\n",
       "<style scoped>\n",
       "    .dataframe tbody tr th:only-of-type {\n",
       "        vertical-align: middle;\n",
       "    }\n",
       "\n",
       "    .dataframe tbody tr th {\n",
       "        vertical-align: top;\n",
       "    }\n",
       "\n",
       "    .dataframe thead th {\n",
       "        text-align: right;\n",
       "    }\n",
       "</style>\n",
       "<table border=\"1\" class=\"dataframe\">\n",
       "  <thead>\n",
       "    <tr style=\"text-align: right;\">\n",
       "      <th></th>\n",
       "      <th>DATE</th>\n",
       "      <th>MAXIMUM-TEMPERATURE</th>\n",
       "      <th>MINIMUM-TEMPERATURE</th>\n",
       "      <th>WIND-DIRECTION</th>\n",
       "      <th>WIND-SPEED</th>\n",
       "      <th>WIND-RUN</th>\n",
       "      <th>RELATIVE-HUMIDITY</th>\n",
       "      <th>AIR-PRESSURE</th>\n",
       "    </tr>\n",
       "  </thead>\n",
       "  <tbody>\n",
       "    <tr>\n",
       "      <th>0</th>\n",
       "      <td>Jan-95</td>\n",
       "      <td>33.3</td>\n",
       "      <td>16.4</td>\n",
       "      <td>73</td>\n",
       "      <td>2.0</td>\n",
       "      <td>47.6</td>\n",
       "      <td>27</td>\n",
       "      <td>1014.5</td>\n",
       "    </tr>\n",
       "    <tr>\n",
       "      <th>1</th>\n",
       "      <td>Feb-95</td>\n",
       "      <td>35.9</td>\n",
       "      <td>18.6</td>\n",
       "      <td>123</td>\n",
       "      <td>3.0</td>\n",
       "      <td>47.6</td>\n",
       "      <td>23</td>\n",
       "      <td>1013.7</td>\n",
       "    </tr>\n",
       "    <tr>\n",
       "      <th>2</th>\n",
       "      <td>Mar-95</td>\n",
       "      <td>40.5</td>\n",
       "      <td>25.0</td>\n",
       "      <td>191</td>\n",
       "      <td>3.0</td>\n",
       "      <td>47.6</td>\n",
       "      <td>32</td>\n",
       "      <td>1009.1</td>\n",
       "    </tr>\n",
       "    <tr>\n",
       "      <th>3</th>\n",
       "      <td>Apr-95</td>\n",
       "      <td>40.1</td>\n",
       "      <td>27.2</td>\n",
       "      <td>196</td>\n",
       "      <td>4.0</td>\n",
       "      <td>47.6</td>\n",
       "      <td>43</td>\n",
       "      <td>1010.5</td>\n",
       "    </tr>\n",
       "    <tr>\n",
       "      <th>4</th>\n",
       "      <td>May-95</td>\n",
       "      <td>36.8</td>\n",
       "      <td>25.7</td>\n",
       "      <td>155</td>\n",
       "      <td>3.0</td>\n",
       "      <td>47.6</td>\n",
       "      <td>61</td>\n",
       "      <td>1010.3</td>\n",
       "    </tr>\n",
       "    <tr>\n",
       "      <th>...</th>\n",
       "      <td>...</td>\n",
       "      <td>...</td>\n",
       "      <td>...</td>\n",
       "      <td>...</td>\n",
       "      <td>...</td>\n",
       "      <td>...</td>\n",
       "      <td>...</td>\n",
       "      <td>...</td>\n",
       "    </tr>\n",
       "    <tr>\n",
       "      <th>303</th>\n",
       "      <td>NaN</td>\n",
       "      <td>40.7</td>\n",
       "      <td>29.4</td>\n",
       "      <td>270</td>\n",
       "      <td>1.5</td>\n",
       "      <td>47.4</td>\n",
       "      <td>48</td>\n",
       "      <td>1003.3</td>\n",
       "    </tr>\n",
       "    <tr>\n",
       "      <th>304</th>\n",
       "      <td>NaN</td>\n",
       "      <td>37.7</td>\n",
       "      <td>27.2</td>\n",
       "      <td>240</td>\n",
       "      <td>2.1</td>\n",
       "      <td>52.8</td>\n",
       "      <td>61</td>\n",
       "      <td>1005.7</td>\n",
       "    </tr>\n",
       "    <tr>\n",
       "      <th>305</th>\n",
       "      <td>NaN</td>\n",
       "      <td>33.8</td>\n",
       "      <td>25.4</td>\n",
       "      <td>230</td>\n",
       "      <td>1.9</td>\n",
       "      <td>52.1</td>\n",
       "      <td>72</td>\n",
       "      <td>1008.3</td>\n",
       "    </tr>\n",
       "    <tr>\n",
       "      <th>306</th>\n",
       "      <td>NaN</td>\n",
       "      <td>31.5</td>\n",
       "      <td>24.2</td>\n",
       "      <td>220</td>\n",
       "      <td>1.9</td>\n",
       "      <td>46.4</td>\n",
       "      <td>79</td>\n",
       "      <td>1010.0</td>\n",
       "    </tr>\n",
       "    <tr>\n",
       "      <th>307</th>\n",
       "      <td>NaN</td>\n",
       "      <td>31.8</td>\n",
       "      <td>24.4</td>\n",
       "      <td>270</td>\n",
       "      <td>1.6</td>\n",
       "      <td>42.4</td>\n",
       "      <td>76</td>\n",
       "      <td>1009.6</td>\n",
       "    </tr>\n",
       "  </tbody>\n",
       "</table>\n",
       "<p>308 rows × 8 columns</p>\n",
       "</div>"
      ],
      "text/plain": [
       "       DATE  MAXIMUM-TEMPERATURE  MINIMUM-TEMPERATURE  WIND-DIRECTION  \\\n",
       "0    Jan-95                 33.3                 16.4              73   \n",
       "1    Feb-95                 35.9                 18.6             123   \n",
       "2    Mar-95                 40.5                 25.0             191   \n",
       "3    Apr-95                 40.1                 27.2             196   \n",
       "4    May-95                 36.8                 25.7             155   \n",
       "..      ...                  ...                  ...             ...   \n",
       "303     NaN                 40.7                 29.4             270   \n",
       "304     NaN                 37.7                 27.2             240   \n",
       "305     NaN                 33.8                 25.4             230   \n",
       "306     NaN                 31.5                 24.2             220   \n",
       "307     NaN                 31.8                 24.4             270   \n",
       "\n",
       "     WIND-SPEED  WIND-RUN  RELATIVE-HUMIDITY  AIR-PRESSURE  \n",
       "0           2.0      47.6                 27        1014.5  \n",
       "1           3.0      47.6                 23        1013.7  \n",
       "2           3.0      47.6                 32        1009.1  \n",
       "3           4.0      47.6                 43        1010.5  \n",
       "4           3.0      47.6                 61        1010.3  \n",
       "..          ...       ...                ...           ...  \n",
       "303         1.5      47.4                 48        1003.3  \n",
       "304         2.1      52.8                 61        1005.7  \n",
       "305         1.9      52.1                 72        1008.3  \n",
       "306         1.9      46.4                 79        1010.0  \n",
       "307         1.6      42.4                 76        1009.6  \n",
       "\n",
       "[308 rows x 8 columns]"
      ]
     },
     "execution_count": 11,
     "metadata": {},
     "output_type": "execute_result"
    }
   ],
   "source": [
    "dataset.head(-10)"
   ]
  },
  {
   "cell_type": "code",
   "execution_count": 12,
   "id": "54259a0e",
   "metadata": {},
   "outputs": [],
   "source": [
    "\n",
    "df = dataset[:]"
   ]
  },
  {
   "cell_type": "markdown",
   "id": "6de953ce",
   "metadata": {},
   "source": [
    "### remove the date column"
   ]
  },
  {
   "cell_type": "code",
   "execution_count": 13,
   "id": "f8fb6f78",
   "metadata": {},
   "outputs": [],
   "source": [
    "\n",
    "del df['DATE']"
   ]
  },
  {
   "cell_type": "code",
   "execution_count": 14,
   "id": "c34b6014",
   "metadata": {},
   "outputs": [
    {
     "data": {
      "text/html": [
       "<div>\n",
       "<style scoped>\n",
       "    .dataframe tbody tr th:only-of-type {\n",
       "        vertical-align: middle;\n",
       "    }\n",
       "\n",
       "    .dataframe tbody tr th {\n",
       "        vertical-align: top;\n",
       "    }\n",
       "\n",
       "    .dataframe thead th {\n",
       "        text-align: right;\n",
       "    }\n",
       "</style>\n",
       "<table border=\"1\" class=\"dataframe\">\n",
       "  <thead>\n",
       "    <tr style=\"text-align: right;\">\n",
       "      <th></th>\n",
       "      <th>MAXIMUM-TEMPERATURE</th>\n",
       "      <th>MINIMUM-TEMPERATURE</th>\n",
       "      <th>WIND-DIRECTION</th>\n",
       "      <th>WIND-SPEED</th>\n",
       "      <th>WIND-RUN</th>\n",
       "      <th>RELATIVE-HUMIDITY</th>\n",
       "      <th>AIR-PRESSURE</th>\n",
       "    </tr>\n",
       "  </thead>\n",
       "  <tbody>\n",
       "    <tr>\n",
       "      <th>0</th>\n",
       "      <td>33.3</td>\n",
       "      <td>16.4</td>\n",
       "      <td>73</td>\n",
       "      <td>2.0</td>\n",
       "      <td>47.6</td>\n",
       "      <td>27</td>\n",
       "      <td>1014.5</td>\n",
       "    </tr>\n",
       "    <tr>\n",
       "      <th>1</th>\n",
       "      <td>35.9</td>\n",
       "      <td>18.6</td>\n",
       "      <td>123</td>\n",
       "      <td>3.0</td>\n",
       "      <td>47.6</td>\n",
       "      <td>23</td>\n",
       "      <td>1013.7</td>\n",
       "    </tr>\n",
       "    <tr>\n",
       "      <th>2</th>\n",
       "      <td>40.5</td>\n",
       "      <td>25.0</td>\n",
       "      <td>191</td>\n",
       "      <td>3.0</td>\n",
       "      <td>47.6</td>\n",
       "      <td>32</td>\n",
       "      <td>1009.1</td>\n",
       "    </tr>\n",
       "    <tr>\n",
       "      <th>3</th>\n",
       "      <td>40.1</td>\n",
       "      <td>27.2</td>\n",
       "      <td>196</td>\n",
       "      <td>4.0</td>\n",
       "      <td>47.6</td>\n",
       "      <td>43</td>\n",
       "      <td>1010.5</td>\n",
       "    </tr>\n",
       "    <tr>\n",
       "      <th>4</th>\n",
       "      <td>36.8</td>\n",
       "      <td>25.7</td>\n",
       "      <td>155</td>\n",
       "      <td>3.0</td>\n",
       "      <td>47.6</td>\n",
       "      <td>61</td>\n",
       "      <td>1010.3</td>\n",
       "    </tr>\n",
       "    <tr>\n",
       "      <th>...</th>\n",
       "      <td>...</td>\n",
       "      <td>...</td>\n",
       "      <td>...</td>\n",
       "      <td>...</td>\n",
       "      <td>...</td>\n",
       "      <td>...</td>\n",
       "      <td>...</td>\n",
       "    </tr>\n",
       "    <tr>\n",
       "      <th>313</th>\n",
       "      <td>36.0</td>\n",
       "      <td>22.4</td>\n",
       "      <td>170</td>\n",
       "      <td>3.4</td>\n",
       "      <td>63.7</td>\n",
       "      <td>26</td>\n",
       "      <td>1006.9</td>\n",
       "    </tr>\n",
       "    <tr>\n",
       "      <th>314</th>\n",
       "      <td>39.7</td>\n",
       "      <td>26.1</td>\n",
       "      <td>220</td>\n",
       "      <td>2.1</td>\n",
       "      <td>73.7</td>\n",
       "      <td>35</td>\n",
       "      <td>1005.6</td>\n",
       "    </tr>\n",
       "    <tr>\n",
       "      <th>315</th>\n",
       "      <td>39.7</td>\n",
       "      <td>28.8</td>\n",
       "      <td>200</td>\n",
       "      <td>4.6</td>\n",
       "      <td>84.2</td>\n",
       "      <td>65</td>\n",
       "      <td>1002.6</td>\n",
       "    </tr>\n",
       "    <tr>\n",
       "      <th>316</th>\n",
       "      <td>35.6</td>\n",
       "      <td>25.3</td>\n",
       "      <td>130</td>\n",
       "      <td>2.6</td>\n",
       "      <td>98.3</td>\n",
       "      <td>75</td>\n",
       "      <td>1005.4</td>\n",
       "    </tr>\n",
       "    <tr>\n",
       "      <th>317</th>\n",
       "      <td>32.8</td>\n",
       "      <td>23.8</td>\n",
       "      <td>160</td>\n",
       "      <td>3.6</td>\n",
       "      <td>18.9</td>\n",
       "      <td>77</td>\n",
       "      <td>1007.6</td>\n",
       "    </tr>\n",
       "  </tbody>\n",
       "</table>\n",
       "<p>318 rows × 7 columns</p>\n",
       "</div>"
      ],
      "text/plain": [
       "     MAXIMUM-TEMPERATURE  MINIMUM-TEMPERATURE  WIND-DIRECTION  WIND-SPEED  \\\n",
       "0                   33.3                 16.4              73         2.0   \n",
       "1                   35.9                 18.6             123         3.0   \n",
       "2                   40.5                 25.0             191         3.0   \n",
       "3                   40.1                 27.2             196         4.0   \n",
       "4                   36.8                 25.7             155         3.0   \n",
       "..                   ...                  ...             ...         ...   \n",
       "313                 36.0                 22.4             170         3.4   \n",
       "314                 39.7                 26.1             220         2.1   \n",
       "315                 39.7                 28.8             200         4.6   \n",
       "316                 35.6                 25.3             130         2.6   \n",
       "317                 32.8                 23.8             160         3.6   \n",
       "\n",
       "     WIND-RUN  RELATIVE-HUMIDITY  AIR-PRESSURE  \n",
       "0        47.6                 27        1014.5  \n",
       "1        47.6                 23        1013.7  \n",
       "2        47.6                 32        1009.1  \n",
       "3        47.6                 43        1010.5  \n",
       "4        47.6                 61        1010.3  \n",
       "..        ...                ...           ...  \n",
       "313      63.7                 26        1006.9  \n",
       "314      73.7                 35        1005.6  \n",
       "315      84.2                 65        1002.6  \n",
       "316      98.3                 75        1005.4  \n",
       "317      18.9                 77        1007.6  \n",
       "\n",
       "[318 rows x 7 columns]"
      ]
     },
     "execution_count": 14,
     "metadata": {},
     "output_type": "execute_result"
    }
   ],
   "source": [
    "df"
   ]
  },
  {
   "cell_type": "code",
   "execution_count": 15,
   "id": "40a1385f",
   "metadata": {},
   "outputs": [
    {
     "name": "stdout",
     "output_type": "stream",
     "text": [
      "Number of rows/example and columns in the dataset: (318, 7)\n"
     ]
    }
   ],
   "source": [
    "print(f'Number of rows/example and columns in the dataset: {df.shape}')"
   ]
  },
  {
   "cell_type": "markdown",
   "id": "d39cd5d8",
   "metadata": {},
   "source": [
    "### Summary of information on the dataset."
   ]
  },
  {
   "cell_type": "code",
   "execution_count": 16,
   "id": "c577548b",
   "metadata": {},
   "outputs": [
    {
     "name": "stdout",
     "output_type": "stream",
     "text": [
      "<class 'pandas.core.frame.DataFrame'>\n",
      "RangeIndex: 318 entries, 0 to 317\n",
      "Data columns (total 7 columns):\n",
      " #   Column               Non-Null Count  Dtype  \n",
      "---  ------               --------------  -----  \n",
      " 0   MAXIMUM-TEMPERATURE  318 non-null    float64\n",
      " 1   MINIMUM-TEMPERATURE  318 non-null    float64\n",
      " 2   WIND-DIRECTION       318 non-null    int64  \n",
      " 3   WIND-SPEED           318 non-null    float64\n",
      " 4   WIND-RUN             318 non-null    float64\n",
      " 5   RELATIVE-HUMIDITY    318 non-null    int64  \n",
      " 6   AIR-PRESSURE         318 non-null    float64\n",
      "dtypes: float64(5), int64(2)\n",
      "memory usage: 17.5 KB\n"
     ]
    }
   ],
   "source": [
    "\n",
    "df.info()"
   ]
  },
  {
   "cell_type": "markdown",
   "id": "11194c45",
   "metadata": {},
   "source": [
    "### Split the data into train/test splits"
   ]
  },
  {
   "cell_type": "markdown",
   "id": "339fc7fa",
   "metadata": {},
   "source": [
    "#### Split the data into 60% train and 40% test (later will divide the test to test and validate)"
   ]
  },
  {
   "cell_type": "code",
   "execution_count": 17,
   "id": "46825662",
   "metadata": {},
   "outputs": [
    {
     "name": "stdout",
     "output_type": "stream",
     "text": [
      "(190, 7)\n",
      "(128, 7)\n"
     ]
    }
   ],
   "source": [
    "\n",
    "train_dataset, temp_test_dataset = train_test_split(df, test_size=0.4)\n",
    "\n",
    "print( train_dataset.shape)\n",
    "print( temp_test_dataset.shape)"
   ]
  },
  {
   "cell_type": "markdown",
   "id": "c4de9fc9",
   "metadata": {},
   "source": [
    "### Split the test_dataset dataframe to 50% test and 50% validation."
   ]
  },
  {
   "cell_type": "code",
   "execution_count": 18,
   "id": "1da13eb0",
   "metadata": {},
   "outputs": [
    {
     "name": "stdout",
     "output_type": "stream",
     "text": [
      "(64, 7)\n",
      "(64, 7)\n"
     ]
    }
   ],
   "source": [
    "\n",
    "test_dataset, valid_dataset = train_test_split(temp_test_dataset, test_size=0.5)\n",
    "print(test_dataset.shape)\n",
    "print(valid_dataset.shape)"
   ]
  },
  {
   "cell_type": "code",
   "execution_count": 19,
   "id": "7c5a2b6d",
   "metadata": {},
   "outputs": [
    {
     "name": "stdout",
     "output_type": "stream",
     "text": [
      "Display the datatype of the test_dataset: <class 'pandas.core.frame.DataFrame'>\n",
      "Train dataset      : (190, 7)\n",
      "Test dataset       : (64, 7)\n",
      "Validation dataset : (64, 7)\n"
     ]
    }
   ],
   "source": [
    "print(f\"Display the datatype of the test_dataset: {type(test_dataset)}\")\n",
    "print(f\"Train dataset      : {train_dataset.shape}\")\n",
    "print(f\"Test dataset       : {test_dataset.shape}\")\n",
    "print(f\"Validation dataset : {valid_dataset.shape}\")"
   ]
  },
  {
   "cell_type": "markdown",
   "id": "7ea98bc3",
   "metadata": {},
   "source": [
    "## Plot the relationship between each two variables to spot anything incorrect."
   ]
  },
  {
   "cell_type": "code",
   "execution_count": 20,
   "id": "08975b87",
   "metadata": {},
   "outputs": [
    {
     "data": {
      "text/plain": [
       "<seaborn.axisgrid.PairGrid at 0x223f7ea8f10>"
      ]
     },
     "execution_count": 20,
     "metadata": {},
     "output_type": "execute_result"
    },
    {
     "data": {
      "image/png": "[encoded data removed]",
      "text/plain": [
       "<Figure size 1080x1080 with 42 Axes>"
      ]
     },
     "metadata": {
      "needs_background": "light"
     },
     "output_type": "display_data"
    }
   ],
   "source": [
    "\n",
    "train_stats = train_dataset.describe()\n",
    "train_stats.pop(\"WIND-DIRECTION\")\n",
    "sns.pairplot(train_stats[train_stats.columns], diag_kind=\"kde\") # or diag_kind='reg'"
   ]
  },
  {
   "cell_type": "markdown",
   "id": "d2403de2",
   "metadata": {},
   "source": [
    "### Statistics on the train dataset to make sure it in a good shape"
   ]
  },
  {
   "cell_type": "code",
   "execution_count": 21,
   "id": "4fd48f24",
   "metadata": {},
   "outputs": [
    {
     "data": {
      "text/plain": [
       "count    190.000000\n",
       "mean     168.168421\n",
       "std       54.197103\n",
       "min       58.000000\n",
       "25%      120.250000\n",
       "50%      170.000000\n",
       "75%      207.750000\n",
       "max      272.000000\n",
       "Name: WIND-DIRECTION, dtype: float64"
      ]
     },
     "execution_count": 21,
     "metadata": {},
     "output_type": "execute_result"
    }
   ],
   "source": [
    "\n",
    "train_stats = train_dataset.describe()\n",
    "wind_direction=train_stats.pop(\"WIND-DIRECTION\")\n",
    "train_stats = train_stats.transpose()\n",
    "#train_stats\n",
    "wind_direction"
   ]
  },
  {
   "cell_type": "markdown",
   "id": "96bdbcc9",
   "metadata": {},
   "source": [
    "## The label is \"WIND-SPEED\""
   ]
  },
  {
   "cell_type": "code",
   "execution_count": 22,
   "id": "172a0253",
   "metadata": {},
   "outputs": [],
   "source": [
    "train_labels = train_dataset.pop('WIND-SPEED')\n",
    "test_labels = test_dataset.pop('WIND-SPEED')\n",
    "valid_labels = valid_dataset.pop('WIND-SPEED')"
   ]
  },
  {
   "cell_type": "markdown",
   "id": "8f526c2f",
   "metadata": {},
   "source": [
    "## Data Normalization/Scaling"
   ]
  },
  {
   "cell_type": "markdown",
   "id": "4b90d77e",
   "metadata": {},
   "source": [
    "## Subtract the mean of the training data and divide by the standard deviation"
   ]
  },
  {
   "cell_type": "markdown",
   "id": "d1f7c8cc",
   "metadata": {},
   "source": [
    "### define a function to normalize the data set."
   ]
  },
  {
   "cell_type": "code",
   "execution_count": 23,
   "id": "5c2999c8",
   "metadata": {},
   "outputs": [
    {
     "name": "stderr",
     "output_type": "stream",
     "text": [
      "c:\\users\\hp\\appdata\\local\\programs\\python\\python39\\lib\\site-packages\\pandas\\core\\frame.py:3607: SettingWithCopyWarning: \n",
      "A value is trying to be set on a copy of a slice from a DataFrame.\n",
      "Try using .loc[row_indexer,col_indexer] = value instead\n",
      "\n",
      "See the caveats in the documentation: https://pandas.pydata.org/pandas-docs/stable/user_guide/indexing.html#returning-a-view-versus-a-copy\n",
      "  self._set_item(key, value)\n",
      "c:\\users\\hp\\appdata\\local\\programs\\python\\python39\\lib\\site-packages\\pandas\\core\\frame.py:3607: SettingWithCopyWarning: \n",
      "A value is trying to be set on a copy of a slice from a DataFrame.\n",
      "Try using .loc[row_indexer,col_indexer] = value instead\n",
      "\n",
      "See the caveats in the documentation: https://pandas.pydata.org/pandas-docs/stable/user_guide/indexing.html#returning-a-view-versus-a-copy\n",
      "  self._set_item(key, value)\n",
      "c:\\users\\hp\\appdata\\local\\programs\\python\\python39\\lib\\site-packages\\pandas\\core\\frame.py:3607: SettingWithCopyWarning: \n",
      "A value is trying to be set on a copy of a slice from a DataFrame.\n",
      "Try using .loc[row_indexer,col_indexer] = value instead\n",
      "\n",
      "See the caveats in the documentation: https://pandas.pydata.org/pandas-docs/stable/user_guide/indexing.html#returning-a-view-versus-a-copy\n",
      "  self._set_item(key, value)\n"
     ]
    }
   ],
   "source": [
    "\n",
    "\n",
    "from sklearn.preprocessing import MinMaxScaler\n",
    "\n",
    "def norm(x):\n",
    "    cols_to_scale= ['MAXIMUM-TEMPERATURE','MINIMUM-TEMPERATURE','WIND-DIRECTION','RELATIVE-HUMIDITY','WIND-RUN','AIR-PRESSURE']\n",
    "    scaler = MinMaxScaler()\n",
    "    x[cols_to_scale] = scaler.fit_transform(x[cols_to_scale])\n",
    "    return x\n",
    "      \n",
    "normed_train_data = norm(train_dataset)\n",
    "normed_test_data = norm(test_dataset)\n",
    "normed_valid_dataset = norm(valid_dataset)"
   ]
  },
  {
   "cell_type": "code",
   "execution_count": 24,
   "id": "99197d5f",
   "metadata": {},
   "outputs": [
    {
     "name": "stdout",
     "output_type": "stream",
     "text": [
      "Train/Test/Validate splits: \n",
      "Train       : (190, 6) \n",
      "Test        : (64, 6) \n",
      "Validate    : (64, 6) \n",
      "Train/Test/Validate labels: \n",
      "Train Labels : (190,)\n",
      "Test Labels  : (64,)\n",
      "Test Labels  : (64,)\n"
     ]
    }
   ],
   "source": [
    "print(f'Train/Test/Validate splits: ')\n",
    "print(f'Train       : {normed_train_data.shape} ')\n",
    "print(f'Test        : {normed_test_data.shape} ')\n",
    "print(f'Validate    : {normed_valid_dataset.shape} ')\n",
    "\n",
    "print(f'Train/Test/Validate labels: ')\n",
    "print(f'Train Labels : {train_labels.shape}')\n",
    "print(f'Test Labels  : {test_labels.shape}')\n",
    "print(f'Test Labels  : {valid_labels.shape}')"
   ]
  },
  {
   "cell_type": "markdown",
   "id": "4ac918f4",
   "metadata": {},
   "source": [
    "## show a sample of the data after normalized"
   ]
  },
  {
   "cell_type": "code",
   "execution_count": 25,
   "id": "6762edde",
   "metadata": {},
   "outputs": [
    {
     "data": {
      "text/html": [
       "<div>\n",
       "<style scoped>\n",
       "    .dataframe tbody tr th:only-of-type {\n",
       "        vertical-align: middle;\n",
       "    }\n",
       "\n",
       "    .dataframe tbody tr th {\n",
       "        vertical-align: top;\n",
       "    }\n",
       "\n",
       "    .dataframe thead th {\n",
       "        text-align: right;\n",
       "    }\n",
       "</style>\n",
       "<table border=\"1\" class=\"dataframe\">\n",
       "  <thead>\n",
       "    <tr style=\"text-align: right;\">\n",
       "      <th></th>\n",
       "      <th>MAXIMUM-TEMPERATURE</th>\n",
       "      <th>MINIMUM-TEMPERATURE</th>\n",
       "      <th>WIND-DIRECTION</th>\n",
       "      <th>WIND-RUN</th>\n",
       "      <th>RELATIVE-HUMIDITY</th>\n",
       "      <th>AIR-PRESSURE</th>\n",
       "    </tr>\n",
       "  </thead>\n",
       "  <tbody>\n",
       "    <tr>\n",
       "      <th>19</th>\n",
       "      <td>0.186567</td>\n",
       "      <td>0.576389</td>\n",
       "      <td>0.593458</td>\n",
       "      <td>0.289916</td>\n",
       "      <td>0.943662</td>\n",
       "      <td>0.737179</td>\n",
       "    </tr>\n",
       "    <tr>\n",
       "      <th>84</th>\n",
       "      <td>0.276119</td>\n",
       "      <td>0.270833</td>\n",
       "      <td>0.060748</td>\n",
       "      <td>0.289916</td>\n",
       "      <td>0.239437</td>\n",
       "      <td>0.884615</td>\n",
       "    </tr>\n",
       "    <tr>\n",
       "      <th>6</th>\n",
       "      <td>0.223881</td>\n",
       "      <td>0.618056</td>\n",
       "      <td>0.140187</td>\n",
       "      <td>0.289916</td>\n",
       "      <td>0.915493</td>\n",
       "      <td>0.762821</td>\n",
       "    </tr>\n",
       "    <tr>\n",
       "      <th>298</th>\n",
       "      <td>0.291045</td>\n",
       "      <td>0.222222</td>\n",
       "      <td>0.429907</td>\n",
       "      <td>0.023810</td>\n",
       "      <td>0.154930</td>\n",
       "      <td>0.192308</td>\n",
       "    </tr>\n",
       "    <tr>\n",
       "      <th>174</th>\n",
       "      <td>0.291045</td>\n",
       "      <td>0.631944</td>\n",
       "      <td>0.425234</td>\n",
       "      <td>0.289916</td>\n",
       "      <td>0.943662</td>\n",
       "      <td>0.820513</td>\n",
       "    </tr>\n",
       "    <tr>\n",
       "      <th>239</th>\n",
       "      <td>0.514925</td>\n",
       "      <td>0.243056</td>\n",
       "      <td>0.242991</td>\n",
       "      <td>0.289916</td>\n",
       "      <td>0.281690</td>\n",
       "      <td>0.807692</td>\n",
       "    </tr>\n",
       "    <tr>\n",
       "      <th>111</th>\n",
       "      <td>0.888060</td>\n",
       "      <td>1.000000</td>\n",
       "      <td>1.000000</td>\n",
       "      <td>0.289916</td>\n",
       "      <td>0.549296</td>\n",
       "      <td>0.461538</td>\n",
       "    </tr>\n",
       "    <tr>\n",
       "      <th>89</th>\n",
       "      <td>0.395522</td>\n",
       "      <td>0.750000</td>\n",
       "      <td>0.523364</td>\n",
       "      <td>0.289916</td>\n",
       "      <td>0.845070</td>\n",
       "      <td>0.743590</td>\n",
       "    </tr>\n",
       "    <tr>\n",
       "      <th>316</th>\n",
       "      <td>0.529851</td>\n",
       "      <td>0.743056</td>\n",
       "      <td>0.336449</td>\n",
       "      <td>1.000000</td>\n",
       "      <td>0.873239</td>\n",
       "      <td>0.198718</td>\n",
       "    </tr>\n",
       "    <tr>\n",
       "      <th>204</th>\n",
       "      <td>0.455224</td>\n",
       "      <td>0.215278</td>\n",
       "      <td>0.168224</td>\n",
       "      <td>0.289916</td>\n",
       "      <td>0.225352</td>\n",
       "      <td>0.852564</td>\n",
       "    </tr>\n",
       "  </tbody>\n",
       "</table>\n",
       "</div>"
      ],
      "text/plain": [
       "     MAXIMUM-TEMPERATURE  MINIMUM-TEMPERATURE  WIND-DIRECTION  WIND-RUN  \\\n",
       "19              0.186567             0.576389        0.593458  0.289916   \n",
       "84              0.276119             0.270833        0.060748  0.289916   \n",
       "6               0.223881             0.618056        0.140187  0.289916   \n",
       "298             0.291045             0.222222        0.429907  0.023810   \n",
       "174             0.291045             0.631944        0.425234  0.289916   \n",
       "239             0.514925             0.243056        0.242991  0.289916   \n",
       "111             0.888060             1.000000        1.000000  0.289916   \n",
       "89              0.395522             0.750000        0.523364  0.289916   \n",
       "316             0.529851             0.743056        0.336449  1.000000   \n",
       "204             0.455224             0.215278        0.168224  0.289916   \n",
       "\n",
       "     RELATIVE-HUMIDITY  AIR-PRESSURE  \n",
       "19            0.943662      0.737179  \n",
       "84            0.239437      0.884615  \n",
       "6             0.915493      0.762821  \n",
       "298           0.154930      0.192308  \n",
       "174           0.943662      0.820513  \n",
       "239           0.281690      0.807692  \n",
       "111           0.549296      0.461538  \n",
       "89            0.845070      0.743590  \n",
       "316           0.873239      0.198718  \n",
       "204           0.225352      0.852564  "
      ]
     },
     "execution_count": 25,
     "metadata": {},
     "output_type": "execute_result"
    }
   ],
   "source": [
    "\n",
    "normed_train_data.head(10)"
   ]
  },
  {
   "cell_type": "markdown",
   "id": "1c04c32b",
   "metadata": {},
   "source": [
    "## Build a Neural Network Model"
   ]
  },
  {
   "cell_type": "markdown",
   "id": "79302009",
   "metadata": {},
   "source": [
    "### We declared a function for creating a model."
   ]
  },
  {
   "cell_type": "code",
   "execution_count": 26,
   "id": "3674e846",
   "metadata": {},
   "outputs": [],
   "source": [
    "\n",
    "\n",
    "def model1_single_layer_perceptron():\n",
    "    model = keras.Sequential([\n",
    "       keras.layers.Dense(1,input_shape=(6,)) \n",
    "    ])\n",
    "    model.compile(\n",
    "    optimizer='adam',\n",
    "    loss='mse',\n",
    "    metrics=['mae','mse','mape'])\n",
    "    \n",
    "    return model\n",
    "    \n",
    "        "
   ]
  },
  {
   "cell_type": "code",
   "execution_count": 27,
   "id": "f93294ab",
   "metadata": {},
   "outputs": [
    {
     "name": "stdout",
     "output_type": "stream",
     "text": [
      "Here is a summary of this model: \n",
      "Model: \"sequential\"\n",
      "_________________________________________________________________\n",
      "Layer (type)                 Output Shape              Param #   \n",
      "=================================================================\n",
      "dense (Dense)                (None, 1)                 7         \n",
      "=================================================================\n",
      "Total params: 7\n",
      "Trainable params: 7\n",
      "Non-trainable params: 0\n",
      "_________________________________________________________________\n"
     ]
    }
   ],
   "source": [
    "model1 = model1_single_layer_perceptron()\n",
    "print('Here is a summary of this model: ')\n",
    "model1.summary()"
   ]
  },
  {
   "cell_type": "markdown",
   "id": "a6a74daa",
   "metadata": {},
   "source": [
    "## import NN and other components."
   ]
  },
  {
   "cell_type": "code",
   "execution_count": 28,
   "id": "885e59da",
   "metadata": {},
   "outputs": [],
   "source": [
    "\n",
    "from tensorflow.keras.models import Sequential\n",
    "from tensorflow.keras.layers import Activation,Dense,BatchNormalization,Dropout\n",
    "from tensorflow.keras import optimizers"
   ]
  },
  {
   "cell_type": "code",
   "execution_count": 29,
   "id": "784ae5b1",
   "metadata": {},
   "outputs": [],
   "source": [
    "def model2_multilayer_perceptron_with_one_hidden_layer():\n",
    "      model = Sequential()\n",
    "     # The model so far is empty. It can be constructed by adding layers and compilation.\n",
    "     # This Keras model with a single hidden layers.\n",
    "        \n",
    "     # Input Layer with 10 Neurons\n",
    "      model.add(Dense(10, input_shape =(normed_train_data.shape[1],)))\n",
    "      \n",
    "    \n",
    "      model.add(Dropout(0.5))\n",
    "    \n",
    "      model.add(Dense(35, Activation('relu'))) # Hidden layer 1\n",
    "        \n",
    "      model.add(Dropout(0.5))\n",
    "\n",
    "      model.add(Dense(1))  # Output layer => output dimension = 1\n",
    "    \n",
    "      learning_rate = 0.001\n",
    "    \n",
    "      optimizer = optimizers.RMSprop(learning_rate)\n",
    "  \n",
    "      model.compile(loss='mse',optimizer=optimizer, metrics=['mae','mse','mape']) \n",
    "      return model\n"
   ]
  },
  {
   "cell_type": "code",
   "execution_count": 30,
   "id": "f5f0ff51",
   "metadata": {},
   "outputs": [
    {
     "name": "stdout",
     "output_type": "stream",
     "text": [
      "Here is a summary of this model: \n",
      "Model: \"sequential_1\"\n",
      "_________________________________________________________________\n",
      "Layer (type)                 Output Shape              Param #   \n",
      "=================================================================\n",
      "dense_1 (Dense)              (None, 10)                70        \n",
      "_________________________________________________________________\n",
      "dropout (Dropout)            (None, 10)                0         \n",
      "_________________________________________________________________\n",
      "dense_2 (Dense)              (None, 35)                385       \n",
      "_________________________________________________________________\n",
      "dropout_1 (Dropout)          (None, 35)                0         \n",
      "_________________________________________________________________\n",
      "dense_3 (Dense)              (None, 1)                 36        \n",
      "=================================================================\n",
      "Total params: 491\n",
      "Trainable params: 491\n",
      "Non-trainable params: 0\n",
      "_________________________________________________________________\n"
     ]
    }
   ],
   "source": [
    "model2 = model2_multilayer_perceptron_with_one_hidden_layer()\n",
    "print('Here is a summary of this model: ')\n",
    "model2.summary()"
   ]
  },
  {
   "cell_type": "code",
   "execution_count": 31,
   "id": "560d7b5d",
   "metadata": {},
   "outputs": [],
   "source": [
    "def model3_multilayer_perceptron_with_two_hidden_layer():\n",
    "      model = Sequential()\n",
    "     # The model so far is empty. It can be constructed by adding layers and compilation.\n",
    "     # This Keras model with a single hidden layers.\n",
    "        \n",
    "     # Input Layer with 32 Neurons\n",
    "      model.add(Dense(32, input_shape =(normed_train_data.shape[1],)))\n",
    " \n",
    "      model.add(Dense(32, Activation('relu'))) # Hidden layer 1\n",
    "      model.add(Dropout(0.5))\n",
    "        \n",
    "      model.add(Dense(64, Activation('relu'))) # Hidden layer 2\n",
    "    \n",
    "      model.add(Dense(72, Activation('relu'))) # Hidden layer 2\n",
    "        \n",
    "      model.add(Dropout(0.5))\n",
    "\n",
    "      model.add(Dense(80, Activation('relu'))) # Hidden layer 2\n",
    "        \n",
    "      model.add(Dropout(0.5))\n",
    "    \n",
    "      model.add(Dense(1))  # Output layer => output dimension = 1\n",
    "    \n",
    "      learning_rate = 0.001\n",
    "    \n",
    "      optimizer = optimizers.RMSprop(learning_rate)\n",
    "  \n",
    "      model.compile(loss='mse',optimizer=optimizer, metrics=['mae','mse','mape']) \n",
    "      return model"
   ]
  },
  {
   "cell_type": "code",
   "execution_count": 32,
   "id": "36a6f1d8",
   "metadata": {},
   "outputs": [
    {
     "name": "stdout",
     "output_type": "stream",
     "text": [
      "Here is a summary of this model: \n",
      "Model: \"sequential_2\"\n",
      "_________________________________________________________________\n",
      "Layer (type)                 Output Shape              Param #   \n",
      "=================================================================\n",
      "dense_4 (Dense)              (None, 32)                224       \n",
      "_________________________________________________________________\n",
      "dense_5 (Dense)              (None, 32)                1056      \n",
      "_________________________________________________________________\n",
      "dropout_2 (Dropout)          (None, 32)                0         \n",
      "_________________________________________________________________\n",
      "dense_6 (Dense)              (None, 64)                2112      \n",
      "_________________________________________________________________\n",
      "dense_7 (Dense)              (None, 72)                4680      \n",
      "_________________________________________________________________\n",
      "dropout_3 (Dropout)          (None, 72)                0         \n",
      "_________________________________________________________________\n",
      "dense_8 (Dense)              (None, 80)                5840      \n",
      "_________________________________________________________________\n",
      "dropout_4 (Dropout)          (None, 80)                0         \n",
      "_________________________________________________________________\n",
      "dense_9 (Dense)              (None, 1)                 81        \n",
      "=================================================================\n",
      "Total params: 13,993\n",
      "Trainable params: 13,993\n",
      "Non-trainable params: 0\n",
      "_________________________________________________________________\n"
     ]
    }
   ],
   "source": [
    "model3 = model3_multilayer_perceptron_with_two_hidden_layer()\n",
    "print('Here is a summary of this model: ')\n",
    "\n",
    "\n",
    "model3.summary()\n"
   ]
  },
  {
   "cell_type": "markdown",
   "id": "a6ecc293",
   "metadata": {},
   "source": [
    "## Test the model before training (this will use the initial weights)"
   ]
  },
  {
   "cell_type": "code",
   "execution_count": 33,
   "id": "01d8c3d4",
   "metadata": {},
   "outputs": [],
   "source": [
    "\n",
    "example_result_1 = model1.predict(normed_train_data) # Here we are using the single layer perceptron model\n",
    "\n"
   ]
  },
  {
   "cell_type": "markdown",
   "id": "0fa05e94",
   "metadata": {},
   "source": [
    "## Compare the predicted values with the actual values "
   ]
  },
  {
   "cell_type": "code",
   "execution_count": 34,
   "id": "c8fde2aa",
   "metadata": {},
   "outputs": [
    {
     "name": "stdout",
     "output_type": "stream",
     "text": [
      "Predicted Values\n",
      "[[-0.70779103]\n",
      " [-0.6585385 ]\n",
      " [-0.888292  ]\n",
      " [-0.16708206]\n",
      " [-0.8536919 ]\n",
      " [-0.76598   ]\n",
      " [-0.81936604]\n",
      " [-0.8324555 ]\n",
      " [-1.5155671 ]\n",
      " [-0.73245   ]]\n",
      "\n",
      "Actual Values\n",
      "2.0\n",
      "3.0\n",
      "2.0\n",
      "1.4\n",
      "4.0\n",
      "5.0\n",
      "6.0\n",
      "5.0\n",
      "2.6\n",
      "4.0\n"
     ]
    }
   ],
   "source": [
    "print('Predicted Values')\n",
    "print(example_result_1[:10])\n",
    "print()\n",
    "print('Actual Values')\n",
    "print(train_labels[:10].to_string(index=False))"
   ]
  },
  {
   "cell_type": "markdown",
   "id": "4331538e",
   "metadata": {},
   "source": [
    "## Save checkpoints during training"
   ]
  },
  {
   "cell_type": "code",
   "execution_count": 35,
   "id": "b2909665",
   "metadata": {},
   "outputs": [],
   "source": [
    "# checkpoint_path\n",
    "checkpoint_path = r\".\\models\\wind_direction_prediction.ckpt\"\n",
    "\n",
    "#create a callback that saves the model's weight\n",
    "ckpt_callback = tf.keras.callbacks.ModelCheckpoint(filepath=checkpoint_path,monitor='val_loss',\n",
    "                                                 save_best_only=True,verbose=0,)"
   ]
  },
  {
   "cell_type": "markdown",
   "id": "987f0289",
   "metadata": {},
   "source": [
    "## Training the model we built above."
   ]
  },
  {
   "cell_type": "markdown",
   "id": "3cb75756",
   "metadata": {},
   "source": [
    "### Training the single layer perceptron"
   ]
  },
  {
   "cell_type": "code",
   "execution_count": 36,
   "id": "9ed9cb5e",
   "metadata": {},
   "outputs": [],
   "source": [
    "# Tensorflow utils packages.\n",
    "import tensorflow_docs as tfdocs\n",
    "import tensorflow_docs.plots\n",
    "import tensorflow_docs.modeling"
   ]
  },
  {
   "cell_type": "code",
   "execution_count": 37,
   "id": "50ef6746",
   "metadata": {},
   "outputs": [
    {
     "name": "stdout",
     "output_type": "stream",
     "text": [
      "Here is a summary of this model: \n",
      "Model: \"sequential_3\"\n",
      "_________________________________________________________________\n",
      "Layer (type)                 Output Shape              Param #   \n",
      "=================================================================\n",
      "dense_10 (Dense)             (None, 1)                 7         \n",
      "=================================================================\n",
      "Total params: 7\n",
      "Trainable params: 7\n",
      "Non-trainable params: 0\n",
      "_________________________________________________________________\n",
      "\n",
      "Epoch: 0, loss:17.0680,  mae:4.0498,  mape:106.6006,  mse:17.0680,  val_loss:10.9271,  val_mae:3.0890,  val_mape:97.0897,  val_mse:10.9271,  \n",
      ".INFO:tensorflow:Assets written to: .\\models\\wind_direction_prediction.ckpt\\assets\n",
      ".INFO:tensorflow:Assets written to: .\\models\\wind_direction_prediction.ckpt\\assets\n",
      ".INFO:tensorflow:Assets written to: .\\models\\wind_direction_prediction.ckpt\\assets\n",
      ".INFO:tensorflow:Assets written to: .\\models\\wind_direction_prediction.ckpt\\assets\n",
      ".INFO:tensorflow:Assets written to: .\\models\\wind_direction_prediction.ckpt\\assets\n",
      ".INFO:tensorflow:Assets written to: .\\models\\wind_direction_prediction.ckpt\\assets\n",
      ".INFO:tensorflow:Assets written to: .\\models\\wind_direction_prediction.ckpt\\assets\n",
      ".INFO:tensorflow:Assets written to: .\\models\\wind_direction_prediction.ckpt\\assets\n",
      ".INFO:tensorflow:Assets written to: .\\models\\wind_direction_prediction.ckpt\\assets\n",
      ".INFO:tensorflow:Assets written to: .\\models\\wind_direction_prediction.ckpt\\assets\n",
      ".INFO:tensorflow:Assets written to: .\\models\\wind_direction_prediction.ckpt\\assets\n",
      ".INFO:tensorflow:Assets written to: .\\models\\wind_direction_prediction.ckpt\\assets\n",
      ".INFO:tensorflow:Assets written to: .\\models\\wind_direction_prediction.ckpt\\assets\n",
      ".INFO:tensorflow:Assets written to: .\\models\\wind_direction_prediction.ckpt\\assets\n",
      ".INFO:tensorflow:Assets written to: .\\models\\wind_direction_prediction.ckpt\\assets\n",
      ".INFO:tensorflow:Assets written to: .\\models\\wind_direction_prediction.ckpt\\assets\n",
      ".INFO:tensorflow:Assets written to: .\\models\\wind_direction_prediction.ckpt\\assets\n",
      ".INFO:tensorflow:Assets written to: .\\models\\wind_direction_prediction.ckpt\\assets\n",
      ".INFO:tensorflow:Assets written to: .\\models\\wind_direction_prediction.ckpt\\assets\n",
      ".INFO:tensorflow:Assets written to: .\\models\\wind_direction_prediction.ckpt\\assets\n",
      ".INFO:tensorflow:Assets written to: .\\models\\wind_direction_prediction.ckpt\\assets\n",
      ".INFO:tensorflow:Assets written to: .\\models\\wind_direction_prediction.ckpt\\assets\n",
      ".INFO:tensorflow:Assets written to: .\\models\\wind_direction_prediction.ckpt\\assets\n",
      ".INFO:tensorflow:Assets written to: .\\models\\wind_direction_prediction.ckpt\\assets\n",
      ".INFO:tensorflow:Assets written to: .\\models\\wind_direction_prediction.ckpt\\assets\n",
      ".INFO:tensorflow:Assets written to: .\\models\\wind_direction_prediction.ckpt\\assets\n",
      ".INFO:tensorflow:Assets written to: .\\models\\wind_direction_prediction.ckpt\\assets\n",
      ".INFO:tensorflow:Assets written to: .\\models\\wind_direction_prediction.ckpt\\assets\n",
      ".INFO:tensorflow:Assets written to: .\\models\\wind_direction_prediction.ckpt\\assets\n",
      ".INFO:tensorflow:Assets written to: .\\models\\wind_direction_prediction.ckpt\\assets\n",
      ".INFO:tensorflow:Assets written to: .\\models\\wind_direction_prediction.ckpt\\assets\n",
      ".INFO:tensorflow:Assets written to: .\\models\\wind_direction_prediction.ckpt\\assets\n",
      ".INFO:tensorflow:Assets written to: .\\models\\wind_direction_prediction.ckpt\\assets\n",
      ".INFO:tensorflow:Assets written to: .\\models\\wind_direction_prediction.ckpt\\assets\n",
      ".INFO:tensorflow:Assets written to: .\\models\\wind_direction_prediction.ckpt\\assets\n",
      ".INFO:tensorflow:Assets written to: .\\models\\wind_direction_prediction.ckpt\\assets\n",
      ".INFO:tensorflow:Assets written to: .\\models\\wind_direction_prediction.ckpt\\assets\n",
      ".INFO:tensorflow:Assets written to: .\\models\\wind_direction_prediction.ckpt\\assets\n",
      ".INFO:tensorflow:Assets written to: .\\models\\wind_direction_prediction.ckpt\\assets\n",
      ".INFO:tensorflow:Assets written to: .\\models\\wind_direction_prediction.ckpt\\assets\n",
      ".INFO:tensorflow:Assets written to: .\\models\\wind_direction_prediction.ckpt\\assets\n",
      ".INFO:tensorflow:Assets written to: .\\models\\wind_direction_prediction.ckpt\\assets\n",
      ".INFO:tensorflow:Assets written to: .\\models\\wind_direction_prediction.ckpt\\assets\n",
      ".INFO:tensorflow:Assets written to: .\\models\\wind_direction_prediction.ckpt\\assets\n",
      ".INFO:tensorflow:Assets written to: .\\models\\wind_direction_prediction.ckpt\\assets\n",
      ".INFO:tensorflow:Assets written to: .\\models\\wind_direction_prediction.ckpt\\assets\n",
      ".INFO:tensorflow:Assets written to: .\\models\\wind_direction_prediction.ckpt\\assets\n",
      ".INFO:tensorflow:Assets written to: .\\models\\wind_direction_prediction.ckpt\\assets\n",
      ".INFO:tensorflow:Assets written to: .\\models\\wind_direction_prediction.ckpt\\assets\n",
      ".INFO:tensorflow:Assets written to: .\\models\\wind_direction_prediction.ckpt\\assets\n",
      ".INFO:tensorflow:Assets written to: .\\models\\wind_direction_prediction.ckpt\\assets\n",
      ".INFO:tensorflow:Assets written to: .\\models\\wind_direction_prediction.ckpt\\assets\n",
      ".INFO:tensorflow:Assets written to: .\\models\\wind_direction_prediction.ckpt\\assets\n",
      ".INFO:tensorflow:Assets written to: .\\models\\wind_direction_prediction.ckpt\\assets\n",
      ".INFO:tensorflow:Assets written to: .\\models\\wind_direction_prediction.ckpt\\assets\n",
      ".INFO:tensorflow:Assets written to: .\\models\\wind_direction_prediction.ckpt\\assets\n",
      ".INFO:tensorflow:Assets written to: .\\models\\wind_direction_prediction.ckpt\\assets\n",
      ".INFO:tensorflow:Assets written to: .\\models\\wind_direction_prediction.ckpt\\assets\n",
      ".INFO:tensorflow:Assets written to: .\\models\\wind_direction_prediction.ckpt\\assets\n",
      ".INFO:tensorflow:Assets written to: .\\models\\wind_direction_prediction.ckpt\\assets\n",
      ".INFO:tensorflow:Assets written to: .\\models\\wind_direction_prediction.ckpt\\assets\n",
      ".INFO:tensorflow:Assets written to: .\\models\\wind_direction_prediction.ckpt\\assets\n",
      ".INFO:tensorflow:Assets written to: .\\models\\wind_direction_prediction.ckpt\\assets\n",
      ".INFO:tensorflow:Assets written to: .\\models\\wind_direction_prediction.ckpt\\assets\n",
      ".INFO:tensorflow:Assets written to: .\\models\\wind_direction_prediction.ckpt\\assets\n",
      ".INFO:tensorflow:Assets written to: .\\models\\wind_direction_prediction.ckpt\\assets\n",
      ".INFO:tensorflow:Assets written to: .\\models\\wind_direction_prediction.ckpt\\assets\n",
      ".INFO:tensorflow:Assets written to: .\\models\\wind_direction_prediction.ckpt\\assets\n",
      ".INFO:tensorflow:Assets written to: .\\models\\wind_direction_prediction.ckpt\\assets\n",
      ".INFO:tensorflow:Assets written to: .\\models\\wind_direction_prediction.ckpt\\assets\n",
      ".INFO:tensorflow:Assets written to: .\\models\\wind_direction_prediction.ckpt\\assets\n",
      ".INFO:tensorflow:Assets written to: .\\models\\wind_direction_prediction.ckpt\\assets\n",
      ".INFO:tensorflow:Assets written to: .\\models\\wind_direction_prediction.ckpt\\assets\n",
      ".INFO:tensorflow:Assets written to: .\\models\\wind_direction_prediction.ckpt\\assets\n",
      ".INFO:tensorflow:Assets written to: .\\models\\wind_direction_prediction.ckpt\\assets\n",
      ".INFO:tensorflow:Assets written to: .\\models\\wind_direction_prediction.ckpt\\assets\n",
      ".INFO:tensorflow:Assets written to: .\\models\\wind_direction_prediction.ckpt\\assets\n",
      ".INFO:tensorflow:Assets written to: .\\models\\wind_direction_prediction.ckpt\\assets\n",
      ".INFO:tensorflow:Assets written to: .\\models\\wind_direction_prediction.ckpt\\assets\n",
      ".INFO:tensorflow:Assets written to: .\\models\\wind_direction_prediction.ckpt\\assets\n",
      ".INFO:tensorflow:Assets written to: .\\models\\wind_direction_prediction.ckpt\\assets\n",
      ".INFO:tensorflow:Assets written to: .\\models\\wind_direction_prediction.ckpt\\assets\n",
      ".INFO:tensorflow:Assets written to: .\\models\\wind_direction_prediction.ckpt\\assets\n",
      ".INFO:tensorflow:Assets written to: .\\models\\wind_direction_prediction.ckpt\\assets\n",
      ".INFO:tensorflow:Assets written to: .\\models\\wind_direction_prediction.ckpt\\assets\n",
      ".INFO:tensorflow:Assets written to: .\\models\\wind_direction_prediction.ckpt\\assets\n",
      ".INFO:tensorflow:Assets written to: .\\models\\wind_direction_prediction.ckpt\\assets\n",
      ".INFO:tensorflow:Assets written to: .\\models\\wind_direction_prediction.ckpt\\assets\n",
      ".INFO:tensorflow:Assets written to: .\\models\\wind_direction_prediction.ckpt\\assets\n",
      ".INFO:tensorflow:Assets written to: .\\models\\wind_direction_prediction.ckpt\\assets\n",
      ".INFO:tensorflow:Assets written to: .\\models\\wind_direction_prediction.ckpt\\assets\n"
     ]
    },
    {
     "name": "stdout",
     "output_type": "stream",
     "text": [
      ".INFO:tensorflow:Assets written to: .\\models\\wind_direction_prediction.ckpt\\assets\n",
      ".INFO:tensorflow:Assets written to: .\\models\\wind_direction_prediction.ckpt\\assets\n",
      ".INFO:tensorflow:Assets written to: .\\models\\wind_direction_prediction.ckpt\\assets\n",
      ".INFO:tensorflow:Assets written to: .\\models\\wind_direction_prediction.ckpt\\assets\n",
      ".INFO:tensorflow:Assets written to: .\\models\\wind_direction_prediction.ckpt\\assets\n",
      ".INFO:tensorflow:Assets written to: .\\models\\wind_direction_prediction.ckpt\\assets\n",
      ".INFO:tensorflow:Assets written to: .\\models\\wind_direction_prediction.ckpt\\assets\n",
      ".INFO:tensorflow:Assets written to: .\\models\\wind_direction_prediction.ckpt\\assets\n",
      ".INFO:tensorflow:Assets written to: .\\models\\wind_direction_prediction.ckpt\\assets\n",
      "\n",
      "Epoch: 100, loss:7.8045,  mae:2.4669,  mape:83.8706,  mse:7.8045,  val_loss:8.8242,  val_mae:2.7321,  val_mape:84.0893,  val_mse:8.8242,  \n",
      ".INFO:tensorflow:Assets written to: .\\models\\wind_direction_prediction.ckpt\\assets\n",
      ".INFO:tensorflow:Assets written to: .\\models\\wind_direction_prediction.ckpt\\assets\n",
      ".INFO:tensorflow:Assets written to: .\\models\\wind_direction_prediction.ckpt\\assets\n",
      ".INFO:tensorflow:Assets written to: .\\models\\wind_direction_prediction.ckpt\\assets\n",
      ".INFO:tensorflow:Assets written to: .\\models\\wind_direction_prediction.ckpt\\assets\n",
      ".INFO:tensorflow:Assets written to: .\\models\\wind_direction_prediction.ckpt\\assets\n",
      ".INFO:tensorflow:Assets written to: .\\models\\wind_direction_prediction.ckpt\\assets\n",
      ".INFO:tensorflow:Assets written to: .\\models\\wind_direction_prediction.ckpt\\assets\n",
      ".INFO:tensorflow:Assets written to: .\\models\\wind_direction_prediction.ckpt\\assets\n",
      ".INFO:tensorflow:Assets written to: .\\models\\wind_direction_prediction.ckpt\\assets\n",
      ".INFO:tensorflow:Assets written to: .\\models\\wind_direction_prediction.ckpt\\assets\n",
      ".INFO:tensorflow:Assets written to: .\\models\\wind_direction_prediction.ckpt\\assets\n",
      ".INFO:tensorflow:Assets written to: .\\models\\wind_direction_prediction.ckpt\\assets\n",
      ".INFO:tensorflow:Assets written to: .\\models\\wind_direction_prediction.ckpt\\assets\n",
      ".INFO:tensorflow:Assets written to: .\\models\\wind_direction_prediction.ckpt\\assets\n",
      ".INFO:tensorflow:Assets written to: .\\models\\wind_direction_prediction.ckpt\\assets\n",
      ".INFO:tensorflow:Assets written to: .\\models\\wind_direction_prediction.ckpt\\assets\n",
      ".INFO:tensorflow:Assets written to: .\\models\\wind_direction_prediction.ckpt\\assets\n",
      ".INFO:tensorflow:Assets written to: .\\models\\wind_direction_prediction.ckpt\\assets\n",
      ".INFO:tensorflow:Assets written to: .\\models\\wind_direction_prediction.ckpt\\assets\n",
      ".INFO:tensorflow:Assets written to: .\\models\\wind_direction_prediction.ckpt\\assets\n",
      ".INFO:tensorflow:Assets written to: .\\models\\wind_direction_prediction.ckpt\\assets\n",
      ".INFO:tensorflow:Assets written to: .\\models\\wind_direction_prediction.ckpt\\assets\n",
      ".INFO:tensorflow:Assets written to: .\\models\\wind_direction_prediction.ckpt\\assets\n",
      ".INFO:tensorflow:Assets written to: .\\models\\wind_direction_prediction.ckpt\\assets\n",
      ".INFO:tensorflow:Assets written to: .\\models\\wind_direction_prediction.ckpt\\assets\n",
      ".INFO:tensorflow:Assets written to: .\\models\\wind_direction_prediction.ckpt\\assets\n",
      ".INFO:tensorflow:Assets written to: .\\models\\wind_direction_prediction.ckpt\\assets\n",
      ".INFO:tensorflow:Assets written to: .\\models\\wind_direction_prediction.ckpt\\assets\n",
      ".INFO:tensorflow:Assets written to: .\\models\\wind_direction_prediction.ckpt\\assets\n",
      ".INFO:tensorflow:Assets written to: .\\models\\wind_direction_prediction.ckpt\\assets\n",
      ".INFO:tensorflow:Assets written to: .\\models\\wind_direction_prediction.ckpt\\assets\n",
      ".INFO:tensorflow:Assets written to: .\\models\\wind_direction_prediction.ckpt\\assets\n",
      ".INFO:tensorflow:Assets written to: .\\models\\wind_direction_prediction.ckpt\\assets\n",
      ".INFO:tensorflow:Assets written to: .\\models\\wind_direction_prediction.ckpt\\assets\n",
      ".INFO:tensorflow:Assets written to: .\\models\\wind_direction_prediction.ckpt\\assets\n",
      ".INFO:tensorflow:Assets written to: .\\models\\wind_direction_prediction.ckpt\\assets\n",
      ".INFO:tensorflow:Assets written to: .\\models\\wind_direction_prediction.ckpt\\assets\n",
      ".INFO:tensorflow:Assets written to: .\\models\\wind_direction_prediction.ckpt\\assets\n",
      ".INFO:tensorflow:Assets written to: .\\models\\wind_direction_prediction.ckpt\\assets\n",
      ".INFO:tensorflow:Assets written to: .\\models\\wind_direction_prediction.ckpt\\assets\n",
      ".INFO:tensorflow:Assets written to: .\\models\\wind_direction_prediction.ckpt\\assets\n",
      ".INFO:tensorflow:Assets written to: .\\models\\wind_direction_prediction.ckpt\\assets\n",
      ".INFO:tensorflow:Assets written to: .\\models\\wind_direction_prediction.ckpt\\assets\n",
      ".INFO:tensorflow:Assets written to: .\\models\\wind_direction_prediction.ckpt\\assets\n",
      ".INFO:tensorflow:Assets written to: .\\models\\wind_direction_prediction.ckpt\\assets\n",
      ".INFO:tensorflow:Assets written to: .\\models\\wind_direction_prediction.ckpt\\assets\n",
      ".INFO:tensorflow:Assets written to: .\\models\\wind_direction_prediction.ckpt\\assets\n",
      ".INFO:tensorflow:Assets written to: .\\models\\wind_direction_prediction.ckpt\\assets\n",
      ".INFO:tensorflow:Assets written to: .\\models\\wind_direction_prediction.ckpt\\assets\n",
      ".INFO:tensorflow:Assets written to: .\\models\\wind_direction_prediction.ckpt\\assets\n",
      ".INFO:tensorflow:Assets written to: .\\models\\wind_direction_prediction.ckpt\\assets\n",
      ".INFO:tensorflow:Assets written to: .\\models\\wind_direction_prediction.ckpt\\assets\n",
      ".INFO:tensorflow:Assets written to: .\\models\\wind_direction_prediction.ckpt\\assets\n",
      ".INFO:tensorflow:Assets written to: .\\models\\wind_direction_prediction.ckpt\\assets\n",
      ".INFO:tensorflow:Assets written to: .\\models\\wind_direction_prediction.ckpt\\assets\n",
      ".INFO:tensorflow:Assets written to: .\\models\\wind_direction_prediction.ckpt\\assets\n",
      ".INFO:tensorflow:Assets written to: .\\models\\wind_direction_prediction.ckpt\\assets\n",
      ".INFO:tensorflow:Assets written to: .\\models\\wind_direction_prediction.ckpt\\assets\n",
      ".INFO:tensorflow:Assets written to: .\\models\\wind_direction_prediction.ckpt\\assets\n",
      ".INFO:tensorflow:Assets written to: .\\models\\wind_direction_prediction.ckpt\\assets\n",
      ".INFO:tensorflow:Assets written to: .\\models\\wind_direction_prediction.ckpt\\assets\n",
      ".INFO:tensorflow:Assets written to: .\\models\\wind_direction_prediction.ckpt\\assets\n",
      ".INFO:tensorflow:Assets written to: .\\models\\wind_direction_prediction.ckpt\\assets\n",
      ".INFO:tensorflow:Assets written to: .\\models\\wind_direction_prediction.ckpt\\assets\n",
      ".INFO:tensorflow:Assets written to: .\\models\\wind_direction_prediction.ckpt\\assets\n",
      ".INFO:tensorflow:Assets written to: .\\models\\wind_direction_prediction.ckpt\\assets\n",
      ".INFO:tensorflow:Assets written to: .\\models\\wind_direction_prediction.ckpt\\assets\n",
      ".INFO:tensorflow:Assets written to: .\\models\\wind_direction_prediction.ckpt\\assets\n",
      ".INFO:tensorflow:Assets written to: .\\models\\wind_direction_prediction.ckpt\\assets\n",
      ".INFO:tensorflow:Assets written to: .\\models\\wind_direction_prediction.ckpt\\assets\n",
      ".INFO:tensorflow:Assets written to: .\\models\\wind_direction_prediction.ckpt\\assets\n",
      ".INFO:tensorflow:Assets written to: .\\models\\wind_direction_prediction.ckpt\\assets\n",
      ".INFO:tensorflow:Assets written to: .\\models\\wind_direction_prediction.ckpt\\assets\n",
      ".INFO:tensorflow:Assets written to: .\\models\\wind_direction_prediction.ckpt\\assets\n",
      ".INFO:tensorflow:Assets written to: .\\models\\wind_direction_prediction.ckpt\\assets\n",
      ".INFO:tensorflow:Assets written to: .\\models\\wind_direction_prediction.ckpt\\assets\n",
      ".INFO:tensorflow:Assets written to: .\\models\\wind_direction_prediction.ckpt\\assets\n",
      ".INFO:tensorflow:Assets written to: .\\models\\wind_direction_prediction.ckpt\\assets\n",
      ".INFO:tensorflow:Assets written to: .\\models\\wind_direction_prediction.ckpt\\assets\n",
      ".INFO:tensorflow:Assets written to: .\\models\\wind_direction_prediction.ckpt\\assets\n",
      ".INFO:tensorflow:Assets written to: .\\models\\wind_direction_prediction.ckpt\\assets\n",
      ".INFO:tensorflow:Assets written to: .\\models\\wind_direction_prediction.ckpt\\assets\n",
      ".INFO:tensorflow:Assets written to: .\\models\\wind_direction_prediction.ckpt\\assets\n",
      ".INFO:tensorflow:Assets written to: .\\models\\wind_direction_prediction.ckpt\\assets\n",
      ".INFO:tensorflow:Assets written to: .\\models\\wind_direction_prediction.ckpt\\assets\n",
      ".INFO:tensorflow:Assets written to: .\\models\\wind_direction_prediction.ckpt\\assets\n",
      ".INFO:tensorflow:Assets written to: .\\models\\wind_direction_prediction.ckpt\\assets\n",
      ".INFO:tensorflow:Assets written to: .\\models\\wind_direction_prediction.ckpt\\assets\n"
     ]
    },
    {
     "name": "stdout",
     "output_type": "stream",
     "text": [
      ".INFO:tensorflow:Assets written to: .\\models\\wind_direction_prediction.ckpt\\assets\n",
      ".INFO:tensorflow:Assets written to: .\\models\\wind_direction_prediction.ckpt\\assets\n",
      ".INFO:tensorflow:Assets written to: .\\models\\wind_direction_prediction.ckpt\\assets\n",
      ".INFO:tensorflow:Assets written to: .\\models\\wind_direction_prediction.ckpt\\assets\n",
      ".INFO:tensorflow:Assets written to: .\\models\\wind_direction_prediction.ckpt\\assets\n",
      ".INFO:tensorflow:Assets written to: .\\models\\wind_direction_prediction.ckpt\\assets\n",
      ".INFO:tensorflow:Assets written to: .\\models\\wind_direction_prediction.ckpt\\assets\n",
      ".INFO:tensorflow:Assets written to: .\\models\\wind_direction_prediction.ckpt\\assets\n",
      ".INFO:tensorflow:Assets written to: .\\models\\wind_direction_prediction.ckpt\\assets\n",
      ".INFO:tensorflow:Assets written to: .\\models\\wind_direction_prediction.ckpt\\assets\n",
      ".INFO:tensorflow:Assets written to: .\\models\\wind_direction_prediction.ckpt\\assets\n",
      "\n",
      "Epoch: 200, loss:9.5760,  mae:2.8216,  mape:80.1145,  mse:9.5760,  val_loss:7.0896,  val_mae:2.3971,  val_mape:71.8855,  val_mse:7.0896,  \n",
      ".INFO:tensorflow:Assets written to: .\\models\\wind_direction_prediction.ckpt\\assets\n",
      ".INFO:tensorflow:Assets written to: .\\models\\wind_direction_prediction.ckpt\\assets\n",
      ".INFO:tensorflow:Assets written to: .\\models\\wind_direction_prediction.ckpt\\assets\n",
      ".INFO:tensorflow:Assets written to: .\\models\\wind_direction_prediction.ckpt\\assets\n",
      ".INFO:tensorflow:Assets written to: .\\models\\wind_direction_prediction.ckpt\\assets\n",
      ".INFO:tensorflow:Assets written to: .\\models\\wind_direction_prediction.ckpt\\assets\n",
      ".INFO:tensorflow:Assets written to: .\\models\\wind_direction_prediction.ckpt\\assets\n",
      ".INFO:tensorflow:Assets written to: .\\models\\wind_direction_prediction.ckpt\\assets\n",
      ".INFO:tensorflow:Assets written to: .\\models\\wind_direction_prediction.ckpt\\assets\n",
      ".INFO:tensorflow:Assets written to: .\\models\\wind_direction_prediction.ckpt\\assets\n",
      ".INFO:tensorflow:Assets written to: .\\models\\wind_direction_prediction.ckpt\\assets\n",
      ".INFO:tensorflow:Assets written to: .\\models\\wind_direction_prediction.ckpt\\assets\n",
      ".INFO:tensorflow:Assets written to: .\\models\\wind_direction_prediction.ckpt\\assets\n",
      ".INFO:tensorflow:Assets written to: .\\models\\wind_direction_prediction.ckpt\\assets\n",
      ".INFO:tensorflow:Assets written to: .\\models\\wind_direction_prediction.ckpt\\assets\n",
      ".INFO:tensorflow:Assets written to: .\\models\\wind_direction_prediction.ckpt\\assets\n",
      ".INFO:tensorflow:Assets written to: .\\models\\wind_direction_prediction.ckpt\\assets\n",
      ".INFO:tensorflow:Assets written to: .\\models\\wind_direction_prediction.ckpt\\assets\n",
      ".INFO:tensorflow:Assets written to: .\\models\\wind_direction_prediction.ckpt\\assets\n",
      ".INFO:tensorflow:Assets written to: .\\models\\wind_direction_prediction.ckpt\\assets\n",
      ".INFO:tensorflow:Assets written to: .\\models\\wind_direction_prediction.ckpt\\assets\n",
      ".INFO:tensorflow:Assets written to: .\\models\\wind_direction_prediction.ckpt\\assets\n",
      ".INFO:tensorflow:Assets written to: .\\models\\wind_direction_prediction.ckpt\\assets\n",
      ".INFO:tensorflow:Assets written to: .\\models\\wind_direction_prediction.ckpt\\assets\n",
      ".INFO:tensorflow:Assets written to: .\\models\\wind_direction_prediction.ckpt\\assets\n",
      ".INFO:tensorflow:Assets written to: .\\models\\wind_direction_prediction.ckpt\\assets\n",
      ".INFO:tensorflow:Assets written to: .\\models\\wind_direction_prediction.ckpt\\assets\n",
      ".INFO:tensorflow:Assets written to: .\\models\\wind_direction_prediction.ckpt\\assets\n",
      ".INFO:tensorflow:Assets written to: .\\models\\wind_direction_prediction.ckpt\\assets\n",
      ".INFO:tensorflow:Assets written to: .\\models\\wind_direction_prediction.ckpt\\assets\n",
      ".INFO:tensorflow:Assets written to: .\\models\\wind_direction_prediction.ckpt\\assets\n",
      ".INFO:tensorflow:Assets written to: .\\models\\wind_direction_prediction.ckpt\\assets\n",
      ".INFO:tensorflow:Assets written to: .\\models\\wind_direction_prediction.ckpt\\assets\n",
      ".INFO:tensorflow:Assets written to: .\\models\\wind_direction_prediction.ckpt\\assets\n",
      ".INFO:tensorflow:Assets written to: .\\models\\wind_direction_prediction.ckpt\\assets\n",
      ".INFO:tensorflow:Assets written to: .\\models\\wind_direction_prediction.ckpt\\assets\n",
      ".INFO:tensorflow:Assets written to: .\\models\\wind_direction_prediction.ckpt\\assets\n",
      ".INFO:tensorflow:Assets written to: .\\models\\wind_direction_prediction.ckpt\\assets\n",
      ".INFO:tensorflow:Assets written to: .\\models\\wind_direction_prediction.ckpt\\assets\n",
      ".INFO:tensorflow:Assets written to: .\\models\\wind_direction_prediction.ckpt\\assets\n",
      ".INFO:tensorflow:Assets written to: .\\models\\wind_direction_prediction.ckpt\\assets\n",
      ".INFO:tensorflow:Assets written to: .\\models\\wind_direction_prediction.ckpt\\assets\n",
      ".INFO:tensorflow:Assets written to: .\\models\\wind_direction_prediction.ckpt\\assets\n",
      ".INFO:tensorflow:Assets written to: .\\models\\wind_direction_prediction.ckpt\\assets\n",
      ".INFO:tensorflow:Assets written to: .\\models\\wind_direction_prediction.ckpt\\assets\n",
      ".INFO:tensorflow:Assets written to: .\\models\\wind_direction_prediction.ckpt\\assets\n",
      ".INFO:tensorflow:Assets written to: .\\models\\wind_direction_prediction.ckpt\\assets\n",
      ".INFO:tensorflow:Assets written to: .\\models\\wind_direction_prediction.ckpt\\assets\n",
      ".INFO:tensorflow:Assets written to: .\\models\\wind_direction_prediction.ckpt\\assets\n",
      ".INFO:tensorflow:Assets written to: .\\models\\wind_direction_prediction.ckpt\\assets\n",
      ".INFO:tensorflow:Assets written to: .\\models\\wind_direction_prediction.ckpt\\assets\n",
      ".INFO:tensorflow:Assets written to: .\\models\\wind_direction_prediction.ckpt\\assets\n",
      ".INFO:tensorflow:Assets written to: .\\models\\wind_direction_prediction.ckpt\\assets\n",
      ".INFO:tensorflow:Assets written to: .\\models\\wind_direction_prediction.ckpt\\assets\n",
      ".INFO:tensorflow:Assets written to: .\\models\\wind_direction_prediction.ckpt\\assets\n",
      ".INFO:tensorflow:Assets written to: .\\models\\wind_direction_prediction.ckpt\\assets\n",
      ".INFO:tensorflow:Assets written to: .\\models\\wind_direction_prediction.ckpt\\assets\n",
      ".INFO:tensorflow:Assets written to: .\\models\\wind_direction_prediction.ckpt\\assets\n",
      ".INFO:tensorflow:Assets written to: .\\models\\wind_direction_prediction.ckpt\\assets\n",
      ".INFO:tensorflow:Assets written to: .\\models\\wind_direction_prediction.ckpt\\assets\n",
      ".INFO:tensorflow:Assets written to: .\\models\\wind_direction_prediction.ckpt\\assets\n",
      ".INFO:tensorflow:Assets written to: .\\models\\wind_direction_prediction.ckpt\\assets\n",
      ".INFO:tensorflow:Assets written to: .\\models\\wind_direction_prediction.ckpt\\assets\n",
      ".INFO:tensorflow:Assets written to: .\\models\\wind_direction_prediction.ckpt\\assets\n",
      ".INFO:tensorflow:Assets written to: .\\models\\wind_direction_prediction.ckpt\\assets\n",
      ".INFO:tensorflow:Assets written to: .\\models\\wind_direction_prediction.ckpt\\assets\n",
      ".INFO:tensorflow:Assets written to: .\\models\\wind_direction_prediction.ckpt\\assets\n",
      ".INFO:tensorflow:Assets written to: .\\models\\wind_direction_prediction.ckpt\\assets\n",
      ".INFO:tensorflow:Assets written to: .\\models\\wind_direction_prediction.ckpt\\assets\n",
      ".INFO:tensorflow:Assets written to: .\\models\\wind_direction_prediction.ckpt\\assets\n",
      ".INFO:tensorflow:Assets written to: .\\models\\wind_direction_prediction.ckpt\\assets\n",
      ".INFO:tensorflow:Assets written to: .\\models\\wind_direction_prediction.ckpt\\assets\n",
      ".INFO:tensorflow:Assets written to: .\\models\\wind_direction_prediction.ckpt\\assets\n",
      ".INFO:tensorflow:Assets written to: .\\models\\wind_direction_prediction.ckpt\\assets\n",
      ".INFO:tensorflow:Assets written to: .\\models\\wind_direction_prediction.ckpt\\assets\n",
      ".INFO:tensorflow:Assets written to: .\\models\\wind_direction_prediction.ckpt\\assets\n",
      ".INFO:tensorflow:Assets written to: .\\models\\wind_direction_prediction.ckpt\\assets\n",
      ".INFO:tensorflow:Assets written to: .\\models\\wind_direction_prediction.ckpt\\assets\n",
      ".INFO:tensorflow:Assets written to: .\\models\\wind_direction_prediction.ckpt\\assets\n",
      ".INFO:tensorflow:Assets written to: .\\models\\wind_direction_prediction.ckpt\\assets\n",
      ".INFO:tensorflow:Assets written to: .\\models\\wind_direction_prediction.ckpt\\assets\n",
      ".INFO:tensorflow:Assets written to: .\\models\\wind_direction_prediction.ckpt\\assets\n",
      ".INFO:tensorflow:Assets written to: .\\models\\wind_direction_prediction.ckpt\\assets\n",
      ".INFO:tensorflow:Assets written to: .\\models\\wind_direction_prediction.ckpt\\assets\n",
      ".INFO:tensorflow:Assets written to: .\\models\\wind_direction_prediction.ckpt\\assets\n",
      ".INFO:tensorflow:Assets written to: .\\models\\wind_direction_prediction.ckpt\\assets\n",
      ".INFO:tensorflow:Assets written to: .\\models\\wind_direction_prediction.ckpt\\assets\n"
     ]
    },
    {
     "name": "stdout",
     "output_type": "stream",
     "text": [
      ".INFO:tensorflow:Assets written to: .\\models\\wind_direction_prediction.ckpt\\assets\n",
      ".INFO:tensorflow:Assets written to: .\\models\\wind_direction_prediction.ckpt\\assets\n",
      ".INFO:tensorflow:Assets written to: .\\models\\wind_direction_prediction.ckpt\\assets\n",
      ".INFO:tensorflow:Assets written to: .\\models\\wind_direction_prediction.ckpt\\assets\n",
      ".INFO:tensorflow:Assets written to: .\\models\\wind_direction_prediction.ckpt\\assets\n",
      ".INFO:tensorflow:Assets written to: .\\models\\wind_direction_prediction.ckpt\\assets\n",
      ".INFO:tensorflow:Assets written to: .\\models\\wind_direction_prediction.ckpt\\assets\n",
      ".INFO:tensorflow:Assets written to: .\\models\\wind_direction_prediction.ckpt\\assets\n",
      ".INFO:tensorflow:Assets written to: .\\models\\wind_direction_prediction.ckpt\\assets\n",
      ".INFO:tensorflow:Assets written to: .\\models\\wind_direction_prediction.ckpt\\assets\n",
      ".INFO:tensorflow:Assets written to: .\\models\\wind_direction_prediction.ckpt\\assets\n",
      ".INFO:tensorflow:Assets written to: .\\models\\wind_direction_prediction.ckpt\\assets\n",
      ".INFO:tensorflow:Assets written to: .\\models\\wind_direction_prediction.ckpt\\assets\n",
      "\n",
      "Epoch: 300, loss:11.3283,  mae:2.7950,  mape:69.2186,  mse:11.3283,  val_loss:5.6733,  val_mae:2.0874,  val_mape:60.8470,  val_mse:5.6733,  \n",
      ".INFO:tensorflow:Assets written to: .\\models\\wind_direction_prediction.ckpt\\assets\n",
      ".INFO:tensorflow:Assets written to: .\\models\\wind_direction_prediction.ckpt\\assets\n",
      ".INFO:tensorflow:Assets written to: .\\models\\wind_direction_prediction.ckpt\\assets\n",
      ".INFO:tensorflow:Assets written to: .\\models\\wind_direction_prediction.ckpt\\assets\n",
      ".INFO:tensorflow:Assets written to: .\\models\\wind_direction_prediction.ckpt\\assets\n",
      ".INFO:tensorflow:Assets written to: .\\models\\wind_direction_prediction.ckpt\\assets\n",
      ".INFO:tensorflow:Assets written to: .\\models\\wind_direction_prediction.ckpt\\assets\n",
      ".INFO:tensorflow:Assets written to: .\\models\\wind_direction_prediction.ckpt\\assets\n",
      ".INFO:tensorflow:Assets written to: .\\models\\wind_direction_prediction.ckpt\\assets\n",
      ".INFO:tensorflow:Assets written to: .\\models\\wind_direction_prediction.ckpt\\assets\n",
      ".INFO:tensorflow:Assets written to: .\\models\\wind_direction_prediction.ckpt\\assets\n",
      ".INFO:tensorflow:Assets written to: .\\models\\wind_direction_prediction.ckpt\\assets\n",
      ".INFO:tensorflow:Assets written to: .\\models\\wind_direction_prediction.ckpt\\assets\n",
      ".INFO:tensorflow:Assets written to: .\\models\\wind_direction_prediction.ckpt\\assets\n",
      ".INFO:tensorflow:Assets written to: .\\models\\wind_direction_prediction.ckpt\\assets\n",
      ".INFO:tensorflow:Assets written to: .\\models\\wind_direction_prediction.ckpt\\assets\n",
      ".INFO:tensorflow:Assets written to: .\\models\\wind_direction_prediction.ckpt\\assets\n",
      ".INFO:tensorflow:Assets written to: .\\models\\wind_direction_prediction.ckpt\\assets\n",
      ".INFO:tensorflow:Assets written to: .\\models\\wind_direction_prediction.ckpt\\assets\n",
      ".INFO:tensorflow:Assets written to: .\\models\\wind_direction_prediction.ckpt\\assets\n",
      ".INFO:tensorflow:Assets written to: .\\models\\wind_direction_prediction.ckpt\\assets\n",
      ".INFO:tensorflow:Assets written to: .\\models\\wind_direction_prediction.ckpt\\assets\n",
      ".INFO:tensorflow:Assets written to: .\\models\\wind_direction_prediction.ckpt\\assets\n",
      ".INFO:tensorflow:Assets written to: .\\models\\wind_direction_prediction.ckpt\\assets\n",
      ".INFO:tensorflow:Assets written to: .\\models\\wind_direction_prediction.ckpt\\assets\n",
      ".INFO:tensorflow:Assets written to: .\\models\\wind_direction_prediction.ckpt\\assets\n",
      ".INFO:tensorflow:Assets written to: .\\models\\wind_direction_prediction.ckpt\\assets\n",
      ".INFO:tensorflow:Assets written to: .\\models\\wind_direction_prediction.ckpt\\assets\n",
      ".INFO:tensorflow:Assets written to: .\\models\\wind_direction_prediction.ckpt\\assets\n",
      ".INFO:tensorflow:Assets written to: .\\models\\wind_direction_prediction.ckpt\\assets\n",
      ".INFO:tensorflow:Assets written to: .\\models\\wind_direction_prediction.ckpt\\assets\n",
      ".INFO:tensorflow:Assets written to: .\\models\\wind_direction_prediction.ckpt\\assets\n",
      ".INFO:tensorflow:Assets written to: .\\models\\wind_direction_prediction.ckpt\\assets\n",
      ".INFO:tensorflow:Assets written to: .\\models\\wind_direction_prediction.ckpt\\assets\n",
      ".INFO:tensorflow:Assets written to: .\\models\\wind_direction_prediction.ckpt\\assets\n",
      ".INFO:tensorflow:Assets written to: .\\models\\wind_direction_prediction.ckpt\\assets\n",
      ".INFO:tensorflow:Assets written to: .\\models\\wind_direction_prediction.ckpt\\assets\n",
      ".INFO:tensorflow:Assets written to: .\\models\\wind_direction_prediction.ckpt\\assets\n",
      ".INFO:tensorflow:Assets written to: .\\models\\wind_direction_prediction.ckpt\\assets\n",
      ".INFO:tensorflow:Assets written to: .\\models\\wind_direction_prediction.ckpt\\assets\n",
      ".INFO:tensorflow:Assets written to: .\\models\\wind_direction_prediction.ckpt\\assets\n",
      ".INFO:tensorflow:Assets written to: .\\models\\wind_direction_prediction.ckpt\\assets\n",
      ".INFO:tensorflow:Assets written to: .\\models\\wind_direction_prediction.ckpt\\assets\n",
      ".INFO:tensorflow:Assets written to: .\\models\\wind_direction_prediction.ckpt\\assets\n",
      ".INFO:tensorflow:Assets written to: .\\models\\wind_direction_prediction.ckpt\\assets\n",
      ".INFO:tensorflow:Assets written to: .\\models\\wind_direction_prediction.ckpt\\assets\n",
      ".INFO:tensorflow:Assets written to: .\\models\\wind_direction_prediction.ckpt\\assets\n",
      ".INFO:tensorflow:Assets written to: .\\models\\wind_direction_prediction.ckpt\\assets\n",
      ".INFO:tensorflow:Assets written to: .\\models\\wind_direction_prediction.ckpt\\assets\n",
      ".INFO:tensorflow:Assets written to: .\\models\\wind_direction_prediction.ckpt\\assets\n",
      ".INFO:tensorflow:Assets written to: .\\models\\wind_direction_prediction.ckpt\\assets\n",
      ".INFO:tensorflow:Assets written to: .\\models\\wind_direction_prediction.ckpt\\assets\n",
      ".INFO:tensorflow:Assets written to: .\\models\\wind_direction_prediction.ckpt\\assets\n",
      ".INFO:tensorflow:Assets written to: .\\models\\wind_direction_prediction.ckpt\\assets\n",
      ".INFO:tensorflow:Assets written to: .\\models\\wind_direction_prediction.ckpt\\assets\n",
      ".INFO:tensorflow:Assets written to: .\\models\\wind_direction_prediction.ckpt\\assets\n",
      ".INFO:tensorflow:Assets written to: .\\models\\wind_direction_prediction.ckpt\\assets\n",
      ".INFO:tensorflow:Assets written to: .\\models\\wind_direction_prediction.ckpt\\assets\n",
      ".INFO:tensorflow:Assets written to: .\\models\\wind_direction_prediction.ckpt\\assets\n",
      ".INFO:tensorflow:Assets written to: .\\models\\wind_direction_prediction.ckpt\\assets\n",
      ".INFO:tensorflow:Assets written to: .\\models\\wind_direction_prediction.ckpt\\assets\n",
      ".INFO:tensorflow:Assets written to: .\\models\\wind_direction_prediction.ckpt\\assets\n",
      ".INFO:tensorflow:Assets written to: .\\models\\wind_direction_prediction.ckpt\\assets\n",
      ".INFO:tensorflow:Assets written to: .\\models\\wind_direction_prediction.ckpt\\assets\n",
      ".INFO:tensorflow:Assets written to: .\\models\\wind_direction_prediction.ckpt\\assets\n",
      ".INFO:tensorflow:Assets written to: .\\models\\wind_direction_prediction.ckpt\\assets\n",
      ".INFO:tensorflow:Assets written to: .\\models\\wind_direction_prediction.ckpt\\assets\n",
      ".INFO:tensorflow:Assets written to: .\\models\\wind_direction_prediction.ckpt\\assets\n",
      ".INFO:tensorflow:Assets written to: .\\models\\wind_direction_prediction.ckpt\\assets\n",
      ".INFO:tensorflow:Assets written to: .\\models\\wind_direction_prediction.ckpt\\assets\n",
      ".INFO:tensorflow:Assets written to: .\\models\\wind_direction_prediction.ckpt\\assets\n",
      ".INFO:tensorflow:Assets written to: .\\models\\wind_direction_prediction.ckpt\\assets\n",
      ".INFO:tensorflow:Assets written to: .\\models\\wind_direction_prediction.ckpt\\assets\n",
      ".INFO:tensorflow:Assets written to: .\\models\\wind_direction_prediction.ckpt\\assets\n",
      ".INFO:tensorflow:Assets written to: .\\models\\wind_direction_prediction.ckpt\\assets\n",
      ".INFO:tensorflow:Assets written to: .\\models\\wind_direction_prediction.ckpt\\assets\n",
      ".INFO:tensorflow:Assets written to: .\\models\\wind_direction_prediction.ckpt\\assets\n",
      ".INFO:tensorflow:Assets written to: .\\models\\wind_direction_prediction.ckpt\\assets\n",
      ".INFO:tensorflow:Assets written to: .\\models\\wind_direction_prediction.ckpt\\assets\n",
      ".INFO:tensorflow:Assets written to: .\\models\\wind_direction_prediction.ckpt\\assets\n",
      ".INFO:tensorflow:Assets written to: .\\models\\wind_direction_prediction.ckpt\\assets\n",
      ".INFO:tensorflow:Assets written to: .\\models\\wind_direction_prediction.ckpt\\assets\n",
      ".INFO:tensorflow:Assets written to: .\\models\\wind_direction_prediction.ckpt\\assets\n",
      ".INFO:tensorflow:Assets written to: .\\models\\wind_direction_prediction.ckpt\\assets\n"
     ]
    },
    {
     "name": "stdout",
     "output_type": "stream",
     "text": [
      ".INFO:tensorflow:Assets written to: .\\models\\wind_direction_prediction.ckpt\\assets\n",
      ".INFO:tensorflow:Assets written to: .\\models\\wind_direction_prediction.ckpt\\assets\n",
      ".INFO:tensorflow:Assets written to: .\\models\\wind_direction_prediction.ckpt\\assets\n",
      ".INFO:tensorflow:Assets written to: .\\models\\wind_direction_prediction.ckpt\\assets\n",
      ".INFO:tensorflow:Assets written to: .\\models\\wind_direction_prediction.ckpt\\assets\n",
      ".INFO:tensorflow:Assets written to: .\\models\\wind_direction_prediction.ckpt\\assets\n",
      ".INFO:tensorflow:Assets written to: .\\models\\wind_direction_prediction.ckpt\\assets\n",
      ".INFO:tensorflow:Assets written to: .\\models\\wind_direction_prediction.ckpt\\assets\n",
      ".INFO:tensorflow:Assets written to: .\\models\\wind_direction_prediction.ckpt\\assets\n",
      ".INFO:tensorflow:Assets written to: .\\models\\wind_direction_prediction.ckpt\\assets\n",
      ".INFO:tensorflow:Assets written to: .\\models\\wind_direction_prediction.ckpt\\assets\n",
      ".INFO:tensorflow:Assets written to: .\\models\\wind_direction_prediction.ckpt\\assets\n",
      ".INFO:tensorflow:Assets written to: .\\models\\wind_direction_prediction.ckpt\\assets\n",
      ".INFO:tensorflow:Assets written to: .\\models\\wind_direction_prediction.ckpt\\assets\n",
      ".INFO:tensorflow:Assets written to: .\\models\\wind_direction_prediction.ckpt\\assets\n",
      ".INFO:tensorflow:Assets written to: .\\models\\wind_direction_prediction.ckpt\\assets\n",
      "\n",
      "Epoch: 400, loss:3.4153,  mae:1.6560,  mape:59.3772,  mse:3.4153,  val_loss:4.5387,  val_mae:1.8187,  val_mape:52.1077,  val_mse:4.5387,  \n",
      ".INFO:tensorflow:Assets written to: .\\models\\wind_direction_prediction.ckpt\\assets\n",
      ".INFO:tensorflow:Assets written to: .\\models\\wind_direction_prediction.ckpt\\assets\n",
      ".INFO:tensorflow:Assets written to: .\\models\\wind_direction_prediction.ckpt\\assets\n",
      ".INFO:tensorflow:Assets written to: .\\models\\wind_direction_prediction.ckpt\\assets\n",
      ".INFO:tensorflow:Assets written to: .\\models\\wind_direction_prediction.ckpt\\assets\n",
      ".INFO:tensorflow:Assets written to: .\\models\\wind_direction_prediction.ckpt\\assets\n",
      ".INFO:tensorflow:Assets written to: .\\models\\wind_direction_prediction.ckpt\\assets\n",
      ".INFO:tensorflow:Assets written to: .\\models\\wind_direction_prediction.ckpt\\assets\n",
      ".INFO:tensorflow:Assets written to: .\\models\\wind_direction_prediction.ckpt\\assets\n",
      ".INFO:tensorflow:Assets written to: .\\models\\wind_direction_prediction.ckpt\\assets\n",
      ".INFO:tensorflow:Assets written to: .\\models\\wind_direction_prediction.ckpt\\assets\n",
      ".INFO:tensorflow:Assets written to: .\\models\\wind_direction_prediction.ckpt\\assets\n",
      ".INFO:tensorflow:Assets written to: .\\models\\wind_direction_prediction.ckpt\\assets\n",
      ".INFO:tensorflow:Assets written to: .\\models\\wind_direction_prediction.ckpt\\assets\n",
      ".INFO:tensorflow:Assets written to: .\\models\\wind_direction_prediction.ckpt\\assets\n",
      ".INFO:tensorflow:Assets written to: .\\models\\wind_direction_prediction.ckpt\\assets\n",
      ".INFO:tensorflow:Assets written to: .\\models\\wind_direction_prediction.ckpt\\assets\n",
      ".INFO:tensorflow:Assets written to: .\\models\\wind_direction_prediction.ckpt\\assets\n",
      ".INFO:tensorflow:Assets written to: .\\models\\wind_direction_prediction.ckpt\\assets\n",
      ".INFO:tensorflow:Assets written to: .\\models\\wind_direction_prediction.ckpt\\assets\n",
      ".INFO:tensorflow:Assets written to: .\\models\\wind_direction_prediction.ckpt\\assets\n",
      ".INFO:tensorflow:Assets written to: .\\models\\wind_direction_prediction.ckpt\\assets\n",
      ".INFO:tensorflow:Assets written to: .\\models\\wind_direction_prediction.ckpt\\assets\n",
      ".INFO:tensorflow:Assets written to: .\\models\\wind_direction_prediction.ckpt\\assets\n",
      ".INFO:tensorflow:Assets written to: .\\models\\wind_direction_prediction.ckpt\\assets\n",
      ".INFO:tensorflow:Assets written to: .\\models\\wind_direction_prediction.ckpt\\assets\n",
      ".INFO:tensorflow:Assets written to: .\\models\\wind_direction_prediction.ckpt\\assets\n",
      ".INFO:tensorflow:Assets written to: .\\models\\wind_direction_prediction.ckpt\\assets\n",
      ".INFO:tensorflow:Assets written to: .\\models\\wind_direction_prediction.ckpt\\assets\n",
      ".INFO:tensorflow:Assets written to: .\\models\\wind_direction_prediction.ckpt\\assets\n",
      ".INFO:tensorflow:Assets written to: .\\models\\wind_direction_prediction.ckpt\\assets\n",
      ".INFO:tensorflow:Assets written to: .\\models\\wind_direction_prediction.ckpt\\assets\n",
      ".INFO:tensorflow:Assets written to: .\\models\\wind_direction_prediction.ckpt\\assets\n",
      ".INFO:tensorflow:Assets written to: .\\models\\wind_direction_prediction.ckpt\\assets\n",
      ".INFO:tensorflow:Assets written to: .\\models\\wind_direction_prediction.ckpt\\assets\n",
      ".INFO:tensorflow:Assets written to: .\\models\\wind_direction_prediction.ckpt\\assets\n",
      ".INFO:tensorflow:Assets written to: .\\models\\wind_direction_prediction.ckpt\\assets\n",
      ".INFO:tensorflow:Assets written to: .\\models\\wind_direction_prediction.ckpt\\assets\n",
      ".INFO:tensorflow:Assets written to: .\\models\\wind_direction_prediction.ckpt\\assets\n",
      ".INFO:tensorflow:Assets written to: .\\models\\wind_direction_prediction.ckpt\\assets\n",
      ".INFO:tensorflow:Assets written to: .\\models\\wind_direction_prediction.ckpt\\assets\n",
      ".INFO:tensorflow:Assets written to: .\\models\\wind_direction_prediction.ckpt\\assets\n",
      ".INFO:tensorflow:Assets written to: .\\models\\wind_direction_prediction.ckpt\\assets\n",
      ".INFO:tensorflow:Assets written to: .\\models\\wind_direction_prediction.ckpt\\assets\n",
      ".INFO:tensorflow:Assets written to: .\\models\\wind_direction_prediction.ckpt\\assets\n",
      ".INFO:tensorflow:Assets written to: .\\models\\wind_direction_prediction.ckpt\\assets\n",
      ".INFO:tensorflow:Assets written to: .\\models\\wind_direction_prediction.ckpt\\assets\n",
      ".INFO:tensorflow:Assets written to: .\\models\\wind_direction_prediction.ckpt\\assets\n",
      ".INFO:tensorflow:Assets written to: .\\models\\wind_direction_prediction.ckpt\\assets\n",
      ".INFO:tensorflow:Assets written to: .\\models\\wind_direction_prediction.ckpt\\assets\n",
      ".INFO:tensorflow:Assets written to: .\\models\\wind_direction_prediction.ckpt\\assets\n",
      ".INFO:tensorflow:Assets written to: .\\models\\wind_direction_prediction.ckpt\\assets\n",
      ".INFO:tensorflow:Assets written to: .\\models\\wind_direction_prediction.ckpt\\assets\n",
      ".INFO:tensorflow:Assets written to: .\\models\\wind_direction_prediction.ckpt\\assets\n",
      ".INFO:tensorflow:Assets written to: .\\models\\wind_direction_prediction.ckpt\\assets\n",
      ".INFO:tensorflow:Assets written to: .\\models\\wind_direction_prediction.ckpt\\assets\n",
      ".INFO:tensorflow:Assets written to: .\\models\\wind_direction_prediction.ckpt\\assets\n",
      ".INFO:tensorflow:Assets written to: .\\models\\wind_direction_prediction.ckpt\\assets\n",
      ".INFO:tensorflow:Assets written to: .\\models\\wind_direction_prediction.ckpt\\assets\n",
      ".INFO:tensorflow:Assets written to: .\\models\\wind_direction_prediction.ckpt\\assets\n",
      ".INFO:tensorflow:Assets written to: .\\models\\wind_direction_prediction.ckpt\\assets\n",
      ".INFO:tensorflow:Assets written to: .\\models\\wind_direction_prediction.ckpt\\assets\n",
      ".INFO:tensorflow:Assets written to: .\\models\\wind_direction_prediction.ckpt\\assets\n",
      ".INFO:tensorflow:Assets written to: .\\models\\wind_direction_prediction.ckpt\\assets\n",
      ".INFO:tensorflow:Assets written to: .\\models\\wind_direction_prediction.ckpt\\assets\n",
      ".INFO:tensorflow:Assets written to: .\\models\\wind_direction_prediction.ckpt\\assets\n",
      ".INFO:tensorflow:Assets written to: .\\models\\wind_direction_prediction.ckpt\\assets\n",
      ".INFO:tensorflow:Assets written to: .\\models\\wind_direction_prediction.ckpt\\assets\n",
      ".INFO:tensorflow:Assets written to: .\\models\\wind_direction_prediction.ckpt\\assets\n",
      ".INFO:tensorflow:Assets written to: .\\models\\wind_direction_prediction.ckpt\\assets\n",
      ".INFO:tensorflow:Assets written to: .\\models\\wind_direction_prediction.ckpt\\assets\n",
      ".INFO:tensorflow:Assets written to: .\\models\\wind_direction_prediction.ckpt\\assets\n",
      ".INFO:tensorflow:Assets written to: .\\models\\wind_direction_prediction.ckpt\\assets\n",
      ".INFO:tensorflow:Assets written to: .\\models\\wind_direction_prediction.ckpt\\assets\n",
      ".INFO:tensorflow:Assets written to: .\\models\\wind_direction_prediction.ckpt\\assets\n",
      ".INFO:tensorflow:Assets written to: .\\models\\wind_direction_prediction.ckpt\\assets\n",
      ".INFO:tensorflow:Assets written to: .\\models\\wind_direction_prediction.ckpt\\assets\n",
      ".INFO:tensorflow:Assets written to: .\\models\\wind_direction_prediction.ckpt\\assets\n",
      ".INFO:tensorflow:Assets written to: .\\models\\wind_direction_prediction.ckpt\\assets\n",
      ".INFO:tensorflow:Assets written to: .\\models\\wind_direction_prediction.ckpt\\assets\n",
      ".INFO:tensorflow:Assets written to: .\\models\\wind_direction_prediction.ckpt\\assets\n",
      ".INFO:tensorflow:Assets written to: .\\models\\wind_direction_prediction.ckpt\\assets\n"
     ]
    },
    {
     "name": "stdout",
     "output_type": "stream",
     "text": [
      ".INFO:tensorflow:Assets written to: .\\models\\wind_direction_prediction.ckpt\\assets\n",
      ".INFO:tensorflow:Assets written to: .\\models\\wind_direction_prediction.ckpt\\assets\n",
      ".INFO:tensorflow:Assets written to: .\\models\\wind_direction_prediction.ckpt\\assets\n",
      ".INFO:tensorflow:Assets written to: .\\models\\wind_direction_prediction.ckpt\\assets\n",
      ".INFO:tensorflow:Assets written to: .\\models\\wind_direction_prediction.ckpt\\assets\n",
      ".INFO:tensorflow:Assets written to: .\\models\\wind_direction_prediction.ckpt\\assets\n",
      ".INFO:tensorflow:Assets written to: .\\models\\wind_direction_prediction.ckpt\\assets\n",
      ".INFO:tensorflow:Assets written to: .\\models\\wind_direction_prediction.ckpt\\assets\n",
      ".INFO:tensorflow:Assets written to: .\\models\\wind_direction_prediction.ckpt\\assets\n",
      ".INFO:tensorflow:Assets written to: .\\models\\wind_direction_prediction.ckpt\\assets\n",
      ".INFO:tensorflow:Assets written to: .\\models\\wind_direction_prediction.ckpt\\assets\n",
      ".INFO:tensorflow:Assets written to: .\\models\\wind_direction_prediction.ckpt\\assets\n",
      ".INFO:tensorflow:Assets written to: .\\models\\wind_direction_prediction.ckpt\\assets\n",
      ".INFO:tensorflow:Assets written to: .\\models\\wind_direction_prediction.ckpt\\assets\n",
      ".INFO:tensorflow:Assets written to: .\\models\\wind_direction_prediction.ckpt\\assets\n",
      ".INFO:tensorflow:Assets written to: .\\models\\wind_direction_prediction.ckpt\\assets\n",
      ".INFO:tensorflow:Assets written to: .\\models\\wind_direction_prediction.ckpt\\assets\n",
      ".INFO:tensorflow:Assets written to: .\\models\\wind_direction_prediction.ckpt\\assets\n",
      "Wall time: 11min 15s\n"
     ]
    }
   ],
   "source": [
    "%%time\n",
    "\n",
    "EPOCHS = 1000\n",
    "batch_size = 6\n",
    "\n",
    "model1 = model1_single_layer_perceptron()\n",
    "print('Here is a summary of this model: ')\n",
    "model1.summary()\n",
    "\n",
    "with tf.device('/CPU:0'):\n",
    "    history = model1.fit(\n",
    "        normed_train_data,\n",
    "        train_labels,\n",
    "        batch_size = batch_size,\n",
    "        epochs=EPOCHS,\n",
    "        verbose=0,\n",
    "        shuffle=True,\n",
    "        steps_per_epoch= 1,\n",
    "        validation_data = (normed_valid_dataset, valid_labels),\n",
    "        callbacks=[tfdocs.modeling.EpochDots(), ckpt_callback],\n",
    "    )\n"
   ]
  },
  {
   "cell_type": "code",
   "execution_count": 38,
   "id": "9e63d87a",
   "metadata": {},
   "outputs": [
    {
     "name": "stdout",
     "output_type": "stream",
     "text": [
      "Summary of the results after each epoch: \n"
     ]
    },
    {
     "data": {
      "text/html": [
       "<div>\n",
       "<style scoped>\n",
       "    .dataframe tbody tr th:only-of-type {\n",
       "        vertical-align: middle;\n",
       "    }\n",
       "\n",
       "    .dataframe tbody tr th {\n",
       "        vertical-align: top;\n",
       "    }\n",
       "\n",
       "    .dataframe thead th {\n",
       "        text-align: right;\n",
       "    }\n",
       "</style>\n",
       "<table border=\"1\" class=\"dataframe\">\n",
       "  <thead>\n",
       "    <tr style=\"text-align: right;\">\n",
       "      <th></th>\n",
       "      <th>loss</th>\n",
       "      <th>mae</th>\n",
       "      <th>mse</th>\n",
       "      <th>mape</th>\n",
       "      <th>val_loss</th>\n",
       "      <th>val_mae</th>\n",
       "      <th>val_mse</th>\n",
       "      <th>val_mape</th>\n",
       "      <th>epoch</th>\n",
       "    </tr>\n",
       "  </thead>\n",
       "  <tbody>\n",
       "    <tr>\n",
       "      <th>495</th>\n",
       "      <td>5.931513</td>\n",
       "      <td>1.979693</td>\n",
       "      <td>5.931513</td>\n",
       "      <td>45.919170</td>\n",
       "      <td>3.685544</td>\n",
       "      <td>1.595942</td>\n",
       "      <td>3.685544</td>\n",
       "      <td>45.202782</td>\n",
       "      <td>495</td>\n",
       "    </tr>\n",
       "    <tr>\n",
       "      <th>496</th>\n",
       "      <td>4.889671</td>\n",
       "      <td>1.924966</td>\n",
       "      <td>4.889671</td>\n",
       "      <td>52.427155</td>\n",
       "      <td>3.677836</td>\n",
       "      <td>1.593826</td>\n",
       "      <td>3.677836</td>\n",
       "      <td>45.139137</td>\n",
       "      <td>496</td>\n",
       "    </tr>\n",
       "    <tr>\n",
       "      <th>497</th>\n",
       "      <td>3.190646</td>\n",
       "      <td>1.422149</td>\n",
       "      <td>3.190646</td>\n",
       "      <td>43.065460</td>\n",
       "      <td>3.670358</td>\n",
       "      <td>1.591770</td>\n",
       "      <td>3.670359</td>\n",
       "      <td>45.077255</td>\n",
       "      <td>497</td>\n",
       "    </tr>\n",
       "    <tr>\n",
       "      <th>498</th>\n",
       "      <td>3.429845</td>\n",
       "      <td>1.785987</td>\n",
       "      <td>3.429845</td>\n",
       "      <td>68.757729</td>\n",
       "      <td>3.663180</td>\n",
       "      <td>1.589792</td>\n",
       "      <td>3.663180</td>\n",
       "      <td>45.017677</td>\n",
       "      <td>498</td>\n",
       "    </tr>\n",
       "    <tr>\n",
       "      <th>499</th>\n",
       "      <td>4.030725</td>\n",
       "      <td>1.602676</td>\n",
       "      <td>4.030725</td>\n",
       "      <td>52.682293</td>\n",
       "      <td>3.656250</td>\n",
       "      <td>1.587880</td>\n",
       "      <td>3.656250</td>\n",
       "      <td>44.960087</td>\n",
       "      <td>499</td>\n",
       "    </tr>\n",
       "  </tbody>\n",
       "</table>\n",
       "</div>"
      ],
      "text/plain": [
       "         loss       mae       mse       mape  val_loss   val_mae   val_mse  \\\n",
       "495  5.931513  1.979693  5.931513  45.919170  3.685544  1.595942  3.685544   \n",
       "496  4.889671  1.924966  4.889671  52.427155  3.677836  1.593826  3.677836   \n",
       "497  3.190646  1.422149  3.190646  43.065460  3.670358  1.591770  3.670359   \n",
       "498  3.429845  1.785987  3.429845  68.757729  3.663180  1.589792  3.663180   \n",
       "499  4.030725  1.602676  4.030725  52.682293  3.656250  1.587880  3.656250   \n",
       "\n",
       "      val_mape  epoch  \n",
       "495  45.202782    495  \n",
       "496  45.139137    496  \n",
       "497  45.077255    497  \n",
       "498  45.017677    498  \n",
       "499  44.960087    499  "
      ]
     },
     "execution_count": 38,
     "metadata": {},
     "output_type": "execute_result"
    }
   ],
   "source": [
    "print('Summary of the results after each epoch: ')\n",
    "hist = pd.DataFrame(history.history)\n",
    "hist['epoch'] = history.epoch\n",
    "hist.tail()"
   ]
  },
  {
   "cell_type": "code",
   "execution_count": 39,
   "id": "376e3b8c",
   "metadata": {},
   "outputs": [],
   "source": [
    "# Test the model after training\n",
    "example_result_2 = model1.predict(normed_test_data)"
   ]
  },
  {
   "cell_type": "markdown",
   "id": "fdcc71cd",
   "metadata": {},
   "source": [
    "## Compare the predicted values with the actual values"
   ]
  },
  {
   "cell_type": "code",
   "execution_count": 40,
   "id": "43f76c34",
   "metadata": {},
   "outputs": [
    {
     "name": "stdout",
     "output_type": "stream",
     "text": [
      "Predicted Values\n",
      "[[1.4701715]\n",
      " [1.142837 ]\n",
      " [1.3593659]\n",
      " [1.182776 ]\n",
      " [1.6699455]\n",
      " [1.3574646]\n",
      " [1.1589096]\n",
      " [1.8910636]\n",
      " [1.3487993]\n",
      " [1.9948206]]\n",
      "\n",
      "Actual Values\n",
      "2.0\n",
      "2.0\n",
      "2.0\n",
      "2.0\n",
      "1.8\n",
      "4.0\n",
      "4.0\n",
      "5.0\n",
      "5.0\n",
      "1.4\n"
     ]
    }
   ],
   "source": [
    "print('Predicted Values')\n",
    "print(example_result_2[:10])\n",
    "print()\n",
    "print('Actual Values')\n",
    "print(test_labels[:10].to_string(index=False))"
   ]
  },
  {
   "cell_type": "code",
   "execution_count": 41,
   "id": "6203d88d",
   "metadata": {},
   "outputs": [
    {
     "name": "stdout",
     "output_type": "stream",
     "text": [
      "The ground truth: \n"
     ]
    },
    {
     "data": {
      "text/plain": [
       "19     2.0\n",
       "84     3.0\n",
       "6      2.0\n",
       "298    1.4\n",
       "174    4.0\n",
       "239    5.0\n",
       "111    6.0\n",
       "89     5.0\n",
       "316    2.6\n",
       "204    4.0\n",
       "Name: WIND-SPEED, dtype: float64"
      ]
     },
     "execution_count": 41,
     "metadata": {},
     "output_type": "execute_result"
    }
   ],
   "source": [
    "print('The ground truth: ')\n",
    "train_labels[:10]"
   ]
  },
  {
   "cell_type": "markdown",
   "id": "c13293b9",
   "metadata": {},
   "source": [
    "## See how the training went by plotting the loss/mse across epochs"
   ]
  },
  {
   "cell_type": "code",
   "execution_count": 42,
   "id": "96a3953d",
   "metadata": {},
   "outputs": [
    {
     "data": {
      "text/plain": [
       "Text(0, 0.5, 'MAE [wind-speed]')"
      ]
     },
     "execution_count": 42,
     "metadata": {},
     "output_type": "execute_result"
    },
    {
     "data": {
      "image/png": "[encoded data removed]",
      "text/plain": [
       "<Figure size 432x288 with 1 Axes>"
      ]
     },
     "metadata": {
      "needs_background": "light"
     },
     "output_type": "display_data"
    }
   ],
   "source": [
    "plotter = tfdocs.plots.HistoryPlotter(smoothing_std=2)\n",
    "\n",
    "plotter.plot({'Basic': history}, metric = 'mae')\n",
    "plt.ylim([0,5])\n",
    "plt.ylabel('MAE [wind-speed]')"
   ]
  },
  {
   "cell_type": "code",
   "execution_count": 43,
   "id": "c975532b",
   "metadata": {},
   "outputs": [
    {
     "data": {
      "text/plain": [
       "Text(0, 0.5, 'MSE [wind-speed]')"
      ]
     },
     "execution_count": 43,
     "metadata": {},
     "output_type": "execute_result"
    },
    {
     "data": {
      "image/png": "[encoded data removed]",
      "text/plain": [
       "<Figure size 432x288 with 1 Axes>"
      ]
     },
     "metadata": {
      "needs_background": "light"
     },
     "output_type": "display_data"
    }
   ],
   "source": [
    "plotter.plot({'Basic': history}, metric = 'mse')\n",
    "plt.ylim([0,5])\n",
    "plt.ylabel('MSE [wind-speed]')"
   ]
  },
  {
   "cell_type": "code",
   "execution_count": 44,
   "id": "b7560f2e",
   "metadata": {},
   "outputs": [
    {
     "name": "stdout",
     "output_type": "stream",
     "text": [
      "Error Rate on Train Split: \n",
      "6/6 - 0s - loss: 5.8451 - mae: 2.0315 - mse: 5.8451 - mape: 53.8023\n",
      "Train set Mean Abs Error :  2.03\n",
      "Train set Mean Square Error :  5.85\n"
     ]
    }
   ],
   "source": [
    "print('Error Rate on Train Split: ')\n",
    "loss, mae, mse, mape = model1.evaluate(normed_train_data, train_labels, verbose=2)\n",
    "\n",
    "print('Train set Mean Abs Error : {:5.2f}'.format(mae))\n",
    "print('Train set Mean Square Error : {:5.2f}'.format(mse))"
   ]
  },
  {
   "cell_type": "code",
   "execution_count": 45,
   "id": "71c865c3",
   "metadata": {},
   "outputs": [
    {
     "name": "stdout",
     "output_type": "stream",
     "text": [
      "Error Rate on Evaluation  Split: \n",
      "2/2 - 0s - loss: 3.6562 - mae: 1.5879 - mse: 3.6562 - mape: 44.9601\n",
      "Validation set Mean Abs Error :  1.59\n",
      "Validation set Mean Square Error :  3.66\n"
     ]
    }
   ],
   "source": [
    "print('Error Rate on Evaluation  Split: ')\n",
    "loss, mae, mse, mape = model1.evaluate(normed_valid_dataset, valid_labels, verbose=2)\n",
    "\n",
    "print('Validation set Mean Abs Error : {:5.2f}'.format(mae))\n",
    "print('Validation set Mean Square Error : {:5.2f}'.format(mse))"
   ]
  },
  {
   "cell_type": "code",
   "execution_count": 46,
   "id": "a0b77e8c",
   "metadata": {},
   "outputs": [
    {
     "name": "stdout",
     "output_type": "stream",
     "text": [
      "Error Rate on Test  Split: \n",
      "2/2 - 0s - loss: 5.7413 - mae: 2.0041 - mse: 5.7413 - mape: 30577560.0000\n",
      "Testing set Mean Abs Error :  2.00\n",
      "Testing set Mean Square Error :  5.74\n"
     ]
    }
   ],
   "source": [
    "print('Error Rate on Test  Split: ')\n",
    "loss, mae, mse, mape = model1.evaluate(normed_test_data, test_labels, verbose=2)\n",
    "\n",
    "print('Testing set Mean Abs Error : {:5.2f}'.format(mae))\n",
    "print('Testing set Mean Square Error : {:5.2f}'.format(mse))"
   ]
  },
  {
   "cell_type": "code",
   "execution_count": 47,
   "id": "872dc9cd",
   "metadata": {},
   "outputs": [
    {
     "data": {
      "image/png": "[encoded data removed]",
      "text/plain": [
       "<Figure size 432x288 with 1 Axes>"
      ]
     },
     "metadata": {
      "needs_background": "light"
     },
     "output_type": "display_data"
    }
   ],
   "source": [
    "train_predictions = model1.predict(normed_train_data).flatten()\n",
    "\n",
    "a = plt.axes(aspect='equal')\n",
    "plt.scatter(train_labels, train_predictions)\n",
    "plt.xlabel('True Values [wind-direction]')\n",
    "plt.ylabel('Predictions [wind-direction]')\n",
    "lims = [0, 5]\n",
    "plt.xlim(lims)\n",
    "plt.ylim(lims)\n",
    "_ = plt.plot(lims, lims)"
   ]
  },
  {
   "cell_type": "code",
   "execution_count": 48,
   "id": "18662011",
   "metadata": {},
   "outputs": [
    {
     "data": {
      "image/png": "[encoded data removed]",
      "text/plain": [
       "<Figure size 432x288 with 1 Axes>"
      ]
     },
     "metadata": {
      "needs_background": "light"
     },
     "output_type": "display_data"
    }
   ],
   "source": [
    "test_predictions = model1.predict(normed_test_data).flatten()\n",
    "\n",
    "a = plt.axes(aspect='equal')\n",
    "plt.scatter(test_labels, test_predictions)\n",
    "plt.xlabel('True Values [wind-speed]')\n",
    "plt.ylabel('Predictions [wind-speed]')\n",
    "lims = [0, 5]\n",
    "plt.xlim(lims)\n",
    "plt.ylim(lims)\n",
    "_ = plt.plot(lims, lims)"
   ]
  },
  {
   "cell_type": "code",
   "execution_count": 49,
   "id": "9dd51853",
   "metadata": {},
   "outputs": [
    {
     "data": {
      "image/png": "[encoded data removed]",
      "text/plain": [
       "<Figure size 432x288 with 1 Axes>"
      ]
     },
     "metadata": {
      "needs_background": "light"
     },
     "output_type": "display_data"
    }
   ],
   "source": [
    "# error distribution.\n",
    "error = test_predictions - test_labels\n",
    "plt.hist(error, bins = 25)\n",
    "plt.xlabel(\"Prediction Error [medv]\")\n",
    "_ = plt.ylabel(\"count\")"
   ]
  },
  {
   "cell_type": "markdown",
   "id": "7e3e2341",
   "metadata": {},
   "source": [
    "## One hidden layer analysis"
   ]
  },
  {
   "cell_type": "code",
   "execution_count": 50,
   "id": "89283015",
   "metadata": {},
   "outputs": [],
   "source": [
    "# checkpoint_path\n",
    "checkpoint_path = r\".\\models\\wind_direction_prediction2.ckpt\"\n",
    "\n",
    "#create a callback that saves the model's weight\n",
    "ckpt_callback = tf.keras.callbacks.ModelCheckpoint(filepath=checkpoint_path,monitor='val_loss',\n",
    "                                                 save_best_only=True,verbose=0,)"
   ]
  },
  {
   "cell_type": "code",
   "execution_count": 51,
   "id": "bd3213a6",
   "metadata": {},
   "outputs": [
    {
     "name": "stdout",
     "output_type": "stream",
     "text": [
      "Here is a summary of this model: \n",
      "Model: \"sequential_4\"\n",
      "_________________________________________________________________\n",
      "Layer (type)                 Output Shape              Param #   \n",
      "=================================================================\n",
      "dense_11 (Dense)             (None, 10)                70        \n",
      "_________________________________________________________________\n",
      "dropout_5 (Dropout)          (None, 10)                0         \n",
      "_________________________________________________________________\n",
      "dense_12 (Dense)             (None, 35)                385       \n",
      "_________________________________________________________________\n",
      "dropout_6 (Dropout)          (None, 35)                0         \n",
      "_________________________________________________________________\n",
      "dense_13 (Dense)             (None, 1)                 36        \n",
      "=================================================================\n",
      "Total params: 491\n",
      "Trainable params: 491\n",
      "Non-trainable params: 0\n",
      "_________________________________________________________________\n",
      "\n",
      "Epoch: 0, loss:10.7644,  mae:3.1719,  mape:97.8112,  mse:10.7644,  val_loss:8.6316,  val_mae:2.6835,  val_mape:81.2139,  val_mse:8.6316,  \n",
      "."
     ]
    },
    {
     "name": "stderr",
     "output_type": "stream",
     "text": [
      "WARNING:absl:Found untraced functions such as activation_5_layer_call_and_return_conditional_losses, activation_5_layer_call_fn, activation_5_layer_call_fn, activation_5_layer_call_and_return_conditional_losses, activation_5_layer_call_and_return_conditional_losses while saving (showing 5 of 5). These functions will not be directly callable after loading.\n"
     ]
    },
    {
     "name": "stdout",
     "output_type": "stream",
     "text": [
      "INFO:tensorflow:Assets written to: .\\models\\wind_direction_prediction2.ckpt\\assets\n"
     ]
    },
    {
     "name": "stderr",
     "output_type": "stream",
     "text": [
      "INFO:tensorflow:Assets written to: .\\models\\wind_direction_prediction2.ckpt\\assets\n"
     ]
    },
    {
     "name": "stdout",
     "output_type": "stream",
     "text": [
      "."
     ]
    },
    {
     "name": "stderr",
     "output_type": "stream",
     "text": [
      "WARNING:absl:Found untraced functions such as activation_5_layer_call_and_return_conditional_losses, activation_5_layer_call_fn, activation_5_layer_call_fn, activation_5_layer_call_and_return_conditional_losses, activation_5_layer_call_and_return_conditional_losses while saving (showing 5 of 5). These functions will not be directly callable after loading.\n"
     ]
    },
    {
     "name": "stdout",
     "output_type": "stream",
     "text": [
      "INFO:tensorflow:Assets written to: .\\models\\wind_direction_prediction2.ckpt\\assets\n"
     ]
    },
    {
     "name": "stderr",
     "output_type": "stream",
     "text": [
      "INFO:tensorflow:Assets written to: .\\models\\wind_direction_prediction2.ckpt\\assets\n"
     ]
    },
    {
     "name": "stdout",
     "output_type": "stream",
     "text": [
      "."
     ]
    },
    {
     "name": "stderr",
     "output_type": "stream",
     "text": [
      "WARNING:absl:Found untraced functions such as activation_5_layer_call_and_return_conditional_losses, activation_5_layer_call_fn, activation_5_layer_call_fn, activation_5_layer_call_and_return_conditional_losses, activation_5_layer_call_and_return_conditional_losses while saving (showing 5 of 5). These functions will not be directly callable after loading.\n"
     ]
    },
    {
     "name": "stdout",
     "output_type": "stream",
     "text": [
      "INFO:tensorflow:Assets written to: .\\models\\wind_direction_prediction2.ckpt\\assets\n"
     ]
    },
    {
     "name": "stderr",
     "output_type": "stream",
     "text": [
      "INFO:tensorflow:Assets written to: .\\models\\wind_direction_prediction2.ckpt\\assets\n"
     ]
    },
    {
     "name": "stdout",
     "output_type": "stream",
     "text": [
      "."
     ]
    },
    {
     "name": "stderr",
     "output_type": "stream",
     "text": [
      "WARNING:absl:Found untraced functions such as activation_5_layer_call_and_return_conditional_losses, activation_5_layer_call_fn, activation_5_layer_call_fn, activation_5_layer_call_and_return_conditional_losses, activation_5_layer_call_and_return_conditional_losses while saving (showing 5 of 5). These functions will not be directly callable after loading.\n"
     ]
    },
    {
     "name": "stdout",
     "output_type": "stream",
     "text": [
      "INFO:tensorflow:Assets written to: .\\models\\wind_direction_prediction2.ckpt\\assets\n"
     ]
    },
    {
     "name": "stderr",
     "output_type": "stream",
     "text": [
      "INFO:tensorflow:Assets written to: .\\models\\wind_direction_prediction2.ckpt\\assets\n"
     ]
    },
    {
     "name": "stdout",
     "output_type": "stream",
     "text": [
      "."
     ]
    },
    {
     "name": "stderr",
     "output_type": "stream",
     "text": [
      "WARNING:absl:Found untraced functions such as activation_5_layer_call_and_return_conditional_losses, activation_5_layer_call_fn, activation_5_layer_call_fn, activation_5_layer_call_and_return_conditional_losses, activation_5_layer_call_and_return_conditional_losses while saving (showing 5 of 5). These functions will not be directly callable after loading.\n"
     ]
    },
    {
     "name": "stdout",
     "output_type": "stream",
     "text": [
      "INFO:tensorflow:Assets written to: .\\models\\wind_direction_prediction2.ckpt\\assets\n"
     ]
    },
    {
     "name": "stderr",
     "output_type": "stream",
     "text": [
      "INFO:tensorflow:Assets written to: .\\models\\wind_direction_prediction2.ckpt\\assets\n"
     ]
    },
    {
     "name": "stdout",
     "output_type": "stream",
     "text": [
      "."
     ]
    },
    {
     "name": "stderr",
     "output_type": "stream",
     "text": [
      "WARNING:absl:Found untraced functions such as activation_5_layer_call_and_return_conditional_losses, activation_5_layer_call_fn, activation_5_layer_call_fn, activation_5_layer_call_and_return_conditional_losses, activation_5_layer_call_and_return_conditional_losses while saving (showing 5 of 5). These functions will not be directly callable after loading.\n"
     ]
    },
    {
     "name": "stdout",
     "output_type": "stream",
     "text": [
      "INFO:tensorflow:Assets written to: .\\models\\wind_direction_prediction2.ckpt\\assets\n"
     ]
    },
    {
     "name": "stderr",
     "output_type": "stream",
     "text": [
      "INFO:tensorflow:Assets written to: .\\models\\wind_direction_prediction2.ckpt\\assets\n"
     ]
    },
    {
     "name": "stdout",
     "output_type": "stream",
     "text": [
      "."
     ]
    },
    {
     "name": "stderr",
     "output_type": "stream",
     "text": [
      "WARNING:absl:Found untraced functions such as activation_5_layer_call_and_return_conditional_losses, activation_5_layer_call_fn, activation_5_layer_call_fn, activation_5_layer_call_and_return_conditional_losses, activation_5_layer_call_and_return_conditional_losses while saving (showing 5 of 5). These functions will not be directly callable after loading.\n"
     ]
    },
    {
     "name": "stdout",
     "output_type": "stream",
     "text": [
      "INFO:tensorflow:Assets written to: .\\models\\wind_direction_prediction2.ckpt\\assets\n"
     ]
    },
    {
     "name": "stderr",
     "output_type": "stream",
     "text": [
      "INFO:tensorflow:Assets written to: .\\models\\wind_direction_prediction2.ckpt\\assets\n"
     ]
    },
    {
     "name": "stdout",
     "output_type": "stream",
     "text": [
      "."
     ]
    },
    {
     "name": "stderr",
     "output_type": "stream",
     "text": [
      "WARNING:absl:Found untraced functions such as activation_5_layer_call_and_return_conditional_losses, activation_5_layer_call_fn, activation_5_layer_call_fn, activation_5_layer_call_and_return_conditional_losses, activation_5_layer_call_and_return_conditional_losses while saving (showing 5 of 5). These functions will not be directly callable after loading.\n"
     ]
    },
    {
     "name": "stdout",
     "output_type": "stream",
     "text": [
      "INFO:tensorflow:Assets written to: .\\models\\wind_direction_prediction2.ckpt\\assets\n"
     ]
    },
    {
     "name": "stderr",
     "output_type": "stream",
     "text": [
      "INFO:tensorflow:Assets written to: .\\models\\wind_direction_prediction2.ckpt\\assets\n"
     ]
    },
    {
     "name": "stdout",
     "output_type": "stream",
     "text": [
      "."
     ]
    },
    {
     "name": "stderr",
     "output_type": "stream",
     "text": [
      "WARNING:absl:Found untraced functions such as activation_5_layer_call_and_return_conditional_losses, activation_5_layer_call_fn, activation_5_layer_call_fn, activation_5_layer_call_and_return_conditional_losses, activation_5_layer_call_and_return_conditional_losses while saving (showing 5 of 5). These functions will not be directly callable after loading.\n"
     ]
    },
    {
     "name": "stdout",
     "output_type": "stream",
     "text": [
      "INFO:tensorflow:Assets written to: .\\models\\wind_direction_prediction2.ckpt\\assets\n"
     ]
    },
    {
     "name": "stderr",
     "output_type": "stream",
     "text": [
      "INFO:tensorflow:Assets written to: .\\models\\wind_direction_prediction2.ckpt\\assets\n"
     ]
    },
    {
     "name": "stdout",
     "output_type": "stream",
     "text": [
      "."
     ]
    },
    {
     "name": "stderr",
     "output_type": "stream",
     "text": [
      "WARNING:absl:Found untraced functions such as activation_5_layer_call_and_return_conditional_losses, activation_5_layer_call_fn, activation_5_layer_call_fn, activation_5_layer_call_and_return_conditional_losses, activation_5_layer_call_and_return_conditional_losses while saving (showing 5 of 5). These functions will not be directly callable after loading.\n"
     ]
    },
    {
     "name": "stdout",
     "output_type": "stream",
     "text": [
      "INFO:tensorflow:Assets written to: .\\models\\wind_direction_prediction2.ckpt\\assets\n"
     ]
    },
    {
     "name": "stderr",
     "output_type": "stream",
     "text": [
      "INFO:tensorflow:Assets written to: .\\models\\wind_direction_prediction2.ckpt\\assets\n"
     ]
    },
    {
     "name": "stdout",
     "output_type": "stream",
     "text": [
      "."
     ]
    },
    {
     "name": "stderr",
     "output_type": "stream",
     "text": [
      "WARNING:absl:Found untraced functions such as activation_5_layer_call_and_return_conditional_losses, activation_5_layer_call_fn, activation_5_layer_call_fn, activation_5_layer_call_and_return_conditional_losses, activation_5_layer_call_and_return_conditional_losses while saving (showing 5 of 5). These functions will not be directly callable after loading.\n"
     ]
    },
    {
     "name": "stdout",
     "output_type": "stream",
     "text": [
      "INFO:tensorflow:Assets written to: .\\models\\wind_direction_prediction2.ckpt\\assets\n"
     ]
    },
    {
     "name": "stderr",
     "output_type": "stream",
     "text": [
      "INFO:tensorflow:Assets written to: .\\models\\wind_direction_prediction2.ckpt\\assets\n"
     ]
    },
    {
     "name": "stdout",
     "output_type": "stream",
     "text": [
      "."
     ]
    },
    {
     "name": "stderr",
     "output_type": "stream",
     "text": [
      "WARNING:absl:Found untraced functions such as activation_5_layer_call_and_return_conditional_losses, activation_5_layer_call_fn, activation_5_layer_call_fn, activation_5_layer_call_and_return_conditional_losses, activation_5_layer_call_and_return_conditional_losses while saving (showing 5 of 5). These functions will not be directly callable after loading.\n"
     ]
    },
    {
     "name": "stdout",
     "output_type": "stream",
     "text": [
      "INFO:tensorflow:Assets written to: .\\models\\wind_direction_prediction2.ckpt\\assets\n"
     ]
    },
    {
     "name": "stderr",
     "output_type": "stream",
     "text": [
      "INFO:tensorflow:Assets written to: .\\models\\wind_direction_prediction2.ckpt\\assets\n"
     ]
    },
    {
     "name": "stdout",
     "output_type": "stream",
     "text": [
      "."
     ]
    },
    {
     "name": "stderr",
     "output_type": "stream",
     "text": [
      "WARNING:absl:Found untraced functions such as activation_5_layer_call_and_return_conditional_losses, activation_5_layer_call_fn, activation_5_layer_call_fn, activation_5_layer_call_and_return_conditional_losses, activation_5_layer_call_and_return_conditional_losses while saving (showing 5 of 5). These functions will not be directly callable after loading.\n"
     ]
    },
    {
     "name": "stdout",
     "output_type": "stream",
     "text": [
      "INFO:tensorflow:Assets written to: .\\models\\wind_direction_prediction2.ckpt\\assets\n"
     ]
    },
    {
     "name": "stderr",
     "output_type": "stream",
     "text": [
      "INFO:tensorflow:Assets written to: .\\models\\wind_direction_prediction2.ckpt\\assets\n"
     ]
    },
    {
     "name": "stdout",
     "output_type": "stream",
     "text": [
      "."
     ]
    },
    {
     "name": "stderr",
     "output_type": "stream",
     "text": [
      "WARNING:absl:Found untraced functions such as activation_5_layer_call_and_return_conditional_losses, activation_5_layer_call_fn, activation_5_layer_call_fn, activation_5_layer_call_and_return_conditional_losses, activation_5_layer_call_and_return_conditional_losses while saving (showing 5 of 5). These functions will not be directly callable after loading.\n"
     ]
    },
    {
     "name": "stdout",
     "output_type": "stream",
     "text": [
      "INFO:tensorflow:Assets written to: .\\models\\wind_direction_prediction2.ckpt\\assets\n"
     ]
    },
    {
     "name": "stderr",
     "output_type": "stream",
     "text": [
      "INFO:tensorflow:Assets written to: .\\models\\wind_direction_prediction2.ckpt\\assets\n"
     ]
    },
    {
     "name": "stdout",
     "output_type": "stream",
     "text": [
      "."
     ]
    },
    {
     "name": "stderr",
     "output_type": "stream",
     "text": [
      "WARNING:absl:Found untraced functions such as activation_5_layer_call_and_return_conditional_losses, activation_5_layer_call_fn, activation_5_layer_call_fn, activation_5_layer_call_and_return_conditional_losses, activation_5_layer_call_and_return_conditional_losses while saving (showing 5 of 5). These functions will not be directly callable after loading.\n"
     ]
    },
    {
     "name": "stdout",
     "output_type": "stream",
     "text": [
      "INFO:tensorflow:Assets written to: .\\models\\wind_direction_prediction2.ckpt\\assets\n"
     ]
    },
    {
     "name": "stderr",
     "output_type": "stream",
     "text": [
      "INFO:tensorflow:Assets written to: .\\models\\wind_direction_prediction2.ckpt\\assets\n"
     ]
    },
    {
     "name": "stdout",
     "output_type": "stream",
     "text": [
      "."
     ]
    },
    {
     "name": "stderr",
     "output_type": "stream",
     "text": [
      "WARNING:absl:Found untraced functions such as activation_5_layer_call_and_return_conditional_losses, activation_5_layer_call_fn, activation_5_layer_call_fn, activation_5_layer_call_and_return_conditional_losses, activation_5_layer_call_and_return_conditional_losses while saving (showing 5 of 5). These functions will not be directly callable after loading.\n"
     ]
    },
    {
     "name": "stdout",
     "output_type": "stream",
     "text": [
      "INFO:tensorflow:Assets written to: .\\models\\wind_direction_prediction2.ckpt\\assets\n"
     ]
    },
    {
     "name": "stderr",
     "output_type": "stream",
     "text": [
      "INFO:tensorflow:Assets written to: .\\models\\wind_direction_prediction2.ckpt\\assets\n"
     ]
    },
    {
     "name": "stdout",
     "output_type": "stream",
     "text": [
      "."
     ]
    },
    {
     "name": "stderr",
     "output_type": "stream",
     "text": [
      "WARNING:absl:Found untraced functions such as activation_5_layer_call_and_return_conditional_losses, activation_5_layer_call_fn, activation_5_layer_call_fn, activation_5_layer_call_and_return_conditional_losses, activation_5_layer_call_and_return_conditional_losses while saving (showing 5 of 5). These functions will not be directly callable after loading.\n"
     ]
    },
    {
     "name": "stdout",
     "output_type": "stream",
     "text": [
      "INFO:tensorflow:Assets written to: .\\models\\wind_direction_prediction2.ckpt\\assets\n"
     ]
    },
    {
     "name": "stderr",
     "output_type": "stream",
     "text": [
      "INFO:tensorflow:Assets written to: .\\models\\wind_direction_prediction2.ckpt\\assets\n"
     ]
    },
    {
     "name": "stdout",
     "output_type": "stream",
     "text": [
      "."
     ]
    },
    {
     "name": "stderr",
     "output_type": "stream",
     "text": [
      "WARNING:absl:Found untraced functions such as activation_5_layer_call_and_return_conditional_losses, activation_5_layer_call_fn, activation_5_layer_call_fn, activation_5_layer_call_and_return_conditional_losses, activation_5_layer_call_and_return_conditional_losses while saving (showing 5 of 5). These functions will not be directly callable after loading.\n"
     ]
    },
    {
     "name": "stdout",
     "output_type": "stream",
     "text": [
      "INFO:tensorflow:Assets written to: .\\models\\wind_direction_prediction2.ckpt\\assets\n"
     ]
    },
    {
     "name": "stderr",
     "output_type": "stream",
     "text": [
      "INFO:tensorflow:Assets written to: .\\models\\wind_direction_prediction2.ckpt\\assets\n"
     ]
    },
    {
     "name": "stdout",
     "output_type": "stream",
     "text": [
      "."
     ]
    },
    {
     "name": "stderr",
     "output_type": "stream",
     "text": [
      "WARNING:absl:Found untraced functions such as activation_5_layer_call_and_return_conditional_losses, activation_5_layer_call_fn, activation_5_layer_call_fn, activation_5_layer_call_and_return_conditional_losses, activation_5_layer_call_and_return_conditional_losses while saving (showing 5 of 5). These functions will not be directly callable after loading.\n"
     ]
    },
    {
     "name": "stdout",
     "output_type": "stream",
     "text": [
      "INFO:tensorflow:Assets written to: .\\models\\wind_direction_prediction2.ckpt\\assets\n"
     ]
    },
    {
     "name": "stderr",
     "output_type": "stream",
     "text": [
      "INFO:tensorflow:Assets written to: .\\models\\wind_direction_prediction2.ckpt\\assets\n"
     ]
    },
    {
     "name": "stdout",
     "output_type": "stream",
     "text": [
      "."
     ]
    },
    {
     "name": "stderr",
     "output_type": "stream",
     "text": [
      "WARNING:absl:Found untraced functions such as activation_5_layer_call_and_return_conditional_losses, activation_5_layer_call_fn, activation_5_layer_call_fn, activation_5_layer_call_and_return_conditional_losses, activation_5_layer_call_and_return_conditional_losses while saving (showing 5 of 5). These functions will not be directly callable after loading.\n"
     ]
    },
    {
     "name": "stdout",
     "output_type": "stream",
     "text": [
      "INFO:tensorflow:Assets written to: .\\models\\wind_direction_prediction2.ckpt\\assets\n"
     ]
    },
    {
     "name": "stderr",
     "output_type": "stream",
     "text": [
      "INFO:tensorflow:Assets written to: .\\models\\wind_direction_prediction2.ckpt\\assets\n"
     ]
    },
    {
     "name": "stdout",
     "output_type": "stream",
     "text": [
      "."
     ]
    },
    {
     "name": "stderr",
     "output_type": "stream",
     "text": [
      "WARNING:absl:Found untraced functions such as activation_5_layer_call_and_return_conditional_losses, activation_5_layer_call_fn, activation_5_layer_call_fn, activation_5_layer_call_and_return_conditional_losses, activation_5_layer_call_and_return_conditional_losses while saving (showing 5 of 5). These functions will not be directly callable after loading.\n"
     ]
    },
    {
     "name": "stdout",
     "output_type": "stream",
     "text": [
      "INFO:tensorflow:Assets written to: .\\models\\wind_direction_prediction2.ckpt\\assets\n"
     ]
    },
    {
     "name": "stderr",
     "output_type": "stream",
     "text": [
      "INFO:tensorflow:Assets written to: .\\models\\wind_direction_prediction2.ckpt\\assets\n"
     ]
    },
    {
     "name": "stdout",
     "output_type": "stream",
     "text": [
      "."
     ]
    },
    {
     "name": "stderr",
     "output_type": "stream",
     "text": [
      "WARNING:absl:Found untraced functions such as activation_5_layer_call_and_return_conditional_losses, activation_5_layer_call_fn, activation_5_layer_call_fn, activation_5_layer_call_and_return_conditional_losses, activation_5_layer_call_and_return_conditional_losses while saving (showing 5 of 5). These functions will not be directly callable after loading.\n"
     ]
    },
    {
     "name": "stdout",
     "output_type": "stream",
     "text": [
      "INFO:tensorflow:Assets written to: .\\models\\wind_direction_prediction2.ckpt\\assets\n"
     ]
    },
    {
     "name": "stderr",
     "output_type": "stream",
     "text": [
      "INFO:tensorflow:Assets written to: .\\models\\wind_direction_prediction2.ckpt\\assets\n"
     ]
    },
    {
     "name": "stdout",
     "output_type": "stream",
     "text": [
      "."
     ]
    },
    {
     "name": "stderr",
     "output_type": "stream",
     "text": [
      "WARNING:absl:Found untraced functions such as activation_5_layer_call_and_return_conditional_losses, activation_5_layer_call_fn, activation_5_layer_call_fn, activation_5_layer_call_and_return_conditional_losses, activation_5_layer_call_and_return_conditional_losses while saving (showing 5 of 5). These functions will not be directly callable after loading.\n"
     ]
    },
    {
     "name": "stdout",
     "output_type": "stream",
     "text": [
      "INFO:tensorflow:Assets written to: .\\models\\wind_direction_prediction2.ckpt\\assets\n"
     ]
    },
    {
     "name": "stderr",
     "output_type": "stream",
     "text": [
      "INFO:tensorflow:Assets written to: .\\models\\wind_direction_prediction2.ckpt\\assets\n"
     ]
    },
    {
     "name": "stdout",
     "output_type": "stream",
     "text": [
      "."
     ]
    },
    {
     "name": "stderr",
     "output_type": "stream",
     "text": [
      "WARNING:absl:Found untraced functions such as activation_5_layer_call_and_return_conditional_losses, activation_5_layer_call_fn, activation_5_layer_call_fn, activation_5_layer_call_and_return_conditional_losses, activation_5_layer_call_and_return_conditional_losses while saving (showing 5 of 5). These functions will not be directly callable after loading.\n"
     ]
    },
    {
     "name": "stdout",
     "output_type": "stream",
     "text": [
      "INFO:tensorflow:Assets written to: .\\models\\wind_direction_prediction2.ckpt\\assets\n"
     ]
    },
    {
     "name": "stderr",
     "output_type": "stream",
     "text": [
      "INFO:tensorflow:Assets written to: .\\models\\wind_direction_prediction2.ckpt\\assets\n"
     ]
    },
    {
     "name": "stdout",
     "output_type": "stream",
     "text": [
      "."
     ]
    },
    {
     "name": "stderr",
     "output_type": "stream",
     "text": [
      "WARNING:absl:Found untraced functions such as activation_5_layer_call_and_return_conditional_losses, activation_5_layer_call_fn, activation_5_layer_call_fn, activation_5_layer_call_and_return_conditional_losses, activation_5_layer_call_and_return_conditional_losses while saving (showing 5 of 5). These functions will not be directly callable after loading.\n"
     ]
    },
    {
     "name": "stdout",
     "output_type": "stream",
     "text": [
      "INFO:tensorflow:Assets written to: .\\models\\wind_direction_prediction2.ckpt\\assets\n"
     ]
    },
    {
     "name": "stderr",
     "output_type": "stream",
     "text": [
      "INFO:tensorflow:Assets written to: .\\models\\wind_direction_prediction2.ckpt\\assets\n"
     ]
    },
    {
     "name": "stdout",
     "output_type": "stream",
     "text": [
      "."
     ]
    },
    {
     "name": "stderr",
     "output_type": "stream",
     "text": [
      "WARNING:absl:Found untraced functions such as activation_5_layer_call_and_return_conditional_losses, activation_5_layer_call_fn, activation_5_layer_call_fn, activation_5_layer_call_and_return_conditional_losses, activation_5_layer_call_and_return_conditional_losses while saving (showing 5 of 5). These functions will not be directly callable after loading.\n"
     ]
    },
    {
     "name": "stdout",
     "output_type": "stream",
     "text": [
      "INFO:tensorflow:Assets written to: .\\models\\wind_direction_prediction2.ckpt\\assets\n"
     ]
    },
    {
     "name": "stderr",
     "output_type": "stream",
     "text": [
      "INFO:tensorflow:Assets written to: .\\models\\wind_direction_prediction2.ckpt\\assets\n"
     ]
    },
    {
     "name": "stdout",
     "output_type": "stream",
     "text": [
      "."
     ]
    },
    {
     "name": "stderr",
     "output_type": "stream",
     "text": [
      "WARNING:absl:Found untraced functions such as activation_5_layer_call_and_return_conditional_losses, activation_5_layer_call_fn, activation_5_layer_call_fn, activation_5_layer_call_and_return_conditional_losses, activation_5_layer_call_and_return_conditional_losses while saving (showing 5 of 5). These functions will not be directly callable after loading.\n"
     ]
    },
    {
     "name": "stdout",
     "output_type": "stream",
     "text": [
      "INFO:tensorflow:Assets written to: .\\models\\wind_direction_prediction2.ckpt\\assets\n"
     ]
    },
    {
     "name": "stderr",
     "output_type": "stream",
     "text": [
      "INFO:tensorflow:Assets written to: .\\models\\wind_direction_prediction2.ckpt\\assets\n"
     ]
    },
    {
     "name": "stdout",
     "output_type": "stream",
     "text": [
      "."
     ]
    },
    {
     "name": "stderr",
     "output_type": "stream",
     "text": [
      "WARNING:absl:Found untraced functions such as activation_5_layer_call_and_return_conditional_losses, activation_5_layer_call_fn, activation_5_layer_call_fn, activation_5_layer_call_and_return_conditional_losses, activation_5_layer_call_and_return_conditional_losses while saving (showing 5 of 5). These functions will not be directly callable after loading.\n"
     ]
    },
    {
     "name": "stdout",
     "output_type": "stream",
     "text": [
      "INFO:tensorflow:Assets written to: .\\models\\wind_direction_prediction2.ckpt\\assets\n"
     ]
    },
    {
     "name": "stderr",
     "output_type": "stream",
     "text": [
      "INFO:tensorflow:Assets written to: .\\models\\wind_direction_prediction2.ckpt\\assets\n"
     ]
    },
    {
     "name": "stdout",
     "output_type": "stream",
     "text": [
      "."
     ]
    },
    {
     "name": "stderr",
     "output_type": "stream",
     "text": [
      "WARNING:absl:Found untraced functions such as activation_5_layer_call_and_return_conditional_losses, activation_5_layer_call_fn, activation_5_layer_call_fn, activation_5_layer_call_and_return_conditional_losses, activation_5_layer_call_and_return_conditional_losses while saving (showing 5 of 5). These functions will not be directly callable after loading.\n"
     ]
    },
    {
     "name": "stdout",
     "output_type": "stream",
     "text": [
      "INFO:tensorflow:Assets written to: .\\models\\wind_direction_prediction2.ckpt\\assets\n"
     ]
    },
    {
     "name": "stderr",
     "output_type": "stream",
     "text": [
      "INFO:tensorflow:Assets written to: .\\models\\wind_direction_prediction2.ckpt\\assets\n"
     ]
    },
    {
     "name": "stdout",
     "output_type": "stream",
     "text": [
      "."
     ]
    },
    {
     "name": "stderr",
     "output_type": "stream",
     "text": [
      "WARNING:absl:Found untraced functions such as activation_5_layer_call_and_return_conditional_losses, activation_5_layer_call_fn, activation_5_layer_call_fn, activation_5_layer_call_and_return_conditional_losses, activation_5_layer_call_and_return_conditional_losses while saving (showing 5 of 5). These functions will not be directly callable after loading.\n"
     ]
    },
    {
     "name": "stdout",
     "output_type": "stream",
     "text": [
      "INFO:tensorflow:Assets written to: .\\models\\wind_direction_prediction2.ckpt\\assets\n"
     ]
    },
    {
     "name": "stderr",
     "output_type": "stream",
     "text": [
      "INFO:tensorflow:Assets written to: .\\models\\wind_direction_prediction2.ckpt\\assets\n"
     ]
    },
    {
     "name": "stdout",
     "output_type": "stream",
     "text": [
      "."
     ]
    },
    {
     "name": "stderr",
     "output_type": "stream",
     "text": [
      "WARNING:absl:Found untraced functions such as activation_5_layer_call_and_return_conditional_losses, activation_5_layer_call_fn, activation_5_layer_call_fn, activation_5_layer_call_and_return_conditional_losses, activation_5_layer_call_and_return_conditional_losses while saving (showing 5 of 5). These functions will not be directly callable after loading.\n"
     ]
    },
    {
     "name": "stdout",
     "output_type": "stream",
     "text": [
      "INFO:tensorflow:Assets written to: .\\models\\wind_direction_prediction2.ckpt\\assets\n"
     ]
    },
    {
     "name": "stderr",
     "output_type": "stream",
     "text": [
      "INFO:tensorflow:Assets written to: .\\models\\wind_direction_prediction2.ckpt\\assets\n"
     ]
    },
    {
     "name": "stdout",
     "output_type": "stream",
     "text": [
      "."
     ]
    },
    {
     "name": "stderr",
     "output_type": "stream",
     "text": [
      "WARNING:absl:Found untraced functions such as activation_5_layer_call_and_return_conditional_losses, activation_5_layer_call_fn, activation_5_layer_call_fn, activation_5_layer_call_and_return_conditional_losses, activation_5_layer_call_and_return_conditional_losses while saving (showing 5 of 5). These functions will not be directly callable after loading.\n"
     ]
    },
    {
     "name": "stdout",
     "output_type": "stream",
     "text": [
      "INFO:tensorflow:Assets written to: .\\models\\wind_direction_prediction2.ckpt\\assets\n"
     ]
    },
    {
     "name": "stderr",
     "output_type": "stream",
     "text": [
      "INFO:tensorflow:Assets written to: .\\models\\wind_direction_prediction2.ckpt\\assets\n"
     ]
    },
    {
     "name": "stdout",
     "output_type": "stream",
     "text": [
      "."
     ]
    },
    {
     "name": "stderr",
     "output_type": "stream",
     "text": [
      "WARNING:absl:Found untraced functions such as activation_5_layer_call_and_return_conditional_losses, activation_5_layer_call_fn, activation_5_layer_call_fn, activation_5_layer_call_and_return_conditional_losses, activation_5_layer_call_and_return_conditional_losses while saving (showing 5 of 5). These functions will not be directly callable after loading.\n"
     ]
    },
    {
     "name": "stdout",
     "output_type": "stream",
     "text": [
      "INFO:tensorflow:Assets written to: .\\models\\wind_direction_prediction2.ckpt\\assets\n"
     ]
    },
    {
     "name": "stderr",
     "output_type": "stream",
     "text": [
      "INFO:tensorflow:Assets written to: .\\models\\wind_direction_prediction2.ckpt\\assets\n"
     ]
    },
    {
     "name": "stdout",
     "output_type": "stream",
     "text": [
      "."
     ]
    },
    {
     "name": "stderr",
     "output_type": "stream",
     "text": [
      "WARNING:absl:Found untraced functions such as activation_5_layer_call_and_return_conditional_losses, activation_5_layer_call_fn, activation_5_layer_call_fn, activation_5_layer_call_and_return_conditional_losses, activation_5_layer_call_and_return_conditional_losses while saving (showing 5 of 5). These functions will not be directly callable after loading.\n"
     ]
    },
    {
     "name": "stdout",
     "output_type": "stream",
     "text": [
      "INFO:tensorflow:Assets written to: .\\models\\wind_direction_prediction2.ckpt\\assets\n"
     ]
    },
    {
     "name": "stderr",
     "output_type": "stream",
     "text": [
      "INFO:tensorflow:Assets written to: .\\models\\wind_direction_prediction2.ckpt\\assets\n"
     ]
    },
    {
     "name": "stdout",
     "output_type": "stream",
     "text": [
      "."
     ]
    },
    {
     "name": "stderr",
     "output_type": "stream",
     "text": [
      "WARNING:absl:Found untraced functions such as activation_5_layer_call_and_return_conditional_losses, activation_5_layer_call_fn, activation_5_layer_call_fn, activation_5_layer_call_and_return_conditional_losses, activation_5_layer_call_and_return_conditional_losses while saving (showing 5 of 5). These functions will not be directly callable after loading.\n"
     ]
    },
    {
     "name": "stdout",
     "output_type": "stream",
     "text": [
      "INFO:tensorflow:Assets written to: .\\models\\wind_direction_prediction2.ckpt\\assets\n"
     ]
    },
    {
     "name": "stderr",
     "output_type": "stream",
     "text": [
      "INFO:tensorflow:Assets written to: .\\models\\wind_direction_prediction2.ckpt\\assets\n"
     ]
    },
    {
     "name": "stdout",
     "output_type": "stream",
     "text": [
      "."
     ]
    },
    {
     "name": "stderr",
     "output_type": "stream",
     "text": [
      "WARNING:absl:Found untraced functions such as activation_5_layer_call_and_return_conditional_losses, activation_5_layer_call_fn, activation_5_layer_call_fn, activation_5_layer_call_and_return_conditional_losses, activation_5_layer_call_and_return_conditional_losses while saving (showing 5 of 5). These functions will not be directly callable after loading.\n"
     ]
    },
    {
     "name": "stdout",
     "output_type": "stream",
     "text": [
      "INFO:tensorflow:Assets written to: .\\models\\wind_direction_prediction2.ckpt\\assets\n"
     ]
    },
    {
     "name": "stderr",
     "output_type": "stream",
     "text": [
      "INFO:tensorflow:Assets written to: .\\models\\wind_direction_prediction2.ckpt\\assets\n"
     ]
    },
    {
     "name": "stdout",
     "output_type": "stream",
     "text": [
      "."
     ]
    },
    {
     "name": "stderr",
     "output_type": "stream",
     "text": [
      "WARNING:absl:Found untraced functions such as activation_5_layer_call_and_return_conditional_losses, activation_5_layer_call_fn, activation_5_layer_call_fn, activation_5_layer_call_and_return_conditional_losses, activation_5_layer_call_and_return_conditional_losses while saving (showing 5 of 5). These functions will not be directly callable after loading.\n"
     ]
    },
    {
     "name": "stdout",
     "output_type": "stream",
     "text": [
      "INFO:tensorflow:Assets written to: .\\models\\wind_direction_prediction2.ckpt\\assets\n"
     ]
    },
    {
     "name": "stderr",
     "output_type": "stream",
     "text": [
      "INFO:tensorflow:Assets written to: .\\models\\wind_direction_prediction2.ckpt\\assets\n"
     ]
    },
    {
     "name": "stdout",
     "output_type": "stream",
     "text": [
      "."
     ]
    },
    {
     "name": "stderr",
     "output_type": "stream",
     "text": [
      "WARNING:absl:Found untraced functions such as activation_5_layer_call_and_return_conditional_losses, activation_5_layer_call_fn, activation_5_layer_call_fn, activation_5_layer_call_and_return_conditional_losses, activation_5_layer_call_and_return_conditional_losses while saving (showing 5 of 5). These functions will not be directly callable after loading.\n"
     ]
    },
    {
     "name": "stdout",
     "output_type": "stream",
     "text": [
      "INFO:tensorflow:Assets written to: .\\models\\wind_direction_prediction2.ckpt\\assets\n"
     ]
    },
    {
     "name": "stderr",
     "output_type": "stream",
     "text": [
      "INFO:tensorflow:Assets written to: .\\models\\wind_direction_prediction2.ckpt\\assets\n"
     ]
    },
    {
     "name": "stdout",
     "output_type": "stream",
     "text": [
      "."
     ]
    },
    {
     "name": "stderr",
     "output_type": "stream",
     "text": [
      "WARNING:absl:Found untraced functions such as activation_5_layer_call_and_return_conditional_losses, activation_5_layer_call_fn, activation_5_layer_call_fn, activation_5_layer_call_and_return_conditional_losses, activation_5_layer_call_and_return_conditional_losses while saving (showing 5 of 5). These functions will not be directly callable after loading.\n"
     ]
    },
    {
     "name": "stdout",
     "output_type": "stream",
     "text": [
      "INFO:tensorflow:Assets written to: .\\models\\wind_direction_prediction2.ckpt\\assets\n"
     ]
    },
    {
     "name": "stderr",
     "output_type": "stream",
     "text": [
      "INFO:tensorflow:Assets written to: .\\models\\wind_direction_prediction2.ckpt\\assets\n"
     ]
    },
    {
     "name": "stdout",
     "output_type": "stream",
     "text": [
      "."
     ]
    },
    {
     "name": "stderr",
     "output_type": "stream",
     "text": [
      "WARNING:absl:Found untraced functions such as activation_5_layer_call_and_return_conditional_losses, activation_5_layer_call_fn, activation_5_layer_call_fn, activation_5_layer_call_and_return_conditional_losses, activation_5_layer_call_and_return_conditional_losses while saving (showing 5 of 5). These functions will not be directly callable after loading.\n"
     ]
    },
    {
     "name": "stdout",
     "output_type": "stream",
     "text": [
      "INFO:tensorflow:Assets written to: .\\models\\wind_direction_prediction2.ckpt\\assets\n"
     ]
    },
    {
     "name": "stderr",
     "output_type": "stream",
     "text": [
      "INFO:tensorflow:Assets written to: .\\models\\wind_direction_prediction2.ckpt\\assets\n"
     ]
    },
    {
     "name": "stdout",
     "output_type": "stream",
     "text": [
      "."
     ]
    },
    {
     "name": "stderr",
     "output_type": "stream",
     "text": [
      "WARNING:absl:Found untraced functions such as activation_5_layer_call_and_return_conditional_losses, activation_5_layer_call_fn, activation_5_layer_call_fn, activation_5_layer_call_and_return_conditional_losses, activation_5_layer_call_and_return_conditional_losses while saving (showing 5 of 5). These functions will not be directly callable after loading.\n"
     ]
    },
    {
     "name": "stdout",
     "output_type": "stream",
     "text": [
      "INFO:tensorflow:Assets written to: .\\models\\wind_direction_prediction2.ckpt\\assets\n"
     ]
    },
    {
     "name": "stderr",
     "output_type": "stream",
     "text": [
      "INFO:tensorflow:Assets written to: .\\models\\wind_direction_prediction2.ckpt\\assets\n"
     ]
    },
    {
     "name": "stdout",
     "output_type": "stream",
     "text": [
      "."
     ]
    },
    {
     "name": "stderr",
     "output_type": "stream",
     "text": [
      "WARNING:absl:Found untraced functions such as activation_5_layer_call_and_return_conditional_losses, activation_5_layer_call_fn, activation_5_layer_call_fn, activation_5_layer_call_and_return_conditional_losses, activation_5_layer_call_and_return_conditional_losses while saving (showing 5 of 5). These functions will not be directly callable after loading.\n"
     ]
    },
    {
     "name": "stdout",
     "output_type": "stream",
     "text": [
      "INFO:tensorflow:Assets written to: .\\models\\wind_direction_prediction2.ckpt\\assets\n"
     ]
    },
    {
     "name": "stderr",
     "output_type": "stream",
     "text": [
      "INFO:tensorflow:Assets written to: .\\models\\wind_direction_prediction2.ckpt\\assets\n"
     ]
    },
    {
     "name": "stdout",
     "output_type": "stream",
     "text": [
      "."
     ]
    },
    {
     "name": "stderr",
     "output_type": "stream",
     "text": [
      "WARNING:absl:Found untraced functions such as activation_5_layer_call_and_return_conditional_losses, activation_5_layer_call_fn, activation_5_layer_call_fn, activation_5_layer_call_and_return_conditional_losses, activation_5_layer_call_and_return_conditional_losses while saving (showing 5 of 5). These functions will not be directly callable after loading.\n"
     ]
    },
    {
     "name": "stdout",
     "output_type": "stream",
     "text": [
      "INFO:tensorflow:Assets written to: .\\models\\wind_direction_prediction2.ckpt\\assets\n"
     ]
    },
    {
     "name": "stderr",
     "output_type": "stream",
     "text": [
      "INFO:tensorflow:Assets written to: .\\models\\wind_direction_prediction2.ckpt\\assets\n"
     ]
    },
    {
     "name": "stdout",
     "output_type": "stream",
     "text": [
      "."
     ]
    },
    {
     "name": "stderr",
     "output_type": "stream",
     "text": [
      "WARNING:absl:Found untraced functions such as activation_5_layer_call_and_return_conditional_losses, activation_5_layer_call_fn, activation_5_layer_call_fn, activation_5_layer_call_and_return_conditional_losses, activation_5_layer_call_and_return_conditional_losses while saving (showing 5 of 5). These functions will not be directly callable after loading.\n"
     ]
    },
    {
     "name": "stdout",
     "output_type": "stream",
     "text": [
      "INFO:tensorflow:Assets written to: .\\models\\wind_direction_prediction2.ckpt\\assets\n"
     ]
    },
    {
     "name": "stderr",
     "output_type": "stream",
     "text": [
      "INFO:tensorflow:Assets written to: .\\models\\wind_direction_prediction2.ckpt\\assets\n"
     ]
    },
    {
     "name": "stdout",
     "output_type": "stream",
     "text": [
      "."
     ]
    },
    {
     "name": "stderr",
     "output_type": "stream",
     "text": [
      "WARNING:absl:Found untraced functions such as activation_5_layer_call_and_return_conditional_losses, activation_5_layer_call_fn, activation_5_layer_call_fn, activation_5_layer_call_and_return_conditional_losses, activation_5_layer_call_and_return_conditional_losses while saving (showing 5 of 5). These functions will not be directly callable after loading.\n"
     ]
    },
    {
     "name": "stdout",
     "output_type": "stream",
     "text": [
      "INFO:tensorflow:Assets written to: .\\models\\wind_direction_prediction2.ckpt\\assets\n"
     ]
    },
    {
     "name": "stderr",
     "output_type": "stream",
     "text": [
      "INFO:tensorflow:Assets written to: .\\models\\wind_direction_prediction2.ckpt\\assets\n"
     ]
    },
    {
     "name": "stdout",
     "output_type": "stream",
     "text": [
      "."
     ]
    },
    {
     "name": "stderr",
     "output_type": "stream",
     "text": [
      "WARNING:absl:Found untraced functions such as activation_5_layer_call_and_return_conditional_losses, activation_5_layer_call_fn, activation_5_layer_call_fn, activation_5_layer_call_and_return_conditional_losses, activation_5_layer_call_and_return_conditional_losses while saving (showing 5 of 5). These functions will not be directly callable after loading.\n"
     ]
    },
    {
     "name": "stdout",
     "output_type": "stream",
     "text": [
      "INFO:tensorflow:Assets written to: .\\models\\wind_direction_prediction2.ckpt\\assets\n"
     ]
    },
    {
     "name": "stderr",
     "output_type": "stream",
     "text": [
      "INFO:tensorflow:Assets written to: .\\models\\wind_direction_prediction2.ckpt\\assets\n"
     ]
    },
    {
     "name": "stdout",
     "output_type": "stream",
     "text": [
      "."
     ]
    },
    {
     "name": "stderr",
     "output_type": "stream",
     "text": [
      "WARNING:absl:Found untraced functions such as activation_5_layer_call_and_return_conditional_losses, activation_5_layer_call_fn, activation_5_layer_call_fn, activation_5_layer_call_and_return_conditional_losses, activation_5_layer_call_and_return_conditional_losses while saving (showing 5 of 5). These functions will not be directly callable after loading.\n"
     ]
    },
    {
     "name": "stdout",
     "output_type": "stream",
     "text": [
      "INFO:tensorflow:Assets written to: .\\models\\wind_direction_prediction2.ckpt\\assets\n"
     ]
    },
    {
     "name": "stderr",
     "output_type": "stream",
     "text": [
      "INFO:tensorflow:Assets written to: .\\models\\wind_direction_prediction2.ckpt\\assets\n"
     ]
    },
    {
     "name": "stdout",
     "output_type": "stream",
     "text": [
      "."
     ]
    },
    {
     "name": "stderr",
     "output_type": "stream",
     "text": [
      "WARNING:absl:Found untraced functions such as activation_5_layer_call_and_return_conditional_losses, activation_5_layer_call_fn, activation_5_layer_call_fn, activation_5_layer_call_and_return_conditional_losses, activation_5_layer_call_and_return_conditional_losses while saving (showing 5 of 5). These functions will not be directly callable after loading.\n"
     ]
    },
    {
     "name": "stdout",
     "output_type": "stream",
     "text": [
      "INFO:tensorflow:Assets written to: .\\models\\wind_direction_prediction2.ckpt\\assets\n"
     ]
    },
    {
     "name": "stderr",
     "output_type": "stream",
     "text": [
      "INFO:tensorflow:Assets written to: .\\models\\wind_direction_prediction2.ckpt\\assets\n"
     ]
    },
    {
     "name": "stdout",
     "output_type": "stream",
     "text": [
      "."
     ]
    },
    {
     "name": "stderr",
     "output_type": "stream",
     "text": [
      "WARNING:absl:Found untraced functions such as activation_5_layer_call_and_return_conditional_losses, activation_5_layer_call_fn, activation_5_layer_call_fn, activation_5_layer_call_and_return_conditional_losses, activation_5_layer_call_and_return_conditional_losses while saving (showing 5 of 5). These functions will not be directly callable after loading.\n"
     ]
    },
    {
     "name": "stdout",
     "output_type": "stream",
     "text": [
      "INFO:tensorflow:Assets written to: .\\models\\wind_direction_prediction2.ckpt\\assets\n"
     ]
    },
    {
     "name": "stderr",
     "output_type": "stream",
     "text": [
      "INFO:tensorflow:Assets written to: .\\models\\wind_direction_prediction2.ckpt\\assets\n"
     ]
    },
    {
     "name": "stdout",
     "output_type": "stream",
     "text": [
      "."
     ]
    },
    {
     "name": "stderr",
     "output_type": "stream",
     "text": [
      "WARNING:absl:Found untraced functions such as activation_5_layer_call_and_return_conditional_losses, activation_5_layer_call_fn, activation_5_layer_call_fn, activation_5_layer_call_and_return_conditional_losses, activation_5_layer_call_and_return_conditional_losses while saving (showing 5 of 5). These functions will not be directly callable after loading.\n"
     ]
    },
    {
     "name": "stdout",
     "output_type": "stream",
     "text": [
      "INFO:tensorflow:Assets written to: .\\models\\wind_direction_prediction2.ckpt\\assets\n"
     ]
    },
    {
     "name": "stderr",
     "output_type": "stream",
     "text": [
      "INFO:tensorflow:Assets written to: .\\models\\wind_direction_prediction2.ckpt\\assets\n"
     ]
    },
    {
     "name": "stdout",
     "output_type": "stream",
     "text": [
      "."
     ]
    },
    {
     "name": "stderr",
     "output_type": "stream",
     "text": [
      "WARNING:absl:Found untraced functions such as activation_5_layer_call_and_return_conditional_losses, activation_5_layer_call_fn, activation_5_layer_call_fn, activation_5_layer_call_and_return_conditional_losses, activation_5_layer_call_and_return_conditional_losses while saving (showing 5 of 5). These functions will not be directly callable after loading.\n"
     ]
    },
    {
     "name": "stdout",
     "output_type": "stream",
     "text": [
      "INFO:tensorflow:Assets written to: .\\models\\wind_direction_prediction2.ckpt\\assets\n"
     ]
    },
    {
     "name": "stderr",
     "output_type": "stream",
     "text": [
      "INFO:tensorflow:Assets written to: .\\models\\wind_direction_prediction2.ckpt\\assets\n"
     ]
    },
    {
     "name": "stdout",
     "output_type": "stream",
     "text": [
      "."
     ]
    },
    {
     "name": "stderr",
     "output_type": "stream",
     "text": [
      "WARNING:absl:Found untraced functions such as activation_5_layer_call_and_return_conditional_losses, activation_5_layer_call_fn, activation_5_layer_call_fn, activation_5_layer_call_and_return_conditional_losses, activation_5_layer_call_and_return_conditional_losses while saving (showing 5 of 5). These functions will not be directly callable after loading.\n"
     ]
    },
    {
     "name": "stdout",
     "output_type": "stream",
     "text": [
      "INFO:tensorflow:Assets written to: .\\models\\wind_direction_prediction2.ckpt\\assets\n"
     ]
    },
    {
     "name": "stderr",
     "output_type": "stream",
     "text": [
      "INFO:tensorflow:Assets written to: .\\models\\wind_direction_prediction2.ckpt\\assets\n"
     ]
    },
    {
     "name": "stdout",
     "output_type": "stream",
     "text": [
      ".."
     ]
    },
    {
     "name": "stderr",
     "output_type": "stream",
     "text": [
      "WARNING:absl:Found untraced functions such as activation_5_layer_call_and_return_conditional_losses, activation_5_layer_call_fn, activation_5_layer_call_fn, activation_5_layer_call_and_return_conditional_losses, activation_5_layer_call_and_return_conditional_losses while saving (showing 5 of 5). These functions will not be directly callable after loading.\n"
     ]
    },
    {
     "name": "stdout",
     "output_type": "stream",
     "text": [
      "INFO:tensorflow:Assets written to: .\\models\\wind_direction_prediction2.ckpt\\assets\n"
     ]
    },
    {
     "name": "stderr",
     "output_type": "stream",
     "text": [
      "INFO:tensorflow:Assets written to: .\\models\\wind_direction_prediction2.ckpt\\assets\n"
     ]
    },
    {
     "name": "stdout",
     "output_type": "stream",
     "text": [
      "."
     ]
    },
    {
     "name": "stderr",
     "output_type": "stream",
     "text": [
      "WARNING:absl:Found untraced functions such as activation_5_layer_call_and_return_conditional_losses, activation_5_layer_call_fn, activation_5_layer_call_fn, activation_5_layer_call_and_return_conditional_losses, activation_5_layer_call_and_return_conditional_losses while saving (showing 5 of 5). These functions will not be directly callable after loading.\n"
     ]
    },
    {
     "name": "stdout",
     "output_type": "stream",
     "text": [
      "INFO:tensorflow:Assets written to: .\\models\\wind_direction_prediction2.ckpt\\assets\n"
     ]
    },
    {
     "name": "stderr",
     "output_type": "stream",
     "text": [
      "INFO:tensorflow:Assets written to: .\\models\\wind_direction_prediction2.ckpt\\assets\n"
     ]
    },
    {
     "name": "stdout",
     "output_type": "stream",
     "text": [
      "."
     ]
    },
    {
     "name": "stderr",
     "output_type": "stream",
     "text": [
      "WARNING:absl:Found untraced functions such as activation_5_layer_call_and_return_conditional_losses, activation_5_layer_call_fn, activation_5_layer_call_fn, activation_5_layer_call_and_return_conditional_losses, activation_5_layer_call_and_return_conditional_losses while saving (showing 5 of 5). These functions will not be directly callable after loading.\n"
     ]
    },
    {
     "name": "stdout",
     "output_type": "stream",
     "text": [
      "INFO:tensorflow:Assets written to: .\\models\\wind_direction_prediction2.ckpt\\assets\n"
     ]
    },
    {
     "name": "stderr",
     "output_type": "stream",
     "text": [
      "INFO:tensorflow:Assets written to: .\\models\\wind_direction_prediction2.ckpt\\assets\n"
     ]
    },
    {
     "name": "stdout",
     "output_type": "stream",
     "text": [
      "."
     ]
    },
    {
     "name": "stderr",
     "output_type": "stream",
     "text": [
      "WARNING:absl:Found untraced functions such as activation_5_layer_call_and_return_conditional_losses, activation_5_layer_call_fn, activation_5_layer_call_fn, activation_5_layer_call_and_return_conditional_losses, activation_5_layer_call_and_return_conditional_losses while saving (showing 5 of 5). These functions will not be directly callable after loading.\n"
     ]
    },
    {
     "name": "stdout",
     "output_type": "stream",
     "text": [
      "INFO:tensorflow:Assets written to: .\\models\\wind_direction_prediction2.ckpt\\assets\n"
     ]
    },
    {
     "name": "stderr",
     "output_type": "stream",
     "text": [
      "INFO:tensorflow:Assets written to: .\\models\\wind_direction_prediction2.ckpt\\assets\n"
     ]
    },
    {
     "name": "stdout",
     "output_type": "stream",
     "text": [
      "."
     ]
    },
    {
     "name": "stderr",
     "output_type": "stream",
     "text": [
      "WARNING:absl:Found untraced functions such as activation_5_layer_call_and_return_conditional_losses, activation_5_layer_call_fn, activation_5_layer_call_fn, activation_5_layer_call_and_return_conditional_losses, activation_5_layer_call_and_return_conditional_losses while saving (showing 5 of 5). These functions will not be directly callable after loading.\n"
     ]
    },
    {
     "name": "stdout",
     "output_type": "stream",
     "text": [
      "INFO:tensorflow:Assets written to: .\\models\\wind_direction_prediction2.ckpt\\assets\n"
     ]
    },
    {
     "name": "stderr",
     "output_type": "stream",
     "text": [
      "INFO:tensorflow:Assets written to: .\\models\\wind_direction_prediction2.ckpt\\assets\n"
     ]
    },
    {
     "name": "stdout",
     "output_type": "stream",
     "text": [
      "."
     ]
    },
    {
     "name": "stderr",
     "output_type": "stream",
     "text": [
      "WARNING:absl:Found untraced functions such as activation_5_layer_call_and_return_conditional_losses, activation_5_layer_call_fn, activation_5_layer_call_fn, activation_5_layer_call_and_return_conditional_losses, activation_5_layer_call_and_return_conditional_losses while saving (showing 5 of 5). These functions will not be directly callable after loading.\n"
     ]
    },
    {
     "name": "stdout",
     "output_type": "stream",
     "text": [
      "INFO:tensorflow:Assets written to: .\\models\\wind_direction_prediction2.ckpt\\assets\n"
     ]
    },
    {
     "name": "stderr",
     "output_type": "stream",
     "text": [
      "INFO:tensorflow:Assets written to: .\\models\\wind_direction_prediction2.ckpt\\assets\n"
     ]
    },
    {
     "name": "stdout",
     "output_type": "stream",
     "text": [
      "."
     ]
    },
    {
     "name": "stderr",
     "output_type": "stream",
     "text": [
      "WARNING:absl:Found untraced functions such as activation_5_layer_call_and_return_conditional_losses, activation_5_layer_call_fn, activation_5_layer_call_fn, activation_5_layer_call_and_return_conditional_losses, activation_5_layer_call_and_return_conditional_losses while saving (showing 5 of 5). These functions will not be directly callable after loading.\n"
     ]
    },
    {
     "name": "stdout",
     "output_type": "stream",
     "text": [
      "INFO:tensorflow:Assets written to: .\\models\\wind_direction_prediction2.ckpt\\assets\n"
     ]
    },
    {
     "name": "stderr",
     "output_type": "stream",
     "text": [
      "INFO:tensorflow:Assets written to: .\\models\\wind_direction_prediction2.ckpt\\assets\n"
     ]
    },
    {
     "name": "stdout",
     "output_type": "stream",
     "text": [
      "."
     ]
    },
    {
     "name": "stderr",
     "output_type": "stream",
     "text": [
      "WARNING:absl:Found untraced functions such as activation_5_layer_call_and_return_conditional_losses, activation_5_layer_call_fn, activation_5_layer_call_fn, activation_5_layer_call_and_return_conditional_losses, activation_5_layer_call_and_return_conditional_losses while saving (showing 5 of 5). These functions will not be directly callable after loading.\n"
     ]
    },
    {
     "name": "stdout",
     "output_type": "stream",
     "text": [
      "INFO:tensorflow:Assets written to: .\\models\\wind_direction_prediction2.ckpt\\assets\n"
     ]
    },
    {
     "name": "stderr",
     "output_type": "stream",
     "text": [
      "INFO:tensorflow:Assets written to: .\\models\\wind_direction_prediction2.ckpt\\assets\n"
     ]
    },
    {
     "name": "stdout",
     "output_type": "stream",
     "text": [
      "."
     ]
    },
    {
     "name": "stderr",
     "output_type": "stream",
     "text": [
      "WARNING:absl:Found untraced functions such as activation_5_layer_call_and_return_conditional_losses, activation_5_layer_call_fn, activation_5_layer_call_fn, activation_5_layer_call_and_return_conditional_losses, activation_5_layer_call_and_return_conditional_losses while saving (showing 5 of 5). These functions will not be directly callable after loading.\n"
     ]
    },
    {
     "name": "stdout",
     "output_type": "stream",
     "text": [
      "INFO:tensorflow:Assets written to: .\\models\\wind_direction_prediction2.ckpt\\assets\n"
     ]
    },
    {
     "name": "stderr",
     "output_type": "stream",
     "text": [
      "INFO:tensorflow:Assets written to: .\\models\\wind_direction_prediction2.ckpt\\assets\n"
     ]
    },
    {
     "name": "stdout",
     "output_type": "stream",
     "text": [
      "."
     ]
    },
    {
     "name": "stderr",
     "output_type": "stream",
     "text": [
      "WARNING:absl:Found untraced functions such as activation_5_layer_call_and_return_conditional_losses, activation_5_layer_call_fn, activation_5_layer_call_fn, activation_5_layer_call_and_return_conditional_losses, activation_5_layer_call_and_return_conditional_losses while saving (showing 5 of 5). These functions will not be directly callable after loading.\n"
     ]
    },
    {
     "name": "stdout",
     "output_type": "stream",
     "text": [
      "INFO:tensorflow:Assets written to: .\\models\\wind_direction_prediction2.ckpt\\assets\n"
     ]
    },
    {
     "name": "stderr",
     "output_type": "stream",
     "text": [
      "INFO:tensorflow:Assets written to: .\\models\\wind_direction_prediction2.ckpt\\assets\n"
     ]
    },
    {
     "name": "stdout",
     "output_type": "stream",
     "text": [
      "."
     ]
    },
    {
     "name": "stderr",
     "output_type": "stream",
     "text": [
      "WARNING:absl:Found untraced functions such as activation_5_layer_call_and_return_conditional_losses, activation_5_layer_call_fn, activation_5_layer_call_fn, activation_5_layer_call_and_return_conditional_losses, activation_5_layer_call_and_return_conditional_losses while saving (showing 5 of 5). These functions will not be directly callable after loading.\n"
     ]
    },
    {
     "name": "stdout",
     "output_type": "stream",
     "text": [
      "INFO:tensorflow:Assets written to: .\\models\\wind_direction_prediction2.ckpt\\assets\n"
     ]
    },
    {
     "name": "stderr",
     "output_type": "stream",
     "text": [
      "INFO:tensorflow:Assets written to: .\\models\\wind_direction_prediction2.ckpt\\assets\n"
     ]
    },
    {
     "name": "stdout",
     "output_type": "stream",
     "text": [
      "."
     ]
    },
    {
     "name": "stderr",
     "output_type": "stream",
     "text": [
      "WARNING:absl:Found untraced functions such as activation_5_layer_call_and_return_conditional_losses, activation_5_layer_call_fn, activation_5_layer_call_fn, activation_5_layer_call_and_return_conditional_losses, activation_5_layer_call_and_return_conditional_losses while saving (showing 5 of 5). These functions will not be directly callable after loading.\n"
     ]
    },
    {
     "name": "stdout",
     "output_type": "stream",
     "text": [
      "INFO:tensorflow:Assets written to: .\\models\\wind_direction_prediction2.ckpt\\assets\n"
     ]
    },
    {
     "name": "stderr",
     "output_type": "stream",
     "text": [
      "INFO:tensorflow:Assets written to: .\\models\\wind_direction_prediction2.ckpt\\assets\n"
     ]
    },
    {
     "name": "stdout",
     "output_type": "stream",
     "text": [
      "."
     ]
    },
    {
     "name": "stderr",
     "output_type": "stream",
     "text": [
      "WARNING:absl:Found untraced functions such as activation_5_layer_call_and_return_conditional_losses, activation_5_layer_call_fn, activation_5_layer_call_fn, activation_5_layer_call_and_return_conditional_losses, activation_5_layer_call_and_return_conditional_losses while saving (showing 5 of 5). These functions will not be directly callable after loading.\n"
     ]
    },
    {
     "name": "stdout",
     "output_type": "stream",
     "text": [
      "INFO:tensorflow:Assets written to: .\\models\\wind_direction_prediction2.ckpt\\assets\n"
     ]
    },
    {
     "name": "stderr",
     "output_type": "stream",
     "text": [
      "INFO:tensorflow:Assets written to: .\\models\\wind_direction_prediction2.ckpt\\assets\n"
     ]
    },
    {
     "name": "stdout",
     "output_type": "stream",
     "text": [
      "."
     ]
    },
    {
     "name": "stderr",
     "output_type": "stream",
     "text": [
      "WARNING:absl:Found untraced functions such as activation_5_layer_call_and_return_conditional_losses, activation_5_layer_call_fn, activation_5_layer_call_fn, activation_5_layer_call_and_return_conditional_losses, activation_5_layer_call_and_return_conditional_losses while saving (showing 5 of 5). These functions will not be directly callable after loading.\n"
     ]
    },
    {
     "name": "stdout",
     "output_type": "stream",
     "text": [
      "INFO:tensorflow:Assets written to: .\\models\\wind_direction_prediction2.ckpt\\assets\n"
     ]
    },
    {
     "name": "stderr",
     "output_type": "stream",
     "text": [
      "INFO:tensorflow:Assets written to: .\\models\\wind_direction_prediction2.ckpt\\assets\n"
     ]
    },
    {
     "name": "stdout",
     "output_type": "stream",
     "text": [
      "."
     ]
    },
    {
     "name": "stderr",
     "output_type": "stream",
     "text": [
      "WARNING:absl:Found untraced functions such as activation_5_layer_call_and_return_conditional_losses, activation_5_layer_call_fn, activation_5_layer_call_fn, activation_5_layer_call_and_return_conditional_losses, activation_5_layer_call_and_return_conditional_losses while saving (showing 5 of 5). These functions will not be directly callable after loading.\n"
     ]
    },
    {
     "name": "stdout",
     "output_type": "stream",
     "text": [
      "INFO:tensorflow:Assets written to: .\\models\\wind_direction_prediction2.ckpt\\assets\n"
     ]
    },
    {
     "name": "stderr",
     "output_type": "stream",
     "text": [
      "INFO:tensorflow:Assets written to: .\\models\\wind_direction_prediction2.ckpt\\assets\n"
     ]
    },
    {
     "name": "stdout",
     "output_type": "stream",
     "text": [
      "."
     ]
    },
    {
     "name": "stderr",
     "output_type": "stream",
     "text": [
      "WARNING:absl:Found untraced functions such as activation_5_layer_call_and_return_conditional_losses, activation_5_layer_call_fn, activation_5_layer_call_fn, activation_5_layer_call_and_return_conditional_losses, activation_5_layer_call_and_return_conditional_losses while saving (showing 5 of 5). These functions will not be directly callable after loading.\n"
     ]
    },
    {
     "name": "stdout",
     "output_type": "stream",
     "text": [
      "INFO:tensorflow:Assets written to: .\\models\\wind_direction_prediction2.ckpt\\assets\n"
     ]
    },
    {
     "name": "stderr",
     "output_type": "stream",
     "text": [
      "INFO:tensorflow:Assets written to: .\\models\\wind_direction_prediction2.ckpt\\assets\n"
     ]
    },
    {
     "name": "stdout",
     "output_type": "stream",
     "text": [
      "."
     ]
    },
    {
     "name": "stderr",
     "output_type": "stream",
     "text": [
      "WARNING:absl:Found untraced functions such as activation_5_layer_call_and_return_conditional_losses, activation_5_layer_call_fn, activation_5_layer_call_fn, activation_5_layer_call_and_return_conditional_losses, activation_5_layer_call_and_return_conditional_losses while saving (showing 5 of 5). These functions will not be directly callable after loading.\n"
     ]
    },
    {
     "name": "stdout",
     "output_type": "stream",
     "text": [
      "INFO:tensorflow:Assets written to: .\\models\\wind_direction_prediction2.ckpt\\assets\n"
     ]
    },
    {
     "name": "stderr",
     "output_type": "stream",
     "text": [
      "INFO:tensorflow:Assets written to: .\\models\\wind_direction_prediction2.ckpt\\assets\n"
     ]
    },
    {
     "name": "stdout",
     "output_type": "stream",
     "text": [
      "."
     ]
    },
    {
     "name": "stderr",
     "output_type": "stream",
     "text": [
      "WARNING:absl:Found untraced functions such as activation_5_layer_call_and_return_conditional_losses, activation_5_layer_call_fn, activation_5_layer_call_fn, activation_5_layer_call_and_return_conditional_losses, activation_5_layer_call_and_return_conditional_losses while saving (showing 5 of 5). These functions will not be directly callable after loading.\n"
     ]
    },
    {
     "name": "stdout",
     "output_type": "stream",
     "text": [
      "INFO:tensorflow:Assets written to: .\\models\\wind_direction_prediction2.ckpt\\assets\n"
     ]
    },
    {
     "name": "stderr",
     "output_type": "stream",
     "text": [
      "INFO:tensorflow:Assets written to: .\\models\\wind_direction_prediction2.ckpt\\assets\n"
     ]
    },
    {
     "name": "stdout",
     "output_type": "stream",
     "text": [
      "."
     ]
    },
    {
     "name": "stderr",
     "output_type": "stream",
     "text": [
      "WARNING:absl:Found untraced functions such as activation_5_layer_call_and_return_conditional_losses, activation_5_layer_call_fn, activation_5_layer_call_fn, activation_5_layer_call_and_return_conditional_losses, activation_5_layer_call_and_return_conditional_losses while saving (showing 5 of 5). These functions will not be directly callable after loading.\n"
     ]
    },
    {
     "name": "stdout",
     "output_type": "stream",
     "text": [
      "INFO:tensorflow:Assets written to: .\\models\\wind_direction_prediction2.ckpt\\assets\n"
     ]
    },
    {
     "name": "stderr",
     "output_type": "stream",
     "text": [
      "INFO:tensorflow:Assets written to: .\\models\\wind_direction_prediction2.ckpt\\assets\n"
     ]
    },
    {
     "name": "stdout",
     "output_type": "stream",
     "text": [
      "."
     ]
    },
    {
     "name": "stderr",
     "output_type": "stream",
     "text": [
      "WARNING:absl:Found untraced functions such as activation_5_layer_call_and_return_conditional_losses, activation_5_layer_call_fn, activation_5_layer_call_fn, activation_5_layer_call_and_return_conditional_losses, activation_5_layer_call_and_return_conditional_losses while saving (showing 5 of 5). These functions will not be directly callable after loading.\n"
     ]
    },
    {
     "name": "stdout",
     "output_type": "stream",
     "text": [
      "INFO:tensorflow:Assets written to: .\\models\\wind_direction_prediction2.ckpt\\assets\n"
     ]
    },
    {
     "name": "stderr",
     "output_type": "stream",
     "text": [
      "INFO:tensorflow:Assets written to: .\\models\\wind_direction_prediction2.ckpt\\assets\n"
     ]
    },
    {
     "name": "stdout",
     "output_type": "stream",
     "text": [
      "."
     ]
    },
    {
     "name": "stderr",
     "output_type": "stream",
     "text": [
      "WARNING:absl:Found untraced functions such as activation_5_layer_call_and_return_conditional_losses, activation_5_layer_call_fn, activation_5_layer_call_fn, activation_5_layer_call_and_return_conditional_losses, activation_5_layer_call_and_return_conditional_losses while saving (showing 5 of 5). These functions will not be directly callable after loading.\n"
     ]
    },
    {
     "name": "stdout",
     "output_type": "stream",
     "text": [
      "INFO:tensorflow:Assets written to: .\\models\\wind_direction_prediction2.ckpt\\assets\n"
     ]
    },
    {
     "name": "stderr",
     "output_type": "stream",
     "text": [
      "INFO:tensorflow:Assets written to: .\\models\\wind_direction_prediction2.ckpt\\assets\n"
     ]
    },
    {
     "name": "stdout",
     "output_type": "stream",
     "text": [
      "......."
     ]
    },
    {
     "name": "stderr",
     "output_type": "stream",
     "text": [
      "WARNING:absl:Found untraced functions such as activation_5_layer_call_and_return_conditional_losses, activation_5_layer_call_fn, activation_5_layer_call_fn, activation_5_layer_call_and_return_conditional_losses, activation_5_layer_call_and_return_conditional_losses while saving (showing 5 of 5). These functions will not be directly callable after loading.\n"
     ]
    },
    {
     "name": "stdout",
     "output_type": "stream",
     "text": [
      "INFO:tensorflow:Assets written to: .\\models\\wind_direction_prediction2.ckpt\\assets\n"
     ]
    },
    {
     "name": "stderr",
     "output_type": "stream",
     "text": [
      "INFO:tensorflow:Assets written to: .\\models\\wind_direction_prediction2.ckpt\\assets\n"
     ]
    },
    {
     "name": "stdout",
     "output_type": "stream",
     "text": [
      "."
     ]
    },
    {
     "name": "stderr",
     "output_type": "stream",
     "text": [
      "WARNING:absl:Found untraced functions such as activation_5_layer_call_and_return_conditional_losses, activation_5_layer_call_fn, activation_5_layer_call_fn, activation_5_layer_call_and_return_conditional_losses, activation_5_layer_call_and_return_conditional_losses while saving (showing 5 of 5). These functions will not be directly callable after loading.\n"
     ]
    },
    {
     "name": "stdout",
     "output_type": "stream",
     "text": [
      "INFO:tensorflow:Assets written to: .\\models\\wind_direction_prediction2.ckpt\\assets\n"
     ]
    },
    {
     "name": "stderr",
     "output_type": "stream",
     "text": [
      "INFO:tensorflow:Assets written to: .\\models\\wind_direction_prediction2.ckpt\\assets\n"
     ]
    },
    {
     "name": "stdout",
     "output_type": "stream",
     "text": [
      "."
     ]
    },
    {
     "name": "stderr",
     "output_type": "stream",
     "text": [
      "WARNING:absl:Found untraced functions such as activation_5_layer_call_and_return_conditional_losses, activation_5_layer_call_fn, activation_5_layer_call_fn, activation_5_layer_call_and_return_conditional_losses, activation_5_layer_call_and_return_conditional_losses while saving (showing 5 of 5). These functions will not be directly callable after loading.\n"
     ]
    },
    {
     "name": "stdout",
     "output_type": "stream",
     "text": [
      "INFO:tensorflow:Assets written to: .\\models\\wind_direction_prediction2.ckpt\\assets\n"
     ]
    },
    {
     "name": "stderr",
     "output_type": "stream",
     "text": [
      "INFO:tensorflow:Assets written to: .\\models\\wind_direction_prediction2.ckpt\\assets\n"
     ]
    },
    {
     "name": "stdout",
     "output_type": "stream",
     "text": [
      "."
     ]
    },
    {
     "name": "stderr",
     "output_type": "stream",
     "text": [
      "WARNING:absl:Found untraced functions such as activation_5_layer_call_and_return_conditional_losses, activation_5_layer_call_fn, activation_5_layer_call_fn, activation_5_layer_call_and_return_conditional_losses, activation_5_layer_call_and_return_conditional_losses while saving (showing 5 of 5). These functions will not be directly callable after loading.\n"
     ]
    },
    {
     "name": "stdout",
     "output_type": "stream",
     "text": [
      "INFO:tensorflow:Assets written to: .\\models\\wind_direction_prediction2.ckpt\\assets\n"
     ]
    },
    {
     "name": "stderr",
     "output_type": "stream",
     "text": [
      "INFO:tensorflow:Assets written to: .\\models\\wind_direction_prediction2.ckpt\\assets\n"
     ]
    },
    {
     "name": "stdout",
     "output_type": "stream",
     "text": [
      "..."
     ]
    },
    {
     "name": "stderr",
     "output_type": "stream",
     "text": [
      "WARNING:absl:Found untraced functions such as activation_5_layer_call_and_return_conditional_losses, activation_5_layer_call_fn, activation_5_layer_call_fn, activation_5_layer_call_and_return_conditional_losses, activation_5_layer_call_and_return_conditional_losses while saving (showing 5 of 5). These functions will not be directly callable after loading.\n"
     ]
    },
    {
     "name": "stdout",
     "output_type": "stream",
     "text": [
      "INFO:tensorflow:Assets written to: .\\models\\wind_direction_prediction2.ckpt\\assets\n"
     ]
    },
    {
     "name": "stderr",
     "output_type": "stream",
     "text": [
      "INFO:tensorflow:Assets written to: .\\models\\wind_direction_prediction2.ckpt\\assets\n"
     ]
    },
    {
     "name": "stdout",
     "output_type": "stream",
     "text": [
      "."
     ]
    },
    {
     "name": "stderr",
     "output_type": "stream",
     "text": [
      "WARNING:absl:Found untraced functions such as activation_5_layer_call_and_return_conditional_losses, activation_5_layer_call_fn, activation_5_layer_call_fn, activation_5_layer_call_and_return_conditional_losses, activation_5_layer_call_and_return_conditional_losses while saving (showing 5 of 5). These functions will not be directly callable after loading.\n"
     ]
    },
    {
     "name": "stdout",
     "output_type": "stream",
     "text": [
      "INFO:tensorflow:Assets written to: .\\models\\wind_direction_prediction2.ckpt\\assets\n"
     ]
    },
    {
     "name": "stderr",
     "output_type": "stream",
     "text": [
      "INFO:tensorflow:Assets written to: .\\models\\wind_direction_prediction2.ckpt\\assets\n"
     ]
    },
    {
     "name": "stdout",
     "output_type": "stream",
     "text": [
      "."
     ]
    },
    {
     "name": "stderr",
     "output_type": "stream",
     "text": [
      "WARNING:absl:Found untraced functions such as activation_5_layer_call_and_return_conditional_losses, activation_5_layer_call_fn, activation_5_layer_call_fn, activation_5_layer_call_and_return_conditional_losses, activation_5_layer_call_and_return_conditional_losses while saving (showing 5 of 5). These functions will not be directly callable after loading.\n"
     ]
    },
    {
     "name": "stdout",
     "output_type": "stream",
     "text": [
      "INFO:tensorflow:Assets written to: .\\models\\wind_direction_prediction2.ckpt\\assets\n"
     ]
    },
    {
     "name": "stderr",
     "output_type": "stream",
     "text": [
      "INFO:tensorflow:Assets written to: .\\models\\wind_direction_prediction2.ckpt\\assets\n"
     ]
    },
    {
     "name": "stdout",
     "output_type": "stream",
     "text": [
      "."
     ]
    },
    {
     "name": "stderr",
     "output_type": "stream",
     "text": [
      "WARNING:absl:Found untraced functions such as activation_5_layer_call_and_return_conditional_losses, activation_5_layer_call_fn, activation_5_layer_call_fn, activation_5_layer_call_and_return_conditional_losses, activation_5_layer_call_and_return_conditional_losses while saving (showing 5 of 5). These functions will not be directly callable after loading.\n"
     ]
    },
    {
     "name": "stdout",
     "output_type": "stream",
     "text": [
      "INFO:tensorflow:Assets written to: .\\models\\wind_direction_prediction2.ckpt\\assets\n"
     ]
    },
    {
     "name": "stderr",
     "output_type": "stream",
     "text": [
      "INFO:tensorflow:Assets written to: .\\models\\wind_direction_prediction2.ckpt\\assets\n"
     ]
    },
    {
     "name": "stdout",
     "output_type": "stream",
     "text": [
      "."
     ]
    },
    {
     "name": "stderr",
     "output_type": "stream",
     "text": [
      "WARNING:absl:Found untraced functions such as activation_5_layer_call_and_return_conditional_losses, activation_5_layer_call_fn, activation_5_layer_call_fn, activation_5_layer_call_and_return_conditional_losses, activation_5_layer_call_and_return_conditional_losses while saving (showing 5 of 5). These functions will not be directly callable after loading.\n"
     ]
    },
    {
     "name": "stdout",
     "output_type": "stream",
     "text": [
      "INFO:tensorflow:Assets written to: .\\models\\wind_direction_prediction2.ckpt\\assets\n"
     ]
    },
    {
     "name": "stderr",
     "output_type": "stream",
     "text": [
      "INFO:tensorflow:Assets written to: .\\models\\wind_direction_prediction2.ckpt\\assets\n"
     ]
    },
    {
     "name": "stdout",
     "output_type": "stream",
     "text": [
      ".."
     ]
    },
    {
     "name": "stderr",
     "output_type": "stream",
     "text": [
      "WARNING:absl:Found untraced functions such as activation_5_layer_call_and_return_conditional_losses, activation_5_layer_call_fn, activation_5_layer_call_fn, activation_5_layer_call_and_return_conditional_losses, activation_5_layer_call_and_return_conditional_losses while saving (showing 5 of 5). These functions will not be directly callable after loading.\n"
     ]
    },
    {
     "name": "stdout",
     "output_type": "stream",
     "text": [
      "INFO:tensorflow:Assets written to: .\\models\\wind_direction_prediction2.ckpt\\assets\n"
     ]
    },
    {
     "name": "stderr",
     "output_type": "stream",
     "text": [
      "INFO:tensorflow:Assets written to: .\\models\\wind_direction_prediction2.ckpt\\assets\n"
     ]
    },
    {
     "name": "stdout",
     "output_type": "stream",
     "text": [
      "."
     ]
    },
    {
     "name": "stderr",
     "output_type": "stream",
     "text": [
      "WARNING:absl:Found untraced functions such as activation_5_layer_call_and_return_conditional_losses, activation_5_layer_call_fn, activation_5_layer_call_fn, activation_5_layer_call_and_return_conditional_losses, activation_5_layer_call_and_return_conditional_losses while saving (showing 5 of 5). These functions will not be directly callable after loading.\n"
     ]
    },
    {
     "name": "stdout",
     "output_type": "stream",
     "text": [
      "INFO:tensorflow:Assets written to: .\\models\\wind_direction_prediction2.ckpt\\assets\n"
     ]
    },
    {
     "name": "stderr",
     "output_type": "stream",
     "text": [
      "INFO:tensorflow:Assets written to: .\\models\\wind_direction_prediction2.ckpt\\assets\n"
     ]
    },
    {
     "name": "stdout",
     "output_type": "stream",
     "text": [
      ".."
     ]
    },
    {
     "name": "stderr",
     "output_type": "stream",
     "text": [
      "WARNING:absl:Found untraced functions such as activation_5_layer_call_and_return_conditional_losses, activation_5_layer_call_fn, activation_5_layer_call_fn, activation_5_layer_call_and_return_conditional_losses, activation_5_layer_call_and_return_conditional_losses while saving (showing 5 of 5). These functions will not be directly callable after loading.\n"
     ]
    },
    {
     "name": "stdout",
     "output_type": "stream",
     "text": [
      "INFO:tensorflow:Assets written to: .\\models\\wind_direction_prediction2.ckpt\\assets\n"
     ]
    },
    {
     "name": "stderr",
     "output_type": "stream",
     "text": [
      "INFO:tensorflow:Assets written to: .\\models\\wind_direction_prediction2.ckpt\\assets\n"
     ]
    },
    {
     "name": "stdout",
     "output_type": "stream",
     "text": [
      "...."
     ]
    },
    {
     "name": "stderr",
     "output_type": "stream",
     "text": [
      "WARNING:absl:Found untraced functions such as activation_5_layer_call_and_return_conditional_losses, activation_5_layer_call_fn, activation_5_layer_call_fn, activation_5_layer_call_and_return_conditional_losses, activation_5_layer_call_and_return_conditional_losses while saving (showing 5 of 5). These functions will not be directly callable after loading.\n"
     ]
    },
    {
     "name": "stdout",
     "output_type": "stream",
     "text": [
      "INFO:tensorflow:Assets written to: .\\models\\wind_direction_prediction2.ckpt\\assets\n"
     ]
    },
    {
     "name": "stderr",
     "output_type": "stream",
     "text": [
      "INFO:tensorflow:Assets written to: .\\models\\wind_direction_prediction2.ckpt\\assets\n"
     ]
    },
    {
     "name": "stdout",
     "output_type": "stream",
     "text": [
      "\n",
      "Epoch: 100, loss:1.7425,  mae:1.0576,  mape:55.3619,  mse:1.7425,  val_loss:2.1092,  val_mae:1.1490,  val_mape:35.7087,  val_mse:2.1092,  \n",
      "........."
     ]
    },
    {
     "name": "stderr",
     "output_type": "stream",
     "text": [
      "WARNING:absl:Found untraced functions such as activation_5_layer_call_and_return_conditional_losses, activation_5_layer_call_fn, activation_5_layer_call_fn, activation_5_layer_call_and_return_conditional_losses, activation_5_layer_call_and_return_conditional_losses while saving (showing 5 of 5). These functions will not be directly callable after loading.\n"
     ]
    },
    {
     "name": "stdout",
     "output_type": "stream",
     "text": [
      "INFO:tensorflow:Assets written to: .\\models\\wind_direction_prediction2.ckpt\\assets\n"
     ]
    },
    {
     "name": "stderr",
     "output_type": "stream",
     "text": [
      "INFO:tensorflow:Assets written to: .\\models\\wind_direction_prediction2.ckpt\\assets\n"
     ]
    },
    {
     "name": "stdout",
     "output_type": "stream",
     "text": [
      "..."
     ]
    },
    {
     "name": "stderr",
     "output_type": "stream",
     "text": [
      "WARNING:absl:Found untraced functions such as activation_5_layer_call_and_return_conditional_losses, activation_5_layer_call_fn, activation_5_layer_call_fn, activation_5_layer_call_and_return_conditional_losses, activation_5_layer_call_and_return_conditional_losses while saving (showing 5 of 5). These functions will not be directly callable after loading.\n"
     ]
    },
    {
     "name": "stdout",
     "output_type": "stream",
     "text": [
      "INFO:tensorflow:Assets written to: .\\models\\wind_direction_prediction2.ckpt\\assets\n"
     ]
    },
    {
     "name": "stderr",
     "output_type": "stream",
     "text": [
      "INFO:tensorflow:Assets written to: .\\models\\wind_direction_prediction2.ckpt\\assets\n"
     ]
    },
    {
     "name": "stdout",
     "output_type": "stream",
     "text": [
      "."
     ]
    },
    {
     "name": "stderr",
     "output_type": "stream",
     "text": [
      "WARNING:absl:Found untraced functions such as activation_5_layer_call_and_return_conditional_losses, activation_5_layer_call_fn, activation_5_layer_call_fn, activation_5_layer_call_and_return_conditional_losses, activation_5_layer_call_and_return_conditional_losses while saving (showing 5 of 5). These functions will not be directly callable after loading.\n"
     ]
    },
    {
     "name": "stdout",
     "output_type": "stream",
     "text": [
      "INFO:tensorflow:Assets written to: .\\models\\wind_direction_prediction2.ckpt\\assets\n"
     ]
    },
    {
     "name": "stderr",
     "output_type": "stream",
     "text": [
      "INFO:tensorflow:Assets written to: .\\models\\wind_direction_prediction2.ckpt\\assets\n"
     ]
    },
    {
     "name": "stdout",
     "output_type": "stream",
     "text": [
      "...."
     ]
    },
    {
     "name": "stderr",
     "output_type": "stream",
     "text": [
      "WARNING:absl:Found untraced functions such as activation_5_layer_call_and_return_conditional_losses, activation_5_layer_call_fn, activation_5_layer_call_fn, activation_5_layer_call_and_return_conditional_losses, activation_5_layer_call_and_return_conditional_losses while saving (showing 5 of 5). These functions will not be directly callable after loading.\n"
     ]
    },
    {
     "name": "stdout",
     "output_type": "stream",
     "text": [
      "INFO:tensorflow:Assets written to: .\\models\\wind_direction_prediction2.ckpt\\assets\n"
     ]
    },
    {
     "name": "stderr",
     "output_type": "stream",
     "text": [
      "INFO:tensorflow:Assets written to: .\\models\\wind_direction_prediction2.ckpt\\assets\n"
     ]
    },
    {
     "name": "stdout",
     "output_type": "stream",
     "text": [
      "."
     ]
    },
    {
     "name": "stderr",
     "output_type": "stream",
     "text": [
      "WARNING:absl:Found untraced functions such as activation_5_layer_call_and_return_conditional_losses, activation_5_layer_call_fn, activation_5_layer_call_fn, activation_5_layer_call_and_return_conditional_losses, activation_5_layer_call_and_return_conditional_losses while saving (showing 5 of 5). These functions will not be directly callable after loading.\n"
     ]
    },
    {
     "name": "stdout",
     "output_type": "stream",
     "text": [
      "INFO:tensorflow:Assets written to: .\\models\\wind_direction_prediction2.ckpt\\assets\n"
     ]
    },
    {
     "name": "stderr",
     "output_type": "stream",
     "text": [
      "INFO:tensorflow:Assets written to: .\\models\\wind_direction_prediction2.ckpt\\assets\n"
     ]
    },
    {
     "name": "stdout",
     "output_type": "stream",
     "text": [
      ".."
     ]
    },
    {
     "name": "stderr",
     "output_type": "stream",
     "text": [
      "WARNING:absl:Found untraced functions such as activation_5_layer_call_and_return_conditional_losses, activation_5_layer_call_fn, activation_5_layer_call_fn, activation_5_layer_call_and_return_conditional_losses, activation_5_layer_call_and_return_conditional_losses while saving (showing 5 of 5). These functions will not be directly callable after loading.\n"
     ]
    },
    {
     "name": "stdout",
     "output_type": "stream",
     "text": [
      "INFO:tensorflow:Assets written to: .\\models\\wind_direction_prediction2.ckpt\\assets\n"
     ]
    },
    {
     "name": "stderr",
     "output_type": "stream",
     "text": [
      "INFO:tensorflow:Assets written to: .\\models\\wind_direction_prediction2.ckpt\\assets\n"
     ]
    },
    {
     "name": "stdout",
     "output_type": "stream",
     "text": [
      "..."
     ]
    },
    {
     "name": "stderr",
     "output_type": "stream",
     "text": [
      "WARNING:absl:Found untraced functions such as activation_5_layer_call_and_return_conditional_losses, activation_5_layer_call_fn, activation_5_layer_call_fn, activation_5_layer_call_and_return_conditional_losses, activation_5_layer_call_and_return_conditional_losses while saving (showing 5 of 5). These functions will not be directly callable after loading.\n"
     ]
    },
    {
     "name": "stdout",
     "output_type": "stream",
     "text": [
      "INFO:tensorflow:Assets written to: .\\models\\wind_direction_prediction2.ckpt\\assets\n"
     ]
    },
    {
     "name": "stderr",
     "output_type": "stream",
     "text": [
      "INFO:tensorflow:Assets written to: .\\models\\wind_direction_prediction2.ckpt\\assets\n"
     ]
    },
    {
     "name": "stdout",
     "output_type": "stream",
     "text": [
      "."
     ]
    },
    {
     "name": "stderr",
     "output_type": "stream",
     "text": [
      "WARNING:absl:Found untraced functions such as activation_5_layer_call_and_return_conditional_losses, activation_5_layer_call_fn, activation_5_layer_call_fn, activation_5_layer_call_and_return_conditional_losses, activation_5_layer_call_and_return_conditional_losses while saving (showing 5 of 5). These functions will not be directly callable after loading.\n"
     ]
    },
    {
     "name": "stdout",
     "output_type": "stream",
     "text": [
      "INFO:tensorflow:Assets written to: .\\models\\wind_direction_prediction2.ckpt\\assets\n"
     ]
    },
    {
     "name": "stderr",
     "output_type": "stream",
     "text": [
      "INFO:tensorflow:Assets written to: .\\models\\wind_direction_prediction2.ckpt\\assets\n"
     ]
    },
    {
     "name": "stdout",
     "output_type": "stream",
     "text": [
      "............."
     ]
    },
    {
     "name": "stderr",
     "output_type": "stream",
     "text": [
      "WARNING:absl:Found untraced functions such as activation_5_layer_call_and_return_conditional_losses, activation_5_layer_call_fn, activation_5_layer_call_fn, activation_5_layer_call_and_return_conditional_losses, activation_5_layer_call_and_return_conditional_losses while saving (showing 5 of 5). These functions will not be directly callable after loading.\n"
     ]
    },
    {
     "name": "stdout",
     "output_type": "stream",
     "text": [
      "INFO:tensorflow:Assets written to: .\\models\\wind_direction_prediction2.ckpt\\assets\n"
     ]
    },
    {
     "name": "stderr",
     "output_type": "stream",
     "text": [
      "INFO:tensorflow:Assets written to: .\\models\\wind_direction_prediction2.ckpt\\assets\n"
     ]
    },
    {
     "name": "stdout",
     "output_type": "stream",
     "text": [
      ".............."
     ]
    },
    {
     "name": "stderr",
     "output_type": "stream",
     "text": [
      "WARNING:absl:Found untraced functions such as activation_5_layer_call_and_return_conditional_losses, activation_5_layer_call_fn, activation_5_layer_call_fn, activation_5_layer_call_and_return_conditional_losses, activation_5_layer_call_and_return_conditional_losses while saving (showing 5 of 5). These functions will not be directly callable after loading.\n"
     ]
    },
    {
     "name": "stdout",
     "output_type": "stream",
     "text": [
      "INFO:tensorflow:Assets written to: .\\models\\wind_direction_prediction2.ckpt\\assets\n"
     ]
    },
    {
     "name": "stderr",
     "output_type": "stream",
     "text": [
      "INFO:tensorflow:Assets written to: .\\models\\wind_direction_prediction2.ckpt\\assets\n"
     ]
    },
    {
     "name": "stdout",
     "output_type": "stream",
     "text": [
      "..."
     ]
    },
    {
     "name": "stderr",
     "output_type": "stream",
     "text": [
      "WARNING:absl:Found untraced functions such as activation_5_layer_call_and_return_conditional_losses, activation_5_layer_call_fn, activation_5_layer_call_fn, activation_5_layer_call_and_return_conditional_losses, activation_5_layer_call_and_return_conditional_losses while saving (showing 5 of 5). These functions will not be directly callable after loading.\n"
     ]
    },
    {
     "name": "stdout",
     "output_type": "stream",
     "text": [
      "INFO:tensorflow:Assets written to: .\\models\\wind_direction_prediction2.ckpt\\assets\n"
     ]
    },
    {
     "name": "stderr",
     "output_type": "stream",
     "text": [
      "INFO:tensorflow:Assets written to: .\\models\\wind_direction_prediction2.ckpt\\assets\n"
     ]
    },
    {
     "name": "stdout",
     "output_type": "stream",
     "text": [
      "..............................................\n",
      "Epoch: 200, loss:1.9063,  mae:1.2432,  mape:28.2474,  mse:1.9063,  val_loss:1.9292,  val_mae:1.1021,  val_mape:35.7909,  val_mse:1.9292,  \n",
      "......"
     ]
    },
    {
     "name": "stderr",
     "output_type": "stream",
     "text": [
      "WARNING:absl:Found untraced functions such as activation_5_layer_call_and_return_conditional_losses, activation_5_layer_call_fn, activation_5_layer_call_fn, activation_5_layer_call_and_return_conditional_losses, activation_5_layer_call_and_return_conditional_losses while saving (showing 5 of 5). These functions will not be directly callable after loading.\n"
     ]
    },
    {
     "name": "stdout",
     "output_type": "stream",
     "text": [
      "INFO:tensorflow:Assets written to: .\\models\\wind_direction_prediction2.ckpt\\assets\n"
     ]
    },
    {
     "name": "stderr",
     "output_type": "stream",
     "text": [
      "INFO:tensorflow:Assets written to: .\\models\\wind_direction_prediction2.ckpt\\assets\n"
     ]
    },
    {
     "name": "stdout",
     "output_type": "stream",
     "text": [
      "."
     ]
    },
    {
     "name": "stderr",
     "output_type": "stream",
     "text": [
      "WARNING:absl:Found untraced functions such as activation_5_layer_call_and_return_conditional_losses, activation_5_layer_call_fn, activation_5_layer_call_fn, activation_5_layer_call_and_return_conditional_losses, activation_5_layer_call_and_return_conditional_losses while saving (showing 5 of 5). These functions will not be directly callable after loading.\n"
     ]
    },
    {
     "name": "stdout",
     "output_type": "stream",
     "text": [
      "INFO:tensorflow:Assets written to: .\\models\\wind_direction_prediction2.ckpt\\assets\n"
     ]
    },
    {
     "name": "stderr",
     "output_type": "stream",
     "text": [
      "INFO:tensorflow:Assets written to: .\\models\\wind_direction_prediction2.ckpt\\assets\n"
     ]
    },
    {
     "name": "stdout",
     "output_type": "stream",
     "text": [
      ".."
     ]
    },
    {
     "name": "stderr",
     "output_type": "stream",
     "text": [
      "WARNING:absl:Found untraced functions such as activation_5_layer_call_and_return_conditional_losses, activation_5_layer_call_fn, activation_5_layer_call_fn, activation_5_layer_call_and_return_conditional_losses, activation_5_layer_call_and_return_conditional_losses while saving (showing 5 of 5). These functions will not be directly callable after loading.\n"
     ]
    },
    {
     "name": "stdout",
     "output_type": "stream",
     "text": [
      "INFO:tensorflow:Assets written to: .\\models\\wind_direction_prediction2.ckpt\\assets\n"
     ]
    },
    {
     "name": "stderr",
     "output_type": "stream",
     "text": [
      "INFO:tensorflow:Assets written to: .\\models\\wind_direction_prediction2.ckpt\\assets\n"
     ]
    },
    {
     "name": "stdout",
     "output_type": "stream",
     "text": [
      "."
     ]
    },
    {
     "name": "stderr",
     "output_type": "stream",
     "text": [
      "WARNING:absl:Found untraced functions such as activation_5_layer_call_and_return_conditional_losses, activation_5_layer_call_fn, activation_5_layer_call_fn, activation_5_layer_call_and_return_conditional_losses, activation_5_layer_call_and_return_conditional_losses while saving (showing 5 of 5). These functions will not be directly callable after loading.\n"
     ]
    },
    {
     "name": "stdout",
     "output_type": "stream",
     "text": [
      "INFO:tensorflow:Assets written to: .\\models\\wind_direction_prediction2.ckpt\\assets\n"
     ]
    },
    {
     "name": "stderr",
     "output_type": "stream",
     "text": [
      "INFO:tensorflow:Assets written to: .\\models\\wind_direction_prediction2.ckpt\\assets\n"
     ]
    },
    {
     "name": "stdout",
     "output_type": "stream",
     "text": [
      "."
     ]
    },
    {
     "name": "stderr",
     "output_type": "stream",
     "text": [
      "WARNING:absl:Found untraced functions such as activation_5_layer_call_and_return_conditional_losses, activation_5_layer_call_fn, activation_5_layer_call_fn, activation_5_layer_call_and_return_conditional_losses, activation_5_layer_call_and_return_conditional_losses while saving (showing 5 of 5). These functions will not be directly callable after loading.\n"
     ]
    },
    {
     "name": "stdout",
     "output_type": "stream",
     "text": [
      "INFO:tensorflow:Assets written to: .\\models\\wind_direction_prediction2.ckpt\\assets\n"
     ]
    },
    {
     "name": "stderr",
     "output_type": "stream",
     "text": [
      "INFO:tensorflow:Assets written to: .\\models\\wind_direction_prediction2.ckpt\\assets\n"
     ]
    },
    {
     "name": "stdout",
     "output_type": "stream",
     "text": [
      "....."
     ]
    },
    {
     "name": "stderr",
     "output_type": "stream",
     "text": [
      "WARNING:absl:Found untraced functions such as activation_5_layer_call_and_return_conditional_losses, activation_5_layer_call_fn, activation_5_layer_call_fn, activation_5_layer_call_and_return_conditional_losses, activation_5_layer_call_and_return_conditional_losses while saving (showing 5 of 5). These functions will not be directly callable after loading.\n"
     ]
    },
    {
     "name": "stdout",
     "output_type": "stream",
     "text": [
      "INFO:tensorflow:Assets written to: .\\models\\wind_direction_prediction2.ckpt\\assets\n"
     ]
    },
    {
     "name": "stderr",
     "output_type": "stream",
     "text": [
      "INFO:tensorflow:Assets written to: .\\models\\wind_direction_prediction2.ckpt\\assets\n"
     ]
    },
    {
     "name": "stdout",
     "output_type": "stream",
     "text": [
      "........................................."
     ]
    },
    {
     "name": "stderr",
     "output_type": "stream",
     "text": [
      "WARNING:absl:Found untraced functions such as activation_5_layer_call_and_return_conditional_losses, activation_5_layer_call_fn, activation_5_layer_call_fn, activation_5_layer_call_and_return_conditional_losses, activation_5_layer_call_and_return_conditional_losses while saving (showing 5 of 5). These functions will not be directly callable after loading.\n"
     ]
    },
    {
     "name": "stdout",
     "output_type": "stream",
     "text": [
      "INFO:tensorflow:Assets written to: .\\models\\wind_direction_prediction2.ckpt\\assets\n"
     ]
    },
    {
     "name": "stderr",
     "output_type": "stream",
     "text": [
      "INFO:tensorflow:Assets written to: .\\models\\wind_direction_prediction2.ckpt\\assets\n"
     ]
    },
    {
     "name": "stdout",
     "output_type": "stream",
     "text": [
      "."
     ]
    },
    {
     "name": "stderr",
     "output_type": "stream",
     "text": [
      "WARNING:absl:Found untraced functions such as activation_5_layer_call_and_return_conditional_losses, activation_5_layer_call_fn, activation_5_layer_call_fn, activation_5_layer_call_and_return_conditional_losses, activation_5_layer_call_and_return_conditional_losses while saving (showing 5 of 5). These functions will not be directly callable after loading.\n"
     ]
    },
    {
     "name": "stdout",
     "output_type": "stream",
     "text": [
      "INFO:tensorflow:Assets written to: .\\models\\wind_direction_prediction2.ckpt\\assets\n"
     ]
    },
    {
     "name": "stderr",
     "output_type": "stream",
     "text": [
      "INFO:tensorflow:Assets written to: .\\models\\wind_direction_prediction2.ckpt\\assets\n"
     ]
    },
    {
     "name": "stdout",
     "output_type": "stream",
     "text": [
      "."
     ]
    },
    {
     "name": "stderr",
     "output_type": "stream",
     "text": [
      "WARNING:absl:Found untraced functions such as activation_5_layer_call_and_return_conditional_losses, activation_5_layer_call_fn, activation_5_layer_call_fn, activation_5_layer_call_and_return_conditional_losses, activation_5_layer_call_and_return_conditional_losses while saving (showing 5 of 5). These functions will not be directly callable after loading.\n"
     ]
    },
    {
     "name": "stdout",
     "output_type": "stream",
     "text": [
      "INFO:tensorflow:Assets written to: .\\models\\wind_direction_prediction2.ckpt\\assets\n"
     ]
    },
    {
     "name": "stderr",
     "output_type": "stream",
     "text": [
      "INFO:tensorflow:Assets written to: .\\models\\wind_direction_prediction2.ckpt\\assets\n"
     ]
    },
    {
     "name": "stdout",
     "output_type": "stream",
     "text": [
      ".........................................\n",
      "Epoch: 300, loss:3.1118,  mae:1.2516,  mape:30.7540,  mse:3.1118,  val_loss:1.7033,  val_mae:1.0346,  val_mape:35.4842,  val_mse:1.7033,  \n",
      "....................................................................................................\n",
      "Epoch: 400, loss:2.6692,  mae:1.2675,  mape:34.5328,  mse:2.6692,  val_loss:1.7563,  val_mae:1.0390,  val_mape:34.9180,  val_mse:1.7563,  \n",
      ".............................................................................."
     ]
    },
    {
     "name": "stderr",
     "output_type": "stream",
     "text": [
      "WARNING:absl:Found untraced functions such as activation_5_layer_call_and_return_conditional_losses, activation_5_layer_call_fn, activation_5_layer_call_fn, activation_5_layer_call_and_return_conditional_losses, activation_5_layer_call_and_return_conditional_losses while saving (showing 5 of 5). These functions will not be directly callable after loading.\n"
     ]
    },
    {
     "name": "stdout",
     "output_type": "stream",
     "text": [
      "INFO:tensorflow:Assets written to: .\\models\\wind_direction_prediction2.ckpt\\assets\n"
     ]
    },
    {
     "name": "stderr",
     "output_type": "stream",
     "text": [
      "INFO:tensorflow:Assets written to: .\\models\\wind_direction_prediction2.ckpt\\assets\n"
     ]
    },
    {
     "name": "stdout",
     "output_type": "stream",
     "text": [
      "....."
     ]
    },
    {
     "name": "stderr",
     "output_type": "stream",
     "text": [
      "WARNING:absl:Found untraced functions such as activation_5_layer_call_and_return_conditional_losses, activation_5_layer_call_fn, activation_5_layer_call_fn, activation_5_layer_call_and_return_conditional_losses, activation_5_layer_call_and_return_conditional_losses while saving (showing 5 of 5). These functions will not be directly callable after loading.\n"
     ]
    },
    {
     "name": "stdout",
     "output_type": "stream",
     "text": [
      "INFO:tensorflow:Assets written to: .\\models\\wind_direction_prediction2.ckpt\\assets\n"
     ]
    },
    {
     "name": "stderr",
     "output_type": "stream",
     "text": [
      "INFO:tensorflow:Assets written to: .\\models\\wind_direction_prediction2.ckpt\\assets\n"
     ]
    },
    {
     "name": "stdout",
     "output_type": "stream",
     "text": [
      ".................Wall time: 3min 15s\n"
     ]
    }
   ],
   "source": [
    "%%time\n",
    "\n",
    "EPOCHS = 1000\n",
    "batch_size = 6\n",
    "\n",
    "model2 = model2_multilayer_perceptron_with_one_hidden_layer()\n",
    "print('Here is a summary of this model: ')\n",
    "model2.summary()\n",
    "\n",
    "with tf.device('/CPU:0'):\n",
    "    history = model2.fit(\n",
    "        normed_train_data,\n",
    "        train_labels,\n",
    "        batch_size = batch_size,\n",
    "        epochs=EPOCHS,\n",
    "        verbose=0,\n",
    "        shuffle=True,\n",
    "        steps_per_epoch= 1,\n",
    "        validation_data = (normed_valid_dataset, valid_labels),\n",
    "        callbacks=[tfdocs.modeling.EpochDots(), ckpt_callback],\n",
    "    )\n"
   ]
  },
  {
   "cell_type": "code",
   "execution_count": 52,
   "id": "607358d9",
   "metadata": {},
   "outputs": [
    {
     "name": "stdout",
     "output_type": "stream",
     "text": [
      "Summary of the results after each epoch: \n"
     ]
    },
    {
     "data": {
      "text/html": [
       "<div>\n",
       "<style scoped>\n",
       "    .dataframe tbody tr th:only-of-type {\n",
       "        vertical-align: middle;\n",
       "    }\n",
       "\n",
       "    .dataframe tbody tr th {\n",
       "        vertical-align: top;\n",
       "    }\n",
       "\n",
       "    .dataframe thead th {\n",
       "        text-align: right;\n",
       "    }\n",
       "</style>\n",
       "<table border=\"1\" class=\"dataframe\">\n",
       "  <thead>\n",
       "    <tr style=\"text-align: right;\">\n",
       "      <th></th>\n",
       "      <th>loss</th>\n",
       "      <th>mae</th>\n",
       "      <th>mse</th>\n",
       "      <th>mape</th>\n",
       "      <th>val_loss</th>\n",
       "      <th>val_mae</th>\n",
       "      <th>val_mse</th>\n",
       "      <th>val_mape</th>\n",
       "      <th>epoch</th>\n",
       "    </tr>\n",
       "  </thead>\n",
       "  <tbody>\n",
       "    <tr>\n",
       "      <th>495</th>\n",
       "      <td>4.266711</td>\n",
       "      <td>1.744023</td>\n",
       "      <td>4.266711</td>\n",
       "      <td>50.338978</td>\n",
       "      <td>1.702330</td>\n",
       "      <td>1.016457</td>\n",
       "      <td>1.702330</td>\n",
       "      <td>34.633694</td>\n",
       "      <td>495</td>\n",
       "    </tr>\n",
       "    <tr>\n",
       "      <th>496</th>\n",
       "      <td>5.973103</td>\n",
       "      <td>2.340553</td>\n",
       "      <td>5.973103</td>\n",
       "      <td>91.765747</td>\n",
       "      <td>1.688825</td>\n",
       "      <td>1.012687</td>\n",
       "      <td>1.688825</td>\n",
       "      <td>34.657879</td>\n",
       "      <td>496</td>\n",
       "    </tr>\n",
       "    <tr>\n",
       "      <th>497</th>\n",
       "      <td>2.132337</td>\n",
       "      <td>1.392833</td>\n",
       "      <td>2.132337</td>\n",
       "      <td>47.605366</td>\n",
       "      <td>1.756118</td>\n",
       "      <td>1.030477</td>\n",
       "      <td>1.756118</td>\n",
       "      <td>34.567459</td>\n",
       "      <td>497</td>\n",
       "    </tr>\n",
       "    <tr>\n",
       "      <th>498</th>\n",
       "      <td>2.190859</td>\n",
       "      <td>1.337539</td>\n",
       "      <td>2.190859</td>\n",
       "      <td>39.740551</td>\n",
       "      <td>1.785356</td>\n",
       "      <td>1.038425</td>\n",
       "      <td>1.785356</td>\n",
       "      <td>34.570107</td>\n",
       "      <td>498</td>\n",
       "    </tr>\n",
       "    <tr>\n",
       "      <th>499</th>\n",
       "      <td>1.333326</td>\n",
       "      <td>0.906390</td>\n",
       "      <td>1.333326</td>\n",
       "      <td>41.094009</td>\n",
       "      <td>1.814775</td>\n",
       "      <td>1.045915</td>\n",
       "      <td>1.814775</td>\n",
       "      <td>34.560432</td>\n",
       "      <td>499</td>\n",
       "    </tr>\n",
       "  </tbody>\n",
       "</table>\n",
       "</div>"
      ],
      "text/plain": [
       "         loss       mae       mse       mape  val_loss   val_mae   val_mse  \\\n",
       "495  4.266711  1.744023  4.266711  50.338978  1.702330  1.016457  1.702330   \n",
       "496  5.973103  2.340553  5.973103  91.765747  1.688825  1.012687  1.688825   \n",
       "497  2.132337  1.392833  2.132337  47.605366  1.756118  1.030477  1.756118   \n",
       "498  2.190859  1.337539  2.190859  39.740551  1.785356  1.038425  1.785356   \n",
       "499  1.333326  0.906390  1.333326  41.094009  1.814775  1.045915  1.814775   \n",
       "\n",
       "      val_mape  epoch  \n",
       "495  34.633694    495  \n",
       "496  34.657879    496  \n",
       "497  34.567459    497  \n",
       "498  34.570107    498  \n",
       "499  34.560432    499  "
      ]
     },
     "execution_count": 52,
     "metadata": {},
     "output_type": "execute_result"
    }
   ],
   "source": [
    "print('Summary of the results after each epoch: ')\n",
    "hist = pd.DataFrame(history.history)\n",
    "hist['epoch'] = history.epoch\n",
    "hist.tail()"
   ]
  },
  {
   "cell_type": "code",
   "execution_count": 53,
   "id": "d2b7b4bf",
   "metadata": {},
   "outputs": [],
   "source": [
    "# Test the model after training\n",
    "example_result_3 = model2.predict(normed_test_data)"
   ]
  },
  {
   "cell_type": "markdown",
   "id": "79c80ab9",
   "metadata": {},
   "source": [
    "## Compare the predicted values with the actual values"
   ]
  },
  {
   "cell_type": "code",
   "execution_count": 54,
   "id": "1f6a10a5",
   "metadata": {},
   "outputs": [
    {
     "name": "stdout",
     "output_type": "stream",
     "text": [
      "Predicted Values\n",
      "[[2.699215 ]\n",
      " [2.9557424]\n",
      " [3.330913 ]\n",
      " [3.254585 ]\n",
      " [2.2038121]\n",
      " [2.9482067]\n",
      " [3.302221 ]\n",
      " [3.1195261]\n",
      " [2.992274 ]\n",
      " [2.719418 ]]\n",
      "\n",
      "Actual Values\n",
      "2.0\n",
      "2.0\n",
      "2.0\n",
      "2.0\n",
      "1.8\n",
      "4.0\n",
      "4.0\n",
      "5.0\n",
      "5.0\n",
      "1.4\n"
     ]
    }
   ],
   "source": [
    "print('Predicted Values')\n",
    "print(example_result_3[:10])\n",
    "print()\n",
    "print('Actual Values')\n",
    "print(test_labels[:10].to_string(index=False))"
   ]
  },
  {
   "cell_type": "code",
   "execution_count": 55,
   "id": "0bd009bb",
   "metadata": {},
   "outputs": [
    {
     "name": "stdout",
     "output_type": "stream",
     "text": [
      "Summary of the results after each epoch: \n"
     ]
    },
    {
     "data": {
      "text/html": [
       "<div>\n",
       "<style scoped>\n",
       "    .dataframe tbody tr th:only-of-type {\n",
       "        vertical-align: middle;\n",
       "    }\n",
       "\n",
       "    .dataframe tbody tr th {\n",
       "        vertical-align: top;\n",
       "    }\n",
       "\n",
       "    .dataframe thead th {\n",
       "        text-align: right;\n",
       "    }\n",
       "</style>\n",
       "<table border=\"1\" class=\"dataframe\">\n",
       "  <thead>\n",
       "    <tr style=\"text-align: right;\">\n",
       "      <th></th>\n",
       "      <th>loss</th>\n",
       "      <th>mae</th>\n",
       "      <th>mse</th>\n",
       "      <th>mape</th>\n",
       "      <th>val_loss</th>\n",
       "      <th>val_mae</th>\n",
       "      <th>val_mse</th>\n",
       "      <th>val_mape</th>\n",
       "      <th>epoch</th>\n",
       "    </tr>\n",
       "  </thead>\n",
       "  <tbody>\n",
       "    <tr>\n",
       "      <th>495</th>\n",
       "      <td>4.266711</td>\n",
       "      <td>1.744023</td>\n",
       "      <td>4.266711</td>\n",
       "      <td>50.338978</td>\n",
       "      <td>1.702330</td>\n",
       "      <td>1.016457</td>\n",
       "      <td>1.702330</td>\n",
       "      <td>34.633694</td>\n",
       "      <td>495</td>\n",
       "    </tr>\n",
       "    <tr>\n",
       "      <th>496</th>\n",
       "      <td>5.973103</td>\n",
       "      <td>2.340553</td>\n",
       "      <td>5.973103</td>\n",
       "      <td>91.765747</td>\n",
       "      <td>1.688825</td>\n",
       "      <td>1.012687</td>\n",
       "      <td>1.688825</td>\n",
       "      <td>34.657879</td>\n",
       "      <td>496</td>\n",
       "    </tr>\n",
       "    <tr>\n",
       "      <th>497</th>\n",
       "      <td>2.132337</td>\n",
       "      <td>1.392833</td>\n",
       "      <td>2.132337</td>\n",
       "      <td>47.605366</td>\n",
       "      <td>1.756118</td>\n",
       "      <td>1.030477</td>\n",
       "      <td>1.756118</td>\n",
       "      <td>34.567459</td>\n",
       "      <td>497</td>\n",
       "    </tr>\n",
       "    <tr>\n",
       "      <th>498</th>\n",
       "      <td>2.190859</td>\n",
       "      <td>1.337539</td>\n",
       "      <td>2.190859</td>\n",
       "      <td>39.740551</td>\n",
       "      <td>1.785356</td>\n",
       "      <td>1.038425</td>\n",
       "      <td>1.785356</td>\n",
       "      <td>34.570107</td>\n",
       "      <td>498</td>\n",
       "    </tr>\n",
       "    <tr>\n",
       "      <th>499</th>\n",
       "      <td>1.333326</td>\n",
       "      <td>0.906390</td>\n",
       "      <td>1.333326</td>\n",
       "      <td>41.094009</td>\n",
       "      <td>1.814775</td>\n",
       "      <td>1.045915</td>\n",
       "      <td>1.814775</td>\n",
       "      <td>34.560432</td>\n",
       "      <td>499</td>\n",
       "    </tr>\n",
       "  </tbody>\n",
       "</table>\n",
       "</div>"
      ],
      "text/plain": [
       "         loss       mae       mse       mape  val_loss   val_mae   val_mse  \\\n",
       "495  4.266711  1.744023  4.266711  50.338978  1.702330  1.016457  1.702330   \n",
       "496  5.973103  2.340553  5.973103  91.765747  1.688825  1.012687  1.688825   \n",
       "497  2.132337  1.392833  2.132337  47.605366  1.756118  1.030477  1.756118   \n",
       "498  2.190859  1.337539  2.190859  39.740551  1.785356  1.038425  1.785356   \n",
       "499  1.333326  0.906390  1.333326  41.094009  1.814775  1.045915  1.814775   \n",
       "\n",
       "      val_mape  epoch  \n",
       "495  34.633694    495  \n",
       "496  34.657879    496  \n",
       "497  34.567459    497  \n",
       "498  34.570107    498  \n",
       "499  34.560432    499  "
      ]
     },
     "execution_count": 55,
     "metadata": {},
     "output_type": "execute_result"
    }
   ],
   "source": [
    "print('Summary of the results after each epoch: ')\n",
    "hist = pd.DataFrame(history.history)\n",
    "hist['epoch'] = history.epoch\n",
    "hist.tail()"
   ]
  },
  {
   "cell_type": "markdown",
   "id": "067242de",
   "metadata": {},
   "source": [
    "## See how the training went by plotting the loss/mse across epochs"
   ]
  },
  {
   "cell_type": "code",
   "execution_count": 56,
   "id": "a54a2743",
   "metadata": {},
   "outputs": [
    {
     "data": {
      "text/plain": [
       "Text(0, 0.5, 'MAE [wind-direction]')"
      ]
     },
     "execution_count": 56,
     "metadata": {},
     "output_type": "execute_result"
    },
    {
     "data": {
      "image/png": "[encoded data removed]",
      "text/plain": [
       "<Figure size 432x288 with 1 Axes>"
      ]
     },
     "metadata": {
      "needs_background": "light"
     },
     "output_type": "display_data"
    }
   ],
   "source": [
    "plotter = tfdocs.plots.HistoryPlotter(smoothing_std=2)\n",
    "\n",
    "plotter.plot({'Basic': history}, metric = 'mae')\n",
    "plt.ylim([0,5])\n",
    "plt.ylabel('MAE [wind-direction]')"
   ]
  },
  {
   "cell_type": "code",
   "execution_count": 57,
   "id": "e1b3bd07",
   "metadata": {},
   "outputs": [
    {
     "data": {
      "text/plain": [
       "Text(0, 0.5, 'MSE [wind-direction]')"
      ]
     },
     "execution_count": 57,
     "metadata": {},
     "output_type": "execute_result"
    },
    {
     "data": {
      "image/png": "[encoded data removed]",
      "text/plain": [
       "<Figure size 432x288 with 1 Axes>"
      ]
     },
     "metadata": {
      "needs_background": "light"
     },
     "output_type": "display_data"
    }
   ],
   "source": [
    "plotter.plot({'Basic': history}, metric = 'mse')\n",
    "plt.ylim([0,5])\n",
    "plt.ylabel('MSE [wind-direction]')"
   ]
  },
  {
   "cell_type": "code",
   "execution_count": 58,
   "id": "707da959",
   "metadata": {},
   "outputs": [
    {
     "name": "stdout",
     "output_type": "stream",
     "text": [
      "Error Rate on Train Split: \n",
      "6/6 - 0s - loss: 2.3921 - mae: 1.1237 - mse: 2.3921 - mape: 32.6307\n",
      "Train set Mean Abs Error :  1.12\n",
      "Train set Mean Square Error :  2.39\n"
     ]
    }
   ],
   "source": [
    "print('Error Rate on Train Split: ')\n",
    "loss, mae, mse, mape = model2.evaluate(normed_train_data, train_labels, verbose=2)\n",
    "\n",
    "print('Train set Mean Abs Error : {:5.2f}'.format(mae))\n",
    "print('Train set Mean Square Error : {:5.2f}'.format(mse))"
   ]
  },
  {
   "cell_type": "code",
   "execution_count": 59,
   "id": "e1a2efb7",
   "metadata": {},
   "outputs": [
    {
     "name": "stdout",
     "output_type": "stream",
     "text": [
      "Error Rate on Evaluation  Split: \n",
      "2/2 - 0s - loss: 1.8148 - mae: 1.0459 - mse: 1.8148 - mape: 34.5604\n",
      "Validation set Mean Abs Error :  1.05\n",
      "Validation set Mean Square Error :  1.81\n"
     ]
    }
   ],
   "source": [
    "print('Error Rate on Evaluation  Split: ')\n",
    "loss, mae, mse, mape = model2.evaluate(normed_valid_dataset, valid_labels, verbose=2)\n",
    "\n",
    "print('Validation set Mean Abs Error : {:5.2f}'.format(mae))\n",
    "print('Validation set Mean Square Error : {:5.2f}'.format(mse))"
   ]
  },
  {
   "cell_type": "code",
   "execution_count": 60,
   "id": "61494ba9",
   "metadata": {},
   "outputs": [
    {
     "name": "stdout",
     "output_type": "stream",
     "text": [
      "Error Rate on Test  Split: \n",
      "2/2 - 0s - loss: 2.3137 - mae: 1.2278 - mse: 2.3137 - mape: 50244892.0000\n",
      "Testing set Mean Abs Error :  1.23\n",
      "Testing set Mean Square Error :  2.31\n"
     ]
    }
   ],
   "source": [
    "print('Error Rate on Test  Split: ')\n",
    "loss, mae, mse, mape = model2.evaluate(normed_test_data, test_labels, verbose=2)\n",
    "\n",
    "print('Testing set Mean Abs Error : {:5.2f}'.format(mae))\n",
    "print('Testing set Mean Square Error : {:5.2f}'.format(mse))"
   ]
  },
  {
   "cell_type": "code",
   "execution_count": 61,
   "id": "29352c0b",
   "metadata": {},
   "outputs": [
    {
     "data": {
      "image/png": "[encoded data removed]",
      "text/plain": [
       "<Figure size 432x288 with 1 Axes>"
      ]
     },
     "metadata": {
      "needs_background": "light"
     },
     "output_type": "display_data"
    }
   ],
   "source": [
    "train_predictions = model2.predict(normed_train_data).flatten()\n",
    "\n",
    "a = plt.axes(aspect='equal')\n",
    "plt.scatter(train_labels, train_predictions)\n",
    "plt.xlabel('True Values [wind-speed]')\n",
    "plt.ylabel('Predictions [wind-speed]')\n",
    "lims = [0, 5]\n",
    "plt.xlim(lims)\n",
    "plt.ylim(lims)\n",
    "_ = plt.plot(lims, lims)"
   ]
  },
  {
   "cell_type": "code",
   "execution_count": 62,
   "id": "44db45da",
   "metadata": {},
   "outputs": [
    {
     "data": {
      "image/png": "[encoded data removed]",
      "text/plain": [
       "<Figure size 432x288 with 1 Axes>"
      ]
     },
     "metadata": {
      "needs_background": "light"
     },
     "output_type": "display_data"
    }
   ],
   "source": [
    "test_predictions = model2.predict(normed_test_data).flatten()\n",
    "\n",
    "a = plt.axes(aspect='equal')\n",
    "plt.scatter(test_labels, test_predictions)\n",
    "plt.xlabel('True Values [wind-speed]')\n",
    "plt.ylabel('Predictions [wind-speed]')\n",
    "lims = [0, 5]\n",
    "plt.xlim(lims)\n",
    "plt.ylim(lims)\n",
    "_ = plt.plot(lims, lims)"
   ]
  },
  {
   "cell_type": "code",
   "execution_count": 63,
   "id": "6f5063bc",
   "metadata": {},
   "outputs": [
    {
     "data": {
      "image/png": "[encoded data removed]",
      "text/plain": [
       "<Figure size 432x288 with 1 Axes>"
      ]
     },
     "metadata": {
      "needs_background": "light"
     },
     "output_type": "display_data"
    }
   ],
   "source": [
    "# error distribution.\n",
    "error = test_predictions - test_labels\n",
    "plt.hist(error, bins = 25)\n",
    "plt.xlabel(\"Prediction Error [medv]\")\n",
    "_ = plt.ylabel(\"count\")"
   ]
  },
  {
   "cell_type": "markdown",
   "id": "a20b3b7c",
   "metadata": {},
   "source": [
    "## Two hidden layer analysis"
   ]
  },
  {
   "cell_type": "code",
   "execution_count": 64,
   "id": "f16bd7b3",
   "metadata": {},
   "outputs": [],
   "source": [
    "# checkpoint_path\n",
    "checkpoint_path = r\".\\models\\wind_direction_prediction3.ckpt\"\n",
    "\n",
    "#create a callback that saves the model's weight\n",
    "ckpt_callback = tf.keras.callbacks.ModelCheckpoint(filepath=checkpoint_path,monitor='val_loss',\n",
    "                                                 save_best_only=True,verbose=0,)"
   ]
  },
  {
   "cell_type": "code",
   "execution_count": 65,
   "id": "78a319a5",
   "metadata": {
    "scrolled": false
   },
   "outputs": [
    {
     "name": "stdout",
     "output_type": "stream",
     "text": [
      "Here is a summary of this model: \n",
      "Model: \"sequential_5\"\n",
      "_________________________________________________________________\n",
      "Layer (type)                 Output Shape              Param #   \n",
      "=================================================================\n",
      "dense_14 (Dense)             (None, 32)                224       \n",
      "_________________________________________________________________\n",
      "dense_15 (Dense)             (None, 32)                1056      \n",
      "_________________________________________________________________\n",
      "dropout_7 (Dropout)          (None, 32)                0         \n",
      "_________________________________________________________________\n",
      "dense_16 (Dense)             (None, 64)                2112      \n",
      "_________________________________________________________________\n",
      "dense_17 (Dense)             (None, 72)                4680      \n",
      "_________________________________________________________________\n",
      "dropout_8 (Dropout)          (None, 72)                0         \n",
      "_________________________________________________________________\n",
      "dense_18 (Dense)             (None, 80)                5840      \n",
      "_________________________________________________________________\n",
      "dropout_9 (Dropout)          (None, 80)                0         \n",
      "_________________________________________________________________\n",
      "dense_19 (Dense)             (None, 1)                 81        \n",
      "=================================================================\n",
      "Total params: 13,993\n",
      "Trainable params: 13,993\n",
      "Non-trainable params: 0\n",
      "_________________________________________________________________\n",
      "\n",
      "Epoch: 0, loss:15.1720,  mae:3.7494,  mape:98.8510,  mse:15.1720,  val_loss:11.1620,  val_mae:3.1151,  val_mape:97.2294,  val_mse:11.1620,  \n",
      "."
     ]
    },
    {
     "name": "stderr",
     "output_type": "stream",
     "text": [
      "WARNING:absl:Found untraced functions such as activation_6_layer_call_and_return_conditional_losses, activation_6_layer_call_fn, activation_7_layer_call_and_return_conditional_losses, activation_7_layer_call_fn, activation_8_layer_call_and_return_conditional_losses while saving (showing 5 of 20). These functions will not be directly callable after loading.\n"
     ]
    },
    {
     "name": "stdout",
     "output_type": "stream",
     "text": [
      "INFO:tensorflow:Assets written to: .\\models\\wind_direction_prediction3.ckpt\\assets\n"
     ]
    },
    {
     "name": "stderr",
     "output_type": "stream",
     "text": [
      "INFO:tensorflow:Assets written to: .\\models\\wind_direction_prediction3.ckpt\\assets\n"
     ]
    },
    {
     "name": "stdout",
     "output_type": "stream",
     "text": [
      "."
     ]
    },
    {
     "name": "stderr",
     "output_type": "stream",
     "text": [
      "WARNING:absl:Found untraced functions such as activation_6_layer_call_and_return_conditional_losses, activation_6_layer_call_fn, activation_7_layer_call_and_return_conditional_losses, activation_7_layer_call_fn, activation_8_layer_call_and_return_conditional_losses while saving (showing 5 of 20). These functions will not be directly callable after loading.\n"
     ]
    },
    {
     "name": "stdout",
     "output_type": "stream",
     "text": [
      "INFO:tensorflow:Assets written to: .\\models\\wind_direction_prediction3.ckpt\\assets\n"
     ]
    },
    {
     "name": "stderr",
     "output_type": "stream",
     "text": [
      "INFO:tensorflow:Assets written to: .\\models\\wind_direction_prediction3.ckpt\\assets\n"
     ]
    },
    {
     "name": "stdout",
     "output_type": "stream",
     "text": [
      "."
     ]
    },
    {
     "name": "stderr",
     "output_type": "stream",
     "text": [
      "WARNING:absl:Found untraced functions such as activation_6_layer_call_and_return_conditional_losses, activation_6_layer_call_fn, activation_7_layer_call_and_return_conditional_losses, activation_7_layer_call_fn, activation_8_layer_call_and_return_conditional_losses while saving (showing 5 of 20). These functions will not be directly callable after loading.\n"
     ]
    },
    {
     "name": "stdout",
     "output_type": "stream",
     "text": [
      "INFO:tensorflow:Assets written to: .\\models\\wind_direction_prediction3.ckpt\\assets\n"
     ]
    },
    {
     "name": "stderr",
     "output_type": "stream",
     "text": [
      "INFO:tensorflow:Assets written to: .\\models\\wind_direction_prediction3.ckpt\\assets\n"
     ]
    },
    {
     "name": "stdout",
     "output_type": "stream",
     "text": [
      "."
     ]
    },
    {
     "name": "stderr",
     "output_type": "stream",
     "text": [
      "WARNING:absl:Found untraced functions such as activation_6_layer_call_and_return_conditional_losses, activation_6_layer_call_fn, activation_7_layer_call_and_return_conditional_losses, activation_7_layer_call_fn, activation_8_layer_call_and_return_conditional_losses while saving (showing 5 of 20). These functions will not be directly callable after loading.\n"
     ]
    },
    {
     "name": "stdout",
     "output_type": "stream",
     "text": [
      "INFO:tensorflow:Assets written to: .\\models\\wind_direction_prediction3.ckpt\\assets\n"
     ]
    },
    {
     "name": "stderr",
     "output_type": "stream",
     "text": [
      "INFO:tensorflow:Assets written to: .\\models\\wind_direction_prediction3.ckpt\\assets\n"
     ]
    },
    {
     "name": "stdout",
     "output_type": "stream",
     "text": [
      "."
     ]
    },
    {
     "name": "stderr",
     "output_type": "stream",
     "text": [
      "WARNING:absl:Found untraced functions such as activation_6_layer_call_and_return_conditional_losses, activation_6_layer_call_fn, activation_7_layer_call_and_return_conditional_losses, activation_7_layer_call_fn, activation_8_layer_call_and_return_conditional_losses while saving (showing 5 of 20). These functions will not be directly callable after loading.\n"
     ]
    },
    {
     "name": "stdout",
     "output_type": "stream",
     "text": [
      "INFO:tensorflow:Assets written to: .\\models\\wind_direction_prediction3.ckpt\\assets\n"
     ]
    },
    {
     "name": "stderr",
     "output_type": "stream",
     "text": [
      "INFO:tensorflow:Assets written to: .\\models\\wind_direction_prediction3.ckpt\\assets\n"
     ]
    },
    {
     "name": "stdout",
     "output_type": "stream",
     "text": [
      "."
     ]
    },
    {
     "name": "stderr",
     "output_type": "stream",
     "text": [
      "WARNING:absl:Found untraced functions such as activation_6_layer_call_and_return_conditional_losses, activation_6_layer_call_fn, activation_7_layer_call_and_return_conditional_losses, activation_7_layer_call_fn, activation_8_layer_call_and_return_conditional_losses while saving (showing 5 of 20). These functions will not be directly callable after loading.\n"
     ]
    },
    {
     "name": "stdout",
     "output_type": "stream",
     "text": [
      "INFO:tensorflow:Assets written to: .\\models\\wind_direction_prediction3.ckpt\\assets\n"
     ]
    },
    {
     "name": "stderr",
     "output_type": "stream",
     "text": [
      "INFO:tensorflow:Assets written to: .\\models\\wind_direction_prediction3.ckpt\\assets\n"
     ]
    },
    {
     "name": "stdout",
     "output_type": "stream",
     "text": [
      "."
     ]
    },
    {
     "name": "stderr",
     "output_type": "stream",
     "text": [
      "WARNING:absl:Found untraced functions such as activation_6_layer_call_and_return_conditional_losses, activation_6_layer_call_fn, activation_7_layer_call_and_return_conditional_losses, activation_7_layer_call_fn, activation_8_layer_call_and_return_conditional_losses while saving (showing 5 of 20). These functions will not be directly callable after loading.\n"
     ]
    },
    {
     "name": "stdout",
     "output_type": "stream",
     "text": [
      "INFO:tensorflow:Assets written to: .\\models\\wind_direction_prediction3.ckpt\\assets\n"
     ]
    },
    {
     "name": "stderr",
     "output_type": "stream",
     "text": [
      "INFO:tensorflow:Assets written to: .\\models\\wind_direction_prediction3.ckpt\\assets\n"
     ]
    },
    {
     "name": "stdout",
     "output_type": "stream",
     "text": [
      "."
     ]
    },
    {
     "name": "stderr",
     "output_type": "stream",
     "text": [
      "WARNING:absl:Found untraced functions such as activation_6_layer_call_and_return_conditional_losses, activation_6_layer_call_fn, activation_7_layer_call_and_return_conditional_losses, activation_7_layer_call_fn, activation_8_layer_call_and_return_conditional_losses while saving (showing 5 of 20). These functions will not be directly callable after loading.\n"
     ]
    },
    {
     "name": "stdout",
     "output_type": "stream",
     "text": [
      "INFO:tensorflow:Assets written to: .\\models\\wind_direction_prediction3.ckpt\\assets\n"
     ]
    },
    {
     "name": "stderr",
     "output_type": "stream",
     "text": [
      "INFO:tensorflow:Assets written to: .\\models\\wind_direction_prediction3.ckpt\\assets\n"
     ]
    },
    {
     "name": "stdout",
     "output_type": "stream",
     "text": [
      "."
     ]
    },
    {
     "name": "stderr",
     "output_type": "stream",
     "text": [
      "WARNING:absl:Found untraced functions such as activation_6_layer_call_and_return_conditional_losses, activation_6_layer_call_fn, activation_7_layer_call_and_return_conditional_losses, activation_7_layer_call_fn, activation_8_layer_call_and_return_conditional_losses while saving (showing 5 of 20). These functions will not be directly callable after loading.\n"
     ]
    },
    {
     "name": "stdout",
     "output_type": "stream",
     "text": [
      "INFO:tensorflow:Assets written to: .\\models\\wind_direction_prediction3.ckpt\\assets\n"
     ]
    },
    {
     "name": "stderr",
     "output_type": "stream",
     "text": [
      "INFO:tensorflow:Assets written to: .\\models\\wind_direction_prediction3.ckpt\\assets\n"
     ]
    },
    {
     "name": "stdout",
     "output_type": "stream",
     "text": [
      "."
     ]
    },
    {
     "name": "stderr",
     "output_type": "stream",
     "text": [
      "WARNING:absl:Found untraced functions such as activation_6_layer_call_and_return_conditional_losses, activation_6_layer_call_fn, activation_7_layer_call_and_return_conditional_losses, activation_7_layer_call_fn, activation_8_layer_call_and_return_conditional_losses while saving (showing 5 of 20). These functions will not be directly callable after loading.\n"
     ]
    },
    {
     "name": "stdout",
     "output_type": "stream",
     "text": [
      "INFO:tensorflow:Assets written to: .\\models\\wind_direction_prediction3.ckpt\\assets\n"
     ]
    },
    {
     "name": "stderr",
     "output_type": "stream",
     "text": [
      "INFO:tensorflow:Assets written to: .\\models\\wind_direction_prediction3.ckpt\\assets\n"
     ]
    },
    {
     "name": "stdout",
     "output_type": "stream",
     "text": [
      "."
     ]
    },
    {
     "name": "stderr",
     "output_type": "stream",
     "text": [
      "WARNING:absl:Found untraced functions such as activation_6_layer_call_and_return_conditional_losses, activation_6_layer_call_fn, activation_7_layer_call_and_return_conditional_losses, activation_7_layer_call_fn, activation_8_layer_call_and_return_conditional_losses while saving (showing 5 of 20). These functions will not be directly callable after loading.\n"
     ]
    },
    {
     "name": "stdout",
     "output_type": "stream",
     "text": [
      "INFO:tensorflow:Assets written to: .\\models\\wind_direction_prediction3.ckpt\\assets\n"
     ]
    },
    {
     "name": "stderr",
     "output_type": "stream",
     "text": [
      "INFO:tensorflow:Assets written to: .\\models\\wind_direction_prediction3.ckpt\\assets\n"
     ]
    },
    {
     "name": "stdout",
     "output_type": "stream",
     "text": [
      "."
     ]
    },
    {
     "name": "stderr",
     "output_type": "stream",
     "text": [
      "WARNING:absl:Found untraced functions such as activation_6_layer_call_and_return_conditional_losses, activation_6_layer_call_fn, activation_7_layer_call_and_return_conditional_losses, activation_7_layer_call_fn, activation_8_layer_call_and_return_conditional_losses while saving (showing 5 of 20). These functions will not be directly callable after loading.\n"
     ]
    },
    {
     "name": "stdout",
     "output_type": "stream",
     "text": [
      "INFO:tensorflow:Assets written to: .\\models\\wind_direction_prediction3.ckpt\\assets\n"
     ]
    },
    {
     "name": "stderr",
     "output_type": "stream",
     "text": [
      "INFO:tensorflow:Assets written to: .\\models\\wind_direction_prediction3.ckpt\\assets\n"
     ]
    },
    {
     "name": "stdout",
     "output_type": "stream",
     "text": [
      "."
     ]
    },
    {
     "name": "stderr",
     "output_type": "stream",
     "text": [
      "WARNING:absl:Found untraced functions such as activation_6_layer_call_and_return_conditional_losses, activation_6_layer_call_fn, activation_7_layer_call_and_return_conditional_losses, activation_7_layer_call_fn, activation_8_layer_call_and_return_conditional_losses while saving (showing 5 of 20). These functions will not be directly callable after loading.\n"
     ]
    },
    {
     "name": "stdout",
     "output_type": "stream",
     "text": [
      "INFO:tensorflow:Assets written to: .\\models\\wind_direction_prediction3.ckpt\\assets\n"
     ]
    },
    {
     "name": "stderr",
     "output_type": "stream",
     "text": [
      "INFO:tensorflow:Assets written to: .\\models\\wind_direction_prediction3.ckpt\\assets\n"
     ]
    },
    {
     "name": "stdout",
     "output_type": "stream",
     "text": [
      "."
     ]
    },
    {
     "name": "stderr",
     "output_type": "stream",
     "text": [
      "WARNING:absl:Found untraced functions such as activation_6_layer_call_and_return_conditional_losses, activation_6_layer_call_fn, activation_7_layer_call_and_return_conditional_losses, activation_7_layer_call_fn, activation_8_layer_call_and_return_conditional_losses while saving (showing 5 of 20). These functions will not be directly callable after loading.\n"
     ]
    },
    {
     "name": "stdout",
     "output_type": "stream",
     "text": [
      "INFO:tensorflow:Assets written to: .\\models\\wind_direction_prediction3.ckpt\\assets\n"
     ]
    },
    {
     "name": "stderr",
     "output_type": "stream",
     "text": [
      "INFO:tensorflow:Assets written to: .\\models\\wind_direction_prediction3.ckpt\\assets\n"
     ]
    },
    {
     "name": "stdout",
     "output_type": "stream",
     "text": [
      "."
     ]
    },
    {
     "name": "stderr",
     "output_type": "stream",
     "text": [
      "WARNING:absl:Found untraced functions such as activation_6_layer_call_and_return_conditional_losses, activation_6_layer_call_fn, activation_7_layer_call_and_return_conditional_losses, activation_7_layer_call_fn, activation_8_layer_call_and_return_conditional_losses while saving (showing 5 of 20). These functions will not be directly callable after loading.\n"
     ]
    },
    {
     "name": "stdout",
     "output_type": "stream",
     "text": [
      "INFO:tensorflow:Assets written to: .\\models\\wind_direction_prediction3.ckpt\\assets\n"
     ]
    },
    {
     "name": "stderr",
     "output_type": "stream",
     "text": [
      "INFO:tensorflow:Assets written to: .\\models\\wind_direction_prediction3.ckpt\\assets\n"
     ]
    },
    {
     "name": "stdout",
     "output_type": "stream",
     "text": [
      "."
     ]
    },
    {
     "name": "stderr",
     "output_type": "stream",
     "text": [
      "WARNING:absl:Found untraced functions such as activation_6_layer_call_and_return_conditional_losses, activation_6_layer_call_fn, activation_7_layer_call_and_return_conditional_losses, activation_7_layer_call_fn, activation_8_layer_call_and_return_conditional_losses while saving (showing 5 of 20). These functions will not be directly callable after loading.\n"
     ]
    },
    {
     "name": "stdout",
     "output_type": "stream",
     "text": [
      "INFO:tensorflow:Assets written to: .\\models\\wind_direction_prediction3.ckpt\\assets\n"
     ]
    },
    {
     "name": "stderr",
     "output_type": "stream",
     "text": [
      "INFO:tensorflow:Assets written to: .\\models\\wind_direction_prediction3.ckpt\\assets\n"
     ]
    },
    {
     "name": "stdout",
     "output_type": "stream",
     "text": [
      "...."
     ]
    },
    {
     "name": "stderr",
     "output_type": "stream",
     "text": [
      "WARNING:absl:Found untraced functions such as activation_6_layer_call_and_return_conditional_losses, activation_6_layer_call_fn, activation_7_layer_call_and_return_conditional_losses, activation_7_layer_call_fn, activation_8_layer_call_and_return_conditional_losses while saving (showing 5 of 20). These functions will not be directly callable after loading.\n"
     ]
    },
    {
     "name": "stdout",
     "output_type": "stream",
     "text": [
      "INFO:tensorflow:Assets written to: .\\models\\wind_direction_prediction3.ckpt\\assets\n"
     ]
    },
    {
     "name": "stderr",
     "output_type": "stream",
     "text": [
      "INFO:tensorflow:Assets written to: .\\models\\wind_direction_prediction3.ckpt\\assets\n"
     ]
    },
    {
     "name": "stdout",
     "output_type": "stream",
     "text": [
      ".."
     ]
    },
    {
     "name": "stderr",
     "output_type": "stream",
     "text": [
      "WARNING:absl:Found untraced functions such as activation_6_layer_call_and_return_conditional_losses, activation_6_layer_call_fn, activation_7_layer_call_and_return_conditional_losses, activation_7_layer_call_fn, activation_8_layer_call_and_return_conditional_losses while saving (showing 5 of 20). These functions will not be directly callable after loading.\n"
     ]
    },
    {
     "name": "stdout",
     "output_type": "stream",
     "text": [
      "INFO:tensorflow:Assets written to: .\\models\\wind_direction_prediction3.ckpt\\assets\n"
     ]
    },
    {
     "name": "stderr",
     "output_type": "stream",
     "text": [
      "INFO:tensorflow:Assets written to: .\\models\\wind_direction_prediction3.ckpt\\assets\n"
     ]
    },
    {
     "name": "stdout",
     "output_type": "stream",
     "text": [
      ".."
     ]
    },
    {
     "name": "stderr",
     "output_type": "stream",
     "text": [
      "WARNING:absl:Found untraced functions such as activation_6_layer_call_and_return_conditional_losses, activation_6_layer_call_fn, activation_7_layer_call_and_return_conditional_losses, activation_7_layer_call_fn, activation_8_layer_call_and_return_conditional_losses while saving (showing 5 of 20). These functions will not be directly callable after loading.\n"
     ]
    },
    {
     "name": "stdout",
     "output_type": "stream",
     "text": [
      "INFO:tensorflow:Assets written to: .\\models\\wind_direction_prediction3.ckpt\\assets\n"
     ]
    },
    {
     "name": "stderr",
     "output_type": "stream",
     "text": [
      "INFO:tensorflow:Assets written to: .\\models\\wind_direction_prediction3.ckpt\\assets\n"
     ]
    },
    {
     "name": "stdout",
     "output_type": "stream",
     "text": [
      "...."
     ]
    },
    {
     "name": "stderr",
     "output_type": "stream",
     "text": [
      "WARNING:absl:Found untraced functions such as activation_6_layer_call_and_return_conditional_losses, activation_6_layer_call_fn, activation_7_layer_call_and_return_conditional_losses, activation_7_layer_call_fn, activation_8_layer_call_and_return_conditional_losses while saving (showing 5 of 20). These functions will not be directly callable after loading.\n"
     ]
    },
    {
     "name": "stdout",
     "output_type": "stream",
     "text": [
      "INFO:tensorflow:Assets written to: .\\models\\wind_direction_prediction3.ckpt\\assets\n"
     ]
    },
    {
     "name": "stderr",
     "output_type": "stream",
     "text": [
      "INFO:tensorflow:Assets written to: .\\models\\wind_direction_prediction3.ckpt\\assets\n"
     ]
    },
    {
     "name": "stdout",
     "output_type": "stream",
     "text": [
      "."
     ]
    },
    {
     "name": "stderr",
     "output_type": "stream",
     "text": [
      "WARNING:absl:Found untraced functions such as activation_6_layer_call_and_return_conditional_losses, activation_6_layer_call_fn, activation_7_layer_call_and_return_conditional_losses, activation_7_layer_call_fn, activation_8_layer_call_and_return_conditional_losses while saving (showing 5 of 20). These functions will not be directly callable after loading.\n"
     ]
    },
    {
     "name": "stdout",
     "output_type": "stream",
     "text": [
      "INFO:tensorflow:Assets written to: .\\models\\wind_direction_prediction3.ckpt\\assets\n"
     ]
    },
    {
     "name": "stderr",
     "output_type": "stream",
     "text": [
      "INFO:tensorflow:Assets written to: .\\models\\wind_direction_prediction3.ckpt\\assets\n"
     ]
    },
    {
     "name": "stdout",
     "output_type": "stream",
     "text": [
      "."
     ]
    },
    {
     "name": "stderr",
     "output_type": "stream",
     "text": [
      "WARNING:absl:Found untraced functions such as activation_6_layer_call_and_return_conditional_losses, activation_6_layer_call_fn, activation_7_layer_call_and_return_conditional_losses, activation_7_layer_call_fn, activation_8_layer_call_and_return_conditional_losses while saving (showing 5 of 20). These functions will not be directly callable after loading.\n"
     ]
    },
    {
     "name": "stdout",
     "output_type": "stream",
     "text": [
      "INFO:tensorflow:Assets written to: .\\models\\wind_direction_prediction3.ckpt\\assets\n"
     ]
    },
    {
     "name": "stderr",
     "output_type": "stream",
     "text": [
      "INFO:tensorflow:Assets written to: .\\models\\wind_direction_prediction3.ckpt\\assets\n"
     ]
    },
    {
     "name": "stdout",
     "output_type": "stream",
     "text": [
      "."
     ]
    },
    {
     "name": "stderr",
     "output_type": "stream",
     "text": [
      "WARNING:absl:Found untraced functions such as activation_6_layer_call_and_return_conditional_losses, activation_6_layer_call_fn, activation_7_layer_call_and_return_conditional_losses, activation_7_layer_call_fn, activation_8_layer_call_and_return_conditional_losses while saving (showing 5 of 20). These functions will not be directly callable after loading.\n"
     ]
    },
    {
     "name": "stdout",
     "output_type": "stream",
     "text": [
      "INFO:tensorflow:Assets written to: .\\models\\wind_direction_prediction3.ckpt\\assets\n"
     ]
    },
    {
     "name": "stderr",
     "output_type": "stream",
     "text": [
      "INFO:tensorflow:Assets written to: .\\models\\wind_direction_prediction3.ckpt\\assets\n"
     ]
    },
    {
     "name": "stdout",
     "output_type": "stream",
     "text": [
      "."
     ]
    },
    {
     "name": "stderr",
     "output_type": "stream",
     "text": [
      "WARNING:absl:Found untraced functions such as activation_6_layer_call_and_return_conditional_losses, activation_6_layer_call_fn, activation_7_layer_call_and_return_conditional_losses, activation_7_layer_call_fn, activation_8_layer_call_and_return_conditional_losses while saving (showing 5 of 20). These functions will not be directly callable after loading.\n"
     ]
    },
    {
     "name": "stdout",
     "output_type": "stream",
     "text": [
      "INFO:tensorflow:Assets written to: .\\models\\wind_direction_prediction3.ckpt\\assets\n"
     ]
    },
    {
     "name": "stderr",
     "output_type": "stream",
     "text": [
      "INFO:tensorflow:Assets written to: .\\models\\wind_direction_prediction3.ckpt\\assets\n"
     ]
    },
    {
     "name": "stdout",
     "output_type": "stream",
     "text": [
      ".."
     ]
    },
    {
     "name": "stderr",
     "output_type": "stream",
     "text": [
      "WARNING:absl:Found untraced functions such as activation_6_layer_call_and_return_conditional_losses, activation_6_layer_call_fn, activation_7_layer_call_and_return_conditional_losses, activation_7_layer_call_fn, activation_8_layer_call_and_return_conditional_losses while saving (showing 5 of 20). These functions will not be directly callable after loading.\n"
     ]
    },
    {
     "name": "stdout",
     "output_type": "stream",
     "text": [
      "INFO:tensorflow:Assets written to: .\\models\\wind_direction_prediction3.ckpt\\assets\n"
     ]
    },
    {
     "name": "stderr",
     "output_type": "stream",
     "text": [
      "INFO:tensorflow:Assets written to: .\\models\\wind_direction_prediction3.ckpt\\assets\n"
     ]
    },
    {
     "name": "stdout",
     "output_type": "stream",
     "text": [
      "............"
     ]
    },
    {
     "name": "stderr",
     "output_type": "stream",
     "text": [
      "WARNING:absl:Found untraced functions such as activation_6_layer_call_and_return_conditional_losses, activation_6_layer_call_fn, activation_7_layer_call_and_return_conditional_losses, activation_7_layer_call_fn, activation_8_layer_call_and_return_conditional_losses while saving (showing 5 of 20). These functions will not be directly callable after loading.\n"
     ]
    },
    {
     "name": "stdout",
     "output_type": "stream",
     "text": [
      "INFO:tensorflow:Assets written to: .\\models\\wind_direction_prediction3.ckpt\\assets\n"
     ]
    },
    {
     "name": "stderr",
     "output_type": "stream",
     "text": [
      "INFO:tensorflow:Assets written to: .\\models\\wind_direction_prediction3.ckpt\\assets\n"
     ]
    },
    {
     "name": "stdout",
     "output_type": "stream",
     "text": [
      "......................"
     ]
    },
    {
     "name": "stderr",
     "output_type": "stream",
     "text": [
      "WARNING:absl:Found untraced functions such as activation_6_layer_call_and_return_conditional_losses, activation_6_layer_call_fn, activation_7_layer_call_and_return_conditional_losses, activation_7_layer_call_fn, activation_8_layer_call_and_return_conditional_losses while saving (showing 5 of 20). These functions will not be directly callable after loading.\n"
     ]
    },
    {
     "name": "stdout",
     "output_type": "stream",
     "text": [
      "INFO:tensorflow:Assets written to: .\\models\\wind_direction_prediction3.ckpt\\assets\n"
     ]
    },
    {
     "name": "stderr",
     "output_type": "stream",
     "text": [
      "INFO:tensorflow:Assets written to: .\\models\\wind_direction_prediction3.ckpt\\assets\n"
     ]
    },
    {
     "name": "stdout",
     "output_type": "stream",
     "text": [
      "."
     ]
    },
    {
     "name": "stderr",
     "output_type": "stream",
     "text": [
      "WARNING:absl:Found untraced functions such as activation_6_layer_call_and_return_conditional_losses, activation_6_layer_call_fn, activation_7_layer_call_and_return_conditional_losses, activation_7_layer_call_fn, activation_8_layer_call_and_return_conditional_losses while saving (showing 5 of 20). These functions will not be directly callable after loading.\n"
     ]
    },
    {
     "name": "stdout",
     "output_type": "stream",
     "text": [
      "INFO:tensorflow:Assets written to: .\\models\\wind_direction_prediction3.ckpt\\assets\n"
     ]
    },
    {
     "name": "stderr",
     "output_type": "stream",
     "text": [
      "INFO:tensorflow:Assets written to: .\\models\\wind_direction_prediction3.ckpt\\assets\n"
     ]
    },
    {
     "name": "stdout",
     "output_type": "stream",
     "text": [
      "."
     ]
    },
    {
     "name": "stderr",
     "output_type": "stream",
     "text": [
      "WARNING:absl:Found untraced functions such as activation_6_layer_call_and_return_conditional_losses, activation_6_layer_call_fn, activation_7_layer_call_and_return_conditional_losses, activation_7_layer_call_fn, activation_8_layer_call_and_return_conditional_losses while saving (showing 5 of 20). These functions will not be directly callable after loading.\n"
     ]
    },
    {
     "name": "stdout",
     "output_type": "stream",
     "text": [
      "INFO:tensorflow:Assets written to: .\\models\\wind_direction_prediction3.ckpt\\assets\n"
     ]
    },
    {
     "name": "stderr",
     "output_type": "stream",
     "text": [
      "INFO:tensorflow:Assets written to: .\\models\\wind_direction_prediction3.ckpt\\assets\n"
     ]
    },
    {
     "name": "stdout",
     "output_type": "stream",
     "text": [
      "..............................\n",
      "Epoch: 100, loss:0.9273,  mae:0.8877,  mape:38.7606,  mse:0.9273,  val_loss:2.2882,  val_mae:1.1791,  val_mape:34.7507,  val_mse:2.2882,  \n",
      "............................................................"
     ]
    },
    {
     "name": "stderr",
     "output_type": "stream",
     "text": [
      "WARNING:absl:Found untraced functions such as activation_6_layer_call_and_return_conditional_losses, activation_6_layer_call_fn, activation_7_layer_call_and_return_conditional_losses, activation_7_layer_call_fn, activation_8_layer_call_and_return_conditional_losses while saving (showing 5 of 20). These functions will not be directly callable after loading.\n"
     ]
    },
    {
     "name": "stdout",
     "output_type": "stream",
     "text": [
      "INFO:tensorflow:Assets written to: .\\models\\wind_direction_prediction3.ckpt\\assets\n"
     ]
    },
    {
     "name": "stderr",
     "output_type": "stream",
     "text": [
      "INFO:tensorflow:Assets written to: .\\models\\wind_direction_prediction3.ckpt\\assets\n"
     ]
    },
    {
     "name": "stdout",
     "output_type": "stream",
     "text": [
      "........................................\n",
      "Epoch: 200, loss:1.7727,  mae:1.1539,  mape:27.3292,  mse:1.7727,  val_loss:2.3975,  val_mae:1.2169,  val_mape:35.9173,  val_mse:2.3975,  \n",
      "....................................................................................................\n",
      "Epoch: 300, loss:1.5434,  mae:0.9494,  mape:27.0862,  mse:1.5434,  val_loss:2.4876,  val_mae:1.2471,  val_mape:36.7385,  val_mse:2.4876,  \n",
      "....................................................................................................\n",
      "Epoch: 400, loss:2.0692,  mae:1.1400,  mape:22.8465,  mse:2.0692,  val_loss:2.4891,  val_mae:1.2448,  val_mape:36.6916,  val_mse:2.4891,  \n",
      "....................................................................................................Wall time: 1min 43s\n"
     ]
    }
   ],
   "source": [
    "%%time\n",
    "\n",
    "EPOCHS = 1000\n",
    "batch_size = 6\n",
    "\n",
    "model3 = model3_multilayer_perceptron_with_two_hidden_layer()\n",
    "print('Here is a summary of this model: ')\n",
    "model3.summary()\n",
    "\n",
    "with tf.device('/CPU:0'):\n",
    "    history = model3.fit(\n",
    "        normed_train_data,\n",
    "        train_labels,\n",
    "        batch_size = batch_size,\n",
    "        epochs=EPOCHS,\n",
    "        verbose=0,\n",
    "        shuffle=True,\n",
    "        steps_per_epoch= 1,\n",
    "        validation_data = (normed_valid_dataset, valid_labels),\n",
    "        callbacks=[tfdocs.modeling.EpochDots(), ckpt_callback],\n",
    "    )\n"
   ]
  },
  {
   "cell_type": "code",
   "execution_count": 66,
   "id": "622ae6dc",
   "metadata": {},
   "outputs": [
    {
     "name": "stdout",
     "output_type": "stream",
     "text": [
      "Summary of the results after each epoch: \n"
     ]
    },
    {
     "data": {
      "text/html": [
       "<div>\n",
       "<style scoped>\n",
       "    .dataframe tbody tr th:only-of-type {\n",
       "        vertical-align: middle;\n",
       "    }\n",
       "\n",
       "    .dataframe tbody tr th {\n",
       "        vertical-align: top;\n",
       "    }\n",
       "\n",
       "    .dataframe thead th {\n",
       "        text-align: right;\n",
       "    }\n",
       "</style>\n",
       "<table border=\"1\" class=\"dataframe\">\n",
       "  <thead>\n",
       "    <tr style=\"text-align: right;\">\n",
       "      <th></th>\n",
       "      <th>loss</th>\n",
       "      <th>mae</th>\n",
       "      <th>mse</th>\n",
       "      <th>mape</th>\n",
       "      <th>val_loss</th>\n",
       "      <th>val_mae</th>\n",
       "      <th>val_mse</th>\n",
       "      <th>val_mape</th>\n",
       "      <th>epoch</th>\n",
       "    </tr>\n",
       "  </thead>\n",
       "  <tbody>\n",
       "    <tr>\n",
       "      <th>495</th>\n",
       "      <td>0.847291</td>\n",
       "      <td>0.789642</td>\n",
       "      <td>0.847291</td>\n",
       "      <td>45.467350</td>\n",
       "      <td>2.971549</td>\n",
       "      <td>1.390217</td>\n",
       "      <td>2.971549</td>\n",
       "      <td>40.060223</td>\n",
       "      <td>495</td>\n",
       "    </tr>\n",
       "    <tr>\n",
       "      <th>496</th>\n",
       "      <td>0.728335</td>\n",
       "      <td>0.574096</td>\n",
       "      <td>0.728335</td>\n",
       "      <td>18.252600</td>\n",
       "      <td>3.132224</td>\n",
       "      <td>1.439211</td>\n",
       "      <td>3.132224</td>\n",
       "      <td>41.415718</td>\n",
       "      <td>496</td>\n",
       "    </tr>\n",
       "    <tr>\n",
       "      <th>497</th>\n",
       "      <td>1.218273</td>\n",
       "      <td>0.805779</td>\n",
       "      <td>1.218273</td>\n",
       "      <td>24.176477</td>\n",
       "      <td>2.999812</td>\n",
       "      <td>1.399256</td>\n",
       "      <td>2.999812</td>\n",
       "      <td>40.329754</td>\n",
       "      <td>497</td>\n",
       "    </tr>\n",
       "    <tr>\n",
       "      <th>498</th>\n",
       "      <td>0.446673</td>\n",
       "      <td>0.596846</td>\n",
       "      <td>0.446673</td>\n",
       "      <td>17.404991</td>\n",
       "      <td>3.032105</td>\n",
       "      <td>1.409546</td>\n",
       "      <td>3.032105</td>\n",
       "      <td>40.624767</td>\n",
       "      <td>498</td>\n",
       "    </tr>\n",
       "    <tr>\n",
       "      <th>499</th>\n",
       "      <td>2.653158</td>\n",
       "      <td>1.406846</td>\n",
       "      <td>2.653158</td>\n",
       "      <td>38.611576</td>\n",
       "      <td>2.864836</td>\n",
       "      <td>1.357265</td>\n",
       "      <td>2.864836</td>\n",
       "      <td>39.203621</td>\n",
       "      <td>499</td>\n",
       "    </tr>\n",
       "  </tbody>\n",
       "</table>\n",
       "</div>"
      ],
      "text/plain": [
       "         loss       mae       mse       mape  val_loss   val_mae   val_mse  \\\n",
       "495  0.847291  0.789642  0.847291  45.467350  2.971549  1.390217  2.971549   \n",
       "496  0.728335  0.574096  0.728335  18.252600  3.132224  1.439211  3.132224   \n",
       "497  1.218273  0.805779  1.218273  24.176477  2.999812  1.399256  2.999812   \n",
       "498  0.446673  0.596846  0.446673  17.404991  3.032105  1.409546  3.032105   \n",
       "499  2.653158  1.406846  2.653158  38.611576  2.864836  1.357265  2.864836   \n",
       "\n",
       "      val_mape  epoch  \n",
       "495  40.060223    495  \n",
       "496  41.415718    496  \n",
       "497  40.329754    497  \n",
       "498  40.624767    498  \n",
       "499  39.203621    499  "
      ]
     },
     "execution_count": 66,
     "metadata": {},
     "output_type": "execute_result"
    }
   ],
   "source": [
    "print('Summary of the results after each epoch: ')\n",
    "hist = pd.DataFrame(history.history)\n",
    "hist['epoch'] = history.epoch\n",
    "hist.tail()"
   ]
  },
  {
   "cell_type": "code",
   "execution_count": 67,
   "id": "452560e7",
   "metadata": {},
   "outputs": [],
   "source": [
    "# Test the model after training\n",
    "example_result_4 = model3.predict(normed_test_data)\n"
   ]
  },
  {
   "cell_type": "markdown",
   "id": "abda4b95",
   "metadata": {},
   "source": [
    "## Compare the Actual Values with the predicted values"
   ]
  },
  {
   "cell_type": "code",
   "execution_count": 68,
   "id": "4102c688",
   "metadata": {},
   "outputs": [
    {
     "name": "stdout",
     "output_type": "stream",
     "text": [
      "Predicted Values\n",
      "[[2.1067133]\n",
      " [2.0351532]\n",
      " [2.5794075]\n",
      " [2.5739245]\n",
      " [1.9315561]\n",
      " [2.2485201]\n",
      " [2.665594 ]\n",
      " [2.536932 ]\n",
      " [2.2999277]\n",
      " [2.0258458]]\n",
      "\n",
      "Actual Values\n",
      "2.0\n",
      "2.0\n",
      "2.0\n",
      "2.0\n",
      "1.8\n",
      "4.0\n",
      "4.0\n",
      "5.0\n",
      "5.0\n",
      "1.4\n"
     ]
    }
   ],
   "source": [
    "print('Predicted Values')\n",
    "print(example_result_4[:10])\n",
    "print()\n",
    "print('Actual Values')\n",
    "print(test_labels[:10].to_string(index=False))"
   ]
  },
  {
   "cell_type": "markdown",
   "id": "ea887bdc",
   "metadata": {},
   "source": [
    "## See how the training went by plotting the loss/mse across epochs"
   ]
  },
  {
   "cell_type": "code",
   "execution_count": 69,
   "id": "b36a9b25",
   "metadata": {},
   "outputs": [
    {
     "data": {
      "text/plain": [
       "Text(0, 0.5, 'MAE [wind-direction]')"
      ]
     },
     "execution_count": 69,
     "metadata": {},
     "output_type": "execute_result"
    },
    {
     "data": {
      "image/png": "[encoded data removed]",
      "text/plain": [
       "<Figure size 432x288 with 1 Axes>"
      ]
     },
     "metadata": {
      "needs_background": "light"
     },
     "output_type": "display_data"
    }
   ],
   "source": [
    "plotter = tfdocs.plots.HistoryPlotter(smoothing_std=2)\n",
    "\n",
    "plotter.plot({'Basic': history}, metric = 'mae')\n",
    "plt.ylim([0,5])\n",
    "plt.ylabel('MAE [wind-direction]')"
   ]
  },
  {
   "cell_type": "code",
   "execution_count": 70,
   "id": "911a87b4",
   "metadata": {},
   "outputs": [
    {
     "data": {
      "text/plain": [
       "Text(0, 0.5, 'MSE [wind-direction]')"
      ]
     },
     "execution_count": 70,
     "metadata": {},
     "output_type": "execute_result"
    },
    {
     "data": {
      "image/png": "[encoded data removed]",
      "text/plain": [
       "<Figure size 432x288 with 1 Axes>"
      ]
     },
     "metadata": {
      "needs_background": "light"
     },
     "output_type": "display_data"
    }
   ],
   "source": [
    "plotter.plot({'Basic': history}, metric = 'mse')\n",
    "plt.ylim([0,5])\n",
    "plt.ylabel('MSE [wind-direction]')"
   ]
  },
  {
   "cell_type": "code",
   "execution_count": 71,
   "id": "081f9491",
   "metadata": {},
   "outputs": [
    {
     "name": "stdout",
     "output_type": "stream",
     "text": [
      "Error Rate on Train Split: \n",
      "6/6 - 0s - loss: 2.9458 - mae: 1.2980 - mse: 2.9458 - mape: 34.1786\n",
      "Train set Mean Abs Error :  1.30\n",
      "Train set Mean Square Error :  2.95\n"
     ]
    }
   ],
   "source": [
    "print('Error Rate on Train Split: ')\n",
    "loss, mae, mse, mape = model3.evaluate(normed_train_data, train_labels, verbose=2)\n",
    "\n",
    "print('Train set Mean Abs Error : {:5.2f}'.format(mae))\n",
    "print('Train set Mean Square Error : {:5.2f}'.format(mse))"
   ]
  },
  {
   "cell_type": "code",
   "execution_count": 72,
   "id": "19e5a40d",
   "metadata": {},
   "outputs": [
    {
     "name": "stdout",
     "output_type": "stream",
     "text": [
      "Error Rate on Evaluation  Split: \n",
      "2/2 - 0s - loss: 2.8648 - mae: 1.3573 - mse: 2.8648 - mape: 39.2036\n",
      "Validation set Mean Abs Error :  1.36\n",
      "Validation set Mean Square Error :  2.86\n"
     ]
    }
   ],
   "source": [
    "print('Error Rate on Evaluation  Split: ')\n",
    "loss, mae, mse, mape = model3.evaluate(normed_valid_dataset, valid_labels, verbose=2)\n",
    "\n",
    "print('Validation set Mean Abs Error : {:5.2f}'.format(mae))\n",
    "print('Validation set Mean Square Error : {:5.2f}'.format(mse))"
   ]
  },
  {
   "cell_type": "code",
   "execution_count": 73,
   "id": "ad95ed6a",
   "metadata": {},
   "outputs": [
    {
     "name": "stdout",
     "output_type": "stream",
     "text": [
      "Error Rate on Test  Split: \n",
      "2/2 - 0s - loss: 3.0936 - mae: 1.3953 - mse: 3.0936 - mape: 42280668.0000\n",
      "Testing set Mean Abs Error :  1.40\n",
      "Testing set Mean Square Error :  3.09\n"
     ]
    }
   ],
   "source": [
    "print('Error Rate on Test  Split: ')\n",
    "loss, mae, mse, mape = model3.evaluate(normed_test_data, test_labels, verbose=2)\n",
    "\n",
    "print('Testing set Mean Abs Error : {:5.2f}'.format(mae))\n",
    "print('Testing set Mean Square Error : {:5.2f}'.format(mse))"
   ]
  },
  {
   "cell_type": "code",
   "execution_count": 74,
   "id": "7daa6539",
   "metadata": {},
   "outputs": [
    {
     "data": {
      "image/png": "[encoded data removed]",
      "text/plain": [
       "<Figure size 432x288 with 1 Axes>"
      ]
     },
     "metadata": {
      "needs_background": "light"
     },
     "output_type": "display_data"
    }
   ],
   "source": [
    "train_predictions = model3.predict(normed_train_data).flatten()\n",
    "\n",
    "a = plt.axes(aspect='equal')\n",
    "plt.scatter(train_labels, train_predictions)\n",
    "plt.xlabel('True Values [wind-direction]')\n",
    "plt.ylabel('Predictions [wind-direction]')\n",
    "lims = [0, 5]\n",
    "plt.xlim(lims)\n",
    "plt.ylim(lims)\n",
    "_ = plt.plot(lims, lims)"
   ]
  },
  {
   "cell_type": "code",
   "execution_count": 75,
   "id": "3d05ba44",
   "metadata": {},
   "outputs": [
    {
     "data": {
      "image/png": "[encoded data removed]",
      "text/plain": [
       "<Figure size 432x288 with 1 Axes>"
      ]
     },
     "metadata": {
      "needs_background": "light"
     },
     "output_type": "display_data"
    }
   ],
   "source": [
    "test_predictions = model3.predict(normed_test_data).flatten()\n",
    "\n",
    "a = plt.axes(aspect='equal')\n",
    "plt.scatter(test_labels, test_predictions)\n",
    "plt.xlabel('True Values [wind-direction]')\n",
    "plt.ylabel('Predictions [wind-direction]')\n",
    "lims = [0, 5]\n",
    "plt.xlim(lims)\n",
    "plt.ylim(lims)\n",
    "_ = plt.plot(lims, lims)"
   ]
  },
  {
   "cell_type": "code",
   "execution_count": 76,
   "id": "2fbdc2ab",
   "metadata": {},
   "outputs": [
    {
     "data": {
      "image/png": "[encoded data removed]",
      "text/plain": [
       "<Figure size 432x288 with 1 Axes>"
      ]
     },
     "metadata": {
      "needs_background": "light"
     },
     "output_type": "display_data"
    }
   ],
   "source": [
    "# error distribution.\n",
    "error = test_predictions - test_labels\n",
    "plt.hist(error, bins = 25)\n",
    "plt.xlabel(\"Prediction Error [wind-speed]\")\n",
    "_ = plt.ylabel(\"count\")"
   ]
  },
  {
   "cell_type": "code",
   "execution_count": null,
   "id": "cd32d25d",
   "metadata": {},
   "outputs": [],
   "source": []
  },
  {
   "cell_type": "code",
   "execution_count": null,
   "id": "0aaf0d69",
   "metadata": {},
   "outputs": [],
   "source": []
  }
 ],
 "metadata": {
  "kernelspec": {
   "display_name": "Python 3 (ipykernel)",
   "language": "python",
   "name": "python3"
  },
  "language_info": {
   "codemirror_mode": {
    "name": "ipython",
    "version": 3
   },
   "file_extension": ".py",
   "mimetype": "text/x-python",
   "name": "python",
   "nbconvert_exporter": "python",
   "pygments_lexer": "ipython3",
   "version": "3.9.6"
  }
 },
 "nbformat": 4,
 "nbformat_minor": 5
}

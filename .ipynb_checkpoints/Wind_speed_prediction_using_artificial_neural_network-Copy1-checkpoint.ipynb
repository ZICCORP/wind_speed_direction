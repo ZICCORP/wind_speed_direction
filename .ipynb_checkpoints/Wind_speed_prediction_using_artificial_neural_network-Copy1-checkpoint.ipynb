{
 "cells": [
  {
   "cell_type": "markdown",
   "id": "2869aab5",
   "metadata": {},
   "source": [
    "### import os for  operating system operations e.g., creating a folder"
   ]
  },
  {
   "cell_type": "code",
   "execution_count": 79,
   "id": "14b84b90",
   "metadata": {},
   "outputs": [],
   "source": [
    "import os"
   ]
  },
  {
   "cell_type": "markdown",
   "id": "a1387a94",
   "metadata": {},
   "source": [
    "### Tensorflow and keras are two packages for creating neural network models."
   ]
  },
  {
   "cell_type": "code",
   "execution_count": 80,
   "id": "142f9f44",
   "metadata": {},
   "outputs": [],
   "source": [
    "\n",
    "import tensorflow as tf\n",
    "from tensorflow import keras"
   ]
  },
  {
   "cell_type": "markdown",
   "id": "037b0c53",
   "metadata": {},
   "source": [
    "### For splitting our dataset into training and test set"
   ]
  },
  {
   "cell_type": "code",
   "execution_count": 81,
   "id": "fc71c4a0",
   "metadata": {},
   "outputs": [],
   "source": [
    "\n",
    "from sklearn.model_selection import train_test_split"
   ]
  },
  {
   "cell_type": "markdown",
   "id": "98d22649",
   "metadata": {},
   "source": [
    "### print tensorflow (TF) version. Make sure you have at least tensorflow 2.1.0"
   ]
  },
  {
   "cell_type": "code",
   "execution_count": 82,
   "id": "ec10543e",
   "metadata": {},
   "outputs": [
    {
     "name": "stdout",
     "output_type": "stream",
     "text": [
      "Tensorflow version: 2.6.0\n"
     ]
    }
   ],
   "source": [
    "\n",
    "print(f\"Tensorflow version: {tf.version.VERSION}\")"
   ]
  },
  {
   "cell_type": "code",
   "execution_count": 83,
   "id": "d31ecb4c",
   "metadata": {},
   "outputs": [],
   "source": [
    "import pathlib # for processing a path e.g c:\\documents\\files\\testset.csv\n",
    "import matplotlib.pyplot as plt # for plotting data and creating different charts.\n",
    "import numpy as np # for math and arrays\n",
    "import pandas as pd # data frame for the data.\n",
    "import seaborn as sns # plotting."
   ]
  },
  {
   "cell_type": "markdown",
   "id": "158856ce",
   "metadata": {},
   "source": [
    "### Read dataset"
   ]
  },
  {
   "cell_type": "code",
   "execution_count": 84,
   "id": "5237014e",
   "metadata": {},
   "outputs": [],
   "source": [
    "\n",
    "dataset = pd.read_csv('dataset2.csv')"
   ]
  },
  {
   "cell_type": "markdown",
   "id": "0ef50c1b",
   "metadata": {},
   "source": [
    "### display dataset"
   ]
  },
  {
   "cell_type": "code",
   "execution_count": 85,
   "id": "912f8f08",
   "metadata": {
    "scrolled": true
   },
   "outputs": [
    {
     "data": {
      "text/html": [
       "<div>\n",
       "<style scoped>\n",
       "    .dataframe tbody tr th:only-of-type {\n",
       "        vertical-align: middle;\n",
       "    }\n",
       "\n",
       "    .dataframe tbody tr th {\n",
       "        vertical-align: top;\n",
       "    }\n",
       "\n",
       "    .dataframe thead th {\n",
       "        text-align: right;\n",
       "    }\n",
       "</style>\n",
       "<table border=\"1\" class=\"dataframe\">\n",
       "  <thead>\n",
       "    <tr style=\"text-align: right;\">\n",
       "      <th></th>\n",
       "      <th>DATE</th>\n",
       "      <th>MAXIMUM-TEMPERATURE</th>\n",
       "      <th>MINIMUM-TEMPERATURE</th>\n",
       "      <th>WIND-DIRECTION</th>\n",
       "      <th>WIND-SPEED</th>\n",
       "      <th>WIND-RUN</th>\n",
       "      <th>RELATIVE-HUMIDITY</th>\n",
       "      <th>AIR-PRESSURE</th>\n",
       "    </tr>\n",
       "  </thead>\n",
       "  <tbody>\n",
       "    <tr>\n",
       "      <th>0</th>\n",
       "      <td>Jan-95</td>\n",
       "      <td>33.3</td>\n",
       "      <td>16.4</td>\n",
       "      <td>73</td>\n",
       "      <td>2.0</td>\n",
       "      <td>NaN</td>\n",
       "      <td>27</td>\n",
       "      <td>1014.5</td>\n",
       "    </tr>\n",
       "    <tr>\n",
       "      <th>1</th>\n",
       "      <td>Feb-95</td>\n",
       "      <td>35.9</td>\n",
       "      <td>18.6</td>\n",
       "      <td>123</td>\n",
       "      <td>3.0</td>\n",
       "      <td>NaN</td>\n",
       "      <td>23</td>\n",
       "      <td>1013.7</td>\n",
       "    </tr>\n",
       "    <tr>\n",
       "      <th>2</th>\n",
       "      <td>Mar-95</td>\n",
       "      <td>40.5</td>\n",
       "      <td>25.0</td>\n",
       "      <td>191</td>\n",
       "      <td>3.0</td>\n",
       "      <td>NaN</td>\n",
       "      <td>32</td>\n",
       "      <td>1009.1</td>\n",
       "    </tr>\n",
       "    <tr>\n",
       "      <th>3</th>\n",
       "      <td>Apr-95</td>\n",
       "      <td>40.1</td>\n",
       "      <td>27.2</td>\n",
       "      <td>196</td>\n",
       "      <td>4.0</td>\n",
       "      <td>NaN</td>\n",
       "      <td>43</td>\n",
       "      <td>1010.5</td>\n",
       "    </tr>\n",
       "    <tr>\n",
       "      <th>4</th>\n",
       "      <td>May-95</td>\n",
       "      <td>36.8</td>\n",
       "      <td>25.7</td>\n",
       "      <td>155</td>\n",
       "      <td>3.0</td>\n",
       "      <td>NaN</td>\n",
       "      <td>61</td>\n",
       "      <td>1010.3</td>\n",
       "    </tr>\n",
       "    <tr>\n",
       "      <th>...</th>\n",
       "      <td>...</td>\n",
       "      <td>...</td>\n",
       "      <td>...</td>\n",
       "      <td>...</td>\n",
       "      <td>...</td>\n",
       "      <td>...</td>\n",
       "      <td>...</td>\n",
       "      <td>...</td>\n",
       "    </tr>\n",
       "    <tr>\n",
       "      <th>303</th>\n",
       "      <td>NaN</td>\n",
       "      <td>40.7</td>\n",
       "      <td>29.4</td>\n",
       "      <td>270</td>\n",
       "      <td>1.5</td>\n",
       "      <td>47.4</td>\n",
       "      <td>48</td>\n",
       "      <td>1003.3</td>\n",
       "    </tr>\n",
       "    <tr>\n",
       "      <th>304</th>\n",
       "      <td>NaN</td>\n",
       "      <td>37.7</td>\n",
       "      <td>27.2</td>\n",
       "      <td>240</td>\n",
       "      <td>2.1</td>\n",
       "      <td>52.8</td>\n",
       "      <td>61</td>\n",
       "      <td>1005.7</td>\n",
       "    </tr>\n",
       "    <tr>\n",
       "      <th>305</th>\n",
       "      <td>NaN</td>\n",
       "      <td>33.8</td>\n",
       "      <td>25.4</td>\n",
       "      <td>230</td>\n",
       "      <td>1.9</td>\n",
       "      <td>52.1</td>\n",
       "      <td>72</td>\n",
       "      <td>1008.3</td>\n",
       "    </tr>\n",
       "    <tr>\n",
       "      <th>306</th>\n",
       "      <td>NaN</td>\n",
       "      <td>31.5</td>\n",
       "      <td>24.2</td>\n",
       "      <td>220</td>\n",
       "      <td>1.9</td>\n",
       "      <td>46.4</td>\n",
       "      <td>79</td>\n",
       "      <td>1010.0</td>\n",
       "    </tr>\n",
       "    <tr>\n",
       "      <th>307</th>\n",
       "      <td>NaN</td>\n",
       "      <td>31.8</td>\n",
       "      <td>24.4</td>\n",
       "      <td>270</td>\n",
       "      <td>1.6</td>\n",
       "      <td>42.4</td>\n",
       "      <td>76</td>\n",
       "      <td>1009.6</td>\n",
       "    </tr>\n",
       "  </tbody>\n",
       "</table>\n",
       "<p>308 rows × 8 columns</p>\n",
       "</div>"
      ],
      "text/plain": [
       "       DATE  MAXIMUM-TEMPERATURE  MINIMUM-TEMPERATURE  WIND-DIRECTION  \\\n",
       "0    Jan-95                 33.3                 16.4              73   \n",
       "1    Feb-95                 35.9                 18.6             123   \n",
       "2    Mar-95                 40.5                 25.0             191   \n",
       "3    Apr-95                 40.1                 27.2             196   \n",
       "4    May-95                 36.8                 25.7             155   \n",
       "..      ...                  ...                  ...             ...   \n",
       "303     NaN                 40.7                 29.4             270   \n",
       "304     NaN                 37.7                 27.2             240   \n",
       "305     NaN                 33.8                 25.4             230   \n",
       "306     NaN                 31.5                 24.2             220   \n",
       "307     NaN                 31.8                 24.4             270   \n",
       "\n",
       "     WIND-SPEED  WIND-RUN  RELATIVE-HUMIDITY  AIR-PRESSURE  \n",
       "0           2.0       NaN                 27        1014.5  \n",
       "1           3.0       NaN                 23        1013.7  \n",
       "2           3.0       NaN                 32        1009.1  \n",
       "3           4.0       NaN                 43        1010.5  \n",
       "4           3.0       NaN                 61        1010.3  \n",
       "..          ...       ...                ...           ...  \n",
       "303         1.5      47.4                 48        1003.3  \n",
       "304         2.1      52.8                 61        1005.7  \n",
       "305         1.9      52.1                 72        1008.3  \n",
       "306         1.9      46.4                 79        1010.0  \n",
       "307         1.6      42.4                 76        1009.6  \n",
       "\n",
       "[308 rows x 8 columns]"
      ]
     },
     "execution_count": 85,
     "metadata": {},
     "output_type": "execute_result"
    }
   ],
   "source": [
    "true_values = dataset['WIND-DIRECTION']\n",
    "dataset.head(-10)"
   ]
  },
  {
   "cell_type": "markdown",
   "id": "653dc3f5",
   "metadata": {},
   "source": [
    "### dataset characteristics"
   ]
  },
  {
   "cell_type": "code",
   "execution_count": 86,
   "id": "9259209e",
   "metadata": {
    "scrolled": true
   },
   "outputs": [
    {
     "data": {
      "text/html": [
       "<div>\n",
       "<style scoped>\n",
       "    .dataframe tbody tr th:only-of-type {\n",
       "        vertical-align: middle;\n",
       "    }\n",
       "\n",
       "    .dataframe tbody tr th {\n",
       "        vertical-align: top;\n",
       "    }\n",
       "\n",
       "    .dataframe thead th {\n",
       "        text-align: right;\n",
       "    }\n",
       "</style>\n",
       "<table border=\"1\" class=\"dataframe\">\n",
       "  <thead>\n",
       "    <tr style=\"text-align: right;\">\n",
       "      <th></th>\n",
       "      <th>MAXIMUM-TEMPERATURE</th>\n",
       "      <th>MINIMUM-TEMPERATURE</th>\n",
       "      <th>WIND-DIRECTION</th>\n",
       "      <th>WIND-SPEED</th>\n",
       "      <th>WIND-RUN</th>\n",
       "      <th>RELATIVE-HUMIDITY</th>\n",
       "      <th>AIR-PRESSURE</th>\n",
       "    </tr>\n",
       "  </thead>\n",
       "  <tbody>\n",
       "    <tr>\n",
       "      <th>count</th>\n",
       "      <td>318.000000</td>\n",
       "      <td>318.000000</td>\n",
       "      <td>318.000000</td>\n",
       "      <td>318.000000</td>\n",
       "      <td>66.000000</td>\n",
       "      <td>318.000000</td>\n",
       "      <td>318.000000</td>\n",
       "    </tr>\n",
       "    <tr>\n",
       "      <th>mean</th>\n",
       "      <td>35.168868</td>\n",
       "      <td>23.039937</td>\n",
       "      <td>165.679245</td>\n",
       "      <td>3.449686</td>\n",
       "      <td>48.207576</td>\n",
       "      <td>53.556604</td>\n",
       "      <td>1011.990566</td>\n",
       "    </tr>\n",
       "    <tr>\n",
       "      <th>std</th>\n",
       "      <td>3.219431</td>\n",
       "      <td>3.183020</td>\n",
       "      <td>54.287681</td>\n",
       "      <td>1.456645</td>\n",
       "      <td>16.390328</td>\n",
       "      <td>21.502584</td>\n",
       "      <td>3.587883</td>\n",
       "    </tr>\n",
       "    <tr>\n",
       "      <th>min</th>\n",
       "      <td>28.500000</td>\n",
       "      <td>13.900000</td>\n",
       "      <td>58.000000</td>\n",
       "      <td>0.000000</td>\n",
       "      <td>18.900000</td>\n",
       "      <td>11.000000</td>\n",
       "      <td>1002.300000</td>\n",
       "    </tr>\n",
       "    <tr>\n",
       "      <th>25%</th>\n",
       "      <td>32.200000</td>\n",
       "      <td>21.000000</td>\n",
       "      <td>120.000000</td>\n",
       "      <td>2.225000</td>\n",
       "      <td>33.300000</td>\n",
       "      <td>32.000000</td>\n",
       "      <td>1010.400000</td>\n",
       "    </tr>\n",
       "    <tr>\n",
       "      <th>50%</th>\n",
       "      <td>35.000000</td>\n",
       "      <td>23.600000</td>\n",
       "      <td>163.500000</td>\n",
       "      <td>3.000000</td>\n",
       "      <td>47.600000</td>\n",
       "      <td>54.000000</td>\n",
       "      <td>1013.200000</td>\n",
       "    </tr>\n",
       "    <tr>\n",
       "      <th>75%</th>\n",
       "      <td>37.300000</td>\n",
       "      <td>25.000000</td>\n",
       "      <td>204.750000</td>\n",
       "      <td>4.000000</td>\n",
       "      <td>61.350000</td>\n",
       "      <td>75.000000</td>\n",
       "      <td>1014.300000</td>\n",
       "    </tr>\n",
       "    <tr>\n",
       "      <th>max</th>\n",
       "      <td>41.900000</td>\n",
       "      <td>29.400000</td>\n",
       "      <td>307.000000</td>\n",
       "      <td>12.000000</td>\n",
       "      <td>98.300000</td>\n",
       "      <td>85.000000</td>\n",
       "      <td>1036.000000</td>\n",
       "    </tr>\n",
       "  </tbody>\n",
       "</table>\n",
       "</div>"
      ],
      "text/plain": [
       "       MAXIMUM-TEMPERATURE  MINIMUM-TEMPERATURE  WIND-DIRECTION  WIND-SPEED  \\\n",
       "count           318.000000           318.000000      318.000000  318.000000   \n",
       "mean             35.168868            23.039937      165.679245    3.449686   \n",
       "std               3.219431             3.183020       54.287681    1.456645   \n",
       "min              28.500000            13.900000       58.000000    0.000000   \n",
       "25%              32.200000            21.000000      120.000000    2.225000   \n",
       "50%              35.000000            23.600000      163.500000    3.000000   \n",
       "75%              37.300000            25.000000      204.750000    4.000000   \n",
       "max              41.900000            29.400000      307.000000   12.000000   \n",
       "\n",
       "        WIND-RUN  RELATIVE-HUMIDITY  AIR-PRESSURE  \n",
       "count  66.000000         318.000000    318.000000  \n",
       "mean   48.207576          53.556604   1011.990566  \n",
       "std    16.390328          21.502584      3.587883  \n",
       "min    18.900000          11.000000   1002.300000  \n",
       "25%    33.300000          32.000000   1010.400000  \n",
       "50%    47.600000          54.000000   1013.200000  \n",
       "75%    61.350000          75.000000   1014.300000  \n",
       "max    98.300000          85.000000   1036.000000  "
      ]
     },
     "execution_count": 86,
     "metadata": {},
     "output_type": "execute_result"
    }
   ],
   "source": [
    "\n",
    "dataset.describe()"
   ]
  },
  {
   "cell_type": "markdown",
   "id": "08ce4100",
   "metadata": {},
   "source": [
    "### Check for null and NaN values"
   ]
  },
  {
   "cell_type": "code",
   "execution_count": 87,
   "id": "24bba101",
   "metadata": {},
   "outputs": [
    {
     "data": {
      "text/plain": [
       "DATE                   113\n",
       "MAXIMUM-TEMPERATURE      0\n",
       "MINIMUM-TEMPERATURE      0\n",
       "WIND-DIRECTION           0\n",
       "WIND-SPEED               0\n",
       "WIND-RUN               252\n",
       "RELATIVE-HUMIDITY        0\n",
       "AIR-PRESSURE             0\n",
       "dtype: int64"
      ]
     },
     "execution_count": 87,
     "metadata": {},
     "output_type": "execute_result"
    }
   ],
   "source": [
    "\n",
    "dataset.isna().sum()"
   ]
  },
  {
   "cell_type": "code",
   "execution_count": 88,
   "id": "081c2667",
   "metadata": {},
   "outputs": [],
   "source": [
    "median =dataset['WIND-RUN'].median()\n",
    "median\n",
    "dataset[\"WIND-RUN\"].fillna(median, inplace=True)"
   ]
  },
  {
   "cell_type": "markdown",
   "id": "27a01151",
   "metadata": {},
   "source": [
    "### copy dataset"
   ]
  },
  {
   "cell_type": "code",
   "execution_count": 89,
   "id": "9e6fb94d",
   "metadata": {},
   "outputs": [
    {
     "data": {
      "text/html": [
       "<div>\n",
       "<style scoped>\n",
       "    .dataframe tbody tr th:only-of-type {\n",
       "        vertical-align: middle;\n",
       "    }\n",
       "\n",
       "    .dataframe tbody tr th {\n",
       "        vertical-align: top;\n",
       "    }\n",
       "\n",
       "    .dataframe thead th {\n",
       "        text-align: right;\n",
       "    }\n",
       "</style>\n",
       "<table border=\"1\" class=\"dataframe\">\n",
       "  <thead>\n",
       "    <tr style=\"text-align: right;\">\n",
       "      <th></th>\n",
       "      <th>DATE</th>\n",
       "      <th>MAXIMUM-TEMPERATURE</th>\n",
       "      <th>MINIMUM-TEMPERATURE</th>\n",
       "      <th>WIND-DIRECTION</th>\n",
       "      <th>WIND-SPEED</th>\n",
       "      <th>WIND-RUN</th>\n",
       "      <th>RELATIVE-HUMIDITY</th>\n",
       "      <th>AIR-PRESSURE</th>\n",
       "    </tr>\n",
       "  </thead>\n",
       "  <tbody>\n",
       "    <tr>\n",
       "      <th>0</th>\n",
       "      <td>Jan-95</td>\n",
       "      <td>33.3</td>\n",
       "      <td>16.4</td>\n",
       "      <td>73</td>\n",
       "      <td>2.0</td>\n",
       "      <td>47.6</td>\n",
       "      <td>27</td>\n",
       "      <td>1014.5</td>\n",
       "    </tr>\n",
       "    <tr>\n",
       "      <th>1</th>\n",
       "      <td>Feb-95</td>\n",
       "      <td>35.9</td>\n",
       "      <td>18.6</td>\n",
       "      <td>123</td>\n",
       "      <td>3.0</td>\n",
       "      <td>47.6</td>\n",
       "      <td>23</td>\n",
       "      <td>1013.7</td>\n",
       "    </tr>\n",
       "    <tr>\n",
       "      <th>2</th>\n",
       "      <td>Mar-95</td>\n",
       "      <td>40.5</td>\n",
       "      <td>25.0</td>\n",
       "      <td>191</td>\n",
       "      <td>3.0</td>\n",
       "      <td>47.6</td>\n",
       "      <td>32</td>\n",
       "      <td>1009.1</td>\n",
       "    </tr>\n",
       "    <tr>\n",
       "      <th>3</th>\n",
       "      <td>Apr-95</td>\n",
       "      <td>40.1</td>\n",
       "      <td>27.2</td>\n",
       "      <td>196</td>\n",
       "      <td>4.0</td>\n",
       "      <td>47.6</td>\n",
       "      <td>43</td>\n",
       "      <td>1010.5</td>\n",
       "    </tr>\n",
       "    <tr>\n",
       "      <th>4</th>\n",
       "      <td>May-95</td>\n",
       "      <td>36.8</td>\n",
       "      <td>25.7</td>\n",
       "      <td>155</td>\n",
       "      <td>3.0</td>\n",
       "      <td>47.6</td>\n",
       "      <td>61</td>\n",
       "      <td>1010.3</td>\n",
       "    </tr>\n",
       "    <tr>\n",
       "      <th>...</th>\n",
       "      <td>...</td>\n",
       "      <td>...</td>\n",
       "      <td>...</td>\n",
       "      <td>...</td>\n",
       "      <td>...</td>\n",
       "      <td>...</td>\n",
       "      <td>...</td>\n",
       "      <td>...</td>\n",
       "    </tr>\n",
       "    <tr>\n",
       "      <th>303</th>\n",
       "      <td>NaN</td>\n",
       "      <td>40.7</td>\n",
       "      <td>29.4</td>\n",
       "      <td>270</td>\n",
       "      <td>1.5</td>\n",
       "      <td>47.4</td>\n",
       "      <td>48</td>\n",
       "      <td>1003.3</td>\n",
       "    </tr>\n",
       "    <tr>\n",
       "      <th>304</th>\n",
       "      <td>NaN</td>\n",
       "      <td>37.7</td>\n",
       "      <td>27.2</td>\n",
       "      <td>240</td>\n",
       "      <td>2.1</td>\n",
       "      <td>52.8</td>\n",
       "      <td>61</td>\n",
       "      <td>1005.7</td>\n",
       "    </tr>\n",
       "    <tr>\n",
       "      <th>305</th>\n",
       "      <td>NaN</td>\n",
       "      <td>33.8</td>\n",
       "      <td>25.4</td>\n",
       "      <td>230</td>\n",
       "      <td>1.9</td>\n",
       "      <td>52.1</td>\n",
       "      <td>72</td>\n",
       "      <td>1008.3</td>\n",
       "    </tr>\n",
       "    <tr>\n",
       "      <th>306</th>\n",
       "      <td>NaN</td>\n",
       "      <td>31.5</td>\n",
       "      <td>24.2</td>\n",
       "      <td>220</td>\n",
       "      <td>1.9</td>\n",
       "      <td>46.4</td>\n",
       "      <td>79</td>\n",
       "      <td>1010.0</td>\n",
       "    </tr>\n",
       "    <tr>\n",
       "      <th>307</th>\n",
       "      <td>NaN</td>\n",
       "      <td>31.8</td>\n",
       "      <td>24.4</td>\n",
       "      <td>270</td>\n",
       "      <td>1.6</td>\n",
       "      <td>42.4</td>\n",
       "      <td>76</td>\n",
       "      <td>1009.6</td>\n",
       "    </tr>\n",
       "  </tbody>\n",
       "</table>\n",
       "<p>308 rows × 8 columns</p>\n",
       "</div>"
      ],
      "text/plain": [
       "       DATE  MAXIMUM-TEMPERATURE  MINIMUM-TEMPERATURE  WIND-DIRECTION  \\\n",
       "0    Jan-95                 33.3                 16.4              73   \n",
       "1    Feb-95                 35.9                 18.6             123   \n",
       "2    Mar-95                 40.5                 25.0             191   \n",
       "3    Apr-95                 40.1                 27.2             196   \n",
       "4    May-95                 36.8                 25.7             155   \n",
       "..      ...                  ...                  ...             ...   \n",
       "303     NaN                 40.7                 29.4             270   \n",
       "304     NaN                 37.7                 27.2             240   \n",
       "305     NaN                 33.8                 25.4             230   \n",
       "306     NaN                 31.5                 24.2             220   \n",
       "307     NaN                 31.8                 24.4             270   \n",
       "\n",
       "     WIND-SPEED  WIND-RUN  RELATIVE-HUMIDITY  AIR-PRESSURE  \n",
       "0           2.0      47.6                 27        1014.5  \n",
       "1           3.0      47.6                 23        1013.7  \n",
       "2           3.0      47.6                 32        1009.1  \n",
       "3           4.0      47.6                 43        1010.5  \n",
       "4           3.0      47.6                 61        1010.3  \n",
       "..          ...       ...                ...           ...  \n",
       "303         1.5      47.4                 48        1003.3  \n",
       "304         2.1      52.8                 61        1005.7  \n",
       "305         1.9      52.1                 72        1008.3  \n",
       "306         1.9      46.4                 79        1010.0  \n",
       "307         1.6      42.4                 76        1009.6  \n",
       "\n",
       "[308 rows x 8 columns]"
      ]
     },
     "execution_count": 89,
     "metadata": {},
     "output_type": "execute_result"
    }
   ],
   "source": [
    "dataset.head(-10)"
   ]
  },
  {
   "cell_type": "code",
   "execution_count": 90,
   "id": "54259a0e",
   "metadata": {},
   "outputs": [],
   "source": [
    "\n",
    "df = dataset[:]"
   ]
  },
  {
   "cell_type": "markdown",
   "id": "6de953ce",
   "metadata": {},
   "source": [
    "### remove the date column"
   ]
  },
  {
   "cell_type": "code",
   "execution_count": 91,
   "id": "f8fb6f78",
   "metadata": {},
   "outputs": [],
   "source": [
    "\n",
    "del df['DATE']"
   ]
  },
  {
   "cell_type": "code",
   "execution_count": 92,
   "id": "c34b6014",
   "metadata": {},
   "outputs": [
    {
     "data": {
      "text/html": [
       "<div>\n",
       "<style scoped>\n",
       "    .dataframe tbody tr th:only-of-type {\n",
       "        vertical-align: middle;\n",
       "    }\n",
       "\n",
       "    .dataframe tbody tr th {\n",
       "        vertical-align: top;\n",
       "    }\n",
       "\n",
       "    .dataframe thead th {\n",
       "        text-align: right;\n",
       "    }\n",
       "</style>\n",
       "<table border=\"1\" class=\"dataframe\">\n",
       "  <thead>\n",
       "    <tr style=\"text-align: right;\">\n",
       "      <th></th>\n",
       "      <th>MAXIMUM-TEMPERATURE</th>\n",
       "      <th>MINIMUM-TEMPERATURE</th>\n",
       "      <th>WIND-DIRECTION</th>\n",
       "      <th>WIND-SPEED</th>\n",
       "      <th>WIND-RUN</th>\n",
       "      <th>RELATIVE-HUMIDITY</th>\n",
       "      <th>AIR-PRESSURE</th>\n",
       "    </tr>\n",
       "  </thead>\n",
       "  <tbody>\n",
       "    <tr>\n",
       "      <th>0</th>\n",
       "      <td>33.3</td>\n",
       "      <td>16.4</td>\n",
       "      <td>73</td>\n",
       "      <td>2.0</td>\n",
       "      <td>47.6</td>\n",
       "      <td>27</td>\n",
       "      <td>1014.5</td>\n",
       "    </tr>\n",
       "    <tr>\n",
       "      <th>1</th>\n",
       "      <td>35.9</td>\n",
       "      <td>18.6</td>\n",
       "      <td>123</td>\n",
       "      <td>3.0</td>\n",
       "      <td>47.6</td>\n",
       "      <td>23</td>\n",
       "      <td>1013.7</td>\n",
       "    </tr>\n",
       "    <tr>\n",
       "      <th>2</th>\n",
       "      <td>40.5</td>\n",
       "      <td>25.0</td>\n",
       "      <td>191</td>\n",
       "      <td>3.0</td>\n",
       "      <td>47.6</td>\n",
       "      <td>32</td>\n",
       "      <td>1009.1</td>\n",
       "    </tr>\n",
       "    <tr>\n",
       "      <th>3</th>\n",
       "      <td>40.1</td>\n",
       "      <td>27.2</td>\n",
       "      <td>196</td>\n",
       "      <td>4.0</td>\n",
       "      <td>47.6</td>\n",
       "      <td>43</td>\n",
       "      <td>1010.5</td>\n",
       "    </tr>\n",
       "    <tr>\n",
       "      <th>4</th>\n",
       "      <td>36.8</td>\n",
       "      <td>25.7</td>\n",
       "      <td>155</td>\n",
       "      <td>3.0</td>\n",
       "      <td>47.6</td>\n",
       "      <td>61</td>\n",
       "      <td>1010.3</td>\n",
       "    </tr>\n",
       "    <tr>\n",
       "      <th>...</th>\n",
       "      <td>...</td>\n",
       "      <td>...</td>\n",
       "      <td>...</td>\n",
       "      <td>...</td>\n",
       "      <td>...</td>\n",
       "      <td>...</td>\n",
       "      <td>...</td>\n",
       "    </tr>\n",
       "    <tr>\n",
       "      <th>313</th>\n",
       "      <td>36.0</td>\n",
       "      <td>22.4</td>\n",
       "      <td>170</td>\n",
       "      <td>3.4</td>\n",
       "      <td>63.7</td>\n",
       "      <td>26</td>\n",
       "      <td>1006.9</td>\n",
       "    </tr>\n",
       "    <tr>\n",
       "      <th>314</th>\n",
       "      <td>39.7</td>\n",
       "      <td>26.1</td>\n",
       "      <td>220</td>\n",
       "      <td>2.1</td>\n",
       "      <td>73.7</td>\n",
       "      <td>35</td>\n",
       "      <td>1005.6</td>\n",
       "    </tr>\n",
       "    <tr>\n",
       "      <th>315</th>\n",
       "      <td>39.7</td>\n",
       "      <td>28.8</td>\n",
       "      <td>200</td>\n",
       "      <td>4.6</td>\n",
       "      <td>84.2</td>\n",
       "      <td>65</td>\n",
       "      <td>1002.6</td>\n",
       "    </tr>\n",
       "    <tr>\n",
       "      <th>316</th>\n",
       "      <td>35.6</td>\n",
       "      <td>25.3</td>\n",
       "      <td>130</td>\n",
       "      <td>2.6</td>\n",
       "      <td>98.3</td>\n",
       "      <td>75</td>\n",
       "      <td>1005.4</td>\n",
       "    </tr>\n",
       "    <tr>\n",
       "      <th>317</th>\n",
       "      <td>32.8</td>\n",
       "      <td>23.8</td>\n",
       "      <td>160</td>\n",
       "      <td>3.6</td>\n",
       "      <td>18.9</td>\n",
       "      <td>77</td>\n",
       "      <td>1007.6</td>\n",
       "    </tr>\n",
       "  </tbody>\n",
       "</table>\n",
       "<p>318 rows × 7 columns</p>\n",
       "</div>"
      ],
      "text/plain": [
       "     MAXIMUM-TEMPERATURE  MINIMUM-TEMPERATURE  WIND-DIRECTION  WIND-SPEED  \\\n",
       "0                   33.3                 16.4              73         2.0   \n",
       "1                   35.9                 18.6             123         3.0   \n",
       "2                   40.5                 25.0             191         3.0   \n",
       "3                   40.1                 27.2             196         4.0   \n",
       "4                   36.8                 25.7             155         3.0   \n",
       "..                   ...                  ...             ...         ...   \n",
       "313                 36.0                 22.4             170         3.4   \n",
       "314                 39.7                 26.1             220         2.1   \n",
       "315                 39.7                 28.8             200         4.6   \n",
       "316                 35.6                 25.3             130         2.6   \n",
       "317                 32.8                 23.8             160         3.6   \n",
       "\n",
       "     WIND-RUN  RELATIVE-HUMIDITY  AIR-PRESSURE  \n",
       "0        47.6                 27        1014.5  \n",
       "1        47.6                 23        1013.7  \n",
       "2        47.6                 32        1009.1  \n",
       "3        47.6                 43        1010.5  \n",
       "4        47.6                 61        1010.3  \n",
       "..        ...                ...           ...  \n",
       "313      63.7                 26        1006.9  \n",
       "314      73.7                 35        1005.6  \n",
       "315      84.2                 65        1002.6  \n",
       "316      98.3                 75        1005.4  \n",
       "317      18.9                 77        1007.6  \n",
       "\n",
       "[318 rows x 7 columns]"
      ]
     },
     "execution_count": 92,
     "metadata": {},
     "output_type": "execute_result"
    }
   ],
   "source": [
    "df"
   ]
  },
  {
   "cell_type": "code",
   "execution_count": 93,
   "id": "40a1385f",
   "metadata": {},
   "outputs": [
    {
     "name": "stdout",
     "output_type": "stream",
     "text": [
      "Number of rows/example and columns in the dataset: (318, 7)\n"
     ]
    }
   ],
   "source": [
    "print(f'Number of rows/example and columns in the dataset: {df.shape}')"
   ]
  },
  {
   "cell_type": "markdown",
   "id": "d39cd5d8",
   "metadata": {},
   "source": [
    "### Summary of information on the dataset."
   ]
  },
  {
   "cell_type": "code",
   "execution_count": 94,
   "id": "c577548b",
   "metadata": {},
   "outputs": [
    {
     "name": "stdout",
     "output_type": "stream",
     "text": [
      "<class 'pandas.core.frame.DataFrame'>\n",
      "RangeIndex: 318 entries, 0 to 317\n",
      "Data columns (total 7 columns):\n",
      " #   Column               Non-Null Count  Dtype  \n",
      "---  ------               --------------  -----  \n",
      " 0   MAXIMUM-TEMPERATURE  318 non-null    float64\n",
      " 1   MINIMUM-TEMPERATURE  318 non-null    float64\n",
      " 2   WIND-DIRECTION       318 non-null    int64  \n",
      " 3   WIND-SPEED           318 non-null    float64\n",
      " 4   WIND-RUN             318 non-null    float64\n",
      " 5   RELATIVE-HUMIDITY    318 non-null    int64  \n",
      " 6   AIR-PRESSURE         318 non-null    float64\n",
      "dtypes: float64(5), int64(2)\n",
      "memory usage: 17.5 KB\n"
     ]
    }
   ],
   "source": [
    "\n",
    "df.info()"
   ]
  },
  {
   "cell_type": "markdown",
   "id": "11194c45",
   "metadata": {},
   "source": [
    "### Split the data into train/test splits"
   ]
  },
  {
   "cell_type": "markdown",
   "id": "339fc7fa",
   "metadata": {},
   "source": [
    "#### Split the data into 60% train and 40% test (later will divide the test to test and validate)"
   ]
  },
  {
   "cell_type": "code",
   "execution_count": 95,
   "id": "46825662",
   "metadata": {},
   "outputs": [
    {
     "name": "stdout",
     "output_type": "stream",
     "text": [
      "(190, 7)\n",
      "(128, 7)\n"
     ]
    }
   ],
   "source": [
    "\n",
    "train_dataset, temp_test_dataset = train_test_split(df, test_size=0.4)\n",
    "\n",
    "print( train_dataset.shape)\n",
    "print( temp_test_dataset.shape)"
   ]
  },
  {
   "cell_type": "markdown",
   "id": "c4de9fc9",
   "metadata": {},
   "source": [
    "### Split the test_dataset dataframe to 50% test and 50% validation."
   ]
  },
  {
   "cell_type": "code",
   "execution_count": 96,
   "id": "1da13eb0",
   "metadata": {},
   "outputs": [
    {
     "name": "stdout",
     "output_type": "stream",
     "text": [
      "(64, 7)\n",
      "(64, 7)\n"
     ]
    }
   ],
   "source": [
    "\n",
    "test_dataset, valid_dataset = train_test_split(temp_test_dataset, test_size=0.5)\n",
    "print(test_dataset.shape)\n",
    "print(valid_dataset.shape)"
   ]
  },
  {
   "cell_type": "code",
   "execution_count": 97,
   "id": "7c5a2b6d",
   "metadata": {},
   "outputs": [
    {
     "name": "stdout",
     "output_type": "stream",
     "text": [
      "Display the datatype of the test_dataset: <class 'pandas.core.frame.DataFrame'>\n",
      "Train dataset      : (190, 7)\n",
      "Test dataset       : (64, 7)\n",
      "Validation dataset : (64, 7)\n"
     ]
    }
   ],
   "source": [
    "print(f\"Display the datatype of the test_dataset: {type(test_dataset)}\")\n",
    "print(f\"Train dataset      : {train_dataset.shape}\")\n",
    "print(f\"Test dataset       : {test_dataset.shape}\")\n",
    "print(f\"Validation dataset : {valid_dataset.shape}\")"
   ]
  },
  {
   "cell_type": "markdown",
   "id": "7ea98bc3",
   "metadata": {},
   "source": [
    "## Plot the relationship between each two variables to spot anything incorrect."
   ]
  },
  {
   "cell_type": "code",
   "execution_count": 98,
   "id": "08975b87",
   "metadata": {},
   "outputs": [
    {
     "data": {
      "text/plain": [
       "<seaborn.axisgrid.PairGrid at 0x171b5f25f70>"
      ]
     },
     "execution_count": 98,
     "metadata": {},
     "output_type": "execute_result"
    },
    {
     "data": {
      "image/png": "[encoded data removed]",
      "text/plain": [
       "<Figure size 1080x1080 with 42 Axes>"
      ]
     },
     "metadata": {
      "needs_background": "light"
     },
     "output_type": "display_data"
    }
   ],
   "source": [
    "\n",
    "train_stats = train_dataset.describe()\n",
    "train_stats.pop(\"WIND-DIRECTION\")\n",
    "sns.pairplot(train_stats[train_stats.columns], diag_kind=\"kde\") # or diag_kind='reg'"
   ]
  },
  {
   "cell_type": "markdown",
   "id": "d2403de2",
   "metadata": {},
   "source": [
    "### Statistics on the train dataset to make sure it in a good shape"
   ]
  },
  {
   "cell_type": "code",
   "execution_count": 99,
   "id": "4fd48f24",
   "metadata": {},
   "outputs": [
    {
     "data": {
      "text/plain": [
       "count    190.000000\n",
       "mean     168.447368\n",
       "std       52.876565\n",
       "min       66.000000\n",
       "25%      122.250000\n",
       "50%      170.000000\n",
       "75%      208.000000\n",
       "max      272.000000\n",
       "Name: WIND-DIRECTION, dtype: float64"
      ]
     },
     "execution_count": 99,
     "metadata": {},
     "output_type": "execute_result"
    }
   ],
   "source": [
    "\n",
    "train_stats = train_dataset.describe()\n",
    "wind_direction=train_stats.pop(\"WIND-DIRECTION\")\n",
    "train_stats = train_stats.transpose()\n",
    "#train_stats\n",
    "wind_direction"
   ]
  },
  {
   "cell_type": "markdown",
   "id": "96bdbcc9",
   "metadata": {},
   "source": [
    "## The label is \"WIND-SPEED\""
   ]
  },
  {
   "cell_type": "code",
   "execution_count": 100,
   "id": "172a0253",
   "metadata": {},
   "outputs": [],
   "source": [
    "train_labels = train_dataset.pop('WIND-SPEED')\n",
    "test_labels = test_dataset.pop('WIND-SPEED')\n",
    "valid_labels = valid_dataset.pop('WIND-SPEED')"
   ]
  },
  {
   "cell_type": "markdown",
   "id": "8f526c2f",
   "metadata": {},
   "source": [
    "## Data Normalization/Scaling"
   ]
  },
  {
   "cell_type": "markdown",
   "id": "4b90d77e",
   "metadata": {},
   "source": [
    "## Subtract the mean of the training data and divide by the standard deviation"
   ]
  },
  {
   "cell_type": "markdown",
   "id": "d1f7c8cc",
   "metadata": {},
   "source": [
    "### define a function to normalize the data set."
   ]
  },
  {
   "cell_type": "code",
   "execution_count": 101,
   "id": "5c2999c8",
   "metadata": {},
   "outputs": [
    {
     "name": "stderr",
     "output_type": "stream",
     "text": [
      "c:\\users\\hp\\appdata\\local\\programs\\python\\python39\\lib\\site-packages\\pandas\\core\\frame.py:3607: SettingWithCopyWarning: \n",
      "A value is trying to be set on a copy of a slice from a DataFrame.\n",
      "Try using .loc[row_indexer,col_indexer] = value instead\n",
      "\n",
      "See the caveats in the documentation: https://pandas.pydata.org/pandas-docs/stable/user_guide/indexing.html#returning-a-view-versus-a-copy\n",
      "  self._set_item(key, value)\n",
      "c:\\users\\hp\\appdata\\local\\programs\\python\\python39\\lib\\site-packages\\pandas\\core\\frame.py:3607: SettingWithCopyWarning: \n",
      "A value is trying to be set on a copy of a slice from a DataFrame.\n",
      "Try using .loc[row_indexer,col_indexer] = value instead\n",
      "\n",
      "See the caveats in the documentation: https://pandas.pydata.org/pandas-docs/stable/user_guide/indexing.html#returning-a-view-versus-a-copy\n",
      "  self._set_item(key, value)\n",
      "c:\\users\\hp\\appdata\\local\\programs\\python\\python39\\lib\\site-packages\\pandas\\core\\frame.py:3607: SettingWithCopyWarning: \n",
      "A value is trying to be set on a copy of a slice from a DataFrame.\n",
      "Try using .loc[row_indexer,col_indexer] = value instead\n",
      "\n",
      "See the caveats in the documentation: https://pandas.pydata.org/pandas-docs/stable/user_guide/indexing.html#returning-a-view-versus-a-copy\n",
      "  self._set_item(key, value)\n"
     ]
    }
   ],
   "source": [
    "\n",
    "\n",
    "from sklearn.preprocessing import MinMaxScaler\n",
    "\n",
    "def norm(x):\n",
    "    cols_to_scale= ['MAXIMUM-TEMPERATURE','MINIMUM-TEMPERATURE','WIND-DIRECTION','RELATIVE-HUMIDITY','WIND-RUN','AIR-PRESSURE']\n",
    "    scaler = MinMaxScaler()\n",
    "    x[cols_to_scale] = scaler.fit_transform(x[cols_to_scale])\n",
    "    return x\n",
    "      #return (x - train_stats['mean'] / train_stats['std'])\n",
    "normed_train_data = norm(train_dataset)\n",
    "normed_test_data = norm(test_dataset)\n",
    "normed_valid_dataset = norm(valid_dataset)"
   ]
  },
  {
   "cell_type": "code",
   "execution_count": 102,
   "id": "99197d5f",
   "metadata": {},
   "outputs": [
    {
     "name": "stdout",
     "output_type": "stream",
     "text": [
      "Train/Test/Validate splits: \n",
      "Train       : (190, 6) \n",
      "Test        : (64, 6) \n",
      "Validate    : (64, 6) \n",
      "Train/Test/Validate labels: \n",
      "Train Labels : (190,)\n",
      "Test Labels  : (64,)\n",
      "Test Labels  : (64,)\n"
     ]
    }
   ],
   "source": [
    "print(f'Train/Test/Validate splits: ')\n",
    "print(f'Train       : {normed_train_data.shape} ')\n",
    "print(f'Test        : {normed_test_data.shape} ')\n",
    "print(f'Validate    : {normed_valid_dataset.shape} ')\n",
    "\n",
    "print(f'Train/Test/Validate labels: ')\n",
    "print(f'Train Labels : {train_labels.shape}')\n",
    "print(f'Test Labels  : {test_labels.shape}')\n",
    "print(f'Test Labels  : {valid_labels.shape}')"
   ]
  },
  {
   "cell_type": "markdown",
   "id": "4ac918f4",
   "metadata": {},
   "source": [
    "## show a sample of the data after normalized"
   ]
  },
  {
   "cell_type": "code",
   "execution_count": 103,
   "id": "6762edde",
   "metadata": {},
   "outputs": [
    {
     "data": {
      "text/html": [
       "<div>\n",
       "<style scoped>\n",
       "    .dataframe tbody tr th:only-of-type {\n",
       "        vertical-align: middle;\n",
       "    }\n",
       "\n",
       "    .dataframe tbody tr th {\n",
       "        vertical-align: top;\n",
       "    }\n",
       "\n",
       "    .dataframe thead th {\n",
       "        text-align: right;\n",
       "    }\n",
       "</style>\n",
       "<table border=\"1\" class=\"dataframe\">\n",
       "  <thead>\n",
       "    <tr style=\"text-align: right;\">\n",
       "      <th></th>\n",
       "      <th>MAXIMUM-TEMPERATURE</th>\n",
       "      <th>MINIMUM-TEMPERATURE</th>\n",
       "      <th>WIND-DIRECTION</th>\n",
       "      <th>WIND-RUN</th>\n",
       "      <th>RELATIVE-HUMIDITY</th>\n",
       "      <th>AIR-PRESSURE</th>\n",
       "    </tr>\n",
       "  </thead>\n",
       "  <tbody>\n",
       "    <tr>\n",
       "      <th>173</th>\n",
       "      <td>0.302521</td>\n",
       "      <td>0.701987</td>\n",
       "      <td>0.543689</td>\n",
       "      <td>0.494033</td>\n",
       "      <td>0.846154</td>\n",
       "      <td>0.850000</td>\n",
       "    </tr>\n",
       "    <tr>\n",
       "      <th>147</th>\n",
       "      <td>0.873950</td>\n",
       "      <td>0.953642</td>\n",
       "      <td>0.490291</td>\n",
       "      <td>0.494033</td>\n",
       "      <td>0.507692</td>\n",
       "      <td>0.635714</td>\n",
       "    </tr>\n",
       "    <tr>\n",
       "      <th>264</th>\n",
       "      <td>0.504202</td>\n",
       "      <td>0.403974</td>\n",
       "      <td>0.262136</td>\n",
       "      <td>0.233890</td>\n",
       "      <td>0.153846</td>\n",
       "      <td>0.342857</td>\n",
       "    </tr>\n",
       "    <tr>\n",
       "      <th>113</th>\n",
       "      <td>0.310924</td>\n",
       "      <td>0.668874</td>\n",
       "      <td>0.587379</td>\n",
       "      <td>0.494033</td>\n",
       "      <td>0.923077</td>\n",
       "      <td>0.835714</td>\n",
       "    </tr>\n",
       "    <tr>\n",
       "      <th>107</th>\n",
       "      <td>0.420168</td>\n",
       "      <td>0.231788</td>\n",
       "      <td>0.194175</td>\n",
       "      <td>0.494033</td>\n",
       "      <td>0.369231</td>\n",
       "      <td>0.878571</td>\n",
       "    </tr>\n",
       "    <tr>\n",
       "      <th>277</th>\n",
       "      <td>0.764706</td>\n",
       "      <td>0.682119</td>\n",
       "      <td>0.407767</td>\n",
       "      <td>0.207637</td>\n",
       "      <td>0.046154</td>\n",
       "      <td>0.128571</td>\n",
       "    </tr>\n",
       "    <tr>\n",
       "      <th>293</th>\n",
       "      <td>0.100840</td>\n",
       "      <td>0.443709</td>\n",
       "      <td>0.601942</td>\n",
       "      <td>0.000000</td>\n",
       "      <td>0.615385</td>\n",
       "      <td>0.392857</td>\n",
       "    </tr>\n",
       "    <tr>\n",
       "      <th>238</th>\n",
       "      <td>0.571429</td>\n",
       "      <td>0.496689</td>\n",
       "      <td>0.349515</td>\n",
       "      <td>0.494033</td>\n",
       "      <td>0.261538</td>\n",
       "      <td>0.821429</td>\n",
       "    </tr>\n",
       "    <tr>\n",
       "      <th>230</th>\n",
       "      <td>0.823529</td>\n",
       "      <td>0.827815</td>\n",
       "      <td>0.538835</td>\n",
       "      <td>0.494033</td>\n",
       "      <td>0.107692</td>\n",
       "      <td>0.764286</td>\n",
       "    </tr>\n",
       "    <tr>\n",
       "      <th>179</th>\n",
       "      <td>0.521008</td>\n",
       "      <td>0.198675</td>\n",
       "      <td>0.169903</td>\n",
       "      <td>0.494033</td>\n",
       "      <td>0.338462</td>\n",
       "      <td>0.907143</td>\n",
       "    </tr>\n",
       "  </tbody>\n",
       "</table>\n",
       "</div>"
      ],
      "text/plain": [
       "     MAXIMUM-TEMPERATURE  MINIMUM-TEMPERATURE  WIND-DIRECTION  WIND-RUN  \\\n",
       "173             0.302521             0.701987        0.543689  0.494033   \n",
       "147             0.873950             0.953642        0.490291  0.494033   \n",
       "264             0.504202             0.403974        0.262136  0.233890   \n",
       "113             0.310924             0.668874        0.587379  0.494033   \n",
       "107             0.420168             0.231788        0.194175  0.494033   \n",
       "277             0.764706             0.682119        0.407767  0.207637   \n",
       "293             0.100840             0.443709        0.601942  0.000000   \n",
       "238             0.571429             0.496689        0.349515  0.494033   \n",
       "230             0.823529             0.827815        0.538835  0.494033   \n",
       "179             0.521008             0.198675        0.169903  0.494033   \n",
       "\n",
       "     RELATIVE-HUMIDITY  AIR-PRESSURE  \n",
       "173           0.846154      0.850000  \n",
       "147           0.507692      0.635714  \n",
       "264           0.153846      0.342857  \n",
       "113           0.923077      0.835714  \n",
       "107           0.369231      0.878571  \n",
       "277           0.046154      0.128571  \n",
       "293           0.615385      0.392857  \n",
       "238           0.261538      0.821429  \n",
       "230           0.107692      0.764286  \n",
       "179           0.338462      0.907143  "
      ]
     },
     "execution_count": 103,
     "metadata": {},
     "output_type": "execute_result"
    }
   ],
   "source": [
    "\n",
    "normed_train_data.head(10)"
   ]
  },
  {
   "cell_type": "markdown",
   "id": "1c04c32b",
   "metadata": {},
   "source": [
    "## Build a Neural Network Model"
   ]
  },
  {
   "cell_type": "markdown",
   "id": "79302009",
   "metadata": {},
   "source": [
    "### We declared a function for creating a model."
   ]
  },
  {
   "cell_type": "code",
   "execution_count": 104,
   "id": "3674e846",
   "metadata": {},
   "outputs": [],
   "source": [
    "\n",
    "\n",
    "def model1_single_layer_perceptron():\n",
    "    model = keras.Sequential([\n",
    "       keras.layers.Dense(1,input_shape=(6,)) \n",
    "    ])\n",
    "    model.compile(\n",
    "    optimizer='adam',\n",
    "    loss='mse',\n",
    "    metrics=['mae','mse','mape'])\n",
    "    \n",
    "    return model\n",
    "    \n",
    "        "
   ]
  },
  {
   "cell_type": "code",
   "execution_count": 105,
   "id": "f93294ab",
   "metadata": {},
   "outputs": [
    {
     "name": "stdout",
     "output_type": "stream",
     "text": [
      "Here is a summary of this model: \n",
      "Model: \"sequential_6\"\n",
      "_________________________________________________________________\n",
      "Layer (type)                 Output Shape              Param #   \n",
      "=================================================================\n",
      "dense_20 (Dense)             (None, 1)                 7         \n",
      "=================================================================\n",
      "Total params: 7\n",
      "Trainable params: 7\n",
      "Non-trainable params: 0\n",
      "_________________________________________________________________\n"
     ]
    }
   ],
   "source": [
    "model1 = model1_single_layer_perceptron()\n",
    "print('Here is a summary of this model: ')\n",
    "model1.summary()"
   ]
  },
  {
   "cell_type": "markdown",
   "id": "a6a74daa",
   "metadata": {},
   "source": [
    "## import NN and other components."
   ]
  },
  {
   "cell_type": "code",
   "execution_count": 106,
   "id": "885e59da",
   "metadata": {},
   "outputs": [],
   "source": [
    "\n",
    "from tensorflow.keras.models import Sequential\n",
    "from tensorflow.keras.layers import Activation,Dense,BatchNormalization,Dropout\n",
    "from tensorflow.keras import optimizers"
   ]
  },
  {
   "cell_type": "code",
   "execution_count": 107,
   "id": "784ae5b1",
   "metadata": {},
   "outputs": [],
   "source": [
    "def model2_multilayer_perceptron_with_one_hidden_layer():\n",
    "      model = Sequential()\n",
    "     # The model so far is empty. It can be constructed by adding layers and compilation.\n",
    "     # This Keras model with a single hidden layers.\n",
    "        \n",
    "     # Input Layer with 10 Neurons\n",
    "      model.add(Dense(10, input_shape =(normed_train_data.shape[1],)))\n",
    "      \n",
    "    \n",
    "      model.add(Dropout(0.5))\n",
    "    \n",
    "      model.add(Dense(35, Activation('relu'))) # Hidden layer 1\n",
    "        \n",
    "      model.add(Dropout(0.5))\n",
    "\n",
    "      model.add(Dense(1))  # Output layer => output dimension = 1\n",
    "    \n",
    "      learning_rate = 0.001\n",
    "    \n",
    "      optimizer = optimizers.RMSprop(learning_rate)\n",
    "  \n",
    "      model.compile(loss='mse',optimizer=optimizer, metrics=['mae','mse','mape']) \n",
    "      return model\n"
   ]
  },
  {
   "cell_type": "code",
   "execution_count": 108,
   "id": "f5f0ff51",
   "metadata": {},
   "outputs": [
    {
     "name": "stdout",
     "output_type": "stream",
     "text": [
      "Here is a summary of this model: \n",
      "Model: \"sequential_7\"\n",
      "_________________________________________________________________\n",
      "Layer (type)                 Output Shape              Param #   \n",
      "=================================================================\n",
      "dense_21 (Dense)             (None, 10)                70        \n",
      "_________________________________________________________________\n",
      "dropout (Dropout)            (None, 10)                0         \n",
      "_________________________________________________________________\n",
      "dense_22 (Dense)             (None, 35)                385       \n",
      "_________________________________________________________________\n",
      "dropout_1 (Dropout)          (None, 35)                0         \n",
      "_________________________________________________________________\n",
      "dense_23 (Dense)             (None, 1)                 36        \n",
      "=================================================================\n",
      "Total params: 491\n",
      "Trainable params: 491\n",
      "Non-trainable params: 0\n",
      "_________________________________________________________________\n"
     ]
    }
   ],
   "source": [
    "model2 = model2_multilayer_perceptron_with_one_hidden_layer()\n",
    "print('Here is a summary of this model: ')\n",
    "model2.summary()"
   ]
  },
  {
   "cell_type": "code",
   "execution_count": 109,
   "id": "560d7b5d",
   "metadata": {},
   "outputs": [],
   "source": [
    "def model3_multilayer_perceptron_with_two_hidden_layer():\n",
    "      model = Sequential()\n",
    "     # The model so far is empty. It can be constructed by adding layers and compilation.\n",
    "     # This Keras model with a single hidden layers.\n",
    "        \n",
    "     # Input Layer with 32 Neurons\n",
    "      model.add(Dense(32, input_shape =(normed_train_data.shape[1],)))\n",
    " \n",
    "      model.add(Dense(32, Activation('relu'))) # Hidden layer 1\n",
    "      model.add(Dropout(0.5))\n",
    "        \n",
    "      model.add(Dense(64, Activation('relu'))) # Hidden layer 2\n",
    "    \n",
    "      model.add(Dense(72, Activation('relu'))) # Hidden layer 2\n",
    "        \n",
    "      model.add(Dropout(0.5))\n",
    "\n",
    "      model.add(Dense(80, Activation('relu'))) # Hidden layer 2\n",
    "        \n",
    "      model.add(Dropout(0.5))\n",
    "    \n",
    "      model.add(Dense(1))  # Output layer => output dimension = 1\n",
    "    \n",
    "      learning_rate = 0.001\n",
    "    \n",
    "      optimizer = optimizers.RMSprop(learning_rate)\n",
    "  \n",
    "      model.compile(loss='mse',optimizer=optimizer, metrics=['mae','mse','mape']) \n",
    "      return model"
   ]
  },
  {
   "cell_type": "code",
   "execution_count": 110,
   "id": "36a6f1d8",
   "metadata": {},
   "outputs": [
    {
     "name": "stdout",
     "output_type": "stream",
     "text": [
      "Here is a summary of this model: \n",
      "Model: \"sequential_8\"\n",
      "_________________________________________________________________\n",
      "Layer (type)                 Output Shape              Param #   \n",
      "=================================================================\n",
      "dense_24 (Dense)             (None, 32)                224       \n",
      "_________________________________________________________________\n",
      "dense_25 (Dense)             (None, 32)                1056      \n",
      "_________________________________________________________________\n",
      "dropout_2 (Dropout)          (None, 32)                0         \n",
      "_________________________________________________________________\n",
      "dense_26 (Dense)             (None, 64)                2112      \n",
      "_________________________________________________________________\n",
      "dense_27 (Dense)             (None, 72)                4680      \n",
      "_________________________________________________________________\n",
      "dropout_3 (Dropout)          (None, 72)                0         \n",
      "_________________________________________________________________\n",
      "dense_28 (Dense)             (None, 80)                5840      \n",
      "_________________________________________________________________\n",
      "dropout_4 (Dropout)          (None, 80)                0         \n",
      "_________________________________________________________________\n",
      "dense_29 (Dense)             (None, 1)                 81        \n",
      "=================================================================\n",
      "Total params: 13,993\n",
      "Trainable params: 13,993\n",
      "Non-trainable params: 0\n",
      "_________________________________________________________________\n"
     ]
    }
   ],
   "source": [
    "model3 = model3_multilayer_perceptron_with_two_hidden_layer()\n",
    "print('Here is a summary of this model: ')\n",
    "\n",
    "\n",
    "model3.summary()\n"
   ]
  },
  {
   "cell_type": "markdown",
   "id": "a6ecc293",
   "metadata": {},
   "source": [
    "## Test the model before training (this will use the initial weights)"
   ]
  },
  {
   "cell_type": "code",
   "execution_count": 111,
   "id": "01d8c3d4",
   "metadata": {},
   "outputs": [],
   "source": [
    "\n",
    "example_result_1 = model1.predict(normed_train_data) # Here we are using the single layer perceptron model\n",
    "\n"
   ]
  },
  {
   "cell_type": "markdown",
   "id": "0fa05e94",
   "metadata": {},
   "source": [
    "## Compare the predicted values with the actual values "
   ]
  },
  {
   "cell_type": "code",
   "execution_count": 112,
   "id": "c8fde2aa",
   "metadata": {},
   "outputs": [
    {
     "name": "stdout",
     "output_type": "stream",
     "text": [
      "Predicted Values\n",
      "[[-0.2917351 ]\n",
      " [ 0.3193807 ]\n",
      " [ 0.23072654]\n",
      " [-0.23415071]\n",
      " [-0.32388714]\n",
      " [ 0.69111884]\n",
      " [ 0.02674261]\n",
      " [-0.09097707]\n",
      " [ 0.24043083]\n",
      " [-0.2678721 ]]\n",
      "\n",
      "Actual Values\n",
      "5.0\n",
      "5.0\n",
      "1.7\n",
      "4.0\n",
      "4.0\n",
      "3.0\n",
      "1.9\n",
      "4.0\n",
      "5.0\n",
      "3.0\n"
     ]
    }
   ],
   "source": [
    "print('Predicted Values')\n",
    "print(example_result_1[:10])\n",
    "print()\n",
    "print('Actual Values')\n",
    "print(train_labels[:10].to_string(index=False))"
   ]
  },
  {
   "cell_type": "markdown",
   "id": "4331538e",
   "metadata": {},
   "source": [
    "## Save checkpoints during training"
   ]
  },
  {
   "cell_type": "code",
   "execution_count": 113,
   "id": "b2909665",
   "metadata": {},
   "outputs": [],
   "source": [
    "# checkpoint_path\n",
    "checkpoint_path = r\".\\models\\wind_direction_prediction.ckpt\"\n",
    "\n",
    "#create a callback that saves the model's weight\n",
    "ckpt_callback = tf.keras.callbacks.ModelCheckpoint(filepath=checkpoint_path,monitor='val_loss',\n",
    "                                                 save_best_only=True,verbose=0,)"
   ]
  },
  {
   "cell_type": "markdown",
   "id": "987f0289",
   "metadata": {},
   "source": [
    "## Training the model we built above."
   ]
  },
  {
   "cell_type": "markdown",
   "id": "3cb75756",
   "metadata": {},
   "source": [
    "### Training the single layer perceptron"
   ]
  },
  {
   "cell_type": "code",
   "execution_count": 114,
   "id": "9ed9cb5e",
   "metadata": {},
   "outputs": [],
   "source": [
    "# Tensorflow utils packages.\n",
    "import tensorflow_docs as tfdocs\n",
    "import tensorflow_docs.plots\n",
    "import tensorflow_docs.modeling"
   ]
  },
  {
   "cell_type": "code",
   "execution_count": 115,
   "id": "50ef6746",
   "metadata": {},
   "outputs": [
    {
     "name": "stdout",
     "output_type": "stream",
     "text": [
      "Here is a summary of this model: \n",
      "Model: \"sequential_9\"\n",
      "_________________________________________________________________\n",
      "Layer (type)                 Output Shape              Param #   \n",
      "=================================================================\n",
      "dense_30 (Dense)             (None, 1)                 7         \n",
      "=================================================================\n",
      "Total params: 7\n",
      "Trainable params: 7\n",
      "Non-trainable params: 0\n",
      "_________________________________________________________________\n",
      "\n",
      "Epoch: 0, loss:8.7130,  mae:2.9254,  mape:100.0329,  mse:8.7130,  val_loss:9.9651,  val_mae:2.9356,  val_mape:93.2189,  val_mse:9.9651,  \n",
      ".INFO:tensorflow:Assets written to: .\\models\\wind_direction_prediction.ckpt\\assets\n"
     ]
    },
    {
     "name": "stderr",
     "output_type": "stream",
     "text": [
      "INFO:tensorflow:Assets written to: .\\models\\wind_direction_prediction.ckpt\\assets\n"
     ]
    },
    {
     "name": "stdout",
     "output_type": "stream",
     "text": [
      ".INFO:tensorflow:Assets written to: .\\models\\wind_direction_prediction.ckpt\\assets\n"
     ]
    },
    {
     "name": "stderr",
     "output_type": "stream",
     "text": [
      "INFO:tensorflow:Assets written to: .\\models\\wind_direction_prediction.ckpt\\assets\n"
     ]
    },
    {
     "name": "stdout",
     "output_type": "stream",
     "text": [
      ".INFO:tensorflow:Assets written to: .\\models\\wind_direction_prediction.ckpt\\assets\n"
     ]
    },
    {
     "name": "stderr",
     "output_type": "stream",
     "text": [
      "INFO:tensorflow:Assets written to: .\\models\\wind_direction_prediction.ckpt\\assets\n"
     ]
    },
    {
     "name": "stdout",
     "output_type": "stream",
     "text": [
      ".INFO:tensorflow:Assets written to: .\\models\\wind_direction_prediction.ckpt\\assets\n"
     ]
    },
    {
     "name": "stderr",
     "output_type": "stream",
     "text": [
      "INFO:tensorflow:Assets written to: .\\models\\wind_direction_prediction.ckpt\\assets\n"
     ]
    },
    {
     "name": "stdout",
     "output_type": "stream",
     "text": [
      ".INFO:tensorflow:Assets written to: .\\models\\wind_direction_prediction.ckpt\\assets\n"
     ]
    },
    {
     "name": "stderr",
     "output_type": "stream",
     "text": [
      "INFO:tensorflow:Assets written to: .\\models\\wind_direction_prediction.ckpt\\assets\n"
     ]
    },
    {
     "name": "stdout",
     "output_type": "stream",
     "text": [
      ".INFO:tensorflow:Assets written to: .\\models\\wind_direction_prediction.ckpt\\assets\n"
     ]
    },
    {
     "name": "stderr",
     "output_type": "stream",
     "text": [
      "INFO:tensorflow:Assets written to: .\\models\\wind_direction_prediction.ckpt\\assets\n"
     ]
    },
    {
     "name": "stdout",
     "output_type": "stream",
     "text": [
      ".INFO:tensorflow:Assets written to: .\\models\\wind_direction_prediction.ckpt\\assets\n"
     ]
    },
    {
     "name": "stderr",
     "output_type": "stream",
     "text": [
      "INFO:tensorflow:Assets written to: .\\models\\wind_direction_prediction.ckpt\\assets\n"
     ]
    },
    {
     "name": "stdout",
     "output_type": "stream",
     "text": [
      ".INFO:tensorflow:Assets written to: .\\models\\wind_direction_prediction.ckpt\\assets\n"
     ]
    },
    {
     "name": "stderr",
     "output_type": "stream",
     "text": [
      "INFO:tensorflow:Assets written to: .\\models\\wind_direction_prediction.ckpt\\assets\n"
     ]
    },
    {
     "name": "stdout",
     "output_type": "stream",
     "text": [
      ".INFO:tensorflow:Assets written to: .\\models\\wind_direction_prediction.ckpt\\assets\n"
     ]
    },
    {
     "name": "stderr",
     "output_type": "stream",
     "text": [
      "INFO:tensorflow:Assets written to: .\\models\\wind_direction_prediction.ckpt\\assets\n"
     ]
    },
    {
     "name": "stdout",
     "output_type": "stream",
     "text": [
      ".INFO:tensorflow:Assets written to: .\\models\\wind_direction_prediction.ckpt\\assets\n"
     ]
    },
    {
     "name": "stderr",
     "output_type": "stream",
     "text": [
      "INFO:tensorflow:Assets written to: .\\models\\wind_direction_prediction.ckpt\\assets\n"
     ]
    },
    {
     "name": "stdout",
     "output_type": "stream",
     "text": [
      ".INFO:tensorflow:Assets written to: .\\models\\wind_direction_prediction.ckpt\\assets\n"
     ]
    },
    {
     "name": "stderr",
     "output_type": "stream",
     "text": [
      "INFO:tensorflow:Assets written to: .\\models\\wind_direction_prediction.ckpt\\assets\n"
     ]
    },
    {
     "name": "stdout",
     "output_type": "stream",
     "text": [
      ".INFO:tensorflow:Assets written to: .\\models\\wind_direction_prediction.ckpt\\assets\n"
     ]
    },
    {
     "name": "stderr",
     "output_type": "stream",
     "text": [
      "INFO:tensorflow:Assets written to: .\\models\\wind_direction_prediction.ckpt\\assets\n"
     ]
    },
    {
     "name": "stdout",
     "output_type": "stream",
     "text": [
      ".INFO:tensorflow:Assets written to: .\\models\\wind_direction_prediction.ckpt\\assets\n"
     ]
    },
    {
     "name": "stderr",
     "output_type": "stream",
     "text": [
      "INFO:tensorflow:Assets written to: .\\models\\wind_direction_prediction.ckpt\\assets\n"
     ]
    },
    {
     "name": "stdout",
     "output_type": "stream",
     "text": [
      ".INFO:tensorflow:Assets written to: .\\models\\wind_direction_prediction.ckpt\\assets\n"
     ]
    },
    {
     "name": "stderr",
     "output_type": "stream",
     "text": [
      "INFO:tensorflow:Assets written to: .\\models\\wind_direction_prediction.ckpt\\assets\n"
     ]
    },
    {
     "name": "stdout",
     "output_type": "stream",
     "text": [
      ".INFO:tensorflow:Assets written to: .\\models\\wind_direction_prediction.ckpt\\assets\n"
     ]
    },
    {
     "name": "stderr",
     "output_type": "stream",
     "text": [
      "INFO:tensorflow:Assets written to: .\\models\\wind_direction_prediction.ckpt\\assets\n"
     ]
    },
    {
     "name": "stdout",
     "output_type": "stream",
     "text": [
      ".INFO:tensorflow:Assets written to: .\\models\\wind_direction_prediction.ckpt\\assets\n"
     ]
    },
    {
     "name": "stderr",
     "output_type": "stream",
     "text": [
      "INFO:tensorflow:Assets written to: .\\models\\wind_direction_prediction.ckpt\\assets\n"
     ]
    },
    {
     "name": "stdout",
     "output_type": "stream",
     "text": [
      ".INFO:tensorflow:Assets written to: .\\models\\wind_direction_prediction.ckpt\\assets\n"
     ]
    },
    {
     "name": "stderr",
     "output_type": "stream",
     "text": [
      "INFO:tensorflow:Assets written to: .\\models\\wind_direction_prediction.ckpt\\assets\n"
     ]
    },
    {
     "name": "stdout",
     "output_type": "stream",
     "text": [
      ".INFO:tensorflow:Assets written to: .\\models\\wind_direction_prediction.ckpt\\assets\n"
     ]
    },
    {
     "name": "stderr",
     "output_type": "stream",
     "text": [
      "INFO:tensorflow:Assets written to: .\\models\\wind_direction_prediction.ckpt\\assets\n"
     ]
    },
    {
     "name": "stdout",
     "output_type": "stream",
     "text": [
      ".INFO:tensorflow:Assets written to: .\\models\\wind_direction_prediction.ckpt\\assets\n"
     ]
    },
    {
     "name": "stderr",
     "output_type": "stream",
     "text": [
      "INFO:tensorflow:Assets written to: .\\models\\wind_direction_prediction.ckpt\\assets\n"
     ]
    },
    {
     "name": "stdout",
     "output_type": "stream",
     "text": [
      ".INFO:tensorflow:Assets written to: .\\models\\wind_direction_prediction.ckpt\\assets\n"
     ]
    },
    {
     "name": "stderr",
     "output_type": "stream",
     "text": [
      "INFO:tensorflow:Assets written to: .\\models\\wind_direction_prediction.ckpt\\assets\n"
     ]
    },
    {
     "name": "stdout",
     "output_type": "stream",
     "text": [
      ".INFO:tensorflow:Assets written to: .\\models\\wind_direction_prediction.ckpt\\assets\n"
     ]
    },
    {
     "name": "stderr",
     "output_type": "stream",
     "text": [
      "INFO:tensorflow:Assets written to: .\\models\\wind_direction_prediction.ckpt\\assets\n"
     ]
    },
    {
     "name": "stdout",
     "output_type": "stream",
     "text": [
      ".INFO:tensorflow:Assets written to: .\\models\\wind_direction_prediction.ckpt\\assets\n"
     ]
    },
    {
     "name": "stderr",
     "output_type": "stream",
     "text": [
      "INFO:tensorflow:Assets written to: .\\models\\wind_direction_prediction.ckpt\\assets\n"
     ]
    },
    {
     "name": "stdout",
     "output_type": "stream",
     "text": [
      ".INFO:tensorflow:Assets written to: .\\models\\wind_direction_prediction.ckpt\\assets\n"
     ]
    },
    {
     "name": "stderr",
     "output_type": "stream",
     "text": [
      "INFO:tensorflow:Assets written to: .\\models\\wind_direction_prediction.ckpt\\assets\n"
     ]
    },
    {
     "name": "stdout",
     "output_type": "stream",
     "text": [
      ".INFO:tensorflow:Assets written to: .\\models\\wind_direction_prediction.ckpt\\assets\n"
     ]
    },
    {
     "name": "stderr",
     "output_type": "stream",
     "text": [
      "INFO:tensorflow:Assets written to: .\\models\\wind_direction_prediction.ckpt\\assets\n"
     ]
    },
    {
     "name": "stdout",
     "output_type": "stream",
     "text": [
      ".INFO:tensorflow:Assets written to: .\\models\\wind_direction_prediction.ckpt\\assets\n"
     ]
    },
    {
     "name": "stderr",
     "output_type": "stream",
     "text": [
      "INFO:tensorflow:Assets written to: .\\models\\wind_direction_prediction.ckpt\\assets\n"
     ]
    },
    {
     "name": "stdout",
     "output_type": "stream",
     "text": [
      ".INFO:tensorflow:Assets written to: .\\models\\wind_direction_prediction.ckpt\\assets\n"
     ]
    },
    {
     "name": "stderr",
     "output_type": "stream",
     "text": [
      "INFO:tensorflow:Assets written to: .\\models\\wind_direction_prediction.ckpt\\assets\n"
     ]
    },
    {
     "name": "stdout",
     "output_type": "stream",
     "text": [
      ".INFO:tensorflow:Assets written to: .\\models\\wind_direction_prediction.ckpt\\assets\n"
     ]
    },
    {
     "name": "stderr",
     "output_type": "stream",
     "text": [
      "INFO:tensorflow:Assets written to: .\\models\\wind_direction_prediction.ckpt\\assets\n"
     ]
    },
    {
     "name": "stdout",
     "output_type": "stream",
     "text": [
      ".INFO:tensorflow:Assets written to: .\\models\\wind_direction_prediction.ckpt\\assets\n"
     ]
    },
    {
     "name": "stderr",
     "output_type": "stream",
     "text": [
      "INFO:tensorflow:Assets written to: .\\models\\wind_direction_prediction.ckpt\\assets\n"
     ]
    },
    {
     "name": "stdout",
     "output_type": "stream",
     "text": [
      ".INFO:tensorflow:Assets written to: .\\models\\wind_direction_prediction.ckpt\\assets\n"
     ]
    },
    {
     "name": "stderr",
     "output_type": "stream",
     "text": [
      "INFO:tensorflow:Assets written to: .\\models\\wind_direction_prediction.ckpt\\assets\n"
     ]
    },
    {
     "name": "stdout",
     "output_type": "stream",
     "text": [
      ".INFO:tensorflow:Assets written to: .\\models\\wind_direction_prediction.ckpt\\assets\n"
     ]
    },
    {
     "name": "stderr",
     "output_type": "stream",
     "text": [
      "INFO:tensorflow:Assets written to: .\\models\\wind_direction_prediction.ckpt\\assets\n"
     ]
    },
    {
     "name": "stdout",
     "output_type": "stream",
     "text": [
      ".INFO:tensorflow:Assets written to: .\\models\\wind_direction_prediction.ckpt\\assets\n"
     ]
    },
    {
     "name": "stderr",
     "output_type": "stream",
     "text": [
      "INFO:tensorflow:Assets written to: .\\models\\wind_direction_prediction.ckpt\\assets\n"
     ]
    },
    {
     "name": "stdout",
     "output_type": "stream",
     "text": [
      ".INFO:tensorflow:Assets written to: .\\models\\wind_direction_prediction.ckpt\\assets\n"
     ]
    },
    {
     "name": "stderr",
     "output_type": "stream",
     "text": [
      "INFO:tensorflow:Assets written to: .\\models\\wind_direction_prediction.ckpt\\assets\n"
     ]
    },
    {
     "name": "stdout",
     "output_type": "stream",
     "text": [
      ".INFO:tensorflow:Assets written to: .\\models\\wind_direction_prediction.ckpt\\assets\n"
     ]
    },
    {
     "name": "stderr",
     "output_type": "stream",
     "text": [
      "INFO:tensorflow:Assets written to: .\\models\\wind_direction_prediction.ckpt\\assets\n"
     ]
    },
    {
     "name": "stdout",
     "output_type": "stream",
     "text": [
      ".INFO:tensorflow:Assets written to: .\\models\\wind_direction_prediction.ckpt\\assets\n"
     ]
    },
    {
     "name": "stderr",
     "output_type": "stream",
     "text": [
      "INFO:tensorflow:Assets written to: .\\models\\wind_direction_prediction.ckpt\\assets\n"
     ]
    },
    {
     "name": "stdout",
     "output_type": "stream",
     "text": [
      ".INFO:tensorflow:Assets written to: .\\models\\wind_direction_prediction.ckpt\\assets\n"
     ]
    },
    {
     "name": "stderr",
     "output_type": "stream",
     "text": [
      "INFO:tensorflow:Assets written to: .\\models\\wind_direction_prediction.ckpt\\assets\n"
     ]
    },
    {
     "name": "stdout",
     "output_type": "stream",
     "text": [
      ".INFO:tensorflow:Assets written to: .\\models\\wind_direction_prediction.ckpt\\assets\n"
     ]
    },
    {
     "name": "stderr",
     "output_type": "stream",
     "text": [
      "INFO:tensorflow:Assets written to: .\\models\\wind_direction_prediction.ckpt\\assets\n"
     ]
    },
    {
     "name": "stdout",
     "output_type": "stream",
     "text": [
      ".INFO:tensorflow:Assets written to: .\\models\\wind_direction_prediction.ckpt\\assets\n"
     ]
    },
    {
     "name": "stderr",
     "output_type": "stream",
     "text": [
      "INFO:tensorflow:Assets written to: .\\models\\wind_direction_prediction.ckpt\\assets\n"
     ]
    },
    {
     "name": "stdout",
     "output_type": "stream",
     "text": [
      ".INFO:tensorflow:Assets written to: .\\models\\wind_direction_prediction.ckpt\\assets\n"
     ]
    },
    {
     "name": "stderr",
     "output_type": "stream",
     "text": [
      "INFO:tensorflow:Assets written to: .\\models\\wind_direction_prediction.ckpt\\assets\n"
     ]
    },
    {
     "name": "stdout",
     "output_type": "stream",
     "text": [
      ".INFO:tensorflow:Assets written to: .\\models\\wind_direction_prediction.ckpt\\assets\n"
     ]
    },
    {
     "name": "stderr",
     "output_type": "stream",
     "text": [
      "INFO:tensorflow:Assets written to: .\\models\\wind_direction_prediction.ckpt\\assets\n"
     ]
    },
    {
     "name": "stdout",
     "output_type": "stream",
     "text": [
      ".INFO:tensorflow:Assets written to: .\\models\\wind_direction_prediction.ckpt\\assets\n"
     ]
    },
    {
     "name": "stderr",
     "output_type": "stream",
     "text": [
      "INFO:tensorflow:Assets written to: .\\models\\wind_direction_prediction.ckpt\\assets\n"
     ]
    },
    {
     "name": "stdout",
     "output_type": "stream",
     "text": [
      ".INFO:tensorflow:Assets written to: .\\models\\wind_direction_prediction.ckpt\\assets\n"
     ]
    },
    {
     "name": "stderr",
     "output_type": "stream",
     "text": [
      "INFO:tensorflow:Assets written to: .\\models\\wind_direction_prediction.ckpt\\assets\n"
     ]
    },
    {
     "name": "stdout",
     "output_type": "stream",
     "text": [
      ".INFO:tensorflow:Assets written to: .\\models\\wind_direction_prediction.ckpt\\assets\n"
     ]
    },
    {
     "name": "stderr",
     "output_type": "stream",
     "text": [
      "INFO:tensorflow:Assets written to: .\\models\\wind_direction_prediction.ckpt\\assets\n"
     ]
    },
    {
     "name": "stdout",
     "output_type": "stream",
     "text": [
      ".INFO:tensorflow:Assets written to: .\\models\\wind_direction_prediction.ckpt\\assets\n"
     ]
    },
    {
     "name": "stderr",
     "output_type": "stream",
     "text": [
      "INFO:tensorflow:Assets written to: .\\models\\wind_direction_prediction.ckpt\\assets\n"
     ]
    },
    {
     "name": "stdout",
     "output_type": "stream",
     "text": [
      ".INFO:tensorflow:Assets written to: .\\models\\wind_direction_prediction.ckpt\\assets\n"
     ]
    },
    {
     "name": "stderr",
     "output_type": "stream",
     "text": [
      "INFO:tensorflow:Assets written to: .\\models\\wind_direction_prediction.ckpt\\assets\n"
     ]
    },
    {
     "name": "stdout",
     "output_type": "stream",
     "text": [
      ".INFO:tensorflow:Assets written to: .\\models\\wind_direction_prediction.ckpt\\assets\n"
     ]
    },
    {
     "name": "stderr",
     "output_type": "stream",
     "text": [
      "INFO:tensorflow:Assets written to: .\\models\\wind_direction_prediction.ckpt\\assets\n"
     ]
    },
    {
     "name": "stdout",
     "output_type": "stream",
     "text": [
      ".INFO:tensorflow:Assets written to: .\\models\\wind_direction_prediction.ckpt\\assets\n"
     ]
    },
    {
     "name": "stderr",
     "output_type": "stream",
     "text": [
      "INFO:tensorflow:Assets written to: .\\models\\wind_direction_prediction.ckpt\\assets\n"
     ]
    },
    {
     "name": "stdout",
     "output_type": "stream",
     "text": [
      ".INFO:tensorflow:Assets written to: .\\models\\wind_direction_prediction.ckpt\\assets\n"
     ]
    },
    {
     "name": "stderr",
     "output_type": "stream",
     "text": [
      "INFO:tensorflow:Assets written to: .\\models\\wind_direction_prediction.ckpt\\assets\n"
     ]
    },
    {
     "name": "stdout",
     "output_type": "stream",
     "text": [
      ".INFO:tensorflow:Assets written to: .\\models\\wind_direction_prediction.ckpt\\assets\n"
     ]
    },
    {
     "name": "stderr",
     "output_type": "stream",
     "text": [
      "INFO:tensorflow:Assets written to: .\\models\\wind_direction_prediction.ckpt\\assets\n"
     ]
    },
    {
     "name": "stdout",
     "output_type": "stream",
     "text": [
      ".INFO:tensorflow:Assets written to: .\\models\\wind_direction_prediction.ckpt\\assets\n"
     ]
    },
    {
     "name": "stderr",
     "output_type": "stream",
     "text": [
      "INFO:tensorflow:Assets written to: .\\models\\wind_direction_prediction.ckpt\\assets\n"
     ]
    },
    {
     "name": "stdout",
     "output_type": "stream",
     "text": [
      ".INFO:tensorflow:Assets written to: .\\models\\wind_direction_prediction.ckpt\\assets\n"
     ]
    },
    {
     "name": "stderr",
     "output_type": "stream",
     "text": [
      "INFO:tensorflow:Assets written to: .\\models\\wind_direction_prediction.ckpt\\assets\n"
     ]
    },
    {
     "name": "stdout",
     "output_type": "stream",
     "text": [
      ".INFO:tensorflow:Assets written to: .\\models\\wind_direction_prediction.ckpt\\assets\n"
     ]
    },
    {
     "name": "stderr",
     "output_type": "stream",
     "text": [
      "INFO:tensorflow:Assets written to: .\\models\\wind_direction_prediction.ckpt\\assets\n"
     ]
    },
    {
     "name": "stdout",
     "output_type": "stream",
     "text": [
      ".INFO:tensorflow:Assets written to: .\\models\\wind_direction_prediction.ckpt\\assets\n"
     ]
    },
    {
     "name": "stderr",
     "output_type": "stream",
     "text": [
      "INFO:tensorflow:Assets written to: .\\models\\wind_direction_prediction.ckpt\\assets\n"
     ]
    },
    {
     "name": "stdout",
     "output_type": "stream",
     "text": [
      ".INFO:tensorflow:Assets written to: .\\models\\wind_direction_prediction.ckpt\\assets\n"
     ]
    },
    {
     "name": "stderr",
     "output_type": "stream",
     "text": [
      "INFO:tensorflow:Assets written to: .\\models\\wind_direction_prediction.ckpt\\assets\n"
     ]
    },
    {
     "name": "stdout",
     "output_type": "stream",
     "text": [
      ".INFO:tensorflow:Assets written to: .\\models\\wind_direction_prediction.ckpt\\assets\n"
     ]
    },
    {
     "name": "stderr",
     "output_type": "stream",
     "text": [
      "INFO:tensorflow:Assets written to: .\\models\\wind_direction_prediction.ckpt\\assets\n"
     ]
    },
    {
     "name": "stdout",
     "output_type": "stream",
     "text": [
      ".INFO:tensorflow:Assets written to: .\\models\\wind_direction_prediction.ckpt\\assets\n"
     ]
    },
    {
     "name": "stderr",
     "output_type": "stream",
     "text": [
      "INFO:tensorflow:Assets written to: .\\models\\wind_direction_prediction.ckpt\\assets\n"
     ]
    },
    {
     "name": "stdout",
     "output_type": "stream",
     "text": [
      ".INFO:tensorflow:Assets written to: .\\models\\wind_direction_prediction.ckpt\\assets\n"
     ]
    },
    {
     "name": "stderr",
     "output_type": "stream",
     "text": [
      "INFO:tensorflow:Assets written to: .\\models\\wind_direction_prediction.ckpt\\assets\n"
     ]
    },
    {
     "name": "stdout",
     "output_type": "stream",
     "text": [
      ".INFO:tensorflow:Assets written to: .\\models\\wind_direction_prediction.ckpt\\assets\n"
     ]
    },
    {
     "name": "stderr",
     "output_type": "stream",
     "text": [
      "INFO:tensorflow:Assets written to: .\\models\\wind_direction_prediction.ckpt\\assets\n"
     ]
    },
    {
     "name": "stdout",
     "output_type": "stream",
     "text": [
      ".INFO:tensorflow:Assets written to: .\\models\\wind_direction_prediction.ckpt\\assets\n"
     ]
    },
    {
     "name": "stderr",
     "output_type": "stream",
     "text": [
      "INFO:tensorflow:Assets written to: .\\models\\wind_direction_prediction.ckpt\\assets\n"
     ]
    },
    {
     "name": "stdout",
     "output_type": "stream",
     "text": [
      ".INFO:tensorflow:Assets written to: .\\models\\wind_direction_prediction.ckpt\\assets\n"
     ]
    },
    {
     "name": "stderr",
     "output_type": "stream",
     "text": [
      "INFO:tensorflow:Assets written to: .\\models\\wind_direction_prediction.ckpt\\assets\n"
     ]
    },
    {
     "name": "stdout",
     "output_type": "stream",
     "text": [
      ".INFO:tensorflow:Assets written to: .\\models\\wind_direction_prediction.ckpt\\assets\n"
     ]
    },
    {
     "name": "stderr",
     "output_type": "stream",
     "text": [
      "INFO:tensorflow:Assets written to: .\\models\\wind_direction_prediction.ckpt\\assets\n"
     ]
    },
    {
     "name": "stdout",
     "output_type": "stream",
     "text": [
      ".INFO:tensorflow:Assets written to: .\\models\\wind_direction_prediction.ckpt\\assets\n"
     ]
    },
    {
     "name": "stderr",
     "output_type": "stream",
     "text": [
      "INFO:tensorflow:Assets written to: .\\models\\wind_direction_prediction.ckpt\\assets\n"
     ]
    },
    {
     "name": "stdout",
     "output_type": "stream",
     "text": [
      ".INFO:tensorflow:Assets written to: .\\models\\wind_direction_prediction.ckpt\\assets\n"
     ]
    },
    {
     "name": "stderr",
     "output_type": "stream",
     "text": [
      "INFO:tensorflow:Assets written to: .\\models\\wind_direction_prediction.ckpt\\assets\n"
     ]
    },
    {
     "name": "stdout",
     "output_type": "stream",
     "text": [
      ".INFO:tensorflow:Assets written to: .\\models\\wind_direction_prediction.ckpt\\assets\n"
     ]
    },
    {
     "name": "stderr",
     "output_type": "stream",
     "text": [
      "INFO:tensorflow:Assets written to: .\\models\\wind_direction_prediction.ckpt\\assets\n"
     ]
    },
    {
     "name": "stdout",
     "output_type": "stream",
     "text": [
      ".INFO:tensorflow:Assets written to: .\\models\\wind_direction_prediction.ckpt\\assets\n"
     ]
    },
    {
     "name": "stderr",
     "output_type": "stream",
     "text": [
      "INFO:tensorflow:Assets written to: .\\models\\wind_direction_prediction.ckpt\\assets\n"
     ]
    },
    {
     "name": "stdout",
     "output_type": "stream",
     "text": [
      ".INFO:tensorflow:Assets written to: .\\models\\wind_direction_prediction.ckpt\\assets\n"
     ]
    },
    {
     "name": "stderr",
     "output_type": "stream",
     "text": [
      "INFO:tensorflow:Assets written to: .\\models\\wind_direction_prediction.ckpt\\assets\n"
     ]
    },
    {
     "name": "stdout",
     "output_type": "stream",
     "text": [
      ".INFO:tensorflow:Assets written to: .\\models\\wind_direction_prediction.ckpt\\assets\n"
     ]
    },
    {
     "name": "stderr",
     "output_type": "stream",
     "text": [
      "INFO:tensorflow:Assets written to: .\\models\\wind_direction_prediction.ckpt\\assets\n"
     ]
    },
    {
     "name": "stdout",
     "output_type": "stream",
     "text": [
      ".INFO:tensorflow:Assets written to: .\\models\\wind_direction_prediction.ckpt\\assets\n"
     ]
    },
    {
     "name": "stderr",
     "output_type": "stream",
     "text": [
      "INFO:tensorflow:Assets written to: .\\models\\wind_direction_prediction.ckpt\\assets\n"
     ]
    },
    {
     "name": "stdout",
     "output_type": "stream",
     "text": [
      ".INFO:tensorflow:Assets written to: .\\models\\wind_direction_prediction.ckpt\\assets\n"
     ]
    },
    {
     "name": "stderr",
     "output_type": "stream",
     "text": [
      "INFO:tensorflow:Assets written to: .\\models\\wind_direction_prediction.ckpt\\assets\n"
     ]
    },
    {
     "name": "stdout",
     "output_type": "stream",
     "text": [
      ".INFO:tensorflow:Assets written to: .\\models\\wind_direction_prediction.ckpt\\assets\n"
     ]
    },
    {
     "name": "stderr",
     "output_type": "stream",
     "text": [
      "INFO:tensorflow:Assets written to: .\\models\\wind_direction_prediction.ckpt\\assets\n"
     ]
    },
    {
     "name": "stdout",
     "output_type": "stream",
     "text": [
      ".INFO:tensorflow:Assets written to: .\\models\\wind_direction_prediction.ckpt\\assets\n"
     ]
    },
    {
     "name": "stderr",
     "output_type": "stream",
     "text": [
      "INFO:tensorflow:Assets written to: .\\models\\wind_direction_prediction.ckpt\\assets\n"
     ]
    },
    {
     "name": "stdout",
     "output_type": "stream",
     "text": [
      ".INFO:tensorflow:Assets written to: .\\models\\wind_direction_prediction.ckpt\\assets\n"
     ]
    },
    {
     "name": "stderr",
     "output_type": "stream",
     "text": [
      "INFO:tensorflow:Assets written to: .\\models\\wind_direction_prediction.ckpt\\assets\n"
     ]
    },
    {
     "name": "stdout",
     "output_type": "stream",
     "text": [
      ".INFO:tensorflow:Assets written to: .\\models\\wind_direction_prediction.ckpt\\assets\n"
     ]
    },
    {
     "name": "stderr",
     "output_type": "stream",
     "text": [
      "INFO:tensorflow:Assets written to: .\\models\\wind_direction_prediction.ckpt\\assets\n"
     ]
    },
    {
     "name": "stdout",
     "output_type": "stream",
     "text": [
      ".INFO:tensorflow:Assets written to: .\\models\\wind_direction_prediction.ckpt\\assets\n"
     ]
    },
    {
     "name": "stderr",
     "output_type": "stream",
     "text": [
      "INFO:tensorflow:Assets written to: .\\models\\wind_direction_prediction.ckpt\\assets\n"
     ]
    },
    {
     "name": "stdout",
     "output_type": "stream",
     "text": [
      ".INFO:tensorflow:Assets written to: .\\models\\wind_direction_prediction.ckpt\\assets\n"
     ]
    },
    {
     "name": "stderr",
     "output_type": "stream",
     "text": [
      "INFO:tensorflow:Assets written to: .\\models\\wind_direction_prediction.ckpt\\assets\n"
     ]
    },
    {
     "name": "stdout",
     "output_type": "stream",
     "text": [
      ".INFO:tensorflow:Assets written to: .\\models\\wind_direction_prediction.ckpt\\assets\n"
     ]
    },
    {
     "name": "stderr",
     "output_type": "stream",
     "text": [
      "INFO:tensorflow:Assets written to: .\\models\\wind_direction_prediction.ckpt\\assets\n"
     ]
    },
    {
     "name": "stdout",
     "output_type": "stream",
     "text": [
      ".INFO:tensorflow:Assets written to: .\\models\\wind_direction_prediction.ckpt\\assets\n"
     ]
    },
    {
     "name": "stderr",
     "output_type": "stream",
     "text": [
      "INFO:tensorflow:Assets written to: .\\models\\wind_direction_prediction.ckpt\\assets\n"
     ]
    },
    {
     "name": "stdout",
     "output_type": "stream",
     "text": [
      ".INFO:tensorflow:Assets written to: .\\models\\wind_direction_prediction.ckpt\\assets\n"
     ]
    },
    {
     "name": "stderr",
     "output_type": "stream",
     "text": [
      "INFO:tensorflow:Assets written to: .\\models\\wind_direction_prediction.ckpt\\assets\n"
     ]
    },
    {
     "name": "stdout",
     "output_type": "stream",
     "text": [
      ".INFO:tensorflow:Assets written to: .\\models\\wind_direction_prediction.ckpt\\assets\n"
     ]
    },
    {
     "name": "stderr",
     "output_type": "stream",
     "text": [
      "INFO:tensorflow:Assets written to: .\\models\\wind_direction_prediction.ckpt\\assets\n"
     ]
    },
    {
     "name": "stdout",
     "output_type": "stream",
     "text": [
      ".INFO:tensorflow:Assets written to: .\\models\\wind_direction_prediction.ckpt\\assets\n"
     ]
    },
    {
     "name": "stderr",
     "output_type": "stream",
     "text": [
      "INFO:tensorflow:Assets written to: .\\models\\wind_direction_prediction.ckpt\\assets\n"
     ]
    },
    {
     "name": "stdout",
     "output_type": "stream",
     "text": [
      ".INFO:tensorflow:Assets written to: .\\models\\wind_direction_prediction.ckpt\\assets\n"
     ]
    },
    {
     "name": "stderr",
     "output_type": "stream",
     "text": [
      "INFO:tensorflow:Assets written to: .\\models\\wind_direction_prediction.ckpt\\assets\n"
     ]
    },
    {
     "name": "stdout",
     "output_type": "stream",
     "text": [
      ".INFO:tensorflow:Assets written to: .\\models\\wind_direction_prediction.ckpt\\assets\n"
     ]
    },
    {
     "name": "stderr",
     "output_type": "stream",
     "text": [
      "INFO:tensorflow:Assets written to: .\\models\\wind_direction_prediction.ckpt\\assets\n"
     ]
    },
    {
     "name": "stdout",
     "output_type": "stream",
     "text": [
      ".INFO:tensorflow:Assets written to: .\\models\\wind_direction_prediction.ckpt\\assets\n"
     ]
    },
    {
     "name": "stderr",
     "output_type": "stream",
     "text": [
      "INFO:tensorflow:Assets written to: .\\models\\wind_direction_prediction.ckpt\\assets\n"
     ]
    },
    {
     "name": "stdout",
     "output_type": "stream",
     "text": [
      ".INFO:tensorflow:Assets written to: .\\models\\wind_direction_prediction.ckpt\\assets\n"
     ]
    },
    {
     "name": "stderr",
     "output_type": "stream",
     "text": [
      "INFO:tensorflow:Assets written to: .\\models\\wind_direction_prediction.ckpt\\assets\n"
     ]
    },
    {
     "name": "stdout",
     "output_type": "stream",
     "text": [
      ".INFO:tensorflow:Assets written to: .\\models\\wind_direction_prediction.ckpt\\assets\n"
     ]
    },
    {
     "name": "stderr",
     "output_type": "stream",
     "text": [
      "INFO:tensorflow:Assets written to: .\\models\\wind_direction_prediction.ckpt\\assets\n"
     ]
    },
    {
     "name": "stdout",
     "output_type": "stream",
     "text": [
      ".INFO:tensorflow:Assets written to: .\\models\\wind_direction_prediction.ckpt\\assets\n"
     ]
    },
    {
     "name": "stderr",
     "output_type": "stream",
     "text": [
      "INFO:tensorflow:Assets written to: .\\models\\wind_direction_prediction.ckpt\\assets\n"
     ]
    },
    {
     "name": "stdout",
     "output_type": "stream",
     "text": [
      ".INFO:tensorflow:Assets written to: .\\models\\wind_direction_prediction.ckpt\\assets\n"
     ]
    },
    {
     "name": "stderr",
     "output_type": "stream",
     "text": [
      "INFO:tensorflow:Assets written to: .\\models\\wind_direction_prediction.ckpt\\assets\n"
     ]
    },
    {
     "name": "stdout",
     "output_type": "stream",
     "text": [
      ".INFO:tensorflow:Assets written to: .\\models\\wind_direction_prediction.ckpt\\assets\n"
     ]
    },
    {
     "name": "stderr",
     "output_type": "stream",
     "text": [
      "INFO:tensorflow:Assets written to: .\\models\\wind_direction_prediction.ckpt\\assets\n"
     ]
    },
    {
     "name": "stdout",
     "output_type": "stream",
     "text": [
      ".INFO:tensorflow:Assets written to: .\\models\\wind_direction_prediction.ckpt\\assets\n"
     ]
    },
    {
     "name": "stderr",
     "output_type": "stream",
     "text": [
      "INFO:tensorflow:Assets written to: .\\models\\wind_direction_prediction.ckpt\\assets\n"
     ]
    },
    {
     "name": "stdout",
     "output_type": "stream",
     "text": [
      ".INFO:tensorflow:Assets written to: .\\models\\wind_direction_prediction.ckpt\\assets\n"
     ]
    },
    {
     "name": "stderr",
     "output_type": "stream",
     "text": [
      "INFO:tensorflow:Assets written to: .\\models\\wind_direction_prediction.ckpt\\assets\n"
     ]
    },
    {
     "name": "stdout",
     "output_type": "stream",
     "text": [
      ".INFO:tensorflow:Assets written to: .\\models\\wind_direction_prediction.ckpt\\assets\n"
     ]
    },
    {
     "name": "stderr",
     "output_type": "stream",
     "text": [
      "INFO:tensorflow:Assets written to: .\\models\\wind_direction_prediction.ckpt\\assets\n"
     ]
    },
    {
     "name": "stdout",
     "output_type": "stream",
     "text": [
      ".INFO:tensorflow:Assets written to: .\\models\\wind_direction_prediction.ckpt\\assets\n"
     ]
    },
    {
     "name": "stderr",
     "output_type": "stream",
     "text": [
      "INFO:tensorflow:Assets written to: .\\models\\wind_direction_prediction.ckpt\\assets\n"
     ]
    },
    {
     "name": "stdout",
     "output_type": "stream",
     "text": [
      ".INFO:tensorflow:Assets written to: .\\models\\wind_direction_prediction.ckpt\\assets\n"
     ]
    },
    {
     "name": "stderr",
     "output_type": "stream",
     "text": [
      "INFO:tensorflow:Assets written to: .\\models\\wind_direction_prediction.ckpt\\assets\n"
     ]
    },
    {
     "name": "stdout",
     "output_type": "stream",
     "text": [
      ".INFO:tensorflow:Assets written to: .\\models\\wind_direction_prediction.ckpt\\assets\n"
     ]
    },
    {
     "name": "stderr",
     "output_type": "stream",
     "text": [
      "INFO:tensorflow:Assets written to: .\\models\\wind_direction_prediction.ckpt\\assets\n"
     ]
    },
    {
     "name": "stdout",
     "output_type": "stream",
     "text": [
      ".INFO:tensorflow:Assets written to: .\\models\\wind_direction_prediction.ckpt\\assets\n"
     ]
    },
    {
     "name": "stderr",
     "output_type": "stream",
     "text": [
      "INFO:tensorflow:Assets written to: .\\models\\wind_direction_prediction.ckpt\\assets\n"
     ]
    },
    {
     "name": "stdout",
     "output_type": "stream",
     "text": [
      ".INFO:tensorflow:Assets written to: .\\models\\wind_direction_prediction.ckpt\\assets\n"
     ]
    },
    {
     "name": "stderr",
     "output_type": "stream",
     "text": [
      "INFO:tensorflow:Assets written to: .\\models\\wind_direction_prediction.ckpt\\assets\n"
     ]
    },
    {
     "name": "stdout",
     "output_type": "stream",
     "text": [
      ".INFO:tensorflow:Assets written to: .\\models\\wind_direction_prediction.ckpt\\assets\n"
     ]
    },
    {
     "name": "stderr",
     "output_type": "stream",
     "text": [
      "INFO:tensorflow:Assets written to: .\\models\\wind_direction_prediction.ckpt\\assets\n"
     ]
    },
    {
     "name": "stdout",
     "output_type": "stream",
     "text": [
      ".INFO:tensorflow:Assets written to: .\\models\\wind_direction_prediction.ckpt\\assets\n"
     ]
    },
    {
     "name": "stderr",
     "output_type": "stream",
     "text": [
      "INFO:tensorflow:Assets written to: .\\models\\wind_direction_prediction.ckpt\\assets\n"
     ]
    },
    {
     "name": "stdout",
     "output_type": "stream",
     "text": [
      ".INFO:tensorflow:Assets written to: .\\models\\wind_direction_prediction.ckpt\\assets\n"
     ]
    },
    {
     "name": "stderr",
     "output_type": "stream",
     "text": [
      "INFO:tensorflow:Assets written to: .\\models\\wind_direction_prediction.ckpt\\assets\n"
     ]
    },
    {
     "name": "stdout",
     "output_type": "stream",
     "text": [
      ".INFO:tensorflow:Assets written to: .\\models\\wind_direction_prediction.ckpt\\assets\n"
     ]
    },
    {
     "name": "stderr",
     "output_type": "stream",
     "text": [
      "INFO:tensorflow:Assets written to: .\\models\\wind_direction_prediction.ckpt\\assets\n"
     ]
    },
    {
     "name": "stdout",
     "output_type": "stream",
     "text": [
      ".INFO:tensorflow:Assets written to: .\\models\\wind_direction_prediction.ckpt\\assets\n"
     ]
    },
    {
     "name": "stderr",
     "output_type": "stream",
     "text": [
      "INFO:tensorflow:Assets written to: .\\models\\wind_direction_prediction.ckpt\\assets\n"
     ]
    },
    {
     "name": "stdout",
     "output_type": "stream",
     "text": [
      "\n",
      "Epoch: 100, loss:14.4896,  mae:3.7154,  mape:85.7767,  mse:14.4896,  val_loss:7.7516,  val_mae:2.5428,  val_mape:79.1904,  val_mse:7.7516,  \n",
      ".INFO:tensorflow:Assets written to: .\\models\\wind_direction_prediction.ckpt\\assets\n"
     ]
    },
    {
     "name": "stderr",
     "output_type": "stream",
     "text": [
      "INFO:tensorflow:Assets written to: .\\models\\wind_direction_prediction.ckpt\\assets\n"
     ]
    },
    {
     "name": "stdout",
     "output_type": "stream",
     "text": [
      ".INFO:tensorflow:Assets written to: .\\models\\wind_direction_prediction.ckpt\\assets\n"
     ]
    },
    {
     "name": "stderr",
     "output_type": "stream",
     "text": [
      "INFO:tensorflow:Assets written to: .\\models\\wind_direction_prediction.ckpt\\assets\n"
     ]
    },
    {
     "name": "stdout",
     "output_type": "stream",
     "text": [
      ".INFO:tensorflow:Assets written to: .\\models\\wind_direction_prediction.ckpt\\assets\n"
     ]
    },
    {
     "name": "stderr",
     "output_type": "stream",
     "text": [
      "INFO:tensorflow:Assets written to: .\\models\\wind_direction_prediction.ckpt\\assets\n"
     ]
    },
    {
     "name": "stdout",
     "output_type": "stream",
     "text": [
      ".INFO:tensorflow:Assets written to: .\\models\\wind_direction_prediction.ckpt\\assets\n"
     ]
    },
    {
     "name": "stderr",
     "output_type": "stream",
     "text": [
      "INFO:tensorflow:Assets written to: .\\models\\wind_direction_prediction.ckpt\\assets\n"
     ]
    },
    {
     "name": "stdout",
     "output_type": "stream",
     "text": [
      ".INFO:tensorflow:Assets written to: .\\models\\wind_direction_prediction.ckpt\\assets\n"
     ]
    },
    {
     "name": "stderr",
     "output_type": "stream",
     "text": [
      "INFO:tensorflow:Assets written to: .\\models\\wind_direction_prediction.ckpt\\assets\n"
     ]
    },
    {
     "name": "stdout",
     "output_type": "stream",
     "text": [
      ".INFO:tensorflow:Assets written to: .\\models\\wind_direction_prediction.ckpt\\assets\n"
     ]
    },
    {
     "name": "stderr",
     "output_type": "stream",
     "text": [
      "INFO:tensorflow:Assets written to: .\\models\\wind_direction_prediction.ckpt\\assets\n"
     ]
    },
    {
     "name": "stdout",
     "output_type": "stream",
     "text": [
      ".INFO:tensorflow:Assets written to: .\\models\\wind_direction_prediction.ckpt\\assets\n"
     ]
    },
    {
     "name": "stderr",
     "output_type": "stream",
     "text": [
      "INFO:tensorflow:Assets written to: .\\models\\wind_direction_prediction.ckpt\\assets\n"
     ]
    },
    {
     "name": "stdout",
     "output_type": "stream",
     "text": [
      ".INFO:tensorflow:Assets written to: .\\models\\wind_direction_prediction.ckpt\\assets\n"
     ]
    },
    {
     "name": "stderr",
     "output_type": "stream",
     "text": [
      "INFO:tensorflow:Assets written to: .\\models\\wind_direction_prediction.ckpt\\assets\n"
     ]
    },
    {
     "name": "stdout",
     "output_type": "stream",
     "text": [
      ".INFO:tensorflow:Assets written to: .\\models\\wind_direction_prediction.ckpt\\assets\n"
     ]
    },
    {
     "name": "stderr",
     "output_type": "stream",
     "text": [
      "INFO:tensorflow:Assets written to: .\\models\\wind_direction_prediction.ckpt\\assets\n"
     ]
    },
    {
     "name": "stdout",
     "output_type": "stream",
     "text": [
      ".INFO:tensorflow:Assets written to: .\\models\\wind_direction_prediction.ckpt\\assets\n"
     ]
    },
    {
     "name": "stderr",
     "output_type": "stream",
     "text": [
      "INFO:tensorflow:Assets written to: .\\models\\wind_direction_prediction.ckpt\\assets\n"
     ]
    },
    {
     "name": "stdout",
     "output_type": "stream",
     "text": [
      ".INFO:tensorflow:Assets written to: .\\models\\wind_direction_prediction.ckpt\\assets\n"
     ]
    },
    {
     "name": "stderr",
     "output_type": "stream",
     "text": [
      "INFO:tensorflow:Assets written to: .\\models\\wind_direction_prediction.ckpt\\assets\n"
     ]
    },
    {
     "name": "stdout",
     "output_type": "stream",
     "text": [
      ".INFO:tensorflow:Assets written to: .\\models\\wind_direction_prediction.ckpt\\assets\n"
     ]
    },
    {
     "name": "stderr",
     "output_type": "stream",
     "text": [
      "INFO:tensorflow:Assets written to: .\\models\\wind_direction_prediction.ckpt\\assets\n"
     ]
    },
    {
     "name": "stdout",
     "output_type": "stream",
     "text": [
      ".INFO:tensorflow:Assets written to: .\\models\\wind_direction_prediction.ckpt\\assets\n"
     ]
    },
    {
     "name": "stderr",
     "output_type": "stream",
     "text": [
      "INFO:tensorflow:Assets written to: .\\models\\wind_direction_prediction.ckpt\\assets\n"
     ]
    },
    {
     "name": "stdout",
     "output_type": "stream",
     "text": [
      ".INFO:tensorflow:Assets written to: .\\models\\wind_direction_prediction.ckpt\\assets\n"
     ]
    },
    {
     "name": "stderr",
     "output_type": "stream",
     "text": [
      "INFO:tensorflow:Assets written to: .\\models\\wind_direction_prediction.ckpt\\assets\n"
     ]
    },
    {
     "name": "stdout",
     "output_type": "stream",
     "text": [
      ".INFO:tensorflow:Assets written to: .\\models\\wind_direction_prediction.ckpt\\assets\n"
     ]
    },
    {
     "name": "stderr",
     "output_type": "stream",
     "text": [
      "INFO:tensorflow:Assets written to: .\\models\\wind_direction_prediction.ckpt\\assets\n"
     ]
    },
    {
     "name": "stdout",
     "output_type": "stream",
     "text": [
      ".INFO:tensorflow:Assets written to: .\\models\\wind_direction_prediction.ckpt\\assets\n"
     ]
    },
    {
     "name": "stderr",
     "output_type": "stream",
     "text": [
      "INFO:tensorflow:Assets written to: .\\models\\wind_direction_prediction.ckpt\\assets\n"
     ]
    },
    {
     "name": "stdout",
     "output_type": "stream",
     "text": [
      ".INFO:tensorflow:Assets written to: .\\models\\wind_direction_prediction.ckpt\\assets\n"
     ]
    },
    {
     "name": "stderr",
     "output_type": "stream",
     "text": [
      "INFO:tensorflow:Assets written to: .\\models\\wind_direction_prediction.ckpt\\assets\n"
     ]
    },
    {
     "name": "stdout",
     "output_type": "stream",
     "text": [
      ".INFO:tensorflow:Assets written to: .\\models\\wind_direction_prediction.ckpt\\assets\n"
     ]
    },
    {
     "name": "stderr",
     "output_type": "stream",
     "text": [
      "INFO:tensorflow:Assets written to: .\\models\\wind_direction_prediction.ckpt\\assets\n"
     ]
    },
    {
     "name": "stdout",
     "output_type": "stream",
     "text": [
      ".INFO:tensorflow:Assets written to: .\\models\\wind_direction_prediction.ckpt\\assets\n"
     ]
    },
    {
     "name": "stderr",
     "output_type": "stream",
     "text": [
      "INFO:tensorflow:Assets written to: .\\models\\wind_direction_prediction.ckpt\\assets\n"
     ]
    },
    {
     "name": "stdout",
     "output_type": "stream",
     "text": [
      ".INFO:tensorflow:Assets written to: .\\models\\wind_direction_prediction.ckpt\\assets\n"
     ]
    },
    {
     "name": "stderr",
     "output_type": "stream",
     "text": [
      "INFO:tensorflow:Assets written to: .\\models\\wind_direction_prediction.ckpt\\assets\n"
     ]
    },
    {
     "name": "stdout",
     "output_type": "stream",
     "text": [
      ".INFO:tensorflow:Assets written to: .\\models\\wind_direction_prediction.ckpt\\assets\n"
     ]
    },
    {
     "name": "stderr",
     "output_type": "stream",
     "text": [
      "INFO:tensorflow:Assets written to: .\\models\\wind_direction_prediction.ckpt\\assets\n"
     ]
    },
    {
     "name": "stdout",
     "output_type": "stream",
     "text": [
      ".INFO:tensorflow:Assets written to: .\\models\\wind_direction_prediction.ckpt\\assets\n"
     ]
    },
    {
     "name": "stderr",
     "output_type": "stream",
     "text": [
      "INFO:tensorflow:Assets written to: .\\models\\wind_direction_prediction.ckpt\\assets\n"
     ]
    },
    {
     "name": "stdout",
     "output_type": "stream",
     "text": [
      ".INFO:tensorflow:Assets written to: .\\models\\wind_direction_prediction.ckpt\\assets\n"
     ]
    },
    {
     "name": "stderr",
     "output_type": "stream",
     "text": [
      "INFO:tensorflow:Assets written to: .\\models\\wind_direction_prediction.ckpt\\assets\n"
     ]
    },
    {
     "name": "stdout",
     "output_type": "stream",
     "text": [
      ".INFO:tensorflow:Assets written to: .\\models\\wind_direction_prediction.ckpt\\assets\n"
     ]
    },
    {
     "name": "stderr",
     "output_type": "stream",
     "text": [
      "INFO:tensorflow:Assets written to: .\\models\\wind_direction_prediction.ckpt\\assets\n"
     ]
    },
    {
     "name": "stdout",
     "output_type": "stream",
     "text": [
      ".INFO:tensorflow:Assets written to: .\\models\\wind_direction_prediction.ckpt\\assets\n"
     ]
    },
    {
     "name": "stderr",
     "output_type": "stream",
     "text": [
      "INFO:tensorflow:Assets written to: .\\models\\wind_direction_prediction.ckpt\\assets\n"
     ]
    },
    {
     "name": "stdout",
     "output_type": "stream",
     "text": [
      ".INFO:tensorflow:Assets written to: .\\models\\wind_direction_prediction.ckpt\\assets\n"
     ]
    },
    {
     "name": "stderr",
     "output_type": "stream",
     "text": [
      "INFO:tensorflow:Assets written to: .\\models\\wind_direction_prediction.ckpt\\assets\n"
     ]
    },
    {
     "name": "stdout",
     "output_type": "stream",
     "text": [
      ".INFO:tensorflow:Assets written to: .\\models\\wind_direction_prediction.ckpt\\assets\n"
     ]
    },
    {
     "name": "stderr",
     "output_type": "stream",
     "text": [
      "INFO:tensorflow:Assets written to: .\\models\\wind_direction_prediction.ckpt\\assets\n"
     ]
    },
    {
     "name": "stdout",
     "output_type": "stream",
     "text": [
      ".INFO:tensorflow:Assets written to: .\\models\\wind_direction_prediction.ckpt\\assets\n"
     ]
    },
    {
     "name": "stderr",
     "output_type": "stream",
     "text": [
      "INFO:tensorflow:Assets written to: .\\models\\wind_direction_prediction.ckpt\\assets\n"
     ]
    },
    {
     "name": "stdout",
     "output_type": "stream",
     "text": [
      ".INFO:tensorflow:Assets written to: .\\models\\wind_direction_prediction.ckpt\\assets\n"
     ]
    },
    {
     "name": "stderr",
     "output_type": "stream",
     "text": [
      "INFO:tensorflow:Assets written to: .\\models\\wind_direction_prediction.ckpt\\assets\n"
     ]
    },
    {
     "name": "stdout",
     "output_type": "stream",
     "text": [
      ".INFO:tensorflow:Assets written to: .\\models\\wind_direction_prediction.ckpt\\assets\n"
     ]
    },
    {
     "name": "stderr",
     "output_type": "stream",
     "text": [
      "INFO:tensorflow:Assets written to: .\\models\\wind_direction_prediction.ckpt\\assets\n"
     ]
    },
    {
     "name": "stdout",
     "output_type": "stream",
     "text": [
      ".INFO:tensorflow:Assets written to: .\\models\\wind_direction_prediction.ckpt\\assets\n"
     ]
    },
    {
     "name": "stderr",
     "output_type": "stream",
     "text": [
      "INFO:tensorflow:Assets written to: .\\models\\wind_direction_prediction.ckpt\\assets\n"
     ]
    },
    {
     "name": "stdout",
     "output_type": "stream",
     "text": [
      ".INFO:tensorflow:Assets written to: .\\models\\wind_direction_prediction.ckpt\\assets\n"
     ]
    },
    {
     "name": "stderr",
     "output_type": "stream",
     "text": [
      "INFO:tensorflow:Assets written to: .\\models\\wind_direction_prediction.ckpt\\assets\n"
     ]
    },
    {
     "name": "stdout",
     "output_type": "stream",
     "text": [
      ".INFO:tensorflow:Assets written to: .\\models\\wind_direction_prediction.ckpt\\assets\n"
     ]
    },
    {
     "name": "stderr",
     "output_type": "stream",
     "text": [
      "INFO:tensorflow:Assets written to: .\\models\\wind_direction_prediction.ckpt\\assets\n"
     ]
    },
    {
     "name": "stdout",
     "output_type": "stream",
     "text": [
      ".INFO:tensorflow:Assets written to: .\\models\\wind_direction_prediction.ckpt\\assets\n"
     ]
    },
    {
     "name": "stderr",
     "output_type": "stream",
     "text": [
      "INFO:tensorflow:Assets written to: .\\models\\wind_direction_prediction.ckpt\\assets\n"
     ]
    },
    {
     "name": "stdout",
     "output_type": "stream",
     "text": [
      ".INFO:tensorflow:Assets written to: .\\models\\wind_direction_prediction.ckpt\\assets\n"
     ]
    },
    {
     "name": "stderr",
     "output_type": "stream",
     "text": [
      "INFO:tensorflow:Assets written to: .\\models\\wind_direction_prediction.ckpt\\assets\n"
     ]
    },
    {
     "name": "stdout",
     "output_type": "stream",
     "text": [
      ".INFO:tensorflow:Assets written to: .\\models\\wind_direction_prediction.ckpt\\assets\n"
     ]
    },
    {
     "name": "stderr",
     "output_type": "stream",
     "text": [
      "INFO:tensorflow:Assets written to: .\\models\\wind_direction_prediction.ckpt\\assets\n"
     ]
    },
    {
     "name": "stdout",
     "output_type": "stream",
     "text": [
      ".INFO:tensorflow:Assets written to: .\\models\\wind_direction_prediction.ckpt\\assets\n"
     ]
    },
    {
     "name": "stderr",
     "output_type": "stream",
     "text": [
      "INFO:tensorflow:Assets written to: .\\models\\wind_direction_prediction.ckpt\\assets\n"
     ]
    },
    {
     "name": "stdout",
     "output_type": "stream",
     "text": [
      ".INFO:tensorflow:Assets written to: .\\models\\wind_direction_prediction.ckpt\\assets\n"
     ]
    },
    {
     "name": "stderr",
     "output_type": "stream",
     "text": [
      "INFO:tensorflow:Assets written to: .\\models\\wind_direction_prediction.ckpt\\assets\n"
     ]
    },
    {
     "name": "stdout",
     "output_type": "stream",
     "text": [
      ".INFO:tensorflow:Assets written to: .\\models\\wind_direction_prediction.ckpt\\assets\n"
     ]
    },
    {
     "name": "stderr",
     "output_type": "stream",
     "text": [
      "INFO:tensorflow:Assets written to: .\\models\\wind_direction_prediction.ckpt\\assets\n"
     ]
    },
    {
     "name": "stdout",
     "output_type": "stream",
     "text": [
      ".INFO:tensorflow:Assets written to: .\\models\\wind_direction_prediction.ckpt\\assets\n"
     ]
    },
    {
     "name": "stderr",
     "output_type": "stream",
     "text": [
      "INFO:tensorflow:Assets written to: .\\models\\wind_direction_prediction.ckpt\\assets\n"
     ]
    },
    {
     "name": "stdout",
     "output_type": "stream",
     "text": [
      ".INFO:tensorflow:Assets written to: .\\models\\wind_direction_prediction.ckpt\\assets\n"
     ]
    },
    {
     "name": "stderr",
     "output_type": "stream",
     "text": [
      "INFO:tensorflow:Assets written to: .\\models\\wind_direction_prediction.ckpt\\assets\n"
     ]
    },
    {
     "name": "stdout",
     "output_type": "stream",
     "text": [
      ".INFO:tensorflow:Assets written to: .\\models\\wind_direction_prediction.ckpt\\assets\n"
     ]
    },
    {
     "name": "stderr",
     "output_type": "stream",
     "text": [
      "INFO:tensorflow:Assets written to: .\\models\\wind_direction_prediction.ckpt\\assets\n"
     ]
    },
    {
     "name": "stdout",
     "output_type": "stream",
     "text": [
      ".INFO:tensorflow:Assets written to: .\\models\\wind_direction_prediction.ckpt\\assets\n"
     ]
    },
    {
     "name": "stderr",
     "output_type": "stream",
     "text": [
      "INFO:tensorflow:Assets written to: .\\models\\wind_direction_prediction.ckpt\\assets\n"
     ]
    },
    {
     "name": "stdout",
     "output_type": "stream",
     "text": [
      ".INFO:tensorflow:Assets written to: .\\models\\wind_direction_prediction.ckpt\\assets\n"
     ]
    },
    {
     "name": "stderr",
     "output_type": "stream",
     "text": [
      "INFO:tensorflow:Assets written to: .\\models\\wind_direction_prediction.ckpt\\assets\n"
     ]
    },
    {
     "name": "stdout",
     "output_type": "stream",
     "text": [
      ".INFO:tensorflow:Assets written to: .\\models\\wind_direction_prediction.ckpt\\assets\n"
     ]
    },
    {
     "name": "stderr",
     "output_type": "stream",
     "text": [
      "INFO:tensorflow:Assets written to: .\\models\\wind_direction_prediction.ckpt\\assets\n"
     ]
    },
    {
     "name": "stdout",
     "output_type": "stream",
     "text": [
      ".INFO:tensorflow:Assets written to: .\\models\\wind_direction_prediction.ckpt\\assets\n"
     ]
    },
    {
     "name": "stderr",
     "output_type": "stream",
     "text": [
      "INFO:tensorflow:Assets written to: .\\models\\wind_direction_prediction.ckpt\\assets\n"
     ]
    },
    {
     "name": "stdout",
     "output_type": "stream",
     "text": [
      ".INFO:tensorflow:Assets written to: .\\models\\wind_direction_prediction.ckpt\\assets\n"
     ]
    },
    {
     "name": "stderr",
     "output_type": "stream",
     "text": [
      "INFO:tensorflow:Assets written to: .\\models\\wind_direction_prediction.ckpt\\assets\n"
     ]
    },
    {
     "name": "stdout",
     "output_type": "stream",
     "text": [
      ".INFO:tensorflow:Assets written to: .\\models\\wind_direction_prediction.ckpt\\assets\n"
     ]
    },
    {
     "name": "stderr",
     "output_type": "stream",
     "text": [
      "INFO:tensorflow:Assets written to: .\\models\\wind_direction_prediction.ckpt\\assets\n"
     ]
    },
    {
     "name": "stdout",
     "output_type": "stream",
     "text": [
      ".INFO:tensorflow:Assets written to: .\\models\\wind_direction_prediction.ckpt\\assets\n"
     ]
    },
    {
     "name": "stderr",
     "output_type": "stream",
     "text": [
      "INFO:tensorflow:Assets written to: .\\models\\wind_direction_prediction.ckpt\\assets\n"
     ]
    },
    {
     "name": "stdout",
     "output_type": "stream",
     "text": [
      ".INFO:tensorflow:Assets written to: .\\models\\wind_direction_prediction.ckpt\\assets\n"
     ]
    },
    {
     "name": "stderr",
     "output_type": "stream",
     "text": [
      "INFO:tensorflow:Assets written to: .\\models\\wind_direction_prediction.ckpt\\assets\n"
     ]
    },
    {
     "name": "stdout",
     "output_type": "stream",
     "text": [
      ".INFO:tensorflow:Assets written to: .\\models\\wind_direction_prediction.ckpt\\assets\n"
     ]
    },
    {
     "name": "stderr",
     "output_type": "stream",
     "text": [
      "INFO:tensorflow:Assets written to: .\\models\\wind_direction_prediction.ckpt\\assets\n"
     ]
    },
    {
     "name": "stdout",
     "output_type": "stream",
     "text": [
      ".INFO:tensorflow:Assets written to: .\\models\\wind_direction_prediction.ckpt\\assets\n"
     ]
    },
    {
     "name": "stderr",
     "output_type": "stream",
     "text": [
      "INFO:tensorflow:Assets written to: .\\models\\wind_direction_prediction.ckpt\\assets\n"
     ]
    },
    {
     "name": "stdout",
     "output_type": "stream",
     "text": [
      ".INFO:tensorflow:Assets written to: .\\models\\wind_direction_prediction.ckpt\\assets\n"
     ]
    },
    {
     "name": "stderr",
     "output_type": "stream",
     "text": [
      "INFO:tensorflow:Assets written to: .\\models\\wind_direction_prediction.ckpt\\assets\n"
     ]
    },
    {
     "name": "stdout",
     "output_type": "stream",
     "text": [
      ".INFO:tensorflow:Assets written to: .\\models\\wind_direction_prediction.ckpt\\assets\n"
     ]
    },
    {
     "name": "stderr",
     "output_type": "stream",
     "text": [
      "INFO:tensorflow:Assets written to: .\\models\\wind_direction_prediction.ckpt\\assets\n"
     ]
    },
    {
     "name": "stdout",
     "output_type": "stream",
     "text": [
      ".INFO:tensorflow:Assets written to: .\\models\\wind_direction_prediction.ckpt\\assets\n"
     ]
    },
    {
     "name": "stderr",
     "output_type": "stream",
     "text": [
      "INFO:tensorflow:Assets written to: .\\models\\wind_direction_prediction.ckpt\\assets\n"
     ]
    },
    {
     "name": "stdout",
     "output_type": "stream",
     "text": [
      ".INFO:tensorflow:Assets written to: .\\models\\wind_direction_prediction.ckpt\\assets\n"
     ]
    },
    {
     "name": "stderr",
     "output_type": "stream",
     "text": [
      "INFO:tensorflow:Assets written to: .\\models\\wind_direction_prediction.ckpt\\assets\n"
     ]
    },
    {
     "name": "stdout",
     "output_type": "stream",
     "text": [
      ".INFO:tensorflow:Assets written to: .\\models\\wind_direction_prediction.ckpt\\assets\n"
     ]
    },
    {
     "name": "stderr",
     "output_type": "stream",
     "text": [
      "INFO:tensorflow:Assets written to: .\\models\\wind_direction_prediction.ckpt\\assets\n"
     ]
    },
    {
     "name": "stdout",
     "output_type": "stream",
     "text": [
      ".INFO:tensorflow:Assets written to: .\\models\\wind_direction_prediction.ckpt\\assets\n"
     ]
    },
    {
     "name": "stderr",
     "output_type": "stream",
     "text": [
      "INFO:tensorflow:Assets written to: .\\models\\wind_direction_prediction.ckpt\\assets\n"
     ]
    },
    {
     "name": "stdout",
     "output_type": "stream",
     "text": [
      ".INFO:tensorflow:Assets written to: .\\models\\wind_direction_prediction.ckpt\\assets\n"
     ]
    },
    {
     "name": "stderr",
     "output_type": "stream",
     "text": [
      "INFO:tensorflow:Assets written to: .\\models\\wind_direction_prediction.ckpt\\assets\n"
     ]
    },
    {
     "name": "stdout",
     "output_type": "stream",
     "text": [
      ".INFO:tensorflow:Assets written to: .\\models\\wind_direction_prediction.ckpt\\assets\n"
     ]
    },
    {
     "name": "stderr",
     "output_type": "stream",
     "text": [
      "INFO:tensorflow:Assets written to: .\\models\\wind_direction_prediction.ckpt\\assets\n"
     ]
    },
    {
     "name": "stdout",
     "output_type": "stream",
     "text": [
      ".INFO:tensorflow:Assets written to: .\\models\\wind_direction_prediction.ckpt\\assets\n"
     ]
    },
    {
     "name": "stderr",
     "output_type": "stream",
     "text": [
      "INFO:tensorflow:Assets written to: .\\models\\wind_direction_prediction.ckpt\\assets\n"
     ]
    },
    {
     "name": "stdout",
     "output_type": "stream",
     "text": [
      ".INFO:tensorflow:Assets written to: .\\models\\wind_direction_prediction.ckpt\\assets\n"
     ]
    },
    {
     "name": "stderr",
     "output_type": "stream",
     "text": [
      "INFO:tensorflow:Assets written to: .\\models\\wind_direction_prediction.ckpt\\assets\n"
     ]
    },
    {
     "name": "stdout",
     "output_type": "stream",
     "text": [
      ".INFO:tensorflow:Assets written to: .\\models\\wind_direction_prediction.ckpt\\assets\n"
     ]
    },
    {
     "name": "stderr",
     "output_type": "stream",
     "text": [
      "INFO:tensorflow:Assets written to: .\\models\\wind_direction_prediction.ckpt\\assets\n"
     ]
    },
    {
     "name": "stdout",
     "output_type": "stream",
     "text": [
      ".INFO:tensorflow:Assets written to: .\\models\\wind_direction_prediction.ckpt\\assets\n"
     ]
    },
    {
     "name": "stderr",
     "output_type": "stream",
     "text": [
      "INFO:tensorflow:Assets written to: .\\models\\wind_direction_prediction.ckpt\\assets\n"
     ]
    },
    {
     "name": "stdout",
     "output_type": "stream",
     "text": [
      ".INFO:tensorflow:Assets written to: .\\models\\wind_direction_prediction.ckpt\\assets\n"
     ]
    },
    {
     "name": "stderr",
     "output_type": "stream",
     "text": [
      "INFO:tensorflow:Assets written to: .\\models\\wind_direction_prediction.ckpt\\assets\n"
     ]
    },
    {
     "name": "stdout",
     "output_type": "stream",
     "text": [
      ".INFO:tensorflow:Assets written to: .\\models\\wind_direction_prediction.ckpt\\assets\n"
     ]
    },
    {
     "name": "stderr",
     "output_type": "stream",
     "text": [
      "INFO:tensorflow:Assets written to: .\\models\\wind_direction_prediction.ckpt\\assets\n"
     ]
    },
    {
     "name": "stdout",
     "output_type": "stream",
     "text": [
      ".INFO:tensorflow:Assets written to: .\\models\\wind_direction_prediction.ckpt\\assets\n"
     ]
    },
    {
     "name": "stderr",
     "output_type": "stream",
     "text": [
      "INFO:tensorflow:Assets written to: .\\models\\wind_direction_prediction.ckpt\\assets\n"
     ]
    },
    {
     "name": "stdout",
     "output_type": "stream",
     "text": [
      ".INFO:tensorflow:Assets written to: .\\models\\wind_direction_prediction.ckpt\\assets\n"
     ]
    },
    {
     "name": "stderr",
     "output_type": "stream",
     "text": [
      "INFO:tensorflow:Assets written to: .\\models\\wind_direction_prediction.ckpt\\assets\n"
     ]
    },
    {
     "name": "stdout",
     "output_type": "stream",
     "text": [
      ".INFO:tensorflow:Assets written to: .\\models\\wind_direction_prediction.ckpt\\assets\n"
     ]
    },
    {
     "name": "stderr",
     "output_type": "stream",
     "text": [
      "INFO:tensorflow:Assets written to: .\\models\\wind_direction_prediction.ckpt\\assets\n"
     ]
    },
    {
     "name": "stdout",
     "output_type": "stream",
     "text": [
      ".INFO:tensorflow:Assets written to: .\\models\\wind_direction_prediction.ckpt\\assets\n"
     ]
    },
    {
     "name": "stderr",
     "output_type": "stream",
     "text": [
      "INFO:tensorflow:Assets written to: .\\models\\wind_direction_prediction.ckpt\\assets\n"
     ]
    },
    {
     "name": "stdout",
     "output_type": "stream",
     "text": [
      ".INFO:tensorflow:Assets written to: .\\models\\wind_direction_prediction.ckpt\\assets\n"
     ]
    },
    {
     "name": "stderr",
     "output_type": "stream",
     "text": [
      "INFO:tensorflow:Assets written to: .\\models\\wind_direction_prediction.ckpt\\assets\n"
     ]
    },
    {
     "name": "stdout",
     "output_type": "stream",
     "text": [
      ".INFO:tensorflow:Assets written to: .\\models\\wind_direction_prediction.ckpt\\assets\n"
     ]
    },
    {
     "name": "stderr",
     "output_type": "stream",
     "text": [
      "INFO:tensorflow:Assets written to: .\\models\\wind_direction_prediction.ckpt\\assets\n"
     ]
    },
    {
     "name": "stdout",
     "output_type": "stream",
     "text": [
      ".INFO:tensorflow:Assets written to: .\\models\\wind_direction_prediction.ckpt\\assets\n"
     ]
    },
    {
     "name": "stderr",
     "output_type": "stream",
     "text": [
      "INFO:tensorflow:Assets written to: .\\models\\wind_direction_prediction.ckpt\\assets\n"
     ]
    },
    {
     "name": "stdout",
     "output_type": "stream",
     "text": [
      ".INFO:tensorflow:Assets written to: .\\models\\wind_direction_prediction.ckpt\\assets\n"
     ]
    },
    {
     "name": "stderr",
     "output_type": "stream",
     "text": [
      "INFO:tensorflow:Assets written to: .\\models\\wind_direction_prediction.ckpt\\assets\n"
     ]
    },
    {
     "name": "stdout",
     "output_type": "stream",
     "text": [
      ".INFO:tensorflow:Assets written to: .\\models\\wind_direction_prediction.ckpt\\assets\n"
     ]
    },
    {
     "name": "stderr",
     "output_type": "stream",
     "text": [
      "INFO:tensorflow:Assets written to: .\\models\\wind_direction_prediction.ckpt\\assets\n"
     ]
    },
    {
     "name": "stdout",
     "output_type": "stream",
     "text": [
      ".INFO:tensorflow:Assets written to: .\\models\\wind_direction_prediction.ckpt\\assets\n"
     ]
    },
    {
     "name": "stderr",
     "output_type": "stream",
     "text": [
      "INFO:tensorflow:Assets written to: .\\models\\wind_direction_prediction.ckpt\\assets\n"
     ]
    },
    {
     "name": "stdout",
     "output_type": "stream",
     "text": [
      ".INFO:tensorflow:Assets written to: .\\models\\wind_direction_prediction.ckpt\\assets\n"
     ]
    },
    {
     "name": "stderr",
     "output_type": "stream",
     "text": [
      "INFO:tensorflow:Assets written to: .\\models\\wind_direction_prediction.ckpt\\assets\n"
     ]
    },
    {
     "name": "stdout",
     "output_type": "stream",
     "text": [
      ".INFO:tensorflow:Assets written to: .\\models\\wind_direction_prediction.ckpt\\assets\n"
     ]
    },
    {
     "name": "stderr",
     "output_type": "stream",
     "text": [
      "INFO:tensorflow:Assets written to: .\\models\\wind_direction_prediction.ckpt\\assets\n"
     ]
    },
    {
     "name": "stdout",
     "output_type": "stream",
     "text": [
      ".INFO:tensorflow:Assets written to: .\\models\\wind_direction_prediction.ckpt\\assets\n"
     ]
    },
    {
     "name": "stderr",
     "output_type": "stream",
     "text": [
      "INFO:tensorflow:Assets written to: .\\models\\wind_direction_prediction.ckpt\\assets\n"
     ]
    },
    {
     "name": "stdout",
     "output_type": "stream",
     "text": [
      ".INFO:tensorflow:Assets written to: .\\models\\wind_direction_prediction.ckpt\\assets\n"
     ]
    },
    {
     "name": "stderr",
     "output_type": "stream",
     "text": [
      "INFO:tensorflow:Assets written to: .\\models\\wind_direction_prediction.ckpt\\assets\n"
     ]
    },
    {
     "name": "stdout",
     "output_type": "stream",
     "text": [
      ".INFO:tensorflow:Assets written to: .\\models\\wind_direction_prediction.ckpt\\assets\n"
     ]
    },
    {
     "name": "stderr",
     "output_type": "stream",
     "text": [
      "INFO:tensorflow:Assets written to: .\\models\\wind_direction_prediction.ckpt\\assets\n"
     ]
    },
    {
     "name": "stdout",
     "output_type": "stream",
     "text": [
      ".INFO:tensorflow:Assets written to: .\\models\\wind_direction_prediction.ckpt\\assets\n"
     ]
    },
    {
     "name": "stderr",
     "output_type": "stream",
     "text": [
      "INFO:tensorflow:Assets written to: .\\models\\wind_direction_prediction.ckpt\\assets\n"
     ]
    },
    {
     "name": "stdout",
     "output_type": "stream",
     "text": [
      ".INFO:tensorflow:Assets written to: .\\models\\wind_direction_prediction.ckpt\\assets\n"
     ]
    },
    {
     "name": "stderr",
     "output_type": "stream",
     "text": [
      "INFO:tensorflow:Assets written to: .\\models\\wind_direction_prediction.ckpt\\assets\n"
     ]
    },
    {
     "name": "stdout",
     "output_type": "stream",
     "text": [
      ".INFO:tensorflow:Assets written to: .\\models\\wind_direction_prediction.ckpt\\assets\n"
     ]
    },
    {
     "name": "stderr",
     "output_type": "stream",
     "text": [
      "INFO:tensorflow:Assets written to: .\\models\\wind_direction_prediction.ckpt\\assets\n"
     ]
    },
    {
     "name": "stdout",
     "output_type": "stream",
     "text": [
      ".INFO:tensorflow:Assets written to: .\\models\\wind_direction_prediction.ckpt\\assets\n"
     ]
    },
    {
     "name": "stderr",
     "output_type": "stream",
     "text": [
      "INFO:tensorflow:Assets written to: .\\models\\wind_direction_prediction.ckpt\\assets\n"
     ]
    },
    {
     "name": "stdout",
     "output_type": "stream",
     "text": [
      ".INFO:tensorflow:Assets written to: .\\models\\wind_direction_prediction.ckpt\\assets\n"
     ]
    },
    {
     "name": "stderr",
     "output_type": "stream",
     "text": [
      "INFO:tensorflow:Assets written to: .\\models\\wind_direction_prediction.ckpt\\assets\n"
     ]
    },
    {
     "name": "stdout",
     "output_type": "stream",
     "text": [
      ".INFO:tensorflow:Assets written to: .\\models\\wind_direction_prediction.ckpt\\assets\n"
     ]
    },
    {
     "name": "stderr",
     "output_type": "stream",
     "text": [
      "INFO:tensorflow:Assets written to: .\\models\\wind_direction_prediction.ckpt\\assets\n"
     ]
    },
    {
     "name": "stdout",
     "output_type": "stream",
     "text": [
      ".INFO:tensorflow:Assets written to: .\\models\\wind_direction_prediction.ckpt\\assets\n"
     ]
    },
    {
     "name": "stderr",
     "output_type": "stream",
     "text": [
      "INFO:tensorflow:Assets written to: .\\models\\wind_direction_prediction.ckpt\\assets\n"
     ]
    },
    {
     "name": "stdout",
     "output_type": "stream",
     "text": [
      ".INFO:tensorflow:Assets written to: .\\models\\wind_direction_prediction.ckpt\\assets\n"
     ]
    },
    {
     "name": "stderr",
     "output_type": "stream",
     "text": [
      "INFO:tensorflow:Assets written to: .\\models\\wind_direction_prediction.ckpt\\assets\n"
     ]
    },
    {
     "name": "stdout",
     "output_type": "stream",
     "text": [
      ".INFO:tensorflow:Assets written to: .\\models\\wind_direction_prediction.ckpt\\assets\n"
     ]
    },
    {
     "name": "stderr",
     "output_type": "stream",
     "text": [
      "INFO:tensorflow:Assets written to: .\\models\\wind_direction_prediction.ckpt\\assets\n"
     ]
    },
    {
     "name": "stdout",
     "output_type": "stream",
     "text": [
      ".INFO:tensorflow:Assets written to: .\\models\\wind_direction_prediction.ckpt\\assets\n"
     ]
    },
    {
     "name": "stderr",
     "output_type": "stream",
     "text": [
      "INFO:tensorflow:Assets written to: .\\models\\wind_direction_prediction.ckpt\\assets\n"
     ]
    },
    {
     "name": "stdout",
     "output_type": "stream",
     "text": [
      ".INFO:tensorflow:Assets written to: .\\models\\wind_direction_prediction.ckpt\\assets\n"
     ]
    },
    {
     "name": "stderr",
     "output_type": "stream",
     "text": [
      "INFO:tensorflow:Assets written to: .\\models\\wind_direction_prediction.ckpt\\assets\n"
     ]
    },
    {
     "name": "stdout",
     "output_type": "stream",
     "text": [
      ".INFO:tensorflow:Assets written to: .\\models\\wind_direction_prediction.ckpt\\assets\n"
     ]
    },
    {
     "name": "stderr",
     "output_type": "stream",
     "text": [
      "INFO:tensorflow:Assets written to: .\\models\\wind_direction_prediction.ckpt\\assets\n"
     ]
    },
    {
     "name": "stdout",
     "output_type": "stream",
     "text": [
      ".INFO:tensorflow:Assets written to: .\\models\\wind_direction_prediction.ckpt\\assets\n"
     ]
    },
    {
     "name": "stderr",
     "output_type": "stream",
     "text": [
      "INFO:tensorflow:Assets written to: .\\models\\wind_direction_prediction.ckpt\\assets\n"
     ]
    },
    {
     "name": "stdout",
     "output_type": "stream",
     "text": [
      ".INFO:tensorflow:Assets written to: .\\models\\wind_direction_prediction.ckpt\\assets\n"
     ]
    },
    {
     "name": "stderr",
     "output_type": "stream",
     "text": [
      "INFO:tensorflow:Assets written to: .\\models\\wind_direction_prediction.ckpt\\assets\n"
     ]
    },
    {
     "name": "stdout",
     "output_type": "stream",
     "text": [
      ".INFO:tensorflow:Assets written to: .\\models\\wind_direction_prediction.ckpt\\assets\n"
     ]
    },
    {
     "name": "stderr",
     "output_type": "stream",
     "text": [
      "INFO:tensorflow:Assets written to: .\\models\\wind_direction_prediction.ckpt\\assets\n"
     ]
    },
    {
     "name": "stdout",
     "output_type": "stream",
     "text": [
      ".INFO:tensorflow:Assets written to: .\\models\\wind_direction_prediction.ckpt\\assets\n"
     ]
    },
    {
     "name": "stderr",
     "output_type": "stream",
     "text": [
      "INFO:tensorflow:Assets written to: .\\models\\wind_direction_prediction.ckpt\\assets\n"
     ]
    },
    {
     "name": "stdout",
     "output_type": "stream",
     "text": [
      ".INFO:tensorflow:Assets written to: .\\models\\wind_direction_prediction.ckpt\\assets\n"
     ]
    },
    {
     "name": "stderr",
     "output_type": "stream",
     "text": [
      "INFO:tensorflow:Assets written to: .\\models\\wind_direction_prediction.ckpt\\assets\n"
     ]
    },
    {
     "name": "stdout",
     "output_type": "stream",
     "text": [
      ".INFO:tensorflow:Assets written to: .\\models\\wind_direction_prediction.ckpt\\assets\n"
     ]
    },
    {
     "name": "stderr",
     "output_type": "stream",
     "text": [
      "INFO:tensorflow:Assets written to: .\\models\\wind_direction_prediction.ckpt\\assets\n"
     ]
    },
    {
     "name": "stdout",
     "output_type": "stream",
     "text": [
      ".INFO:tensorflow:Assets written to: .\\models\\wind_direction_prediction.ckpt\\assets\n"
     ]
    },
    {
     "name": "stderr",
     "output_type": "stream",
     "text": [
      "INFO:tensorflow:Assets written to: .\\models\\wind_direction_prediction.ckpt\\assets\n"
     ]
    },
    {
     "name": "stdout",
     "output_type": "stream",
     "text": [
      "\n",
      "Epoch: 200, loss:12.0574,  mae:3.1957,  mape:71.7952,  mse:12.0574,  val_loss:5.9798,  val_mae:2.1779,  val_mape:66.1585,  val_mse:5.9798,  \n",
      ".INFO:tensorflow:Assets written to: .\\models\\wind_direction_prediction.ckpt\\assets\n"
     ]
    },
    {
     "name": "stderr",
     "output_type": "stream",
     "text": [
      "INFO:tensorflow:Assets written to: .\\models\\wind_direction_prediction.ckpt\\assets\n"
     ]
    },
    {
     "name": "stdout",
     "output_type": "stream",
     "text": [
      ".INFO:tensorflow:Assets written to: .\\models\\wind_direction_prediction.ckpt\\assets\n"
     ]
    },
    {
     "name": "stderr",
     "output_type": "stream",
     "text": [
      "INFO:tensorflow:Assets written to: .\\models\\wind_direction_prediction.ckpt\\assets\n"
     ]
    },
    {
     "name": "stdout",
     "output_type": "stream",
     "text": [
      ".INFO:tensorflow:Assets written to: .\\models\\wind_direction_prediction.ckpt\\assets\n"
     ]
    },
    {
     "name": "stderr",
     "output_type": "stream",
     "text": [
      "INFO:tensorflow:Assets written to: .\\models\\wind_direction_prediction.ckpt\\assets\n"
     ]
    },
    {
     "name": "stdout",
     "output_type": "stream",
     "text": [
      ".INFO:tensorflow:Assets written to: .\\models\\wind_direction_prediction.ckpt\\assets\n"
     ]
    },
    {
     "name": "stderr",
     "output_type": "stream",
     "text": [
      "INFO:tensorflow:Assets written to: .\\models\\wind_direction_prediction.ckpt\\assets\n"
     ]
    },
    {
     "name": "stdout",
     "output_type": "stream",
     "text": [
      ".INFO:tensorflow:Assets written to: .\\models\\wind_direction_prediction.ckpt\\assets\n"
     ]
    },
    {
     "name": "stderr",
     "output_type": "stream",
     "text": [
      "INFO:tensorflow:Assets written to: .\\models\\wind_direction_prediction.ckpt\\assets\n"
     ]
    },
    {
     "name": "stdout",
     "output_type": "stream",
     "text": [
      ".INFO:tensorflow:Assets written to: .\\models\\wind_direction_prediction.ckpt\\assets\n"
     ]
    },
    {
     "name": "stderr",
     "output_type": "stream",
     "text": [
      "INFO:tensorflow:Assets written to: .\\models\\wind_direction_prediction.ckpt\\assets\n"
     ]
    },
    {
     "name": "stdout",
     "output_type": "stream",
     "text": [
      ".INFO:tensorflow:Assets written to: .\\models\\wind_direction_prediction.ckpt\\assets\n"
     ]
    },
    {
     "name": "stderr",
     "output_type": "stream",
     "text": [
      "INFO:tensorflow:Assets written to: .\\models\\wind_direction_prediction.ckpt\\assets\n"
     ]
    },
    {
     "name": "stdout",
     "output_type": "stream",
     "text": [
      ".INFO:tensorflow:Assets written to: .\\models\\wind_direction_prediction.ckpt\\assets\n"
     ]
    },
    {
     "name": "stderr",
     "output_type": "stream",
     "text": [
      "INFO:tensorflow:Assets written to: .\\models\\wind_direction_prediction.ckpt\\assets\n"
     ]
    },
    {
     "name": "stdout",
     "output_type": "stream",
     "text": [
      ".INFO:tensorflow:Assets written to: .\\models\\wind_direction_prediction.ckpt\\assets\n"
     ]
    },
    {
     "name": "stderr",
     "output_type": "stream",
     "text": [
      "INFO:tensorflow:Assets written to: .\\models\\wind_direction_prediction.ckpt\\assets\n"
     ]
    },
    {
     "name": "stdout",
     "output_type": "stream",
     "text": [
      ".INFO:tensorflow:Assets written to: .\\models\\wind_direction_prediction.ckpt\\assets\n"
     ]
    },
    {
     "name": "stderr",
     "output_type": "stream",
     "text": [
      "INFO:tensorflow:Assets written to: .\\models\\wind_direction_prediction.ckpt\\assets\n"
     ]
    },
    {
     "name": "stdout",
     "output_type": "stream",
     "text": [
      ".INFO:tensorflow:Assets written to: .\\models\\wind_direction_prediction.ckpt\\assets\n"
     ]
    },
    {
     "name": "stderr",
     "output_type": "stream",
     "text": [
      "INFO:tensorflow:Assets written to: .\\models\\wind_direction_prediction.ckpt\\assets\n"
     ]
    },
    {
     "name": "stdout",
     "output_type": "stream",
     "text": [
      ".INFO:tensorflow:Assets written to: .\\models\\wind_direction_prediction.ckpt\\assets\n"
     ]
    },
    {
     "name": "stderr",
     "output_type": "stream",
     "text": [
      "INFO:tensorflow:Assets written to: .\\models\\wind_direction_prediction.ckpt\\assets\n"
     ]
    },
    {
     "name": "stdout",
     "output_type": "stream",
     "text": [
      ".INFO:tensorflow:Assets written to: .\\models\\wind_direction_prediction.ckpt\\assets\n"
     ]
    },
    {
     "name": "stderr",
     "output_type": "stream",
     "text": [
      "INFO:tensorflow:Assets written to: .\\models\\wind_direction_prediction.ckpt\\assets\n"
     ]
    },
    {
     "name": "stdout",
     "output_type": "stream",
     "text": [
      ".INFO:tensorflow:Assets written to: .\\models\\wind_direction_prediction.ckpt\\assets\n"
     ]
    },
    {
     "name": "stderr",
     "output_type": "stream",
     "text": [
      "INFO:tensorflow:Assets written to: .\\models\\wind_direction_prediction.ckpt\\assets\n"
     ]
    },
    {
     "name": "stdout",
     "output_type": "stream",
     "text": [
      ".INFO:tensorflow:Assets written to: .\\models\\wind_direction_prediction.ckpt\\assets\n"
     ]
    },
    {
     "name": "stderr",
     "output_type": "stream",
     "text": [
      "INFO:tensorflow:Assets written to: .\\models\\wind_direction_prediction.ckpt\\assets\n"
     ]
    },
    {
     "name": "stdout",
     "output_type": "stream",
     "text": [
      ".INFO:tensorflow:Assets written to: .\\models\\wind_direction_prediction.ckpt\\assets\n"
     ]
    },
    {
     "name": "stderr",
     "output_type": "stream",
     "text": [
      "INFO:tensorflow:Assets written to: .\\models\\wind_direction_prediction.ckpt\\assets\n"
     ]
    },
    {
     "name": "stdout",
     "output_type": "stream",
     "text": [
      ".INFO:tensorflow:Assets written to: .\\models\\wind_direction_prediction.ckpt\\assets\n"
     ]
    },
    {
     "name": "stderr",
     "output_type": "stream",
     "text": [
      "INFO:tensorflow:Assets written to: .\\models\\wind_direction_prediction.ckpt\\assets\n"
     ]
    },
    {
     "name": "stdout",
     "output_type": "stream",
     "text": [
      ".INFO:tensorflow:Assets written to: .\\models\\wind_direction_prediction.ckpt\\assets\n"
     ]
    },
    {
     "name": "stderr",
     "output_type": "stream",
     "text": [
      "INFO:tensorflow:Assets written to: .\\models\\wind_direction_prediction.ckpt\\assets\n"
     ]
    },
    {
     "name": "stdout",
     "output_type": "stream",
     "text": [
      ".INFO:tensorflow:Assets written to: .\\models\\wind_direction_prediction.ckpt\\assets\n"
     ]
    },
    {
     "name": "stderr",
     "output_type": "stream",
     "text": [
      "INFO:tensorflow:Assets written to: .\\models\\wind_direction_prediction.ckpt\\assets\n"
     ]
    },
    {
     "name": "stdout",
     "output_type": "stream",
     "text": [
      ".INFO:tensorflow:Assets written to: .\\models\\wind_direction_prediction.ckpt\\assets\n"
     ]
    },
    {
     "name": "stderr",
     "output_type": "stream",
     "text": [
      "INFO:tensorflow:Assets written to: .\\models\\wind_direction_prediction.ckpt\\assets\n"
     ]
    },
    {
     "name": "stdout",
     "output_type": "stream",
     "text": [
      ".INFO:tensorflow:Assets written to: .\\models\\wind_direction_prediction.ckpt\\assets\n"
     ]
    },
    {
     "name": "stderr",
     "output_type": "stream",
     "text": [
      "INFO:tensorflow:Assets written to: .\\models\\wind_direction_prediction.ckpt\\assets\n"
     ]
    },
    {
     "name": "stdout",
     "output_type": "stream",
     "text": [
      ".INFO:tensorflow:Assets written to: .\\models\\wind_direction_prediction.ckpt\\assets\n"
     ]
    },
    {
     "name": "stderr",
     "output_type": "stream",
     "text": [
      "INFO:tensorflow:Assets written to: .\\models\\wind_direction_prediction.ckpt\\assets\n"
     ]
    },
    {
     "name": "stdout",
     "output_type": "stream",
     "text": [
      ".INFO:tensorflow:Assets written to: .\\models\\wind_direction_prediction.ckpt\\assets\n"
     ]
    },
    {
     "name": "stderr",
     "output_type": "stream",
     "text": [
      "INFO:tensorflow:Assets written to: .\\models\\wind_direction_prediction.ckpt\\assets\n"
     ]
    },
    {
     "name": "stdout",
     "output_type": "stream",
     "text": [
      ".INFO:tensorflow:Assets written to: .\\models\\wind_direction_prediction.ckpt\\assets\n"
     ]
    },
    {
     "name": "stderr",
     "output_type": "stream",
     "text": [
      "INFO:tensorflow:Assets written to: .\\models\\wind_direction_prediction.ckpt\\assets\n"
     ]
    },
    {
     "name": "stdout",
     "output_type": "stream",
     "text": [
      ".INFO:tensorflow:Assets written to: .\\models\\wind_direction_prediction.ckpt\\assets\n"
     ]
    },
    {
     "name": "stderr",
     "output_type": "stream",
     "text": [
      "INFO:tensorflow:Assets written to: .\\models\\wind_direction_prediction.ckpt\\assets\n"
     ]
    },
    {
     "name": "stdout",
     "output_type": "stream",
     "text": [
      ".INFO:tensorflow:Assets written to: .\\models\\wind_direction_prediction.ckpt\\assets\n"
     ]
    },
    {
     "name": "stderr",
     "output_type": "stream",
     "text": [
      "INFO:tensorflow:Assets written to: .\\models\\wind_direction_prediction.ckpt\\assets\n"
     ]
    },
    {
     "name": "stdout",
     "output_type": "stream",
     "text": [
      ".INFO:tensorflow:Assets written to: .\\models\\wind_direction_prediction.ckpt\\assets\n"
     ]
    },
    {
     "name": "stderr",
     "output_type": "stream",
     "text": [
      "INFO:tensorflow:Assets written to: .\\models\\wind_direction_prediction.ckpt\\assets\n"
     ]
    },
    {
     "name": "stdout",
     "output_type": "stream",
     "text": [
      ".INFO:tensorflow:Assets written to: .\\models\\wind_direction_prediction.ckpt\\assets\n"
     ]
    },
    {
     "name": "stderr",
     "output_type": "stream",
     "text": [
      "INFO:tensorflow:Assets written to: .\\models\\wind_direction_prediction.ckpt\\assets\n"
     ]
    },
    {
     "name": "stdout",
     "output_type": "stream",
     "text": [
      ".INFO:tensorflow:Assets written to: .\\models\\wind_direction_prediction.ckpt\\assets\n"
     ]
    },
    {
     "name": "stderr",
     "output_type": "stream",
     "text": [
      "INFO:tensorflow:Assets written to: .\\models\\wind_direction_prediction.ckpt\\assets\n"
     ]
    },
    {
     "name": "stdout",
     "output_type": "stream",
     "text": [
      ".INFO:tensorflow:Assets written to: .\\models\\wind_direction_prediction.ckpt\\assets\n"
     ]
    },
    {
     "name": "stderr",
     "output_type": "stream",
     "text": [
      "INFO:tensorflow:Assets written to: .\\models\\wind_direction_prediction.ckpt\\assets\n"
     ]
    },
    {
     "name": "stdout",
     "output_type": "stream",
     "text": [
      ".INFO:tensorflow:Assets written to: .\\models\\wind_direction_prediction.ckpt\\assets\n"
     ]
    },
    {
     "name": "stderr",
     "output_type": "stream",
     "text": [
      "INFO:tensorflow:Assets written to: .\\models\\wind_direction_prediction.ckpt\\assets\n"
     ]
    },
    {
     "name": "stdout",
     "output_type": "stream",
     "text": [
      ".INFO:tensorflow:Assets written to: .\\models\\wind_direction_prediction.ckpt\\assets\n"
     ]
    },
    {
     "name": "stderr",
     "output_type": "stream",
     "text": [
      "INFO:tensorflow:Assets written to: .\\models\\wind_direction_prediction.ckpt\\assets\n"
     ]
    },
    {
     "name": "stdout",
     "output_type": "stream",
     "text": [
      ".INFO:tensorflow:Assets written to: .\\models\\wind_direction_prediction.ckpt\\assets\n"
     ]
    },
    {
     "name": "stderr",
     "output_type": "stream",
     "text": [
      "INFO:tensorflow:Assets written to: .\\models\\wind_direction_prediction.ckpt\\assets\n"
     ]
    },
    {
     "name": "stdout",
     "output_type": "stream",
     "text": [
      ".INFO:tensorflow:Assets written to: .\\models\\wind_direction_prediction.ckpt\\assets\n"
     ]
    },
    {
     "name": "stderr",
     "output_type": "stream",
     "text": [
      "INFO:tensorflow:Assets written to: .\\models\\wind_direction_prediction.ckpt\\assets\n"
     ]
    },
    {
     "name": "stdout",
     "output_type": "stream",
     "text": [
      ".INFO:tensorflow:Assets written to: .\\models\\wind_direction_prediction.ckpt\\assets\n"
     ]
    },
    {
     "name": "stderr",
     "output_type": "stream",
     "text": [
      "INFO:tensorflow:Assets written to: .\\models\\wind_direction_prediction.ckpt\\assets\n"
     ]
    },
    {
     "name": "stdout",
     "output_type": "stream",
     "text": [
      ".INFO:tensorflow:Assets written to: .\\models\\wind_direction_prediction.ckpt\\assets\n"
     ]
    },
    {
     "name": "stderr",
     "output_type": "stream",
     "text": [
      "INFO:tensorflow:Assets written to: .\\models\\wind_direction_prediction.ckpt\\assets\n"
     ]
    },
    {
     "name": "stdout",
     "output_type": "stream",
     "text": [
      ".INFO:tensorflow:Assets written to: .\\models\\wind_direction_prediction.ckpt\\assets\n"
     ]
    },
    {
     "name": "stderr",
     "output_type": "stream",
     "text": [
      "INFO:tensorflow:Assets written to: .\\models\\wind_direction_prediction.ckpt\\assets\n"
     ]
    },
    {
     "name": "stdout",
     "output_type": "stream",
     "text": [
      ".INFO:tensorflow:Assets written to: .\\models\\wind_direction_prediction.ckpt\\assets\n"
     ]
    },
    {
     "name": "stderr",
     "output_type": "stream",
     "text": [
      "INFO:tensorflow:Assets written to: .\\models\\wind_direction_prediction.ckpt\\assets\n"
     ]
    },
    {
     "name": "stdout",
     "output_type": "stream",
     "text": [
      ".INFO:tensorflow:Assets written to: .\\models\\wind_direction_prediction.ckpt\\assets\n"
     ]
    },
    {
     "name": "stderr",
     "output_type": "stream",
     "text": [
      "INFO:tensorflow:Assets written to: .\\models\\wind_direction_prediction.ckpt\\assets\n"
     ]
    },
    {
     "name": "stdout",
     "output_type": "stream",
     "text": [
      ".INFO:tensorflow:Assets written to: .\\models\\wind_direction_prediction.ckpt\\assets\n"
     ]
    },
    {
     "name": "stderr",
     "output_type": "stream",
     "text": [
      "INFO:tensorflow:Assets written to: .\\models\\wind_direction_prediction.ckpt\\assets\n"
     ]
    },
    {
     "name": "stdout",
     "output_type": "stream",
     "text": [
      ".INFO:tensorflow:Assets written to: .\\models\\wind_direction_prediction.ckpt\\assets\n"
     ]
    },
    {
     "name": "stderr",
     "output_type": "stream",
     "text": [
      "INFO:tensorflow:Assets written to: .\\models\\wind_direction_prediction.ckpt\\assets\n"
     ]
    },
    {
     "name": "stdout",
     "output_type": "stream",
     "text": [
      ".INFO:tensorflow:Assets written to: .\\models\\wind_direction_prediction.ckpt\\assets\n"
     ]
    },
    {
     "name": "stderr",
     "output_type": "stream",
     "text": [
      "INFO:tensorflow:Assets written to: .\\models\\wind_direction_prediction.ckpt\\assets\n"
     ]
    },
    {
     "name": "stdout",
     "output_type": "stream",
     "text": [
      ".INFO:tensorflow:Assets written to: .\\models\\wind_direction_prediction.ckpt\\assets\n"
     ]
    },
    {
     "name": "stderr",
     "output_type": "stream",
     "text": [
      "INFO:tensorflow:Assets written to: .\\models\\wind_direction_prediction.ckpt\\assets\n"
     ]
    },
    {
     "name": "stdout",
     "output_type": "stream",
     "text": [
      ".INFO:tensorflow:Assets written to: .\\models\\wind_direction_prediction.ckpt\\assets\n"
     ]
    },
    {
     "name": "stderr",
     "output_type": "stream",
     "text": [
      "INFO:tensorflow:Assets written to: .\\models\\wind_direction_prediction.ckpt\\assets\n"
     ]
    },
    {
     "name": "stdout",
     "output_type": "stream",
     "text": [
      ".INFO:tensorflow:Assets written to: .\\models\\wind_direction_prediction.ckpt\\assets\n"
     ]
    },
    {
     "name": "stderr",
     "output_type": "stream",
     "text": [
      "INFO:tensorflow:Assets written to: .\\models\\wind_direction_prediction.ckpt\\assets\n"
     ]
    },
    {
     "name": "stdout",
     "output_type": "stream",
     "text": [
      ".INFO:tensorflow:Assets written to: .\\models\\wind_direction_prediction.ckpt\\assets\n"
     ]
    },
    {
     "name": "stderr",
     "output_type": "stream",
     "text": [
      "INFO:tensorflow:Assets written to: .\\models\\wind_direction_prediction.ckpt\\assets\n"
     ]
    },
    {
     "name": "stdout",
     "output_type": "stream",
     "text": [
      ".INFO:tensorflow:Assets written to: .\\models\\wind_direction_prediction.ckpt\\assets\n"
     ]
    },
    {
     "name": "stderr",
     "output_type": "stream",
     "text": [
      "INFO:tensorflow:Assets written to: .\\models\\wind_direction_prediction.ckpt\\assets\n"
     ]
    },
    {
     "name": "stdout",
     "output_type": "stream",
     "text": [
      ".INFO:tensorflow:Assets written to: .\\models\\wind_direction_prediction.ckpt\\assets\n"
     ]
    },
    {
     "name": "stderr",
     "output_type": "stream",
     "text": [
      "INFO:tensorflow:Assets written to: .\\models\\wind_direction_prediction.ckpt\\assets\n"
     ]
    },
    {
     "name": "stdout",
     "output_type": "stream",
     "text": [
      ".INFO:tensorflow:Assets written to: .\\models\\wind_direction_prediction.ckpt\\assets\n"
     ]
    },
    {
     "name": "stderr",
     "output_type": "stream",
     "text": [
      "INFO:tensorflow:Assets written to: .\\models\\wind_direction_prediction.ckpt\\assets\n"
     ]
    },
    {
     "name": "stdout",
     "output_type": "stream",
     "text": [
      ".INFO:tensorflow:Assets written to: .\\models\\wind_direction_prediction.ckpt\\assets\n"
     ]
    },
    {
     "name": "stderr",
     "output_type": "stream",
     "text": [
      "INFO:tensorflow:Assets written to: .\\models\\wind_direction_prediction.ckpt\\assets\n"
     ]
    },
    {
     "name": "stdout",
     "output_type": "stream",
     "text": [
      ".INFO:tensorflow:Assets written to: .\\models\\wind_direction_prediction.ckpt\\assets\n"
     ]
    },
    {
     "name": "stderr",
     "output_type": "stream",
     "text": [
      "INFO:tensorflow:Assets written to: .\\models\\wind_direction_prediction.ckpt\\assets\n"
     ]
    },
    {
     "name": "stdout",
     "output_type": "stream",
     "text": [
      ".INFO:tensorflow:Assets written to: .\\models\\wind_direction_prediction.ckpt\\assets\n"
     ]
    },
    {
     "name": "stderr",
     "output_type": "stream",
     "text": [
      "INFO:tensorflow:Assets written to: .\\models\\wind_direction_prediction.ckpt\\assets\n"
     ]
    },
    {
     "name": "stdout",
     "output_type": "stream",
     "text": [
      ".INFO:tensorflow:Assets written to: .\\models\\wind_direction_prediction.ckpt\\assets\n"
     ]
    },
    {
     "name": "stderr",
     "output_type": "stream",
     "text": [
      "INFO:tensorflow:Assets written to: .\\models\\wind_direction_prediction.ckpt\\assets\n"
     ]
    },
    {
     "name": "stdout",
     "output_type": "stream",
     "text": [
      ".INFO:tensorflow:Assets written to: .\\models\\wind_direction_prediction.ckpt\\assets\n"
     ]
    },
    {
     "name": "stderr",
     "output_type": "stream",
     "text": [
      "INFO:tensorflow:Assets written to: .\\models\\wind_direction_prediction.ckpt\\assets\n"
     ]
    },
    {
     "name": "stdout",
     "output_type": "stream",
     "text": [
      ".INFO:tensorflow:Assets written to: .\\models\\wind_direction_prediction.ckpt\\assets\n"
     ]
    },
    {
     "name": "stderr",
     "output_type": "stream",
     "text": [
      "INFO:tensorflow:Assets written to: .\\models\\wind_direction_prediction.ckpt\\assets\n"
     ]
    },
    {
     "name": "stdout",
     "output_type": "stream",
     "text": [
      ".INFO:tensorflow:Assets written to: .\\models\\wind_direction_prediction.ckpt\\assets\n"
     ]
    },
    {
     "name": "stderr",
     "output_type": "stream",
     "text": [
      "INFO:tensorflow:Assets written to: .\\models\\wind_direction_prediction.ckpt\\assets\n"
     ]
    },
    {
     "name": "stdout",
     "output_type": "stream",
     "text": [
      ".INFO:tensorflow:Assets written to: .\\models\\wind_direction_prediction.ckpt\\assets\n"
     ]
    },
    {
     "name": "stderr",
     "output_type": "stream",
     "text": [
      "INFO:tensorflow:Assets written to: .\\models\\wind_direction_prediction.ckpt\\assets\n"
     ]
    },
    {
     "name": "stdout",
     "output_type": "stream",
     "text": [
      ".INFO:tensorflow:Assets written to: .\\models\\wind_direction_prediction.ckpt\\assets\n"
     ]
    },
    {
     "name": "stderr",
     "output_type": "stream",
     "text": [
      "INFO:tensorflow:Assets written to: .\\models\\wind_direction_prediction.ckpt\\assets\n"
     ]
    },
    {
     "name": "stdout",
     "output_type": "stream",
     "text": [
      ".INFO:tensorflow:Assets written to: .\\models\\wind_direction_prediction.ckpt\\assets\n"
     ]
    },
    {
     "name": "stderr",
     "output_type": "stream",
     "text": [
      "INFO:tensorflow:Assets written to: .\\models\\wind_direction_prediction.ckpt\\assets\n"
     ]
    },
    {
     "name": "stdout",
     "output_type": "stream",
     "text": [
      ".INFO:tensorflow:Assets written to: .\\models\\wind_direction_prediction.ckpt\\assets\n"
     ]
    },
    {
     "name": "stderr",
     "output_type": "stream",
     "text": [
      "INFO:tensorflow:Assets written to: .\\models\\wind_direction_prediction.ckpt\\assets\n"
     ]
    },
    {
     "name": "stdout",
     "output_type": "stream",
     "text": [
      ".INFO:tensorflow:Assets written to: .\\models\\wind_direction_prediction.ckpt\\assets\n"
     ]
    },
    {
     "name": "stderr",
     "output_type": "stream",
     "text": [
      "INFO:tensorflow:Assets written to: .\\models\\wind_direction_prediction.ckpt\\assets\n"
     ]
    },
    {
     "name": "stdout",
     "output_type": "stream",
     "text": [
      ".INFO:tensorflow:Assets written to: .\\models\\wind_direction_prediction.ckpt\\assets\n"
     ]
    },
    {
     "name": "stderr",
     "output_type": "stream",
     "text": [
      "INFO:tensorflow:Assets written to: .\\models\\wind_direction_prediction.ckpt\\assets\n"
     ]
    },
    {
     "name": "stdout",
     "output_type": "stream",
     "text": [
      ".INFO:tensorflow:Assets written to: .\\models\\wind_direction_prediction.ckpt\\assets\n"
     ]
    },
    {
     "name": "stderr",
     "output_type": "stream",
     "text": [
      "INFO:tensorflow:Assets written to: .\\models\\wind_direction_prediction.ckpt\\assets\n"
     ]
    },
    {
     "name": "stdout",
     "output_type": "stream",
     "text": [
      ".INFO:tensorflow:Assets written to: .\\models\\wind_direction_prediction.ckpt\\assets\n"
     ]
    },
    {
     "name": "stderr",
     "output_type": "stream",
     "text": [
      "INFO:tensorflow:Assets written to: .\\models\\wind_direction_prediction.ckpt\\assets\n"
     ]
    },
    {
     "name": "stdout",
     "output_type": "stream",
     "text": [
      ".INFO:tensorflow:Assets written to: .\\models\\wind_direction_prediction.ckpt\\assets\n"
     ]
    },
    {
     "name": "stderr",
     "output_type": "stream",
     "text": [
      "INFO:tensorflow:Assets written to: .\\models\\wind_direction_prediction.ckpt\\assets\n"
     ]
    },
    {
     "name": "stdout",
     "output_type": "stream",
     "text": [
      ".INFO:tensorflow:Assets written to: .\\models\\wind_direction_prediction.ckpt\\assets\n"
     ]
    },
    {
     "name": "stderr",
     "output_type": "stream",
     "text": [
      "INFO:tensorflow:Assets written to: .\\models\\wind_direction_prediction.ckpt\\assets\n"
     ]
    },
    {
     "name": "stdout",
     "output_type": "stream",
     "text": [
      ".INFO:tensorflow:Assets written to: .\\models\\wind_direction_prediction.ckpt\\assets\n"
     ]
    },
    {
     "name": "stderr",
     "output_type": "stream",
     "text": [
      "INFO:tensorflow:Assets written to: .\\models\\wind_direction_prediction.ckpt\\assets\n"
     ]
    },
    {
     "name": "stdout",
     "output_type": "stream",
     "text": [
      ".INFO:tensorflow:Assets written to: .\\models\\wind_direction_prediction.ckpt\\assets\n"
     ]
    },
    {
     "name": "stderr",
     "output_type": "stream",
     "text": [
      "INFO:tensorflow:Assets written to: .\\models\\wind_direction_prediction.ckpt\\assets\n"
     ]
    },
    {
     "name": "stdout",
     "output_type": "stream",
     "text": [
      ".INFO:tensorflow:Assets written to: .\\models\\wind_direction_prediction.ckpt\\assets\n"
     ]
    },
    {
     "name": "stderr",
     "output_type": "stream",
     "text": [
      "INFO:tensorflow:Assets written to: .\\models\\wind_direction_prediction.ckpt\\assets\n"
     ]
    },
    {
     "name": "stdout",
     "output_type": "stream",
     "text": [
      ".INFO:tensorflow:Assets written to: .\\models\\wind_direction_prediction.ckpt\\assets\n"
     ]
    },
    {
     "name": "stderr",
     "output_type": "stream",
     "text": [
      "INFO:tensorflow:Assets written to: .\\models\\wind_direction_prediction.ckpt\\assets\n"
     ]
    },
    {
     "name": "stdout",
     "output_type": "stream",
     "text": [
      ".INFO:tensorflow:Assets written to: .\\models\\wind_direction_prediction.ckpt\\assets\n"
     ]
    },
    {
     "name": "stderr",
     "output_type": "stream",
     "text": [
      "INFO:tensorflow:Assets written to: .\\models\\wind_direction_prediction.ckpt\\assets\n"
     ]
    },
    {
     "name": "stdout",
     "output_type": "stream",
     "text": [
      ".INFO:tensorflow:Assets written to: .\\models\\wind_direction_prediction.ckpt\\assets\n"
     ]
    },
    {
     "name": "stderr",
     "output_type": "stream",
     "text": [
      "INFO:tensorflow:Assets written to: .\\models\\wind_direction_prediction.ckpt\\assets\n"
     ]
    },
    {
     "name": "stdout",
     "output_type": "stream",
     "text": [
      ".INFO:tensorflow:Assets written to: .\\models\\wind_direction_prediction.ckpt\\assets\n"
     ]
    },
    {
     "name": "stderr",
     "output_type": "stream",
     "text": [
      "INFO:tensorflow:Assets written to: .\\models\\wind_direction_prediction.ckpt\\assets\n"
     ]
    },
    {
     "name": "stdout",
     "output_type": "stream",
     "text": [
      ".INFO:tensorflow:Assets written to: .\\models\\wind_direction_prediction.ckpt\\assets\n"
     ]
    },
    {
     "name": "stderr",
     "output_type": "stream",
     "text": [
      "INFO:tensorflow:Assets written to: .\\models\\wind_direction_prediction.ckpt\\assets\n"
     ]
    },
    {
     "name": "stdout",
     "output_type": "stream",
     "text": [
      ".INFO:tensorflow:Assets written to: .\\models\\wind_direction_prediction.ckpt\\assets\n"
     ]
    },
    {
     "name": "stderr",
     "output_type": "stream",
     "text": [
      "INFO:tensorflow:Assets written to: .\\models\\wind_direction_prediction.ckpt\\assets\n"
     ]
    },
    {
     "name": "stdout",
     "output_type": "stream",
     "text": [
      ".INFO:tensorflow:Assets written to: .\\models\\wind_direction_prediction.ckpt\\assets\n"
     ]
    },
    {
     "name": "stderr",
     "output_type": "stream",
     "text": [
      "INFO:tensorflow:Assets written to: .\\models\\wind_direction_prediction.ckpt\\assets\n"
     ]
    },
    {
     "name": "stdout",
     "output_type": "stream",
     "text": [
      ".INFO:tensorflow:Assets written to: .\\models\\wind_direction_prediction.ckpt\\assets\n"
     ]
    },
    {
     "name": "stderr",
     "output_type": "stream",
     "text": [
      "INFO:tensorflow:Assets written to: .\\models\\wind_direction_prediction.ckpt\\assets\n"
     ]
    },
    {
     "name": "stdout",
     "output_type": "stream",
     "text": [
      ".INFO:tensorflow:Assets written to: .\\models\\wind_direction_prediction.ckpt\\assets\n"
     ]
    },
    {
     "name": "stderr",
     "output_type": "stream",
     "text": [
      "INFO:tensorflow:Assets written to: .\\models\\wind_direction_prediction.ckpt\\assets\n"
     ]
    },
    {
     "name": "stdout",
     "output_type": "stream",
     "text": [
      ".INFO:tensorflow:Assets written to: .\\models\\wind_direction_prediction.ckpt\\assets\n"
     ]
    },
    {
     "name": "stderr",
     "output_type": "stream",
     "text": [
      "INFO:tensorflow:Assets written to: .\\models\\wind_direction_prediction.ckpt\\assets\n"
     ]
    },
    {
     "name": "stdout",
     "output_type": "stream",
     "text": [
      ".INFO:tensorflow:Assets written to: .\\models\\wind_direction_prediction.ckpt\\assets\n"
     ]
    },
    {
     "name": "stderr",
     "output_type": "stream",
     "text": [
      "INFO:tensorflow:Assets written to: .\\models\\wind_direction_prediction.ckpt\\assets\n"
     ]
    },
    {
     "name": "stdout",
     "output_type": "stream",
     "text": [
      ".INFO:tensorflow:Assets written to: .\\models\\wind_direction_prediction.ckpt\\assets\n"
     ]
    },
    {
     "name": "stderr",
     "output_type": "stream",
     "text": [
      "INFO:tensorflow:Assets written to: .\\models\\wind_direction_prediction.ckpt\\assets\n"
     ]
    },
    {
     "name": "stdout",
     "output_type": "stream",
     "text": [
      ".INFO:tensorflow:Assets written to: .\\models\\wind_direction_prediction.ckpt\\assets\n"
     ]
    },
    {
     "name": "stderr",
     "output_type": "stream",
     "text": [
      "INFO:tensorflow:Assets written to: .\\models\\wind_direction_prediction.ckpt\\assets\n"
     ]
    },
    {
     "name": "stdout",
     "output_type": "stream",
     "text": [
      ".INFO:tensorflow:Assets written to: .\\models\\wind_direction_prediction.ckpt\\assets\n"
     ]
    },
    {
     "name": "stderr",
     "output_type": "stream",
     "text": [
      "INFO:tensorflow:Assets written to: .\\models\\wind_direction_prediction.ckpt\\assets\n"
     ]
    },
    {
     "name": "stdout",
     "output_type": "stream",
     "text": [
      ".INFO:tensorflow:Assets written to: .\\models\\wind_direction_prediction.ckpt\\assets\n"
     ]
    },
    {
     "name": "stderr",
     "output_type": "stream",
     "text": [
      "INFO:tensorflow:Assets written to: .\\models\\wind_direction_prediction.ckpt\\assets\n"
     ]
    },
    {
     "name": "stdout",
     "output_type": "stream",
     "text": [
      ".INFO:tensorflow:Assets written to: .\\models\\wind_direction_prediction.ckpt\\assets\n"
     ]
    },
    {
     "name": "stderr",
     "output_type": "stream",
     "text": [
      "INFO:tensorflow:Assets written to: .\\models\\wind_direction_prediction.ckpt\\assets\n"
     ]
    },
    {
     "name": "stdout",
     "output_type": "stream",
     "text": [
      ".INFO:tensorflow:Assets written to: .\\models\\wind_direction_prediction.ckpt\\assets\n"
     ]
    },
    {
     "name": "stderr",
     "output_type": "stream",
     "text": [
      "INFO:tensorflow:Assets written to: .\\models\\wind_direction_prediction.ckpt\\assets\n"
     ]
    },
    {
     "name": "stdout",
     "output_type": "stream",
     "text": [
      ".INFO:tensorflow:Assets written to: .\\models\\wind_direction_prediction.ckpt\\assets\n"
     ]
    },
    {
     "name": "stderr",
     "output_type": "stream",
     "text": [
      "INFO:tensorflow:Assets written to: .\\models\\wind_direction_prediction.ckpt\\assets\n"
     ]
    },
    {
     "name": "stdout",
     "output_type": "stream",
     "text": [
      ".INFO:tensorflow:Assets written to: .\\models\\wind_direction_prediction.ckpt\\assets\n"
     ]
    },
    {
     "name": "stderr",
     "output_type": "stream",
     "text": [
      "INFO:tensorflow:Assets written to: .\\models\\wind_direction_prediction.ckpt\\assets\n"
     ]
    },
    {
     "name": "stdout",
     "output_type": "stream",
     "text": [
      ".INFO:tensorflow:Assets written to: .\\models\\wind_direction_prediction.ckpt\\assets\n"
     ]
    },
    {
     "name": "stderr",
     "output_type": "stream",
     "text": [
      "INFO:tensorflow:Assets written to: .\\models\\wind_direction_prediction.ckpt\\assets\n"
     ]
    },
    {
     "name": "stdout",
     "output_type": "stream",
     "text": [
      ".INFO:tensorflow:Assets written to: .\\models\\wind_direction_prediction.ckpt\\assets\n"
     ]
    },
    {
     "name": "stderr",
     "output_type": "stream",
     "text": [
      "INFO:tensorflow:Assets written to: .\\models\\wind_direction_prediction.ckpt\\assets\n"
     ]
    },
    {
     "name": "stdout",
     "output_type": "stream",
     "text": [
      ".INFO:tensorflow:Assets written to: .\\models\\wind_direction_prediction.ckpt\\assets\n"
     ]
    },
    {
     "name": "stderr",
     "output_type": "stream",
     "text": [
      "INFO:tensorflow:Assets written to: .\\models\\wind_direction_prediction.ckpt\\assets\n"
     ]
    },
    {
     "name": "stdout",
     "output_type": "stream",
     "text": [
      ".INFO:tensorflow:Assets written to: .\\models\\wind_direction_prediction.ckpt\\assets\n"
     ]
    },
    {
     "name": "stderr",
     "output_type": "stream",
     "text": [
      "INFO:tensorflow:Assets written to: .\\models\\wind_direction_prediction.ckpt\\assets\n"
     ]
    },
    {
     "name": "stdout",
     "output_type": "stream",
     "text": [
      ".INFO:tensorflow:Assets written to: .\\models\\wind_direction_prediction.ckpt\\assets\n"
     ]
    },
    {
     "name": "stderr",
     "output_type": "stream",
     "text": [
      "INFO:tensorflow:Assets written to: .\\models\\wind_direction_prediction.ckpt\\assets\n"
     ]
    },
    {
     "name": "stdout",
     "output_type": "stream",
     "text": [
      ".INFO:tensorflow:Assets written to: .\\models\\wind_direction_prediction.ckpt\\assets\n"
     ]
    },
    {
     "name": "stderr",
     "output_type": "stream",
     "text": [
      "INFO:tensorflow:Assets written to: .\\models\\wind_direction_prediction.ckpt\\assets\n"
     ]
    },
    {
     "name": "stdout",
     "output_type": "stream",
     "text": [
      ".INFO:tensorflow:Assets written to: .\\models\\wind_direction_prediction.ckpt\\assets\n"
     ]
    },
    {
     "name": "stderr",
     "output_type": "stream",
     "text": [
      "INFO:tensorflow:Assets written to: .\\models\\wind_direction_prediction.ckpt\\assets\n"
     ]
    },
    {
     "name": "stdout",
     "output_type": "stream",
     "text": [
      ".INFO:tensorflow:Assets written to: .\\models\\wind_direction_prediction.ckpt\\assets\n"
     ]
    },
    {
     "name": "stderr",
     "output_type": "stream",
     "text": [
      "INFO:tensorflow:Assets written to: .\\models\\wind_direction_prediction.ckpt\\assets\n"
     ]
    },
    {
     "name": "stdout",
     "output_type": "stream",
     "text": [
      ".INFO:tensorflow:Assets written to: .\\models\\wind_direction_prediction.ckpt\\assets\n"
     ]
    },
    {
     "name": "stderr",
     "output_type": "stream",
     "text": [
      "INFO:tensorflow:Assets written to: .\\models\\wind_direction_prediction.ckpt\\assets\n"
     ]
    },
    {
     "name": "stdout",
     "output_type": "stream",
     "text": [
      ".INFO:tensorflow:Assets written to: .\\models\\wind_direction_prediction.ckpt\\assets\n"
     ]
    },
    {
     "name": "stderr",
     "output_type": "stream",
     "text": [
      "INFO:tensorflow:Assets written to: .\\models\\wind_direction_prediction.ckpt\\assets\n"
     ]
    },
    {
     "name": "stdout",
     "output_type": "stream",
     "text": [
      ".INFO:tensorflow:Assets written to: .\\models\\wind_direction_prediction.ckpt\\assets\n"
     ]
    },
    {
     "name": "stderr",
     "output_type": "stream",
     "text": [
      "INFO:tensorflow:Assets written to: .\\models\\wind_direction_prediction.ckpt\\assets\n"
     ]
    },
    {
     "name": "stdout",
     "output_type": "stream",
     "text": [
      ".INFO:tensorflow:Assets written to: .\\models\\wind_direction_prediction.ckpt\\assets\n"
     ]
    },
    {
     "name": "stderr",
     "output_type": "stream",
     "text": [
      "INFO:tensorflow:Assets written to: .\\models\\wind_direction_prediction.ckpt\\assets\n"
     ]
    },
    {
     "name": "stdout",
     "output_type": "stream",
     "text": [
      "\n",
      "Epoch: 300, loss:8.9049,  mae:2.8578,  mape:68.0799,  mse:8.9049,  val_loss:4.5943,  val_mae:1.8428,  val_mape:54.1938,  val_mse:4.5943,  \n",
      ".INFO:tensorflow:Assets written to: .\\models\\wind_direction_prediction.ckpt\\assets\n"
     ]
    },
    {
     "name": "stderr",
     "output_type": "stream",
     "text": [
      "INFO:tensorflow:Assets written to: .\\models\\wind_direction_prediction.ckpt\\assets\n"
     ]
    },
    {
     "name": "stdout",
     "output_type": "stream",
     "text": [
      ".INFO:tensorflow:Assets written to: .\\models\\wind_direction_prediction.ckpt\\assets\n"
     ]
    },
    {
     "name": "stderr",
     "output_type": "stream",
     "text": [
      "INFO:tensorflow:Assets written to: .\\models\\wind_direction_prediction.ckpt\\assets\n"
     ]
    },
    {
     "name": "stdout",
     "output_type": "stream",
     "text": [
      ".INFO:tensorflow:Assets written to: .\\models\\wind_direction_prediction.ckpt\\assets\n"
     ]
    },
    {
     "name": "stderr",
     "output_type": "stream",
     "text": [
      "INFO:tensorflow:Assets written to: .\\models\\wind_direction_prediction.ckpt\\assets\n"
     ]
    },
    {
     "name": "stdout",
     "output_type": "stream",
     "text": [
      ".INFO:tensorflow:Assets written to: .\\models\\wind_direction_prediction.ckpt\\assets\n"
     ]
    },
    {
     "name": "stderr",
     "output_type": "stream",
     "text": [
      "INFO:tensorflow:Assets written to: .\\models\\wind_direction_prediction.ckpt\\assets\n"
     ]
    },
    {
     "name": "stdout",
     "output_type": "stream",
     "text": [
      ".INFO:tensorflow:Assets written to: .\\models\\wind_direction_prediction.ckpt\\assets\n"
     ]
    },
    {
     "name": "stderr",
     "output_type": "stream",
     "text": [
      "INFO:tensorflow:Assets written to: .\\models\\wind_direction_prediction.ckpt\\assets\n"
     ]
    },
    {
     "name": "stdout",
     "output_type": "stream",
     "text": [
      ".INFO:tensorflow:Assets written to: .\\models\\wind_direction_prediction.ckpt\\assets\n"
     ]
    },
    {
     "name": "stderr",
     "output_type": "stream",
     "text": [
      "INFO:tensorflow:Assets written to: .\\models\\wind_direction_prediction.ckpt\\assets\n"
     ]
    },
    {
     "name": "stdout",
     "output_type": "stream",
     "text": [
      ".INFO:tensorflow:Assets written to: .\\models\\wind_direction_prediction.ckpt\\assets\n"
     ]
    },
    {
     "name": "stderr",
     "output_type": "stream",
     "text": [
      "INFO:tensorflow:Assets written to: .\\models\\wind_direction_prediction.ckpt\\assets\n"
     ]
    },
    {
     "name": "stdout",
     "output_type": "stream",
     "text": [
      ".INFO:tensorflow:Assets written to: .\\models\\wind_direction_prediction.ckpt\\assets\n"
     ]
    },
    {
     "name": "stderr",
     "output_type": "stream",
     "text": [
      "INFO:tensorflow:Assets written to: .\\models\\wind_direction_prediction.ckpt\\assets\n"
     ]
    },
    {
     "name": "stdout",
     "output_type": "stream",
     "text": [
      ".INFO:tensorflow:Assets written to: .\\models\\wind_direction_prediction.ckpt\\assets\n"
     ]
    },
    {
     "name": "stderr",
     "output_type": "stream",
     "text": [
      "INFO:tensorflow:Assets written to: .\\models\\wind_direction_prediction.ckpt\\assets\n"
     ]
    },
    {
     "name": "stdout",
     "output_type": "stream",
     "text": [
      ".INFO:tensorflow:Assets written to: .\\models\\wind_direction_prediction.ckpt\\assets\n"
     ]
    },
    {
     "name": "stderr",
     "output_type": "stream",
     "text": [
      "INFO:tensorflow:Assets written to: .\\models\\wind_direction_prediction.ckpt\\assets\n"
     ]
    },
    {
     "name": "stdout",
     "output_type": "stream",
     "text": [
      ".INFO:tensorflow:Assets written to: .\\models\\wind_direction_prediction.ckpt\\assets\n"
     ]
    },
    {
     "name": "stderr",
     "output_type": "stream",
     "text": [
      "INFO:tensorflow:Assets written to: .\\models\\wind_direction_prediction.ckpt\\assets\n"
     ]
    },
    {
     "name": "stdout",
     "output_type": "stream",
     "text": [
      ".INFO:tensorflow:Assets written to: .\\models\\wind_direction_prediction.ckpt\\assets\n"
     ]
    },
    {
     "name": "stderr",
     "output_type": "stream",
     "text": [
      "INFO:tensorflow:Assets written to: .\\models\\wind_direction_prediction.ckpt\\assets\n"
     ]
    },
    {
     "name": "stdout",
     "output_type": "stream",
     "text": [
      ".INFO:tensorflow:Assets written to: .\\models\\wind_direction_prediction.ckpt\\assets\n"
     ]
    },
    {
     "name": "stderr",
     "output_type": "stream",
     "text": [
      "INFO:tensorflow:Assets written to: .\\models\\wind_direction_prediction.ckpt\\assets\n"
     ]
    },
    {
     "name": "stdout",
     "output_type": "stream",
     "text": [
      ".INFO:tensorflow:Assets written to: .\\models\\wind_direction_prediction.ckpt\\assets\n"
     ]
    },
    {
     "name": "stderr",
     "output_type": "stream",
     "text": [
      "INFO:tensorflow:Assets written to: .\\models\\wind_direction_prediction.ckpt\\assets\n"
     ]
    },
    {
     "name": "stdout",
     "output_type": "stream",
     "text": [
      ".INFO:tensorflow:Assets written to: .\\models\\wind_direction_prediction.ckpt\\assets\n"
     ]
    },
    {
     "name": "stderr",
     "output_type": "stream",
     "text": [
      "INFO:tensorflow:Assets written to: .\\models\\wind_direction_prediction.ckpt\\assets\n"
     ]
    },
    {
     "name": "stdout",
     "output_type": "stream",
     "text": [
      ".INFO:tensorflow:Assets written to: .\\models\\wind_direction_prediction.ckpt\\assets\n"
     ]
    },
    {
     "name": "stderr",
     "output_type": "stream",
     "text": [
      "INFO:tensorflow:Assets written to: .\\models\\wind_direction_prediction.ckpt\\assets\n"
     ]
    },
    {
     "name": "stdout",
     "output_type": "stream",
     "text": [
      ".INFO:tensorflow:Assets written to: .\\models\\wind_direction_prediction.ckpt\\assets\n"
     ]
    },
    {
     "name": "stderr",
     "output_type": "stream",
     "text": [
      "INFO:tensorflow:Assets written to: .\\models\\wind_direction_prediction.ckpt\\assets\n"
     ]
    },
    {
     "name": "stdout",
     "output_type": "stream",
     "text": [
      ".INFO:tensorflow:Assets written to: .\\models\\wind_direction_prediction.ckpt\\assets\n"
     ]
    },
    {
     "name": "stderr",
     "output_type": "stream",
     "text": [
      "INFO:tensorflow:Assets written to: .\\models\\wind_direction_prediction.ckpt\\assets\n"
     ]
    },
    {
     "name": "stdout",
     "output_type": "stream",
     "text": [
      ".INFO:tensorflow:Assets written to: .\\models\\wind_direction_prediction.ckpt\\assets\n"
     ]
    },
    {
     "name": "stderr",
     "output_type": "stream",
     "text": [
      "INFO:tensorflow:Assets written to: .\\models\\wind_direction_prediction.ckpt\\assets\n"
     ]
    },
    {
     "name": "stdout",
     "output_type": "stream",
     "text": [
      ".INFO:tensorflow:Assets written to: .\\models\\wind_direction_prediction.ckpt\\assets\n"
     ]
    },
    {
     "name": "stderr",
     "output_type": "stream",
     "text": [
      "INFO:tensorflow:Assets written to: .\\models\\wind_direction_prediction.ckpt\\assets\n"
     ]
    },
    {
     "name": "stdout",
     "output_type": "stream",
     "text": [
      ".INFO:tensorflow:Assets written to: .\\models\\wind_direction_prediction.ckpt\\assets\n"
     ]
    },
    {
     "name": "stderr",
     "output_type": "stream",
     "text": [
      "INFO:tensorflow:Assets written to: .\\models\\wind_direction_prediction.ckpt\\assets\n"
     ]
    },
    {
     "name": "stdout",
     "output_type": "stream",
     "text": [
      ".INFO:tensorflow:Assets written to: .\\models\\wind_direction_prediction.ckpt\\assets\n"
     ]
    },
    {
     "name": "stderr",
     "output_type": "stream",
     "text": [
      "INFO:tensorflow:Assets written to: .\\models\\wind_direction_prediction.ckpt\\assets\n"
     ]
    },
    {
     "name": "stdout",
     "output_type": "stream",
     "text": [
      ".INFO:tensorflow:Assets written to: .\\models\\wind_direction_prediction.ckpt\\assets\n"
     ]
    },
    {
     "name": "stderr",
     "output_type": "stream",
     "text": [
      "INFO:tensorflow:Assets written to: .\\models\\wind_direction_prediction.ckpt\\assets\n"
     ]
    },
    {
     "name": "stdout",
     "output_type": "stream",
     "text": [
      ".INFO:tensorflow:Assets written to: .\\models\\wind_direction_prediction.ckpt\\assets\n"
     ]
    },
    {
     "name": "stderr",
     "output_type": "stream",
     "text": [
      "INFO:tensorflow:Assets written to: .\\models\\wind_direction_prediction.ckpt\\assets\n"
     ]
    },
    {
     "name": "stdout",
     "output_type": "stream",
     "text": [
      ".INFO:tensorflow:Assets written to: .\\models\\wind_direction_prediction.ckpt\\assets\n"
     ]
    },
    {
     "name": "stderr",
     "output_type": "stream",
     "text": [
      "INFO:tensorflow:Assets written to: .\\models\\wind_direction_prediction.ckpt\\assets\n"
     ]
    },
    {
     "name": "stdout",
     "output_type": "stream",
     "text": [
      ".INFO:tensorflow:Assets written to: .\\models\\wind_direction_prediction.ckpt\\assets\n"
     ]
    },
    {
     "name": "stderr",
     "output_type": "stream",
     "text": [
      "INFO:tensorflow:Assets written to: .\\models\\wind_direction_prediction.ckpt\\assets\n"
     ]
    },
    {
     "name": "stdout",
     "output_type": "stream",
     "text": [
      ".INFO:tensorflow:Assets written to: .\\models\\wind_direction_prediction.ckpt\\assets\n"
     ]
    },
    {
     "name": "stderr",
     "output_type": "stream",
     "text": [
      "INFO:tensorflow:Assets written to: .\\models\\wind_direction_prediction.ckpt\\assets\n"
     ]
    },
    {
     "name": "stdout",
     "output_type": "stream",
     "text": [
      ".INFO:tensorflow:Assets written to: .\\models\\wind_direction_prediction.ckpt\\assets\n"
     ]
    },
    {
     "name": "stderr",
     "output_type": "stream",
     "text": [
      "INFO:tensorflow:Assets written to: .\\models\\wind_direction_prediction.ckpt\\assets\n"
     ]
    },
    {
     "name": "stdout",
     "output_type": "stream",
     "text": [
      ".INFO:tensorflow:Assets written to: .\\models\\wind_direction_prediction.ckpt\\assets\n"
     ]
    },
    {
     "name": "stderr",
     "output_type": "stream",
     "text": [
      "INFO:tensorflow:Assets written to: .\\models\\wind_direction_prediction.ckpt\\assets\n"
     ]
    },
    {
     "name": "stdout",
     "output_type": "stream",
     "text": [
      ".INFO:tensorflow:Assets written to: .\\models\\wind_direction_prediction.ckpt\\assets\n"
     ]
    },
    {
     "name": "stderr",
     "output_type": "stream",
     "text": [
      "INFO:tensorflow:Assets written to: .\\models\\wind_direction_prediction.ckpt\\assets\n"
     ]
    },
    {
     "name": "stdout",
     "output_type": "stream",
     "text": [
      ".INFO:tensorflow:Assets written to: .\\models\\wind_direction_prediction.ckpt\\assets\n"
     ]
    },
    {
     "name": "stderr",
     "output_type": "stream",
     "text": [
      "INFO:tensorflow:Assets written to: .\\models\\wind_direction_prediction.ckpt\\assets\n"
     ]
    },
    {
     "name": "stdout",
     "output_type": "stream",
     "text": [
      ".INFO:tensorflow:Assets written to: .\\models\\wind_direction_prediction.ckpt\\assets\n"
     ]
    },
    {
     "name": "stderr",
     "output_type": "stream",
     "text": [
      "INFO:tensorflow:Assets written to: .\\models\\wind_direction_prediction.ckpt\\assets\n"
     ]
    },
    {
     "name": "stdout",
     "output_type": "stream",
     "text": [
      ".INFO:tensorflow:Assets written to: .\\models\\wind_direction_prediction.ckpt\\assets\n"
     ]
    },
    {
     "name": "stderr",
     "output_type": "stream",
     "text": [
      "INFO:tensorflow:Assets written to: .\\models\\wind_direction_prediction.ckpt\\assets\n"
     ]
    },
    {
     "name": "stdout",
     "output_type": "stream",
     "text": [
      ".INFO:tensorflow:Assets written to: .\\models\\wind_direction_prediction.ckpt\\assets\n"
     ]
    },
    {
     "name": "stderr",
     "output_type": "stream",
     "text": [
      "INFO:tensorflow:Assets written to: .\\models\\wind_direction_prediction.ckpt\\assets\n"
     ]
    },
    {
     "name": "stdout",
     "output_type": "stream",
     "text": [
      ".INFO:tensorflow:Assets written to: .\\models\\wind_direction_prediction.ckpt\\assets\n"
     ]
    },
    {
     "name": "stderr",
     "output_type": "stream",
     "text": [
      "INFO:tensorflow:Assets written to: .\\models\\wind_direction_prediction.ckpt\\assets\n"
     ]
    },
    {
     "name": "stdout",
     "output_type": "stream",
     "text": [
      ".INFO:tensorflow:Assets written to: .\\models\\wind_direction_prediction.ckpt\\assets\n"
     ]
    },
    {
     "name": "stderr",
     "output_type": "stream",
     "text": [
      "INFO:tensorflow:Assets written to: .\\models\\wind_direction_prediction.ckpt\\assets\n"
     ]
    },
    {
     "name": "stdout",
     "output_type": "stream",
     "text": [
      ".INFO:tensorflow:Assets written to: .\\models\\wind_direction_prediction.ckpt\\assets\n"
     ]
    },
    {
     "name": "stderr",
     "output_type": "stream",
     "text": [
      "INFO:tensorflow:Assets written to: .\\models\\wind_direction_prediction.ckpt\\assets\n"
     ]
    },
    {
     "name": "stdout",
     "output_type": "stream",
     "text": [
      ".INFO:tensorflow:Assets written to: .\\models\\wind_direction_prediction.ckpt\\assets\n"
     ]
    },
    {
     "name": "stderr",
     "output_type": "stream",
     "text": [
      "INFO:tensorflow:Assets written to: .\\models\\wind_direction_prediction.ckpt\\assets\n"
     ]
    },
    {
     "name": "stdout",
     "output_type": "stream",
     "text": [
      ".INFO:tensorflow:Assets written to: .\\models\\wind_direction_prediction.ckpt\\assets\n"
     ]
    },
    {
     "name": "stderr",
     "output_type": "stream",
     "text": [
      "INFO:tensorflow:Assets written to: .\\models\\wind_direction_prediction.ckpt\\assets\n"
     ]
    },
    {
     "name": "stdout",
     "output_type": "stream",
     "text": [
      ".INFO:tensorflow:Assets written to: .\\models\\wind_direction_prediction.ckpt\\assets\n"
     ]
    },
    {
     "name": "stderr",
     "output_type": "stream",
     "text": [
      "INFO:tensorflow:Assets written to: .\\models\\wind_direction_prediction.ckpt\\assets\n"
     ]
    },
    {
     "name": "stdout",
     "output_type": "stream",
     "text": [
      ".INFO:tensorflow:Assets written to: .\\models\\wind_direction_prediction.ckpt\\assets\n"
     ]
    },
    {
     "name": "stderr",
     "output_type": "stream",
     "text": [
      "INFO:tensorflow:Assets written to: .\\models\\wind_direction_prediction.ckpt\\assets\n"
     ]
    },
    {
     "name": "stdout",
     "output_type": "stream",
     "text": [
      ".INFO:tensorflow:Assets written to: .\\models\\wind_direction_prediction.ckpt\\assets\n"
     ]
    },
    {
     "name": "stderr",
     "output_type": "stream",
     "text": [
      "INFO:tensorflow:Assets written to: .\\models\\wind_direction_prediction.ckpt\\assets\n"
     ]
    },
    {
     "name": "stdout",
     "output_type": "stream",
     "text": [
      ".INFO:tensorflow:Assets written to: .\\models\\wind_direction_prediction.ckpt\\assets\n"
     ]
    },
    {
     "name": "stderr",
     "output_type": "stream",
     "text": [
      "INFO:tensorflow:Assets written to: .\\models\\wind_direction_prediction.ckpt\\assets\n"
     ]
    },
    {
     "name": "stdout",
     "output_type": "stream",
     "text": [
      ".INFO:tensorflow:Assets written to: .\\models\\wind_direction_prediction.ckpt\\assets\n"
     ]
    },
    {
     "name": "stderr",
     "output_type": "stream",
     "text": [
      "INFO:tensorflow:Assets written to: .\\models\\wind_direction_prediction.ckpt\\assets\n"
     ]
    },
    {
     "name": "stdout",
     "output_type": "stream",
     "text": [
      ".INFO:tensorflow:Assets written to: .\\models\\wind_direction_prediction.ckpt\\assets\n"
     ]
    },
    {
     "name": "stderr",
     "output_type": "stream",
     "text": [
      "INFO:tensorflow:Assets written to: .\\models\\wind_direction_prediction.ckpt\\assets\n"
     ]
    },
    {
     "name": "stdout",
     "output_type": "stream",
     "text": [
      ".INFO:tensorflow:Assets written to: .\\models\\wind_direction_prediction.ckpt\\assets\n"
     ]
    },
    {
     "name": "stderr",
     "output_type": "stream",
     "text": [
      "INFO:tensorflow:Assets written to: .\\models\\wind_direction_prediction.ckpt\\assets\n"
     ]
    },
    {
     "name": "stdout",
     "output_type": "stream",
     "text": [
      ".INFO:tensorflow:Assets written to: .\\models\\wind_direction_prediction.ckpt\\assets\n"
     ]
    },
    {
     "name": "stderr",
     "output_type": "stream",
     "text": [
      "INFO:tensorflow:Assets written to: .\\models\\wind_direction_prediction.ckpt\\assets\n"
     ]
    },
    {
     "name": "stdout",
     "output_type": "stream",
     "text": [
      ".INFO:tensorflow:Assets written to: .\\models\\wind_direction_prediction.ckpt\\assets\n"
     ]
    },
    {
     "name": "stderr",
     "output_type": "stream",
     "text": [
      "INFO:tensorflow:Assets written to: .\\models\\wind_direction_prediction.ckpt\\assets\n"
     ]
    },
    {
     "name": "stdout",
     "output_type": "stream",
     "text": [
      ".INFO:tensorflow:Assets written to: .\\models\\wind_direction_prediction.ckpt\\assets\n"
     ]
    },
    {
     "name": "stderr",
     "output_type": "stream",
     "text": [
      "INFO:tensorflow:Assets written to: .\\models\\wind_direction_prediction.ckpt\\assets\n"
     ]
    },
    {
     "name": "stdout",
     "output_type": "stream",
     "text": [
      ".INFO:tensorflow:Assets written to: .\\models\\wind_direction_prediction.ckpt\\assets\n"
     ]
    },
    {
     "name": "stderr",
     "output_type": "stream",
     "text": [
      "INFO:tensorflow:Assets written to: .\\models\\wind_direction_prediction.ckpt\\assets\n"
     ]
    },
    {
     "name": "stdout",
     "output_type": "stream",
     "text": [
      ".INFO:tensorflow:Assets written to: .\\models\\wind_direction_prediction.ckpt\\assets\n"
     ]
    },
    {
     "name": "stderr",
     "output_type": "stream",
     "text": [
      "INFO:tensorflow:Assets written to: .\\models\\wind_direction_prediction.ckpt\\assets\n"
     ]
    },
    {
     "name": "stdout",
     "output_type": "stream",
     "text": [
      ".INFO:tensorflow:Assets written to: .\\models\\wind_direction_prediction.ckpt\\assets\n"
     ]
    },
    {
     "name": "stderr",
     "output_type": "stream",
     "text": [
      "INFO:tensorflow:Assets written to: .\\models\\wind_direction_prediction.ckpt\\assets\n"
     ]
    },
    {
     "name": "stdout",
     "output_type": "stream",
     "text": [
      ".INFO:tensorflow:Assets written to: .\\models\\wind_direction_prediction.ckpt\\assets\n"
     ]
    },
    {
     "name": "stderr",
     "output_type": "stream",
     "text": [
      "INFO:tensorflow:Assets written to: .\\models\\wind_direction_prediction.ckpt\\assets\n"
     ]
    },
    {
     "name": "stdout",
     "output_type": "stream",
     "text": [
      ".INFO:tensorflow:Assets written to: .\\models\\wind_direction_prediction.ckpt\\assets\n"
     ]
    },
    {
     "name": "stderr",
     "output_type": "stream",
     "text": [
      "INFO:tensorflow:Assets written to: .\\models\\wind_direction_prediction.ckpt\\assets\n"
     ]
    },
    {
     "name": "stdout",
     "output_type": "stream",
     "text": [
      ".INFO:tensorflow:Assets written to: .\\models\\wind_direction_prediction.ckpt\\assets\n"
     ]
    },
    {
     "name": "stderr",
     "output_type": "stream",
     "text": [
      "INFO:tensorflow:Assets written to: .\\models\\wind_direction_prediction.ckpt\\assets\n"
     ]
    },
    {
     "name": "stdout",
     "output_type": "stream",
     "text": [
      ".INFO:tensorflow:Assets written to: .\\models\\wind_direction_prediction.ckpt\\assets\n"
     ]
    },
    {
     "name": "stderr",
     "output_type": "stream",
     "text": [
      "INFO:tensorflow:Assets written to: .\\models\\wind_direction_prediction.ckpt\\assets\n"
     ]
    },
    {
     "name": "stdout",
     "output_type": "stream",
     "text": [
      ".INFO:tensorflow:Assets written to: .\\models\\wind_direction_prediction.ckpt\\assets\n"
     ]
    },
    {
     "name": "stderr",
     "output_type": "stream",
     "text": [
      "INFO:tensorflow:Assets written to: .\\models\\wind_direction_prediction.ckpt\\assets\n"
     ]
    },
    {
     "name": "stdout",
     "output_type": "stream",
     "text": [
      ".INFO:tensorflow:Assets written to: .\\models\\wind_direction_prediction.ckpt\\assets\n"
     ]
    },
    {
     "name": "stderr",
     "output_type": "stream",
     "text": [
      "INFO:tensorflow:Assets written to: .\\models\\wind_direction_prediction.ckpt\\assets\n"
     ]
    },
    {
     "name": "stdout",
     "output_type": "stream",
     "text": [
      ".INFO:tensorflow:Assets written to: .\\models\\wind_direction_prediction.ckpt\\assets\n"
     ]
    },
    {
     "name": "stderr",
     "output_type": "stream",
     "text": [
      "INFO:tensorflow:Assets written to: .\\models\\wind_direction_prediction.ckpt\\assets\n"
     ]
    },
    {
     "name": "stdout",
     "output_type": "stream",
     "text": [
      ".INFO:tensorflow:Assets written to: .\\models\\wind_direction_prediction.ckpt\\assets\n"
     ]
    },
    {
     "name": "stderr",
     "output_type": "stream",
     "text": [
      "INFO:tensorflow:Assets written to: .\\models\\wind_direction_prediction.ckpt\\assets\n"
     ]
    },
    {
     "name": "stdout",
     "output_type": "stream",
     "text": [
      ".INFO:tensorflow:Assets written to: .\\models\\wind_direction_prediction.ckpt\\assets\n"
     ]
    },
    {
     "name": "stderr",
     "output_type": "stream",
     "text": [
      "INFO:tensorflow:Assets written to: .\\models\\wind_direction_prediction.ckpt\\assets\n"
     ]
    },
    {
     "name": "stdout",
     "output_type": "stream",
     "text": [
      ".INFO:tensorflow:Assets written to: .\\models\\wind_direction_prediction.ckpt\\assets\n"
     ]
    },
    {
     "name": "stderr",
     "output_type": "stream",
     "text": [
      "INFO:tensorflow:Assets written to: .\\models\\wind_direction_prediction.ckpt\\assets\n"
     ]
    },
    {
     "name": "stdout",
     "output_type": "stream",
     "text": [
      ".INFO:tensorflow:Assets written to: .\\models\\wind_direction_prediction.ckpt\\assets\n"
     ]
    },
    {
     "name": "stderr",
     "output_type": "stream",
     "text": [
      "INFO:tensorflow:Assets written to: .\\models\\wind_direction_prediction.ckpt\\assets\n"
     ]
    },
    {
     "name": "stdout",
     "output_type": "stream",
     "text": [
      ".INFO:tensorflow:Assets written to: .\\models\\wind_direction_prediction.ckpt\\assets\n"
     ]
    },
    {
     "name": "stderr",
     "output_type": "stream",
     "text": [
      "INFO:tensorflow:Assets written to: .\\models\\wind_direction_prediction.ckpt\\assets\n"
     ]
    },
    {
     "name": "stdout",
     "output_type": "stream",
     "text": [
      ".INFO:tensorflow:Assets written to: .\\models\\wind_direction_prediction.ckpt\\assets\n"
     ]
    },
    {
     "name": "stderr",
     "output_type": "stream",
     "text": [
      "INFO:tensorflow:Assets written to: .\\models\\wind_direction_prediction.ckpt\\assets\n"
     ]
    },
    {
     "name": "stdout",
     "output_type": "stream",
     "text": [
      ".INFO:tensorflow:Assets written to: .\\models\\wind_direction_prediction.ckpt\\assets\n"
     ]
    },
    {
     "name": "stderr",
     "output_type": "stream",
     "text": [
      "INFO:tensorflow:Assets written to: .\\models\\wind_direction_prediction.ckpt\\assets\n"
     ]
    },
    {
     "name": "stdout",
     "output_type": "stream",
     "text": [
      ".INFO:tensorflow:Assets written to: .\\models\\wind_direction_prediction.ckpt\\assets\n"
     ]
    },
    {
     "name": "stderr",
     "output_type": "stream",
     "text": [
      "INFO:tensorflow:Assets written to: .\\models\\wind_direction_prediction.ckpt\\assets\n"
     ]
    },
    {
     "name": "stdout",
     "output_type": "stream",
     "text": [
      ".INFO:tensorflow:Assets written to: .\\models\\wind_direction_prediction.ckpt\\assets\n"
     ]
    },
    {
     "name": "stderr",
     "output_type": "stream",
     "text": [
      "INFO:tensorflow:Assets written to: .\\models\\wind_direction_prediction.ckpt\\assets\n"
     ]
    },
    {
     "name": "stdout",
     "output_type": "stream",
     "text": [
      ".INFO:tensorflow:Assets written to: .\\models\\wind_direction_prediction.ckpt\\assets\n"
     ]
    },
    {
     "name": "stderr",
     "output_type": "stream",
     "text": [
      "INFO:tensorflow:Assets written to: .\\models\\wind_direction_prediction.ckpt\\assets\n"
     ]
    },
    {
     "name": "stdout",
     "output_type": "stream",
     "text": [
      ".INFO:tensorflow:Assets written to: .\\models\\wind_direction_prediction.ckpt\\assets\n"
     ]
    },
    {
     "name": "stderr",
     "output_type": "stream",
     "text": [
      "INFO:tensorflow:Assets written to: .\\models\\wind_direction_prediction.ckpt\\assets\n"
     ]
    },
    {
     "name": "stdout",
     "output_type": "stream",
     "text": [
      ".INFO:tensorflow:Assets written to: .\\models\\wind_direction_prediction.ckpt\\assets\n"
     ]
    },
    {
     "name": "stderr",
     "output_type": "stream",
     "text": [
      "INFO:tensorflow:Assets written to: .\\models\\wind_direction_prediction.ckpt\\assets\n"
     ]
    },
    {
     "name": "stdout",
     "output_type": "stream",
     "text": [
      ".INFO:tensorflow:Assets written to: .\\models\\wind_direction_prediction.ckpt\\assets\n"
     ]
    },
    {
     "name": "stderr",
     "output_type": "stream",
     "text": [
      "INFO:tensorflow:Assets written to: .\\models\\wind_direction_prediction.ckpt\\assets\n"
     ]
    },
    {
     "name": "stdout",
     "output_type": "stream",
     "text": [
      ".INFO:tensorflow:Assets written to: .\\models\\wind_direction_prediction.ckpt\\assets\n"
     ]
    },
    {
     "name": "stderr",
     "output_type": "stream",
     "text": [
      "INFO:tensorflow:Assets written to: .\\models\\wind_direction_prediction.ckpt\\assets\n"
     ]
    },
    {
     "name": "stdout",
     "output_type": "stream",
     "text": [
      ".INFO:tensorflow:Assets written to: .\\models\\wind_direction_prediction.ckpt\\assets\n"
     ]
    },
    {
     "name": "stderr",
     "output_type": "stream",
     "text": [
      "INFO:tensorflow:Assets written to: .\\models\\wind_direction_prediction.ckpt\\assets\n"
     ]
    },
    {
     "name": "stdout",
     "output_type": "stream",
     "text": [
      ".INFO:tensorflow:Assets written to: .\\models\\wind_direction_prediction.ckpt\\assets\n"
     ]
    },
    {
     "name": "stderr",
     "output_type": "stream",
     "text": [
      "INFO:tensorflow:Assets written to: .\\models\\wind_direction_prediction.ckpt\\assets\n"
     ]
    },
    {
     "name": "stdout",
     "output_type": "stream",
     "text": [
      ".INFO:tensorflow:Assets written to: .\\models\\wind_direction_prediction.ckpt\\assets\n"
     ]
    },
    {
     "name": "stderr",
     "output_type": "stream",
     "text": [
      "INFO:tensorflow:Assets written to: .\\models\\wind_direction_prediction.ckpt\\assets\n"
     ]
    },
    {
     "name": "stdout",
     "output_type": "stream",
     "text": [
      ".INFO:tensorflow:Assets written to: .\\models\\wind_direction_prediction.ckpt\\assets\n"
     ]
    },
    {
     "name": "stderr",
     "output_type": "stream",
     "text": [
      "INFO:tensorflow:Assets written to: .\\models\\wind_direction_prediction.ckpt\\assets\n"
     ]
    },
    {
     "name": "stdout",
     "output_type": "stream",
     "text": [
      ".INFO:tensorflow:Assets written to: .\\models\\wind_direction_prediction.ckpt\\assets\n"
     ]
    },
    {
     "name": "stderr",
     "output_type": "stream",
     "text": [
      "INFO:tensorflow:Assets written to: .\\models\\wind_direction_prediction.ckpt\\assets\n"
     ]
    },
    {
     "name": "stdout",
     "output_type": "stream",
     "text": [
      ".INFO:tensorflow:Assets written to: .\\models\\wind_direction_prediction.ckpt\\assets\n"
     ]
    },
    {
     "name": "stderr",
     "output_type": "stream",
     "text": [
      "INFO:tensorflow:Assets written to: .\\models\\wind_direction_prediction.ckpt\\assets\n"
     ]
    },
    {
     "name": "stdout",
     "output_type": "stream",
     "text": [
      ".INFO:tensorflow:Assets written to: .\\models\\wind_direction_prediction.ckpt\\assets\n"
     ]
    },
    {
     "name": "stderr",
     "output_type": "stream",
     "text": [
      "INFO:tensorflow:Assets written to: .\\models\\wind_direction_prediction.ckpt\\assets\n"
     ]
    },
    {
     "name": "stdout",
     "output_type": "stream",
     "text": [
      ".INFO:tensorflow:Assets written to: .\\models\\wind_direction_prediction.ckpt\\assets\n"
     ]
    },
    {
     "name": "stderr",
     "output_type": "stream",
     "text": [
      "INFO:tensorflow:Assets written to: .\\models\\wind_direction_prediction.ckpt\\assets\n"
     ]
    },
    {
     "name": "stdout",
     "output_type": "stream",
     "text": [
      ".INFO:tensorflow:Assets written to: .\\models\\wind_direction_prediction.ckpt\\assets\n"
     ]
    },
    {
     "name": "stderr",
     "output_type": "stream",
     "text": [
      "INFO:tensorflow:Assets written to: .\\models\\wind_direction_prediction.ckpt\\assets\n"
     ]
    },
    {
     "name": "stdout",
     "output_type": "stream",
     "text": [
      ".INFO:tensorflow:Assets written to: .\\models\\wind_direction_prediction.ckpt\\assets\n"
     ]
    },
    {
     "name": "stderr",
     "output_type": "stream",
     "text": [
      "INFO:tensorflow:Assets written to: .\\models\\wind_direction_prediction.ckpt\\assets\n"
     ]
    },
    {
     "name": "stdout",
     "output_type": "stream",
     "text": [
      ".INFO:tensorflow:Assets written to: .\\models\\wind_direction_prediction.ckpt\\assets\n"
     ]
    },
    {
     "name": "stderr",
     "output_type": "stream",
     "text": [
      "INFO:tensorflow:Assets written to: .\\models\\wind_direction_prediction.ckpt\\assets\n"
     ]
    },
    {
     "name": "stdout",
     "output_type": "stream",
     "text": [
      ".INFO:tensorflow:Assets written to: .\\models\\wind_direction_prediction.ckpt\\assets\n"
     ]
    },
    {
     "name": "stderr",
     "output_type": "stream",
     "text": [
      "INFO:tensorflow:Assets written to: .\\models\\wind_direction_prediction.ckpt\\assets\n"
     ]
    },
    {
     "name": "stdout",
     "output_type": "stream",
     "text": [
      ".INFO:tensorflow:Assets written to: .\\models\\wind_direction_prediction.ckpt\\assets\n"
     ]
    },
    {
     "name": "stderr",
     "output_type": "stream",
     "text": [
      "INFO:tensorflow:Assets written to: .\\models\\wind_direction_prediction.ckpt\\assets\n"
     ]
    },
    {
     "name": "stdout",
     "output_type": "stream",
     "text": [
      ".INFO:tensorflow:Assets written to: .\\models\\wind_direction_prediction.ckpt\\assets\n"
     ]
    },
    {
     "name": "stderr",
     "output_type": "stream",
     "text": [
      "INFO:tensorflow:Assets written to: .\\models\\wind_direction_prediction.ckpt\\assets\n"
     ]
    },
    {
     "name": "stdout",
     "output_type": "stream",
     "text": [
      ".INFO:tensorflow:Assets written to: .\\models\\wind_direction_prediction.ckpt\\assets\n"
     ]
    },
    {
     "name": "stderr",
     "output_type": "stream",
     "text": [
      "INFO:tensorflow:Assets written to: .\\models\\wind_direction_prediction.ckpt\\assets\n"
     ]
    },
    {
     "name": "stdout",
     "output_type": "stream",
     "text": [
      ".INFO:tensorflow:Assets written to: .\\models\\wind_direction_prediction.ckpt\\assets\n"
     ]
    },
    {
     "name": "stderr",
     "output_type": "stream",
     "text": [
      "INFO:tensorflow:Assets written to: .\\models\\wind_direction_prediction.ckpt\\assets\n"
     ]
    },
    {
     "name": "stdout",
     "output_type": "stream",
     "text": [
      ".INFO:tensorflow:Assets written to: .\\models\\wind_direction_prediction.ckpt\\assets\n"
     ]
    },
    {
     "name": "stderr",
     "output_type": "stream",
     "text": [
      "INFO:tensorflow:Assets written to: .\\models\\wind_direction_prediction.ckpt\\assets\n"
     ]
    },
    {
     "name": "stdout",
     "output_type": "stream",
     "text": [
      ".INFO:tensorflow:Assets written to: .\\models\\wind_direction_prediction.ckpt\\assets\n"
     ]
    },
    {
     "name": "stderr",
     "output_type": "stream",
     "text": [
      "INFO:tensorflow:Assets written to: .\\models\\wind_direction_prediction.ckpt\\assets\n"
     ]
    },
    {
     "name": "stdout",
     "output_type": "stream",
     "text": [
      ".INFO:tensorflow:Assets written to: .\\models\\wind_direction_prediction.ckpt\\assets\n"
     ]
    },
    {
     "name": "stderr",
     "output_type": "stream",
     "text": [
      "INFO:tensorflow:Assets written to: .\\models\\wind_direction_prediction.ckpt\\assets\n"
     ]
    },
    {
     "name": "stdout",
     "output_type": "stream",
     "text": [
      ".INFO:tensorflow:Assets written to: .\\models\\wind_direction_prediction.ckpt\\assets\n"
     ]
    },
    {
     "name": "stderr",
     "output_type": "stream",
     "text": [
      "INFO:tensorflow:Assets written to: .\\models\\wind_direction_prediction.ckpt\\assets\n"
     ]
    },
    {
     "name": "stdout",
     "output_type": "stream",
     "text": [
      ".INFO:tensorflow:Assets written to: .\\models\\wind_direction_prediction.ckpt\\assets\n"
     ]
    },
    {
     "name": "stderr",
     "output_type": "stream",
     "text": [
      "INFO:tensorflow:Assets written to: .\\models\\wind_direction_prediction.ckpt\\assets\n"
     ]
    },
    {
     "name": "stdout",
     "output_type": "stream",
     "text": [
      ".INFO:tensorflow:Assets written to: .\\models\\wind_direction_prediction.ckpt\\assets\n"
     ]
    },
    {
     "name": "stderr",
     "output_type": "stream",
     "text": [
      "INFO:tensorflow:Assets written to: .\\models\\wind_direction_prediction.ckpt\\assets\n"
     ]
    },
    {
     "name": "stdout",
     "output_type": "stream",
     "text": [
      ".INFO:tensorflow:Assets written to: .\\models\\wind_direction_prediction.ckpt\\assets\n"
     ]
    },
    {
     "name": "stderr",
     "output_type": "stream",
     "text": [
      "INFO:tensorflow:Assets written to: .\\models\\wind_direction_prediction.ckpt\\assets\n"
     ]
    },
    {
     "name": "stdout",
     "output_type": "stream",
     "text": [
      ".INFO:tensorflow:Assets written to: .\\models\\wind_direction_prediction.ckpt\\assets\n"
     ]
    },
    {
     "name": "stderr",
     "output_type": "stream",
     "text": [
      "INFO:tensorflow:Assets written to: .\\models\\wind_direction_prediction.ckpt\\assets\n"
     ]
    },
    {
     "name": "stdout",
     "output_type": "stream",
     "text": [
      ".INFO:tensorflow:Assets written to: .\\models\\wind_direction_prediction.ckpt\\assets\n"
     ]
    },
    {
     "name": "stderr",
     "output_type": "stream",
     "text": [
      "INFO:tensorflow:Assets written to: .\\models\\wind_direction_prediction.ckpt\\assets\n"
     ]
    },
    {
     "name": "stdout",
     "output_type": "stream",
     "text": [
      ".INFO:tensorflow:Assets written to: .\\models\\wind_direction_prediction.ckpt\\assets\n"
     ]
    },
    {
     "name": "stderr",
     "output_type": "stream",
     "text": [
      "INFO:tensorflow:Assets written to: .\\models\\wind_direction_prediction.ckpt\\assets\n"
     ]
    },
    {
     "name": "stdout",
     "output_type": "stream",
     "text": [
      ".INFO:tensorflow:Assets written to: .\\models\\wind_direction_prediction.ckpt\\assets\n"
     ]
    },
    {
     "name": "stderr",
     "output_type": "stream",
     "text": [
      "INFO:tensorflow:Assets written to: .\\models\\wind_direction_prediction.ckpt\\assets\n"
     ]
    },
    {
     "name": "stdout",
     "output_type": "stream",
     "text": [
      "\n",
      "Epoch: 400, loss:2.2331,  mae:1.3245,  mape:42.7493,  mse:2.2331,  val_loss:3.5032,  val_mae:1.5284,  val_mape:42.9732,  val_mse:3.5032,  \n",
      ".INFO:tensorflow:Assets written to: .\\models\\wind_direction_prediction.ckpt\\assets\n"
     ]
    },
    {
     "name": "stderr",
     "output_type": "stream",
     "text": [
      "INFO:tensorflow:Assets written to: .\\models\\wind_direction_prediction.ckpt\\assets\n"
     ]
    },
    {
     "name": "stdout",
     "output_type": "stream",
     "text": [
      ".INFO:tensorflow:Assets written to: .\\models\\wind_direction_prediction.ckpt\\assets\n"
     ]
    },
    {
     "name": "stderr",
     "output_type": "stream",
     "text": [
      "INFO:tensorflow:Assets written to: .\\models\\wind_direction_prediction.ckpt\\assets\n"
     ]
    },
    {
     "name": "stdout",
     "output_type": "stream",
     "text": [
      ".INFO:tensorflow:Assets written to: .\\models\\wind_direction_prediction.ckpt\\assets\n"
     ]
    },
    {
     "name": "stderr",
     "output_type": "stream",
     "text": [
      "INFO:tensorflow:Assets written to: .\\models\\wind_direction_prediction.ckpt\\assets\n"
     ]
    },
    {
     "name": "stdout",
     "output_type": "stream",
     "text": [
      ".INFO:tensorflow:Assets written to: .\\models\\wind_direction_prediction.ckpt\\assets\n"
     ]
    },
    {
     "name": "stderr",
     "output_type": "stream",
     "text": [
      "INFO:tensorflow:Assets written to: .\\models\\wind_direction_prediction.ckpt\\assets\n"
     ]
    },
    {
     "name": "stdout",
     "output_type": "stream",
     "text": [
      ".INFO:tensorflow:Assets written to: .\\models\\wind_direction_prediction.ckpt\\assets\n"
     ]
    },
    {
     "name": "stderr",
     "output_type": "stream",
     "text": [
      "INFO:tensorflow:Assets written to: .\\models\\wind_direction_prediction.ckpt\\assets\n"
     ]
    },
    {
     "name": "stdout",
     "output_type": "stream",
     "text": [
      ".INFO:tensorflow:Assets written to: .\\models\\wind_direction_prediction.ckpt\\assets\n"
     ]
    },
    {
     "name": "stderr",
     "output_type": "stream",
     "text": [
      "INFO:tensorflow:Assets written to: .\\models\\wind_direction_prediction.ckpt\\assets\n"
     ]
    },
    {
     "name": "stdout",
     "output_type": "stream",
     "text": [
      ".INFO:tensorflow:Assets written to: .\\models\\wind_direction_prediction.ckpt\\assets\n"
     ]
    },
    {
     "name": "stderr",
     "output_type": "stream",
     "text": [
      "INFO:tensorflow:Assets written to: .\\models\\wind_direction_prediction.ckpt\\assets\n"
     ]
    },
    {
     "name": "stdout",
     "output_type": "stream",
     "text": [
      ".INFO:tensorflow:Assets written to: .\\models\\wind_direction_prediction.ckpt\\assets\n"
     ]
    },
    {
     "name": "stderr",
     "output_type": "stream",
     "text": [
      "INFO:tensorflow:Assets written to: .\\models\\wind_direction_prediction.ckpt\\assets\n"
     ]
    },
    {
     "name": "stdout",
     "output_type": "stream",
     "text": [
      ".INFO:tensorflow:Assets written to: .\\models\\wind_direction_prediction.ckpt\\assets\n"
     ]
    },
    {
     "name": "stderr",
     "output_type": "stream",
     "text": [
      "INFO:tensorflow:Assets written to: .\\models\\wind_direction_prediction.ckpt\\assets\n"
     ]
    },
    {
     "name": "stdout",
     "output_type": "stream",
     "text": [
      ".INFO:tensorflow:Assets written to: .\\models\\wind_direction_prediction.ckpt\\assets\n"
     ]
    },
    {
     "name": "stderr",
     "output_type": "stream",
     "text": [
      "INFO:tensorflow:Assets written to: .\\models\\wind_direction_prediction.ckpt\\assets\n"
     ]
    },
    {
     "name": "stdout",
     "output_type": "stream",
     "text": [
      ".INFO:tensorflow:Assets written to: .\\models\\wind_direction_prediction.ckpt\\assets\n"
     ]
    },
    {
     "name": "stderr",
     "output_type": "stream",
     "text": [
      "INFO:tensorflow:Assets written to: .\\models\\wind_direction_prediction.ckpt\\assets\n"
     ]
    },
    {
     "name": "stdout",
     "output_type": "stream",
     "text": [
      ".INFO:tensorflow:Assets written to: .\\models\\wind_direction_prediction.ckpt\\assets\n"
     ]
    },
    {
     "name": "stderr",
     "output_type": "stream",
     "text": [
      "INFO:tensorflow:Assets written to: .\\models\\wind_direction_prediction.ckpt\\assets\n"
     ]
    },
    {
     "name": "stdout",
     "output_type": "stream",
     "text": [
      ".INFO:tensorflow:Assets written to: .\\models\\wind_direction_prediction.ckpt\\assets\n"
     ]
    },
    {
     "name": "stderr",
     "output_type": "stream",
     "text": [
      "INFO:tensorflow:Assets written to: .\\models\\wind_direction_prediction.ckpt\\assets\n"
     ]
    },
    {
     "name": "stdout",
     "output_type": "stream",
     "text": [
      ".INFO:tensorflow:Assets written to: .\\models\\wind_direction_prediction.ckpt\\assets\n"
     ]
    },
    {
     "name": "stderr",
     "output_type": "stream",
     "text": [
      "INFO:tensorflow:Assets written to: .\\models\\wind_direction_prediction.ckpt\\assets\n"
     ]
    },
    {
     "name": "stdout",
     "output_type": "stream",
     "text": [
      ".INFO:tensorflow:Assets written to: .\\models\\wind_direction_prediction.ckpt\\assets\n"
     ]
    },
    {
     "name": "stderr",
     "output_type": "stream",
     "text": [
      "INFO:tensorflow:Assets written to: .\\models\\wind_direction_prediction.ckpt\\assets\n"
     ]
    },
    {
     "name": "stdout",
     "output_type": "stream",
     "text": [
      ".INFO:tensorflow:Assets written to: .\\models\\wind_direction_prediction.ckpt\\assets\n"
     ]
    },
    {
     "name": "stderr",
     "output_type": "stream",
     "text": [
      "INFO:tensorflow:Assets written to: .\\models\\wind_direction_prediction.ckpt\\assets\n"
     ]
    },
    {
     "name": "stdout",
     "output_type": "stream",
     "text": [
      ".INFO:tensorflow:Assets written to: .\\models\\wind_direction_prediction.ckpt\\assets\n"
     ]
    },
    {
     "name": "stderr",
     "output_type": "stream",
     "text": [
      "INFO:tensorflow:Assets written to: .\\models\\wind_direction_prediction.ckpt\\assets\n"
     ]
    },
    {
     "name": "stdout",
     "output_type": "stream",
     "text": [
      ".INFO:tensorflow:Assets written to: .\\models\\wind_direction_prediction.ckpt\\assets\n"
     ]
    },
    {
     "name": "stderr",
     "output_type": "stream",
     "text": [
      "INFO:tensorflow:Assets written to: .\\models\\wind_direction_prediction.ckpt\\assets\n"
     ]
    },
    {
     "name": "stdout",
     "output_type": "stream",
     "text": [
      ".INFO:tensorflow:Assets written to: .\\models\\wind_direction_prediction.ckpt\\assets\n"
     ]
    },
    {
     "name": "stderr",
     "output_type": "stream",
     "text": [
      "INFO:tensorflow:Assets written to: .\\models\\wind_direction_prediction.ckpt\\assets\n"
     ]
    },
    {
     "name": "stdout",
     "output_type": "stream",
     "text": [
      ".INFO:tensorflow:Assets written to: .\\models\\wind_direction_prediction.ckpt\\assets\n"
     ]
    },
    {
     "name": "stderr",
     "output_type": "stream",
     "text": [
      "INFO:tensorflow:Assets written to: .\\models\\wind_direction_prediction.ckpt\\assets\n"
     ]
    },
    {
     "name": "stdout",
     "output_type": "stream",
     "text": [
      ".INFO:tensorflow:Assets written to: .\\models\\wind_direction_prediction.ckpt\\assets\n"
     ]
    },
    {
     "name": "stderr",
     "output_type": "stream",
     "text": [
      "INFO:tensorflow:Assets written to: .\\models\\wind_direction_prediction.ckpt\\assets\n"
     ]
    },
    {
     "name": "stdout",
     "output_type": "stream",
     "text": [
      ".INFO:tensorflow:Assets written to: .\\models\\wind_direction_prediction.ckpt\\assets\n"
     ]
    },
    {
     "name": "stderr",
     "output_type": "stream",
     "text": [
      "INFO:tensorflow:Assets written to: .\\models\\wind_direction_prediction.ckpt\\assets\n"
     ]
    },
    {
     "name": "stdout",
     "output_type": "stream",
     "text": [
      ".INFO:tensorflow:Assets written to: .\\models\\wind_direction_prediction.ckpt\\assets\n"
     ]
    },
    {
     "name": "stderr",
     "output_type": "stream",
     "text": [
      "INFO:tensorflow:Assets written to: .\\models\\wind_direction_prediction.ckpt\\assets\n"
     ]
    },
    {
     "name": "stdout",
     "output_type": "stream",
     "text": [
      ".INFO:tensorflow:Assets written to: .\\models\\wind_direction_prediction.ckpt\\assets\n"
     ]
    },
    {
     "name": "stderr",
     "output_type": "stream",
     "text": [
      "INFO:tensorflow:Assets written to: .\\models\\wind_direction_prediction.ckpt\\assets\n"
     ]
    },
    {
     "name": "stdout",
     "output_type": "stream",
     "text": [
      ".INFO:tensorflow:Assets written to: .\\models\\wind_direction_prediction.ckpt\\assets\n"
     ]
    },
    {
     "name": "stderr",
     "output_type": "stream",
     "text": [
      "INFO:tensorflow:Assets written to: .\\models\\wind_direction_prediction.ckpt\\assets\n"
     ]
    },
    {
     "name": "stdout",
     "output_type": "stream",
     "text": [
      ".INFO:tensorflow:Assets written to: .\\models\\wind_direction_prediction.ckpt\\assets\n"
     ]
    },
    {
     "name": "stderr",
     "output_type": "stream",
     "text": [
      "INFO:tensorflow:Assets written to: .\\models\\wind_direction_prediction.ckpt\\assets\n"
     ]
    },
    {
     "name": "stdout",
     "output_type": "stream",
     "text": [
      ".INFO:tensorflow:Assets written to: .\\models\\wind_direction_prediction.ckpt\\assets\n"
     ]
    },
    {
     "name": "stderr",
     "output_type": "stream",
     "text": [
      "INFO:tensorflow:Assets written to: .\\models\\wind_direction_prediction.ckpt\\assets\n"
     ]
    },
    {
     "name": "stdout",
     "output_type": "stream",
     "text": [
      ".INFO:tensorflow:Assets written to: .\\models\\wind_direction_prediction.ckpt\\assets\n"
     ]
    },
    {
     "name": "stderr",
     "output_type": "stream",
     "text": [
      "INFO:tensorflow:Assets written to: .\\models\\wind_direction_prediction.ckpt\\assets\n"
     ]
    },
    {
     "name": "stdout",
     "output_type": "stream",
     "text": [
      ".INFO:tensorflow:Assets written to: .\\models\\wind_direction_prediction.ckpt\\assets\n"
     ]
    },
    {
     "name": "stderr",
     "output_type": "stream",
     "text": [
      "INFO:tensorflow:Assets written to: .\\models\\wind_direction_prediction.ckpt\\assets\n"
     ]
    },
    {
     "name": "stdout",
     "output_type": "stream",
     "text": [
      ".INFO:tensorflow:Assets written to: .\\models\\wind_direction_prediction.ckpt\\assets\n"
     ]
    },
    {
     "name": "stderr",
     "output_type": "stream",
     "text": [
      "INFO:tensorflow:Assets written to: .\\models\\wind_direction_prediction.ckpt\\assets\n"
     ]
    },
    {
     "name": "stdout",
     "output_type": "stream",
     "text": [
      ".INFO:tensorflow:Assets written to: .\\models\\wind_direction_prediction.ckpt\\assets\n"
     ]
    },
    {
     "name": "stderr",
     "output_type": "stream",
     "text": [
      "INFO:tensorflow:Assets written to: .\\models\\wind_direction_prediction.ckpt\\assets\n"
     ]
    },
    {
     "name": "stdout",
     "output_type": "stream",
     "text": [
      ".INFO:tensorflow:Assets written to: .\\models\\wind_direction_prediction.ckpt\\assets\n"
     ]
    },
    {
     "name": "stderr",
     "output_type": "stream",
     "text": [
      "INFO:tensorflow:Assets written to: .\\models\\wind_direction_prediction.ckpt\\assets\n"
     ]
    },
    {
     "name": "stdout",
     "output_type": "stream",
     "text": [
      ".INFO:tensorflow:Assets written to: .\\models\\wind_direction_prediction.ckpt\\assets\n"
     ]
    },
    {
     "name": "stderr",
     "output_type": "stream",
     "text": [
      "INFO:tensorflow:Assets written to: .\\models\\wind_direction_prediction.ckpt\\assets\n"
     ]
    },
    {
     "name": "stdout",
     "output_type": "stream",
     "text": [
      ".INFO:tensorflow:Assets written to: .\\models\\wind_direction_prediction.ckpt\\assets\n"
     ]
    },
    {
     "name": "stderr",
     "output_type": "stream",
     "text": [
      "INFO:tensorflow:Assets written to: .\\models\\wind_direction_prediction.ckpt\\assets\n"
     ]
    },
    {
     "name": "stdout",
     "output_type": "stream",
     "text": [
      ".INFO:tensorflow:Assets written to: .\\models\\wind_direction_prediction.ckpt\\assets\n"
     ]
    },
    {
     "name": "stderr",
     "output_type": "stream",
     "text": [
      "INFO:tensorflow:Assets written to: .\\models\\wind_direction_prediction.ckpt\\assets\n"
     ]
    },
    {
     "name": "stdout",
     "output_type": "stream",
     "text": [
      ".INFO:tensorflow:Assets written to: .\\models\\wind_direction_prediction.ckpt\\assets\n"
     ]
    },
    {
     "name": "stderr",
     "output_type": "stream",
     "text": [
      "INFO:tensorflow:Assets written to: .\\models\\wind_direction_prediction.ckpt\\assets\n"
     ]
    },
    {
     "name": "stdout",
     "output_type": "stream",
     "text": [
      ".INFO:tensorflow:Assets written to: .\\models\\wind_direction_prediction.ckpt\\assets\n"
     ]
    },
    {
     "name": "stderr",
     "output_type": "stream",
     "text": [
      "INFO:tensorflow:Assets written to: .\\models\\wind_direction_prediction.ckpt\\assets\n"
     ]
    },
    {
     "name": "stdout",
     "output_type": "stream",
     "text": [
      ".INFO:tensorflow:Assets written to: .\\models\\wind_direction_prediction.ckpt\\assets\n"
     ]
    },
    {
     "name": "stderr",
     "output_type": "stream",
     "text": [
      "INFO:tensorflow:Assets written to: .\\models\\wind_direction_prediction.ckpt\\assets\n"
     ]
    },
    {
     "name": "stdout",
     "output_type": "stream",
     "text": [
      ".INFO:tensorflow:Assets written to: .\\models\\wind_direction_prediction.ckpt\\assets\n"
     ]
    },
    {
     "name": "stderr",
     "output_type": "stream",
     "text": [
      "INFO:tensorflow:Assets written to: .\\models\\wind_direction_prediction.ckpt\\assets\n"
     ]
    },
    {
     "name": "stdout",
     "output_type": "stream",
     "text": [
      ".INFO:tensorflow:Assets written to: .\\models\\wind_direction_prediction.ckpt\\assets\n"
     ]
    },
    {
     "name": "stderr",
     "output_type": "stream",
     "text": [
      "INFO:tensorflow:Assets written to: .\\models\\wind_direction_prediction.ckpt\\assets\n"
     ]
    },
    {
     "name": "stdout",
     "output_type": "stream",
     "text": [
      ".INFO:tensorflow:Assets written to: .\\models\\wind_direction_prediction.ckpt\\assets\n"
     ]
    },
    {
     "name": "stderr",
     "output_type": "stream",
     "text": [
      "INFO:tensorflow:Assets written to: .\\models\\wind_direction_prediction.ckpt\\assets\n"
     ]
    },
    {
     "name": "stdout",
     "output_type": "stream",
     "text": [
      ".INFO:tensorflow:Assets written to: .\\models\\wind_direction_prediction.ckpt\\assets\n"
     ]
    },
    {
     "name": "stderr",
     "output_type": "stream",
     "text": [
      "INFO:tensorflow:Assets written to: .\\models\\wind_direction_prediction.ckpt\\assets\n"
     ]
    },
    {
     "name": "stdout",
     "output_type": "stream",
     "text": [
      ".INFO:tensorflow:Assets written to: .\\models\\wind_direction_prediction.ckpt\\assets\n"
     ]
    },
    {
     "name": "stderr",
     "output_type": "stream",
     "text": [
      "INFO:tensorflow:Assets written to: .\\models\\wind_direction_prediction.ckpt\\assets\n"
     ]
    },
    {
     "name": "stdout",
     "output_type": "stream",
     "text": [
      ".INFO:tensorflow:Assets written to: .\\models\\wind_direction_prediction.ckpt\\assets\n"
     ]
    },
    {
     "name": "stderr",
     "output_type": "stream",
     "text": [
      "INFO:tensorflow:Assets written to: .\\models\\wind_direction_prediction.ckpt\\assets\n"
     ]
    },
    {
     "name": "stdout",
     "output_type": "stream",
     "text": [
      ".INFO:tensorflow:Assets written to: .\\models\\wind_direction_prediction.ckpt\\assets\n"
     ]
    },
    {
     "name": "stderr",
     "output_type": "stream",
     "text": [
      "INFO:tensorflow:Assets written to: .\\models\\wind_direction_prediction.ckpt\\assets\n"
     ]
    },
    {
     "name": "stdout",
     "output_type": "stream",
     "text": [
      ".INFO:tensorflow:Assets written to: .\\models\\wind_direction_prediction.ckpt\\assets\n"
     ]
    },
    {
     "name": "stderr",
     "output_type": "stream",
     "text": [
      "INFO:tensorflow:Assets written to: .\\models\\wind_direction_prediction.ckpt\\assets\n"
     ]
    },
    {
     "name": "stdout",
     "output_type": "stream",
     "text": [
      ".INFO:tensorflow:Assets written to: .\\models\\wind_direction_prediction.ckpt\\assets\n"
     ]
    },
    {
     "name": "stderr",
     "output_type": "stream",
     "text": [
      "INFO:tensorflow:Assets written to: .\\models\\wind_direction_prediction.ckpt\\assets\n"
     ]
    },
    {
     "name": "stdout",
     "output_type": "stream",
     "text": [
      ".INFO:tensorflow:Assets written to: .\\models\\wind_direction_prediction.ckpt\\assets\n"
     ]
    },
    {
     "name": "stderr",
     "output_type": "stream",
     "text": [
      "INFO:tensorflow:Assets written to: .\\models\\wind_direction_prediction.ckpt\\assets\n"
     ]
    },
    {
     "name": "stdout",
     "output_type": "stream",
     "text": [
      ".INFO:tensorflow:Assets written to: .\\models\\wind_direction_prediction.ckpt\\assets\n"
     ]
    },
    {
     "name": "stderr",
     "output_type": "stream",
     "text": [
      "INFO:tensorflow:Assets written to: .\\models\\wind_direction_prediction.ckpt\\assets\n"
     ]
    },
    {
     "name": "stdout",
     "output_type": "stream",
     "text": [
      ".INFO:tensorflow:Assets written to: .\\models\\wind_direction_prediction.ckpt\\assets\n"
     ]
    },
    {
     "name": "stderr",
     "output_type": "stream",
     "text": [
      "INFO:tensorflow:Assets written to: .\\models\\wind_direction_prediction.ckpt\\assets\n"
     ]
    },
    {
     "name": "stdout",
     "output_type": "stream",
     "text": [
      ".INFO:tensorflow:Assets written to: .\\models\\wind_direction_prediction.ckpt\\assets\n"
     ]
    },
    {
     "name": "stderr",
     "output_type": "stream",
     "text": [
      "INFO:tensorflow:Assets written to: .\\models\\wind_direction_prediction.ckpt\\assets\n"
     ]
    },
    {
     "name": "stdout",
     "output_type": "stream",
     "text": [
      ".INFO:tensorflow:Assets written to: .\\models\\wind_direction_prediction.ckpt\\assets\n"
     ]
    },
    {
     "name": "stderr",
     "output_type": "stream",
     "text": [
      "INFO:tensorflow:Assets written to: .\\models\\wind_direction_prediction.ckpt\\assets\n"
     ]
    },
    {
     "name": "stdout",
     "output_type": "stream",
     "text": [
      ".INFO:tensorflow:Assets written to: .\\models\\wind_direction_prediction.ckpt\\assets\n"
     ]
    },
    {
     "name": "stderr",
     "output_type": "stream",
     "text": [
      "INFO:tensorflow:Assets written to: .\\models\\wind_direction_prediction.ckpt\\assets\n"
     ]
    },
    {
     "name": "stdout",
     "output_type": "stream",
     "text": [
      ".INFO:tensorflow:Assets written to: .\\models\\wind_direction_prediction.ckpt\\assets\n"
     ]
    },
    {
     "name": "stderr",
     "output_type": "stream",
     "text": [
      "INFO:tensorflow:Assets written to: .\\models\\wind_direction_prediction.ckpt\\assets\n"
     ]
    },
    {
     "name": "stdout",
     "output_type": "stream",
     "text": [
      ".INFO:tensorflow:Assets written to: .\\models\\wind_direction_prediction.ckpt\\assets\n"
     ]
    },
    {
     "name": "stderr",
     "output_type": "stream",
     "text": [
      "INFO:tensorflow:Assets written to: .\\models\\wind_direction_prediction.ckpt\\assets\n"
     ]
    },
    {
     "name": "stdout",
     "output_type": "stream",
     "text": [
      ".INFO:tensorflow:Assets written to: .\\models\\wind_direction_prediction.ckpt\\assets\n"
     ]
    },
    {
     "name": "stderr",
     "output_type": "stream",
     "text": [
      "INFO:tensorflow:Assets written to: .\\models\\wind_direction_prediction.ckpt\\assets\n"
     ]
    },
    {
     "name": "stdout",
     "output_type": "stream",
     "text": [
      ".INFO:tensorflow:Assets written to: .\\models\\wind_direction_prediction.ckpt\\assets\n"
     ]
    },
    {
     "name": "stderr",
     "output_type": "stream",
     "text": [
      "INFO:tensorflow:Assets written to: .\\models\\wind_direction_prediction.ckpt\\assets\n"
     ]
    },
    {
     "name": "stdout",
     "output_type": "stream",
     "text": [
      ".INFO:tensorflow:Assets written to: .\\models\\wind_direction_prediction.ckpt\\assets\n"
     ]
    },
    {
     "name": "stderr",
     "output_type": "stream",
     "text": [
      "INFO:tensorflow:Assets written to: .\\models\\wind_direction_prediction.ckpt\\assets\n"
     ]
    },
    {
     "name": "stdout",
     "output_type": "stream",
     "text": [
      ".INFO:tensorflow:Assets written to: .\\models\\wind_direction_prediction.ckpt\\assets\n"
     ]
    },
    {
     "name": "stderr",
     "output_type": "stream",
     "text": [
      "INFO:tensorflow:Assets written to: .\\models\\wind_direction_prediction.ckpt\\assets\n"
     ]
    },
    {
     "name": "stdout",
     "output_type": "stream",
     "text": [
      ".INFO:tensorflow:Assets written to: .\\models\\wind_direction_prediction.ckpt\\assets\n"
     ]
    },
    {
     "name": "stderr",
     "output_type": "stream",
     "text": [
      "INFO:tensorflow:Assets written to: .\\models\\wind_direction_prediction.ckpt\\assets\n"
     ]
    },
    {
     "name": "stdout",
     "output_type": "stream",
     "text": [
      ".INFO:tensorflow:Assets written to: .\\models\\wind_direction_prediction.ckpt\\assets\n"
     ]
    },
    {
     "name": "stderr",
     "output_type": "stream",
     "text": [
      "INFO:tensorflow:Assets written to: .\\models\\wind_direction_prediction.ckpt\\assets\n"
     ]
    },
    {
     "name": "stdout",
     "output_type": "stream",
     "text": [
      ".INFO:tensorflow:Assets written to: .\\models\\wind_direction_prediction.ckpt\\assets\n"
     ]
    },
    {
     "name": "stderr",
     "output_type": "stream",
     "text": [
      "INFO:tensorflow:Assets written to: .\\models\\wind_direction_prediction.ckpt\\assets\n"
     ]
    },
    {
     "name": "stdout",
     "output_type": "stream",
     "text": [
      ".INFO:tensorflow:Assets written to: .\\models\\wind_direction_prediction.ckpt\\assets\n"
     ]
    },
    {
     "name": "stderr",
     "output_type": "stream",
     "text": [
      "INFO:tensorflow:Assets written to: .\\models\\wind_direction_prediction.ckpt\\assets\n"
     ]
    },
    {
     "name": "stdout",
     "output_type": "stream",
     "text": [
      ".INFO:tensorflow:Assets written to: .\\models\\wind_direction_prediction.ckpt\\assets\n"
     ]
    },
    {
     "name": "stderr",
     "output_type": "stream",
     "text": [
      "INFO:tensorflow:Assets written to: .\\models\\wind_direction_prediction.ckpt\\assets\n"
     ]
    },
    {
     "name": "stdout",
     "output_type": "stream",
     "text": [
      ".INFO:tensorflow:Assets written to: .\\models\\wind_direction_prediction.ckpt\\assets\n"
     ]
    },
    {
     "name": "stderr",
     "output_type": "stream",
     "text": [
      "INFO:tensorflow:Assets written to: .\\models\\wind_direction_prediction.ckpt\\assets\n"
     ]
    },
    {
     "name": "stdout",
     "output_type": "stream",
     "text": [
      ".INFO:tensorflow:Assets written to: .\\models\\wind_direction_prediction.ckpt\\assets\n"
     ]
    },
    {
     "name": "stderr",
     "output_type": "stream",
     "text": [
      "INFO:tensorflow:Assets written to: .\\models\\wind_direction_prediction.ckpt\\assets\n"
     ]
    },
    {
     "name": "stdout",
     "output_type": "stream",
     "text": [
      ".INFO:tensorflow:Assets written to: .\\models\\wind_direction_prediction.ckpt\\assets\n"
     ]
    },
    {
     "name": "stderr",
     "output_type": "stream",
     "text": [
      "INFO:tensorflow:Assets written to: .\\models\\wind_direction_prediction.ckpt\\assets\n"
     ]
    },
    {
     "name": "stdout",
     "output_type": "stream",
     "text": [
      ".INFO:tensorflow:Assets written to: .\\models\\wind_direction_prediction.ckpt\\assets\n"
     ]
    },
    {
     "name": "stderr",
     "output_type": "stream",
     "text": [
      "INFO:tensorflow:Assets written to: .\\models\\wind_direction_prediction.ckpt\\assets\n"
     ]
    },
    {
     "name": "stdout",
     "output_type": "stream",
     "text": [
      ".INFO:tensorflow:Assets written to: .\\models\\wind_direction_prediction.ckpt\\assets\n"
     ]
    },
    {
     "name": "stderr",
     "output_type": "stream",
     "text": [
      "INFO:tensorflow:Assets written to: .\\models\\wind_direction_prediction.ckpt\\assets\n"
     ]
    },
    {
     "name": "stdout",
     "output_type": "stream",
     "text": [
      ".INFO:tensorflow:Assets written to: .\\models\\wind_direction_prediction.ckpt\\assets\n"
     ]
    },
    {
     "name": "stderr",
     "output_type": "stream",
     "text": [
      "INFO:tensorflow:Assets written to: .\\models\\wind_direction_prediction.ckpt\\assets\n"
     ]
    },
    {
     "name": "stdout",
     "output_type": "stream",
     "text": [
      ".INFO:tensorflow:Assets written to: .\\models\\wind_direction_prediction.ckpt\\assets\n"
     ]
    },
    {
     "name": "stderr",
     "output_type": "stream",
     "text": [
      "INFO:tensorflow:Assets written to: .\\models\\wind_direction_prediction.ckpt\\assets\n"
     ]
    },
    {
     "name": "stdout",
     "output_type": "stream",
     "text": [
      ".INFO:tensorflow:Assets written to: .\\models\\wind_direction_prediction.ckpt\\assets\n"
     ]
    },
    {
     "name": "stderr",
     "output_type": "stream",
     "text": [
      "INFO:tensorflow:Assets written to: .\\models\\wind_direction_prediction.ckpt\\assets\n"
     ]
    },
    {
     "name": "stdout",
     "output_type": "stream",
     "text": [
      ".INFO:tensorflow:Assets written to: .\\models\\wind_direction_prediction.ckpt\\assets\n"
     ]
    },
    {
     "name": "stderr",
     "output_type": "stream",
     "text": [
      "INFO:tensorflow:Assets written to: .\\models\\wind_direction_prediction.ckpt\\assets\n"
     ]
    },
    {
     "name": "stdout",
     "output_type": "stream",
     "text": [
      ".INFO:tensorflow:Assets written to: .\\models\\wind_direction_prediction.ckpt\\assets\n"
     ]
    },
    {
     "name": "stderr",
     "output_type": "stream",
     "text": [
      "INFO:tensorflow:Assets written to: .\\models\\wind_direction_prediction.ckpt\\assets\n"
     ]
    },
    {
     "name": "stdout",
     "output_type": "stream",
     "text": [
      ".INFO:tensorflow:Assets written to: .\\models\\wind_direction_prediction.ckpt\\assets\n"
     ]
    },
    {
     "name": "stderr",
     "output_type": "stream",
     "text": [
      "INFO:tensorflow:Assets written to: .\\models\\wind_direction_prediction.ckpt\\assets\n"
     ]
    },
    {
     "name": "stdout",
     "output_type": "stream",
     "text": [
      ".INFO:tensorflow:Assets written to: .\\models\\wind_direction_prediction.ckpt\\assets\n"
     ]
    },
    {
     "name": "stderr",
     "output_type": "stream",
     "text": [
      "INFO:tensorflow:Assets written to: .\\models\\wind_direction_prediction.ckpt\\assets\n"
     ]
    },
    {
     "name": "stdout",
     "output_type": "stream",
     "text": [
      ".INFO:tensorflow:Assets written to: .\\models\\wind_direction_prediction.ckpt\\assets\n"
     ]
    },
    {
     "name": "stderr",
     "output_type": "stream",
     "text": [
      "INFO:tensorflow:Assets written to: .\\models\\wind_direction_prediction.ckpt\\assets\n"
     ]
    },
    {
     "name": "stdout",
     "output_type": "stream",
     "text": [
      ".INFO:tensorflow:Assets written to: .\\models\\wind_direction_prediction.ckpt\\assets\n"
     ]
    },
    {
     "name": "stderr",
     "output_type": "stream",
     "text": [
      "INFO:tensorflow:Assets written to: .\\models\\wind_direction_prediction.ckpt\\assets\n"
     ]
    },
    {
     "name": "stdout",
     "output_type": "stream",
     "text": [
      ".INFO:tensorflow:Assets written to: .\\models\\wind_direction_prediction.ckpt\\assets\n"
     ]
    },
    {
     "name": "stderr",
     "output_type": "stream",
     "text": [
      "INFO:tensorflow:Assets written to: .\\models\\wind_direction_prediction.ckpt\\assets\n"
     ]
    },
    {
     "name": "stdout",
     "output_type": "stream",
     "text": [
      ".INFO:tensorflow:Assets written to: .\\models\\wind_direction_prediction.ckpt\\assets\n"
     ]
    },
    {
     "name": "stderr",
     "output_type": "stream",
     "text": [
      "INFO:tensorflow:Assets written to: .\\models\\wind_direction_prediction.ckpt\\assets\n"
     ]
    },
    {
     "name": "stdout",
     "output_type": "stream",
     "text": [
      ".INFO:tensorflow:Assets written to: .\\models\\wind_direction_prediction.ckpt\\assets\n"
     ]
    },
    {
     "name": "stderr",
     "output_type": "stream",
     "text": [
      "INFO:tensorflow:Assets written to: .\\models\\wind_direction_prediction.ckpt\\assets\n"
     ]
    },
    {
     "name": "stdout",
     "output_type": "stream",
     "text": [
      ".INFO:tensorflow:Assets written to: .\\models\\wind_direction_prediction.ckpt\\assets\n"
     ]
    },
    {
     "name": "stderr",
     "output_type": "stream",
     "text": [
      "INFO:tensorflow:Assets written to: .\\models\\wind_direction_prediction.ckpt\\assets\n"
     ]
    },
    {
     "name": "stdout",
     "output_type": "stream",
     "text": [
      ".INFO:tensorflow:Assets written to: .\\models\\wind_direction_prediction.ckpt\\assets\n"
     ]
    },
    {
     "name": "stderr",
     "output_type": "stream",
     "text": [
      "INFO:tensorflow:Assets written to: .\\models\\wind_direction_prediction.ckpt\\assets\n"
     ]
    },
    {
     "name": "stdout",
     "output_type": "stream",
     "text": [
      ".INFO:tensorflow:Assets written to: .\\models\\wind_direction_prediction.ckpt\\assets\n"
     ]
    },
    {
     "name": "stderr",
     "output_type": "stream",
     "text": [
      "INFO:tensorflow:Assets written to: .\\models\\wind_direction_prediction.ckpt\\assets\n"
     ]
    },
    {
     "name": "stdout",
     "output_type": "stream",
     "text": [
      ".INFO:tensorflow:Assets written to: .\\models\\wind_direction_prediction.ckpt\\assets\n"
     ]
    },
    {
     "name": "stderr",
     "output_type": "stream",
     "text": [
      "INFO:tensorflow:Assets written to: .\\models\\wind_direction_prediction.ckpt\\assets\n"
     ]
    },
    {
     "name": "stdout",
     "output_type": "stream",
     "text": [
      ".INFO:tensorflow:Assets written to: .\\models\\wind_direction_prediction.ckpt\\assets\n"
     ]
    },
    {
     "name": "stderr",
     "output_type": "stream",
     "text": [
      "INFO:tensorflow:Assets written to: .\\models\\wind_direction_prediction.ckpt\\assets\n"
     ]
    },
    {
     "name": "stdout",
     "output_type": "stream",
     "text": [
      ".INFO:tensorflow:Assets written to: .\\models\\wind_direction_prediction.ckpt\\assets\n"
     ]
    },
    {
     "name": "stderr",
     "output_type": "stream",
     "text": [
      "INFO:tensorflow:Assets written to: .\\models\\wind_direction_prediction.ckpt\\assets\n"
     ]
    },
    {
     "name": "stdout",
     "output_type": "stream",
     "text": [
      ".INFO:tensorflow:Assets written to: .\\models\\wind_direction_prediction.ckpt\\assets\n"
     ]
    },
    {
     "name": "stderr",
     "output_type": "stream",
     "text": [
      "INFO:tensorflow:Assets written to: .\\models\\wind_direction_prediction.ckpt\\assets\n"
     ]
    },
    {
     "name": "stdout",
     "output_type": "stream",
     "text": [
      ".INFO:tensorflow:Assets written to: .\\models\\wind_direction_prediction.ckpt\\assets\n"
     ]
    },
    {
     "name": "stderr",
     "output_type": "stream",
     "text": [
      "INFO:tensorflow:Assets written to: .\\models\\wind_direction_prediction.ckpt\\assets\n"
     ]
    },
    {
     "name": "stdout",
     "output_type": "stream",
     "text": [
      ".INFO:tensorflow:Assets written to: .\\models\\wind_direction_prediction.ckpt\\assets\n"
     ]
    },
    {
     "name": "stderr",
     "output_type": "stream",
     "text": [
      "INFO:tensorflow:Assets written to: .\\models\\wind_direction_prediction.ckpt\\assets\n"
     ]
    },
    {
     "name": "stdout",
     "output_type": "stream",
     "text": [
      ".INFO:tensorflow:Assets written to: .\\models\\wind_direction_prediction.ckpt\\assets\n"
     ]
    },
    {
     "name": "stderr",
     "output_type": "stream",
     "text": [
      "INFO:tensorflow:Assets written to: .\\models\\wind_direction_prediction.ckpt\\assets\n"
     ]
    },
    {
     "name": "stdout",
     "output_type": "stream",
     "text": [
      ".INFO:tensorflow:Assets written to: .\\models\\wind_direction_prediction.ckpt\\assets\n"
     ]
    },
    {
     "name": "stderr",
     "output_type": "stream",
     "text": [
      "INFO:tensorflow:Assets written to: .\\models\\wind_direction_prediction.ckpt\\assets\n"
     ]
    },
    {
     "name": "stdout",
     "output_type": "stream",
     "text": [
      ".INFO:tensorflow:Assets written to: .\\models\\wind_direction_prediction.ckpt\\assets\n"
     ]
    },
    {
     "name": "stderr",
     "output_type": "stream",
     "text": [
      "INFO:tensorflow:Assets written to: .\\models\\wind_direction_prediction.ckpt\\assets\n"
     ]
    },
    {
     "name": "stdout",
     "output_type": "stream",
     "text": [
      ".INFO:tensorflow:Assets written to: .\\models\\wind_direction_prediction.ckpt\\assets\n"
     ]
    },
    {
     "name": "stderr",
     "output_type": "stream",
     "text": [
      "INFO:tensorflow:Assets written to: .\\models\\wind_direction_prediction.ckpt\\assets\n"
     ]
    },
    {
     "name": "stdout",
     "output_type": "stream",
     "text": [
      ".INFO:tensorflow:Assets written to: .\\models\\wind_direction_prediction.ckpt\\assets\n"
     ]
    },
    {
     "name": "stderr",
     "output_type": "stream",
     "text": [
      "INFO:tensorflow:Assets written to: .\\models\\wind_direction_prediction.ckpt\\assets\n"
     ]
    },
    {
     "name": "stdout",
     "output_type": "stream",
     "text": [
      ".INFO:tensorflow:Assets written to: .\\models\\wind_direction_prediction.ckpt\\assets\n"
     ]
    },
    {
     "name": "stderr",
     "output_type": "stream",
     "text": [
      "INFO:tensorflow:Assets written to: .\\models\\wind_direction_prediction.ckpt\\assets\n"
     ]
    },
    {
     "name": "stdout",
     "output_type": "stream",
     "text": [
      ".INFO:tensorflow:Assets written to: .\\models\\wind_direction_prediction.ckpt\\assets\n"
     ]
    },
    {
     "name": "stderr",
     "output_type": "stream",
     "text": [
      "INFO:tensorflow:Assets written to: .\\models\\wind_direction_prediction.ckpt\\assets\n"
     ]
    },
    {
     "name": "stdout",
     "output_type": "stream",
     "text": [
      ".INFO:tensorflow:Assets written to: .\\models\\wind_direction_prediction.ckpt\\assets\n"
     ]
    },
    {
     "name": "stderr",
     "output_type": "stream",
     "text": [
      "INFO:tensorflow:Assets written to: .\\models\\wind_direction_prediction.ckpt\\assets\n"
     ]
    },
    {
     "name": "stdout",
     "output_type": "stream",
     "text": [
      ".INFO:tensorflow:Assets written to: .\\models\\wind_direction_prediction.ckpt\\assets\n"
     ]
    },
    {
     "name": "stderr",
     "output_type": "stream",
     "text": [
      "INFO:tensorflow:Assets written to: .\\models\\wind_direction_prediction.ckpt\\assets\n"
     ]
    },
    {
     "name": "stdout",
     "output_type": "stream",
     "text": [
      ".INFO:tensorflow:Assets written to: .\\models\\wind_direction_prediction.ckpt\\assets\n"
     ]
    },
    {
     "name": "stderr",
     "output_type": "stream",
     "text": [
      "INFO:tensorflow:Assets written to: .\\models\\wind_direction_prediction.ckpt\\assets\n"
     ]
    },
    {
     "name": "stdout",
     "output_type": "stream",
     "text": [
      "Wall time: 8min 37s\n"
     ]
    }
   ],
   "source": [
    "%%time\n",
    "\n",
    "EPOCHS = 500\n",
    "batch_size = 6\n",
    "\n",
    "model1 = model1_single_layer_perceptron()\n",
    "print('Here is a summary of this model: ')\n",
    "model1.summary()\n",
    "\n",
    "with tf.device('/CPU:0'):\n",
    "    history = model1.fit(\n",
    "        normed_train_data,\n",
    "        train_labels,\n",
    "        batch_size = batch_size,\n",
    "        epochs=EPOCHS,\n",
    "        verbose=0,\n",
    "        shuffle=True,\n",
    "        steps_per_epoch= 1,\n",
    "        validation_data = (normed_valid_dataset, valid_labels),\n",
    "        callbacks=[tfdocs.modeling.EpochDots(), ckpt_callback],\n",
    "    )\n"
   ]
  },
  {
   "cell_type": "code",
   "execution_count": 116,
   "id": "9e63d87a",
   "metadata": {},
   "outputs": [
    {
     "name": "stdout",
     "output_type": "stream",
     "text": [
      "Summary of the results after each epoch: \n"
     ]
    },
    {
     "data": {
      "text/html": [
       "<div>\n",
       "<style scoped>\n",
       "    .dataframe tbody tr th:only-of-type {\n",
       "        vertical-align: middle;\n",
       "    }\n",
       "\n",
       "    .dataframe tbody tr th {\n",
       "        vertical-align: top;\n",
       "    }\n",
       "\n",
       "    .dataframe thead th {\n",
       "        text-align: right;\n",
       "    }\n",
       "</style>\n",
       "<table border=\"1\" class=\"dataframe\">\n",
       "  <thead>\n",
       "    <tr style=\"text-align: right;\">\n",
       "      <th></th>\n",
       "      <th>loss</th>\n",
       "      <th>mae</th>\n",
       "      <th>mse</th>\n",
       "      <th>mape</th>\n",
       "      <th>val_loss</th>\n",
       "      <th>val_mae</th>\n",
       "      <th>val_mse</th>\n",
       "      <th>val_mape</th>\n",
       "      <th>epoch</th>\n",
       "    </tr>\n",
       "  </thead>\n",
       "  <tbody>\n",
       "    <tr>\n",
       "      <th>495</th>\n",
       "      <td>3.822953</td>\n",
       "      <td>1.747905</td>\n",
       "      <td>3.822953</td>\n",
       "      <td>44.830627</td>\n",
       "      <td>2.721658</td>\n",
       "      <td>1.273557</td>\n",
       "      <td>2.721658</td>\n",
       "      <td>34.241352</td>\n",
       "      <td>495</td>\n",
       "    </tr>\n",
       "    <tr>\n",
       "      <th>496</th>\n",
       "      <td>2.843245</td>\n",
       "      <td>1.319448</td>\n",
       "      <td>2.843245</td>\n",
       "      <td>33.007687</td>\n",
       "      <td>2.714983</td>\n",
       "      <td>1.271322</td>\n",
       "      <td>2.714983</td>\n",
       "      <td>34.168194</td>\n",
       "      <td>496</td>\n",
       "    </tr>\n",
       "    <tr>\n",
       "      <th>497</th>\n",
       "      <td>4.381100</td>\n",
       "      <td>1.978749</td>\n",
       "      <td>4.381100</td>\n",
       "      <td>47.963848</td>\n",
       "      <td>2.708179</td>\n",
       "      <td>1.269038</td>\n",
       "      <td>2.708179</td>\n",
       "      <td>34.093479</td>\n",
       "      <td>497</td>\n",
       "    </tr>\n",
       "    <tr>\n",
       "      <th>498</th>\n",
       "      <td>20.415651</td>\n",
       "      <td>3.083353</td>\n",
       "      <td>20.415651</td>\n",
       "      <td>53.155872</td>\n",
       "      <td>2.700851</td>\n",
       "      <td>1.266568</td>\n",
       "      <td>2.700851</td>\n",
       "      <td>34.012486</td>\n",
       "      <td>498</td>\n",
       "    </tr>\n",
       "    <tr>\n",
       "      <th>499</th>\n",
       "      <td>4.622335</td>\n",
       "      <td>1.668733</td>\n",
       "      <td>4.622335</td>\n",
       "      <td>45.515713</td>\n",
       "      <td>2.693787</td>\n",
       "      <td>1.264182</td>\n",
       "      <td>2.693787</td>\n",
       "      <td>33.934273</td>\n",
       "      <td>499</td>\n",
       "    </tr>\n",
       "  </tbody>\n",
       "</table>\n",
       "</div>"
      ],
      "text/plain": [
       "          loss       mae        mse       mape  val_loss   val_mae   val_mse  \\\n",
       "495   3.822953  1.747905   3.822953  44.830627  2.721658  1.273557  2.721658   \n",
       "496   2.843245  1.319448   2.843245  33.007687  2.714983  1.271322  2.714983   \n",
       "497   4.381100  1.978749   4.381100  47.963848  2.708179  1.269038  2.708179   \n",
       "498  20.415651  3.083353  20.415651  53.155872  2.700851  1.266568  2.700851   \n",
       "499   4.622335  1.668733   4.622335  45.515713  2.693787  1.264182  2.693787   \n",
       "\n",
       "      val_mape  epoch  \n",
       "495  34.241352    495  \n",
       "496  34.168194    496  \n",
       "497  34.093479    497  \n",
       "498  34.012486    498  \n",
       "499  33.934273    499  "
      ]
     },
     "execution_count": 116,
     "metadata": {},
     "output_type": "execute_result"
    }
   ],
   "source": [
    "print('Summary of the results after each epoch: ')\n",
    "hist = pd.DataFrame(history.history)\n",
    "hist['epoch'] = history.epoch\n",
    "hist.tail()"
   ]
  },
  {
   "cell_type": "code",
   "execution_count": 117,
   "id": "376e3b8c",
   "metadata": {},
   "outputs": [],
   "source": [
    "# Test the model after training\n",
    "example_result_2 = model1.predict(normed_test_data)"
   ]
  },
  {
   "cell_type": "markdown",
   "id": "fdcc71cd",
   "metadata": {},
   "source": [
    "## Compare the predicted values with the actual values"
   ]
  },
  {
   "cell_type": "code",
   "execution_count": 118,
   "id": "43f76c34",
   "metadata": {},
   "outputs": [
    {
     "name": "stdout",
     "output_type": "stream",
     "text": [
      "Predicted Values\n",
      "[[2.2192607]\n",
      " [1.9059596]\n",
      " [1.3939753]\n",
      " [1.313272 ]\n",
      " [1.5370605]\n",
      " [0.8431319]\n",
      " [1.6957397]\n",
      " [2.0240405]\n",
      " [1.8748178]\n",
      " [1.3362715]]\n",
      "\n",
      "Actual Values\n",
      "1.0\n",
      "4.0\n",
      "3.0\n",
      "5.0\n",
      "4.0\n",
      "3.3\n",
      "5.0\n",
      "4.0\n",
      "4.0\n",
      "3.0\n"
     ]
    }
   ],
   "source": [
    "print('Predicted Values')\n",
    "print(example_result_2[:10])\n",
    "print()\n",
    "print('Actual Values')\n",
    "print(test_labels[:10].to_string(index=False))"
   ]
  },
  {
   "cell_type": "code",
   "execution_count": 119,
   "id": "6203d88d",
   "metadata": {},
   "outputs": [
    {
     "name": "stdout",
     "output_type": "stream",
     "text": [
      "The ground truth: \n"
     ]
    },
    {
     "data": {
      "text/plain": [
       "173    5.0\n",
       "147    5.0\n",
       "264    1.7\n",
       "113    4.0\n",
       "107    4.0\n",
       "277    3.0\n",
       "293    1.9\n",
       "238    4.0\n",
       "230    5.0\n",
       "179    3.0\n",
       "Name: WIND-SPEED, dtype: float64"
      ]
     },
     "execution_count": 119,
     "metadata": {},
     "output_type": "execute_result"
    }
   ],
   "source": [
    "print('The ground truth: ')\n",
    "train_labels[:10]"
   ]
  },
  {
   "cell_type": "markdown",
   "id": "c13293b9",
   "metadata": {},
   "source": [
    "## See how the training went by plotting the loss/mse across epochs"
   ]
  },
  {
   "cell_type": "code",
   "execution_count": 120,
   "id": "96a3953d",
   "metadata": {},
   "outputs": [
    {
     "data": {
      "text/plain": [
       "Text(0, 0.5, 'MAE [wind-speed]')"
      ]
     },
     "execution_count": 120,
     "metadata": {},
     "output_type": "execute_result"
    },
    {
     "data": {
      "image/png": "[encoded data removed]",
      "text/plain": [
       "<Figure size 432x288 with 1 Axes>"
      ]
     },
     "metadata": {
      "needs_background": "light"
     },
     "output_type": "display_data"
    }
   ],
   "source": [
    "plotter = tfdocs.plots.HistoryPlotter(smoothing_std=2)\n",
    "\n",
    "plotter.plot({'Basic': history}, metric = 'mae')\n",
    "plt.ylim([0,300])\n",
    "plt.ylabel('MAE [wind-speed]')"
   ]
  },
  {
   "cell_type": "code",
   "execution_count": 121,
   "id": "c975532b",
   "metadata": {},
   "outputs": [
    {
     "data": {
      "text/plain": [
       "Text(0, 0.5, 'MSE [wind-speed]')"
      ]
     },
     "execution_count": 121,
     "metadata": {},
     "output_type": "execute_result"
    },
    {
     "data": {
      "image/png": "[encoded data removed]",
      "text/plain": [
       "<Figure size 432x288 with 1 Axes>"
      ]
     },
     "metadata": {
      "needs_background": "light"
     },
     "output_type": "display_data"
    }
   ],
   "source": [
    "plotter.plot({'Basic': history}, metric = 'mse')\n",
    "plt.ylim([0,85000])\n",
    "plt.ylabel('MSE [wind-speed]')"
   ]
  },
  {
   "cell_type": "code",
   "execution_count": 122,
   "id": "b7560f2e",
   "metadata": {},
   "outputs": [
    {
     "name": "stdout",
     "output_type": "stream",
     "text": [
      "Error Rate on Train Split: \n",
      "6/6 - 0s - loss: 5.1598 - mae: 1.8547 - mse: 5.1598 - mape: 11159576.0000\n",
      "Train set Mean Abs Error :  1.85\n",
      "Train set Mean Square Error :  5.16\n"
     ]
    }
   ],
   "source": [
    "print('Error Rate on Train Split: ')\n",
    "loss, mae, mse, mape = model1.evaluate(normed_train_data, train_labels, verbose=2)\n",
    "\n",
    "print('Train set Mean Abs Error : {:5.2f}'.format(mae))\n",
    "print('Train set Mean Square Error : {:5.2f}'.format(mse))"
   ]
  },
  {
   "cell_type": "code",
   "execution_count": 123,
   "id": "71c865c3",
   "metadata": {},
   "outputs": [
    {
     "name": "stdout",
     "output_type": "stream",
     "text": [
      "Error Rate on Evaluation  Split: \n",
      "2/2 - 0s - loss: 2.6938 - mae: 1.2642 - mse: 2.6938 - mape: 33.9343\n",
      "Validation set Mean Abs Error :  1.26\n",
      "Validation set Mean Square Error :  2.69\n"
     ]
    }
   ],
   "source": [
    "print('Error Rate on Evaluation  Split: ')\n",
    "loss, mae, mse, mape = model1.evaluate(normed_valid_dataset, valid_labels, verbose=2)\n",
    "\n",
    "print('Validation set Mean Abs Error : {:5.2f}'.format(mae))\n",
    "print('Validation set Mean Square Error : {:5.2f}'.format(mse))"
   ]
  },
  {
   "cell_type": "code",
   "execution_count": 124,
   "id": "a0b77e8c",
   "metadata": {},
   "outputs": [
    {
     "name": "stdout",
     "output_type": "stream",
     "text": [
      "Error Rate on Test  Split: \n",
      "2/2 - 0s - loss: 4.0036 - mae: 1.7371 - mse: 4.0036 - mape: 52.0533\n",
      "Testing set Mean Abs Error :  1.74\n",
      "Testing set Mean Square Error :  4.00\n"
     ]
    }
   ],
   "source": [
    "print('Error Rate on Test  Split: ')\n",
    "loss, mae, mse, mape = model1.evaluate(normed_test_data, test_labels, verbose=2)\n",
    "\n",
    "print('Testing set Mean Abs Error : {:5.2f}'.format(mae))\n",
    "print('Testing set Mean Square Error : {:5.2f}'.format(mse))"
   ]
  },
  {
   "cell_type": "code",
   "execution_count": 125,
   "id": "872dc9cd",
   "metadata": {},
   "outputs": [
    {
     "data": {
      "image/png": "[encoded data removed]",
      "text/plain": [
       "<Figure size 432x288 with 1 Axes>"
      ]
     },
     "metadata": {
      "needs_background": "light"
     },
     "output_type": "display_data"
    }
   ],
   "source": [
    "train_predictions = model1.predict(normed_train_data).flatten()\n",
    "\n",
    "a = plt.axes(aspect='equal')\n",
    "plt.scatter(train_labels, train_predictions)\n",
    "plt.xlabel('True Values [wind-direction]')\n",
    "plt.ylabel('Predictions [wind-direction]')\n",
    "lims = [0, 350]\n",
    "plt.xlim(lims)\n",
    "plt.ylim(lims)\n",
    "_ = plt.plot(lims, lims)"
   ]
  },
  {
   "cell_type": "code",
   "execution_count": 126,
   "id": "18662011",
   "metadata": {},
   "outputs": [
    {
     "data": {
      "image/png": "[encoded data removed]",
      "text/plain": [
       "<Figure size 432x288 with 1 Axes>"
      ]
     },
     "metadata": {
      "needs_background": "light"
     },
     "output_type": "display_data"
    }
   ],
   "source": [
    "test_predictions = model1.predict(normed_test_data).flatten()\n",
    "\n",
    "a = plt.axes(aspect='equal')\n",
    "plt.scatter(test_labels, test_predictions)\n",
    "plt.xlabel('True Values [wind-speed]')\n",
    "plt.ylabel('Predictions [wind-speed]')\n",
    "lims = [0, 350]\n",
    "plt.xlim(lims)\n",
    "plt.ylim(lims)\n",
    "_ = plt.plot(lims, lims)"
   ]
  },
  {
   "cell_type": "code",
   "execution_count": 127,
   "id": "9dd51853",
   "metadata": {},
   "outputs": [
    {
     "data": {
      "image/png": "[encoded data removed]",
      "text/plain": [
       "<Figure size 432x288 with 1 Axes>"
      ]
     },
     "metadata": {
      "needs_background": "light"
     },
     "output_type": "display_data"
    }
   ],
   "source": [
    "# error distribution.\n",
    "error = test_predictions - test_labels\n",
    "plt.hist(error, bins = 25)\n",
    "plt.xlabel(\"Prediction Error [medv]\")\n",
    "_ = plt.ylabel(\"count\")"
   ]
  },
  {
   "cell_type": "markdown",
   "id": "7e3e2341",
   "metadata": {},
   "source": [
    "## One hidden layer analysis"
   ]
  },
  {
   "cell_type": "code",
   "execution_count": 128,
   "id": "89283015",
   "metadata": {},
   "outputs": [],
   "source": [
    "# checkpoint_path\n",
    "checkpoint_path = r\".\\models\\wind_direction_prediction2.ckpt\"\n",
    "\n",
    "#create a callback that saves the model's weight\n",
    "ckpt_callback = tf.keras.callbacks.ModelCheckpoint(filepath=checkpoint_path,monitor='val_loss',\n",
    "                                                 save_best_only=True,verbose=0,)"
   ]
  },
  {
   "cell_type": "code",
   "execution_count": 129,
   "id": "bd3213a6",
   "metadata": {},
   "outputs": [
    {
     "name": "stdout",
     "output_type": "stream",
     "text": [
      "Here is a summary of this model: \n",
      "Model: \"sequential_10\"\n",
      "_________________________________________________________________\n",
      "Layer (type)                 Output Shape              Param #   \n",
      "=================================================================\n",
      "dense_31 (Dense)             (None, 10)                70        \n",
      "_________________________________________________________________\n",
      "dropout_5 (Dropout)          (None, 10)                0         \n",
      "_________________________________________________________________\n",
      "dense_32 (Dense)             (None, 35)                385       \n",
      "_________________________________________________________________\n",
      "dropout_6 (Dropout)          (None, 35)                0         \n",
      "_________________________________________________________________\n",
      "dense_33 (Dense)             (None, 1)                 36        \n",
      "=================================================================\n",
      "Total params: 491\n",
      "Trainable params: 491\n",
      "Non-trainable params: 0\n",
      "_________________________________________________________________\n",
      "\n",
      "Epoch: 0, loss:13.9768,  mae:3.6706,  mape:96.7701,  mse:13.9768,  val_loss:10.0062,  val_mae:2.9471,  val_mape:93.1763,  val_mse:10.0062,  \n",
      "."
     ]
    },
    {
     "name": "stderr",
     "output_type": "stream",
     "text": [
      "WARNING:absl:Found untraced functions such as activation_17_layer_call_fn, activation_17_layer_call_and_return_conditional_losses, activation_17_layer_call_fn, activation_17_layer_call_and_return_conditional_losses, activation_17_layer_call_and_return_conditional_losses while saving (showing 5 of 5). These functions will not be directly callable after loading.\n"
     ]
    },
    {
     "name": "stdout",
     "output_type": "stream",
     "text": [
      "INFO:tensorflow:Assets written to: .\\models\\wind_direction_prediction2.ckpt\\assets\n"
     ]
    },
    {
     "name": "stderr",
     "output_type": "stream",
     "text": [
      "INFO:tensorflow:Assets written to: .\\models\\wind_direction_prediction2.ckpt\\assets\n"
     ]
    },
    {
     "name": "stdout",
     "output_type": "stream",
     "text": [
      "."
     ]
    },
    {
     "name": "stderr",
     "output_type": "stream",
     "text": [
      "WARNING:absl:Found untraced functions such as activation_17_layer_call_fn, activation_17_layer_call_and_return_conditional_losses, activation_17_layer_call_fn, activation_17_layer_call_and_return_conditional_losses, activation_17_layer_call_and_return_conditional_losses while saving (showing 5 of 5). These functions will not be directly callable after loading.\n"
     ]
    },
    {
     "name": "stdout",
     "output_type": "stream",
     "text": [
      "INFO:tensorflow:Assets written to: .\\models\\wind_direction_prediction2.ckpt\\assets\n"
     ]
    },
    {
     "name": "stderr",
     "output_type": "stream",
     "text": [
      "INFO:tensorflow:Assets written to: .\\models\\wind_direction_prediction2.ckpt\\assets\n"
     ]
    },
    {
     "name": "stdout",
     "output_type": "stream",
     "text": [
      "."
     ]
    },
    {
     "name": "stderr",
     "output_type": "stream",
     "text": [
      "WARNING:absl:Found untraced functions such as activation_17_layer_call_fn, activation_17_layer_call_and_return_conditional_losses, activation_17_layer_call_fn, activation_17_layer_call_and_return_conditional_losses, activation_17_layer_call_and_return_conditional_losses while saving (showing 5 of 5). These functions will not be directly callable after loading.\n"
     ]
    },
    {
     "name": "stdout",
     "output_type": "stream",
     "text": [
      "INFO:tensorflow:Assets written to: .\\models\\wind_direction_prediction2.ckpt\\assets\n"
     ]
    },
    {
     "name": "stderr",
     "output_type": "stream",
     "text": [
      "INFO:tensorflow:Assets written to: .\\models\\wind_direction_prediction2.ckpt\\assets\n"
     ]
    },
    {
     "name": "stdout",
     "output_type": "stream",
     "text": [
      "."
     ]
    },
    {
     "name": "stderr",
     "output_type": "stream",
     "text": [
      "WARNING:absl:Found untraced functions such as activation_17_layer_call_fn, activation_17_layer_call_and_return_conditional_losses, activation_17_layer_call_fn, activation_17_layer_call_and_return_conditional_losses, activation_17_layer_call_and_return_conditional_losses while saving (showing 5 of 5). These functions will not be directly callable after loading.\n"
     ]
    },
    {
     "name": "stdout",
     "output_type": "stream",
     "text": [
      "INFO:tensorflow:Assets written to: .\\models\\wind_direction_prediction2.ckpt\\assets\n"
     ]
    },
    {
     "name": "stderr",
     "output_type": "stream",
     "text": [
      "INFO:tensorflow:Assets written to: .\\models\\wind_direction_prediction2.ckpt\\assets\n"
     ]
    },
    {
     "name": "stdout",
     "output_type": "stream",
     "text": [
      "."
     ]
    },
    {
     "name": "stderr",
     "output_type": "stream",
     "text": [
      "WARNING:absl:Found untraced functions such as activation_17_layer_call_fn, activation_17_layer_call_and_return_conditional_losses, activation_17_layer_call_fn, activation_17_layer_call_and_return_conditional_losses, activation_17_layer_call_and_return_conditional_losses while saving (showing 5 of 5). These functions will not be directly callable after loading.\n"
     ]
    },
    {
     "name": "stdout",
     "output_type": "stream",
     "text": [
      "INFO:tensorflow:Assets written to: .\\models\\wind_direction_prediction2.ckpt\\assets\n"
     ]
    },
    {
     "name": "stderr",
     "output_type": "stream",
     "text": [
      "INFO:tensorflow:Assets written to: .\\models\\wind_direction_prediction2.ckpt\\assets\n"
     ]
    },
    {
     "name": "stdout",
     "output_type": "stream",
     "text": [
      "."
     ]
    },
    {
     "name": "stderr",
     "output_type": "stream",
     "text": [
      "WARNING:absl:Found untraced functions such as activation_17_layer_call_fn, activation_17_layer_call_and_return_conditional_losses, activation_17_layer_call_fn, activation_17_layer_call_and_return_conditional_losses, activation_17_layer_call_and_return_conditional_losses while saving (showing 5 of 5). These functions will not be directly callable after loading.\n"
     ]
    },
    {
     "name": "stdout",
     "output_type": "stream",
     "text": [
      "INFO:tensorflow:Assets written to: .\\models\\wind_direction_prediction2.ckpt\\assets\n"
     ]
    },
    {
     "name": "stderr",
     "output_type": "stream",
     "text": [
      "INFO:tensorflow:Assets written to: .\\models\\wind_direction_prediction2.ckpt\\assets\n"
     ]
    },
    {
     "name": "stdout",
     "output_type": "stream",
     "text": [
      "."
     ]
    },
    {
     "name": "stderr",
     "output_type": "stream",
     "text": [
      "WARNING:absl:Found untraced functions such as activation_17_layer_call_fn, activation_17_layer_call_and_return_conditional_losses, activation_17_layer_call_fn, activation_17_layer_call_and_return_conditional_losses, activation_17_layer_call_and_return_conditional_losses while saving (showing 5 of 5). These functions will not be directly callable after loading.\n"
     ]
    },
    {
     "name": "stdout",
     "output_type": "stream",
     "text": [
      "INFO:tensorflow:Assets written to: .\\models\\wind_direction_prediction2.ckpt\\assets\n"
     ]
    },
    {
     "name": "stderr",
     "output_type": "stream",
     "text": [
      "INFO:tensorflow:Assets written to: .\\models\\wind_direction_prediction2.ckpt\\assets\n"
     ]
    },
    {
     "name": "stdout",
     "output_type": "stream",
     "text": [
      "."
     ]
    },
    {
     "name": "stderr",
     "output_type": "stream",
     "text": [
      "WARNING:absl:Found untraced functions such as activation_17_layer_call_fn, activation_17_layer_call_and_return_conditional_losses, activation_17_layer_call_fn, activation_17_layer_call_and_return_conditional_losses, activation_17_layer_call_and_return_conditional_losses while saving (showing 5 of 5). These functions will not be directly callable after loading.\n"
     ]
    },
    {
     "name": "stdout",
     "output_type": "stream",
     "text": [
      "INFO:tensorflow:Assets written to: .\\models\\wind_direction_prediction2.ckpt\\assets\n"
     ]
    },
    {
     "name": "stderr",
     "output_type": "stream",
     "text": [
      "INFO:tensorflow:Assets written to: .\\models\\wind_direction_prediction2.ckpt\\assets\n"
     ]
    },
    {
     "name": "stdout",
     "output_type": "stream",
     "text": [
      "."
     ]
    },
    {
     "name": "stderr",
     "output_type": "stream",
     "text": [
      "WARNING:absl:Found untraced functions such as activation_17_layer_call_fn, activation_17_layer_call_and_return_conditional_losses, activation_17_layer_call_fn, activation_17_layer_call_and_return_conditional_losses, activation_17_layer_call_and_return_conditional_losses while saving (showing 5 of 5). These functions will not be directly callable after loading.\n"
     ]
    },
    {
     "name": "stdout",
     "output_type": "stream",
     "text": [
      "INFO:tensorflow:Assets written to: .\\models\\wind_direction_prediction2.ckpt\\assets\n"
     ]
    },
    {
     "name": "stderr",
     "output_type": "stream",
     "text": [
      "INFO:tensorflow:Assets written to: .\\models\\wind_direction_prediction2.ckpt\\assets\n"
     ]
    },
    {
     "name": "stdout",
     "output_type": "stream",
     "text": [
      "."
     ]
    },
    {
     "name": "stderr",
     "output_type": "stream",
     "text": [
      "WARNING:absl:Found untraced functions such as activation_17_layer_call_fn, activation_17_layer_call_and_return_conditional_losses, activation_17_layer_call_fn, activation_17_layer_call_and_return_conditional_losses, activation_17_layer_call_and_return_conditional_losses while saving (showing 5 of 5). These functions will not be directly callable after loading.\n"
     ]
    },
    {
     "name": "stdout",
     "output_type": "stream",
     "text": [
      "INFO:tensorflow:Assets written to: .\\models\\wind_direction_prediction2.ckpt\\assets\n"
     ]
    },
    {
     "name": "stderr",
     "output_type": "stream",
     "text": [
      "INFO:tensorflow:Assets written to: .\\models\\wind_direction_prediction2.ckpt\\assets\n"
     ]
    },
    {
     "name": "stdout",
     "output_type": "stream",
     "text": [
      "."
     ]
    },
    {
     "name": "stderr",
     "output_type": "stream",
     "text": [
      "WARNING:absl:Found untraced functions such as activation_17_layer_call_fn, activation_17_layer_call_and_return_conditional_losses, activation_17_layer_call_fn, activation_17_layer_call_and_return_conditional_losses, activation_17_layer_call_and_return_conditional_losses while saving (showing 5 of 5). These functions will not be directly callable after loading.\n"
     ]
    },
    {
     "name": "stdout",
     "output_type": "stream",
     "text": [
      "INFO:tensorflow:Assets written to: .\\models\\wind_direction_prediction2.ckpt\\assets\n"
     ]
    },
    {
     "name": "stderr",
     "output_type": "stream",
     "text": [
      "INFO:tensorflow:Assets written to: .\\models\\wind_direction_prediction2.ckpt\\assets\n"
     ]
    },
    {
     "name": "stdout",
     "output_type": "stream",
     "text": [
      "."
     ]
    },
    {
     "name": "stderr",
     "output_type": "stream",
     "text": [
      "WARNING:absl:Found untraced functions such as activation_17_layer_call_fn, activation_17_layer_call_and_return_conditional_losses, activation_17_layer_call_fn, activation_17_layer_call_and_return_conditional_losses, activation_17_layer_call_and_return_conditional_losses while saving (showing 5 of 5). These functions will not be directly callable after loading.\n"
     ]
    },
    {
     "name": "stdout",
     "output_type": "stream",
     "text": [
      "INFO:tensorflow:Assets written to: .\\models\\wind_direction_prediction2.ckpt\\assets\n"
     ]
    },
    {
     "name": "stderr",
     "output_type": "stream",
     "text": [
      "INFO:tensorflow:Assets written to: .\\models\\wind_direction_prediction2.ckpt\\assets\n"
     ]
    },
    {
     "name": "stdout",
     "output_type": "stream",
     "text": [
      "."
     ]
    },
    {
     "name": "stderr",
     "output_type": "stream",
     "text": [
      "WARNING:absl:Found untraced functions such as activation_17_layer_call_fn, activation_17_layer_call_and_return_conditional_losses, activation_17_layer_call_fn, activation_17_layer_call_and_return_conditional_losses, activation_17_layer_call_and_return_conditional_losses while saving (showing 5 of 5). These functions will not be directly callable after loading.\n"
     ]
    },
    {
     "name": "stdout",
     "output_type": "stream",
     "text": [
      "INFO:tensorflow:Assets written to: .\\models\\wind_direction_prediction2.ckpt\\assets\n"
     ]
    },
    {
     "name": "stderr",
     "output_type": "stream",
     "text": [
      "INFO:tensorflow:Assets written to: .\\models\\wind_direction_prediction2.ckpt\\assets\n"
     ]
    },
    {
     "name": "stdout",
     "output_type": "stream",
     "text": [
      "."
     ]
    },
    {
     "name": "stderr",
     "output_type": "stream",
     "text": [
      "WARNING:absl:Found untraced functions such as activation_17_layer_call_fn, activation_17_layer_call_and_return_conditional_losses, activation_17_layer_call_fn, activation_17_layer_call_and_return_conditional_losses, activation_17_layer_call_and_return_conditional_losses while saving (showing 5 of 5). These functions will not be directly callable after loading.\n"
     ]
    },
    {
     "name": "stdout",
     "output_type": "stream",
     "text": [
      "INFO:tensorflow:Assets written to: .\\models\\wind_direction_prediction2.ckpt\\assets\n"
     ]
    },
    {
     "name": "stderr",
     "output_type": "stream",
     "text": [
      "INFO:tensorflow:Assets written to: .\\models\\wind_direction_prediction2.ckpt\\assets\n"
     ]
    },
    {
     "name": "stdout",
     "output_type": "stream",
     "text": [
      "."
     ]
    },
    {
     "name": "stderr",
     "output_type": "stream",
     "text": [
      "WARNING:absl:Found untraced functions such as activation_17_layer_call_fn, activation_17_layer_call_and_return_conditional_losses, activation_17_layer_call_fn, activation_17_layer_call_and_return_conditional_losses, activation_17_layer_call_and_return_conditional_losses while saving (showing 5 of 5). These functions will not be directly callable after loading.\n"
     ]
    },
    {
     "name": "stdout",
     "output_type": "stream",
     "text": [
      "INFO:tensorflow:Assets written to: .\\models\\wind_direction_prediction2.ckpt\\assets\n"
     ]
    },
    {
     "name": "stderr",
     "output_type": "stream",
     "text": [
      "INFO:tensorflow:Assets written to: .\\models\\wind_direction_prediction2.ckpt\\assets\n"
     ]
    },
    {
     "name": "stdout",
     "output_type": "stream",
     "text": [
      "."
     ]
    },
    {
     "name": "stderr",
     "output_type": "stream",
     "text": [
      "WARNING:absl:Found untraced functions such as activation_17_layer_call_fn, activation_17_layer_call_and_return_conditional_losses, activation_17_layer_call_fn, activation_17_layer_call_and_return_conditional_losses, activation_17_layer_call_and_return_conditional_losses while saving (showing 5 of 5). These functions will not be directly callable after loading.\n"
     ]
    },
    {
     "name": "stdout",
     "output_type": "stream",
     "text": [
      "INFO:tensorflow:Assets written to: .\\models\\wind_direction_prediction2.ckpt\\assets\n"
     ]
    },
    {
     "name": "stderr",
     "output_type": "stream",
     "text": [
      "INFO:tensorflow:Assets written to: .\\models\\wind_direction_prediction2.ckpt\\assets\n"
     ]
    },
    {
     "name": "stdout",
     "output_type": "stream",
     "text": [
      "."
     ]
    },
    {
     "name": "stderr",
     "output_type": "stream",
     "text": [
      "WARNING:absl:Found untraced functions such as activation_17_layer_call_fn, activation_17_layer_call_and_return_conditional_losses, activation_17_layer_call_fn, activation_17_layer_call_and_return_conditional_losses, activation_17_layer_call_and_return_conditional_losses while saving (showing 5 of 5). These functions will not be directly callable after loading.\n"
     ]
    },
    {
     "name": "stdout",
     "output_type": "stream",
     "text": [
      "INFO:tensorflow:Assets written to: .\\models\\wind_direction_prediction2.ckpt\\assets\n"
     ]
    },
    {
     "name": "stderr",
     "output_type": "stream",
     "text": [
      "INFO:tensorflow:Assets written to: .\\models\\wind_direction_prediction2.ckpt\\assets\n"
     ]
    },
    {
     "name": "stdout",
     "output_type": "stream",
     "text": [
      "."
     ]
    },
    {
     "name": "stderr",
     "output_type": "stream",
     "text": [
      "WARNING:absl:Found untraced functions such as activation_17_layer_call_fn, activation_17_layer_call_and_return_conditional_losses, activation_17_layer_call_fn, activation_17_layer_call_and_return_conditional_losses, activation_17_layer_call_and_return_conditional_losses while saving (showing 5 of 5). These functions will not be directly callable after loading.\n"
     ]
    },
    {
     "name": "stdout",
     "output_type": "stream",
     "text": [
      "INFO:tensorflow:Assets written to: .\\models\\wind_direction_prediction2.ckpt\\assets\n"
     ]
    },
    {
     "name": "stderr",
     "output_type": "stream",
     "text": [
      "INFO:tensorflow:Assets written to: .\\models\\wind_direction_prediction2.ckpt\\assets\n"
     ]
    },
    {
     "name": "stdout",
     "output_type": "stream",
     "text": [
      "."
     ]
    },
    {
     "name": "stderr",
     "output_type": "stream",
     "text": [
      "WARNING:absl:Found untraced functions such as activation_17_layer_call_fn, activation_17_layer_call_and_return_conditional_losses, activation_17_layer_call_fn, activation_17_layer_call_and_return_conditional_losses, activation_17_layer_call_and_return_conditional_losses while saving (showing 5 of 5). These functions will not be directly callable after loading.\n"
     ]
    },
    {
     "name": "stdout",
     "output_type": "stream",
     "text": [
      "INFO:tensorflow:Assets written to: .\\models\\wind_direction_prediction2.ckpt\\assets\n"
     ]
    },
    {
     "name": "stderr",
     "output_type": "stream",
     "text": [
      "INFO:tensorflow:Assets written to: .\\models\\wind_direction_prediction2.ckpt\\assets\n"
     ]
    },
    {
     "name": "stdout",
     "output_type": "stream",
     "text": [
      "."
     ]
    },
    {
     "name": "stderr",
     "output_type": "stream",
     "text": [
      "WARNING:absl:Found untraced functions such as activation_17_layer_call_fn, activation_17_layer_call_and_return_conditional_losses, activation_17_layer_call_fn, activation_17_layer_call_and_return_conditional_losses, activation_17_layer_call_and_return_conditional_losses while saving (showing 5 of 5). These functions will not be directly callable after loading.\n"
     ]
    },
    {
     "name": "stdout",
     "output_type": "stream",
     "text": [
      "INFO:tensorflow:Assets written to: .\\models\\wind_direction_prediction2.ckpt\\assets\n"
     ]
    },
    {
     "name": "stderr",
     "output_type": "stream",
     "text": [
      "INFO:tensorflow:Assets written to: .\\models\\wind_direction_prediction2.ckpt\\assets\n"
     ]
    },
    {
     "name": "stdout",
     "output_type": "stream",
     "text": [
      "."
     ]
    },
    {
     "name": "stderr",
     "output_type": "stream",
     "text": [
      "WARNING:absl:Found untraced functions such as activation_17_layer_call_fn, activation_17_layer_call_and_return_conditional_losses, activation_17_layer_call_fn, activation_17_layer_call_and_return_conditional_losses, activation_17_layer_call_and_return_conditional_losses while saving (showing 5 of 5). These functions will not be directly callable after loading.\n"
     ]
    },
    {
     "name": "stdout",
     "output_type": "stream",
     "text": [
      "INFO:tensorflow:Assets written to: .\\models\\wind_direction_prediction2.ckpt\\assets\n"
     ]
    },
    {
     "name": "stderr",
     "output_type": "stream",
     "text": [
      "INFO:tensorflow:Assets written to: .\\models\\wind_direction_prediction2.ckpt\\assets\n"
     ]
    },
    {
     "name": "stdout",
     "output_type": "stream",
     "text": [
      "."
     ]
    },
    {
     "name": "stderr",
     "output_type": "stream",
     "text": [
      "WARNING:absl:Found untraced functions such as activation_17_layer_call_fn, activation_17_layer_call_and_return_conditional_losses, activation_17_layer_call_fn, activation_17_layer_call_and_return_conditional_losses, activation_17_layer_call_and_return_conditional_losses while saving (showing 5 of 5). These functions will not be directly callable after loading.\n"
     ]
    },
    {
     "name": "stdout",
     "output_type": "stream",
     "text": [
      "INFO:tensorflow:Assets written to: .\\models\\wind_direction_prediction2.ckpt\\assets\n"
     ]
    },
    {
     "name": "stderr",
     "output_type": "stream",
     "text": [
      "INFO:tensorflow:Assets written to: .\\models\\wind_direction_prediction2.ckpt\\assets\n"
     ]
    },
    {
     "name": "stdout",
     "output_type": "stream",
     "text": [
      "."
     ]
    },
    {
     "name": "stderr",
     "output_type": "stream",
     "text": [
      "WARNING:absl:Found untraced functions such as activation_17_layer_call_fn, activation_17_layer_call_and_return_conditional_losses, activation_17_layer_call_fn, activation_17_layer_call_and_return_conditional_losses, activation_17_layer_call_and_return_conditional_losses while saving (showing 5 of 5). These functions will not be directly callable after loading.\n"
     ]
    },
    {
     "name": "stdout",
     "output_type": "stream",
     "text": [
      "INFO:tensorflow:Assets written to: .\\models\\wind_direction_prediction2.ckpt\\assets\n"
     ]
    },
    {
     "name": "stderr",
     "output_type": "stream",
     "text": [
      "INFO:tensorflow:Assets written to: .\\models\\wind_direction_prediction2.ckpt\\assets\n"
     ]
    },
    {
     "name": "stdout",
     "output_type": "stream",
     "text": [
      "."
     ]
    },
    {
     "name": "stderr",
     "output_type": "stream",
     "text": [
      "WARNING:absl:Found untraced functions such as activation_17_layer_call_fn, activation_17_layer_call_and_return_conditional_losses, activation_17_layer_call_fn, activation_17_layer_call_and_return_conditional_losses, activation_17_layer_call_and_return_conditional_losses while saving (showing 5 of 5). These functions will not be directly callable after loading.\n"
     ]
    },
    {
     "name": "stdout",
     "output_type": "stream",
     "text": [
      "INFO:tensorflow:Assets written to: .\\models\\wind_direction_prediction2.ckpt\\assets\n"
     ]
    },
    {
     "name": "stderr",
     "output_type": "stream",
     "text": [
      "INFO:tensorflow:Assets written to: .\\models\\wind_direction_prediction2.ckpt\\assets\n"
     ]
    },
    {
     "name": "stdout",
     "output_type": "stream",
     "text": [
      "."
     ]
    },
    {
     "name": "stderr",
     "output_type": "stream",
     "text": [
      "WARNING:absl:Found untraced functions such as activation_17_layer_call_fn, activation_17_layer_call_and_return_conditional_losses, activation_17_layer_call_fn, activation_17_layer_call_and_return_conditional_losses, activation_17_layer_call_and_return_conditional_losses while saving (showing 5 of 5). These functions will not be directly callable after loading.\n"
     ]
    },
    {
     "name": "stdout",
     "output_type": "stream",
     "text": [
      "INFO:tensorflow:Assets written to: .\\models\\wind_direction_prediction2.ckpt\\assets\n"
     ]
    },
    {
     "name": "stderr",
     "output_type": "stream",
     "text": [
      "INFO:tensorflow:Assets written to: .\\models\\wind_direction_prediction2.ckpt\\assets\n"
     ]
    },
    {
     "name": "stdout",
     "output_type": "stream",
     "text": [
      "."
     ]
    },
    {
     "name": "stderr",
     "output_type": "stream",
     "text": [
      "WARNING:absl:Found untraced functions such as activation_17_layer_call_fn, activation_17_layer_call_and_return_conditional_losses, activation_17_layer_call_fn, activation_17_layer_call_and_return_conditional_losses, activation_17_layer_call_and_return_conditional_losses while saving (showing 5 of 5). These functions will not be directly callable after loading.\n"
     ]
    },
    {
     "name": "stdout",
     "output_type": "stream",
     "text": [
      "INFO:tensorflow:Assets written to: .\\models\\wind_direction_prediction2.ckpt\\assets\n"
     ]
    },
    {
     "name": "stderr",
     "output_type": "stream",
     "text": [
      "INFO:tensorflow:Assets written to: .\\models\\wind_direction_prediction2.ckpt\\assets\n"
     ]
    },
    {
     "name": "stdout",
     "output_type": "stream",
     "text": [
      "."
     ]
    },
    {
     "name": "stderr",
     "output_type": "stream",
     "text": [
      "WARNING:absl:Found untraced functions such as activation_17_layer_call_fn, activation_17_layer_call_and_return_conditional_losses, activation_17_layer_call_fn, activation_17_layer_call_and_return_conditional_losses, activation_17_layer_call_and_return_conditional_losses while saving (showing 5 of 5). These functions will not be directly callable after loading.\n"
     ]
    },
    {
     "name": "stdout",
     "output_type": "stream",
     "text": [
      "INFO:tensorflow:Assets written to: .\\models\\wind_direction_prediction2.ckpt\\assets\n"
     ]
    },
    {
     "name": "stderr",
     "output_type": "stream",
     "text": [
      "INFO:tensorflow:Assets written to: .\\models\\wind_direction_prediction2.ckpt\\assets\n"
     ]
    },
    {
     "name": "stdout",
     "output_type": "stream",
     "text": [
      "."
     ]
    },
    {
     "name": "stderr",
     "output_type": "stream",
     "text": [
      "WARNING:absl:Found untraced functions such as activation_17_layer_call_fn, activation_17_layer_call_and_return_conditional_losses, activation_17_layer_call_fn, activation_17_layer_call_and_return_conditional_losses, activation_17_layer_call_and_return_conditional_losses while saving (showing 5 of 5). These functions will not be directly callable after loading.\n"
     ]
    },
    {
     "name": "stdout",
     "output_type": "stream",
     "text": [
      "INFO:tensorflow:Assets written to: .\\models\\wind_direction_prediction2.ckpt\\assets\n"
     ]
    },
    {
     "name": "stderr",
     "output_type": "stream",
     "text": [
      "INFO:tensorflow:Assets written to: .\\models\\wind_direction_prediction2.ckpt\\assets\n"
     ]
    },
    {
     "name": "stdout",
     "output_type": "stream",
     "text": [
      "."
     ]
    },
    {
     "name": "stderr",
     "output_type": "stream",
     "text": [
      "WARNING:absl:Found untraced functions such as activation_17_layer_call_fn, activation_17_layer_call_and_return_conditional_losses, activation_17_layer_call_fn, activation_17_layer_call_and_return_conditional_losses, activation_17_layer_call_and_return_conditional_losses while saving (showing 5 of 5). These functions will not be directly callable after loading.\n"
     ]
    },
    {
     "name": "stdout",
     "output_type": "stream",
     "text": [
      "INFO:tensorflow:Assets written to: .\\models\\wind_direction_prediction2.ckpt\\assets\n"
     ]
    },
    {
     "name": "stderr",
     "output_type": "stream",
     "text": [
      "INFO:tensorflow:Assets written to: .\\models\\wind_direction_prediction2.ckpt\\assets\n"
     ]
    },
    {
     "name": "stdout",
     "output_type": "stream",
     "text": [
      "."
     ]
    },
    {
     "name": "stderr",
     "output_type": "stream",
     "text": [
      "WARNING:absl:Found untraced functions such as activation_17_layer_call_fn, activation_17_layer_call_and_return_conditional_losses, activation_17_layer_call_fn, activation_17_layer_call_and_return_conditional_losses, activation_17_layer_call_and_return_conditional_losses while saving (showing 5 of 5). These functions will not be directly callable after loading.\n"
     ]
    },
    {
     "name": "stdout",
     "output_type": "stream",
     "text": [
      "INFO:tensorflow:Assets written to: .\\models\\wind_direction_prediction2.ckpt\\assets\n"
     ]
    },
    {
     "name": "stderr",
     "output_type": "stream",
     "text": [
      "INFO:tensorflow:Assets written to: .\\models\\wind_direction_prediction2.ckpt\\assets\n"
     ]
    },
    {
     "name": "stdout",
     "output_type": "stream",
     "text": [
      "."
     ]
    },
    {
     "name": "stderr",
     "output_type": "stream",
     "text": [
      "WARNING:absl:Found untraced functions such as activation_17_layer_call_fn, activation_17_layer_call_and_return_conditional_losses, activation_17_layer_call_fn, activation_17_layer_call_and_return_conditional_losses, activation_17_layer_call_and_return_conditional_losses while saving (showing 5 of 5). These functions will not be directly callable after loading.\n"
     ]
    },
    {
     "name": "stdout",
     "output_type": "stream",
     "text": [
      "INFO:tensorflow:Assets written to: .\\models\\wind_direction_prediction2.ckpt\\assets\n"
     ]
    },
    {
     "name": "stderr",
     "output_type": "stream",
     "text": [
      "INFO:tensorflow:Assets written to: .\\models\\wind_direction_prediction2.ckpt\\assets\n"
     ]
    },
    {
     "name": "stdout",
     "output_type": "stream",
     "text": [
      "."
     ]
    },
    {
     "name": "stderr",
     "output_type": "stream",
     "text": [
      "WARNING:absl:Found untraced functions such as activation_17_layer_call_fn, activation_17_layer_call_and_return_conditional_losses, activation_17_layer_call_fn, activation_17_layer_call_and_return_conditional_losses, activation_17_layer_call_and_return_conditional_losses while saving (showing 5 of 5). These functions will not be directly callable after loading.\n"
     ]
    },
    {
     "name": "stdout",
     "output_type": "stream",
     "text": [
      "INFO:tensorflow:Assets written to: .\\models\\wind_direction_prediction2.ckpt\\assets\n"
     ]
    },
    {
     "name": "stderr",
     "output_type": "stream",
     "text": [
      "INFO:tensorflow:Assets written to: .\\models\\wind_direction_prediction2.ckpt\\assets\n"
     ]
    },
    {
     "name": "stdout",
     "output_type": "stream",
     "text": [
      "."
     ]
    },
    {
     "name": "stderr",
     "output_type": "stream",
     "text": [
      "WARNING:absl:Found untraced functions such as activation_17_layer_call_fn, activation_17_layer_call_and_return_conditional_losses, activation_17_layer_call_fn, activation_17_layer_call_and_return_conditional_losses, activation_17_layer_call_and_return_conditional_losses while saving (showing 5 of 5). These functions will not be directly callable after loading.\n"
     ]
    },
    {
     "name": "stdout",
     "output_type": "stream",
     "text": [
      "INFO:tensorflow:Assets written to: .\\models\\wind_direction_prediction2.ckpt\\assets\n"
     ]
    },
    {
     "name": "stderr",
     "output_type": "stream",
     "text": [
      "INFO:tensorflow:Assets written to: .\\models\\wind_direction_prediction2.ckpt\\assets\n"
     ]
    },
    {
     "name": "stdout",
     "output_type": "stream",
     "text": [
      "."
     ]
    },
    {
     "name": "stderr",
     "output_type": "stream",
     "text": [
      "WARNING:absl:Found untraced functions such as activation_17_layer_call_fn, activation_17_layer_call_and_return_conditional_losses, activation_17_layer_call_fn, activation_17_layer_call_and_return_conditional_losses, activation_17_layer_call_and_return_conditional_losses while saving (showing 5 of 5). These functions will not be directly callable after loading.\n"
     ]
    },
    {
     "name": "stdout",
     "output_type": "stream",
     "text": [
      "INFO:tensorflow:Assets written to: .\\models\\wind_direction_prediction2.ckpt\\assets\n"
     ]
    },
    {
     "name": "stderr",
     "output_type": "stream",
     "text": [
      "INFO:tensorflow:Assets written to: .\\models\\wind_direction_prediction2.ckpt\\assets\n"
     ]
    },
    {
     "name": "stdout",
     "output_type": "stream",
     "text": [
      "."
     ]
    },
    {
     "name": "stderr",
     "output_type": "stream",
     "text": [
      "WARNING:absl:Found untraced functions such as activation_17_layer_call_fn, activation_17_layer_call_and_return_conditional_losses, activation_17_layer_call_fn, activation_17_layer_call_and_return_conditional_losses, activation_17_layer_call_and_return_conditional_losses while saving (showing 5 of 5). These functions will not be directly callable after loading.\n"
     ]
    },
    {
     "name": "stdout",
     "output_type": "stream",
     "text": [
      "INFO:tensorflow:Assets written to: .\\models\\wind_direction_prediction2.ckpt\\assets\n"
     ]
    },
    {
     "name": "stderr",
     "output_type": "stream",
     "text": [
      "INFO:tensorflow:Assets written to: .\\models\\wind_direction_prediction2.ckpt\\assets\n"
     ]
    },
    {
     "name": "stdout",
     "output_type": "stream",
     "text": [
      "."
     ]
    },
    {
     "name": "stderr",
     "output_type": "stream",
     "text": [
      "WARNING:absl:Found untraced functions such as activation_17_layer_call_fn, activation_17_layer_call_and_return_conditional_losses, activation_17_layer_call_fn, activation_17_layer_call_and_return_conditional_losses, activation_17_layer_call_and_return_conditional_losses while saving (showing 5 of 5). These functions will not be directly callable after loading.\n"
     ]
    },
    {
     "name": "stdout",
     "output_type": "stream",
     "text": [
      "INFO:tensorflow:Assets written to: .\\models\\wind_direction_prediction2.ckpt\\assets\n"
     ]
    },
    {
     "name": "stderr",
     "output_type": "stream",
     "text": [
      "INFO:tensorflow:Assets written to: .\\models\\wind_direction_prediction2.ckpt\\assets\n"
     ]
    },
    {
     "name": "stdout",
     "output_type": "stream",
     "text": [
      "."
     ]
    },
    {
     "name": "stderr",
     "output_type": "stream",
     "text": [
      "WARNING:absl:Found untraced functions such as activation_17_layer_call_fn, activation_17_layer_call_and_return_conditional_losses, activation_17_layer_call_fn, activation_17_layer_call_and_return_conditional_losses, activation_17_layer_call_and_return_conditional_losses while saving (showing 5 of 5). These functions will not be directly callable after loading.\n"
     ]
    },
    {
     "name": "stdout",
     "output_type": "stream",
     "text": [
      "INFO:tensorflow:Assets written to: .\\models\\wind_direction_prediction2.ckpt\\assets\n"
     ]
    },
    {
     "name": "stderr",
     "output_type": "stream",
     "text": [
      "INFO:tensorflow:Assets written to: .\\models\\wind_direction_prediction2.ckpt\\assets\n"
     ]
    },
    {
     "name": "stdout",
     "output_type": "stream",
     "text": [
      "."
     ]
    },
    {
     "name": "stderr",
     "output_type": "stream",
     "text": [
      "WARNING:absl:Found untraced functions such as activation_17_layer_call_fn, activation_17_layer_call_and_return_conditional_losses, activation_17_layer_call_fn, activation_17_layer_call_and_return_conditional_losses, activation_17_layer_call_and_return_conditional_losses while saving (showing 5 of 5). These functions will not be directly callable after loading.\n"
     ]
    },
    {
     "name": "stdout",
     "output_type": "stream",
     "text": [
      "INFO:tensorflow:Assets written to: .\\models\\wind_direction_prediction2.ckpt\\assets\n"
     ]
    },
    {
     "name": "stderr",
     "output_type": "stream",
     "text": [
      "INFO:tensorflow:Assets written to: .\\models\\wind_direction_prediction2.ckpt\\assets\n"
     ]
    },
    {
     "name": "stdout",
     "output_type": "stream",
     "text": [
      "."
     ]
    },
    {
     "name": "stderr",
     "output_type": "stream",
     "text": [
      "WARNING:absl:Found untraced functions such as activation_17_layer_call_fn, activation_17_layer_call_and_return_conditional_losses, activation_17_layer_call_fn, activation_17_layer_call_and_return_conditional_losses, activation_17_layer_call_and_return_conditional_losses while saving (showing 5 of 5). These functions will not be directly callable after loading.\n"
     ]
    },
    {
     "name": "stdout",
     "output_type": "stream",
     "text": [
      "INFO:tensorflow:Assets written to: .\\models\\wind_direction_prediction2.ckpt\\assets\n"
     ]
    },
    {
     "name": "stderr",
     "output_type": "stream",
     "text": [
      "INFO:tensorflow:Assets written to: .\\models\\wind_direction_prediction2.ckpt\\assets\n"
     ]
    },
    {
     "name": "stdout",
     "output_type": "stream",
     "text": [
      "."
     ]
    },
    {
     "name": "stderr",
     "output_type": "stream",
     "text": [
      "WARNING:absl:Found untraced functions such as activation_17_layer_call_fn, activation_17_layer_call_and_return_conditional_losses, activation_17_layer_call_fn, activation_17_layer_call_and_return_conditional_losses, activation_17_layer_call_and_return_conditional_losses while saving (showing 5 of 5). These functions will not be directly callable after loading.\n"
     ]
    },
    {
     "name": "stdout",
     "output_type": "stream",
     "text": [
      "INFO:tensorflow:Assets written to: .\\models\\wind_direction_prediction2.ckpt\\assets\n"
     ]
    },
    {
     "name": "stderr",
     "output_type": "stream",
     "text": [
      "INFO:tensorflow:Assets written to: .\\models\\wind_direction_prediction2.ckpt\\assets\n"
     ]
    },
    {
     "name": "stdout",
     "output_type": "stream",
     "text": [
      "."
     ]
    },
    {
     "name": "stderr",
     "output_type": "stream",
     "text": [
      "WARNING:absl:Found untraced functions such as activation_17_layer_call_fn, activation_17_layer_call_and_return_conditional_losses, activation_17_layer_call_fn, activation_17_layer_call_and_return_conditional_losses, activation_17_layer_call_and_return_conditional_losses while saving (showing 5 of 5). These functions will not be directly callable after loading.\n"
     ]
    },
    {
     "name": "stdout",
     "output_type": "stream",
     "text": [
      "INFO:tensorflow:Assets written to: .\\models\\wind_direction_prediction2.ckpt\\assets\n"
     ]
    },
    {
     "name": "stderr",
     "output_type": "stream",
     "text": [
      "INFO:tensorflow:Assets written to: .\\models\\wind_direction_prediction2.ckpt\\assets\n"
     ]
    },
    {
     "name": "stdout",
     "output_type": "stream",
     "text": [
      "."
     ]
    },
    {
     "name": "stderr",
     "output_type": "stream",
     "text": [
      "WARNING:absl:Found untraced functions such as activation_17_layer_call_fn, activation_17_layer_call_and_return_conditional_losses, activation_17_layer_call_fn, activation_17_layer_call_and_return_conditional_losses, activation_17_layer_call_and_return_conditional_losses while saving (showing 5 of 5). These functions will not be directly callable after loading.\n"
     ]
    },
    {
     "name": "stdout",
     "output_type": "stream",
     "text": [
      "INFO:tensorflow:Assets written to: .\\models\\wind_direction_prediction2.ckpt\\assets\n"
     ]
    },
    {
     "name": "stderr",
     "output_type": "stream",
     "text": [
      "INFO:tensorflow:Assets written to: .\\models\\wind_direction_prediction2.ckpt\\assets\n"
     ]
    },
    {
     "name": "stdout",
     "output_type": "stream",
     "text": [
      "."
     ]
    },
    {
     "name": "stderr",
     "output_type": "stream",
     "text": [
      "WARNING:absl:Found untraced functions such as activation_17_layer_call_fn, activation_17_layer_call_and_return_conditional_losses, activation_17_layer_call_fn, activation_17_layer_call_and_return_conditional_losses, activation_17_layer_call_and_return_conditional_losses while saving (showing 5 of 5). These functions will not be directly callable after loading.\n"
     ]
    },
    {
     "name": "stdout",
     "output_type": "stream",
     "text": [
      "INFO:tensorflow:Assets written to: .\\models\\wind_direction_prediction2.ckpt\\assets\n"
     ]
    },
    {
     "name": "stderr",
     "output_type": "stream",
     "text": [
      "INFO:tensorflow:Assets written to: .\\models\\wind_direction_prediction2.ckpt\\assets\n"
     ]
    },
    {
     "name": "stdout",
     "output_type": "stream",
     "text": [
      "."
     ]
    },
    {
     "name": "stderr",
     "output_type": "stream",
     "text": [
      "WARNING:absl:Found untraced functions such as activation_17_layer_call_fn, activation_17_layer_call_and_return_conditional_losses, activation_17_layer_call_fn, activation_17_layer_call_and_return_conditional_losses, activation_17_layer_call_and_return_conditional_losses while saving (showing 5 of 5). These functions will not be directly callable after loading.\n"
     ]
    },
    {
     "name": "stdout",
     "output_type": "stream",
     "text": [
      "INFO:tensorflow:Assets written to: .\\models\\wind_direction_prediction2.ckpt\\assets\n"
     ]
    },
    {
     "name": "stderr",
     "output_type": "stream",
     "text": [
      "INFO:tensorflow:Assets written to: .\\models\\wind_direction_prediction2.ckpt\\assets\n"
     ]
    },
    {
     "name": "stdout",
     "output_type": "stream",
     "text": [
      "."
     ]
    },
    {
     "name": "stderr",
     "output_type": "stream",
     "text": [
      "WARNING:absl:Found untraced functions such as activation_17_layer_call_fn, activation_17_layer_call_and_return_conditional_losses, activation_17_layer_call_fn, activation_17_layer_call_and_return_conditional_losses, activation_17_layer_call_and_return_conditional_losses while saving (showing 5 of 5). These functions will not be directly callable after loading.\n"
     ]
    },
    {
     "name": "stdout",
     "output_type": "stream",
     "text": [
      "INFO:tensorflow:Assets written to: .\\models\\wind_direction_prediction2.ckpt\\assets\n"
     ]
    },
    {
     "name": "stderr",
     "output_type": "stream",
     "text": [
      "INFO:tensorflow:Assets written to: .\\models\\wind_direction_prediction2.ckpt\\assets\n"
     ]
    },
    {
     "name": "stdout",
     "output_type": "stream",
     "text": [
      "."
     ]
    },
    {
     "name": "stderr",
     "output_type": "stream",
     "text": [
      "WARNING:absl:Found untraced functions such as activation_17_layer_call_fn, activation_17_layer_call_and_return_conditional_losses, activation_17_layer_call_fn, activation_17_layer_call_and_return_conditional_losses, activation_17_layer_call_and_return_conditional_losses while saving (showing 5 of 5). These functions will not be directly callable after loading.\n"
     ]
    },
    {
     "name": "stdout",
     "output_type": "stream",
     "text": [
      "INFO:tensorflow:Assets written to: .\\models\\wind_direction_prediction2.ckpt\\assets\n"
     ]
    },
    {
     "name": "stderr",
     "output_type": "stream",
     "text": [
      "INFO:tensorflow:Assets written to: .\\models\\wind_direction_prediction2.ckpt\\assets\n"
     ]
    },
    {
     "name": "stdout",
     "output_type": "stream",
     "text": [
      "."
     ]
    },
    {
     "name": "stderr",
     "output_type": "stream",
     "text": [
      "WARNING:absl:Found untraced functions such as activation_17_layer_call_fn, activation_17_layer_call_and_return_conditional_losses, activation_17_layer_call_fn, activation_17_layer_call_and_return_conditional_losses, activation_17_layer_call_and_return_conditional_losses while saving (showing 5 of 5). These functions will not be directly callable after loading.\n"
     ]
    },
    {
     "name": "stdout",
     "output_type": "stream",
     "text": [
      "INFO:tensorflow:Assets written to: .\\models\\wind_direction_prediction2.ckpt\\assets\n"
     ]
    },
    {
     "name": "stderr",
     "output_type": "stream",
     "text": [
      "INFO:tensorflow:Assets written to: .\\models\\wind_direction_prediction2.ckpt\\assets\n"
     ]
    },
    {
     "name": "stdout",
     "output_type": "stream",
     "text": [
      "."
     ]
    },
    {
     "name": "stderr",
     "output_type": "stream",
     "text": [
      "WARNING:absl:Found untraced functions such as activation_17_layer_call_fn, activation_17_layer_call_and_return_conditional_losses, activation_17_layer_call_fn, activation_17_layer_call_and_return_conditional_losses, activation_17_layer_call_and_return_conditional_losses while saving (showing 5 of 5). These functions will not be directly callable after loading.\n"
     ]
    },
    {
     "name": "stdout",
     "output_type": "stream",
     "text": [
      "INFO:tensorflow:Assets written to: .\\models\\wind_direction_prediction2.ckpt\\assets\n"
     ]
    },
    {
     "name": "stderr",
     "output_type": "stream",
     "text": [
      "INFO:tensorflow:Assets written to: .\\models\\wind_direction_prediction2.ckpt\\assets\n"
     ]
    },
    {
     "name": "stdout",
     "output_type": "stream",
     "text": [
      "."
     ]
    },
    {
     "name": "stderr",
     "output_type": "stream",
     "text": [
      "WARNING:absl:Found untraced functions such as activation_17_layer_call_fn, activation_17_layer_call_and_return_conditional_losses, activation_17_layer_call_fn, activation_17_layer_call_and_return_conditional_losses, activation_17_layer_call_and_return_conditional_losses while saving (showing 5 of 5). These functions will not be directly callable after loading.\n"
     ]
    },
    {
     "name": "stdout",
     "output_type": "stream",
     "text": [
      "INFO:tensorflow:Assets written to: .\\models\\wind_direction_prediction2.ckpt\\assets\n"
     ]
    },
    {
     "name": "stderr",
     "output_type": "stream",
     "text": [
      "INFO:tensorflow:Assets written to: .\\models\\wind_direction_prediction2.ckpt\\assets\n"
     ]
    },
    {
     "name": "stdout",
     "output_type": "stream",
     "text": [
      "."
     ]
    },
    {
     "name": "stderr",
     "output_type": "stream",
     "text": [
      "WARNING:absl:Found untraced functions such as activation_17_layer_call_fn, activation_17_layer_call_and_return_conditional_losses, activation_17_layer_call_fn, activation_17_layer_call_and_return_conditional_losses, activation_17_layer_call_and_return_conditional_losses while saving (showing 5 of 5). These functions will not be directly callable after loading.\n"
     ]
    },
    {
     "name": "stdout",
     "output_type": "stream",
     "text": [
      "INFO:tensorflow:Assets written to: .\\models\\wind_direction_prediction2.ckpt\\assets\n"
     ]
    },
    {
     "name": "stderr",
     "output_type": "stream",
     "text": [
      "INFO:tensorflow:Assets written to: .\\models\\wind_direction_prediction2.ckpt\\assets\n"
     ]
    },
    {
     "name": "stdout",
     "output_type": "stream",
     "text": [
      "."
     ]
    },
    {
     "name": "stderr",
     "output_type": "stream",
     "text": [
      "WARNING:absl:Found untraced functions such as activation_17_layer_call_fn, activation_17_layer_call_and_return_conditional_losses, activation_17_layer_call_fn, activation_17_layer_call_and_return_conditional_losses, activation_17_layer_call_and_return_conditional_losses while saving (showing 5 of 5). These functions will not be directly callable after loading.\n"
     ]
    },
    {
     "name": "stdout",
     "output_type": "stream",
     "text": [
      "INFO:tensorflow:Assets written to: .\\models\\wind_direction_prediction2.ckpt\\assets\n"
     ]
    },
    {
     "name": "stderr",
     "output_type": "stream",
     "text": [
      "INFO:tensorflow:Assets written to: .\\models\\wind_direction_prediction2.ckpt\\assets\n"
     ]
    },
    {
     "name": "stdout",
     "output_type": "stream",
     "text": [
      "."
     ]
    },
    {
     "name": "stderr",
     "output_type": "stream",
     "text": [
      "WARNING:absl:Found untraced functions such as activation_17_layer_call_fn, activation_17_layer_call_and_return_conditional_losses, activation_17_layer_call_fn, activation_17_layer_call_and_return_conditional_losses, activation_17_layer_call_and_return_conditional_losses while saving (showing 5 of 5). These functions will not be directly callable after loading.\n"
     ]
    },
    {
     "name": "stdout",
     "output_type": "stream",
     "text": [
      "INFO:tensorflow:Assets written to: .\\models\\wind_direction_prediction2.ckpt\\assets\n"
     ]
    },
    {
     "name": "stderr",
     "output_type": "stream",
     "text": [
      "INFO:tensorflow:Assets written to: .\\models\\wind_direction_prediction2.ckpt\\assets\n"
     ]
    },
    {
     "name": "stdout",
     "output_type": "stream",
     "text": [
      "."
     ]
    },
    {
     "name": "stderr",
     "output_type": "stream",
     "text": [
      "WARNING:absl:Found untraced functions such as activation_17_layer_call_fn, activation_17_layer_call_and_return_conditional_losses, activation_17_layer_call_fn, activation_17_layer_call_and_return_conditional_losses, activation_17_layer_call_and_return_conditional_losses while saving (showing 5 of 5). These functions will not be directly callable after loading.\n"
     ]
    },
    {
     "name": "stdout",
     "output_type": "stream",
     "text": [
      "INFO:tensorflow:Assets written to: .\\models\\wind_direction_prediction2.ckpt\\assets\n"
     ]
    },
    {
     "name": "stderr",
     "output_type": "stream",
     "text": [
      "INFO:tensorflow:Assets written to: .\\models\\wind_direction_prediction2.ckpt\\assets\n"
     ]
    },
    {
     "name": "stdout",
     "output_type": "stream",
     "text": [
      "."
     ]
    },
    {
     "name": "stderr",
     "output_type": "stream",
     "text": [
      "WARNING:absl:Found untraced functions such as activation_17_layer_call_fn, activation_17_layer_call_and_return_conditional_losses, activation_17_layer_call_fn, activation_17_layer_call_and_return_conditional_losses, activation_17_layer_call_and_return_conditional_losses while saving (showing 5 of 5). These functions will not be directly callable after loading.\n"
     ]
    },
    {
     "name": "stdout",
     "output_type": "stream",
     "text": [
      "INFO:tensorflow:Assets written to: .\\models\\wind_direction_prediction2.ckpt\\assets\n"
     ]
    },
    {
     "name": "stderr",
     "output_type": "stream",
     "text": [
      "INFO:tensorflow:Assets written to: .\\models\\wind_direction_prediction2.ckpt\\assets\n"
     ]
    },
    {
     "name": "stdout",
     "output_type": "stream",
     "text": [
      "."
     ]
    },
    {
     "name": "stderr",
     "output_type": "stream",
     "text": [
      "WARNING:absl:Found untraced functions such as activation_17_layer_call_fn, activation_17_layer_call_and_return_conditional_losses, activation_17_layer_call_fn, activation_17_layer_call_and_return_conditional_losses, activation_17_layer_call_and_return_conditional_losses while saving (showing 5 of 5). These functions will not be directly callable after loading.\n"
     ]
    },
    {
     "name": "stdout",
     "output_type": "stream",
     "text": [
      "INFO:tensorflow:Assets written to: .\\models\\wind_direction_prediction2.ckpt\\assets\n"
     ]
    },
    {
     "name": "stderr",
     "output_type": "stream",
     "text": [
      "INFO:tensorflow:Assets written to: .\\models\\wind_direction_prediction2.ckpt\\assets\n"
     ]
    },
    {
     "name": "stdout",
     "output_type": "stream",
     "text": [
      "."
     ]
    },
    {
     "name": "stderr",
     "output_type": "stream",
     "text": [
      "WARNING:absl:Found untraced functions such as activation_17_layer_call_fn, activation_17_layer_call_and_return_conditional_losses, activation_17_layer_call_fn, activation_17_layer_call_and_return_conditional_losses, activation_17_layer_call_and_return_conditional_losses while saving (showing 5 of 5). These functions will not be directly callable after loading.\n"
     ]
    },
    {
     "name": "stdout",
     "output_type": "stream",
     "text": [
      "INFO:tensorflow:Assets written to: .\\models\\wind_direction_prediction2.ckpt\\assets\n"
     ]
    },
    {
     "name": "stderr",
     "output_type": "stream",
     "text": [
      "INFO:tensorflow:Assets written to: .\\models\\wind_direction_prediction2.ckpt\\assets\n"
     ]
    },
    {
     "name": "stdout",
     "output_type": "stream",
     "text": [
      "."
     ]
    },
    {
     "name": "stderr",
     "output_type": "stream",
     "text": [
      "WARNING:absl:Found untraced functions such as activation_17_layer_call_fn, activation_17_layer_call_and_return_conditional_losses, activation_17_layer_call_fn, activation_17_layer_call_and_return_conditional_losses, activation_17_layer_call_and_return_conditional_losses while saving (showing 5 of 5). These functions will not be directly callable after loading.\n"
     ]
    },
    {
     "name": "stdout",
     "output_type": "stream",
     "text": [
      "INFO:tensorflow:Assets written to: .\\models\\wind_direction_prediction2.ckpt\\assets\n"
     ]
    },
    {
     "name": "stderr",
     "output_type": "stream",
     "text": [
      "INFO:tensorflow:Assets written to: .\\models\\wind_direction_prediction2.ckpt\\assets\n"
     ]
    },
    {
     "name": "stdout",
     "output_type": "stream",
     "text": [
      "."
     ]
    },
    {
     "name": "stderr",
     "output_type": "stream",
     "text": [
      "WARNING:absl:Found untraced functions such as activation_17_layer_call_fn, activation_17_layer_call_and_return_conditional_losses, activation_17_layer_call_fn, activation_17_layer_call_and_return_conditional_losses, activation_17_layer_call_and_return_conditional_losses while saving (showing 5 of 5). These functions will not be directly callable after loading.\n"
     ]
    },
    {
     "name": "stdout",
     "output_type": "stream",
     "text": [
      "INFO:tensorflow:Assets written to: .\\models\\wind_direction_prediction2.ckpt\\assets\n"
     ]
    },
    {
     "name": "stderr",
     "output_type": "stream",
     "text": [
      "INFO:tensorflow:Assets written to: .\\models\\wind_direction_prediction2.ckpt\\assets\n"
     ]
    },
    {
     "name": "stdout",
     "output_type": "stream",
     "text": [
      "."
     ]
    },
    {
     "name": "stderr",
     "output_type": "stream",
     "text": [
      "WARNING:absl:Found untraced functions such as activation_17_layer_call_fn, activation_17_layer_call_and_return_conditional_losses, activation_17_layer_call_fn, activation_17_layer_call_and_return_conditional_losses, activation_17_layer_call_and_return_conditional_losses while saving (showing 5 of 5). These functions will not be directly callable after loading.\n"
     ]
    },
    {
     "name": "stdout",
     "output_type": "stream",
     "text": [
      "INFO:tensorflow:Assets written to: .\\models\\wind_direction_prediction2.ckpt\\assets\n"
     ]
    },
    {
     "name": "stderr",
     "output_type": "stream",
     "text": [
      "INFO:tensorflow:Assets written to: .\\models\\wind_direction_prediction2.ckpt\\assets\n"
     ]
    },
    {
     "name": "stdout",
     "output_type": "stream",
     "text": [
      "."
     ]
    },
    {
     "name": "stderr",
     "output_type": "stream",
     "text": [
      "WARNING:absl:Found untraced functions such as activation_17_layer_call_fn, activation_17_layer_call_and_return_conditional_losses, activation_17_layer_call_fn, activation_17_layer_call_and_return_conditional_losses, activation_17_layer_call_and_return_conditional_losses while saving (showing 5 of 5). These functions will not be directly callable after loading.\n"
     ]
    },
    {
     "name": "stdout",
     "output_type": "stream",
     "text": [
      "INFO:tensorflow:Assets written to: .\\models\\wind_direction_prediction2.ckpt\\assets\n"
     ]
    },
    {
     "name": "stderr",
     "output_type": "stream",
     "text": [
      "INFO:tensorflow:Assets written to: .\\models\\wind_direction_prediction2.ckpt\\assets\n"
     ]
    },
    {
     "name": "stdout",
     "output_type": "stream",
     "text": [
      "."
     ]
    },
    {
     "name": "stderr",
     "output_type": "stream",
     "text": [
      "WARNING:absl:Found untraced functions such as activation_17_layer_call_fn, activation_17_layer_call_and_return_conditional_losses, activation_17_layer_call_fn, activation_17_layer_call_and_return_conditional_losses, activation_17_layer_call_and_return_conditional_losses while saving (showing 5 of 5). These functions will not be directly callable after loading.\n"
     ]
    },
    {
     "name": "stdout",
     "output_type": "stream",
     "text": [
      "INFO:tensorflow:Assets written to: .\\models\\wind_direction_prediction2.ckpt\\assets\n"
     ]
    },
    {
     "name": "stderr",
     "output_type": "stream",
     "text": [
      "INFO:tensorflow:Assets written to: .\\models\\wind_direction_prediction2.ckpt\\assets\n"
     ]
    },
    {
     "name": "stdout",
     "output_type": "stream",
     "text": [
      "."
     ]
    },
    {
     "name": "stderr",
     "output_type": "stream",
     "text": [
      "WARNING:absl:Found untraced functions such as activation_17_layer_call_fn, activation_17_layer_call_and_return_conditional_losses, activation_17_layer_call_fn, activation_17_layer_call_and_return_conditional_losses, activation_17_layer_call_and_return_conditional_losses while saving (showing 5 of 5). These functions will not be directly callable after loading.\n"
     ]
    },
    {
     "name": "stdout",
     "output_type": "stream",
     "text": [
      "INFO:tensorflow:Assets written to: .\\models\\wind_direction_prediction2.ckpt\\assets\n"
     ]
    },
    {
     "name": "stderr",
     "output_type": "stream",
     "text": [
      "INFO:tensorflow:Assets written to: .\\models\\wind_direction_prediction2.ckpt\\assets\n"
     ]
    },
    {
     "name": "stdout",
     "output_type": "stream",
     "text": [
      "."
     ]
    },
    {
     "name": "stderr",
     "output_type": "stream",
     "text": [
      "WARNING:absl:Found untraced functions such as activation_17_layer_call_fn, activation_17_layer_call_and_return_conditional_losses, activation_17_layer_call_fn, activation_17_layer_call_and_return_conditional_losses, activation_17_layer_call_and_return_conditional_losses while saving (showing 5 of 5). These functions will not be directly callable after loading.\n"
     ]
    },
    {
     "name": "stdout",
     "output_type": "stream",
     "text": [
      "INFO:tensorflow:Assets written to: .\\models\\wind_direction_prediction2.ckpt\\assets\n"
     ]
    },
    {
     "name": "stderr",
     "output_type": "stream",
     "text": [
      "INFO:tensorflow:Assets written to: .\\models\\wind_direction_prediction2.ckpt\\assets\n"
     ]
    },
    {
     "name": "stdout",
     "output_type": "stream",
     "text": [
      "."
     ]
    },
    {
     "name": "stderr",
     "output_type": "stream",
     "text": [
      "WARNING:absl:Found untraced functions such as activation_17_layer_call_fn, activation_17_layer_call_and_return_conditional_losses, activation_17_layer_call_fn, activation_17_layer_call_and_return_conditional_losses, activation_17_layer_call_and_return_conditional_losses while saving (showing 5 of 5). These functions will not be directly callable after loading.\n"
     ]
    },
    {
     "name": "stdout",
     "output_type": "stream",
     "text": [
      "INFO:tensorflow:Assets written to: .\\models\\wind_direction_prediction2.ckpt\\assets\n"
     ]
    },
    {
     "name": "stderr",
     "output_type": "stream",
     "text": [
      "INFO:tensorflow:Assets written to: .\\models\\wind_direction_prediction2.ckpt\\assets\n"
     ]
    },
    {
     "name": "stdout",
     "output_type": "stream",
     "text": [
      "."
     ]
    },
    {
     "name": "stderr",
     "output_type": "stream",
     "text": [
      "WARNING:absl:Found untraced functions such as activation_17_layer_call_fn, activation_17_layer_call_and_return_conditional_losses, activation_17_layer_call_fn, activation_17_layer_call_and_return_conditional_losses, activation_17_layer_call_and_return_conditional_losses while saving (showing 5 of 5). These functions will not be directly callable after loading.\n"
     ]
    },
    {
     "name": "stdout",
     "output_type": "stream",
     "text": [
      "INFO:tensorflow:Assets written to: .\\models\\wind_direction_prediction2.ckpt\\assets\n"
     ]
    },
    {
     "name": "stderr",
     "output_type": "stream",
     "text": [
      "INFO:tensorflow:Assets written to: .\\models\\wind_direction_prediction2.ckpt\\assets\n"
     ]
    },
    {
     "name": "stdout",
     "output_type": "stream",
     "text": [
      "."
     ]
    },
    {
     "name": "stderr",
     "output_type": "stream",
     "text": [
      "WARNING:absl:Found untraced functions such as activation_17_layer_call_fn, activation_17_layer_call_and_return_conditional_losses, activation_17_layer_call_fn, activation_17_layer_call_and_return_conditional_losses, activation_17_layer_call_and_return_conditional_losses while saving (showing 5 of 5). These functions will not be directly callable after loading.\n"
     ]
    },
    {
     "name": "stdout",
     "output_type": "stream",
     "text": [
      "INFO:tensorflow:Assets written to: .\\models\\wind_direction_prediction2.ckpt\\assets\n"
     ]
    },
    {
     "name": "stderr",
     "output_type": "stream",
     "text": [
      "INFO:tensorflow:Assets written to: .\\models\\wind_direction_prediction2.ckpt\\assets\n"
     ]
    },
    {
     "name": "stdout",
     "output_type": "stream",
     "text": [
      "."
     ]
    },
    {
     "name": "stderr",
     "output_type": "stream",
     "text": [
      "WARNING:absl:Found untraced functions such as activation_17_layer_call_fn, activation_17_layer_call_and_return_conditional_losses, activation_17_layer_call_fn, activation_17_layer_call_and_return_conditional_losses, activation_17_layer_call_and_return_conditional_losses while saving (showing 5 of 5). These functions will not be directly callable after loading.\n"
     ]
    },
    {
     "name": "stdout",
     "output_type": "stream",
     "text": [
      "INFO:tensorflow:Assets written to: .\\models\\wind_direction_prediction2.ckpt\\assets\n"
     ]
    },
    {
     "name": "stderr",
     "output_type": "stream",
     "text": [
      "INFO:tensorflow:Assets written to: .\\models\\wind_direction_prediction2.ckpt\\assets\n"
     ]
    },
    {
     "name": "stdout",
     "output_type": "stream",
     "text": [
      "."
     ]
    },
    {
     "name": "stderr",
     "output_type": "stream",
     "text": [
      "WARNING:absl:Found untraced functions such as activation_17_layer_call_fn, activation_17_layer_call_and_return_conditional_losses, activation_17_layer_call_fn, activation_17_layer_call_and_return_conditional_losses, activation_17_layer_call_and_return_conditional_losses while saving (showing 5 of 5). These functions will not be directly callable after loading.\n"
     ]
    },
    {
     "name": "stdout",
     "output_type": "stream",
     "text": [
      "INFO:tensorflow:Assets written to: .\\models\\wind_direction_prediction2.ckpt\\assets\n"
     ]
    },
    {
     "name": "stderr",
     "output_type": "stream",
     "text": [
      "INFO:tensorflow:Assets written to: .\\models\\wind_direction_prediction2.ckpt\\assets\n"
     ]
    },
    {
     "name": "stdout",
     "output_type": "stream",
     "text": [
      "."
     ]
    },
    {
     "name": "stderr",
     "output_type": "stream",
     "text": [
      "WARNING:absl:Found untraced functions such as activation_17_layer_call_fn, activation_17_layer_call_and_return_conditional_losses, activation_17_layer_call_fn, activation_17_layer_call_and_return_conditional_losses, activation_17_layer_call_and_return_conditional_losses while saving (showing 5 of 5). These functions will not be directly callable after loading.\n"
     ]
    },
    {
     "name": "stdout",
     "output_type": "stream",
     "text": [
      "INFO:tensorflow:Assets written to: .\\models\\wind_direction_prediction2.ckpt\\assets\n"
     ]
    },
    {
     "name": "stderr",
     "output_type": "stream",
     "text": [
      "INFO:tensorflow:Assets written to: .\\models\\wind_direction_prediction2.ckpt\\assets\n"
     ]
    },
    {
     "name": "stdout",
     "output_type": "stream",
     "text": [
      "."
     ]
    },
    {
     "name": "stderr",
     "output_type": "stream",
     "text": [
      "WARNING:absl:Found untraced functions such as activation_17_layer_call_fn, activation_17_layer_call_and_return_conditional_losses, activation_17_layer_call_fn, activation_17_layer_call_and_return_conditional_losses, activation_17_layer_call_and_return_conditional_losses while saving (showing 5 of 5). These functions will not be directly callable after loading.\n"
     ]
    },
    {
     "name": "stdout",
     "output_type": "stream",
     "text": [
      "INFO:tensorflow:Assets written to: .\\models\\wind_direction_prediction2.ckpt\\assets\n"
     ]
    },
    {
     "name": "stderr",
     "output_type": "stream",
     "text": [
      "INFO:tensorflow:Assets written to: .\\models\\wind_direction_prediction2.ckpt\\assets\n"
     ]
    },
    {
     "name": "stdout",
     "output_type": "stream",
     "text": [
      "."
     ]
    },
    {
     "name": "stderr",
     "output_type": "stream",
     "text": [
      "WARNING:absl:Found untraced functions such as activation_17_layer_call_fn, activation_17_layer_call_and_return_conditional_losses, activation_17_layer_call_fn, activation_17_layer_call_and_return_conditional_losses, activation_17_layer_call_and_return_conditional_losses while saving (showing 5 of 5). These functions will not be directly callable after loading.\n"
     ]
    },
    {
     "name": "stdout",
     "output_type": "stream",
     "text": [
      "INFO:tensorflow:Assets written to: .\\models\\wind_direction_prediction2.ckpt\\assets\n"
     ]
    },
    {
     "name": "stderr",
     "output_type": "stream",
     "text": [
      "INFO:tensorflow:Assets written to: .\\models\\wind_direction_prediction2.ckpt\\assets\n"
     ]
    },
    {
     "name": "stdout",
     "output_type": "stream",
     "text": [
      "."
     ]
    },
    {
     "name": "stderr",
     "output_type": "stream",
     "text": [
      "WARNING:absl:Found untraced functions such as activation_17_layer_call_fn, activation_17_layer_call_and_return_conditional_losses, activation_17_layer_call_fn, activation_17_layer_call_and_return_conditional_losses, activation_17_layer_call_and_return_conditional_losses while saving (showing 5 of 5). These functions will not be directly callable after loading.\n"
     ]
    },
    {
     "name": "stdout",
     "output_type": "stream",
     "text": [
      "INFO:tensorflow:Assets written to: .\\models\\wind_direction_prediction2.ckpt\\assets\n"
     ]
    },
    {
     "name": "stderr",
     "output_type": "stream",
     "text": [
      "INFO:tensorflow:Assets written to: .\\models\\wind_direction_prediction2.ckpt\\assets\n"
     ]
    },
    {
     "name": "stdout",
     "output_type": "stream",
     "text": [
      ".."
     ]
    },
    {
     "name": "stderr",
     "output_type": "stream",
     "text": [
      "WARNING:absl:Found untraced functions such as activation_17_layer_call_fn, activation_17_layer_call_and_return_conditional_losses, activation_17_layer_call_fn, activation_17_layer_call_and_return_conditional_losses, activation_17_layer_call_and_return_conditional_losses while saving (showing 5 of 5). These functions will not be directly callable after loading.\n"
     ]
    },
    {
     "name": "stdout",
     "output_type": "stream",
     "text": [
      "INFO:tensorflow:Assets written to: .\\models\\wind_direction_prediction2.ckpt\\assets\n"
     ]
    },
    {
     "name": "stderr",
     "output_type": "stream",
     "text": [
      "INFO:tensorflow:Assets written to: .\\models\\wind_direction_prediction2.ckpt\\assets\n"
     ]
    },
    {
     "name": "stdout",
     "output_type": "stream",
     "text": [
      "."
     ]
    },
    {
     "name": "stderr",
     "output_type": "stream",
     "text": [
      "WARNING:absl:Found untraced functions such as activation_17_layer_call_fn, activation_17_layer_call_and_return_conditional_losses, activation_17_layer_call_fn, activation_17_layer_call_and_return_conditional_losses, activation_17_layer_call_and_return_conditional_losses while saving (showing 5 of 5). These functions will not be directly callable after loading.\n"
     ]
    },
    {
     "name": "stdout",
     "output_type": "stream",
     "text": [
      "INFO:tensorflow:Assets written to: .\\models\\wind_direction_prediction2.ckpt\\assets\n"
     ]
    },
    {
     "name": "stderr",
     "output_type": "stream",
     "text": [
      "INFO:tensorflow:Assets written to: .\\models\\wind_direction_prediction2.ckpt\\assets\n"
     ]
    },
    {
     "name": "stdout",
     "output_type": "stream",
     "text": [
      "."
     ]
    },
    {
     "name": "stderr",
     "output_type": "stream",
     "text": [
      "WARNING:absl:Found untraced functions such as activation_17_layer_call_fn, activation_17_layer_call_and_return_conditional_losses, activation_17_layer_call_fn, activation_17_layer_call_and_return_conditional_losses, activation_17_layer_call_and_return_conditional_losses while saving (showing 5 of 5). These functions will not be directly callable after loading.\n"
     ]
    },
    {
     "name": "stdout",
     "output_type": "stream",
     "text": [
      "INFO:tensorflow:Assets written to: .\\models\\wind_direction_prediction2.ckpt\\assets\n"
     ]
    },
    {
     "name": "stderr",
     "output_type": "stream",
     "text": [
      "INFO:tensorflow:Assets written to: .\\models\\wind_direction_prediction2.ckpt\\assets\n"
     ]
    },
    {
     "name": "stdout",
     "output_type": "stream",
     "text": [
      "."
     ]
    },
    {
     "name": "stderr",
     "output_type": "stream",
     "text": [
      "WARNING:absl:Found untraced functions such as activation_17_layer_call_fn, activation_17_layer_call_and_return_conditional_losses, activation_17_layer_call_fn, activation_17_layer_call_and_return_conditional_losses, activation_17_layer_call_and_return_conditional_losses while saving (showing 5 of 5). These functions will not be directly callable after loading.\n"
     ]
    },
    {
     "name": "stdout",
     "output_type": "stream",
     "text": [
      "INFO:tensorflow:Assets written to: .\\models\\wind_direction_prediction2.ckpt\\assets\n"
     ]
    },
    {
     "name": "stderr",
     "output_type": "stream",
     "text": [
      "INFO:tensorflow:Assets written to: .\\models\\wind_direction_prediction2.ckpt\\assets\n"
     ]
    },
    {
     "name": "stdout",
     "output_type": "stream",
     "text": [
      "."
     ]
    },
    {
     "name": "stderr",
     "output_type": "stream",
     "text": [
      "WARNING:absl:Found untraced functions such as activation_17_layer_call_fn, activation_17_layer_call_and_return_conditional_losses, activation_17_layer_call_fn, activation_17_layer_call_and_return_conditional_losses, activation_17_layer_call_and_return_conditional_losses while saving (showing 5 of 5). These functions will not be directly callable after loading.\n"
     ]
    },
    {
     "name": "stdout",
     "output_type": "stream",
     "text": [
      "INFO:tensorflow:Assets written to: .\\models\\wind_direction_prediction2.ckpt\\assets\n"
     ]
    },
    {
     "name": "stderr",
     "output_type": "stream",
     "text": [
      "INFO:tensorflow:Assets written to: .\\models\\wind_direction_prediction2.ckpt\\assets\n"
     ]
    },
    {
     "name": "stdout",
     "output_type": "stream",
     "text": [
      "."
     ]
    },
    {
     "name": "stderr",
     "output_type": "stream",
     "text": [
      "WARNING:absl:Found untraced functions such as activation_17_layer_call_fn, activation_17_layer_call_and_return_conditional_losses, activation_17_layer_call_fn, activation_17_layer_call_and_return_conditional_losses, activation_17_layer_call_and_return_conditional_losses while saving (showing 5 of 5). These functions will not be directly callable after loading.\n"
     ]
    },
    {
     "name": "stdout",
     "output_type": "stream",
     "text": [
      "INFO:tensorflow:Assets written to: .\\models\\wind_direction_prediction2.ckpt\\assets\n"
     ]
    },
    {
     "name": "stderr",
     "output_type": "stream",
     "text": [
      "INFO:tensorflow:Assets written to: .\\models\\wind_direction_prediction2.ckpt\\assets\n"
     ]
    },
    {
     "name": "stdout",
     "output_type": "stream",
     "text": [
      "."
     ]
    },
    {
     "name": "stderr",
     "output_type": "stream",
     "text": [
      "WARNING:absl:Found untraced functions such as activation_17_layer_call_fn, activation_17_layer_call_and_return_conditional_losses, activation_17_layer_call_fn, activation_17_layer_call_and_return_conditional_losses, activation_17_layer_call_and_return_conditional_losses while saving (showing 5 of 5). These functions will not be directly callable after loading.\n"
     ]
    },
    {
     "name": "stdout",
     "output_type": "stream",
     "text": [
      "INFO:tensorflow:Assets written to: .\\models\\wind_direction_prediction2.ckpt\\assets\n"
     ]
    },
    {
     "name": "stderr",
     "output_type": "stream",
     "text": [
      "INFO:tensorflow:Assets written to: .\\models\\wind_direction_prediction2.ckpt\\assets\n"
     ]
    },
    {
     "name": "stdout",
     "output_type": "stream",
     "text": [
      "."
     ]
    },
    {
     "name": "stderr",
     "output_type": "stream",
     "text": [
      "WARNING:absl:Found untraced functions such as activation_17_layer_call_fn, activation_17_layer_call_and_return_conditional_losses, activation_17_layer_call_fn, activation_17_layer_call_and_return_conditional_losses, activation_17_layer_call_and_return_conditional_losses while saving (showing 5 of 5). These functions will not be directly callable after loading.\n"
     ]
    },
    {
     "name": "stdout",
     "output_type": "stream",
     "text": [
      "INFO:tensorflow:Assets written to: .\\models\\wind_direction_prediction2.ckpt\\assets\n"
     ]
    },
    {
     "name": "stderr",
     "output_type": "stream",
     "text": [
      "INFO:tensorflow:Assets written to: .\\models\\wind_direction_prediction2.ckpt\\assets\n"
     ]
    },
    {
     "name": "stdout",
     "output_type": "stream",
     "text": [
      "."
     ]
    },
    {
     "name": "stderr",
     "output_type": "stream",
     "text": [
      "WARNING:absl:Found untraced functions such as activation_17_layer_call_fn, activation_17_layer_call_and_return_conditional_losses, activation_17_layer_call_fn, activation_17_layer_call_and_return_conditional_losses, activation_17_layer_call_and_return_conditional_losses while saving (showing 5 of 5). These functions will not be directly callable after loading.\n"
     ]
    },
    {
     "name": "stdout",
     "output_type": "stream",
     "text": [
      "INFO:tensorflow:Assets written to: .\\models\\wind_direction_prediction2.ckpt\\assets\n"
     ]
    },
    {
     "name": "stderr",
     "output_type": "stream",
     "text": [
      "INFO:tensorflow:Assets written to: .\\models\\wind_direction_prediction2.ckpt\\assets\n"
     ]
    },
    {
     "name": "stdout",
     "output_type": "stream",
     "text": [
      "."
     ]
    },
    {
     "name": "stderr",
     "output_type": "stream",
     "text": [
      "WARNING:absl:Found untraced functions such as activation_17_layer_call_fn, activation_17_layer_call_and_return_conditional_losses, activation_17_layer_call_fn, activation_17_layer_call_and_return_conditional_losses, activation_17_layer_call_and_return_conditional_losses while saving (showing 5 of 5). These functions will not be directly callable after loading.\n"
     ]
    },
    {
     "name": "stdout",
     "output_type": "stream",
     "text": [
      "INFO:tensorflow:Assets written to: .\\models\\wind_direction_prediction2.ckpt\\assets\n"
     ]
    },
    {
     "name": "stderr",
     "output_type": "stream",
     "text": [
      "INFO:tensorflow:Assets written to: .\\models\\wind_direction_prediction2.ckpt\\assets\n"
     ]
    },
    {
     "name": "stdout",
     "output_type": "stream",
     "text": [
      "."
     ]
    },
    {
     "name": "stderr",
     "output_type": "stream",
     "text": [
      "WARNING:absl:Found untraced functions such as activation_17_layer_call_fn, activation_17_layer_call_and_return_conditional_losses, activation_17_layer_call_fn, activation_17_layer_call_and_return_conditional_losses, activation_17_layer_call_and_return_conditional_losses while saving (showing 5 of 5). These functions will not be directly callable after loading.\n"
     ]
    },
    {
     "name": "stdout",
     "output_type": "stream",
     "text": [
      "INFO:tensorflow:Assets written to: .\\models\\wind_direction_prediction2.ckpt\\assets\n"
     ]
    },
    {
     "name": "stderr",
     "output_type": "stream",
     "text": [
      "INFO:tensorflow:Assets written to: .\\models\\wind_direction_prediction2.ckpt\\assets\n"
     ]
    },
    {
     "name": "stdout",
     "output_type": "stream",
     "text": [
      ".."
     ]
    },
    {
     "name": "stderr",
     "output_type": "stream",
     "text": [
      "WARNING:absl:Found untraced functions such as activation_17_layer_call_fn, activation_17_layer_call_and_return_conditional_losses, activation_17_layer_call_fn, activation_17_layer_call_and_return_conditional_losses, activation_17_layer_call_and_return_conditional_losses while saving (showing 5 of 5). These functions will not be directly callable after loading.\n"
     ]
    },
    {
     "name": "stdout",
     "output_type": "stream",
     "text": [
      "INFO:tensorflow:Assets written to: .\\models\\wind_direction_prediction2.ckpt\\assets\n"
     ]
    },
    {
     "name": "stderr",
     "output_type": "stream",
     "text": [
      "INFO:tensorflow:Assets written to: .\\models\\wind_direction_prediction2.ckpt\\assets\n"
     ]
    },
    {
     "name": "stdout",
     "output_type": "stream",
     "text": [
      "."
     ]
    },
    {
     "name": "stderr",
     "output_type": "stream",
     "text": [
      "WARNING:absl:Found untraced functions such as activation_17_layer_call_fn, activation_17_layer_call_and_return_conditional_losses, activation_17_layer_call_fn, activation_17_layer_call_and_return_conditional_losses, activation_17_layer_call_and_return_conditional_losses while saving (showing 5 of 5). These functions will not be directly callable after loading.\n"
     ]
    },
    {
     "name": "stdout",
     "output_type": "stream",
     "text": [
      "INFO:tensorflow:Assets written to: .\\models\\wind_direction_prediction2.ckpt\\assets\n"
     ]
    },
    {
     "name": "stderr",
     "output_type": "stream",
     "text": [
      "INFO:tensorflow:Assets written to: .\\models\\wind_direction_prediction2.ckpt\\assets\n"
     ]
    },
    {
     "name": "stdout",
     "output_type": "stream",
     "text": [
      "."
     ]
    },
    {
     "name": "stderr",
     "output_type": "stream",
     "text": [
      "WARNING:absl:Found untraced functions such as activation_17_layer_call_fn, activation_17_layer_call_and_return_conditional_losses, activation_17_layer_call_fn, activation_17_layer_call_and_return_conditional_losses, activation_17_layer_call_and_return_conditional_losses while saving (showing 5 of 5). These functions will not be directly callable after loading.\n"
     ]
    },
    {
     "name": "stdout",
     "output_type": "stream",
     "text": [
      "INFO:tensorflow:Assets written to: .\\models\\wind_direction_prediction2.ckpt\\assets\n"
     ]
    },
    {
     "name": "stderr",
     "output_type": "stream",
     "text": [
      "INFO:tensorflow:Assets written to: .\\models\\wind_direction_prediction2.ckpt\\assets\n"
     ]
    },
    {
     "name": "stdout",
     "output_type": "stream",
     "text": [
      "."
     ]
    },
    {
     "name": "stderr",
     "output_type": "stream",
     "text": [
      "WARNING:absl:Found untraced functions such as activation_17_layer_call_fn, activation_17_layer_call_and_return_conditional_losses, activation_17_layer_call_fn, activation_17_layer_call_and_return_conditional_losses, activation_17_layer_call_and_return_conditional_losses while saving (showing 5 of 5). These functions will not be directly callable after loading.\n"
     ]
    },
    {
     "name": "stdout",
     "output_type": "stream",
     "text": [
      "INFO:tensorflow:Assets written to: .\\models\\wind_direction_prediction2.ckpt\\assets\n"
     ]
    },
    {
     "name": "stderr",
     "output_type": "stream",
     "text": [
      "INFO:tensorflow:Assets written to: .\\models\\wind_direction_prediction2.ckpt\\assets\n"
     ]
    },
    {
     "name": "stdout",
     "output_type": "stream",
     "text": [
      "."
     ]
    },
    {
     "name": "stderr",
     "output_type": "stream",
     "text": [
      "WARNING:absl:Found untraced functions such as activation_17_layer_call_fn, activation_17_layer_call_and_return_conditional_losses, activation_17_layer_call_fn, activation_17_layer_call_and_return_conditional_losses, activation_17_layer_call_and_return_conditional_losses while saving (showing 5 of 5). These functions will not be directly callable after loading.\n"
     ]
    },
    {
     "name": "stdout",
     "output_type": "stream",
     "text": [
      "INFO:tensorflow:Assets written to: .\\models\\wind_direction_prediction2.ckpt\\assets\n"
     ]
    },
    {
     "name": "stderr",
     "output_type": "stream",
     "text": [
      "INFO:tensorflow:Assets written to: .\\models\\wind_direction_prediction2.ckpt\\assets\n"
     ]
    },
    {
     "name": "stdout",
     "output_type": "stream",
     "text": [
      "."
     ]
    },
    {
     "name": "stderr",
     "output_type": "stream",
     "text": [
      "WARNING:absl:Found untraced functions such as activation_17_layer_call_fn, activation_17_layer_call_and_return_conditional_losses, activation_17_layer_call_fn, activation_17_layer_call_and_return_conditional_losses, activation_17_layer_call_and_return_conditional_losses while saving (showing 5 of 5). These functions will not be directly callable after loading.\n"
     ]
    },
    {
     "name": "stdout",
     "output_type": "stream",
     "text": [
      "INFO:tensorflow:Assets written to: .\\models\\wind_direction_prediction2.ckpt\\assets\n"
     ]
    },
    {
     "name": "stderr",
     "output_type": "stream",
     "text": [
      "INFO:tensorflow:Assets written to: .\\models\\wind_direction_prediction2.ckpt\\assets\n"
     ]
    },
    {
     "name": "stdout",
     "output_type": "stream",
     "text": [
      "."
     ]
    },
    {
     "name": "stderr",
     "output_type": "stream",
     "text": [
      "WARNING:absl:Found untraced functions such as activation_17_layer_call_fn, activation_17_layer_call_and_return_conditional_losses, activation_17_layer_call_fn, activation_17_layer_call_and_return_conditional_losses, activation_17_layer_call_and_return_conditional_losses while saving (showing 5 of 5). These functions will not be directly callable after loading.\n"
     ]
    },
    {
     "name": "stdout",
     "output_type": "stream",
     "text": [
      "INFO:tensorflow:Assets written to: .\\models\\wind_direction_prediction2.ckpt\\assets\n"
     ]
    },
    {
     "name": "stderr",
     "output_type": "stream",
     "text": [
      "INFO:tensorflow:Assets written to: .\\models\\wind_direction_prediction2.ckpt\\assets\n"
     ]
    },
    {
     "name": "stdout",
     "output_type": "stream",
     "text": [
      "."
     ]
    },
    {
     "name": "stderr",
     "output_type": "stream",
     "text": [
      "WARNING:absl:Found untraced functions such as activation_17_layer_call_fn, activation_17_layer_call_and_return_conditional_losses, activation_17_layer_call_fn, activation_17_layer_call_and_return_conditional_losses, activation_17_layer_call_and_return_conditional_losses while saving (showing 5 of 5). These functions will not be directly callable after loading.\n"
     ]
    },
    {
     "name": "stdout",
     "output_type": "stream",
     "text": [
      "INFO:tensorflow:Assets written to: .\\models\\wind_direction_prediction2.ckpt\\assets\n"
     ]
    },
    {
     "name": "stderr",
     "output_type": "stream",
     "text": [
      "INFO:tensorflow:Assets written to: .\\models\\wind_direction_prediction2.ckpt\\assets\n"
     ]
    },
    {
     "name": "stdout",
     "output_type": "stream",
     "text": [
      "."
     ]
    },
    {
     "name": "stderr",
     "output_type": "stream",
     "text": [
      "WARNING:absl:Found untraced functions such as activation_17_layer_call_fn, activation_17_layer_call_and_return_conditional_losses, activation_17_layer_call_fn, activation_17_layer_call_and_return_conditional_losses, activation_17_layer_call_and_return_conditional_losses while saving (showing 5 of 5). These functions will not be directly callable after loading.\n"
     ]
    },
    {
     "name": "stdout",
     "output_type": "stream",
     "text": [
      "INFO:tensorflow:Assets written to: .\\models\\wind_direction_prediction2.ckpt\\assets\n"
     ]
    },
    {
     "name": "stderr",
     "output_type": "stream",
     "text": [
      "INFO:tensorflow:Assets written to: .\\models\\wind_direction_prediction2.ckpt\\assets\n"
     ]
    },
    {
     "name": "stdout",
     "output_type": "stream",
     "text": [
      "."
     ]
    },
    {
     "name": "stderr",
     "output_type": "stream",
     "text": [
      "WARNING:absl:Found untraced functions such as activation_17_layer_call_fn, activation_17_layer_call_and_return_conditional_losses, activation_17_layer_call_fn, activation_17_layer_call_and_return_conditional_losses, activation_17_layer_call_and_return_conditional_losses while saving (showing 5 of 5). These functions will not be directly callable after loading.\n"
     ]
    },
    {
     "name": "stdout",
     "output_type": "stream",
     "text": [
      "INFO:tensorflow:Assets written to: .\\models\\wind_direction_prediction2.ckpt\\assets\n"
     ]
    },
    {
     "name": "stderr",
     "output_type": "stream",
     "text": [
      "INFO:tensorflow:Assets written to: .\\models\\wind_direction_prediction2.ckpt\\assets\n"
     ]
    },
    {
     "name": "stdout",
     "output_type": "stream",
     "text": [
      "."
     ]
    },
    {
     "name": "stderr",
     "output_type": "stream",
     "text": [
      "WARNING:absl:Found untraced functions such as activation_17_layer_call_fn, activation_17_layer_call_and_return_conditional_losses, activation_17_layer_call_fn, activation_17_layer_call_and_return_conditional_losses, activation_17_layer_call_and_return_conditional_losses while saving (showing 5 of 5). These functions will not be directly callable after loading.\n"
     ]
    },
    {
     "name": "stdout",
     "output_type": "stream",
     "text": [
      "INFO:tensorflow:Assets written to: .\\models\\wind_direction_prediction2.ckpt\\assets\n"
     ]
    },
    {
     "name": "stderr",
     "output_type": "stream",
     "text": [
      "INFO:tensorflow:Assets written to: .\\models\\wind_direction_prediction2.ckpt\\assets\n"
     ]
    },
    {
     "name": "stdout",
     "output_type": "stream",
     "text": [
      "."
     ]
    },
    {
     "name": "stderr",
     "output_type": "stream",
     "text": [
      "WARNING:absl:Found untraced functions such as activation_17_layer_call_fn, activation_17_layer_call_and_return_conditional_losses, activation_17_layer_call_fn, activation_17_layer_call_and_return_conditional_losses, activation_17_layer_call_and_return_conditional_losses while saving (showing 5 of 5). These functions will not be directly callable after loading.\n"
     ]
    },
    {
     "name": "stdout",
     "output_type": "stream",
     "text": [
      "INFO:tensorflow:Assets written to: .\\models\\wind_direction_prediction2.ckpt\\assets\n"
     ]
    },
    {
     "name": "stderr",
     "output_type": "stream",
     "text": [
      "INFO:tensorflow:Assets written to: .\\models\\wind_direction_prediction2.ckpt\\assets\n"
     ]
    },
    {
     "name": "stdout",
     "output_type": "stream",
     "text": [
      "."
     ]
    },
    {
     "name": "stderr",
     "output_type": "stream",
     "text": [
      "WARNING:absl:Found untraced functions such as activation_17_layer_call_fn, activation_17_layer_call_and_return_conditional_losses, activation_17_layer_call_fn, activation_17_layer_call_and_return_conditional_losses, activation_17_layer_call_and_return_conditional_losses while saving (showing 5 of 5). These functions will not be directly callable after loading.\n"
     ]
    },
    {
     "name": "stdout",
     "output_type": "stream",
     "text": [
      "INFO:tensorflow:Assets written to: .\\models\\wind_direction_prediction2.ckpt\\assets\n"
     ]
    },
    {
     "name": "stderr",
     "output_type": "stream",
     "text": [
      "INFO:tensorflow:Assets written to: .\\models\\wind_direction_prediction2.ckpt\\assets\n"
     ]
    },
    {
     "name": "stdout",
     "output_type": "stream",
     "text": [
      ".."
     ]
    },
    {
     "name": "stderr",
     "output_type": "stream",
     "text": [
      "WARNING:absl:Found untraced functions such as activation_17_layer_call_fn, activation_17_layer_call_and_return_conditional_losses, activation_17_layer_call_fn, activation_17_layer_call_and_return_conditional_losses, activation_17_layer_call_and_return_conditional_losses while saving (showing 5 of 5). These functions will not be directly callable after loading.\n"
     ]
    },
    {
     "name": "stdout",
     "output_type": "stream",
     "text": [
      "INFO:tensorflow:Assets written to: .\\models\\wind_direction_prediction2.ckpt\\assets\n"
     ]
    },
    {
     "name": "stderr",
     "output_type": "stream",
     "text": [
      "INFO:tensorflow:Assets written to: .\\models\\wind_direction_prediction2.ckpt\\assets\n"
     ]
    },
    {
     "name": "stdout",
     "output_type": "stream",
     "text": [
      "\n",
      "Epoch: 100, loss:3.9626,  mae:1.6728,  mape:52.4938,  mse:3.9626,  val_loss:1.8814,  val_mae:1.0464,  val_mape:28.7591,  val_mse:1.8814,  \n",
      "..."
     ]
    },
    {
     "name": "stderr",
     "output_type": "stream",
     "text": [
      "WARNING:absl:Found untraced functions such as activation_17_layer_call_fn, activation_17_layer_call_and_return_conditional_losses, activation_17_layer_call_fn, activation_17_layer_call_and_return_conditional_losses, activation_17_layer_call_and_return_conditional_losses while saving (showing 5 of 5). These functions will not be directly callable after loading.\n"
     ]
    },
    {
     "name": "stdout",
     "output_type": "stream",
     "text": [
      "INFO:tensorflow:Assets written to: .\\models\\wind_direction_prediction2.ckpt\\assets\n"
     ]
    },
    {
     "name": "stderr",
     "output_type": "stream",
     "text": [
      "INFO:tensorflow:Assets written to: .\\models\\wind_direction_prediction2.ckpt\\assets\n"
     ]
    },
    {
     "name": "stdout",
     "output_type": "stream",
     "text": [
      "..."
     ]
    },
    {
     "name": "stderr",
     "output_type": "stream",
     "text": [
      "WARNING:absl:Found untraced functions such as activation_17_layer_call_fn, activation_17_layer_call_and_return_conditional_losses, activation_17_layer_call_fn, activation_17_layer_call_and_return_conditional_losses, activation_17_layer_call_and_return_conditional_losses while saving (showing 5 of 5). These functions will not be directly callable after loading.\n"
     ]
    },
    {
     "name": "stdout",
     "output_type": "stream",
     "text": [
      "INFO:tensorflow:Assets written to: .\\models\\wind_direction_prediction2.ckpt\\assets\n"
     ]
    },
    {
     "name": "stderr",
     "output_type": "stream",
     "text": [
      "INFO:tensorflow:Assets written to: .\\models\\wind_direction_prediction2.ckpt\\assets\n"
     ]
    },
    {
     "name": "stdout",
     "output_type": "stream",
     "text": [
      "."
     ]
    },
    {
     "name": "stderr",
     "output_type": "stream",
     "text": [
      "WARNING:absl:Found untraced functions such as activation_17_layer_call_fn, activation_17_layer_call_and_return_conditional_losses, activation_17_layer_call_fn, activation_17_layer_call_and_return_conditional_losses, activation_17_layer_call_and_return_conditional_losses while saving (showing 5 of 5). These functions will not be directly callable after loading.\n"
     ]
    },
    {
     "name": "stdout",
     "output_type": "stream",
     "text": [
      "INFO:tensorflow:Assets written to: .\\models\\wind_direction_prediction2.ckpt\\assets\n"
     ]
    },
    {
     "name": "stderr",
     "output_type": "stream",
     "text": [
      "INFO:tensorflow:Assets written to: .\\models\\wind_direction_prediction2.ckpt\\assets\n"
     ]
    },
    {
     "name": "stdout",
     "output_type": "stream",
     "text": [
      "."
     ]
    },
    {
     "name": "stderr",
     "output_type": "stream",
     "text": [
      "WARNING:absl:Found untraced functions such as activation_17_layer_call_fn, activation_17_layer_call_and_return_conditional_losses, activation_17_layer_call_fn, activation_17_layer_call_and_return_conditional_losses, activation_17_layer_call_and_return_conditional_losses while saving (showing 5 of 5). These functions will not be directly callable after loading.\n"
     ]
    },
    {
     "name": "stdout",
     "output_type": "stream",
     "text": [
      "INFO:tensorflow:Assets written to: .\\models\\wind_direction_prediction2.ckpt\\assets\n"
     ]
    },
    {
     "name": "stderr",
     "output_type": "stream",
     "text": [
      "INFO:tensorflow:Assets written to: .\\models\\wind_direction_prediction2.ckpt\\assets\n"
     ]
    },
    {
     "name": "stdout",
     "output_type": "stream",
     "text": [
      "..."
     ]
    },
    {
     "name": "stderr",
     "output_type": "stream",
     "text": [
      "WARNING:absl:Found untraced functions such as activation_17_layer_call_fn, activation_17_layer_call_and_return_conditional_losses, activation_17_layer_call_fn, activation_17_layer_call_and_return_conditional_losses, activation_17_layer_call_and_return_conditional_losses while saving (showing 5 of 5). These functions will not be directly callable after loading.\n"
     ]
    },
    {
     "name": "stdout",
     "output_type": "stream",
     "text": [
      "INFO:tensorflow:Assets written to: .\\models\\wind_direction_prediction2.ckpt\\assets\n"
     ]
    },
    {
     "name": "stderr",
     "output_type": "stream",
     "text": [
      "INFO:tensorflow:Assets written to: .\\models\\wind_direction_prediction2.ckpt\\assets\n"
     ]
    },
    {
     "name": "stdout",
     "output_type": "stream",
     "text": [
      ".........."
     ]
    },
    {
     "name": "stderr",
     "output_type": "stream",
     "text": [
      "WARNING:absl:Found untraced functions such as activation_17_layer_call_fn, activation_17_layer_call_and_return_conditional_losses, activation_17_layer_call_fn, activation_17_layer_call_and_return_conditional_losses, activation_17_layer_call_and_return_conditional_losses while saving (showing 5 of 5). These functions will not be directly callable after loading.\n"
     ]
    },
    {
     "name": "stdout",
     "output_type": "stream",
     "text": [
      "INFO:tensorflow:Assets written to: .\\models\\wind_direction_prediction2.ckpt\\assets\n"
     ]
    },
    {
     "name": "stderr",
     "output_type": "stream",
     "text": [
      "INFO:tensorflow:Assets written to: .\\models\\wind_direction_prediction2.ckpt\\assets\n"
     ]
    },
    {
     "name": "stdout",
     "output_type": "stream",
     "text": [
      "..."
     ]
    },
    {
     "name": "stderr",
     "output_type": "stream",
     "text": [
      "WARNING:absl:Found untraced functions such as activation_17_layer_call_fn, activation_17_layer_call_and_return_conditional_losses, activation_17_layer_call_fn, activation_17_layer_call_and_return_conditional_losses, activation_17_layer_call_and_return_conditional_losses while saving (showing 5 of 5). These functions will not be directly callable after loading.\n"
     ]
    },
    {
     "name": "stdout",
     "output_type": "stream",
     "text": [
      "INFO:tensorflow:Assets written to: .\\models\\wind_direction_prediction2.ckpt\\assets\n"
     ]
    },
    {
     "name": "stderr",
     "output_type": "stream",
     "text": [
      "INFO:tensorflow:Assets written to: .\\models\\wind_direction_prediction2.ckpt\\assets\n"
     ]
    },
    {
     "name": "stdout",
     "output_type": "stream",
     "text": [
      "."
     ]
    },
    {
     "name": "stderr",
     "output_type": "stream",
     "text": [
      "WARNING:absl:Found untraced functions such as activation_17_layer_call_fn, activation_17_layer_call_and_return_conditional_losses, activation_17_layer_call_fn, activation_17_layer_call_and_return_conditional_losses, activation_17_layer_call_and_return_conditional_losses while saving (showing 5 of 5). These functions will not be directly callable after loading.\n"
     ]
    },
    {
     "name": "stdout",
     "output_type": "stream",
     "text": [
      "INFO:tensorflow:Assets written to: .\\models\\wind_direction_prediction2.ckpt\\assets\n"
     ]
    },
    {
     "name": "stderr",
     "output_type": "stream",
     "text": [
      "INFO:tensorflow:Assets written to: .\\models\\wind_direction_prediction2.ckpt\\assets\n"
     ]
    },
    {
     "name": "stdout",
     "output_type": "stream",
     "text": [
      "."
     ]
    },
    {
     "name": "stderr",
     "output_type": "stream",
     "text": [
      "WARNING:absl:Found untraced functions such as activation_17_layer_call_fn, activation_17_layer_call_and_return_conditional_losses, activation_17_layer_call_fn, activation_17_layer_call_and_return_conditional_losses, activation_17_layer_call_and_return_conditional_losses while saving (showing 5 of 5). These functions will not be directly callable after loading.\n"
     ]
    },
    {
     "name": "stdout",
     "output_type": "stream",
     "text": [
      "INFO:tensorflow:Assets written to: .\\models\\wind_direction_prediction2.ckpt\\assets\n"
     ]
    },
    {
     "name": "stderr",
     "output_type": "stream",
     "text": [
      "INFO:tensorflow:Assets written to: .\\models\\wind_direction_prediction2.ckpt\\assets\n"
     ]
    },
    {
     "name": "stdout",
     "output_type": "stream",
     "text": [
      "."
     ]
    },
    {
     "name": "stderr",
     "output_type": "stream",
     "text": [
      "WARNING:absl:Found untraced functions such as activation_17_layer_call_fn, activation_17_layer_call_and_return_conditional_losses, activation_17_layer_call_fn, activation_17_layer_call_and_return_conditional_losses, activation_17_layer_call_and_return_conditional_losses while saving (showing 5 of 5). These functions will not be directly callable after loading.\n"
     ]
    },
    {
     "name": "stdout",
     "output_type": "stream",
     "text": [
      "INFO:tensorflow:Assets written to: .\\models\\wind_direction_prediction2.ckpt\\assets\n"
     ]
    },
    {
     "name": "stderr",
     "output_type": "stream",
     "text": [
      "INFO:tensorflow:Assets written to: .\\models\\wind_direction_prediction2.ckpt\\assets\n"
     ]
    },
    {
     "name": "stdout",
     "output_type": "stream",
     "text": [
      "."
     ]
    },
    {
     "name": "stderr",
     "output_type": "stream",
     "text": [
      "WARNING:absl:Found untraced functions such as activation_17_layer_call_fn, activation_17_layer_call_and_return_conditional_losses, activation_17_layer_call_fn, activation_17_layer_call_and_return_conditional_losses, activation_17_layer_call_and_return_conditional_losses while saving (showing 5 of 5). These functions will not be directly callable after loading.\n"
     ]
    },
    {
     "name": "stdout",
     "output_type": "stream",
     "text": [
      "INFO:tensorflow:Assets written to: .\\models\\wind_direction_prediction2.ckpt\\assets\n"
     ]
    },
    {
     "name": "stderr",
     "output_type": "stream",
     "text": [
      "INFO:tensorflow:Assets written to: .\\models\\wind_direction_prediction2.ckpt\\assets\n"
     ]
    },
    {
     "name": "stdout",
     "output_type": "stream",
     "text": [
      "."
     ]
    },
    {
     "name": "stderr",
     "output_type": "stream",
     "text": [
      "WARNING:absl:Found untraced functions such as activation_17_layer_call_fn, activation_17_layer_call_and_return_conditional_losses, activation_17_layer_call_fn, activation_17_layer_call_and_return_conditional_losses, activation_17_layer_call_and_return_conditional_losses while saving (showing 5 of 5). These functions will not be directly callable after loading.\n"
     ]
    },
    {
     "name": "stdout",
     "output_type": "stream",
     "text": [
      "INFO:tensorflow:Assets written to: .\\models\\wind_direction_prediction2.ckpt\\assets\n"
     ]
    },
    {
     "name": "stderr",
     "output_type": "stream",
     "text": [
      "INFO:tensorflow:Assets written to: .\\models\\wind_direction_prediction2.ckpt\\assets\n"
     ]
    },
    {
     "name": "stdout",
     "output_type": "stream",
     "text": [
      "...."
     ]
    },
    {
     "name": "stderr",
     "output_type": "stream",
     "text": [
      "WARNING:absl:Found untraced functions such as activation_17_layer_call_fn, activation_17_layer_call_and_return_conditional_losses, activation_17_layer_call_fn, activation_17_layer_call_and_return_conditional_losses, activation_17_layer_call_and_return_conditional_losses while saving (showing 5 of 5). These functions will not be directly callable after loading.\n"
     ]
    },
    {
     "name": "stdout",
     "output_type": "stream",
     "text": [
      "INFO:tensorflow:Assets written to: .\\models\\wind_direction_prediction2.ckpt\\assets\n"
     ]
    },
    {
     "name": "stderr",
     "output_type": "stream",
     "text": [
      "INFO:tensorflow:Assets written to: .\\models\\wind_direction_prediction2.ckpt\\assets\n"
     ]
    },
    {
     "name": "stdout",
     "output_type": "stream",
     "text": [
      "."
     ]
    },
    {
     "name": "stderr",
     "output_type": "stream",
     "text": [
      "WARNING:absl:Found untraced functions such as activation_17_layer_call_fn, activation_17_layer_call_and_return_conditional_losses, activation_17_layer_call_fn, activation_17_layer_call_and_return_conditional_losses, activation_17_layer_call_and_return_conditional_losses while saving (showing 5 of 5). These functions will not be directly callable after loading.\n"
     ]
    },
    {
     "name": "stdout",
     "output_type": "stream",
     "text": [
      "INFO:tensorflow:Assets written to: .\\models\\wind_direction_prediction2.ckpt\\assets\n"
     ]
    },
    {
     "name": "stderr",
     "output_type": "stream",
     "text": [
      "INFO:tensorflow:Assets written to: .\\models\\wind_direction_prediction2.ckpt\\assets\n"
     ]
    },
    {
     "name": "stdout",
     "output_type": "stream",
     "text": [
      "."
     ]
    },
    {
     "name": "stderr",
     "output_type": "stream",
     "text": [
      "WARNING:absl:Found untraced functions such as activation_17_layer_call_fn, activation_17_layer_call_and_return_conditional_losses, activation_17_layer_call_fn, activation_17_layer_call_and_return_conditional_losses, activation_17_layer_call_and_return_conditional_losses while saving (showing 5 of 5). These functions will not be directly callable after loading.\n"
     ]
    },
    {
     "name": "stdout",
     "output_type": "stream",
     "text": [
      "INFO:tensorflow:Assets written to: .\\models\\wind_direction_prediction2.ckpt\\assets\n"
     ]
    },
    {
     "name": "stderr",
     "output_type": "stream",
     "text": [
      "INFO:tensorflow:Assets written to: .\\models\\wind_direction_prediction2.ckpt\\assets\n"
     ]
    },
    {
     "name": "stdout",
     "output_type": "stream",
     "text": [
      "........"
     ]
    },
    {
     "name": "stderr",
     "output_type": "stream",
     "text": [
      "WARNING:absl:Found untraced functions such as activation_17_layer_call_fn, activation_17_layer_call_and_return_conditional_losses, activation_17_layer_call_fn, activation_17_layer_call_and_return_conditional_losses, activation_17_layer_call_and_return_conditional_losses while saving (showing 5 of 5). These functions will not be directly callable after loading.\n"
     ]
    },
    {
     "name": "stdout",
     "output_type": "stream",
     "text": [
      "INFO:tensorflow:Assets written to: .\\models\\wind_direction_prediction2.ckpt\\assets\n"
     ]
    },
    {
     "name": "stderr",
     "output_type": "stream",
     "text": [
      "INFO:tensorflow:Assets written to: .\\models\\wind_direction_prediction2.ckpt\\assets\n"
     ]
    },
    {
     "name": "stdout",
     "output_type": "stream",
     "text": [
      "..................................."
     ]
    },
    {
     "name": "stderr",
     "output_type": "stream",
     "text": [
      "WARNING:absl:Found untraced functions such as activation_17_layer_call_fn, activation_17_layer_call_and_return_conditional_losses, activation_17_layer_call_fn, activation_17_layer_call_and_return_conditional_losses, activation_17_layer_call_and_return_conditional_losses while saving (showing 5 of 5). These functions will not be directly callable after loading.\n"
     ]
    },
    {
     "name": "stdout",
     "output_type": "stream",
     "text": [
      "INFO:tensorflow:Assets written to: .\\models\\wind_direction_prediction2.ckpt\\assets\n"
     ]
    },
    {
     "name": "stderr",
     "output_type": "stream",
     "text": [
      "INFO:tensorflow:Assets written to: .\\models\\wind_direction_prediction2.ckpt\\assets\n"
     ]
    },
    {
     "name": "stdout",
     "output_type": "stream",
     "text": [
      ".."
     ]
    },
    {
     "name": "stderr",
     "output_type": "stream",
     "text": [
      "WARNING:absl:Found untraced functions such as activation_17_layer_call_fn, activation_17_layer_call_and_return_conditional_losses, activation_17_layer_call_fn, activation_17_layer_call_and_return_conditional_losses, activation_17_layer_call_and_return_conditional_losses while saving (showing 5 of 5). These functions will not be directly callable after loading.\n"
     ]
    },
    {
     "name": "stdout",
     "output_type": "stream",
     "text": [
      "INFO:tensorflow:Assets written to: .\\models\\wind_direction_prediction2.ckpt\\assets\n"
     ]
    },
    {
     "name": "stderr",
     "output_type": "stream",
     "text": [
      "INFO:tensorflow:Assets written to: .\\models\\wind_direction_prediction2.ckpt\\assets\n"
     ]
    },
    {
     "name": "stdout",
     "output_type": "stream",
     "text": [
      "........"
     ]
    },
    {
     "name": "stderr",
     "output_type": "stream",
     "text": [
      "WARNING:absl:Found untraced functions such as activation_17_layer_call_fn, activation_17_layer_call_and_return_conditional_losses, activation_17_layer_call_fn, activation_17_layer_call_and_return_conditional_losses, activation_17_layer_call_and_return_conditional_losses while saving (showing 5 of 5). These functions will not be directly callable after loading.\n"
     ]
    },
    {
     "name": "stdout",
     "output_type": "stream",
     "text": [
      "INFO:tensorflow:Assets written to: .\\models\\wind_direction_prediction2.ckpt\\assets\n"
     ]
    },
    {
     "name": "stderr",
     "output_type": "stream",
     "text": [
      "INFO:tensorflow:Assets written to: .\\models\\wind_direction_prediction2.ckpt\\assets\n"
     ]
    },
    {
     "name": "stdout",
     "output_type": "stream",
     "text": [
      "."
     ]
    },
    {
     "name": "stderr",
     "output_type": "stream",
     "text": [
      "WARNING:absl:Found untraced functions such as activation_17_layer_call_fn, activation_17_layer_call_and_return_conditional_losses, activation_17_layer_call_fn, activation_17_layer_call_and_return_conditional_losses, activation_17_layer_call_and_return_conditional_losses while saving (showing 5 of 5). These functions will not be directly callable after loading.\n"
     ]
    },
    {
     "name": "stdout",
     "output_type": "stream",
     "text": [
      "INFO:tensorflow:Assets written to: .\\models\\wind_direction_prediction2.ckpt\\assets\n"
     ]
    },
    {
     "name": "stderr",
     "output_type": "stream",
     "text": [
      "INFO:tensorflow:Assets written to: .\\models\\wind_direction_prediction2.ckpt\\assets\n"
     ]
    },
    {
     "name": "stdout",
     "output_type": "stream",
     "text": [
      "."
     ]
    },
    {
     "name": "stderr",
     "output_type": "stream",
     "text": [
      "WARNING:absl:Found untraced functions such as activation_17_layer_call_fn, activation_17_layer_call_and_return_conditional_losses, activation_17_layer_call_fn, activation_17_layer_call_and_return_conditional_losses, activation_17_layer_call_and_return_conditional_losses while saving (showing 5 of 5). These functions will not be directly callable after loading.\n"
     ]
    },
    {
     "name": "stdout",
     "output_type": "stream",
     "text": [
      "INFO:tensorflow:Assets written to: .\\models\\wind_direction_prediction2.ckpt\\assets\n"
     ]
    },
    {
     "name": "stderr",
     "output_type": "stream",
     "text": [
      "INFO:tensorflow:Assets written to: .\\models\\wind_direction_prediction2.ckpt\\assets\n"
     ]
    },
    {
     "name": "stdout",
     "output_type": "stream",
     "text": [
      "."
     ]
    },
    {
     "name": "stderr",
     "output_type": "stream",
     "text": [
      "WARNING:absl:Found untraced functions such as activation_17_layer_call_fn, activation_17_layer_call_and_return_conditional_losses, activation_17_layer_call_fn, activation_17_layer_call_and_return_conditional_losses, activation_17_layer_call_and_return_conditional_losses while saving (showing 5 of 5). These functions will not be directly callable after loading.\n"
     ]
    },
    {
     "name": "stdout",
     "output_type": "stream",
     "text": [
      "INFO:tensorflow:Assets written to: .\\models\\wind_direction_prediction2.ckpt\\assets\n"
     ]
    },
    {
     "name": "stderr",
     "output_type": "stream",
     "text": [
      "INFO:tensorflow:Assets written to: .\\models\\wind_direction_prediction2.ckpt\\assets\n"
     ]
    },
    {
     "name": "stdout",
     "output_type": "stream",
     "text": [
      "........"
     ]
    },
    {
     "name": "stderr",
     "output_type": "stream",
     "text": [
      "WARNING:absl:Found untraced functions such as activation_17_layer_call_fn, activation_17_layer_call_and_return_conditional_losses, activation_17_layer_call_fn, activation_17_layer_call_and_return_conditional_losses, activation_17_layer_call_and_return_conditional_losses while saving (showing 5 of 5). These functions will not be directly callable after loading.\n"
     ]
    },
    {
     "name": "stdout",
     "output_type": "stream",
     "text": [
      "INFO:tensorflow:Assets written to: .\\models\\wind_direction_prediction2.ckpt\\assets\n"
     ]
    },
    {
     "name": "stderr",
     "output_type": "stream",
     "text": [
      "INFO:tensorflow:Assets written to: .\\models\\wind_direction_prediction2.ckpt\\assets\n"
     ]
    },
    {
     "name": "stdout",
     "output_type": "stream",
     "text": [
      "."
     ]
    },
    {
     "name": "stderr",
     "output_type": "stream",
     "text": [
      "WARNING:absl:Found untraced functions such as activation_17_layer_call_fn, activation_17_layer_call_and_return_conditional_losses, activation_17_layer_call_fn, activation_17_layer_call_and_return_conditional_losses, activation_17_layer_call_and_return_conditional_losses while saving (showing 5 of 5). These functions will not be directly callable after loading.\n"
     ]
    },
    {
     "name": "stdout",
     "output_type": "stream",
     "text": [
      "INFO:tensorflow:Assets written to: .\\models\\wind_direction_prediction2.ckpt\\assets\n"
     ]
    },
    {
     "name": "stderr",
     "output_type": "stream",
     "text": [
      "INFO:tensorflow:Assets written to: .\\models\\wind_direction_prediction2.ckpt\\assets\n"
     ]
    },
    {
     "name": "stdout",
     "output_type": "stream",
     "text": [
      "\n",
      "Epoch: 200, loss:4.2216,  mae:1.7031,  mape:43.5791,  mse:4.2216,  val_loss:1.2420,  val_mae:0.8677,  val_mape:27.3826,  val_mse:1.2420,  \n",
      "."
     ]
    },
    {
     "name": "stderr",
     "output_type": "stream",
     "text": [
      "WARNING:absl:Found untraced functions such as activation_17_layer_call_fn, activation_17_layer_call_and_return_conditional_losses, activation_17_layer_call_fn, activation_17_layer_call_and_return_conditional_losses, activation_17_layer_call_and_return_conditional_losses while saving (showing 5 of 5). These functions will not be directly callable after loading.\n"
     ]
    },
    {
     "name": "stdout",
     "output_type": "stream",
     "text": [
      "INFO:tensorflow:Assets written to: .\\models\\wind_direction_prediction2.ckpt\\assets\n"
     ]
    },
    {
     "name": "stderr",
     "output_type": "stream",
     "text": [
      "INFO:tensorflow:Assets written to: .\\models\\wind_direction_prediction2.ckpt\\assets\n"
     ]
    },
    {
     "name": "stdout",
     "output_type": "stream",
     "text": [
      "."
     ]
    },
    {
     "name": "stderr",
     "output_type": "stream",
     "text": [
      "WARNING:absl:Found untraced functions such as activation_17_layer_call_fn, activation_17_layer_call_and_return_conditional_losses, activation_17_layer_call_fn, activation_17_layer_call_and_return_conditional_losses, activation_17_layer_call_and_return_conditional_losses while saving (showing 5 of 5). These functions will not be directly callable after loading.\n"
     ]
    },
    {
     "name": "stdout",
     "output_type": "stream",
     "text": [
      "INFO:tensorflow:Assets written to: .\\models\\wind_direction_prediction2.ckpt\\assets\n"
     ]
    },
    {
     "name": "stderr",
     "output_type": "stream",
     "text": [
      "INFO:tensorflow:Assets written to: .\\models\\wind_direction_prediction2.ckpt\\assets\n"
     ]
    },
    {
     "name": "stdout",
     "output_type": "stream",
     "text": [
      "."
     ]
    },
    {
     "name": "stderr",
     "output_type": "stream",
     "text": [
      "WARNING:absl:Found untraced functions such as activation_17_layer_call_fn, activation_17_layer_call_and_return_conditional_losses, activation_17_layer_call_fn, activation_17_layer_call_and_return_conditional_losses, activation_17_layer_call_and_return_conditional_losses while saving (showing 5 of 5). These functions will not be directly callable after loading.\n"
     ]
    },
    {
     "name": "stdout",
     "output_type": "stream",
     "text": [
      "INFO:tensorflow:Assets written to: .\\models\\wind_direction_prediction2.ckpt\\assets\n"
     ]
    },
    {
     "name": "stderr",
     "output_type": "stream",
     "text": [
      "INFO:tensorflow:Assets written to: .\\models\\wind_direction_prediction2.ckpt\\assets\n"
     ]
    },
    {
     "name": "stdout",
     "output_type": "stream",
     "text": [
      "......................."
     ]
    },
    {
     "name": "stderr",
     "output_type": "stream",
     "text": [
      "WARNING:absl:Found untraced functions such as activation_17_layer_call_fn, activation_17_layer_call_and_return_conditional_losses, activation_17_layer_call_fn, activation_17_layer_call_and_return_conditional_losses, activation_17_layer_call_and_return_conditional_losses while saving (showing 5 of 5). These functions will not be directly callable after loading.\n"
     ]
    },
    {
     "name": "stdout",
     "output_type": "stream",
     "text": [
      "INFO:tensorflow:Assets written to: .\\models\\wind_direction_prediction2.ckpt\\assets\n"
     ]
    },
    {
     "name": "stderr",
     "output_type": "stream",
     "text": [
      "INFO:tensorflow:Assets written to: .\\models\\wind_direction_prediction2.ckpt\\assets\n"
     ]
    },
    {
     "name": "stdout",
     "output_type": "stream",
     "text": [
      "."
     ]
    },
    {
     "name": "stderr",
     "output_type": "stream",
     "text": [
      "WARNING:absl:Found untraced functions such as activation_17_layer_call_fn, activation_17_layer_call_and_return_conditional_losses, activation_17_layer_call_fn, activation_17_layer_call_and_return_conditional_losses, activation_17_layer_call_and_return_conditional_losses while saving (showing 5 of 5). These functions will not be directly callable after loading.\n"
     ]
    },
    {
     "name": "stdout",
     "output_type": "stream",
     "text": [
      "INFO:tensorflow:Assets written to: .\\models\\wind_direction_prediction2.ckpt\\assets\n"
     ]
    },
    {
     "name": "stderr",
     "output_type": "stream",
     "text": [
      "INFO:tensorflow:Assets written to: .\\models\\wind_direction_prediction2.ckpt\\assets\n"
     ]
    },
    {
     "name": "stdout",
     "output_type": "stream",
     "text": [
      "."
     ]
    },
    {
     "name": "stderr",
     "output_type": "stream",
     "text": [
      "WARNING:absl:Found untraced functions such as activation_17_layer_call_fn, activation_17_layer_call_and_return_conditional_losses, activation_17_layer_call_fn, activation_17_layer_call_and_return_conditional_losses, activation_17_layer_call_and_return_conditional_losses while saving (showing 5 of 5). These functions will not be directly callable after loading.\n"
     ]
    },
    {
     "name": "stdout",
     "output_type": "stream",
     "text": [
      "INFO:tensorflow:Assets written to: .\\models\\wind_direction_prediction2.ckpt\\assets\n"
     ]
    },
    {
     "name": "stderr",
     "output_type": "stream",
     "text": [
      "INFO:tensorflow:Assets written to: .\\models\\wind_direction_prediction2.ckpt\\assets\n"
     ]
    },
    {
     "name": "stdout",
     "output_type": "stream",
     "text": [
      "."
     ]
    },
    {
     "name": "stderr",
     "output_type": "stream",
     "text": [
      "WARNING:absl:Found untraced functions such as activation_17_layer_call_fn, activation_17_layer_call_and_return_conditional_losses, activation_17_layer_call_fn, activation_17_layer_call_and_return_conditional_losses, activation_17_layer_call_and_return_conditional_losses while saving (showing 5 of 5). These functions will not be directly callable after loading.\n"
     ]
    },
    {
     "name": "stdout",
     "output_type": "stream",
     "text": [
      "INFO:tensorflow:Assets written to: .\\models\\wind_direction_prediction2.ckpt\\assets\n"
     ]
    },
    {
     "name": "stderr",
     "output_type": "stream",
     "text": [
      "INFO:tensorflow:Assets written to: .\\models\\wind_direction_prediction2.ckpt\\assets\n"
     ]
    },
    {
     "name": "stdout",
     "output_type": "stream",
     "text": [
      "......."
     ]
    },
    {
     "name": "stderr",
     "output_type": "stream",
     "text": [
      "WARNING:absl:Found untraced functions such as activation_17_layer_call_fn, activation_17_layer_call_and_return_conditional_losses, activation_17_layer_call_fn, activation_17_layer_call_and_return_conditional_losses, activation_17_layer_call_and_return_conditional_losses while saving (showing 5 of 5). These functions will not be directly callable after loading.\n"
     ]
    },
    {
     "name": "stdout",
     "output_type": "stream",
     "text": [
      "INFO:tensorflow:Assets written to: .\\models\\wind_direction_prediction2.ckpt\\assets\n"
     ]
    },
    {
     "name": "stderr",
     "output_type": "stream",
     "text": [
      "INFO:tensorflow:Assets written to: .\\models\\wind_direction_prediction2.ckpt\\assets\n"
     ]
    },
    {
     "name": "stdout",
     "output_type": "stream",
     "text": [
      "."
     ]
    },
    {
     "name": "stderr",
     "output_type": "stream",
     "text": [
      "WARNING:absl:Found untraced functions such as activation_17_layer_call_fn, activation_17_layer_call_and_return_conditional_losses, activation_17_layer_call_fn, activation_17_layer_call_and_return_conditional_losses, activation_17_layer_call_and_return_conditional_losses while saving (showing 5 of 5). These functions will not be directly callable after loading.\n"
     ]
    },
    {
     "name": "stdout",
     "output_type": "stream",
     "text": [
      "INFO:tensorflow:Assets written to: .\\models\\wind_direction_prediction2.ckpt\\assets\n"
     ]
    },
    {
     "name": "stderr",
     "output_type": "stream",
     "text": [
      "INFO:tensorflow:Assets written to: .\\models\\wind_direction_prediction2.ckpt\\assets\n"
     ]
    },
    {
     "name": "stdout",
     "output_type": "stream",
     "text": [
      ".."
     ]
    },
    {
     "name": "stderr",
     "output_type": "stream",
     "text": [
      "WARNING:absl:Found untraced functions such as activation_17_layer_call_fn, activation_17_layer_call_and_return_conditional_losses, activation_17_layer_call_fn, activation_17_layer_call_and_return_conditional_losses, activation_17_layer_call_and_return_conditional_losses while saving (showing 5 of 5). These functions will not be directly callable after loading.\n"
     ]
    },
    {
     "name": "stdout",
     "output_type": "stream",
     "text": [
      "INFO:tensorflow:Assets written to: .\\models\\wind_direction_prediction2.ckpt\\assets\n"
     ]
    },
    {
     "name": "stderr",
     "output_type": "stream",
     "text": [
      "INFO:tensorflow:Assets written to: .\\models\\wind_direction_prediction2.ckpt\\assets\n"
     ]
    },
    {
     "name": "stdout",
     "output_type": "stream",
     "text": [
      ".............................................................\n",
      "Epoch: 300, loss:8.0335,  mae:2.2274,  mape:47.3444,  mse:8.0335,  val_loss:1.2888,  val_mae:0.8808,  val_mape:27.2259,  val_mse:1.2888,  \n",
      "....................................................................................................\n",
      "Epoch: 400, loss:15.3639,  mae:2.7218,  mape:45.0732,  mse:15.3639,  val_loss:1.2288,  val_mae:0.8623,  val_mape:27.3839,  val_mse:1.2288,  \n",
      "....................................................................................................Wall time: 4min 32s\n"
     ]
    }
   ],
   "source": [
    "%%time\n",
    "\n",
    "EPOCHS = 500\n",
    "batch_size = 6\n",
    "\n",
    "model2 = model2_multilayer_perceptron_with_one_hidden_layer()\n",
    "print('Here is a summary of this model: ')\n",
    "model2.summary()\n",
    "\n",
    "with tf.device('/CPU:0'):\n",
    "    history = model2.fit(\n",
    "        normed_train_data,\n",
    "        train_labels,\n",
    "        batch_size = batch_size,\n",
    "        epochs=EPOCHS,\n",
    "        verbose=0,\n",
    "        shuffle=True,\n",
    "        steps_per_epoch= 1,\n",
    "        validation_data = (normed_valid_dataset, valid_labels),\n",
    "        callbacks=[tfdocs.modeling.EpochDots(), ckpt_callback],\n",
    "    )\n"
   ]
  },
  {
   "cell_type": "code",
   "execution_count": 130,
   "id": "607358d9",
   "metadata": {},
   "outputs": [
    {
     "name": "stdout",
     "output_type": "stream",
     "text": [
      "Summary of the results after each epoch: \n"
     ]
    },
    {
     "data": {
      "text/html": [
       "<div>\n",
       "<style scoped>\n",
       "    .dataframe tbody tr th:only-of-type {\n",
       "        vertical-align: middle;\n",
       "    }\n",
       "\n",
       "    .dataframe tbody tr th {\n",
       "        vertical-align: top;\n",
       "    }\n",
       "\n",
       "    .dataframe thead th {\n",
       "        text-align: right;\n",
       "    }\n",
       "</style>\n",
       "<table border=\"1\" class=\"dataframe\">\n",
       "  <thead>\n",
       "    <tr style=\"text-align: right;\">\n",
       "      <th></th>\n",
       "      <th>loss</th>\n",
       "      <th>mae</th>\n",
       "      <th>mse</th>\n",
       "      <th>mape</th>\n",
       "      <th>val_loss</th>\n",
       "      <th>val_mae</th>\n",
       "      <th>val_mse</th>\n",
       "      <th>val_mape</th>\n",
       "      <th>epoch</th>\n",
       "    </tr>\n",
       "  </thead>\n",
       "  <tbody>\n",
       "    <tr>\n",
       "      <th>495</th>\n",
       "      <td>1.821503</td>\n",
       "      <td>1.176865</td>\n",
       "      <td>1.821503</td>\n",
       "      <td>30.854773</td>\n",
       "      <td>1.190036</td>\n",
       "      <td>0.855257</td>\n",
       "      <td>1.190036</td>\n",
       "      <td>27.906061</td>\n",
       "      <td>495</td>\n",
       "    </tr>\n",
       "    <tr>\n",
       "      <th>496</th>\n",
       "      <td>1.935895</td>\n",
       "      <td>1.049265</td>\n",
       "      <td>1.935895</td>\n",
       "      <td>35.023819</td>\n",
       "      <td>1.202752</td>\n",
       "      <td>0.858634</td>\n",
       "      <td>1.202752</td>\n",
       "      <td>27.788191</td>\n",
       "      <td>496</td>\n",
       "    </tr>\n",
       "    <tr>\n",
       "      <th>497</th>\n",
       "      <td>5.165882</td>\n",
       "      <td>2.064785</td>\n",
       "      <td>5.165882</td>\n",
       "      <td>85.724609</td>\n",
       "      <td>1.210306</td>\n",
       "      <td>0.860505</td>\n",
       "      <td>1.210306</td>\n",
       "      <td>27.709229</td>\n",
       "      <td>497</td>\n",
       "    </tr>\n",
       "    <tr>\n",
       "      <th>498</th>\n",
       "      <td>2.184635</td>\n",
       "      <td>1.379847</td>\n",
       "      <td>2.184635</td>\n",
       "      <td>38.249527</td>\n",
       "      <td>1.203339</td>\n",
       "      <td>0.859061</td>\n",
       "      <td>1.203339</td>\n",
       "      <td>27.791372</td>\n",
       "      <td>498</td>\n",
       "    </tr>\n",
       "    <tr>\n",
       "      <th>499</th>\n",
       "      <td>2.297550</td>\n",
       "      <td>1.372879</td>\n",
       "      <td>2.297550</td>\n",
       "      <td>34.673046</td>\n",
       "      <td>1.193098</td>\n",
       "      <td>0.856236</td>\n",
       "      <td>1.193098</td>\n",
       "      <td>27.870958</td>\n",
       "      <td>499</td>\n",
       "    </tr>\n",
       "  </tbody>\n",
       "</table>\n",
       "</div>"
      ],
      "text/plain": [
       "         loss       mae       mse       mape  val_loss   val_mae   val_mse  \\\n",
       "495  1.821503  1.176865  1.821503  30.854773  1.190036  0.855257  1.190036   \n",
       "496  1.935895  1.049265  1.935895  35.023819  1.202752  0.858634  1.202752   \n",
       "497  5.165882  2.064785  5.165882  85.724609  1.210306  0.860505  1.210306   \n",
       "498  2.184635  1.379847  2.184635  38.249527  1.203339  0.859061  1.203339   \n",
       "499  2.297550  1.372879  2.297550  34.673046  1.193098  0.856236  1.193098   \n",
       "\n",
       "      val_mape  epoch  \n",
       "495  27.906061    495  \n",
       "496  27.788191    496  \n",
       "497  27.709229    497  \n",
       "498  27.791372    498  \n",
       "499  27.870958    499  "
      ]
     },
     "execution_count": 130,
     "metadata": {},
     "output_type": "execute_result"
    }
   ],
   "source": [
    "print('Summary of the results after each epoch: ')\n",
    "hist = pd.DataFrame(history.history)\n",
    "hist['epoch'] = history.epoch\n",
    "hist.tail()"
   ]
  },
  {
   "cell_type": "code",
   "execution_count": 131,
   "id": "d2b7b4bf",
   "metadata": {},
   "outputs": [],
   "source": [
    "# Test the model after training\n",
    "example_result_3 = model2.predict(normed_test_data)"
   ]
  },
  {
   "cell_type": "markdown",
   "id": "79c80ab9",
   "metadata": {},
   "source": [
    "## Compare the predicted values with the actual values"
   ]
  },
  {
   "cell_type": "code",
   "execution_count": 132,
   "id": "1f6a10a5",
   "metadata": {},
   "outputs": [
    {
     "name": "stdout",
     "output_type": "stream",
     "text": [
      "Predicted Values\n",
      "[[3.0805695]\n",
      " [2.9558265]\n",
      " [2.544259 ]\n",
      " [2.253598 ]\n",
      " [2.6260273]\n",
      " [1.8853054]\n",
      " [2.8033285]\n",
      " [3.0746038]\n",
      " [2.9568286]\n",
      " [2.5709727]]\n",
      "\n",
      "Actual Values\n",
      "1.0\n",
      "4.0\n",
      "3.0\n",
      "5.0\n",
      "4.0\n",
      "3.3\n",
      "5.0\n",
      "4.0\n",
      "4.0\n",
      "3.0\n"
     ]
    }
   ],
   "source": [
    "print('Predicted Values')\n",
    "print(example_result_3[:10])\n",
    "print()\n",
    "print('Actual Values')\n",
    "print(test_labels[:10].to_string(index=False))"
   ]
  },
  {
   "cell_type": "code",
   "execution_count": 133,
   "id": "0bd009bb",
   "metadata": {},
   "outputs": [
    {
     "name": "stdout",
     "output_type": "stream",
     "text": [
      "Summary of the results after each epoch: \n"
     ]
    },
    {
     "data": {
      "text/html": [
       "<div>\n",
       "<style scoped>\n",
       "    .dataframe tbody tr th:only-of-type {\n",
       "        vertical-align: middle;\n",
       "    }\n",
       "\n",
       "    .dataframe tbody tr th {\n",
       "        vertical-align: top;\n",
       "    }\n",
       "\n",
       "    .dataframe thead th {\n",
       "        text-align: right;\n",
       "    }\n",
       "</style>\n",
       "<table border=\"1\" class=\"dataframe\">\n",
       "  <thead>\n",
       "    <tr style=\"text-align: right;\">\n",
       "      <th></th>\n",
       "      <th>loss</th>\n",
       "      <th>mae</th>\n",
       "      <th>mse</th>\n",
       "      <th>mape</th>\n",
       "      <th>val_loss</th>\n",
       "      <th>val_mae</th>\n",
       "      <th>val_mse</th>\n",
       "      <th>val_mape</th>\n",
       "      <th>epoch</th>\n",
       "    </tr>\n",
       "  </thead>\n",
       "  <tbody>\n",
       "    <tr>\n",
       "      <th>495</th>\n",
       "      <td>1.821503</td>\n",
       "      <td>1.176865</td>\n",
       "      <td>1.821503</td>\n",
       "      <td>30.854773</td>\n",
       "      <td>1.190036</td>\n",
       "      <td>0.855257</td>\n",
       "      <td>1.190036</td>\n",
       "      <td>27.906061</td>\n",
       "      <td>495</td>\n",
       "    </tr>\n",
       "    <tr>\n",
       "      <th>496</th>\n",
       "      <td>1.935895</td>\n",
       "      <td>1.049265</td>\n",
       "      <td>1.935895</td>\n",
       "      <td>35.023819</td>\n",
       "      <td>1.202752</td>\n",
       "      <td>0.858634</td>\n",
       "      <td>1.202752</td>\n",
       "      <td>27.788191</td>\n",
       "      <td>496</td>\n",
       "    </tr>\n",
       "    <tr>\n",
       "      <th>497</th>\n",
       "      <td>5.165882</td>\n",
       "      <td>2.064785</td>\n",
       "      <td>5.165882</td>\n",
       "      <td>85.724609</td>\n",
       "      <td>1.210306</td>\n",
       "      <td>0.860505</td>\n",
       "      <td>1.210306</td>\n",
       "      <td>27.709229</td>\n",
       "      <td>497</td>\n",
       "    </tr>\n",
       "    <tr>\n",
       "      <th>498</th>\n",
       "      <td>2.184635</td>\n",
       "      <td>1.379847</td>\n",
       "      <td>2.184635</td>\n",
       "      <td>38.249527</td>\n",
       "      <td>1.203339</td>\n",
       "      <td>0.859061</td>\n",
       "      <td>1.203339</td>\n",
       "      <td>27.791372</td>\n",
       "      <td>498</td>\n",
       "    </tr>\n",
       "    <tr>\n",
       "      <th>499</th>\n",
       "      <td>2.297550</td>\n",
       "      <td>1.372879</td>\n",
       "      <td>2.297550</td>\n",
       "      <td>34.673046</td>\n",
       "      <td>1.193098</td>\n",
       "      <td>0.856236</td>\n",
       "      <td>1.193098</td>\n",
       "      <td>27.870958</td>\n",
       "      <td>499</td>\n",
       "    </tr>\n",
       "  </tbody>\n",
       "</table>\n",
       "</div>"
      ],
      "text/plain": [
       "         loss       mae       mse       mape  val_loss   val_mae   val_mse  \\\n",
       "495  1.821503  1.176865  1.821503  30.854773  1.190036  0.855257  1.190036   \n",
       "496  1.935895  1.049265  1.935895  35.023819  1.202752  0.858634  1.202752   \n",
       "497  5.165882  2.064785  5.165882  85.724609  1.210306  0.860505  1.210306   \n",
       "498  2.184635  1.379847  2.184635  38.249527  1.203339  0.859061  1.203339   \n",
       "499  2.297550  1.372879  2.297550  34.673046  1.193098  0.856236  1.193098   \n",
       "\n",
       "      val_mape  epoch  \n",
       "495  27.906061    495  \n",
       "496  27.788191    496  \n",
       "497  27.709229    497  \n",
       "498  27.791372    498  \n",
       "499  27.870958    499  "
      ]
     },
     "execution_count": 133,
     "metadata": {},
     "output_type": "execute_result"
    }
   ],
   "source": [
    "print('Summary of the results after each epoch: ')\n",
    "hist = pd.DataFrame(history.history)\n",
    "hist['epoch'] = history.epoch\n",
    "hist.tail()"
   ]
  },
  {
   "cell_type": "markdown",
   "id": "067242de",
   "metadata": {},
   "source": [
    "## See how the training went by plotting the loss/mse across epochs"
   ]
  },
  {
   "cell_type": "code",
   "execution_count": 134,
   "id": "a54a2743",
   "metadata": {},
   "outputs": [
    {
     "data": {
      "text/plain": [
       "Text(0, 0.5, 'MAE [wind-direction]')"
      ]
     },
     "execution_count": 134,
     "metadata": {},
     "output_type": "execute_result"
    },
    {
     "data": {
      "image/png": "[encoded data removed]",
      "text/plain": [
       "<Figure size 432x288 with 1 Axes>"
      ]
     },
     "metadata": {
      "needs_background": "light"
     },
     "output_type": "display_data"
    }
   ],
   "source": [
    "plotter = tfdocs.plots.HistoryPlotter(smoothing_std=2)\n",
    "\n",
    "plotter.plot({'Basic': history}, metric = 'mae')\n",
    "plt.ylim([0,150])\n",
    "plt.ylabel('MAE [wind-direction]')"
   ]
  },
  {
   "cell_type": "code",
   "execution_count": 135,
   "id": "e1b3bd07",
   "metadata": {},
   "outputs": [
    {
     "data": {
      "text/plain": [
       "Text(0, 0.5, 'MSE [wind-direction]')"
      ]
     },
     "execution_count": 135,
     "metadata": {},
     "output_type": "execute_result"
    },
    {
     "data": {
      "image/png": "[encoded data removed]",
      "text/plain": [
       "<Figure size 432x288 with 1 Axes>"
      ]
     },
     "metadata": {
      "needs_background": "light"
     },
     "output_type": "display_data"
    }
   ],
   "source": [
    "plotter.plot({'Basic': history}, metric = 'mse')\n",
    "plt.ylim([0,5000])\n",
    "plt.ylabel('MSE [wind-direction]')"
   ]
  },
  {
   "cell_type": "code",
   "execution_count": 136,
   "id": "707da959",
   "metadata": {},
   "outputs": [
    {
     "name": "stdout",
     "output_type": "stream",
     "text": [
      "Error Rate on Train Split: \n",
      "6/6 - 0s - loss: 2.3252 - mae: 1.1293 - mse: 2.3252 - mape: 16588195.0000\n",
      "Train set Mean Abs Error :  1.13\n",
      "Train set Mean Square Error :  2.33\n"
     ]
    }
   ],
   "source": [
    "print('Error Rate on Train Split: ')\n",
    "loss, mae, mse, mape = model2.evaluate(normed_train_data, train_labels, verbose=2)\n",
    "\n",
    "print('Train set Mean Abs Error : {:5.2f}'.format(mae))\n",
    "print('Train set Mean Square Error : {:5.2f}'.format(mse))"
   ]
  },
  {
   "cell_type": "code",
   "execution_count": 137,
   "id": "e1a2efb7",
   "metadata": {},
   "outputs": [
    {
     "name": "stdout",
     "output_type": "stream",
     "text": [
      "Error Rate on Evaluation  Split: \n",
      "2/2 - 0s - loss: 1.1931 - mae: 0.8562 - mse: 1.1931 - mape: 27.8710\n",
      "Validation set Mean Abs Error :  0.86\n",
      "Validation set Mean Square Error :  1.19\n"
     ]
    }
   ],
   "source": [
    "print('Error Rate on Evaluation  Split: ')\n",
    "loss, mae, mse, mape = model2.evaluate(normed_valid_dataset, valid_labels, verbose=2)\n",
    "\n",
    "print('Validation set Mean Abs Error : {:5.2f}'.format(mae))\n",
    "print('Validation set Mean Square Error : {:5.2f}'.format(mse))"
   ]
  },
  {
   "cell_type": "code",
   "execution_count": 138,
   "id": "61494ba9",
   "metadata": {},
   "outputs": [
    {
     "name": "stdout",
     "output_type": "stream",
     "text": [
      "Error Rate on Test  Split: \n",
      "2/2 - 0s - loss: 1.6609 - mae: 1.0498 - mse: 1.6609 - mape: 39.2208\n",
      "Testing set Mean Abs Error :  1.05\n",
      "Testing set Mean Square Error :  1.66\n"
     ]
    }
   ],
   "source": [
    "print('Error Rate on Test  Split: ')\n",
    "loss, mae, mse, mape = model2.evaluate(normed_test_data, test_labels, verbose=2)\n",
    "\n",
    "print('Testing set Mean Abs Error : {:5.2f}'.format(mae))\n",
    "print('Testing set Mean Square Error : {:5.2f}'.format(mse))"
   ]
  },
  {
   "cell_type": "code",
   "execution_count": 139,
   "id": "29352c0b",
   "metadata": {},
   "outputs": [
    {
     "data": {
      "image/png": "[encoded data removed]",
      "text/plain": [
       "<Figure size 432x288 with 1 Axes>"
      ]
     },
     "metadata": {
      "needs_background": "light"
     },
     "output_type": "display_data"
    }
   ],
   "source": [
    "train_predictions = model2.predict(normed_train_data).flatten()\n",
    "\n",
    "a = plt.axes(aspect='equal')\n",
    "plt.scatter(train_labels, train_predictions)\n",
    "plt.xlabel('True Values [wind-speed]')\n",
    "plt.ylabel('Predictions [wind-speed]')\n",
    "lims = [0, 350]\n",
    "plt.xlim(lims)\n",
    "plt.ylim(lims)\n",
    "_ = plt.plot(lims, lims)"
   ]
  },
  {
   "cell_type": "code",
   "execution_count": 140,
   "id": "44db45da",
   "metadata": {},
   "outputs": [
    {
     "data": {
      "image/png": "[encoded data removed]",
      "text/plain": [
       "<Figure size 432x288 with 1 Axes>"
      ]
     },
     "metadata": {
      "needs_background": "light"
     },
     "output_type": "display_data"
    }
   ],
   "source": [
    "test_predictions = model2.predict(normed_test_data).flatten()\n",
    "\n",
    "a = plt.axes(aspect='equal')\n",
    "plt.scatter(test_labels, test_predictions)\n",
    "plt.xlabel('True Values [wind-speed]')\n",
    "plt.ylabel('Predictions [wind-speed]')\n",
    "lims = [0, 350]\n",
    "plt.xlim(lims)\n",
    "plt.ylim(lims)\n",
    "_ = plt.plot(lims, lims)"
   ]
  },
  {
   "cell_type": "code",
   "execution_count": 141,
   "id": "6f5063bc",
   "metadata": {},
   "outputs": [
    {
     "data": {
      "image/png": "[encoded data removed]",
      "text/plain": [
       "<Figure size 432x288 with 1 Axes>"
      ]
     },
     "metadata": {
      "needs_background": "light"
     },
     "output_type": "display_data"
    }
   ],
   "source": [
    "# error distribution.\n",
    "error = test_predictions - test_labels\n",
    "plt.hist(error, bins = 25)\n",
    "plt.xlabel(\"Prediction Error [medv]\")\n",
    "_ = plt.ylabel(\"count\")"
   ]
  },
  {
   "cell_type": "markdown",
   "id": "a20b3b7c",
   "metadata": {},
   "source": [
    "## Two hidden layer analysis"
   ]
  },
  {
   "cell_type": "code",
   "execution_count": 142,
   "id": "f16bd7b3",
   "metadata": {},
   "outputs": [],
   "source": [
    "# checkpoint_path\n",
    "checkpoint_path = r\".\\models\\wind_direction_prediction3.ckpt\"\n",
    "\n",
    "#create a callback that saves the model's weight\n",
    "ckpt_callback = tf.keras.callbacks.ModelCheckpoint(filepath=checkpoint_path,monitor='val_loss',\n",
    "                                                 save_best_only=True,verbose=0,)"
   ]
  },
  {
   "cell_type": "code",
   "execution_count": 143,
   "id": "78a319a5",
   "metadata": {
    "scrolled": false
   },
   "outputs": [
    {
     "name": "stdout",
     "output_type": "stream",
     "text": [
      "Here is a summary of this model: \n",
      "Model: \"sequential_11\"\n",
      "_________________________________________________________________\n",
      "Layer (type)                 Output Shape              Param #   \n",
      "=================================================================\n",
      "dense_34 (Dense)             (None, 32)                224       \n",
      "_________________________________________________________________\n",
      "dense_35 (Dense)             (None, 32)                1056      \n",
      "_________________________________________________________________\n",
      "dropout_7 (Dropout)          (None, 32)                0         \n",
      "_________________________________________________________________\n",
      "dense_36 (Dense)             (None, 64)                2112      \n",
      "_________________________________________________________________\n",
      "dense_37 (Dense)             (None, 72)                4680      \n",
      "_________________________________________________________________\n",
      "dropout_8 (Dropout)          (None, 72)                0         \n",
      "_________________________________________________________________\n",
      "dense_38 (Dense)             (None, 80)                5840      \n",
      "_________________________________________________________________\n",
      "dropout_9 (Dropout)          (None, 80)                0         \n",
      "_________________________________________________________________\n",
      "dense_39 (Dense)             (None, 1)                 81        \n",
      "=================================================================\n",
      "Total params: 13,993\n",
      "Trainable params: 13,993\n",
      "Non-trainable params: 0\n",
      "_________________________________________________________________\n",
      "\n",
      "Epoch: 0, loss:14.1712,  mae:3.3484,  mape:62368532.0000,  mse:14.1712,  val_loss:11.3176,  val_mae:3.1534,  val_mape:100.3777,  val_mse:11.3176,  \n",
      "."
     ]
    },
    {
     "name": "stderr",
     "output_type": "stream",
     "text": [
      "WARNING:absl:Found untraced functions such as activation_18_layer_call_fn, activation_18_layer_call_and_return_conditional_losses, activation_19_layer_call_fn, activation_19_layer_call_and_return_conditional_losses, activation_20_layer_call_fn while saving (showing 5 of 20). These functions will not be directly callable after loading.\n"
     ]
    },
    {
     "name": "stdout",
     "output_type": "stream",
     "text": [
      "INFO:tensorflow:Assets written to: .\\models\\wind_direction_prediction3.ckpt\\assets\n"
     ]
    },
    {
     "name": "stderr",
     "output_type": "stream",
     "text": [
      "INFO:tensorflow:Assets written to: .\\models\\wind_direction_prediction3.ckpt\\assets\n"
     ]
    },
    {
     "name": "stdout",
     "output_type": "stream",
     "text": [
      "."
     ]
    },
    {
     "name": "stderr",
     "output_type": "stream",
     "text": [
      "WARNING:absl:Found untraced functions such as activation_18_layer_call_fn, activation_18_layer_call_and_return_conditional_losses, activation_19_layer_call_fn, activation_19_layer_call_and_return_conditional_losses, activation_20_layer_call_fn while saving (showing 5 of 20). These functions will not be directly callable after loading.\n"
     ]
    },
    {
     "name": "stdout",
     "output_type": "stream",
     "text": [
      "INFO:tensorflow:Assets written to: .\\models\\wind_direction_prediction3.ckpt\\assets\n"
     ]
    },
    {
     "name": "stderr",
     "output_type": "stream",
     "text": [
      "INFO:tensorflow:Assets written to: .\\models\\wind_direction_prediction3.ckpt\\assets\n"
     ]
    },
    {
     "name": "stdout",
     "output_type": "stream",
     "text": [
      "."
     ]
    },
    {
     "name": "stderr",
     "output_type": "stream",
     "text": [
      "WARNING:absl:Found untraced functions such as activation_18_layer_call_fn, activation_18_layer_call_and_return_conditional_losses, activation_19_layer_call_fn, activation_19_layer_call_and_return_conditional_losses, activation_20_layer_call_fn while saving (showing 5 of 20). These functions will not be directly callable after loading.\n"
     ]
    },
    {
     "name": "stdout",
     "output_type": "stream",
     "text": [
      "INFO:tensorflow:Assets written to: .\\models\\wind_direction_prediction3.ckpt\\assets\n"
     ]
    },
    {
     "name": "stderr",
     "output_type": "stream",
     "text": [
      "INFO:tensorflow:Assets written to: .\\models\\wind_direction_prediction3.ckpt\\assets\n"
     ]
    },
    {
     "name": "stdout",
     "output_type": "stream",
     "text": [
      "."
     ]
    },
    {
     "name": "stderr",
     "output_type": "stream",
     "text": [
      "WARNING:absl:Found untraced functions such as activation_18_layer_call_fn, activation_18_layer_call_and_return_conditional_losses, activation_19_layer_call_fn, activation_19_layer_call_and_return_conditional_losses, activation_20_layer_call_fn while saving (showing 5 of 20). These functions will not be directly callable after loading.\n"
     ]
    },
    {
     "name": "stdout",
     "output_type": "stream",
     "text": [
      "INFO:tensorflow:Assets written to: .\\models\\wind_direction_prediction3.ckpt\\assets\n"
     ]
    },
    {
     "name": "stderr",
     "output_type": "stream",
     "text": [
      "INFO:tensorflow:Assets written to: .\\models\\wind_direction_prediction3.ckpt\\assets\n"
     ]
    },
    {
     "name": "stdout",
     "output_type": "stream",
     "text": [
      "."
     ]
    },
    {
     "name": "stderr",
     "output_type": "stream",
     "text": [
      "WARNING:absl:Found untraced functions such as activation_18_layer_call_fn, activation_18_layer_call_and_return_conditional_losses, activation_19_layer_call_fn, activation_19_layer_call_and_return_conditional_losses, activation_20_layer_call_fn while saving (showing 5 of 20). These functions will not be directly callable after loading.\n"
     ]
    },
    {
     "name": "stdout",
     "output_type": "stream",
     "text": [
      "INFO:tensorflow:Assets written to: .\\models\\wind_direction_prediction3.ckpt\\assets\n"
     ]
    },
    {
     "name": "stderr",
     "output_type": "stream",
     "text": [
      "INFO:tensorflow:Assets written to: .\\models\\wind_direction_prediction3.ckpt\\assets\n"
     ]
    },
    {
     "name": "stdout",
     "output_type": "stream",
     "text": [
      "."
     ]
    },
    {
     "name": "stderr",
     "output_type": "stream",
     "text": [
      "WARNING:absl:Found untraced functions such as activation_18_layer_call_fn, activation_18_layer_call_and_return_conditional_losses, activation_19_layer_call_fn, activation_19_layer_call_and_return_conditional_losses, activation_20_layer_call_fn while saving (showing 5 of 20). These functions will not be directly callable after loading.\n"
     ]
    },
    {
     "name": "stdout",
     "output_type": "stream",
     "text": [
      "INFO:tensorflow:Assets written to: .\\models\\wind_direction_prediction3.ckpt\\assets\n"
     ]
    },
    {
     "name": "stderr",
     "output_type": "stream",
     "text": [
      "INFO:tensorflow:Assets written to: .\\models\\wind_direction_prediction3.ckpt\\assets\n"
     ]
    },
    {
     "name": "stdout",
     "output_type": "stream",
     "text": [
      "."
     ]
    },
    {
     "name": "stderr",
     "output_type": "stream",
     "text": [
      "WARNING:absl:Found untraced functions such as activation_18_layer_call_fn, activation_18_layer_call_and_return_conditional_losses, activation_19_layer_call_fn, activation_19_layer_call_and_return_conditional_losses, activation_20_layer_call_fn while saving (showing 5 of 20). These functions will not be directly callable after loading.\n"
     ]
    },
    {
     "name": "stdout",
     "output_type": "stream",
     "text": [
      "INFO:tensorflow:Assets written to: .\\models\\wind_direction_prediction3.ckpt\\assets\n"
     ]
    },
    {
     "name": "stderr",
     "output_type": "stream",
     "text": [
      "INFO:tensorflow:Assets written to: .\\models\\wind_direction_prediction3.ckpt\\assets\n"
     ]
    },
    {
     "name": "stdout",
     "output_type": "stream",
     "text": [
      "."
     ]
    },
    {
     "name": "stderr",
     "output_type": "stream",
     "text": [
      "WARNING:absl:Found untraced functions such as activation_18_layer_call_fn, activation_18_layer_call_and_return_conditional_losses, activation_19_layer_call_fn, activation_19_layer_call_and_return_conditional_losses, activation_20_layer_call_fn while saving (showing 5 of 20). These functions will not be directly callable after loading.\n"
     ]
    },
    {
     "name": "stdout",
     "output_type": "stream",
     "text": [
      "INFO:tensorflow:Assets written to: .\\models\\wind_direction_prediction3.ckpt\\assets\n"
     ]
    },
    {
     "name": "stderr",
     "output_type": "stream",
     "text": [
      "INFO:tensorflow:Assets written to: .\\models\\wind_direction_prediction3.ckpt\\assets\n"
     ]
    },
    {
     "name": "stdout",
     "output_type": "stream",
     "text": [
      "."
     ]
    },
    {
     "name": "stderr",
     "output_type": "stream",
     "text": [
      "WARNING:absl:Found untraced functions such as activation_18_layer_call_fn, activation_18_layer_call_and_return_conditional_losses, activation_19_layer_call_fn, activation_19_layer_call_and_return_conditional_losses, activation_20_layer_call_fn while saving (showing 5 of 20). These functions will not be directly callable after loading.\n"
     ]
    },
    {
     "name": "stdout",
     "output_type": "stream",
     "text": [
      "INFO:tensorflow:Assets written to: .\\models\\wind_direction_prediction3.ckpt\\assets\n"
     ]
    },
    {
     "name": "stderr",
     "output_type": "stream",
     "text": [
      "INFO:tensorflow:Assets written to: .\\models\\wind_direction_prediction3.ckpt\\assets\n"
     ]
    },
    {
     "name": "stdout",
     "output_type": "stream",
     "text": [
      "."
     ]
    },
    {
     "name": "stderr",
     "output_type": "stream",
     "text": [
      "WARNING:absl:Found untraced functions such as activation_18_layer_call_fn, activation_18_layer_call_and_return_conditional_losses, activation_19_layer_call_fn, activation_19_layer_call_and_return_conditional_losses, activation_20_layer_call_fn while saving (showing 5 of 20). These functions will not be directly callable after loading.\n"
     ]
    },
    {
     "name": "stdout",
     "output_type": "stream",
     "text": [
      "INFO:tensorflow:Assets written to: .\\models\\wind_direction_prediction3.ckpt\\assets\n"
     ]
    },
    {
     "name": "stderr",
     "output_type": "stream",
     "text": [
      "INFO:tensorflow:Assets written to: .\\models\\wind_direction_prediction3.ckpt\\assets\n"
     ]
    },
    {
     "name": "stdout",
     "output_type": "stream",
     "text": [
      "."
     ]
    },
    {
     "name": "stderr",
     "output_type": "stream",
     "text": [
      "WARNING:absl:Found untraced functions such as activation_18_layer_call_fn, activation_18_layer_call_and_return_conditional_losses, activation_19_layer_call_fn, activation_19_layer_call_and_return_conditional_losses, activation_20_layer_call_fn while saving (showing 5 of 20). These functions will not be directly callable after loading.\n"
     ]
    },
    {
     "name": "stdout",
     "output_type": "stream",
     "text": [
      "INFO:tensorflow:Assets written to: .\\models\\wind_direction_prediction3.ckpt\\assets\n"
     ]
    },
    {
     "name": "stderr",
     "output_type": "stream",
     "text": [
      "INFO:tensorflow:Assets written to: .\\models\\wind_direction_prediction3.ckpt\\assets\n"
     ]
    },
    {
     "name": "stdout",
     "output_type": "stream",
     "text": [
      "."
     ]
    },
    {
     "name": "stderr",
     "output_type": "stream",
     "text": [
      "WARNING:absl:Found untraced functions such as activation_18_layer_call_fn, activation_18_layer_call_and_return_conditional_losses, activation_19_layer_call_fn, activation_19_layer_call_and_return_conditional_losses, activation_20_layer_call_fn while saving (showing 5 of 20). These functions will not be directly callable after loading.\n"
     ]
    },
    {
     "name": "stdout",
     "output_type": "stream",
     "text": [
      "INFO:tensorflow:Assets written to: .\\models\\wind_direction_prediction3.ckpt\\assets\n"
     ]
    },
    {
     "name": "stderr",
     "output_type": "stream",
     "text": [
      "INFO:tensorflow:Assets written to: .\\models\\wind_direction_prediction3.ckpt\\assets\n"
     ]
    },
    {
     "name": "stdout",
     "output_type": "stream",
     "text": [
      "."
     ]
    },
    {
     "name": "stderr",
     "output_type": "stream",
     "text": [
      "WARNING:absl:Found untraced functions such as activation_18_layer_call_fn, activation_18_layer_call_and_return_conditional_losses, activation_19_layer_call_fn, activation_19_layer_call_and_return_conditional_losses, activation_20_layer_call_fn while saving (showing 5 of 20). These functions will not be directly callable after loading.\n"
     ]
    },
    {
     "name": "stdout",
     "output_type": "stream",
     "text": [
      "INFO:tensorflow:Assets written to: .\\models\\wind_direction_prediction3.ckpt\\assets\n"
     ]
    },
    {
     "name": "stderr",
     "output_type": "stream",
     "text": [
      "INFO:tensorflow:Assets written to: .\\models\\wind_direction_prediction3.ckpt\\assets\n"
     ]
    },
    {
     "name": "stdout",
     "output_type": "stream",
     "text": [
      "."
     ]
    },
    {
     "name": "stderr",
     "output_type": "stream",
     "text": [
      "WARNING:absl:Found untraced functions such as activation_18_layer_call_fn, activation_18_layer_call_and_return_conditional_losses, activation_19_layer_call_fn, activation_19_layer_call_and_return_conditional_losses, activation_20_layer_call_fn while saving (showing 5 of 20). These functions will not be directly callable after loading.\n"
     ]
    },
    {
     "name": "stdout",
     "output_type": "stream",
     "text": [
      "INFO:tensorflow:Assets written to: .\\models\\wind_direction_prediction3.ckpt\\assets\n"
     ]
    },
    {
     "name": "stderr",
     "output_type": "stream",
     "text": [
      "INFO:tensorflow:Assets written to: .\\models\\wind_direction_prediction3.ckpt\\assets\n"
     ]
    },
    {
     "name": "stdout",
     "output_type": "stream",
     "text": [
      "."
     ]
    },
    {
     "name": "stderr",
     "output_type": "stream",
     "text": [
      "WARNING:absl:Found untraced functions such as activation_18_layer_call_fn, activation_18_layer_call_and_return_conditional_losses, activation_19_layer_call_fn, activation_19_layer_call_and_return_conditional_losses, activation_20_layer_call_fn while saving (showing 5 of 20). These functions will not be directly callable after loading.\n"
     ]
    },
    {
     "name": "stdout",
     "output_type": "stream",
     "text": [
      "INFO:tensorflow:Assets written to: .\\models\\wind_direction_prediction3.ckpt\\assets\n"
     ]
    },
    {
     "name": "stderr",
     "output_type": "stream",
     "text": [
      "INFO:tensorflow:Assets written to: .\\models\\wind_direction_prediction3.ckpt\\assets\n"
     ]
    },
    {
     "name": "stdout",
     "output_type": "stream",
     "text": [
      "."
     ]
    },
    {
     "name": "stderr",
     "output_type": "stream",
     "text": [
      "WARNING:absl:Found untraced functions such as activation_18_layer_call_fn, activation_18_layer_call_and_return_conditional_losses, activation_19_layer_call_fn, activation_19_layer_call_and_return_conditional_losses, activation_20_layer_call_fn while saving (showing 5 of 20). These functions will not be directly callable after loading.\n"
     ]
    },
    {
     "name": "stdout",
     "output_type": "stream",
     "text": [
      "INFO:tensorflow:Assets written to: .\\models\\wind_direction_prediction3.ckpt\\assets\n"
     ]
    },
    {
     "name": "stderr",
     "output_type": "stream",
     "text": [
      "INFO:tensorflow:Assets written to: .\\models\\wind_direction_prediction3.ckpt\\assets\n"
     ]
    },
    {
     "name": "stdout",
     "output_type": "stream",
     "text": [
      "."
     ]
    },
    {
     "name": "stderr",
     "output_type": "stream",
     "text": [
      "WARNING:absl:Found untraced functions such as activation_18_layer_call_fn, activation_18_layer_call_and_return_conditional_losses, activation_19_layer_call_fn, activation_19_layer_call_and_return_conditional_losses, activation_20_layer_call_fn while saving (showing 5 of 20). These functions will not be directly callable after loading.\n"
     ]
    },
    {
     "name": "stdout",
     "output_type": "stream",
     "text": [
      "INFO:tensorflow:Assets written to: .\\models\\wind_direction_prediction3.ckpt\\assets\n"
     ]
    },
    {
     "name": "stderr",
     "output_type": "stream",
     "text": [
      "INFO:tensorflow:Assets written to: .\\models\\wind_direction_prediction3.ckpt\\assets\n"
     ]
    },
    {
     "name": "stdout",
     "output_type": "stream",
     "text": [
      "."
     ]
    },
    {
     "name": "stderr",
     "output_type": "stream",
     "text": [
      "WARNING:absl:Found untraced functions such as activation_18_layer_call_fn, activation_18_layer_call_and_return_conditional_losses, activation_19_layer_call_fn, activation_19_layer_call_and_return_conditional_losses, activation_20_layer_call_fn while saving (showing 5 of 20). These functions will not be directly callable after loading.\n"
     ]
    },
    {
     "name": "stdout",
     "output_type": "stream",
     "text": [
      "INFO:tensorflow:Assets written to: .\\models\\wind_direction_prediction3.ckpt\\assets\n"
     ]
    },
    {
     "name": "stderr",
     "output_type": "stream",
     "text": [
      "INFO:tensorflow:Assets written to: .\\models\\wind_direction_prediction3.ckpt\\assets\n"
     ]
    },
    {
     "name": "stdout",
     "output_type": "stream",
     "text": [
      "."
     ]
    },
    {
     "name": "stderr",
     "output_type": "stream",
     "text": [
      "WARNING:absl:Found untraced functions such as activation_18_layer_call_fn, activation_18_layer_call_and_return_conditional_losses, activation_19_layer_call_fn, activation_19_layer_call_and_return_conditional_losses, activation_20_layer_call_fn while saving (showing 5 of 20). These functions will not be directly callable after loading.\n"
     ]
    },
    {
     "name": "stdout",
     "output_type": "stream",
     "text": [
      "INFO:tensorflow:Assets written to: .\\models\\wind_direction_prediction3.ckpt\\assets\n"
     ]
    },
    {
     "name": "stderr",
     "output_type": "stream",
     "text": [
      "INFO:tensorflow:Assets written to: .\\models\\wind_direction_prediction3.ckpt\\assets\n"
     ]
    },
    {
     "name": "stdout",
     "output_type": "stream",
     "text": [
      "."
     ]
    },
    {
     "name": "stderr",
     "output_type": "stream",
     "text": [
      "WARNING:absl:Found untraced functions such as activation_18_layer_call_fn, activation_18_layer_call_and_return_conditional_losses, activation_19_layer_call_fn, activation_19_layer_call_and_return_conditional_losses, activation_20_layer_call_fn while saving (showing 5 of 20). These functions will not be directly callable after loading.\n"
     ]
    },
    {
     "name": "stdout",
     "output_type": "stream",
     "text": [
      "INFO:tensorflow:Assets written to: .\\models\\wind_direction_prediction3.ckpt\\assets\n"
     ]
    },
    {
     "name": "stderr",
     "output_type": "stream",
     "text": [
      "INFO:tensorflow:Assets written to: .\\models\\wind_direction_prediction3.ckpt\\assets\n"
     ]
    },
    {
     "name": "stdout",
     "output_type": "stream",
     "text": [
      "."
     ]
    },
    {
     "name": "stderr",
     "output_type": "stream",
     "text": [
      "WARNING:absl:Found untraced functions such as activation_18_layer_call_fn, activation_18_layer_call_and_return_conditional_losses, activation_19_layer_call_fn, activation_19_layer_call_and_return_conditional_losses, activation_20_layer_call_fn while saving (showing 5 of 20). These functions will not be directly callable after loading.\n"
     ]
    },
    {
     "name": "stdout",
     "output_type": "stream",
     "text": [
      "INFO:tensorflow:Assets written to: .\\models\\wind_direction_prediction3.ckpt\\assets\n"
     ]
    },
    {
     "name": "stderr",
     "output_type": "stream",
     "text": [
      "INFO:tensorflow:Assets written to: .\\models\\wind_direction_prediction3.ckpt\\assets\n"
     ]
    },
    {
     "name": "stdout",
     "output_type": "stream",
     "text": [
      "."
     ]
    },
    {
     "name": "stderr",
     "output_type": "stream",
     "text": [
      "WARNING:absl:Found untraced functions such as activation_18_layer_call_fn, activation_18_layer_call_and_return_conditional_losses, activation_19_layer_call_fn, activation_19_layer_call_and_return_conditional_losses, activation_20_layer_call_fn while saving (showing 5 of 20). These functions will not be directly callable after loading.\n"
     ]
    },
    {
     "name": "stdout",
     "output_type": "stream",
     "text": [
      "INFO:tensorflow:Assets written to: .\\models\\wind_direction_prediction3.ckpt\\assets\n"
     ]
    },
    {
     "name": "stderr",
     "output_type": "stream",
     "text": [
      "INFO:tensorflow:Assets written to: .\\models\\wind_direction_prediction3.ckpt\\assets\n"
     ]
    },
    {
     "name": "stdout",
     "output_type": "stream",
     "text": [
      "."
     ]
    },
    {
     "name": "stderr",
     "output_type": "stream",
     "text": [
      "WARNING:absl:Found untraced functions such as activation_18_layer_call_fn, activation_18_layer_call_and_return_conditional_losses, activation_19_layer_call_fn, activation_19_layer_call_and_return_conditional_losses, activation_20_layer_call_fn while saving (showing 5 of 20). These functions will not be directly callable after loading.\n"
     ]
    },
    {
     "name": "stdout",
     "output_type": "stream",
     "text": [
      "INFO:tensorflow:Assets written to: .\\models\\wind_direction_prediction3.ckpt\\assets\n"
     ]
    },
    {
     "name": "stderr",
     "output_type": "stream",
     "text": [
      "INFO:tensorflow:Assets written to: .\\models\\wind_direction_prediction3.ckpt\\assets\n"
     ]
    },
    {
     "name": "stdout",
     "output_type": "stream",
     "text": [
      "."
     ]
    },
    {
     "name": "stderr",
     "output_type": "stream",
     "text": [
      "WARNING:absl:Found untraced functions such as activation_18_layer_call_fn, activation_18_layer_call_and_return_conditional_losses, activation_19_layer_call_fn, activation_19_layer_call_and_return_conditional_losses, activation_20_layer_call_fn while saving (showing 5 of 20). These functions will not be directly callable after loading.\n"
     ]
    },
    {
     "name": "stdout",
     "output_type": "stream",
     "text": [
      "INFO:tensorflow:Assets written to: .\\models\\wind_direction_prediction3.ckpt\\assets\n"
     ]
    },
    {
     "name": "stderr",
     "output_type": "stream",
     "text": [
      "INFO:tensorflow:Assets written to: .\\models\\wind_direction_prediction3.ckpt\\assets\n"
     ]
    },
    {
     "name": "stdout",
     "output_type": "stream",
     "text": [
      "."
     ]
    },
    {
     "name": "stderr",
     "output_type": "stream",
     "text": [
      "WARNING:absl:Found untraced functions such as activation_18_layer_call_fn, activation_18_layer_call_and_return_conditional_losses, activation_19_layer_call_fn, activation_19_layer_call_and_return_conditional_losses, activation_20_layer_call_fn while saving (showing 5 of 20). These functions will not be directly callable after loading.\n"
     ]
    },
    {
     "name": "stdout",
     "output_type": "stream",
     "text": [
      "INFO:tensorflow:Assets written to: .\\models\\wind_direction_prediction3.ckpt\\assets\n"
     ]
    },
    {
     "name": "stderr",
     "output_type": "stream",
     "text": [
      "INFO:tensorflow:Assets written to: .\\models\\wind_direction_prediction3.ckpt\\assets\n"
     ]
    },
    {
     "name": "stdout",
     "output_type": "stream",
     "text": [
      "."
     ]
    },
    {
     "name": "stderr",
     "output_type": "stream",
     "text": [
      "WARNING:absl:Found untraced functions such as activation_18_layer_call_fn, activation_18_layer_call_and_return_conditional_losses, activation_19_layer_call_fn, activation_19_layer_call_and_return_conditional_losses, activation_20_layer_call_fn while saving (showing 5 of 20). These functions will not be directly callable after loading.\n"
     ]
    },
    {
     "name": "stdout",
     "output_type": "stream",
     "text": [
      "INFO:tensorflow:Assets written to: .\\models\\wind_direction_prediction3.ckpt\\assets\n"
     ]
    },
    {
     "name": "stderr",
     "output_type": "stream",
     "text": [
      "INFO:tensorflow:Assets written to: .\\models\\wind_direction_prediction3.ckpt\\assets\n"
     ]
    },
    {
     "name": "stdout",
     "output_type": "stream",
     "text": [
      "."
     ]
    },
    {
     "name": "stderr",
     "output_type": "stream",
     "text": [
      "WARNING:absl:Found untraced functions such as activation_18_layer_call_fn, activation_18_layer_call_and_return_conditional_losses, activation_19_layer_call_fn, activation_19_layer_call_and_return_conditional_losses, activation_20_layer_call_fn while saving (showing 5 of 20). These functions will not be directly callable after loading.\n"
     ]
    },
    {
     "name": "stdout",
     "output_type": "stream",
     "text": [
      "INFO:tensorflow:Assets written to: .\\models\\wind_direction_prediction3.ckpt\\assets\n"
     ]
    },
    {
     "name": "stderr",
     "output_type": "stream",
     "text": [
      "INFO:tensorflow:Assets written to: .\\models\\wind_direction_prediction3.ckpt\\assets\n"
     ]
    },
    {
     "name": "stdout",
     "output_type": "stream",
     "text": [
      "."
     ]
    },
    {
     "name": "stderr",
     "output_type": "stream",
     "text": [
      "WARNING:absl:Found untraced functions such as activation_18_layer_call_fn, activation_18_layer_call_and_return_conditional_losses, activation_19_layer_call_fn, activation_19_layer_call_and_return_conditional_losses, activation_20_layer_call_fn while saving (showing 5 of 20). These functions will not be directly callable after loading.\n"
     ]
    },
    {
     "name": "stdout",
     "output_type": "stream",
     "text": [
      "INFO:tensorflow:Assets written to: .\\models\\wind_direction_prediction3.ckpt\\assets\n"
     ]
    },
    {
     "name": "stderr",
     "output_type": "stream",
     "text": [
      "INFO:tensorflow:Assets written to: .\\models\\wind_direction_prediction3.ckpt\\assets\n"
     ]
    },
    {
     "name": "stdout",
     "output_type": "stream",
     "text": [
      "."
     ]
    },
    {
     "name": "stderr",
     "output_type": "stream",
     "text": [
      "WARNING:absl:Found untraced functions such as activation_18_layer_call_fn, activation_18_layer_call_and_return_conditional_losses, activation_19_layer_call_fn, activation_19_layer_call_and_return_conditional_losses, activation_20_layer_call_fn while saving (showing 5 of 20). These functions will not be directly callable after loading.\n"
     ]
    },
    {
     "name": "stdout",
     "output_type": "stream",
     "text": [
      "INFO:tensorflow:Assets written to: .\\models\\wind_direction_prediction3.ckpt\\assets\n"
     ]
    },
    {
     "name": "stderr",
     "output_type": "stream",
     "text": [
      "INFO:tensorflow:Assets written to: .\\models\\wind_direction_prediction3.ckpt\\assets\n"
     ]
    },
    {
     "name": "stdout",
     "output_type": "stream",
     "text": [
      "."
     ]
    },
    {
     "name": "stderr",
     "output_type": "stream",
     "text": [
      "WARNING:absl:Found untraced functions such as activation_18_layer_call_fn, activation_18_layer_call_and_return_conditional_losses, activation_19_layer_call_fn, activation_19_layer_call_and_return_conditional_losses, activation_20_layer_call_fn while saving (showing 5 of 20). These functions will not be directly callable after loading.\n"
     ]
    },
    {
     "name": "stdout",
     "output_type": "stream",
     "text": [
      "INFO:tensorflow:Assets written to: .\\models\\wind_direction_prediction3.ckpt\\assets\n"
     ]
    },
    {
     "name": "stderr",
     "output_type": "stream",
     "text": [
      "INFO:tensorflow:Assets written to: .\\models\\wind_direction_prediction3.ckpt\\assets\n"
     ]
    },
    {
     "name": "stdout",
     "output_type": "stream",
     "text": [
      "."
     ]
    },
    {
     "name": "stderr",
     "output_type": "stream",
     "text": [
      "WARNING:absl:Found untraced functions such as activation_18_layer_call_fn, activation_18_layer_call_and_return_conditional_losses, activation_19_layer_call_fn, activation_19_layer_call_and_return_conditional_losses, activation_20_layer_call_fn while saving (showing 5 of 20). These functions will not be directly callable after loading.\n"
     ]
    },
    {
     "name": "stdout",
     "output_type": "stream",
     "text": [
      "INFO:tensorflow:Assets written to: .\\models\\wind_direction_prediction3.ckpt\\assets\n"
     ]
    },
    {
     "name": "stderr",
     "output_type": "stream",
     "text": [
      "INFO:tensorflow:Assets written to: .\\models\\wind_direction_prediction3.ckpt\\assets\n"
     ]
    },
    {
     "name": "stdout",
     "output_type": "stream",
     "text": [
      "."
     ]
    },
    {
     "name": "stderr",
     "output_type": "stream",
     "text": [
      "WARNING:absl:Found untraced functions such as activation_18_layer_call_fn, activation_18_layer_call_and_return_conditional_losses, activation_19_layer_call_fn, activation_19_layer_call_and_return_conditional_losses, activation_20_layer_call_fn while saving (showing 5 of 20). These functions will not be directly callable after loading.\n"
     ]
    },
    {
     "name": "stdout",
     "output_type": "stream",
     "text": [
      "INFO:tensorflow:Assets written to: .\\models\\wind_direction_prediction3.ckpt\\assets\n"
     ]
    },
    {
     "name": "stderr",
     "output_type": "stream",
     "text": [
      "INFO:tensorflow:Assets written to: .\\models\\wind_direction_prediction3.ckpt\\assets\n"
     ]
    },
    {
     "name": "stdout",
     "output_type": "stream",
     "text": [
      ".."
     ]
    },
    {
     "name": "stderr",
     "output_type": "stream",
     "text": [
      "WARNING:absl:Found untraced functions such as activation_18_layer_call_fn, activation_18_layer_call_and_return_conditional_losses, activation_19_layer_call_fn, activation_19_layer_call_and_return_conditional_losses, activation_20_layer_call_fn while saving (showing 5 of 20). These functions will not be directly callable after loading.\n"
     ]
    },
    {
     "name": "stdout",
     "output_type": "stream",
     "text": [
      "INFO:tensorflow:Assets written to: .\\models\\wind_direction_prediction3.ckpt\\assets\n"
     ]
    },
    {
     "name": "stderr",
     "output_type": "stream",
     "text": [
      "INFO:tensorflow:Assets written to: .\\models\\wind_direction_prediction3.ckpt\\assets\n"
     ]
    },
    {
     "name": "stdout",
     "output_type": "stream",
     "text": [
      "."
     ]
    },
    {
     "name": "stderr",
     "output_type": "stream",
     "text": [
      "WARNING:absl:Found untraced functions such as activation_18_layer_call_fn, activation_18_layer_call_and_return_conditional_losses, activation_19_layer_call_fn, activation_19_layer_call_and_return_conditional_losses, activation_20_layer_call_fn while saving (showing 5 of 20). These functions will not be directly callable after loading.\n"
     ]
    },
    {
     "name": "stdout",
     "output_type": "stream",
     "text": [
      "INFO:tensorflow:Assets written to: .\\models\\wind_direction_prediction3.ckpt\\assets\n"
     ]
    },
    {
     "name": "stderr",
     "output_type": "stream",
     "text": [
      "INFO:tensorflow:Assets written to: .\\models\\wind_direction_prediction3.ckpt\\assets\n"
     ]
    },
    {
     "name": "stdout",
     "output_type": "stream",
     "text": [
      "."
     ]
    },
    {
     "name": "stderr",
     "output_type": "stream",
     "text": [
      "WARNING:absl:Found untraced functions such as activation_18_layer_call_fn, activation_18_layer_call_and_return_conditional_losses, activation_19_layer_call_fn, activation_19_layer_call_and_return_conditional_losses, activation_20_layer_call_fn while saving (showing 5 of 20). These functions will not be directly callable after loading.\n"
     ]
    },
    {
     "name": "stdout",
     "output_type": "stream",
     "text": [
      "INFO:tensorflow:Assets written to: .\\models\\wind_direction_prediction3.ckpt\\assets\n"
     ]
    },
    {
     "name": "stderr",
     "output_type": "stream",
     "text": [
      "INFO:tensorflow:Assets written to: .\\models\\wind_direction_prediction3.ckpt\\assets\n"
     ]
    },
    {
     "name": "stdout",
     "output_type": "stream",
     "text": [
      "......"
     ]
    },
    {
     "name": "stderr",
     "output_type": "stream",
     "text": [
      "WARNING:absl:Found untraced functions such as activation_18_layer_call_fn, activation_18_layer_call_and_return_conditional_losses, activation_19_layer_call_fn, activation_19_layer_call_and_return_conditional_losses, activation_20_layer_call_fn while saving (showing 5 of 20). These functions will not be directly callable after loading.\n"
     ]
    },
    {
     "name": "stdout",
     "output_type": "stream",
     "text": [
      "INFO:tensorflow:Assets written to: .\\models\\wind_direction_prediction3.ckpt\\assets\n"
     ]
    },
    {
     "name": "stderr",
     "output_type": "stream",
     "text": [
      "INFO:tensorflow:Assets written to: .\\models\\wind_direction_prediction3.ckpt\\assets\n"
     ]
    },
    {
     "name": "stdout",
     "output_type": "stream",
     "text": [
      "......."
     ]
    },
    {
     "name": "stderr",
     "output_type": "stream",
     "text": [
      "WARNING:absl:Found untraced functions such as activation_18_layer_call_fn, activation_18_layer_call_and_return_conditional_losses, activation_19_layer_call_fn, activation_19_layer_call_and_return_conditional_losses, activation_20_layer_call_fn while saving (showing 5 of 20). These functions will not be directly callable after loading.\n"
     ]
    },
    {
     "name": "stdout",
     "output_type": "stream",
     "text": [
      "INFO:tensorflow:Assets written to: .\\models\\wind_direction_prediction3.ckpt\\assets\n"
     ]
    },
    {
     "name": "stderr",
     "output_type": "stream",
     "text": [
      "INFO:tensorflow:Assets written to: .\\models\\wind_direction_prediction3.ckpt\\assets\n"
     ]
    },
    {
     "name": "stdout",
     "output_type": "stream",
     "text": [
      ".."
     ]
    },
    {
     "name": "stderr",
     "output_type": "stream",
     "text": [
      "WARNING:absl:Found untraced functions such as activation_18_layer_call_fn, activation_18_layer_call_and_return_conditional_losses, activation_19_layer_call_fn, activation_19_layer_call_and_return_conditional_losses, activation_20_layer_call_fn while saving (showing 5 of 20). These functions will not be directly callable after loading.\n"
     ]
    },
    {
     "name": "stdout",
     "output_type": "stream",
     "text": [
      "INFO:tensorflow:Assets written to: .\\models\\wind_direction_prediction3.ckpt\\assets\n"
     ]
    },
    {
     "name": "stderr",
     "output_type": "stream",
     "text": [
      "INFO:tensorflow:Assets written to: .\\models\\wind_direction_prediction3.ckpt\\assets\n"
     ]
    },
    {
     "name": "stdout",
     "output_type": "stream",
     "text": [
      "."
     ]
    },
    {
     "name": "stderr",
     "output_type": "stream",
     "text": [
      "WARNING:absl:Found untraced functions such as activation_18_layer_call_fn, activation_18_layer_call_and_return_conditional_losses, activation_19_layer_call_fn, activation_19_layer_call_and_return_conditional_losses, activation_20_layer_call_fn while saving (showing 5 of 20). These functions will not be directly callable after loading.\n"
     ]
    },
    {
     "name": "stdout",
     "output_type": "stream",
     "text": [
      "INFO:tensorflow:Assets written to: .\\models\\wind_direction_prediction3.ckpt\\assets\n"
     ]
    },
    {
     "name": "stderr",
     "output_type": "stream",
     "text": [
      "INFO:tensorflow:Assets written to: .\\models\\wind_direction_prediction3.ckpt\\assets\n"
     ]
    },
    {
     "name": "stdout",
     "output_type": "stream",
     "text": [
      "...."
     ]
    },
    {
     "name": "stderr",
     "output_type": "stream",
     "text": [
      "WARNING:absl:Found untraced functions such as activation_18_layer_call_fn, activation_18_layer_call_and_return_conditional_losses, activation_19_layer_call_fn, activation_19_layer_call_and_return_conditional_losses, activation_20_layer_call_fn while saving (showing 5 of 20). These functions will not be directly callable after loading.\n"
     ]
    },
    {
     "name": "stdout",
     "output_type": "stream",
     "text": [
      "INFO:tensorflow:Assets written to: .\\models\\wind_direction_prediction3.ckpt\\assets\n"
     ]
    },
    {
     "name": "stderr",
     "output_type": "stream",
     "text": [
      "INFO:tensorflow:Assets written to: .\\models\\wind_direction_prediction3.ckpt\\assets\n"
     ]
    },
    {
     "name": "stdout",
     "output_type": "stream",
     "text": [
      ".."
     ]
    },
    {
     "name": "stderr",
     "output_type": "stream",
     "text": [
      "WARNING:absl:Found untraced functions such as activation_18_layer_call_fn, activation_18_layer_call_and_return_conditional_losses, activation_19_layer_call_fn, activation_19_layer_call_and_return_conditional_losses, activation_20_layer_call_fn while saving (showing 5 of 20). These functions will not be directly callable after loading.\n"
     ]
    },
    {
     "name": "stdout",
     "output_type": "stream",
     "text": [
      "INFO:tensorflow:Assets written to: .\\models\\wind_direction_prediction3.ckpt\\assets\n"
     ]
    },
    {
     "name": "stderr",
     "output_type": "stream",
     "text": [
      "INFO:tensorflow:Assets written to: .\\models\\wind_direction_prediction3.ckpt\\assets\n"
     ]
    },
    {
     "name": "stdout",
     "output_type": "stream",
     "text": [
      "..............."
     ]
    },
    {
     "name": "stderr",
     "output_type": "stream",
     "text": [
      "WARNING:absl:Found untraced functions such as activation_18_layer_call_fn, activation_18_layer_call_and_return_conditional_losses, activation_19_layer_call_fn, activation_19_layer_call_and_return_conditional_losses, activation_20_layer_call_fn while saving (showing 5 of 20). These functions will not be directly callable after loading.\n"
     ]
    },
    {
     "name": "stdout",
     "output_type": "stream",
     "text": [
      "INFO:tensorflow:Assets written to: .\\models\\wind_direction_prediction3.ckpt\\assets\n"
     ]
    },
    {
     "name": "stderr",
     "output_type": "stream",
     "text": [
      "INFO:tensorflow:Assets written to: .\\models\\wind_direction_prediction3.ckpt\\assets\n"
     ]
    },
    {
     "name": "stdout",
     "output_type": "stream",
     "text": [
      ".."
     ]
    },
    {
     "name": "stderr",
     "output_type": "stream",
     "text": [
      "WARNING:absl:Found untraced functions such as activation_18_layer_call_fn, activation_18_layer_call_and_return_conditional_losses, activation_19_layer_call_fn, activation_19_layer_call_and_return_conditional_losses, activation_20_layer_call_fn while saving (showing 5 of 20). These functions will not be directly callable after loading.\n"
     ]
    },
    {
     "name": "stdout",
     "output_type": "stream",
     "text": [
      "INFO:tensorflow:Assets written to: .\\models\\wind_direction_prediction3.ckpt\\assets\n"
     ]
    },
    {
     "name": "stderr",
     "output_type": "stream",
     "text": [
      "INFO:tensorflow:Assets written to: .\\models\\wind_direction_prediction3.ckpt\\assets\n"
     ]
    },
    {
     "name": "stdout",
     "output_type": "stream",
     "text": [
      ".........................\n",
      "Epoch: 100, loss:2.8399,  mae:1.4895,  mape:444449824.0000,  mse:2.8399,  val_loss:1.3798,  val_mae:0.9103,  val_mape:27.4385,  val_mse:1.3798,  \n",
      "........"
     ]
    },
    {
     "name": "stderr",
     "output_type": "stream",
     "text": [
      "WARNING:absl:Found untraced functions such as activation_18_layer_call_fn, activation_18_layer_call_and_return_conditional_losses, activation_19_layer_call_fn, activation_19_layer_call_and_return_conditional_losses, activation_20_layer_call_fn while saving (showing 5 of 20). These functions will not be directly callable after loading.\n"
     ]
    },
    {
     "name": "stdout",
     "output_type": "stream",
     "text": [
      "INFO:tensorflow:Assets written to: .\\models\\wind_direction_prediction3.ckpt\\assets\n"
     ]
    },
    {
     "name": "stderr",
     "output_type": "stream",
     "text": [
      "INFO:tensorflow:Assets written to: .\\models\\wind_direction_prediction3.ckpt\\assets\n"
     ]
    },
    {
     "name": "stdout",
     "output_type": "stream",
     "text": [
      "."
     ]
    },
    {
     "name": "stderr",
     "output_type": "stream",
     "text": [
      "WARNING:absl:Found untraced functions such as activation_18_layer_call_fn, activation_18_layer_call_and_return_conditional_losses, activation_19_layer_call_fn, activation_19_layer_call_and_return_conditional_losses, activation_20_layer_call_fn while saving (showing 5 of 20). These functions will not be directly callable after loading.\n"
     ]
    },
    {
     "name": "stdout",
     "output_type": "stream",
     "text": [
      "INFO:tensorflow:Assets written to: .\\models\\wind_direction_prediction3.ckpt\\assets\n"
     ]
    },
    {
     "name": "stderr",
     "output_type": "stream",
     "text": [
      "INFO:tensorflow:Assets written to: .\\models\\wind_direction_prediction3.ckpt\\assets\n"
     ]
    },
    {
     "name": "stdout",
     "output_type": "stream",
     "text": [
      "...................."
     ]
    },
    {
     "name": "stderr",
     "output_type": "stream",
     "text": [
      "WARNING:absl:Found untraced functions such as activation_18_layer_call_fn, activation_18_layer_call_and_return_conditional_losses, activation_19_layer_call_fn, activation_19_layer_call_and_return_conditional_losses, activation_20_layer_call_fn while saving (showing 5 of 20). These functions will not be directly callable after loading.\n"
     ]
    },
    {
     "name": "stdout",
     "output_type": "stream",
     "text": [
      "INFO:tensorflow:Assets written to: .\\models\\wind_direction_prediction3.ckpt\\assets\n"
     ]
    },
    {
     "name": "stderr",
     "output_type": "stream",
     "text": [
      "INFO:tensorflow:Assets written to: .\\models\\wind_direction_prediction3.ckpt\\assets\n"
     ]
    },
    {
     "name": "stdout",
     "output_type": "stream",
     "text": [
      ".........."
     ]
    },
    {
     "name": "stderr",
     "output_type": "stream",
     "text": [
      "WARNING:absl:Found untraced functions such as activation_18_layer_call_fn, activation_18_layer_call_and_return_conditional_losses, activation_19_layer_call_fn, activation_19_layer_call_and_return_conditional_losses, activation_20_layer_call_fn while saving (showing 5 of 20). These functions will not be directly callable after loading.\n"
     ]
    },
    {
     "name": "stdout",
     "output_type": "stream",
     "text": [
      "INFO:tensorflow:Assets written to: .\\models\\wind_direction_prediction3.ckpt\\assets\n"
     ]
    },
    {
     "name": "stderr",
     "output_type": "stream",
     "text": [
      "INFO:tensorflow:Assets written to: .\\models\\wind_direction_prediction3.ckpt\\assets\n"
     ]
    },
    {
     "name": "stdout",
     "output_type": "stream",
     "text": [
      "........."
     ]
    },
    {
     "name": "stderr",
     "output_type": "stream",
     "text": [
      "WARNING:absl:Found untraced functions such as activation_18_layer_call_fn, activation_18_layer_call_and_return_conditional_losses, activation_19_layer_call_fn, activation_19_layer_call_and_return_conditional_losses, activation_20_layer_call_fn while saving (showing 5 of 20). These functions will not be directly callable after loading.\n"
     ]
    },
    {
     "name": "stdout",
     "output_type": "stream",
     "text": [
      "INFO:tensorflow:Assets written to: .\\models\\wind_direction_prediction3.ckpt\\assets\n"
     ]
    },
    {
     "name": "stderr",
     "output_type": "stream",
     "text": [
      "INFO:tensorflow:Assets written to: .\\models\\wind_direction_prediction3.ckpt\\assets\n"
     ]
    },
    {
     "name": "stdout",
     "output_type": "stream",
     "text": [
      "..................."
     ]
    },
    {
     "name": "stderr",
     "output_type": "stream",
     "text": [
      "WARNING:absl:Found untraced functions such as activation_18_layer_call_fn, activation_18_layer_call_and_return_conditional_losses, activation_19_layer_call_fn, activation_19_layer_call_and_return_conditional_losses, activation_20_layer_call_fn while saving (showing 5 of 20). These functions will not be directly callable after loading.\n"
     ]
    },
    {
     "name": "stdout",
     "output_type": "stream",
     "text": [
      "INFO:tensorflow:Assets written to: .\\models\\wind_direction_prediction3.ckpt\\assets\n"
     ]
    },
    {
     "name": "stderr",
     "output_type": "stream",
     "text": [
      "INFO:tensorflow:Assets written to: .\\models\\wind_direction_prediction3.ckpt\\assets\n"
     ]
    },
    {
     "name": "stdout",
     "output_type": "stream",
     "text": [
      "."
     ]
    },
    {
     "name": "stderr",
     "output_type": "stream",
     "text": [
      "WARNING:absl:Found untraced functions such as activation_18_layer_call_fn, activation_18_layer_call_and_return_conditional_losses, activation_19_layer_call_fn, activation_19_layer_call_and_return_conditional_losses, activation_20_layer_call_fn while saving (showing 5 of 20). These functions will not be directly callable after loading.\n"
     ]
    },
    {
     "name": "stdout",
     "output_type": "stream",
     "text": [
      "INFO:tensorflow:Assets written to: .\\models\\wind_direction_prediction3.ckpt\\assets\n"
     ]
    },
    {
     "name": "stderr",
     "output_type": "stream",
     "text": [
      "INFO:tensorflow:Assets written to: .\\models\\wind_direction_prediction3.ckpt\\assets\n"
     ]
    },
    {
     "name": "stdout",
     "output_type": "stream",
     "text": [
      "................................\n",
      "Epoch: 200, loss:1.5745,  mae:0.9689,  mape:41.0059,  mse:1.5745,  val_loss:1.8039,  val_mae:1.0129,  val_mape:27.8680,  val_mse:1.8039,  \n",
      "....................................................................................................\n",
      "Epoch: 300, loss:1.2353,  mae:0.9150,  mape:24.9480,  mse:1.2353,  val_loss:1.1402,  val_mae:0.8281,  val_mape:27.2002,  val_mse:1.1402,  \n",
      ".................................................................."
     ]
    },
    {
     "name": "stderr",
     "output_type": "stream",
     "text": [
      "WARNING:absl:Found untraced functions such as activation_18_layer_call_fn, activation_18_layer_call_and_return_conditional_losses, activation_19_layer_call_fn, activation_19_layer_call_and_return_conditional_losses, activation_20_layer_call_fn while saving (showing 5 of 20). These functions will not be directly callable after loading.\n"
     ]
    },
    {
     "name": "stdout",
     "output_type": "stream",
     "text": [
      "INFO:tensorflow:Assets written to: .\\models\\wind_direction_prediction3.ckpt\\assets\n"
     ]
    },
    {
     "name": "stderr",
     "output_type": "stream",
     "text": [
      "INFO:tensorflow:Assets written to: .\\models\\wind_direction_prediction3.ckpt\\assets\n"
     ]
    },
    {
     "name": "stdout",
     "output_type": "stream",
     "text": [
      "..................................\n",
      "Epoch: 400, loss:2.1133,  mae:1.3854,  mape:34.2559,  mse:2.1133,  val_loss:1.1924,  val_mae:0.8536,  val_mape:27.7240,  val_mse:1.1924,  \n",
      "....................................................................................................Wall time: 2min 44s\n"
     ]
    }
   ],
   "source": [
    "%%time\n",
    "\n",
    "EPOCHS = 500\n",
    "batch_size = 6\n",
    "\n",
    "model3 = model3_multilayer_perceptron_with_two_hidden_layer()\n",
    "print('Here is a summary of this model: ')\n",
    "model3.summary()\n",
    "\n",
    "with tf.device('/CPU:0'):\n",
    "    history = model3.fit(\n",
    "        normed_train_data,\n",
    "        train_labels,\n",
    "        batch_size = batch_size,\n",
    "        epochs=EPOCHS,\n",
    "        verbose=0,\n",
    "        shuffle=True,\n",
    "        steps_per_epoch= 1,\n",
    "        validation_data = (normed_valid_dataset, valid_labels),\n",
    "        callbacks=[tfdocs.modeling.EpochDots(), ckpt_callback],\n",
    "    )\n"
   ]
  },
  {
   "cell_type": "code",
   "execution_count": 144,
   "id": "622ae6dc",
   "metadata": {},
   "outputs": [
    {
     "name": "stdout",
     "output_type": "stream",
     "text": [
      "Summary of the results after each epoch: \n"
     ]
    },
    {
     "data": {
      "text/html": [
       "<div>\n",
       "<style scoped>\n",
       "    .dataframe tbody tr th:only-of-type {\n",
       "        vertical-align: middle;\n",
       "    }\n",
       "\n",
       "    .dataframe tbody tr th {\n",
       "        vertical-align: top;\n",
       "    }\n",
       "\n",
       "    .dataframe thead th {\n",
       "        text-align: right;\n",
       "    }\n",
       "</style>\n",
       "<table border=\"1\" class=\"dataframe\">\n",
       "  <thead>\n",
       "    <tr style=\"text-align: right;\">\n",
       "      <th></th>\n",
       "      <th>loss</th>\n",
       "      <th>mae</th>\n",
       "      <th>mse</th>\n",
       "      <th>mape</th>\n",
       "      <th>val_loss</th>\n",
       "      <th>val_mae</th>\n",
       "      <th>val_mse</th>\n",
       "      <th>val_mape</th>\n",
       "      <th>epoch</th>\n",
       "    </tr>\n",
       "  </thead>\n",
       "  <tbody>\n",
       "    <tr>\n",
       "      <th>495</th>\n",
       "      <td>0.388756</td>\n",
       "      <td>0.526941</td>\n",
       "      <td>0.388756</td>\n",
       "      <td>18.671633</td>\n",
       "      <td>1.315751</td>\n",
       "      <td>0.877546</td>\n",
       "      <td>1.315751</td>\n",
       "      <td>26.422226</td>\n",
       "      <td>495</td>\n",
       "    </tr>\n",
       "    <tr>\n",
       "      <th>496</th>\n",
       "      <td>0.330422</td>\n",
       "      <td>0.509140</td>\n",
       "      <td>0.330422</td>\n",
       "      <td>15.409660</td>\n",
       "      <td>1.284178</td>\n",
       "      <td>0.868740</td>\n",
       "      <td>1.284178</td>\n",
       "      <td>26.438292</td>\n",
       "      <td>496</td>\n",
       "    </tr>\n",
       "    <tr>\n",
       "      <th>497</th>\n",
       "      <td>2.235874</td>\n",
       "      <td>1.123788</td>\n",
       "      <td>2.235874</td>\n",
       "      <td>23.218603</td>\n",
       "      <td>1.141429</td>\n",
       "      <td>0.825415</td>\n",
       "      <td>1.141429</td>\n",
       "      <td>26.805586</td>\n",
       "      <td>497</td>\n",
       "    </tr>\n",
       "    <tr>\n",
       "      <th>498</th>\n",
       "      <td>3.370271</td>\n",
       "      <td>1.608061</td>\n",
       "      <td>3.370271</td>\n",
       "      <td>120.607208</td>\n",
       "      <td>1.271114</td>\n",
       "      <td>0.865429</td>\n",
       "      <td>1.271114</td>\n",
       "      <td>26.491125</td>\n",
       "      <td>498</td>\n",
       "    </tr>\n",
       "    <tr>\n",
       "      <th>499</th>\n",
       "      <td>2.565795</td>\n",
       "      <td>1.162034</td>\n",
       "      <td>2.565795</td>\n",
       "      <td>23.793161</td>\n",
       "      <td>1.136341</td>\n",
       "      <td>0.822873</td>\n",
       "      <td>1.136341</td>\n",
       "      <td>26.857140</td>\n",
       "      <td>499</td>\n",
       "    </tr>\n",
       "  </tbody>\n",
       "</table>\n",
       "</div>"
      ],
      "text/plain": [
       "         loss       mae       mse        mape  val_loss   val_mae   val_mse  \\\n",
       "495  0.388756  0.526941  0.388756   18.671633  1.315751  0.877546  1.315751   \n",
       "496  0.330422  0.509140  0.330422   15.409660  1.284178  0.868740  1.284178   \n",
       "497  2.235874  1.123788  2.235874   23.218603  1.141429  0.825415  1.141429   \n",
       "498  3.370271  1.608061  3.370271  120.607208  1.271114  0.865429  1.271114   \n",
       "499  2.565795  1.162034  2.565795   23.793161  1.136341  0.822873  1.136341   \n",
       "\n",
       "      val_mape  epoch  \n",
       "495  26.422226    495  \n",
       "496  26.438292    496  \n",
       "497  26.805586    497  \n",
       "498  26.491125    498  \n",
       "499  26.857140    499  "
      ]
     },
     "execution_count": 144,
     "metadata": {},
     "output_type": "execute_result"
    }
   ],
   "source": [
    "print('Summary of the results after each epoch: ')\n",
    "hist = pd.DataFrame(history.history)\n",
    "hist['epoch'] = history.epoch\n",
    "hist.tail()"
   ]
  },
  {
   "cell_type": "code",
   "execution_count": 145,
   "id": "452560e7",
   "metadata": {},
   "outputs": [],
   "source": [
    "# Test the model after training\n",
    "example_result_4 = model3.predict(normed_test_data)\n"
   ]
  },
  {
   "cell_type": "markdown",
   "id": "abda4b95",
   "metadata": {},
   "source": [
    "## Compare the Actual Values with the predicted values"
   ]
  },
  {
   "cell_type": "code",
   "execution_count": 146,
   "id": "4102c688",
   "metadata": {},
   "outputs": [
    {
     "name": "stdout",
     "output_type": "stream",
     "text": [
      "Predicted Values\n",
      "[[3.4791148]\n",
      " [3.126559 ]\n",
      " [2.1465495]\n",
      " [2.3751214]\n",
      " [2.4493036]\n",
      " [1.9426583]\n",
      " [2.5331452]\n",
      " [3.3152182]\n",
      " [3.4076679]\n",
      " [2.152806 ]]\n",
      "\n",
      "Actual Values\n",
      "1.0\n",
      "4.0\n",
      "3.0\n",
      "5.0\n",
      "4.0\n",
      "3.3\n",
      "5.0\n",
      "4.0\n",
      "4.0\n",
      "3.0\n"
     ]
    }
   ],
   "source": [
    "print('Predicted Values')\n",
    "print(example_result_4[:10])\n",
    "print()\n",
    "print('Actual Values')\n",
    "print(test_labels[:10].to_string(index=False))"
   ]
  },
  {
   "cell_type": "markdown",
   "id": "ea887bdc",
   "metadata": {},
   "source": [
    "## See how the training went by plotting the loss/mse across epochs"
   ]
  },
  {
   "cell_type": "code",
   "execution_count": 147,
   "id": "b36a9b25",
   "metadata": {},
   "outputs": [
    {
     "data": {
      "text/plain": [
       "Text(0, 0.5, 'MAE [wind-direction]')"
      ]
     },
     "execution_count": 147,
     "metadata": {},
     "output_type": "execute_result"
    },
    {
     "data": {
      "image/png": "[encoded data removed]",
      "text/plain": [
       "<Figure size 432x288 with 1 Axes>"
      ]
     },
     "metadata": {
      "needs_background": "light"
     },
     "output_type": "display_data"
    }
   ],
   "source": [
    "plotter = tfdocs.plots.HistoryPlotter(smoothing_std=2)\n",
    "\n",
    "plotter.plot({'Basic': history}, metric = 'mae')\n",
    "plt.ylim([0,200])\n",
    "plt.ylabel('MAE [wind-direction]')"
   ]
  },
  {
   "cell_type": "code",
   "execution_count": 148,
   "id": "911a87b4",
   "metadata": {},
   "outputs": [
    {
     "data": {
      "text/plain": [
       "Text(0, 0.5, 'MSE [wind-direction]')"
      ]
     },
     "execution_count": 148,
     "metadata": {},
     "output_type": "execute_result"
    },
    {
     "data": {
      "image/png": "[encoded data removed]",
      "text/plain": [
       "<Figure size 432x288 with 1 Axes>"
      ]
     },
     "metadata": {
      "needs_background": "light"
     },
     "output_type": "display_data"
    }
   ],
   "source": [
    "plotter.plot({'Basic': history}, metric = 'mse')\n",
    "plt.ylim([0,5000])\n",
    "plt.ylabel('MSE [wind-direction]')"
   ]
  },
  {
   "cell_type": "code",
   "execution_count": 149,
   "id": "081f9491",
   "metadata": {},
   "outputs": [
    {
     "name": "stdout",
     "output_type": "stream",
     "text": [
      "Error Rate on Train Split: \n",
      "6/6 - 0s - loss: 2.1756 - mae: 1.0724 - mse: 2.1756 - mape: 17102470.0000\n",
      "Train set Mean Abs Error :  1.07\n",
      "Train set Mean Square Error :  2.18\n"
     ]
    }
   ],
   "source": [
    "print('Error Rate on Train Split: ')\n",
    "loss, mae, mse, mape = model3.evaluate(normed_train_data, train_labels, verbose=2)\n",
    "\n",
    "print('Train set Mean Abs Error : {:5.2f}'.format(mae))\n",
    "print('Train set Mean Square Error : {:5.2f}'.format(mse))"
   ]
  },
  {
   "cell_type": "code",
   "execution_count": 150,
   "id": "19e5a40d",
   "metadata": {},
   "outputs": [
    {
     "name": "stdout",
     "output_type": "stream",
     "text": [
      "Error Rate on Evaluation  Split: \n",
      "2/2 - 1s - loss: 1.1363 - mae: 0.8229 - mse: 1.1363 - mape: 26.8571\n",
      "Validation set Mean Abs Error :  0.82\n",
      "Validation set Mean Square Error :  1.14\n"
     ]
    }
   ],
   "source": [
    "print('Error Rate on Evaluation  Split: ')\n",
    "loss, mae, mse, mape = model3.evaluate(normed_valid_dataset, valid_labels, verbose=2)\n",
    "\n",
    "print('Validation set Mean Abs Error : {:5.2f}'.format(mae))\n",
    "print('Validation set Mean Square Error : {:5.2f}'.format(mse))"
   ]
  },
  {
   "cell_type": "code",
   "execution_count": 151,
   "id": "ad95ed6a",
   "metadata": {},
   "outputs": [
    {
     "name": "stdout",
     "output_type": "stream",
     "text": [
      "Error Rate on Test  Split: \n",
      "2/2 - 0s - loss: 1.7634 - mae: 1.0729 - mse: 1.7634 - mape: 39.2305\n",
      "Testing set Mean Abs Error :  1.07\n",
      "Testing set Mean Square Error :  1.76\n"
     ]
    }
   ],
   "source": [
    "print('Error Rate on Test  Split: ')\n",
    "loss, mae, mse, mape = model3.evaluate(normed_test_data, test_labels, verbose=2)\n",
    "\n",
    "print('Testing set Mean Abs Error : {:5.2f}'.format(mae))\n",
    "print('Testing set Mean Square Error : {:5.2f}'.format(mse))"
   ]
  },
  {
   "cell_type": "code",
   "execution_count": 152,
   "id": "7daa6539",
   "metadata": {},
   "outputs": [
    {
     "data": {
      "image/png": "[encoded data removed]",
      "text/plain": [
       "<Figure size 432x288 with 1 Axes>"
      ]
     },
     "metadata": {
      "needs_background": "light"
     },
     "output_type": "display_data"
    }
   ],
   "source": [
    "train_predictions = model3.predict(normed_train_data).flatten()\n",
    "\n",
    "a = plt.axes(aspect='equal')\n",
    "plt.scatter(train_labels, train_predictions)\n",
    "plt.xlabel('True Values [wind-direction]')\n",
    "plt.ylabel('Predictions [wind-direction]')\n",
    "lims = [0, 350]\n",
    "plt.xlim(lims)\n",
    "plt.ylim(lims)\n",
    "_ = plt.plot(lims, lims)"
   ]
  },
  {
   "cell_type": "code",
   "execution_count": 153,
   "id": "3d05ba44",
   "metadata": {},
   "outputs": [
    {
     "data": {
      "image/png": "[encoded data removed]",
      "text/plain": [
       "<Figure size 432x288 with 1 Axes>"
      ]
     },
     "metadata": {
      "needs_background": "light"
     },
     "output_type": "display_data"
    }
   ],
   "source": [
    "test_predictions = model3.predict(normed_test_data).flatten()\n",
    "\n",
    "a = plt.axes(aspect='equal')\n",
    "plt.scatter(test_labels, test_predictions)\n",
    "plt.xlabel('True Values [wind-direction]')\n",
    "plt.ylabel('Predictions [wind-direction]')\n",
    "lims = [0, 350]\n",
    "plt.xlim(lims)\n",
    "plt.ylim(lims)\n",
    "_ = plt.plot(lims, lims)"
   ]
  },
  {
   "cell_type": "code",
   "execution_count": 154,
   "id": "2fbdc2ab",
   "metadata": {},
   "outputs": [
    {
     "data": {
      "image/png": "[encoded data removed]",
      "text/plain": [
       "<Figure size 432x288 with 1 Axes>"
      ]
     },
     "metadata": {
      "needs_background": "light"
     },
     "output_type": "display_data"
    }
   ],
   "source": [
    "# error distribution.\n",
    "error = test_predictions - test_labels\n",
    "plt.hist(error, bins = 25)\n",
    "plt.xlabel(\"Prediction Error [wind-speed]\")\n",
    "_ = plt.ylabel(\"count\")"
   ]
  },
  {
   "cell_type": "code",
   "execution_count": null,
   "id": "cd32d25d",
   "metadata": {},
   "outputs": [],
   "source": []
  },
  {
   "cell_type": "code",
   "execution_count": null,
   "id": "0aaf0d69",
   "metadata": {},
   "outputs": [],
   "source": []
  }
 ],
 "metadata": {
  "kernelspec": {
   "display_name": "Python 3 (ipykernel)",
   "language": "python",
   "name": "python3"
  },
  "language_info": {
   "codemirror_mode": {
    "name": "ipython",
    "version": 3
   },
   "file_extension": ".py",
   "mimetype": "text/x-python",
   "name": "python",
   "nbconvert_exporter": "python",
   "pygments_lexer": "ipython3",
   "version": "3.9.6"
  }
 },
 "nbformat": 4,
 "nbformat_minor": 5
}

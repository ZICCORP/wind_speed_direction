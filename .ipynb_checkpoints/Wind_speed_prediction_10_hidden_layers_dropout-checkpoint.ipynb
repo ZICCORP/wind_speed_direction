{
 "cells": [
  {
   "cell_type": "markdown",
   "id": "2869aab5",
   "metadata": {},
   "source": [
    "### import os for  operating system operations e.g., creating a folder"
   ]
  },
  {
   "cell_type": "code",
   "execution_count": 1,
   "id": "14b84b90",
   "metadata": {},
   "outputs": [],
   "source": [
    "import os"
   ]
  },
  {
   "cell_type": "markdown",
   "id": "a1387a94",
   "metadata": {},
   "source": [
    "### Tensorflow and keras are two packages for creating neural network models."
   ]
  },
  {
   "cell_type": "code",
   "execution_count": 2,
   "id": "142f9f44",
   "metadata": {},
   "outputs": [],
   "source": [
    "\n",
    "import tensorflow as tf\n",
    "from tensorflow import keras"
   ]
  },
  {
   "cell_type": "markdown",
   "id": "037b0c53",
   "metadata": {},
   "source": [
    "### For splitting our dataset into training and test set"
   ]
  },
  {
   "cell_type": "code",
   "execution_count": 3,
   "id": "fc71c4a0",
   "metadata": {},
   "outputs": [],
   "source": [
    "\n",
    "from sklearn.model_selection import train_test_split"
   ]
  },
  {
   "cell_type": "markdown",
   "id": "98d22649",
   "metadata": {},
   "source": [
    "### print tensorflow (TF) version. Make sure you have at least tensorflow 2.1.0"
   ]
  },
  {
   "cell_type": "code",
   "execution_count": 4,
   "id": "ec10543e",
   "metadata": {},
   "outputs": [
    {
     "name": "stdout",
     "output_type": "stream",
     "text": [
      "Tensorflow version: 2.6.0\n"
     ]
    }
   ],
   "source": [
    "\n",
    "print(f\"Tensorflow version: {tf.version.VERSION}\")"
   ]
  },
  {
   "cell_type": "code",
   "execution_count": 5,
   "id": "d31ecb4c",
   "metadata": {},
   "outputs": [],
   "source": [
    "import pathlib # for processing a path e.g c:\\documents\\files\\testset.csv\n",
    "import matplotlib.pyplot as plt # for plotting data and creating different charts.\n",
    "import numpy as np # for math and arrays\n",
    "import pandas as pd # data frame for the data.\n",
    "import seaborn as sns # plotting."
   ]
  },
  {
   "cell_type": "markdown",
   "id": "158856ce",
   "metadata": {},
   "source": [
    "### Read dataset"
   ]
  },
  {
   "cell_type": "code",
   "execution_count": 6,
   "id": "5237014e",
   "metadata": {},
   "outputs": [],
   "source": [
    "\n",
    "dataset = pd.read_csv('dataset2.csv')"
   ]
  },
  {
   "cell_type": "markdown",
   "id": "0ef50c1b",
   "metadata": {},
   "source": [
    "### display dataset"
   ]
  },
  {
   "cell_type": "code",
   "execution_count": 7,
   "id": "912f8f08",
   "metadata": {
    "scrolled": true
   },
   "outputs": [
    {
     "data": {
      "text/html": [
       "<div>\n",
       "<style scoped>\n",
       "    .dataframe tbody tr th:only-of-type {\n",
       "        vertical-align: middle;\n",
       "    }\n",
       "\n",
       "    .dataframe tbody tr th {\n",
       "        vertical-align: top;\n",
       "    }\n",
       "\n",
       "    .dataframe thead th {\n",
       "        text-align: right;\n",
       "    }\n",
       "</style>\n",
       "<table border=\"1\" class=\"dataframe\">\n",
       "  <thead>\n",
       "    <tr style=\"text-align: right;\">\n",
       "      <th></th>\n",
       "      <th>DATE</th>\n",
       "      <th>MAXIMUM-TEMPERATURE</th>\n",
       "      <th>MINIMUM-TEMPERATURE</th>\n",
       "      <th>WIND-DIRECTION</th>\n",
       "      <th>WIND-SPEED</th>\n",
       "      <th>WIND-RUN</th>\n",
       "      <th>RELATIVE-HUMIDITY</th>\n",
       "      <th>AIR-PRESSURE</th>\n",
       "    </tr>\n",
       "  </thead>\n",
       "  <tbody>\n",
       "    <tr>\n",
       "      <th>0</th>\n",
       "      <td>Jan-95</td>\n",
       "      <td>33.3</td>\n",
       "      <td>16.4</td>\n",
       "      <td>73</td>\n",
       "      <td>2.0</td>\n",
       "      <td>NaN</td>\n",
       "      <td>27</td>\n",
       "      <td>1014.5</td>\n",
       "    </tr>\n",
       "    <tr>\n",
       "      <th>1</th>\n",
       "      <td>Feb-95</td>\n",
       "      <td>35.9</td>\n",
       "      <td>18.6</td>\n",
       "      <td>123</td>\n",
       "      <td>3.0</td>\n",
       "      <td>NaN</td>\n",
       "      <td>23</td>\n",
       "      <td>1013.7</td>\n",
       "    </tr>\n",
       "    <tr>\n",
       "      <th>2</th>\n",
       "      <td>Mar-95</td>\n",
       "      <td>40.5</td>\n",
       "      <td>25.0</td>\n",
       "      <td>191</td>\n",
       "      <td>3.0</td>\n",
       "      <td>NaN</td>\n",
       "      <td>32</td>\n",
       "      <td>1009.1</td>\n",
       "    </tr>\n",
       "    <tr>\n",
       "      <th>3</th>\n",
       "      <td>Apr-95</td>\n",
       "      <td>40.1</td>\n",
       "      <td>27.2</td>\n",
       "      <td>196</td>\n",
       "      <td>4.0</td>\n",
       "      <td>NaN</td>\n",
       "      <td>43</td>\n",
       "      <td>1010.5</td>\n",
       "    </tr>\n",
       "    <tr>\n",
       "      <th>4</th>\n",
       "      <td>May-95</td>\n",
       "      <td>36.8</td>\n",
       "      <td>25.7</td>\n",
       "      <td>155</td>\n",
       "      <td>3.0</td>\n",
       "      <td>NaN</td>\n",
       "      <td>61</td>\n",
       "      <td>1010.3</td>\n",
       "    </tr>\n",
       "    <tr>\n",
       "      <th>...</th>\n",
       "      <td>...</td>\n",
       "      <td>...</td>\n",
       "      <td>...</td>\n",
       "      <td>...</td>\n",
       "      <td>...</td>\n",
       "      <td>...</td>\n",
       "      <td>...</td>\n",
       "      <td>...</td>\n",
       "    </tr>\n",
       "    <tr>\n",
       "      <th>303</th>\n",
       "      <td>NaN</td>\n",
       "      <td>40.7</td>\n",
       "      <td>29.4</td>\n",
       "      <td>270</td>\n",
       "      <td>1.5</td>\n",
       "      <td>47.4</td>\n",
       "      <td>48</td>\n",
       "      <td>1003.3</td>\n",
       "    </tr>\n",
       "    <tr>\n",
       "      <th>304</th>\n",
       "      <td>NaN</td>\n",
       "      <td>37.7</td>\n",
       "      <td>27.2</td>\n",
       "      <td>240</td>\n",
       "      <td>2.1</td>\n",
       "      <td>52.8</td>\n",
       "      <td>61</td>\n",
       "      <td>1005.7</td>\n",
       "    </tr>\n",
       "    <tr>\n",
       "      <th>305</th>\n",
       "      <td>NaN</td>\n",
       "      <td>33.8</td>\n",
       "      <td>25.4</td>\n",
       "      <td>230</td>\n",
       "      <td>1.9</td>\n",
       "      <td>52.1</td>\n",
       "      <td>72</td>\n",
       "      <td>1008.3</td>\n",
       "    </tr>\n",
       "    <tr>\n",
       "      <th>306</th>\n",
       "      <td>NaN</td>\n",
       "      <td>31.5</td>\n",
       "      <td>24.2</td>\n",
       "      <td>220</td>\n",
       "      <td>1.9</td>\n",
       "      <td>46.4</td>\n",
       "      <td>79</td>\n",
       "      <td>1010.0</td>\n",
       "    </tr>\n",
       "    <tr>\n",
       "      <th>307</th>\n",
       "      <td>NaN</td>\n",
       "      <td>31.8</td>\n",
       "      <td>24.4</td>\n",
       "      <td>270</td>\n",
       "      <td>1.6</td>\n",
       "      <td>42.4</td>\n",
       "      <td>76</td>\n",
       "      <td>1009.6</td>\n",
       "    </tr>\n",
       "  </tbody>\n",
       "</table>\n",
       "<p>308 rows × 8 columns</p>\n",
       "</div>"
      ],
      "text/plain": [
       "       DATE  MAXIMUM-TEMPERATURE  MINIMUM-TEMPERATURE  WIND-DIRECTION  \\\n",
       "0    Jan-95                 33.3                 16.4              73   \n",
       "1    Feb-95                 35.9                 18.6             123   \n",
       "2    Mar-95                 40.5                 25.0             191   \n",
       "3    Apr-95                 40.1                 27.2             196   \n",
       "4    May-95                 36.8                 25.7             155   \n",
       "..      ...                  ...                  ...             ...   \n",
       "303     NaN                 40.7                 29.4             270   \n",
       "304     NaN                 37.7                 27.2             240   \n",
       "305     NaN                 33.8                 25.4             230   \n",
       "306     NaN                 31.5                 24.2             220   \n",
       "307     NaN                 31.8                 24.4             270   \n",
       "\n",
       "     WIND-SPEED  WIND-RUN  RELATIVE-HUMIDITY  AIR-PRESSURE  \n",
       "0           2.0       NaN                 27        1014.5  \n",
       "1           3.0       NaN                 23        1013.7  \n",
       "2           3.0       NaN                 32        1009.1  \n",
       "3           4.0       NaN                 43        1010.5  \n",
       "4           3.0       NaN                 61        1010.3  \n",
       "..          ...       ...                ...           ...  \n",
       "303         1.5      47.4                 48        1003.3  \n",
       "304         2.1      52.8                 61        1005.7  \n",
       "305         1.9      52.1                 72        1008.3  \n",
       "306         1.9      46.4                 79        1010.0  \n",
       "307         1.6      42.4                 76        1009.6  \n",
       "\n",
       "[308 rows x 8 columns]"
      ]
     },
     "execution_count": 7,
     "metadata": {},
     "output_type": "execute_result"
    }
   ],
   "source": [
    "true_values = dataset['WIND-SPEED']\n",
    "dataset.head(-10)"
   ]
  },
  {
   "cell_type": "markdown",
   "id": "653dc3f5",
   "metadata": {},
   "source": [
    "### dataset characteristics"
   ]
  },
  {
   "cell_type": "code",
   "execution_count": 8,
   "id": "9259209e",
   "metadata": {
    "scrolled": true
   },
   "outputs": [
    {
     "data": {
      "text/html": [
       "<div>\n",
       "<style scoped>\n",
       "    .dataframe tbody tr th:only-of-type {\n",
       "        vertical-align: middle;\n",
       "    }\n",
       "\n",
       "    .dataframe tbody tr th {\n",
       "        vertical-align: top;\n",
       "    }\n",
       "\n",
       "    .dataframe thead th {\n",
       "        text-align: right;\n",
       "    }\n",
       "</style>\n",
       "<table border=\"1\" class=\"dataframe\">\n",
       "  <thead>\n",
       "    <tr style=\"text-align: right;\">\n",
       "      <th></th>\n",
       "      <th>MAXIMUM-TEMPERATURE</th>\n",
       "      <th>MINIMUM-TEMPERATURE</th>\n",
       "      <th>WIND-DIRECTION</th>\n",
       "      <th>WIND-SPEED</th>\n",
       "      <th>WIND-RUN</th>\n",
       "      <th>RELATIVE-HUMIDITY</th>\n",
       "      <th>AIR-PRESSURE</th>\n",
       "    </tr>\n",
       "  </thead>\n",
       "  <tbody>\n",
       "    <tr>\n",
       "      <th>count</th>\n",
       "      <td>318.000000</td>\n",
       "      <td>318.000000</td>\n",
       "      <td>318.000000</td>\n",
       "      <td>318.000000</td>\n",
       "      <td>66.000000</td>\n",
       "      <td>318.000000</td>\n",
       "      <td>318.000000</td>\n",
       "    </tr>\n",
       "    <tr>\n",
       "      <th>mean</th>\n",
       "      <td>35.168868</td>\n",
       "      <td>23.039937</td>\n",
       "      <td>165.679245</td>\n",
       "      <td>3.449686</td>\n",
       "      <td>48.207576</td>\n",
       "      <td>53.556604</td>\n",
       "      <td>1011.990566</td>\n",
       "    </tr>\n",
       "    <tr>\n",
       "      <th>std</th>\n",
       "      <td>3.219431</td>\n",
       "      <td>3.183020</td>\n",
       "      <td>54.287681</td>\n",
       "      <td>1.456645</td>\n",
       "      <td>16.390328</td>\n",
       "      <td>21.502584</td>\n",
       "      <td>3.587883</td>\n",
       "    </tr>\n",
       "    <tr>\n",
       "      <th>min</th>\n",
       "      <td>28.500000</td>\n",
       "      <td>13.900000</td>\n",
       "      <td>58.000000</td>\n",
       "      <td>0.000000</td>\n",
       "      <td>18.900000</td>\n",
       "      <td>11.000000</td>\n",
       "      <td>1002.300000</td>\n",
       "    </tr>\n",
       "    <tr>\n",
       "      <th>25%</th>\n",
       "      <td>32.200000</td>\n",
       "      <td>21.000000</td>\n",
       "      <td>120.000000</td>\n",
       "      <td>2.225000</td>\n",
       "      <td>33.300000</td>\n",
       "      <td>32.000000</td>\n",
       "      <td>1010.400000</td>\n",
       "    </tr>\n",
       "    <tr>\n",
       "      <th>50%</th>\n",
       "      <td>35.000000</td>\n",
       "      <td>23.600000</td>\n",
       "      <td>163.500000</td>\n",
       "      <td>3.000000</td>\n",
       "      <td>47.600000</td>\n",
       "      <td>54.000000</td>\n",
       "      <td>1013.200000</td>\n",
       "    </tr>\n",
       "    <tr>\n",
       "      <th>75%</th>\n",
       "      <td>37.300000</td>\n",
       "      <td>25.000000</td>\n",
       "      <td>204.750000</td>\n",
       "      <td>4.000000</td>\n",
       "      <td>61.350000</td>\n",
       "      <td>75.000000</td>\n",
       "      <td>1014.300000</td>\n",
       "    </tr>\n",
       "    <tr>\n",
       "      <th>max</th>\n",
       "      <td>41.900000</td>\n",
       "      <td>29.400000</td>\n",
       "      <td>307.000000</td>\n",
       "      <td>12.000000</td>\n",
       "      <td>98.300000</td>\n",
       "      <td>85.000000</td>\n",
       "      <td>1036.000000</td>\n",
       "    </tr>\n",
       "  </tbody>\n",
       "</table>\n",
       "</div>"
      ],
      "text/plain": [
       "       MAXIMUM-TEMPERATURE  MINIMUM-TEMPERATURE  WIND-DIRECTION  WIND-SPEED  \\\n",
       "count           318.000000           318.000000      318.000000  318.000000   \n",
       "mean             35.168868            23.039937      165.679245    3.449686   \n",
       "std               3.219431             3.183020       54.287681    1.456645   \n",
       "min              28.500000            13.900000       58.000000    0.000000   \n",
       "25%              32.200000            21.000000      120.000000    2.225000   \n",
       "50%              35.000000            23.600000      163.500000    3.000000   \n",
       "75%              37.300000            25.000000      204.750000    4.000000   \n",
       "max              41.900000            29.400000      307.000000   12.000000   \n",
       "\n",
       "        WIND-RUN  RELATIVE-HUMIDITY  AIR-PRESSURE  \n",
       "count  66.000000         318.000000    318.000000  \n",
       "mean   48.207576          53.556604   1011.990566  \n",
       "std    16.390328          21.502584      3.587883  \n",
       "min    18.900000          11.000000   1002.300000  \n",
       "25%    33.300000          32.000000   1010.400000  \n",
       "50%    47.600000          54.000000   1013.200000  \n",
       "75%    61.350000          75.000000   1014.300000  \n",
       "max    98.300000          85.000000   1036.000000  "
      ]
     },
     "execution_count": 8,
     "metadata": {},
     "output_type": "execute_result"
    }
   ],
   "source": [
    "\n",
    "dataset.describe()"
   ]
  },
  {
   "cell_type": "markdown",
   "id": "08ce4100",
   "metadata": {},
   "source": [
    "### Check for null and NaN values"
   ]
  },
  {
   "cell_type": "code",
   "execution_count": 9,
   "id": "24bba101",
   "metadata": {},
   "outputs": [
    {
     "data": {
      "text/plain": [
       "DATE                   113\n",
       "MAXIMUM-TEMPERATURE      0\n",
       "MINIMUM-TEMPERATURE      0\n",
       "WIND-DIRECTION           0\n",
       "WIND-SPEED               0\n",
       "WIND-RUN               252\n",
       "RELATIVE-HUMIDITY        0\n",
       "AIR-PRESSURE             0\n",
       "dtype: int64"
      ]
     },
     "execution_count": 9,
     "metadata": {},
     "output_type": "execute_result"
    }
   ],
   "source": [
    "\n",
    "dataset.isna().sum()"
   ]
  },
  {
   "cell_type": "code",
   "execution_count": 10,
   "id": "081c2667",
   "metadata": {},
   "outputs": [],
   "source": [
    "median =dataset['WIND-RUN'].median()\n",
    "median\n",
    "dataset[\"WIND-RUN\"].fillna(median, inplace=True)"
   ]
  },
  {
   "cell_type": "markdown",
   "id": "27a01151",
   "metadata": {},
   "source": [
    "### copy dataset"
   ]
  },
  {
   "cell_type": "code",
   "execution_count": 11,
   "id": "9e6fb94d",
   "metadata": {},
   "outputs": [
    {
     "data": {
      "text/html": [
       "<div>\n",
       "<style scoped>\n",
       "    .dataframe tbody tr th:only-of-type {\n",
       "        vertical-align: middle;\n",
       "    }\n",
       "\n",
       "    .dataframe tbody tr th {\n",
       "        vertical-align: top;\n",
       "    }\n",
       "\n",
       "    .dataframe thead th {\n",
       "        text-align: right;\n",
       "    }\n",
       "</style>\n",
       "<table border=\"1\" class=\"dataframe\">\n",
       "  <thead>\n",
       "    <tr style=\"text-align: right;\">\n",
       "      <th></th>\n",
       "      <th>DATE</th>\n",
       "      <th>MAXIMUM-TEMPERATURE</th>\n",
       "      <th>MINIMUM-TEMPERATURE</th>\n",
       "      <th>WIND-DIRECTION</th>\n",
       "      <th>WIND-SPEED</th>\n",
       "      <th>WIND-RUN</th>\n",
       "      <th>RELATIVE-HUMIDITY</th>\n",
       "      <th>AIR-PRESSURE</th>\n",
       "    </tr>\n",
       "  </thead>\n",
       "  <tbody>\n",
       "    <tr>\n",
       "      <th>0</th>\n",
       "      <td>Jan-95</td>\n",
       "      <td>33.3</td>\n",
       "      <td>16.4</td>\n",
       "      <td>73</td>\n",
       "      <td>2.0</td>\n",
       "      <td>47.6</td>\n",
       "      <td>27</td>\n",
       "      <td>1014.5</td>\n",
       "    </tr>\n",
       "    <tr>\n",
       "      <th>1</th>\n",
       "      <td>Feb-95</td>\n",
       "      <td>35.9</td>\n",
       "      <td>18.6</td>\n",
       "      <td>123</td>\n",
       "      <td>3.0</td>\n",
       "      <td>47.6</td>\n",
       "      <td>23</td>\n",
       "      <td>1013.7</td>\n",
       "    </tr>\n",
       "    <tr>\n",
       "      <th>2</th>\n",
       "      <td>Mar-95</td>\n",
       "      <td>40.5</td>\n",
       "      <td>25.0</td>\n",
       "      <td>191</td>\n",
       "      <td>3.0</td>\n",
       "      <td>47.6</td>\n",
       "      <td>32</td>\n",
       "      <td>1009.1</td>\n",
       "    </tr>\n",
       "    <tr>\n",
       "      <th>3</th>\n",
       "      <td>Apr-95</td>\n",
       "      <td>40.1</td>\n",
       "      <td>27.2</td>\n",
       "      <td>196</td>\n",
       "      <td>4.0</td>\n",
       "      <td>47.6</td>\n",
       "      <td>43</td>\n",
       "      <td>1010.5</td>\n",
       "    </tr>\n",
       "    <tr>\n",
       "      <th>4</th>\n",
       "      <td>May-95</td>\n",
       "      <td>36.8</td>\n",
       "      <td>25.7</td>\n",
       "      <td>155</td>\n",
       "      <td>3.0</td>\n",
       "      <td>47.6</td>\n",
       "      <td>61</td>\n",
       "      <td>1010.3</td>\n",
       "    </tr>\n",
       "    <tr>\n",
       "      <th>...</th>\n",
       "      <td>...</td>\n",
       "      <td>...</td>\n",
       "      <td>...</td>\n",
       "      <td>...</td>\n",
       "      <td>...</td>\n",
       "      <td>...</td>\n",
       "      <td>...</td>\n",
       "      <td>...</td>\n",
       "    </tr>\n",
       "    <tr>\n",
       "      <th>303</th>\n",
       "      <td>NaN</td>\n",
       "      <td>40.7</td>\n",
       "      <td>29.4</td>\n",
       "      <td>270</td>\n",
       "      <td>1.5</td>\n",
       "      <td>47.4</td>\n",
       "      <td>48</td>\n",
       "      <td>1003.3</td>\n",
       "    </tr>\n",
       "    <tr>\n",
       "      <th>304</th>\n",
       "      <td>NaN</td>\n",
       "      <td>37.7</td>\n",
       "      <td>27.2</td>\n",
       "      <td>240</td>\n",
       "      <td>2.1</td>\n",
       "      <td>52.8</td>\n",
       "      <td>61</td>\n",
       "      <td>1005.7</td>\n",
       "    </tr>\n",
       "    <tr>\n",
       "      <th>305</th>\n",
       "      <td>NaN</td>\n",
       "      <td>33.8</td>\n",
       "      <td>25.4</td>\n",
       "      <td>230</td>\n",
       "      <td>1.9</td>\n",
       "      <td>52.1</td>\n",
       "      <td>72</td>\n",
       "      <td>1008.3</td>\n",
       "    </tr>\n",
       "    <tr>\n",
       "      <th>306</th>\n",
       "      <td>NaN</td>\n",
       "      <td>31.5</td>\n",
       "      <td>24.2</td>\n",
       "      <td>220</td>\n",
       "      <td>1.9</td>\n",
       "      <td>46.4</td>\n",
       "      <td>79</td>\n",
       "      <td>1010.0</td>\n",
       "    </tr>\n",
       "    <tr>\n",
       "      <th>307</th>\n",
       "      <td>NaN</td>\n",
       "      <td>31.8</td>\n",
       "      <td>24.4</td>\n",
       "      <td>270</td>\n",
       "      <td>1.6</td>\n",
       "      <td>42.4</td>\n",
       "      <td>76</td>\n",
       "      <td>1009.6</td>\n",
       "    </tr>\n",
       "  </tbody>\n",
       "</table>\n",
       "<p>308 rows × 8 columns</p>\n",
       "</div>"
      ],
      "text/plain": [
       "       DATE  MAXIMUM-TEMPERATURE  MINIMUM-TEMPERATURE  WIND-DIRECTION  \\\n",
       "0    Jan-95                 33.3                 16.4              73   \n",
       "1    Feb-95                 35.9                 18.6             123   \n",
       "2    Mar-95                 40.5                 25.0             191   \n",
       "3    Apr-95                 40.1                 27.2             196   \n",
       "4    May-95                 36.8                 25.7             155   \n",
       "..      ...                  ...                  ...             ...   \n",
       "303     NaN                 40.7                 29.4             270   \n",
       "304     NaN                 37.7                 27.2             240   \n",
       "305     NaN                 33.8                 25.4             230   \n",
       "306     NaN                 31.5                 24.2             220   \n",
       "307     NaN                 31.8                 24.4             270   \n",
       "\n",
       "     WIND-SPEED  WIND-RUN  RELATIVE-HUMIDITY  AIR-PRESSURE  \n",
       "0           2.0      47.6                 27        1014.5  \n",
       "1           3.0      47.6                 23        1013.7  \n",
       "2           3.0      47.6                 32        1009.1  \n",
       "3           4.0      47.6                 43        1010.5  \n",
       "4           3.0      47.6                 61        1010.3  \n",
       "..          ...       ...                ...           ...  \n",
       "303         1.5      47.4                 48        1003.3  \n",
       "304         2.1      52.8                 61        1005.7  \n",
       "305         1.9      52.1                 72        1008.3  \n",
       "306         1.9      46.4                 79        1010.0  \n",
       "307         1.6      42.4                 76        1009.6  \n",
       "\n",
       "[308 rows x 8 columns]"
      ]
     },
     "execution_count": 11,
     "metadata": {},
     "output_type": "execute_result"
    }
   ],
   "source": [
    "dataset.head(-10)"
   ]
  },
  {
   "cell_type": "code",
   "execution_count": 12,
   "id": "54259a0e",
   "metadata": {},
   "outputs": [],
   "source": [
    "\n",
    "df = dataset[:]"
   ]
  },
  {
   "cell_type": "markdown",
   "id": "6de953ce",
   "metadata": {},
   "source": [
    "### remove the date column"
   ]
  },
  {
   "cell_type": "code",
   "execution_count": 13,
   "id": "f8fb6f78",
   "metadata": {},
   "outputs": [],
   "source": [
    "\n",
    "del df['DATE']"
   ]
  },
  {
   "cell_type": "code",
   "execution_count": 14,
   "id": "c34b6014",
   "metadata": {},
   "outputs": [
    {
     "data": {
      "text/html": [
       "<div>\n",
       "<style scoped>\n",
       "    .dataframe tbody tr th:only-of-type {\n",
       "        vertical-align: middle;\n",
       "    }\n",
       "\n",
       "    .dataframe tbody tr th {\n",
       "        vertical-align: top;\n",
       "    }\n",
       "\n",
       "    .dataframe thead th {\n",
       "        text-align: right;\n",
       "    }\n",
       "</style>\n",
       "<table border=\"1\" class=\"dataframe\">\n",
       "  <thead>\n",
       "    <tr style=\"text-align: right;\">\n",
       "      <th></th>\n",
       "      <th>MAXIMUM-TEMPERATURE</th>\n",
       "      <th>MINIMUM-TEMPERATURE</th>\n",
       "      <th>WIND-DIRECTION</th>\n",
       "      <th>WIND-SPEED</th>\n",
       "      <th>WIND-RUN</th>\n",
       "      <th>RELATIVE-HUMIDITY</th>\n",
       "      <th>AIR-PRESSURE</th>\n",
       "    </tr>\n",
       "  </thead>\n",
       "  <tbody>\n",
       "    <tr>\n",
       "      <th>0</th>\n",
       "      <td>33.3</td>\n",
       "      <td>16.4</td>\n",
       "      <td>73</td>\n",
       "      <td>2.0</td>\n",
       "      <td>47.6</td>\n",
       "      <td>27</td>\n",
       "      <td>1014.5</td>\n",
       "    </tr>\n",
       "    <tr>\n",
       "      <th>1</th>\n",
       "      <td>35.9</td>\n",
       "      <td>18.6</td>\n",
       "      <td>123</td>\n",
       "      <td>3.0</td>\n",
       "      <td>47.6</td>\n",
       "      <td>23</td>\n",
       "      <td>1013.7</td>\n",
       "    </tr>\n",
       "    <tr>\n",
       "      <th>2</th>\n",
       "      <td>40.5</td>\n",
       "      <td>25.0</td>\n",
       "      <td>191</td>\n",
       "      <td>3.0</td>\n",
       "      <td>47.6</td>\n",
       "      <td>32</td>\n",
       "      <td>1009.1</td>\n",
       "    </tr>\n",
       "    <tr>\n",
       "      <th>3</th>\n",
       "      <td>40.1</td>\n",
       "      <td>27.2</td>\n",
       "      <td>196</td>\n",
       "      <td>4.0</td>\n",
       "      <td>47.6</td>\n",
       "      <td>43</td>\n",
       "      <td>1010.5</td>\n",
       "    </tr>\n",
       "    <tr>\n",
       "      <th>4</th>\n",
       "      <td>36.8</td>\n",
       "      <td>25.7</td>\n",
       "      <td>155</td>\n",
       "      <td>3.0</td>\n",
       "      <td>47.6</td>\n",
       "      <td>61</td>\n",
       "      <td>1010.3</td>\n",
       "    </tr>\n",
       "    <tr>\n",
       "      <th>...</th>\n",
       "      <td>...</td>\n",
       "      <td>...</td>\n",
       "      <td>...</td>\n",
       "      <td>...</td>\n",
       "      <td>...</td>\n",
       "      <td>...</td>\n",
       "      <td>...</td>\n",
       "    </tr>\n",
       "    <tr>\n",
       "      <th>313</th>\n",
       "      <td>36.0</td>\n",
       "      <td>22.4</td>\n",
       "      <td>170</td>\n",
       "      <td>3.4</td>\n",
       "      <td>63.7</td>\n",
       "      <td>26</td>\n",
       "      <td>1006.9</td>\n",
       "    </tr>\n",
       "    <tr>\n",
       "      <th>314</th>\n",
       "      <td>39.7</td>\n",
       "      <td>26.1</td>\n",
       "      <td>220</td>\n",
       "      <td>2.1</td>\n",
       "      <td>73.7</td>\n",
       "      <td>35</td>\n",
       "      <td>1005.6</td>\n",
       "    </tr>\n",
       "    <tr>\n",
       "      <th>315</th>\n",
       "      <td>39.7</td>\n",
       "      <td>28.8</td>\n",
       "      <td>200</td>\n",
       "      <td>4.6</td>\n",
       "      <td>84.2</td>\n",
       "      <td>65</td>\n",
       "      <td>1002.6</td>\n",
       "    </tr>\n",
       "    <tr>\n",
       "      <th>316</th>\n",
       "      <td>35.6</td>\n",
       "      <td>25.3</td>\n",
       "      <td>130</td>\n",
       "      <td>2.6</td>\n",
       "      <td>98.3</td>\n",
       "      <td>75</td>\n",
       "      <td>1005.4</td>\n",
       "    </tr>\n",
       "    <tr>\n",
       "      <th>317</th>\n",
       "      <td>32.8</td>\n",
       "      <td>23.8</td>\n",
       "      <td>160</td>\n",
       "      <td>3.6</td>\n",
       "      <td>18.9</td>\n",
       "      <td>77</td>\n",
       "      <td>1007.6</td>\n",
       "    </tr>\n",
       "  </tbody>\n",
       "</table>\n",
       "<p>318 rows × 7 columns</p>\n",
       "</div>"
      ],
      "text/plain": [
       "     MAXIMUM-TEMPERATURE  MINIMUM-TEMPERATURE  WIND-DIRECTION  WIND-SPEED  \\\n",
       "0                   33.3                 16.4              73         2.0   \n",
       "1                   35.9                 18.6             123         3.0   \n",
       "2                   40.5                 25.0             191         3.0   \n",
       "3                   40.1                 27.2             196         4.0   \n",
       "4                   36.8                 25.7             155         3.0   \n",
       "..                   ...                  ...             ...         ...   \n",
       "313                 36.0                 22.4             170         3.4   \n",
       "314                 39.7                 26.1             220         2.1   \n",
       "315                 39.7                 28.8             200         4.6   \n",
       "316                 35.6                 25.3             130         2.6   \n",
       "317                 32.8                 23.8             160         3.6   \n",
       "\n",
       "     WIND-RUN  RELATIVE-HUMIDITY  AIR-PRESSURE  \n",
       "0        47.6                 27        1014.5  \n",
       "1        47.6                 23        1013.7  \n",
       "2        47.6                 32        1009.1  \n",
       "3        47.6                 43        1010.5  \n",
       "4        47.6                 61        1010.3  \n",
       "..        ...                ...           ...  \n",
       "313      63.7                 26        1006.9  \n",
       "314      73.7                 35        1005.6  \n",
       "315      84.2                 65        1002.6  \n",
       "316      98.3                 75        1005.4  \n",
       "317      18.9                 77        1007.6  \n",
       "\n",
       "[318 rows x 7 columns]"
      ]
     },
     "execution_count": 14,
     "metadata": {},
     "output_type": "execute_result"
    }
   ],
   "source": [
    "df"
   ]
  },
  {
   "cell_type": "code",
   "execution_count": 15,
   "id": "40a1385f",
   "metadata": {},
   "outputs": [
    {
     "name": "stdout",
     "output_type": "stream",
     "text": [
      "Number of rows/example and columns in the dataset: (318, 7)\n"
     ]
    }
   ],
   "source": [
    "print(f'Number of rows/example and columns in the dataset: {df.shape}')"
   ]
  },
  {
   "cell_type": "markdown",
   "id": "d39cd5d8",
   "metadata": {},
   "source": [
    "### Summary of information on the dataset."
   ]
  },
  {
   "cell_type": "code",
   "execution_count": 16,
   "id": "c577548b",
   "metadata": {},
   "outputs": [
    {
     "name": "stdout",
     "output_type": "stream",
     "text": [
      "<class 'pandas.core.frame.DataFrame'>\n",
      "RangeIndex: 318 entries, 0 to 317\n",
      "Data columns (total 7 columns):\n",
      " #   Column               Non-Null Count  Dtype  \n",
      "---  ------               --------------  -----  \n",
      " 0   MAXIMUM-TEMPERATURE  318 non-null    float64\n",
      " 1   MINIMUM-TEMPERATURE  318 non-null    float64\n",
      " 2   WIND-DIRECTION       318 non-null    int64  \n",
      " 3   WIND-SPEED           318 non-null    float64\n",
      " 4   WIND-RUN             318 non-null    float64\n",
      " 5   RELATIVE-HUMIDITY    318 non-null    int64  \n",
      " 6   AIR-PRESSURE         318 non-null    float64\n",
      "dtypes: float64(5), int64(2)\n",
      "memory usage: 17.5 KB\n"
     ]
    }
   ],
   "source": [
    "\n",
    "df.info()"
   ]
  },
  {
   "cell_type": "markdown",
   "id": "11194c45",
   "metadata": {},
   "source": [
    "### Split the data into train/test splits"
   ]
  },
  {
   "cell_type": "markdown",
   "id": "339fc7fa",
   "metadata": {},
   "source": [
    "#### Split the data into 60% train and 40% test (later will divide the test to test and validate)"
   ]
  },
  {
   "cell_type": "code",
   "execution_count": 17,
   "id": "46825662",
   "metadata": {},
   "outputs": [
    {
     "name": "stdout",
     "output_type": "stream",
     "text": [
      "(190, 7)\n",
      "(128, 7)\n"
     ]
    }
   ],
   "source": [
    "\n",
    "train_dataset, temp_test_dataset = train_test_split(df, test_size=0.4)\n",
    "\n",
    "print( train_dataset.shape)\n",
    "print( temp_test_dataset.shape)"
   ]
  },
  {
   "cell_type": "markdown",
   "id": "c4de9fc9",
   "metadata": {},
   "source": [
    "### Split the test_dataset dataframe to 50% test and 50% validation."
   ]
  },
  {
   "cell_type": "code",
   "execution_count": 18,
   "id": "1da13eb0",
   "metadata": {},
   "outputs": [
    {
     "name": "stdout",
     "output_type": "stream",
     "text": [
      "(64, 7)\n",
      "(64, 7)\n"
     ]
    }
   ],
   "source": [
    "\n",
    "test_dataset, valid_dataset = train_test_split(temp_test_dataset, test_size=0.5)\n",
    "print(test_dataset.shape)\n",
    "print(valid_dataset.shape)"
   ]
  },
  {
   "cell_type": "code",
   "execution_count": 19,
   "id": "7c5a2b6d",
   "metadata": {},
   "outputs": [
    {
     "name": "stdout",
     "output_type": "stream",
     "text": [
      "Display the datatype of the test_dataset: <class 'pandas.core.frame.DataFrame'>\n",
      "Train dataset      : (190, 7)\n",
      "Test dataset       : (64, 7)\n",
      "Validation dataset : (64, 7)\n"
     ]
    }
   ],
   "source": [
    "print(f\"Display the datatype of the test_dataset: {type(test_dataset)}\")\n",
    "print(f\"Train dataset      : {train_dataset.shape}\")\n",
    "print(f\"Test dataset       : {test_dataset.shape}\")\n",
    "print(f\"Validation dataset : {valid_dataset.shape}\")"
   ]
  },
  {
   "cell_type": "markdown",
   "id": "7ea98bc3",
   "metadata": {},
   "source": [
    "## Plot the relationship between each two variables to spot anything incorrect."
   ]
  },
  {
   "cell_type": "code",
   "execution_count": 20,
   "id": "08975b87",
   "metadata": {},
   "outputs": [
    {
     "data": {
      "text/plain": [
       "<seaborn.axisgrid.PairGrid at 0x11c36472340>"
      ]
     },
     "execution_count": 20,
     "metadata": {},
     "output_type": "execute_result"
    },
    {
     "data": {
      "image/png": "[encoded data removed]",
      "text/plain": [
       "<Figure size 1080x1080 with 42 Axes>"
      ]
     },
     "metadata": {
      "needs_background": "light"
     },
     "output_type": "display_data"
    }
   ],
   "source": [
    "\n",
    "train_stats = train_dataset.describe()\n",
    "train_stats.pop(\"WIND-SPEED\")\n",
    "sns.pairplot(train_stats[train_stats.columns], diag_kind=\"kde\") # or diag_kind='reg'"
   ]
  },
  {
   "cell_type": "markdown",
   "id": "d2403de2",
   "metadata": {},
   "source": [
    "### Statistics on the train dataset to make sure it in a good shape"
   ]
  },
  {
   "cell_type": "code",
   "execution_count": 21,
   "id": "4fd48f24",
   "metadata": {},
   "outputs": [
    {
     "data": {
      "text/plain": [
       "count    190.000000\n",
       "mean       3.433158\n",
       "std        1.498114\n",
       "min        0.800000\n",
       "25%        2.200000\n",
       "50%        3.000000\n",
       "75%        4.000000\n",
       "max       12.000000\n",
       "Name: WIND-SPEED, dtype: float64"
      ]
     },
     "execution_count": 21,
     "metadata": {},
     "output_type": "execute_result"
    }
   ],
   "source": [
    "\n",
    "train_stats = train_dataset.describe()\n",
    "wind_speed=train_stats.pop(\"WIND-SPEED\")\n",
    "train_stats = train_stats.transpose()\n",
    "#train_stats\n",
    "wind_speed"
   ]
  },
  {
   "cell_type": "markdown",
   "id": "96bdbcc9",
   "metadata": {},
   "source": [
    "## The label is \"WIND-SPEED\""
   ]
  },
  {
   "cell_type": "code",
   "execution_count": 22,
   "id": "172a0253",
   "metadata": {},
   "outputs": [],
   "source": [
    "train_labels = train_dataset.pop('WIND-SPEED')\n",
    "test_labels = test_dataset.pop('WIND-SPEED')\n",
    "valid_labels = valid_dataset.pop('WIND-SPEED')"
   ]
  },
  {
   "cell_type": "markdown",
   "id": "8f526c2f",
   "metadata": {},
   "source": [
    "## Data Normalization/Scaling"
   ]
  },
  {
   "cell_type": "markdown",
   "id": "d1f7c8cc",
   "metadata": {},
   "source": [
    "### define a function to normalize the data set."
   ]
  },
  {
   "cell_type": "code",
   "execution_count": 23,
   "id": "5c2999c8",
   "metadata": {},
   "outputs": [
    {
     "name": "stderr",
     "output_type": "stream",
     "text": [
      "c:\\users\\hp\\appdata\\local\\programs\\python\\python39\\lib\\site-packages\\pandas\\core\\frame.py:3607: SettingWithCopyWarning: \n",
      "A value is trying to be set on a copy of a slice from a DataFrame.\n",
      "Try using .loc[row_indexer,col_indexer] = value instead\n",
      "\n",
      "See the caveats in the documentation: https://pandas.pydata.org/pandas-docs/stable/user_guide/indexing.html#returning-a-view-versus-a-copy\n",
      "  self._set_item(key, value)\n",
      "c:\\users\\hp\\appdata\\local\\programs\\python\\python39\\lib\\site-packages\\pandas\\core\\frame.py:3607: SettingWithCopyWarning: \n",
      "A value is trying to be set on a copy of a slice from a DataFrame.\n",
      "Try using .loc[row_indexer,col_indexer] = value instead\n",
      "\n",
      "See the caveats in the documentation: https://pandas.pydata.org/pandas-docs/stable/user_guide/indexing.html#returning-a-view-versus-a-copy\n",
      "  self._set_item(key, value)\n",
      "c:\\users\\hp\\appdata\\local\\programs\\python\\python39\\lib\\site-packages\\pandas\\core\\frame.py:3607: SettingWithCopyWarning: \n",
      "A value is trying to be set on a copy of a slice from a DataFrame.\n",
      "Try using .loc[row_indexer,col_indexer] = value instead\n",
      "\n",
      "See the caveats in the documentation: https://pandas.pydata.org/pandas-docs/stable/user_guide/indexing.html#returning-a-view-versus-a-copy\n",
      "  self._set_item(key, value)\n"
     ]
    }
   ],
   "source": [
    "\n",
    "\n",
    "from sklearn.preprocessing import MinMaxScaler\n",
    "\n",
    "def norm(x):\n",
    "    cols_to_scale= ['MAXIMUM-TEMPERATURE','MINIMUM-TEMPERATURE','WIND-DIRECTION','RELATIVE-HUMIDITY','WIND-RUN','AIR-PRESSURE']\n",
    "    scaler = MinMaxScaler()\n",
    "    x[cols_to_scale] = scaler.fit_transform(x[cols_to_scale])\n",
    "    return x\n",
    "\n",
    "normed_train_data = norm(train_dataset)\n",
    "normed_test_data = norm(test_dataset)\n",
    "normed_valid_dataset = norm(valid_dataset)"
   ]
  },
  {
   "cell_type": "code",
   "execution_count": 24,
   "id": "99197d5f",
   "metadata": {},
   "outputs": [
    {
     "name": "stdout",
     "output_type": "stream",
     "text": [
      "Train/Test/Validate splits: \n",
      "Train       : (190, 6) \n",
      "Test        : (64, 6) \n",
      "Validate    : (64, 6) \n",
      "Train/Test/Validate labels: \n",
      "Train Labels : (190,)\n",
      "Test Labels  : (64,)\n",
      "Test Labels  : (64,)\n"
     ]
    }
   ],
   "source": [
    "print(f'Train/Test/Validate splits: ')\n",
    "print(f'Train       : {normed_train_data.shape} ')\n",
    "print(f'Test        : {normed_test_data.shape} ')\n",
    "print(f'Validate    : {normed_valid_dataset.shape} ')\n",
    "\n",
    "print(f'Train/Test/Validate labels: ')\n",
    "print(f'Train Labels : {train_labels.shape}')\n",
    "print(f'Test Labels  : {test_labels.shape}')\n",
    "print(f'Test Labels  : {valid_labels.shape}')"
   ]
  },
  {
   "cell_type": "markdown",
   "id": "4ac918f4",
   "metadata": {},
   "source": [
    "## show a sample of the data after normalized"
   ]
  },
  {
   "cell_type": "code",
   "execution_count": 25,
   "id": "6762edde",
   "metadata": {},
   "outputs": [
    {
     "data": {
      "text/html": [
       "<div>\n",
       "<style scoped>\n",
       "    .dataframe tbody tr th:only-of-type {\n",
       "        vertical-align: middle;\n",
       "    }\n",
       "\n",
       "    .dataframe tbody tr th {\n",
       "        vertical-align: top;\n",
       "    }\n",
       "\n",
       "    .dataframe thead th {\n",
       "        text-align: right;\n",
       "    }\n",
       "</style>\n",
       "<table border=\"1\" class=\"dataframe\">\n",
       "  <thead>\n",
       "    <tr style=\"text-align: right;\">\n",
       "      <th></th>\n",
       "      <th>MAXIMUM-TEMPERATURE</th>\n",
       "      <th>MINIMUM-TEMPERATURE</th>\n",
       "      <th>WIND-DIRECTION</th>\n",
       "      <th>WIND-RUN</th>\n",
       "      <th>RELATIVE-HUMIDITY</th>\n",
       "      <th>AIR-PRESSURE</th>\n",
       "    </tr>\n",
       "  </thead>\n",
       "  <tbody>\n",
       "    <tr>\n",
       "      <th>79</th>\n",
       "      <td>0.149254</td>\n",
       "      <td>0.642384</td>\n",
       "      <td>0.060241</td>\n",
       "      <td>0.361461</td>\n",
       "      <td>1.000000</td>\n",
       "      <td>0.385757</td>\n",
       "    </tr>\n",
       "    <tr>\n",
       "      <th>314</th>\n",
       "      <td>0.835821</td>\n",
       "      <td>0.807947</td>\n",
       "      <td>0.650602</td>\n",
       "      <td>0.690176</td>\n",
       "      <td>0.272727</td>\n",
       "      <td>0.097923</td>\n",
       "    </tr>\n",
       "    <tr>\n",
       "      <th>159</th>\n",
       "      <td>0.873134</td>\n",
       "      <td>0.993377</td>\n",
       "      <td>0.771084</td>\n",
       "      <td>0.361461</td>\n",
       "      <td>0.227273</td>\n",
       "      <td>0.270030</td>\n",
       "    </tr>\n",
       "    <tr>\n",
       "      <th>82</th>\n",
       "      <td>0.634328</td>\n",
       "      <td>0.311258</td>\n",
       "      <td>0.204819</td>\n",
       "      <td>0.361461</td>\n",
       "      <td>0.409091</td>\n",
       "      <td>0.338279</td>\n",
       "    </tr>\n",
       "    <tr>\n",
       "      <th>240</th>\n",
       "      <td>0.380597</td>\n",
       "      <td>0.046358</td>\n",
       "      <td>0.232932</td>\n",
       "      <td>0.361461</td>\n",
       "      <td>0.227273</td>\n",
       "      <td>0.388724</td>\n",
       "    </tr>\n",
       "    <tr>\n",
       "      <th>11</th>\n",
       "      <td>0.522388</td>\n",
       "      <td>0.139073</td>\n",
       "      <td>0.128514</td>\n",
       "      <td>0.361461</td>\n",
       "      <td>0.257576</td>\n",
       "      <td>0.462908</td>\n",
       "    </tr>\n",
       "    <tr>\n",
       "      <th>220</th>\n",
       "      <td>0.552239</td>\n",
       "      <td>0.589404</td>\n",
       "      <td>0.449799</td>\n",
       "      <td>0.361461</td>\n",
       "      <td>0.621212</td>\n",
       "      <td>0.302671</td>\n",
       "    </tr>\n",
       "    <tr>\n",
       "      <th>13</th>\n",
       "      <td>0.761194</td>\n",
       "      <td>0.483444</td>\n",
       "      <td>0.096386</td>\n",
       "      <td>0.361461</td>\n",
       "      <td>0.136364</td>\n",
       "      <td>0.219585</td>\n",
       "    </tr>\n",
       "    <tr>\n",
       "      <th>35</th>\n",
       "      <td>0.500000</td>\n",
       "      <td>0.198675</td>\n",
       "      <td>0.176707</td>\n",
       "      <td>0.361461</td>\n",
       "      <td>0.272727</td>\n",
       "      <td>0.362018</td>\n",
       "    </tr>\n",
       "    <tr>\n",
       "      <th>93</th>\n",
       "      <td>0.313433</td>\n",
       "      <td>0.662252</td>\n",
       "      <td>0.413655</td>\n",
       "      <td>0.361461</td>\n",
       "      <td>0.878788</td>\n",
       "      <td>0.302671</td>\n",
       "    </tr>\n",
       "  </tbody>\n",
       "</table>\n",
       "</div>"
      ],
      "text/plain": [
       "     MAXIMUM-TEMPERATURE  MINIMUM-TEMPERATURE  WIND-DIRECTION  WIND-RUN  \\\n",
       "79              0.149254             0.642384        0.060241  0.361461   \n",
       "314             0.835821             0.807947        0.650602  0.690176   \n",
       "159             0.873134             0.993377        0.771084  0.361461   \n",
       "82              0.634328             0.311258        0.204819  0.361461   \n",
       "240             0.380597             0.046358        0.232932  0.361461   \n",
       "11              0.522388             0.139073        0.128514  0.361461   \n",
       "220             0.552239             0.589404        0.449799  0.361461   \n",
       "13              0.761194             0.483444        0.096386  0.361461   \n",
       "35              0.500000             0.198675        0.176707  0.361461   \n",
       "93              0.313433             0.662252        0.413655  0.361461   \n",
       "\n",
       "     RELATIVE-HUMIDITY  AIR-PRESSURE  \n",
       "79            1.000000      0.385757  \n",
       "314           0.272727      0.097923  \n",
       "159           0.227273      0.270030  \n",
       "82            0.409091      0.338279  \n",
       "240           0.227273      0.388724  \n",
       "11            0.257576      0.462908  \n",
       "220           0.621212      0.302671  \n",
       "13            0.136364      0.219585  \n",
       "35            0.272727      0.362018  \n",
       "93            0.878788      0.302671  "
      ]
     },
     "execution_count": 25,
     "metadata": {},
     "output_type": "execute_result"
    }
   ],
   "source": [
    "\n",
    "normed_train_data.head(10)"
   ]
  },
  {
   "cell_type": "markdown",
   "id": "1c04c32b",
   "metadata": {},
   "source": [
    "## Build a Neural Network Model"
   ]
  },
  {
   "cell_type": "markdown",
   "id": "79302009",
   "metadata": {},
   "source": [
    "### We declared a function for creating a model."
   ]
  },
  {
   "cell_type": "markdown",
   "id": "a6a74daa",
   "metadata": {},
   "source": [
    "## import NN and other components."
   ]
  },
  {
   "cell_type": "code",
   "execution_count": 26,
   "id": "885e59da",
   "metadata": {},
   "outputs": [],
   "source": [
    "\n",
    "from tensorflow.keras.models import Sequential\n",
    "from tensorflow.keras.layers import Activation,Dense,BatchNormalization,Dropout\n",
    "from tensorflow.keras import optimizers"
   ]
  },
  {
   "cell_type": "code",
   "execution_count": 27,
   "id": "560d7b5d",
   "metadata": {},
   "outputs": [],
   "source": [
    "def model_multilayer_perceptron_with_eight_hidden_layer():\n",
    "      model = Sequential()\n",
    "     # The model so far is empty. It can be constructed by adding layers and compilation.\n",
    "     # This Keras model with a single hidden layers.\n",
    "        \n",
    "     # Input Layer with 32 Neurons\n",
    "      model.add(Dense(32, input_shape =(normed_train_data.shape[1],)))\n",
    " \n",
    "      model.add(Dense(32, Activation('relu'))) # Hidden layer 1\n",
    "      model.add(Dense(64, Activation('relu'))) # Hidden layer 2\n",
    "      model.add(Dense(72, Activation('relu'))) # Hidden layer 3\n",
    "      model.add(Dense(80, Activation('relu'))) # Hidden layer 4\n",
    "      model.add(Dense(32, Activation('relu'))) # Hidden layer 5\n",
    "      model.add(Dense(64, Activation('relu'))) # Hidden layer 6\n",
    "      model.add(Dense(72, Activation('relu'))) # Hidden layer 7\n",
    "      model.add(Dense(80, Activation('relu'))) # Hidden layer 8\n",
    "      model.add(Dense(81, Activation('relu'))) # Hidden layer 9\n",
    "     \n",
    "      model.add(Dense(1))  # Output layer => output dimension = 1\n",
    "    \n",
    "      learning_rate = 0.001\n",
    "    \n",
    "      optimizer = optimizers.RMSprop(learning_rate)\n",
    "  \n",
    "      model.compile(loss='mse',optimizer=optimizer, metrics=['mae','mse','mape']) \n",
    "      return model"
   ]
  },
  {
   "cell_type": "code",
   "execution_count": 28,
   "id": "36a6f1d8",
   "metadata": {},
   "outputs": [
    {
     "name": "stdout",
     "output_type": "stream",
     "text": [
      "Here is a summary of this model: \n",
      "Model: \"sequential\"\n",
      "_________________________________________________________________\n",
      "Layer (type)                 Output Shape              Param #   \n",
      "=================================================================\n",
      "dense (Dense)                (None, 32)                224       \n",
      "_________________________________________________________________\n",
      "dense_1 (Dense)              (None, 32)                1056      \n",
      "_________________________________________________________________\n",
      "dense_2 (Dense)              (None, 64)                2112      \n",
      "_________________________________________________________________\n",
      "dense_3 (Dense)              (None, 72)                4680      \n",
      "_________________________________________________________________\n",
      "dense_4 (Dense)              (None, 80)                5840      \n",
      "_________________________________________________________________\n",
      "dense_5 (Dense)              (None, 32)                2592      \n",
      "_________________________________________________________________\n",
      "dense_6 (Dense)              (None, 64)                2112      \n",
      "_________________________________________________________________\n",
      "dense_7 (Dense)              (None, 72)                4680      \n",
      "_________________________________________________________________\n",
      "dense_8 (Dense)              (None, 80)                5840      \n",
      "_________________________________________________________________\n",
      "dense_9 (Dense)              (None, 81)                6561      \n",
      "_________________________________________________________________\n",
      "dense_10 (Dense)             (None, 1)                 82        \n",
      "=================================================================\n",
      "Total params: 35,779\n",
      "Trainable params: 35,779\n",
      "Non-trainable params: 0\n",
      "_________________________________________________________________\n"
     ]
    }
   ],
   "source": [
    "model = model_multilayer_perceptron_with_eight_hidden_layer()\n",
    "print('Here is a summary of this model: ')\n",
    "\n",
    "\n",
    "model.summary()\n"
   ]
  },
  {
   "cell_type": "markdown",
   "id": "987f0289",
   "metadata": {},
   "source": [
    "## Training the model we built above."
   ]
  },
  {
   "cell_type": "code",
   "execution_count": 29,
   "id": "9ed9cb5e",
   "metadata": {},
   "outputs": [],
   "source": [
    "# Tensorflow utils packages.\n",
    "import tensorflow_docs as tfdocs\n",
    "import tensorflow_docs.plots\n",
    "import tensorflow_docs.modeling"
   ]
  },
  {
   "cell_type": "code",
   "execution_count": 30,
   "id": "89283015",
   "metadata": {},
   "outputs": [],
   "source": [
    "# checkpoint_path\n",
    "checkpoint_path = r\".\\models\\wind_speed_prediction_8_layers.ckpt\"\n",
    "\n",
    "#create a callback that saves the model's weight\n",
    "ckpt_callback = tf.keras.callbacks.ModelCheckpoint(filepath=checkpoint_path,monitor='val_loss',\n",
    "                                                 save_best_only=True,verbose=0,)"
   ]
  },
  {
   "cell_type": "code",
   "execution_count": 31,
   "id": "bd3213a6",
   "metadata": {},
   "outputs": [
    {
     "name": "stdout",
     "output_type": "stream",
     "text": [
      "Here is a summary of this model: \n",
      "Model: \"sequential_1\"\n",
      "_________________________________________________________________\n",
      "Layer (type)                 Output Shape              Param #   \n",
      "=================================================================\n",
      "dense_11 (Dense)             (None, 32)                224       \n",
      "_________________________________________________________________\n",
      "dense_12 (Dense)             (None, 32)                1056      \n",
      "_________________________________________________________________\n",
      "dense_13 (Dense)             (None, 64)                2112      \n",
      "_________________________________________________________________\n",
      "dense_14 (Dense)             (None, 72)                4680      \n",
      "_________________________________________________________________\n",
      "dense_15 (Dense)             (None, 80)                5840      \n",
      "_________________________________________________________________\n",
      "dense_16 (Dense)             (None, 32)                2592      \n",
      "_________________________________________________________________\n",
      "dense_17 (Dense)             (None, 64)                2112      \n",
      "_________________________________________________________________\n",
      "dense_18 (Dense)             (None, 72)                4680      \n",
      "_________________________________________________________________\n",
      "dense_19 (Dense)             (None, 80)                5840      \n",
      "_________________________________________________________________\n",
      "dense_20 (Dense)             (None, 81)                6561      \n",
      "_________________________________________________________________\n",
      "dense_21 (Dense)             (None, 1)                 82        \n",
      "=================================================================\n",
      "Total params: 35,779\n",
      "Trainable params: 35,779\n",
      "Non-trainable params: 0\n",
      "_________________________________________________________________\n",
      "\n",
      "Epoch: 0, loss:25.5909,  mae:4.4430,  mape:99.7707,  mse:25.5909,  val_loss:11.4681,  val_mae:3.1962,  val_mape:97.5439,  val_mse:11.4681,  \n",
      "."
     ]
    },
    {
     "name": "stderr",
     "output_type": "stream",
     "text": [
      "WARNING:absl:Found untraced functions such as activation_9_layer_call_and_return_conditional_losses, activation_9_layer_call_fn, activation_10_layer_call_and_return_conditional_losses, activation_10_layer_call_fn, activation_11_layer_call_and_return_conditional_losses while saving (showing 5 of 45). These functions will not be directly callable after loading.\n"
     ]
    },
    {
     "name": "stdout",
     "output_type": "stream",
     "text": [
      "INFO:tensorflow:Assets written to: .\\models\\wind_speed_prediction_8_layers.ckpt\\assets\n"
     ]
    },
    {
     "name": "stderr",
     "output_type": "stream",
     "text": [
      "INFO:tensorflow:Assets written to: .\\models\\wind_speed_prediction_8_layers.ckpt\\assets\n"
     ]
    },
    {
     "name": "stdout",
     "output_type": "stream",
     "text": [
      "."
     ]
    },
    {
     "name": "stderr",
     "output_type": "stream",
     "text": [
      "WARNING:absl:Found untraced functions such as activation_9_layer_call_and_return_conditional_losses, activation_9_layer_call_fn, activation_10_layer_call_and_return_conditional_losses, activation_10_layer_call_fn, activation_11_layer_call_and_return_conditional_losses while saving (showing 5 of 45). These functions will not be directly callable after loading.\n"
     ]
    },
    {
     "name": "stdout",
     "output_type": "stream",
     "text": [
      "INFO:tensorflow:Assets written to: .\\models\\wind_speed_prediction_8_layers.ckpt\\assets\n"
     ]
    },
    {
     "name": "stderr",
     "output_type": "stream",
     "text": [
      "INFO:tensorflow:Assets written to: .\\models\\wind_speed_prediction_8_layers.ckpt\\assets\n"
     ]
    },
    {
     "name": "stdout",
     "output_type": "stream",
     "text": [
      "."
     ]
    },
    {
     "name": "stderr",
     "output_type": "stream",
     "text": [
      "WARNING:absl:Found untraced functions such as activation_9_layer_call_and_return_conditional_losses, activation_9_layer_call_fn, activation_10_layer_call_and_return_conditional_losses, activation_10_layer_call_fn, activation_11_layer_call_and_return_conditional_losses while saving (showing 5 of 45). These functions will not be directly callable after loading.\n"
     ]
    },
    {
     "name": "stdout",
     "output_type": "stream",
     "text": [
      "INFO:tensorflow:Assets written to: .\\models\\wind_speed_prediction_8_layers.ckpt\\assets\n"
     ]
    },
    {
     "name": "stderr",
     "output_type": "stream",
     "text": [
      "INFO:tensorflow:Assets written to: .\\models\\wind_speed_prediction_8_layers.ckpt\\assets\n"
     ]
    },
    {
     "name": "stdout",
     "output_type": "stream",
     "text": [
      "."
     ]
    },
    {
     "name": "stderr",
     "output_type": "stream",
     "text": [
      "WARNING:absl:Found untraced functions such as activation_9_layer_call_and_return_conditional_losses, activation_9_layer_call_fn, activation_10_layer_call_and_return_conditional_losses, activation_10_layer_call_fn, activation_11_layer_call_and_return_conditional_losses while saving (showing 5 of 45). These functions will not be directly callable after loading.\n"
     ]
    },
    {
     "name": "stdout",
     "output_type": "stream",
     "text": [
      "INFO:tensorflow:Assets written to: .\\models\\wind_speed_prediction_8_layers.ckpt\\assets\n"
     ]
    },
    {
     "name": "stderr",
     "output_type": "stream",
     "text": [
      "INFO:tensorflow:Assets written to: .\\models\\wind_speed_prediction_8_layers.ckpt\\assets\n"
     ]
    },
    {
     "name": "stdout",
     "output_type": "stream",
     "text": [
      "."
     ]
    },
    {
     "name": "stderr",
     "output_type": "stream",
     "text": [
      "WARNING:absl:Found untraced functions such as activation_9_layer_call_and_return_conditional_losses, activation_9_layer_call_fn, activation_10_layer_call_and_return_conditional_losses, activation_10_layer_call_fn, activation_11_layer_call_and_return_conditional_losses while saving (showing 5 of 45). These functions will not be directly callable after loading.\n"
     ]
    },
    {
     "name": "stdout",
     "output_type": "stream",
     "text": [
      "INFO:tensorflow:Assets written to: .\\models\\wind_speed_prediction_8_layers.ckpt\\assets\n"
     ]
    },
    {
     "name": "stderr",
     "output_type": "stream",
     "text": [
      "INFO:tensorflow:Assets written to: .\\models\\wind_speed_prediction_8_layers.ckpt\\assets\n"
     ]
    },
    {
     "name": "stdout",
     "output_type": "stream",
     "text": [
      "."
     ]
    },
    {
     "name": "stderr",
     "output_type": "stream",
     "text": [
      "WARNING:absl:Found untraced functions such as activation_9_layer_call_and_return_conditional_losses, activation_9_layer_call_fn, activation_10_layer_call_and_return_conditional_losses, activation_10_layer_call_fn, activation_11_layer_call_and_return_conditional_losses while saving (showing 5 of 45). These functions will not be directly callable after loading.\n"
     ]
    },
    {
     "name": "stdout",
     "output_type": "stream",
     "text": [
      "INFO:tensorflow:Assets written to: .\\models\\wind_speed_prediction_8_layers.ckpt\\assets\n"
     ]
    },
    {
     "name": "stderr",
     "output_type": "stream",
     "text": [
      "INFO:tensorflow:Assets written to: .\\models\\wind_speed_prediction_8_layers.ckpt\\assets\n"
     ]
    },
    {
     "name": "stdout",
     "output_type": "stream",
     "text": [
      "."
     ]
    },
    {
     "name": "stderr",
     "output_type": "stream",
     "text": [
      "WARNING:absl:Found untraced functions such as activation_9_layer_call_and_return_conditional_losses, activation_9_layer_call_fn, activation_10_layer_call_and_return_conditional_losses, activation_10_layer_call_fn, activation_11_layer_call_and_return_conditional_losses while saving (showing 5 of 45). These functions will not be directly callable after loading.\n"
     ]
    },
    {
     "name": "stdout",
     "output_type": "stream",
     "text": [
      "INFO:tensorflow:Assets written to: .\\models\\wind_speed_prediction_8_layers.ckpt\\assets\n"
     ]
    },
    {
     "name": "stderr",
     "output_type": "stream",
     "text": [
      "INFO:tensorflow:Assets written to: .\\models\\wind_speed_prediction_8_layers.ckpt\\assets\n"
     ]
    },
    {
     "name": "stdout",
     "output_type": "stream",
     "text": [
      "..."
     ]
    },
    {
     "name": "stderr",
     "output_type": "stream",
     "text": [
      "WARNING:absl:Found untraced functions such as activation_9_layer_call_and_return_conditional_losses, activation_9_layer_call_fn, activation_10_layer_call_and_return_conditional_losses, activation_10_layer_call_fn, activation_11_layer_call_and_return_conditional_losses while saving (showing 5 of 45). These functions will not be directly callable after loading.\n"
     ]
    },
    {
     "name": "stdout",
     "output_type": "stream",
     "text": [
      "INFO:tensorflow:Assets written to: .\\models\\wind_speed_prediction_8_layers.ckpt\\assets\n"
     ]
    },
    {
     "name": "stderr",
     "output_type": "stream",
     "text": [
      "INFO:tensorflow:Assets written to: .\\models\\wind_speed_prediction_8_layers.ckpt\\assets\n"
     ]
    },
    {
     "name": "stdout",
     "output_type": "stream",
     "text": [
      "...."
     ]
    },
    {
     "name": "stderr",
     "output_type": "stream",
     "text": [
      "WARNING:absl:Found untraced functions such as activation_9_layer_call_and_return_conditional_losses, activation_9_layer_call_fn, activation_10_layer_call_and_return_conditional_losses, activation_10_layer_call_fn, activation_11_layer_call_and_return_conditional_losses while saving (showing 5 of 45). These functions will not be directly callable after loading.\n"
     ]
    },
    {
     "name": "stdout",
     "output_type": "stream",
     "text": [
      "INFO:tensorflow:Assets written to: .\\models\\wind_speed_prediction_8_layers.ckpt\\assets\n"
     ]
    },
    {
     "name": "stderr",
     "output_type": "stream",
     "text": [
      "INFO:tensorflow:Assets written to: .\\models\\wind_speed_prediction_8_layers.ckpt\\assets\n"
     ]
    },
    {
     "name": "stdout",
     "output_type": "stream",
     "text": [
      "...."
     ]
    },
    {
     "name": "stderr",
     "output_type": "stream",
     "text": [
      "WARNING:absl:Found untraced functions such as activation_9_layer_call_and_return_conditional_losses, activation_9_layer_call_fn, activation_10_layer_call_and_return_conditional_losses, activation_10_layer_call_fn, activation_11_layer_call_and_return_conditional_losses while saving (showing 5 of 45). These functions will not be directly callable after loading.\n"
     ]
    },
    {
     "name": "stdout",
     "output_type": "stream",
     "text": [
      "INFO:tensorflow:Assets written to: .\\models\\wind_speed_prediction_8_layers.ckpt\\assets\n"
     ]
    },
    {
     "name": "stderr",
     "output_type": "stream",
     "text": [
      "INFO:tensorflow:Assets written to: .\\models\\wind_speed_prediction_8_layers.ckpt\\assets\n"
     ]
    },
    {
     "name": "stdout",
     "output_type": "stream",
     "text": [
      "......."
     ]
    },
    {
     "name": "stderr",
     "output_type": "stream",
     "text": [
      "WARNING:absl:Found untraced functions such as activation_9_layer_call_and_return_conditional_losses, activation_9_layer_call_fn, activation_10_layer_call_and_return_conditional_losses, activation_10_layer_call_fn, activation_11_layer_call_and_return_conditional_losses while saving (showing 5 of 45). These functions will not be directly callable after loading.\n"
     ]
    },
    {
     "name": "stdout",
     "output_type": "stream",
     "text": [
      "INFO:tensorflow:Assets written to: .\\models\\wind_speed_prediction_8_layers.ckpt\\assets\n"
     ]
    },
    {
     "name": "stderr",
     "output_type": "stream",
     "text": [
      "INFO:tensorflow:Assets written to: .\\models\\wind_speed_prediction_8_layers.ckpt\\assets\n"
     ]
    },
    {
     "name": "stdout",
     "output_type": "stream",
     "text": [
      "......"
     ]
    },
    {
     "name": "stderr",
     "output_type": "stream",
     "text": [
      "WARNING:absl:Found untraced functions such as activation_9_layer_call_and_return_conditional_losses, activation_9_layer_call_fn, activation_10_layer_call_and_return_conditional_losses, activation_10_layer_call_fn, activation_11_layer_call_and_return_conditional_losses while saving (showing 5 of 45). These functions will not be directly callable after loading.\n"
     ]
    },
    {
     "name": "stdout",
     "output_type": "stream",
     "text": [
      "INFO:tensorflow:Assets written to: .\\models\\wind_speed_prediction_8_layers.ckpt\\assets\n"
     ]
    },
    {
     "name": "stderr",
     "output_type": "stream",
     "text": [
      "INFO:tensorflow:Assets written to: .\\models\\wind_speed_prediction_8_layers.ckpt\\assets\n"
     ]
    },
    {
     "name": "stdout",
     "output_type": "stream",
     "text": [
      ".............."
     ]
    },
    {
     "name": "stderr",
     "output_type": "stream",
     "text": [
      "WARNING:absl:Found untraced functions such as activation_9_layer_call_and_return_conditional_losses, activation_9_layer_call_fn, activation_10_layer_call_and_return_conditional_losses, activation_10_layer_call_fn, activation_11_layer_call_and_return_conditional_losses while saving (showing 5 of 45). These functions will not be directly callable after loading.\n"
     ]
    },
    {
     "name": "stdout",
     "output_type": "stream",
     "text": [
      "INFO:tensorflow:Assets written to: .\\models\\wind_speed_prediction_8_layers.ckpt\\assets\n"
     ]
    },
    {
     "name": "stderr",
     "output_type": "stream",
     "text": [
      "INFO:tensorflow:Assets written to: .\\models\\wind_speed_prediction_8_layers.ckpt\\assets\n"
     ]
    },
    {
     "name": "stdout",
     "output_type": "stream",
     "text": [
      "."
     ]
    },
    {
     "name": "stderr",
     "output_type": "stream",
     "text": [
      "WARNING:absl:Found untraced functions such as activation_9_layer_call_and_return_conditional_losses, activation_9_layer_call_fn, activation_10_layer_call_and_return_conditional_losses, activation_10_layer_call_fn, activation_11_layer_call_and_return_conditional_losses while saving (showing 5 of 45). These functions will not be directly callable after loading.\n"
     ]
    },
    {
     "name": "stdout",
     "output_type": "stream",
     "text": [
      "INFO:tensorflow:Assets written to: .\\models\\wind_speed_prediction_8_layers.ckpt\\assets\n"
     ]
    },
    {
     "name": "stderr",
     "output_type": "stream",
     "text": [
      "INFO:tensorflow:Assets written to: .\\models\\wind_speed_prediction_8_layers.ckpt\\assets\n"
     ]
    },
    {
     "name": "stdout",
     "output_type": "stream",
     "text": [
      "."
     ]
    },
    {
     "name": "stderr",
     "output_type": "stream",
     "text": [
      "WARNING:absl:Found untraced functions such as activation_9_layer_call_and_return_conditional_losses, activation_9_layer_call_fn, activation_10_layer_call_and_return_conditional_losses, activation_10_layer_call_fn, activation_11_layer_call_and_return_conditional_losses while saving (showing 5 of 45). These functions will not be directly callable after loading.\n"
     ]
    },
    {
     "name": "stdout",
     "output_type": "stream",
     "text": [
      "INFO:tensorflow:Assets written to: .\\models\\wind_speed_prediction_8_layers.ckpt\\assets\n"
     ]
    },
    {
     "name": "stderr",
     "output_type": "stream",
     "text": [
      "INFO:tensorflow:Assets written to: .\\models\\wind_speed_prediction_8_layers.ckpt\\assets\n"
     ]
    },
    {
     "name": "stdout",
     "output_type": "stream",
     "text": [
      "."
     ]
    },
    {
     "name": "stderr",
     "output_type": "stream",
     "text": [
      "WARNING:absl:Found untraced functions such as activation_9_layer_call_and_return_conditional_losses, activation_9_layer_call_fn, activation_10_layer_call_and_return_conditional_losses, activation_10_layer_call_fn, activation_11_layer_call_and_return_conditional_losses while saving (showing 5 of 45). These functions will not be directly callable after loading.\n"
     ]
    },
    {
     "name": "stdout",
     "output_type": "stream",
     "text": [
      "INFO:tensorflow:Assets written to: .\\models\\wind_speed_prediction_8_layers.ckpt\\assets\n"
     ]
    },
    {
     "name": "stderr",
     "output_type": "stream",
     "text": [
      "INFO:tensorflow:Assets written to: .\\models\\wind_speed_prediction_8_layers.ckpt\\assets\n"
     ]
    },
    {
     "name": "stdout",
     "output_type": "stream",
     "text": [
      "..."
     ]
    },
    {
     "name": "stderr",
     "output_type": "stream",
     "text": [
      "WARNING:absl:Found untraced functions such as activation_9_layer_call_and_return_conditional_losses, activation_9_layer_call_fn, activation_10_layer_call_and_return_conditional_losses, activation_10_layer_call_fn, activation_11_layer_call_and_return_conditional_losses while saving (showing 5 of 45). These functions will not be directly callable after loading.\n"
     ]
    },
    {
     "name": "stdout",
     "output_type": "stream",
     "text": [
      "INFO:tensorflow:Assets written to: .\\models\\wind_speed_prediction_8_layers.ckpt\\assets\n"
     ]
    },
    {
     "name": "stderr",
     "output_type": "stream",
     "text": [
      "INFO:tensorflow:Assets written to: .\\models\\wind_speed_prediction_8_layers.ckpt\\assets\n"
     ]
    },
    {
     "name": "stdout",
     "output_type": "stream",
     "text": [
      "."
     ]
    },
    {
     "name": "stderr",
     "output_type": "stream",
     "text": [
      "WARNING:absl:Found untraced functions such as activation_9_layer_call_and_return_conditional_losses, activation_9_layer_call_fn, activation_10_layer_call_and_return_conditional_losses, activation_10_layer_call_fn, activation_11_layer_call_and_return_conditional_losses while saving (showing 5 of 45). These functions will not be directly callable after loading.\n"
     ]
    },
    {
     "name": "stdout",
     "output_type": "stream",
     "text": [
      "INFO:tensorflow:Assets written to: .\\models\\wind_speed_prediction_8_layers.ckpt\\assets\n"
     ]
    },
    {
     "name": "stderr",
     "output_type": "stream",
     "text": [
      "INFO:tensorflow:Assets written to: .\\models\\wind_speed_prediction_8_layers.ckpt\\assets\n"
     ]
    },
    {
     "name": "stdout",
     "output_type": "stream",
     "text": [
      "..............................."
     ]
    },
    {
     "name": "stderr",
     "output_type": "stream",
     "text": [
      "WARNING:absl:Found untraced functions such as activation_9_layer_call_and_return_conditional_losses, activation_9_layer_call_fn, activation_10_layer_call_and_return_conditional_losses, activation_10_layer_call_fn, activation_11_layer_call_and_return_conditional_losses while saving (showing 5 of 45). These functions will not be directly callable after loading.\n"
     ]
    },
    {
     "name": "stdout",
     "output_type": "stream",
     "text": [
      "INFO:tensorflow:Assets written to: .\\models\\wind_speed_prediction_8_layers.ckpt\\assets\n"
     ]
    },
    {
     "name": "stderr",
     "output_type": "stream",
     "text": [
      "INFO:tensorflow:Assets written to: .\\models\\wind_speed_prediction_8_layers.ckpt\\assets\n"
     ]
    },
    {
     "name": "stdout",
     "output_type": "stream",
     "text": [
      "."
     ]
    },
    {
     "name": "stderr",
     "output_type": "stream",
     "text": [
      "WARNING:absl:Found untraced functions such as activation_9_layer_call_and_return_conditional_losses, activation_9_layer_call_fn, activation_10_layer_call_and_return_conditional_losses, activation_10_layer_call_fn, activation_11_layer_call_and_return_conditional_losses while saving (showing 5 of 45). These functions will not be directly callable after loading.\n"
     ]
    },
    {
     "name": "stdout",
     "output_type": "stream",
     "text": [
      "INFO:tensorflow:Assets written to: .\\models\\wind_speed_prediction_8_layers.ckpt\\assets\n"
     ]
    },
    {
     "name": "stderr",
     "output_type": "stream",
     "text": [
      "INFO:tensorflow:Assets written to: .\\models\\wind_speed_prediction_8_layers.ckpt\\assets\n"
     ]
    },
    {
     "name": "stdout",
     "output_type": "stream",
     "text": [
      "....."
     ]
    },
    {
     "name": "stderr",
     "output_type": "stream",
     "text": [
      "WARNING:absl:Found untraced functions such as activation_9_layer_call_and_return_conditional_losses, activation_9_layer_call_fn, activation_10_layer_call_and_return_conditional_losses, activation_10_layer_call_fn, activation_11_layer_call_and_return_conditional_losses while saving (showing 5 of 45). These functions will not be directly callable after loading.\n"
     ]
    },
    {
     "name": "stdout",
     "output_type": "stream",
     "text": [
      "INFO:tensorflow:Assets written to: .\\models\\wind_speed_prediction_8_layers.ckpt\\assets\n"
     ]
    },
    {
     "name": "stderr",
     "output_type": "stream",
     "text": [
      "INFO:tensorflow:Assets written to: .\\models\\wind_speed_prediction_8_layers.ckpt\\assets\n"
     ]
    },
    {
     "name": "stdout",
     "output_type": "stream",
     "text": [
      ".."
     ]
    },
    {
     "name": "stderr",
     "output_type": "stream",
     "text": [
      "WARNING:absl:Found untraced functions such as activation_9_layer_call_and_return_conditional_losses, activation_9_layer_call_fn, activation_10_layer_call_and_return_conditional_losses, activation_10_layer_call_fn, activation_11_layer_call_and_return_conditional_losses while saving (showing 5 of 45). These functions will not be directly callable after loading.\n"
     ]
    },
    {
     "name": "stdout",
     "output_type": "stream",
     "text": [
      "INFO:tensorflow:Assets written to: .\\models\\wind_speed_prediction_8_layers.ckpt\\assets\n"
     ]
    },
    {
     "name": "stderr",
     "output_type": "stream",
     "text": [
      "INFO:tensorflow:Assets written to: .\\models\\wind_speed_prediction_8_layers.ckpt\\assets\n"
     ]
    },
    {
     "name": "stdout",
     "output_type": "stream",
     "text": [
      "..."
     ]
    },
    {
     "name": "stderr",
     "output_type": "stream",
     "text": [
      "WARNING:absl:Found untraced functions such as activation_9_layer_call_and_return_conditional_losses, activation_9_layer_call_fn, activation_10_layer_call_and_return_conditional_losses, activation_10_layer_call_fn, activation_11_layer_call_and_return_conditional_losses while saving (showing 5 of 45). These functions will not be directly callable after loading.\n"
     ]
    },
    {
     "name": "stdout",
     "output_type": "stream",
     "text": [
      "INFO:tensorflow:Assets written to: .\\models\\wind_speed_prediction_8_layers.ckpt\\assets\n"
     ]
    },
    {
     "name": "stderr",
     "output_type": "stream",
     "text": [
      "INFO:tensorflow:Assets written to: .\\models\\wind_speed_prediction_8_layers.ckpt\\assets\n"
     ]
    },
    {
     "name": "stdout",
     "output_type": "stream",
     "text": [
      "......\n",
      "Epoch: 100, loss:0.7022,  mae:0.7240,  mape:25.5678,  mse:0.7022,  val_loss:1.6781,  val_mae:1.0823,  val_mape:47.8172,  val_mse:1.6781,  \n",
      "....................................................................................................\n",
      "Epoch: 200, loss:1.2019,  mae:0.9253,  mape:44.8468,  mse:1.2019,  val_loss:1.6098,  val_mae:1.0650,  val_mape:45.2861,  val_mse:1.6098,  \n",
      "....................................................................................................\n",
      "Epoch: 300, loss:1.1987,  mae:0.8274,  mape:16.3174,  mse:1.1987,  val_loss:6.5962,  val_mae:2.3450,  val_mape:91.5620,  val_mse:6.5962,  \n",
      "....................................................................................................\n",
      "Epoch: 400, loss:0.2169,  mae:0.3295,  mape:7.3617,  mse:0.2169,  val_loss:2.8459,  val_mae:1.4499,  val_mape:60.4389,  val_mse:2.8459,  \n",
      "....................................................................................................\n",
      "Epoch: 500, loss:12.9995,  mae:2.1893,  mape:32.0753,  mse:12.9995,  val_loss:11.6869,  val_mae:3.2039,  val_mape:122.5904,  val_mse:11.6869,  \n",
      "....................................................................................................\n",
      "Epoch: 600, loss:1.6253,  mae:1.1672,  mape:28.4404,  mse:1.6253,  val_loss:7.2886,  val_mae:2.4264,  val_mape:95.4960,  val_mse:7.2886,  \n",
      "....................................................................................................\n",
      "Epoch: 700, loss:1.8963,  mae:0.9583,  mape:66.1295,  mse:1.8963,  val_loss:1.1045,  val_mae:0.8638,  val_mape:34.7980,  val_mse:1.1045,  \n",
      "....................................................................................................\n",
      "Epoch: 800, loss:0.3472,  mae:0.5519,  mape:27.5053,  mse:0.3472,  val_loss:1.6023,  val_mae:1.0261,  val_mape:42.6028,  val_mse:1.6023,  \n",
      "....................................................................................................\n",
      "Epoch: 900, loss:0.8421,  mae:0.8587,  mape:22.4292,  mse:0.8421,  val_loss:2.4075,  val_mae:1.2847,  val_mape:52.9919,  val_mse:2.4075,  \n",
      "....................................................................................................Wall time: 2min 26s\n"
     ]
    }
   ],
   "source": [
    "%%time\n",
    "\n",
    "EPOCHS = 1000\n",
    "batch_size = 6\n",
    "\n",
    "model = model_multilayer_perceptron_with_eight_hidden_layer()\n",
    "print('Here is a summary of this model: ')\n",
    "model.summary()\n",
    "\n",
    "with tf.device('/CPU:0'):\n",
    "    history = model.fit(\n",
    "        normed_train_data,\n",
    "        train_labels,\n",
    "        batch_size = batch_size,\n",
    "        epochs=EPOCHS,\n",
    "        verbose=0,\n",
    "        shuffle=True,\n",
    "        steps_per_epoch= 1,\n",
    "        validation_data = (normed_valid_dataset, valid_labels),\n",
    "        callbacks=[tfdocs.modeling.EpochDots(), ckpt_callback],\n",
    "    )\n"
   ]
  },
  {
   "cell_type": "code",
   "execution_count": 32,
   "id": "607358d9",
   "metadata": {},
   "outputs": [
    {
     "name": "stdout",
     "output_type": "stream",
     "text": [
      "Summary of the results after each epoch: \n"
     ]
    },
    {
     "data": {
      "text/html": [
       "<div>\n",
       "<style scoped>\n",
       "    .dataframe tbody tr th:only-of-type {\n",
       "        vertical-align: middle;\n",
       "    }\n",
       "\n",
       "    .dataframe tbody tr th {\n",
       "        vertical-align: top;\n",
       "    }\n",
       "\n",
       "    .dataframe thead th {\n",
       "        text-align: right;\n",
       "    }\n",
       "</style>\n",
       "<table border=\"1\" class=\"dataframe\">\n",
       "  <thead>\n",
       "    <tr style=\"text-align: right;\">\n",
       "      <th></th>\n",
       "      <th>loss</th>\n",
       "      <th>mae</th>\n",
       "      <th>mse</th>\n",
       "      <th>mape</th>\n",
       "      <th>val_loss</th>\n",
       "      <th>val_mae</th>\n",
       "      <th>val_mse</th>\n",
       "      <th>val_mape</th>\n",
       "      <th>epoch</th>\n",
       "    </tr>\n",
       "  </thead>\n",
       "  <tbody>\n",
       "    <tr>\n",
       "      <th>995</th>\n",
       "      <td>0.961781</td>\n",
       "      <td>0.932615</td>\n",
       "      <td>0.961781</td>\n",
       "      <td>28.619043</td>\n",
       "      <td>2.905627</td>\n",
       "      <td>1.407957</td>\n",
       "      <td>2.905627</td>\n",
       "      <td>58.293674</td>\n",
       "      <td>995</td>\n",
       "    </tr>\n",
       "    <tr>\n",
       "      <th>996</th>\n",
       "      <td>0.391504</td>\n",
       "      <td>0.520614</td>\n",
       "      <td>0.391504</td>\n",
       "      <td>14.236724</td>\n",
       "      <td>1.414008</td>\n",
       "      <td>0.973992</td>\n",
       "      <td>1.414008</td>\n",
       "      <td>38.615952</td>\n",
       "      <td>996</td>\n",
       "    </tr>\n",
       "    <tr>\n",
       "      <th>997</th>\n",
       "      <td>3.676431</td>\n",
       "      <td>1.463707</td>\n",
       "      <td>3.676431</td>\n",
       "      <td>38.314541</td>\n",
       "      <td>2.511246</td>\n",
       "      <td>1.316779</td>\n",
       "      <td>2.511246</td>\n",
       "      <td>54.262535</td>\n",
       "      <td>997</td>\n",
       "    </tr>\n",
       "    <tr>\n",
       "      <th>998</th>\n",
       "      <td>0.565193</td>\n",
       "      <td>0.670799</td>\n",
       "      <td>0.565193</td>\n",
       "      <td>20.348234</td>\n",
       "      <td>2.547240</td>\n",
       "      <td>1.331846</td>\n",
       "      <td>2.547240</td>\n",
       "      <td>55.337551</td>\n",
       "      <td>998</td>\n",
       "    </tr>\n",
       "    <tr>\n",
       "      <th>999</th>\n",
       "      <td>0.417723</td>\n",
       "      <td>0.603987</td>\n",
       "      <td>0.417723</td>\n",
       "      <td>14.767116</td>\n",
       "      <td>2.422772</td>\n",
       "      <td>1.291133</td>\n",
       "      <td>2.422772</td>\n",
       "      <td>53.870796</td>\n",
       "      <td>999</td>\n",
       "    </tr>\n",
       "  </tbody>\n",
       "</table>\n",
       "</div>"
      ],
      "text/plain": [
       "         loss       mae       mse       mape  val_loss   val_mae   val_mse  \\\n",
       "995  0.961781  0.932615  0.961781  28.619043  2.905627  1.407957  2.905627   \n",
       "996  0.391504  0.520614  0.391504  14.236724  1.414008  0.973992  1.414008   \n",
       "997  3.676431  1.463707  3.676431  38.314541  2.511246  1.316779  2.511246   \n",
       "998  0.565193  0.670799  0.565193  20.348234  2.547240  1.331846  2.547240   \n",
       "999  0.417723  0.603987  0.417723  14.767116  2.422772  1.291133  2.422772   \n",
       "\n",
       "      val_mape  epoch  \n",
       "995  58.293674    995  \n",
       "996  38.615952    996  \n",
       "997  54.262535    997  \n",
       "998  55.337551    998  \n",
       "999  53.870796    999  "
      ]
     },
     "execution_count": 32,
     "metadata": {},
     "output_type": "execute_result"
    }
   ],
   "source": [
    "print('Summary of the results after each epoch: ')\n",
    "hist = pd.DataFrame(history.history)\n",
    "hist['epoch'] = history.epoch\n",
    "hist.tail()"
   ]
  },
  {
   "cell_type": "code",
   "execution_count": 33,
   "id": "d2b7b4bf",
   "metadata": {},
   "outputs": [],
   "source": [
    "# Test the model after training\n",
    "example_result_test= model.predict(normed_test_data)"
   ]
  },
  {
   "cell_type": "markdown",
   "id": "79c80ab9",
   "metadata": {},
   "source": [
    "## Compare the predicted values with the actual values"
   ]
  },
  {
   "cell_type": "code",
   "execution_count": 35,
   "id": "1f6a10a5",
   "metadata": {},
   "outputs": [
    {
     "name": "stdout",
     "output_type": "stream",
     "text": [
      "Predicted Values\n",
      "[[5.002634 ]\n",
      " [5.121206 ]\n",
      " [5.6265283]\n",
      " [6.154653 ]\n",
      " [3.6047099]\n",
      " [2.2060683]\n",
      " [5.359452 ]\n",
      " [3.7459447]\n",
      " [3.254696 ]\n",
      " [5.23634  ]]\n",
      "\n",
      "Actual Values\n",
      "3.0\n",
      "3.0\n",
      "5.0\n",
      "6.0\n",
      "1.7\n",
      "2.8\n",
      "5.0\n",
      "4.0\n",
      "2.0\n",
      "3.0\n"
     ]
    }
   ],
   "source": [
    "print('Predicted Values')\n",
    "print(example_result_test[:10])\n",
    "print()\n",
    "print('Actual Values')\n",
    "print(test_labels[:10].to_string(index=False))"
   ]
  },
  {
   "cell_type": "code",
   "execution_count": 37,
   "id": "0bd009bb",
   "metadata": {},
   "outputs": [
    {
     "name": "stdout",
     "output_type": "stream",
     "text": [
      "Summary of the results after each epoch: \n"
     ]
    },
    {
     "data": {
      "text/html": [
       "<div>\n",
       "<style scoped>\n",
       "    .dataframe tbody tr th:only-of-type {\n",
       "        vertical-align: middle;\n",
       "    }\n",
       "\n",
       "    .dataframe tbody tr th {\n",
       "        vertical-align: top;\n",
       "    }\n",
       "\n",
       "    .dataframe thead th {\n",
       "        text-align: right;\n",
       "    }\n",
       "</style>\n",
       "<table border=\"1\" class=\"dataframe\">\n",
       "  <thead>\n",
       "    <tr style=\"text-align: right;\">\n",
       "      <th></th>\n",
       "      <th>loss</th>\n",
       "      <th>mae</th>\n",
       "      <th>mse</th>\n",
       "      <th>mape</th>\n",
       "      <th>val_loss</th>\n",
       "      <th>val_mae</th>\n",
       "      <th>val_mse</th>\n",
       "      <th>val_mape</th>\n",
       "      <th>epoch</th>\n",
       "    </tr>\n",
       "  </thead>\n",
       "  <tbody>\n",
       "    <tr>\n",
       "      <th>995</th>\n",
       "      <td>0.961781</td>\n",
       "      <td>0.932615</td>\n",
       "      <td>0.961781</td>\n",
       "      <td>28.619043</td>\n",
       "      <td>2.905627</td>\n",
       "      <td>1.407957</td>\n",
       "      <td>2.905627</td>\n",
       "      <td>58.293674</td>\n",
       "      <td>995</td>\n",
       "    </tr>\n",
       "    <tr>\n",
       "      <th>996</th>\n",
       "      <td>0.391504</td>\n",
       "      <td>0.520614</td>\n",
       "      <td>0.391504</td>\n",
       "      <td>14.236724</td>\n",
       "      <td>1.414008</td>\n",
       "      <td>0.973992</td>\n",
       "      <td>1.414008</td>\n",
       "      <td>38.615952</td>\n",
       "      <td>996</td>\n",
       "    </tr>\n",
       "    <tr>\n",
       "      <th>997</th>\n",
       "      <td>3.676431</td>\n",
       "      <td>1.463707</td>\n",
       "      <td>3.676431</td>\n",
       "      <td>38.314541</td>\n",
       "      <td>2.511246</td>\n",
       "      <td>1.316779</td>\n",
       "      <td>2.511246</td>\n",
       "      <td>54.262535</td>\n",
       "      <td>997</td>\n",
       "    </tr>\n",
       "    <tr>\n",
       "      <th>998</th>\n",
       "      <td>0.565193</td>\n",
       "      <td>0.670799</td>\n",
       "      <td>0.565193</td>\n",
       "      <td>20.348234</td>\n",
       "      <td>2.547240</td>\n",
       "      <td>1.331846</td>\n",
       "      <td>2.547240</td>\n",
       "      <td>55.337551</td>\n",
       "      <td>998</td>\n",
       "    </tr>\n",
       "    <tr>\n",
       "      <th>999</th>\n",
       "      <td>0.417723</td>\n",
       "      <td>0.603987</td>\n",
       "      <td>0.417723</td>\n",
       "      <td>14.767116</td>\n",
       "      <td>2.422772</td>\n",
       "      <td>1.291133</td>\n",
       "      <td>2.422772</td>\n",
       "      <td>53.870796</td>\n",
       "      <td>999</td>\n",
       "    </tr>\n",
       "  </tbody>\n",
       "</table>\n",
       "</div>"
      ],
      "text/plain": [
       "         loss       mae       mse       mape  val_loss   val_mae   val_mse  \\\n",
       "995  0.961781  0.932615  0.961781  28.619043  2.905627  1.407957  2.905627   \n",
       "996  0.391504  0.520614  0.391504  14.236724  1.414008  0.973992  1.414008   \n",
       "997  3.676431  1.463707  3.676431  38.314541  2.511246  1.316779  2.511246   \n",
       "998  0.565193  0.670799  0.565193  20.348234  2.547240  1.331846  2.547240   \n",
       "999  0.417723  0.603987  0.417723  14.767116  2.422772  1.291133  2.422772   \n",
       "\n",
       "      val_mape  epoch  \n",
       "995  58.293674    995  \n",
       "996  38.615952    996  \n",
       "997  54.262535    997  \n",
       "998  55.337551    998  \n",
       "999  53.870796    999  "
      ]
     },
     "execution_count": 37,
     "metadata": {},
     "output_type": "execute_result"
    }
   ],
   "source": [
    "print('Summary of the results after each epoch: ')\n",
    "hist = pd.DataFrame(history.history)\n",
    "hist['epoch'] = history.epoch\n",
    "hist.tail()"
   ]
  },
  {
   "cell_type": "markdown",
   "id": "067242de",
   "metadata": {},
   "source": [
    "## See how the training went by plotting the loss/mse across epochs"
   ]
  },
  {
   "cell_type": "code",
   "execution_count": 38,
   "id": "a54a2743",
   "metadata": {},
   "outputs": [
    {
     "data": {
      "text/plain": [
       "Text(0, 0.5, 'MAE [wind-speed]')"
      ]
     },
     "execution_count": 38,
     "metadata": {},
     "output_type": "execute_result"
    },
    {
     "data": {
      "image/png": "[encoded data removed]",
      "text/plain": [
       "<Figure size 432x288 with 1 Axes>"
      ]
     },
     "metadata": {
      "needs_background": "light"
     },
     "output_type": "display_data"
    }
   ],
   "source": [
    "plotter = tfdocs.plots.HistoryPlotter(smoothing_std=2)\n",
    "\n",
    "plotter.plot({'Basic': history}, metric = 'mae')\n",
    "plt.ylim([0,5])\n",
    "plt.ylabel('MAE [wind-speed]')"
   ]
  },
  {
   "cell_type": "code",
   "execution_count": 39,
   "id": "e1b3bd07",
   "metadata": {},
   "outputs": [
    {
     "data": {
      "text/plain": [
       "Text(0, 0.5, 'MSE [wind-speed]')"
      ]
     },
     "execution_count": 39,
     "metadata": {},
     "output_type": "execute_result"
    },
    {
     "data": {
      "image/png": "[encoded data removed]",
      "text/plain": [
       "<Figure size 432x288 with 1 Axes>"
      ]
     },
     "metadata": {
      "needs_background": "light"
     },
     "output_type": "display_data"
    }
   ],
   "source": [
    "plotter.plot({'Basic': history}, metric = 'mse')\n",
    "plt.ylim([0,5])\n",
    "plt.ylabel('MSE [wind-speed]')"
   ]
  },
  {
   "cell_type": "code",
   "execution_count": 40,
   "id": "707da959",
   "metadata": {},
   "outputs": [
    {
     "name": "stdout",
     "output_type": "stream",
     "text": [
      "Error Rate on Train Split: \n",
      "6/6 - 0s - loss: 1.2068 - mae: 0.7687 - mse: 1.2068 - mape: 29.2428\n",
      "Train set Mean Abs Error :  0.77\n",
      "Train set Mean Square Error :  1.21\n"
     ]
    }
   ],
   "source": [
    "print('Error Rate on Train Split: ')\n",
    "loss, mae, mse, mape = model.evaluate(normed_train_data, train_labels, verbose=2)\n",
    "\n",
    "print('Train set Mean Abs Error : {:5.2f}'.format(mae))\n",
    "print('Train set Mean Square Error : {:5.2f}'.format(mse))"
   ]
  },
  {
   "cell_type": "code",
   "execution_count": 41,
   "id": "e1a2efb7",
   "metadata": {},
   "outputs": [
    {
     "name": "stdout",
     "output_type": "stream",
     "text": [
      "Error Rate on Evaluation  Split: \n",
      "2/2 - 0s - loss: 2.4228 - mae: 1.2911 - mse: 2.4228 - mape: 53.8708\n",
      "Validation set Mean Abs Error :  1.29\n",
      "Validation set Mean Square Error :  2.42\n"
     ]
    }
   ],
   "source": [
    "print('Error Rate on Evaluation  Split: ')\n",
    "loss, mae, mse, mape = model.evaluate(normed_valid_dataset, valid_labels, verbose=2)\n",
    "\n",
    "print('Validation set Mean Abs Error : {:5.2f}'.format(mae))\n",
    "print('Validation set Mean Square Error : {:5.2f}'.format(mse))"
   ]
  },
  {
   "cell_type": "code",
   "execution_count": 42,
   "id": "61494ba9",
   "metadata": {},
   "outputs": [
    {
     "name": "stdout",
     "output_type": "stream",
     "text": [
      "Error Rate on Test  Split: \n",
      "2/2 - 0s - loss: 2.1480 - mae: 1.1661 - mse: 2.1480 - mape: 81444560.0000\n",
      "Testing set Mean Abs Error :  1.17\n",
      "Testing set Mean Square Error :  2.15\n"
     ]
    }
   ],
   "source": [
    "print('Error Rate on Test  Split: ')\n",
    "loss, mae, mse, mape = model.evaluate(normed_test_data, test_labels, verbose=2)\n",
    "\n",
    "print('Testing set Mean Abs Error : {:5.2f}'.format(mae))\n",
    "print('Testing set Mean Square Error : {:5.2f}'.format(mse))"
   ]
  },
  {
   "cell_type": "code",
   "execution_count": 43,
   "id": "29352c0b",
   "metadata": {},
   "outputs": [
    {
     "data": {
      "image/png": "[encoded data removed]",
      "text/plain": [
       "<Figure size 432x288 with 1 Axes>"
      ]
     },
     "metadata": {
      "needs_background": "light"
     },
     "output_type": "display_data"
    }
   ],
   "source": [
    "train_predictions = model.predict(normed_train_data).flatten()\n",
    "\n",
    "a = plt.axes(aspect='equal')\n",
    "plt.scatter(train_labels, train_predictions)\n",
    "plt.xlabel('True Values [wind-speed]')\n",
    "plt.ylabel('Predictions [wind-speed]')\n",
    "lims = [0, 5]\n",
    "plt.xlim(lims)\n",
    "plt.ylim(lims)\n",
    "_ = plt.plot(lims, lims)"
   ]
  },
  {
   "cell_type": "code",
   "execution_count": 44,
   "id": "44db45da",
   "metadata": {},
   "outputs": [
    {
     "data": {
      "image/png": "[encoded data removed]",
      "text/plain": [
       "<Figure size 432x288 with 1 Axes>"
      ]
     },
     "metadata": {
      "needs_background": "light"
     },
     "output_type": "display_data"
    }
   ],
   "source": [
    "test_predictions = model.predict(normed_test_data).flatten()\n",
    "\n",
    "a = plt.axes(aspect='equal')\n",
    "plt.scatter(test_labels, test_predictions)\n",
    "plt.xlabel('True Values [wind-speed]')\n",
    "plt.ylabel('Predictions [wind-speed]')\n",
    "lims = [0, 5]\n",
    "plt.xlim(lims)\n",
    "plt.ylim(lims)\n",
    "_ = plt.plot(lims, lims)"
   ]
  },
  {
   "cell_type": "code",
   "execution_count": 45,
   "id": "6f5063bc",
   "metadata": {},
   "outputs": [
    {
     "data": {
      "image/png": "[encoded data removed]",
      "text/plain": [
       "<Figure size 432x288 with 1 Axes>"
      ]
     },
     "metadata": {
      "needs_background": "light"
     },
     "output_type": "display_data"
    }
   ],
   "source": [
    "# error distribution.\n",
    "error = test_predictions - test_labels\n",
    "plt.hist(error, bins = 25)\n",
    "plt.xlabel(\"Prediction Error [medv]\")\n",
    "_ = plt.ylabel(\"count\")"
   ]
  },
  {
   "cell_type": "code",
   "execution_count": null,
   "id": "864e8209",
   "metadata": {},
   "outputs": [],
   "source": []
  }
 ],
 "metadata": {
  "kernelspec": {
   "display_name": "Python 3 (ipykernel)",
   "language": "python",
   "name": "python3"
  },
  "language_info": {
   "codemirror_mode": {
    "name": "ipython",
    "version": 3
   },
   "file_extension": ".py",
   "mimetype": "text/x-python",
   "name": "python",
   "nbconvert_exporter": "python",
   "pygments_lexer": "ipython3",
   "version": "3.9.6"
  }
 },
 "nbformat": 4,
 "nbformat_minor": 5
}
